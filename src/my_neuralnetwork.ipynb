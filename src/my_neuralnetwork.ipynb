{
 "cells": [
  {
   "cell_type": "markdown",
   "metadata": {},
   "source": [
    "## Hand-coded neural network - currently only coded for continuous targets, regression-style."
   ]
  },
  {
   "cell_type": "code",
   "execution_count": 1,
   "metadata": {},
   "outputs": [
    {
     "data": {
      "text/html": [
       "        <script type=\"text/javascript\">\n",
       "        window.PlotlyConfig = {MathJaxConfig: 'local'};\n",
       "        if (window.MathJax) {MathJax.Hub.Config({SVG: {font: \"STIX-Web\"}});}\n",
       "        if (typeof require !== 'undefined') {\n",
       "        require.undef(\"plotly\");\n",
       "        requirejs.config({\n",
       "            paths: {\n",
       "                'plotly': ['https://cdn.plot.ly/plotly-latest.min']\n",
       "            }\n",
       "        });\n",
       "        require(['plotly'], function(Plotly) {\n",
       "            window._Plotly = Plotly;\n",
       "        });\n",
       "        }\n",
       "        </script>\n",
       "        "
      ]
     },
     "metadata": {},
     "output_type": "display_data"
    },
    {
     "data": {
      "application/vnd.plotly.v1+json": {
       "config": {
        "linkText": "Export to plot.ly",
        "plotlyServerURL": "https://plot.ly",
        "showLink": false
       },
       "data": [
        {
         "mode": "markers",
         "type": "scatter",
         "x": [
          1,
          4,
          7
         ],
         "y": [
          7,
          5,
          7
         ]
        },
        {
         "mode": "lines",
         "type": "scatter",
         "x": [
          1,
          2,
          3,
          4,
          5,
          6,
          7
         ],
         "y": [
          3,
          2,
          1,
          1,
          1,
          2,
          3
         ]
        }
       ],
       "layout": {
        "autosize": false,
        "height": 450,
        "showlegend": false,
        "template": {
         "data": {
          "bar": [
           {
            "error_x": {
             "color": "#2a3f5f"
            },
            "error_y": {
             "color": "#2a3f5f"
            },
            "marker": {
             "line": {
              "color": "#E5ECF6",
              "width": 0.5
             }
            },
            "type": "bar"
           }
          ],
          "barpolar": [
           {
            "marker": {
             "line": {
              "color": "#E5ECF6",
              "width": 0.5
             }
            },
            "type": "barpolar"
           }
          ],
          "carpet": [
           {
            "aaxis": {
             "endlinecolor": "#2a3f5f",
             "gridcolor": "white",
             "linecolor": "white",
             "minorgridcolor": "white",
             "startlinecolor": "#2a3f5f"
            },
            "baxis": {
             "endlinecolor": "#2a3f5f",
             "gridcolor": "white",
             "linecolor": "white",
             "minorgridcolor": "white",
             "startlinecolor": "#2a3f5f"
            },
            "type": "carpet"
           }
          ],
          "choropleth": [
           {
            "colorbar": {
             "outlinewidth": 0,
             "ticks": ""
            },
            "type": "choropleth"
           }
          ],
          "contour": [
           {
            "colorbar": {
             "outlinewidth": 0,
             "ticks": ""
            },
            "colorscale": [
             [
              0,
              "#0d0887"
             ],
             [
              0.1111111111111111,
              "#46039f"
             ],
             [
              0.2222222222222222,
              "#7201a8"
             ],
             [
              0.3333333333333333,
              "#9c179e"
             ],
             [
              0.4444444444444444,
              "#bd3786"
             ],
             [
              0.5555555555555556,
              "#d8576b"
             ],
             [
              0.6666666666666666,
              "#ed7953"
             ],
             [
              0.7777777777777778,
              "#fb9f3a"
             ],
             [
              0.8888888888888888,
              "#fdca26"
             ],
             [
              1,
              "#f0f921"
             ]
            ],
            "type": "contour"
           }
          ],
          "contourcarpet": [
           {
            "colorbar": {
             "outlinewidth": 0,
             "ticks": ""
            },
            "type": "contourcarpet"
           }
          ],
          "heatmap": [
           {
            "colorbar": {
             "outlinewidth": 0,
             "ticks": ""
            },
            "colorscale": [
             [
              0,
              "#0d0887"
             ],
             [
              0.1111111111111111,
              "#46039f"
             ],
             [
              0.2222222222222222,
              "#7201a8"
             ],
             [
              0.3333333333333333,
              "#9c179e"
             ],
             [
              0.4444444444444444,
              "#bd3786"
             ],
             [
              0.5555555555555556,
              "#d8576b"
             ],
             [
              0.6666666666666666,
              "#ed7953"
             ],
             [
              0.7777777777777778,
              "#fb9f3a"
             ],
             [
              0.8888888888888888,
              "#fdca26"
             ],
             [
              1,
              "#f0f921"
             ]
            ],
            "type": "heatmap"
           }
          ],
          "heatmapgl": [
           {
            "colorbar": {
             "outlinewidth": 0,
             "ticks": ""
            },
            "colorscale": [
             [
              0,
              "#0d0887"
             ],
             [
              0.1111111111111111,
              "#46039f"
             ],
             [
              0.2222222222222222,
              "#7201a8"
             ],
             [
              0.3333333333333333,
              "#9c179e"
             ],
             [
              0.4444444444444444,
              "#bd3786"
             ],
             [
              0.5555555555555556,
              "#d8576b"
             ],
             [
              0.6666666666666666,
              "#ed7953"
             ],
             [
              0.7777777777777778,
              "#fb9f3a"
             ],
             [
              0.8888888888888888,
              "#fdca26"
             ],
             [
              1,
              "#f0f921"
             ]
            ],
            "type": "heatmapgl"
           }
          ],
          "histogram": [
           {
            "marker": {
             "colorbar": {
              "outlinewidth": 0,
              "ticks": ""
             }
            },
            "type": "histogram"
           }
          ],
          "histogram2d": [
           {
            "colorbar": {
             "outlinewidth": 0,
             "ticks": ""
            },
            "colorscale": [
             [
              0,
              "#0d0887"
             ],
             [
              0.1111111111111111,
              "#46039f"
             ],
             [
              0.2222222222222222,
              "#7201a8"
             ],
             [
              0.3333333333333333,
              "#9c179e"
             ],
             [
              0.4444444444444444,
              "#bd3786"
             ],
             [
              0.5555555555555556,
              "#d8576b"
             ],
             [
              0.6666666666666666,
              "#ed7953"
             ],
             [
              0.7777777777777778,
              "#fb9f3a"
             ],
             [
              0.8888888888888888,
              "#fdca26"
             ],
             [
              1,
              "#f0f921"
             ]
            ],
            "type": "histogram2d"
           }
          ],
          "histogram2dcontour": [
           {
            "colorbar": {
             "outlinewidth": 0,
             "ticks": ""
            },
            "colorscale": [
             [
              0,
              "#0d0887"
             ],
             [
              0.1111111111111111,
              "#46039f"
             ],
             [
              0.2222222222222222,
              "#7201a8"
             ],
             [
              0.3333333333333333,
              "#9c179e"
             ],
             [
              0.4444444444444444,
              "#bd3786"
             ],
             [
              0.5555555555555556,
              "#d8576b"
             ],
             [
              0.6666666666666666,
              "#ed7953"
             ],
             [
              0.7777777777777778,
              "#fb9f3a"
             ],
             [
              0.8888888888888888,
              "#fdca26"
             ],
             [
              1,
              "#f0f921"
             ]
            ],
            "type": "histogram2dcontour"
           }
          ],
          "mesh3d": [
           {
            "colorbar": {
             "outlinewidth": 0,
             "ticks": ""
            },
            "type": "mesh3d"
           }
          ],
          "parcoords": [
           {
            "line": {
             "colorbar": {
              "outlinewidth": 0,
              "ticks": ""
             }
            },
            "type": "parcoords"
           }
          ],
          "pie": [
           {
            "automargin": true,
            "type": "pie"
           }
          ],
          "scatter": [
           {
            "marker": {
             "colorbar": {
              "outlinewidth": 0,
              "ticks": ""
             }
            },
            "type": "scatter"
           }
          ],
          "scatter3d": [
           {
            "line": {
             "colorbar": {
              "outlinewidth": 0,
              "ticks": ""
             }
            },
            "marker": {
             "colorbar": {
              "outlinewidth": 0,
              "ticks": ""
             }
            },
            "type": "scatter3d"
           }
          ],
          "scattercarpet": [
           {
            "marker": {
             "colorbar": {
              "outlinewidth": 0,
              "ticks": ""
             }
            },
            "type": "scattercarpet"
           }
          ],
          "scattergeo": [
           {
            "marker": {
             "colorbar": {
              "outlinewidth": 0,
              "ticks": ""
             }
            },
            "type": "scattergeo"
           }
          ],
          "scattergl": [
           {
            "marker": {
             "colorbar": {
              "outlinewidth": 0,
              "ticks": ""
             }
            },
            "type": "scattergl"
           }
          ],
          "scattermapbox": [
           {
            "marker": {
             "colorbar": {
              "outlinewidth": 0,
              "ticks": ""
             }
            },
            "type": "scattermapbox"
           }
          ],
          "scatterpolar": [
           {
            "marker": {
             "colorbar": {
              "outlinewidth": 0,
              "ticks": ""
             }
            },
            "type": "scatterpolar"
           }
          ],
          "scatterpolargl": [
           {
            "marker": {
             "colorbar": {
              "outlinewidth": 0,
              "ticks": ""
             }
            },
            "type": "scatterpolargl"
           }
          ],
          "scatterternary": [
           {
            "marker": {
             "colorbar": {
              "outlinewidth": 0,
              "ticks": ""
             }
            },
            "type": "scatterternary"
           }
          ],
          "surface": [
           {
            "colorbar": {
             "outlinewidth": 0,
             "ticks": ""
            },
            "colorscale": [
             [
              0,
              "#0d0887"
             ],
             [
              0.1111111111111111,
              "#46039f"
             ],
             [
              0.2222222222222222,
              "#7201a8"
             ],
             [
              0.3333333333333333,
              "#9c179e"
             ],
             [
              0.4444444444444444,
              "#bd3786"
             ],
             [
              0.5555555555555556,
              "#d8576b"
             ],
             [
              0.6666666666666666,
              "#ed7953"
             ],
             [
              0.7777777777777778,
              "#fb9f3a"
             ],
             [
              0.8888888888888888,
              "#fdca26"
             ],
             [
              1,
              "#f0f921"
             ]
            ],
            "type": "surface"
           }
          ],
          "table": [
           {
            "cells": {
             "fill": {
              "color": "#EBF0F8"
             },
             "line": {
              "color": "white"
             }
            },
            "header": {
             "fill": {
              "color": "#C8D4E3"
             },
             "line": {
              "color": "white"
             }
            },
            "type": "table"
           }
          ]
         },
         "layout": {
          "annotationdefaults": {
           "arrowcolor": "#2a3f5f",
           "arrowhead": 0,
           "arrowwidth": 1
          },
          "coloraxis": {
           "colorbar": {
            "outlinewidth": 0,
            "ticks": ""
           }
          },
          "colorscale": {
           "diverging": [
            [
             0,
             "#8e0152"
            ],
            [
             0.1,
             "#c51b7d"
            ],
            [
             0.2,
             "#de77ae"
            ],
            [
             0.3,
             "#f1b6da"
            ],
            [
             0.4,
             "#fde0ef"
            ],
            [
             0.5,
             "#f7f7f7"
            ],
            [
             0.6,
             "#e6f5d0"
            ],
            [
             0.7,
             "#b8e186"
            ],
            [
             0.8,
             "#7fbc41"
            ],
            [
             0.9,
             "#4d9221"
            ],
            [
             1,
             "#276419"
            ]
           ],
           "sequential": [
            [
             0,
             "#0d0887"
            ],
            [
             0.1111111111111111,
             "#46039f"
            ],
            [
             0.2222222222222222,
             "#7201a8"
            ],
            [
             0.3333333333333333,
             "#9c179e"
            ],
            [
             0.4444444444444444,
             "#bd3786"
            ],
            [
             0.5555555555555556,
             "#d8576b"
            ],
            [
             0.6666666666666666,
             "#ed7953"
            ],
            [
             0.7777777777777778,
             "#fb9f3a"
            ],
            [
             0.8888888888888888,
             "#fdca26"
            ],
            [
             1,
             "#f0f921"
            ]
           ],
           "sequentialminus": [
            [
             0,
             "#0d0887"
            ],
            [
             0.1111111111111111,
             "#46039f"
            ],
            [
             0.2222222222222222,
             "#7201a8"
            ],
            [
             0.3333333333333333,
             "#9c179e"
            ],
            [
             0.4444444444444444,
             "#bd3786"
            ],
            [
             0.5555555555555556,
             "#d8576b"
            ],
            [
             0.6666666666666666,
             "#ed7953"
            ],
            [
             0.7777777777777778,
             "#fb9f3a"
            ],
            [
             0.8888888888888888,
             "#fdca26"
            ],
            [
             1,
             "#f0f921"
            ]
           ]
          },
          "colorway": [
           "#636efa",
           "#EF553B",
           "#00cc96",
           "#ab63fa",
           "#FFA15A",
           "#19d3f3",
           "#FF6692",
           "#B6E880",
           "#FF97FF",
           "#FECB52"
          ],
          "font": {
           "color": "#2a3f5f"
          },
          "geo": {
           "bgcolor": "white",
           "lakecolor": "white",
           "landcolor": "#E5ECF6",
           "showlakes": true,
           "showland": true,
           "subunitcolor": "white"
          },
          "hoverlabel": {
           "align": "left"
          },
          "hovermode": "closest",
          "mapbox": {
           "style": "light"
          },
          "paper_bgcolor": "white",
          "plot_bgcolor": "#E5ECF6",
          "polar": {
           "angularaxis": {
            "gridcolor": "white",
            "linecolor": "white",
            "ticks": ""
           },
           "bgcolor": "#E5ECF6",
           "radialaxis": {
            "gridcolor": "white",
            "linecolor": "white",
            "ticks": ""
           }
          },
          "scene": {
           "xaxis": {
            "backgroundcolor": "#E5ECF6",
            "gridcolor": "white",
            "gridwidth": 2,
            "linecolor": "white",
            "showbackground": true,
            "ticks": "",
            "zerolinecolor": "white"
           },
           "yaxis": {
            "backgroundcolor": "#E5ECF6",
            "gridcolor": "white",
            "gridwidth": 2,
            "linecolor": "white",
            "showbackground": true,
            "ticks": "",
            "zerolinecolor": "white"
           },
           "zaxis": {
            "backgroundcolor": "#E5ECF6",
            "gridcolor": "white",
            "gridwidth": 2,
            "linecolor": "white",
            "showbackground": true,
            "ticks": "",
            "zerolinecolor": "white"
           }
          },
          "shapedefaults": {
           "line": {
            "color": "#2a3f5f"
           }
          },
          "ternary": {
           "aaxis": {
            "gridcolor": "white",
            "linecolor": "white",
            "ticks": ""
           },
           "baxis": {
            "gridcolor": "white",
            "linecolor": "white",
            "ticks": ""
           },
           "bgcolor": "#E5ECF6",
           "caxis": {
            "gridcolor": "white",
            "linecolor": "white",
            "ticks": ""
           }
          },
          "title": {
           "x": 0.05
          },
          "xaxis": {
           "automargin": true,
           "gridcolor": "white",
           "linecolor": "white",
           "ticks": "",
           "title": {
            "standoff": 15
           },
           "zerolinecolor": "white",
           "zerolinewidth": 2
          },
          "yaxis": {
           "automargin": true,
           "gridcolor": "white",
           "linecolor": "white",
           "ticks": "",
           "title": {
            "standoff": 15
           },
           "zerolinecolor": "white",
           "zerolinewidth": 2
          }
         }
        },
        "title": {
         "text": "Initialization Makes Me Smile<br>(and it's fun to show off a little...)"
        },
        "width": 500,
        "xaxis": {
         "autorange": true,
         "range": [
          0.5829145728643216,
          7.417085427135678
         ],
         "showgrid": false,
         "showticklabels": false,
         "type": "linear"
        },
        "yaxis": {
         "autorange": true,
         "range": [
          0.6614420062695925,
          7.432601880877743
         ],
         "showgrid": false,
         "showticklabels": false,
         "type": "linear"
        }
       }
      },
      "image/png": "[encoded data removed]",
      "text/html": [
       "<div>\n",
       "        \n",
       "        \n",
       "            <div id=\"b7d9bb96-f4a4-42d6-a8d1-44d56753f799\" class=\"plotly-graph-div\" style=\"height:525px; width:500px;\"></div>\n",
       "            <script type=\"text/javascript\">\n",
       "                require([\"plotly\"], function(Plotly) {\n",
       "                    window.PLOTLYENV=window.PLOTLYENV || {};\n",
       "                    \n",
       "                if (document.getElementById(\"b7d9bb96-f4a4-42d6-a8d1-44d56753f799\")) {\n",
       "                    Plotly.newPlot(\n",
       "                        'b7d9bb96-f4a4-42d6-a8d1-44d56753f799',\n",
       "                        [{\"mode\": \"markers\", \"type\": \"scatter\", \"x\": [1, 4, 7], \"y\": [7, 5, 7]}, {\"mode\": \"lines\", \"type\": \"scatter\", \"x\": [1, 2, 3, 4, 5, 6, 7], \"y\": [3, 2, 1, 1, 1, 2, 3]}],\n",
       "                        {\"autosize\": false, \"showlegend\": false, \"template\": {\"data\": {\"bar\": [{\"error_x\": {\"color\": \"#2a3f5f\"}, \"error_y\": {\"color\": \"#2a3f5f\"}, \"marker\": {\"line\": {\"color\": \"#E5ECF6\", \"width\": 0.5}}, \"type\": \"bar\"}], \"barpolar\": [{\"marker\": {\"line\": {\"color\": \"#E5ECF6\", \"width\": 0.5}}, \"type\": \"barpolar\"}], \"carpet\": [{\"aaxis\": {\"endlinecolor\": \"#2a3f5f\", \"gridcolor\": \"white\", \"linecolor\": \"white\", \"minorgridcolor\": \"white\", \"startlinecolor\": \"#2a3f5f\"}, \"baxis\": {\"endlinecolor\": \"#2a3f5f\", \"gridcolor\": \"white\", \"linecolor\": \"white\", \"minorgridcolor\": \"white\", \"startlinecolor\": \"#2a3f5f\"}, \"type\": \"carpet\"}], \"choropleth\": [{\"colorbar\": {\"outlinewidth\": 0, \"ticks\": \"\"}, \"type\": \"choropleth\"}], \"contour\": [{\"colorbar\": {\"outlinewidth\": 0, \"ticks\": \"\"}, \"colorscale\": [[0.0, \"#0d0887\"], [0.1111111111111111, \"#46039f\"], [0.2222222222222222, \"#7201a8\"], [0.3333333333333333, \"#9c179e\"], [0.4444444444444444, \"#bd3786\"], [0.5555555555555556, \"#d8576b\"], [0.6666666666666666, \"#ed7953\"], [0.7777777777777778, \"#fb9f3a\"], [0.8888888888888888, \"#fdca26\"], [1.0, \"#f0f921\"]], \"type\": \"contour\"}], \"contourcarpet\": [{\"colorbar\": {\"outlinewidth\": 0, \"ticks\": \"\"}, \"type\": \"contourcarpet\"}], \"heatmap\": [{\"colorbar\": {\"outlinewidth\": 0, \"ticks\": \"\"}, \"colorscale\": [[0.0, \"#0d0887\"], [0.1111111111111111, \"#46039f\"], [0.2222222222222222, \"#7201a8\"], [0.3333333333333333, \"#9c179e\"], [0.4444444444444444, \"#bd3786\"], [0.5555555555555556, \"#d8576b\"], [0.6666666666666666, \"#ed7953\"], [0.7777777777777778, \"#fb9f3a\"], [0.8888888888888888, \"#fdca26\"], [1.0, \"#f0f921\"]], \"type\": \"heatmap\"}], \"heatmapgl\": [{\"colorbar\": {\"outlinewidth\": 0, \"ticks\": \"\"}, \"colorscale\": [[0.0, \"#0d0887\"], [0.1111111111111111, \"#46039f\"], [0.2222222222222222, \"#7201a8\"], [0.3333333333333333, \"#9c179e\"], [0.4444444444444444, \"#bd3786\"], [0.5555555555555556, \"#d8576b\"], [0.6666666666666666, \"#ed7953\"], [0.7777777777777778, \"#fb9f3a\"], [0.8888888888888888, \"#fdca26\"], [1.0, \"#f0f921\"]], \"type\": \"heatmapgl\"}], \"histogram\": [{\"marker\": {\"colorbar\": {\"outlinewidth\": 0, \"ticks\": \"\"}}, \"type\": \"histogram\"}], \"histogram2d\": [{\"colorbar\": {\"outlinewidth\": 0, \"ticks\": \"\"}, \"colorscale\": [[0.0, \"#0d0887\"], [0.1111111111111111, \"#46039f\"], [0.2222222222222222, \"#7201a8\"], [0.3333333333333333, \"#9c179e\"], [0.4444444444444444, \"#bd3786\"], [0.5555555555555556, \"#d8576b\"], [0.6666666666666666, \"#ed7953\"], [0.7777777777777778, \"#fb9f3a\"], [0.8888888888888888, \"#fdca26\"], [1.0, \"#f0f921\"]], \"type\": \"histogram2d\"}], \"histogram2dcontour\": [{\"colorbar\": {\"outlinewidth\": 0, \"ticks\": \"\"}, \"colorscale\": [[0.0, \"#0d0887\"], [0.1111111111111111, \"#46039f\"], [0.2222222222222222, \"#7201a8\"], [0.3333333333333333, \"#9c179e\"], [0.4444444444444444, \"#bd3786\"], [0.5555555555555556, \"#d8576b\"], [0.6666666666666666, \"#ed7953\"], [0.7777777777777778, \"#fb9f3a\"], [0.8888888888888888, \"#fdca26\"], [1.0, \"#f0f921\"]], \"type\": \"histogram2dcontour\"}], \"mesh3d\": [{\"colorbar\": {\"outlinewidth\": 0, \"ticks\": \"\"}, \"type\": \"mesh3d\"}], \"parcoords\": [{\"line\": {\"colorbar\": {\"outlinewidth\": 0, \"ticks\": \"\"}}, \"type\": \"parcoords\"}], \"pie\": [{\"automargin\": true, \"type\": \"pie\"}], \"scatter\": [{\"marker\": {\"colorbar\": {\"outlinewidth\": 0, \"ticks\": \"\"}}, \"type\": \"scatter\"}], \"scatter3d\": [{\"line\": {\"colorbar\": {\"outlinewidth\": 0, \"ticks\": \"\"}}, \"marker\": {\"colorbar\": {\"outlinewidth\": 0, \"ticks\": \"\"}}, \"type\": \"scatter3d\"}], \"scattercarpet\": [{\"marker\": {\"colorbar\": {\"outlinewidth\": 0, \"ticks\": \"\"}}, \"type\": \"scattercarpet\"}], \"scattergeo\": [{\"marker\": {\"colorbar\": {\"outlinewidth\": 0, \"ticks\": \"\"}}, \"type\": \"scattergeo\"}], \"scattergl\": [{\"marker\": {\"colorbar\": {\"outlinewidth\": 0, \"ticks\": \"\"}}, \"type\": \"scattergl\"}], \"scattermapbox\": [{\"marker\": {\"colorbar\": {\"outlinewidth\": 0, \"ticks\": \"\"}}, \"type\": \"scattermapbox\"}], \"scatterpolar\": [{\"marker\": {\"colorbar\": {\"outlinewidth\": 0, \"ticks\": \"\"}}, \"type\": \"scatterpolar\"}], \"scatterpolargl\": [{\"marker\": {\"colorbar\": {\"outlinewidth\": 0, \"ticks\": \"\"}}, \"type\": \"scatterpolargl\"}], \"scatterternary\": [{\"marker\": {\"colorbar\": {\"outlinewidth\": 0, \"ticks\": \"\"}}, \"type\": \"scatterternary\"}], \"surface\": [{\"colorbar\": {\"outlinewidth\": 0, \"ticks\": \"\"}, \"colorscale\": [[0.0, \"#0d0887\"], [0.1111111111111111, \"#46039f\"], [0.2222222222222222, \"#7201a8\"], [0.3333333333333333, \"#9c179e\"], [0.4444444444444444, \"#bd3786\"], [0.5555555555555556, \"#d8576b\"], [0.6666666666666666, \"#ed7953\"], [0.7777777777777778, \"#fb9f3a\"], [0.8888888888888888, \"#fdca26\"], [1.0, \"#f0f921\"]], \"type\": \"surface\"}], \"table\": [{\"cells\": {\"fill\": {\"color\": \"#EBF0F8\"}, \"line\": {\"color\": \"white\"}}, \"header\": {\"fill\": {\"color\": \"#C8D4E3\"}, \"line\": {\"color\": \"white\"}}, \"type\": \"table\"}]}, \"layout\": {\"annotationdefaults\": {\"arrowcolor\": \"#2a3f5f\", \"arrowhead\": 0, \"arrowwidth\": 1}, \"coloraxis\": {\"colorbar\": {\"outlinewidth\": 0, \"ticks\": \"\"}}, \"colorscale\": {\"diverging\": [[0, \"#8e0152\"], [0.1, \"#c51b7d\"], [0.2, \"#de77ae\"], [0.3, \"#f1b6da\"], [0.4, \"#fde0ef\"], [0.5, \"#f7f7f7\"], [0.6, \"#e6f5d0\"], [0.7, \"#b8e186\"], [0.8, \"#7fbc41\"], [0.9, \"#4d9221\"], [1, \"#276419\"]], \"sequential\": [[0.0, \"#0d0887\"], [0.1111111111111111, \"#46039f\"], [0.2222222222222222, \"#7201a8\"], [0.3333333333333333, \"#9c179e\"], [0.4444444444444444, \"#bd3786\"], [0.5555555555555556, \"#d8576b\"], [0.6666666666666666, \"#ed7953\"], [0.7777777777777778, \"#fb9f3a\"], [0.8888888888888888, \"#fdca26\"], [1.0, \"#f0f921\"]], \"sequentialminus\": [[0.0, \"#0d0887\"], [0.1111111111111111, \"#46039f\"], [0.2222222222222222, \"#7201a8\"], [0.3333333333333333, \"#9c179e\"], [0.4444444444444444, \"#bd3786\"], [0.5555555555555556, \"#d8576b\"], [0.6666666666666666, \"#ed7953\"], [0.7777777777777778, \"#fb9f3a\"], [0.8888888888888888, \"#fdca26\"], [1.0, \"#f0f921\"]]}, \"colorway\": [\"#636efa\", \"#EF553B\", \"#00cc96\", \"#ab63fa\", \"#FFA15A\", \"#19d3f3\", \"#FF6692\", \"#B6E880\", \"#FF97FF\", \"#FECB52\"], \"font\": {\"color\": \"#2a3f5f\"}, \"geo\": {\"bgcolor\": \"white\", \"lakecolor\": \"white\", \"landcolor\": \"#E5ECF6\", \"showlakes\": true, \"showland\": true, \"subunitcolor\": \"white\"}, \"hoverlabel\": {\"align\": \"left\"}, \"hovermode\": \"closest\", \"mapbox\": {\"style\": \"light\"}, \"paper_bgcolor\": \"white\", \"plot_bgcolor\": \"#E5ECF6\", \"polar\": {\"angularaxis\": {\"gridcolor\": \"white\", \"linecolor\": \"white\", \"ticks\": \"\"}, \"bgcolor\": \"#E5ECF6\", \"radialaxis\": {\"gridcolor\": \"white\", \"linecolor\": \"white\", \"ticks\": \"\"}}, \"scene\": {\"xaxis\": {\"backgroundcolor\": \"#E5ECF6\", \"gridcolor\": \"white\", \"gridwidth\": 2, \"linecolor\": \"white\", \"showbackground\": true, \"ticks\": \"\", \"zerolinecolor\": \"white\"}, \"yaxis\": {\"backgroundcolor\": \"#E5ECF6\", \"gridcolor\": \"white\", \"gridwidth\": 2, \"linecolor\": \"white\", \"showbackground\": true, \"ticks\": \"\", \"zerolinecolor\": \"white\"}, \"zaxis\": {\"backgroundcolor\": \"#E5ECF6\", \"gridcolor\": \"white\", \"gridwidth\": 2, \"linecolor\": \"white\", \"showbackground\": true, \"ticks\": \"\", \"zerolinecolor\": \"white\"}}, \"shapedefaults\": {\"line\": {\"color\": \"#2a3f5f\"}}, \"ternary\": {\"aaxis\": {\"gridcolor\": \"white\", \"linecolor\": \"white\", \"ticks\": \"\"}, \"baxis\": {\"gridcolor\": \"white\", \"linecolor\": \"white\", \"ticks\": \"\"}, \"bgcolor\": \"#E5ECF6\", \"caxis\": {\"gridcolor\": \"white\", \"linecolor\": \"white\", \"ticks\": \"\"}}, \"title\": {\"x\": 0.05}, \"xaxis\": {\"automargin\": true, \"gridcolor\": \"white\", \"linecolor\": \"white\", \"ticks\": \"\", \"title\": {\"standoff\": 15}, \"zerolinecolor\": \"white\", \"zerolinewidth\": 2}, \"yaxis\": {\"automargin\": true, \"gridcolor\": \"white\", \"linecolor\": \"white\", \"ticks\": \"\", \"title\": {\"standoff\": 15}, \"zerolinecolor\": \"white\", \"zerolinewidth\": 2}}}, \"title\": {\"text\": \"Initialization Makes Me Smile<br>(and it's fun to show off a little...)\"}, \"width\": 500, \"xaxis\": {\"showgrid\": false, \"showticklabels\": false}, \"yaxis\": {\"showgrid\": false, \"showticklabels\": false}},\n",
       "                        {\"responsive\": true}\n",
       "                    ).then(function(){\n",
       "                            \n",
       "var gd = document.getElementById('b7d9bb96-f4a4-42d6-a8d1-44d56753f799');\n",
       "var x = new MutationObserver(function (mutations, observer) {{\n",
       "        var display = window.getComputedStyle(gd).display;\n",
       "        if (!display || display === 'none') {{\n",
       "            console.log([gd, 'removed!']);\n",
       "            Plotly.purge(gd);\n",
       "            observer.disconnect();\n",
       "        }}\n",
       "}});\n",
       "\n",
       "// Listen for the removal of the full notebook cells\n",
       "var notebookContainer = gd.closest('#notebook-container');\n",
       "if (notebookContainer) {{\n",
       "    x.observe(notebookContainer, {childList: true});\n",
       "}}\n",
       "\n",
       "// Listen for the clearing of the current output cell\n",
       "var outputEl = gd.closest('.output');\n",
       "if (outputEl) {{\n",
       "    x.observe(outputEl, {childList: true});\n",
       "}}\n",
       "\n",
       "                        })\n",
       "                };\n",
       "                });\n",
       "            </script>\n",
       "        </div>"
      ]
     },
     "metadata": {},
     "output_type": "display_data"
    }
   ],
   "source": [
    "import math\n",
    "import numpy as np\n",
    "import datetime as dt\n",
    "import pandas as pd\n",
    "import ipdb\n",
    "\n",
    "import chart_studio.plotly as ply\n",
    "import chart_studio.tools as plytool\n",
    "import plotly.figure_factory as ff\n",
    "import plotly.graph_objs as go\n",
    "import plotly.offline as plyoff\n",
    "\n",
    "# plotly initialization\n",
    "# if using jupyter lab, must have the plotly extension installed: https://github.com/jupyterlab/jupyter-renderers/tree/master/packages/plotly-extension\n",
    "# jupyter labextension install @jupyterlab/plotly-extension\n",
    "plyoff.init_notebook_mode(connected=True)\n",
    "x1 = [1,4,7]; y1 = [7,5,7]\n",
    "x2 = [1,2,3,4,5,6,7]; y2 = [3,2,1,1,1,2,3]\n",
    "plyoff.iplot(go.Figure(data=[go.Scatter({\"x\":x1, \"y\":y1, 'mode':'markers'}),\n",
    "                             go.Scatter({\"x\":x2, \"y\":y2, 'mode':'lines'})],\n",
    "                                        layout=go.Layout(autosize=False,width=500,title=\"Initialization Makes Me Smile<br>(and it's fun to show off a little...)\",\n",
    "                                                         showlegend=False, xaxis={'showgrid':False, 'showticklabels':False},\n",
    "                                                         yaxis={'showgrid':False, 'showticklabels':False})))"
   ]
  },
  {
   "cell_type": "code",
   "execution_count": 2,
   "metadata": {},
   "outputs": [],
   "source": [
    "class NeuralNet():\n",
    "    def __init__(self, nodeCounts, activations, learnRate, lossFunc, randState):\n",
    "        '''\n",
    "        Initialize the neural net. Note that the input data is assumed to be transposed from\n",
    "        the usual nxp shape, so that input node i represents all observations for feature i.\n",
    "        Inputs are:\n",
    "            nodeCounts: list of node counts per layer\n",
    "            activations: list of activations for each layer (just use None for the input layer);\n",
    "                choices are sigmoid, tanh, relu, leakyrelu, softmax, and linear\n",
    "            learnRate: learning rate for back propagation\n",
    "            lossFunc: loss function, currently only MSE is implemented\n",
    "            randState: seed for the the randomizer\n",
    "        Other useful attributes are:\n",
    "            N: number calculation layers\n",
    "            hiddenLayers: number of hidden layers (duh!)\n",
    "            Z: list of arrays of linear combination part of activation calculation\n",
    "            A: list of arrays of final activation values\n",
    "        '''\n",
    "        self.randState = randState       # random state\n",
    "        self.lossFunc = lossFunc         # loss function name\n",
    "        self.learnRate = learnRate       # back propagation learning rate\n",
    "        self.nodeCounts = nodeCounts     # list of node counts per layer\n",
    "        self.inpNodes = nodeCounts[0]    # number input nodes\n",
    "        self.hidNodes = nodeCounts[1:-1] # list of number of nodes in hidden layers\n",
    "        self.outNodes = nodeCounts[-1]   # number output nodes\n",
    "        self.N = len(nodeCounts)-1       # number calculation layers\n",
    "        self.hiddenLayers = self.N-1     # number of hidden layers\n",
    "        self.Z = [None]*(self.N+1)       # linear combination values (Z)\n",
    "        self.A = [None]*(self.N+1)       # activation values (A)\n",
    "        self.G = [None]*(self.N+1)       # gradients\n",
    "        \n",
    "        # check if softmax is used and warn\n",
    "        if 'softmax' in activations:\n",
    "            print('Warning, the gradient of softmax has not yet been implemented, but is hardcoded to 0.5. Use at your own risk!')\n",
    "            \n",
    "        # check if loss is not MSE & warn\n",
    "        if self.lossFunc != 'MSE':\n",
    "            print('Warning, the only loss function currently implemented is MSE, the value & gradient is hardcoded at 0.5. Use at your own risk!')\n",
    "        \n",
    "        # set the random state\n",
    "        if randState is None:\n",
    "            self.randState = math.ceil((dt.datetime.now() - dt.datetime(2018,6,19)).total_seconds())\n",
    "        np.random.seed(self.randState)\n",
    "\n",
    "        # loop through and build each of the layers\n",
    "        layerCounts = len(nodeCounts)\n",
    "        self.layers = [None]*layerCounts\n",
    "        prevM = nodeCounts[0]\n",
    "        for l in range(layerCounts):\n",
    "            if l == 0:\n",
    "                pass # this is the input node, so just let the parameters & gradients stay None\n",
    "            else:\n",
    "                # randomly initialize the weights & biases\n",
    "                w = np.random.uniform(size=(nodeCounts[l],prevM))-0.5\n",
    "                b = np.random.uniform(size=(nodeCounts[l],1))-0.5\n",
    "                # put it all together\n",
    "                self.layers[l] = {'ws':w, 'bs':b, 'func':activations[l]}\n",
    "                # initialize to zero the gradients\n",
    "                self.G[l] = {'ws':np.zeros(shape=(nodeCounts[l],prevM), dtype=float),\n",
    "                                     'bs':np.zeros(shape=(nodeCounts[l],1), dtype=float)}\n",
    "                # set the previous layer number nodes to this one\n",
    "                prevM = nodeCounts[l]\n",
    "            \n",
    "    def __str__(self):\n",
    "        res = 'Random State = %d\\nLoss = %s\\nLearning Rate = %0.3f\\n%d hidden layers\\n%d input nodes'\\\n",
    "            %(self.randState,self.lossFunc,self.learnRate,self.hiddenLayers,self.inpNodes)\n",
    "        for i,l in enumerate(self.layers[1:]):\n",
    "            if (i==self.hiddenLayers):\n",
    "                res += '\\noutput layer (%s), %d nodes:\\n\\tw=%r\\n\\tb=%r'%(l['func'],len(l['bs']),l['ws'],l['bs'])\n",
    "            else:\n",
    "                res += '\\nlayer %d (%s), %d nodes:\\n\\tw=%r\\n\\tb=%r'%(i+1,l['func'],len(l['bs']),l['ws'],l['bs'])\n",
    "        res += '\\nOutput value: %r'%self.A[-1]\n",
    "        return res\n",
    "    \n",
    "    def print(self, verbose=False):\n",
    "        if verbose:\n",
    "            res = self.__str__()\n",
    "        else:\n",
    "            res = 'Random State = %d\\nLoss = %s\\nLearning Rate = %0.3f\\n%d hidden layers\\n%d input nodes'\\\n",
    "                %(self.randState,self.lossFunc,self.learnRate,self.hiddenLayers,self.inpNodes)\n",
    "            for i,l in enumerate(self.layers[1:]):\n",
    "                if (i==self.hiddenLayers):\n",
    "                    res += '\\noutput layer %d nodes: %s(w=%r, b=%r)'%(len(l['bs']),l['func'],l['ws'].shape,l['bs'].shape)\n",
    "                else:\n",
    "                    res += '\\nlayer %d, %d nodes: %s(w=%r, b=%r)'%(i+1,len(l['bs']),l['func'],l['ws'].shape,l['bs'].shape)\n",
    "            res += '\\nOutput value: %r'%self.A[-1]\n",
    "        return res\n",
    "    \n",
    "    def computeNode(self, prevA, layer):\n",
    "        ''' Compute the activation values for all nodes in a layer.'''\n",
    "        Z = np.dot(layer['ws'],prevA)+layer['bs']\n",
    "        return Z, self.computeActivation(layer['func'], Z, gradient=False)\n",
    "                    \n",
    "    def computeActivation(self, func, Z, gradient=False):\n",
    "        '''\n",
    "        Compute either the value of the activation function, or it's gradient\n",
    "        wrt the input Z. Function choices are: sigmoid, tanh, relu, leakyrelu,\n",
    "        softmax(not coded), and linear. Sigmoid & tanh not used often in hidden\n",
    "        layers due to vanishing gradients; relu should not be used in the output\n",
    "        layer; softmax is for classification, linear is for regression.\n",
    "        '''\n",
    "        if gradient:\n",
    "            # compute the value of the activation function gradient for z; result is partial_a/partial_z\n",
    "            if func == 'sigmoid':\n",
    "                sigm = 1.0 + np.exp(-Z)\n",
    "                result = np.exp(-Z)/(sigm**2)\n",
    "            elif func == 'tanh':\n",
    "                result = 1-np.tanh(Z)**2\n",
    "            elif func == 'relu':\n",
    "                result = Z > 0\n",
    "            elif func == 'leakyrelu':\n",
    "                alpha = 0.01 # might want to make this a parameter at some point\n",
    "                result = Z > 0\n",
    "                result[result==0] = alpha\n",
    "            elif func == 'softmax':\n",
    "                print('Softmax gradient not yet implemented!')\n",
    "                result = 0.5\n",
    "            elif func == 'linear':\n",
    "                result = 1.0\n",
    "        else:\n",
    "            # compute the value of the activation function for z; result is a\n",
    "            if func == 'sigmoid':\n",
    "                result = 1.0/(1.0+np.exp(-Z))\n",
    "            elif func == 'tanh':\n",
    "                result = (np.exp(Z) - np.exp(-Z))/(np.exp(Z) + np.exp(-Z))\n",
    "            elif func == 'relu':\n",
    "                result = np.maximum(0,Z)\n",
    "            elif func == 'leakyrelu':\n",
    "                alpha = 0.01 # might want to make this a parameter at some point\n",
    "                result = np.maximum(0, Z) - alpha*np.maximum(0, -Z)\n",
    "            elif func == 'softmax':\n",
    "                result = np.exp(Z)/np.sum(Z, axis=1, keepdims=True)\n",
    "            elif func == 'linear':\n",
    "                result = Z\n",
    "        return result\n",
    "    \n",
    "    def forwardPropagate(self, X):\n",
    "        ''' Propagate forward through the network from the inputs to the output layer. '''\n",
    "        self.A[0] = X\n",
    "        # loop throught the layers\n",
    "        for i,l in enumerate(self.layers[1:]):\n",
    "            self.Z[i+1], self.A[i+1] = self.computeNode(self.A[i], l)\n",
    "        return self.A[-1]\n",
    "    \n",
    "    def computeLoss(self, y, gradient=False):\n",
    "        ''' Compute either the value of the loss function, or it's gradient wrt\n",
    "        the output layer activation value. Currently, MSE (half MSE, in fact) is the\n",
    "        only choice. '''\n",
    "        if gradient:\n",
    "            if self.lossFunc == 'MSE':\n",
    "                result = -np.mean(y-self.A[-1],axis=1,keepdims=True)\n",
    "                result = -(y-self.A[-1])\n",
    "            else:\n",
    "                result = 0.5\n",
    "        else:\n",
    "            if self.lossFunc == 'MSE':\n",
    "                result = np.mean((y - self.A[-1])**2)/2\n",
    "            else:\n",
    "                result = 0.5\n",
    "        return result\n",
    "    \n",
    "    def backPropagate(self, y):\n",
    "        ''' Propagate prediction errors backward through the network from the outputs to the input layer.'''\n",
    "        m = y.shape[1]\n",
    "        # partial of loss wrt final activation\n",
    "        partial_E_aN = self.computeLoss(y, gradient=True)\n",
    "                       \n",
    "        # first compute the gradients for the output layer\n",
    "        # partial of this layer's activation wrt this layer's z\n",
    "        Al_Zl = self.computeActivation(self.layers[-1]['func'], self.Z[-1], gradient=True)\n",
    "        # partial of this layer's z wrt previous layer's activation\n",
    "        Zl_Alm1 = self.layers[-1]['ws']\n",
    "        z = partial_E_aN*Al_Zl                 # element-wise multiplication\n",
    "        b = np.mean(z, axis=1, keepdims=True)  # average across observations\n",
    "        w = np.dot(z, self.A[-2].T)/m          # scaled by number observations\n",
    "        self.G[-1] = {'Al_Zl':Al_Zl,'Zl_Alm1':Zl_Alm1,'zs':z,'ws':w, 'bs':b}\n",
    "   \n",
    "        # iterate over the hidden layers in reverse order\n",
    "        for l in range(self.N-1, 0, -1):\n",
    "            thisLayer = self.layers[l]\n",
    "            # partial of activation wrt z\n",
    "            Al_Zl = self.computeActivation(thisLayer['func'], self.Z[l], gradient=True)\n",
    "            # partial of z wrt previous layer's activation\n",
    "            Zl_Alm1 = thisLayer['ws']\n",
    "            # gradient is built up by sequential multiplication, and the basis is the higher level's z gradients\n",
    "            z = np.dot(self.G[l+1]['Zl_Alm1'].T, self.G[l+1]['zs'])*Al_Zl\n",
    "            b = np.mean(z, axis=1, keepdims=True)\n",
    "            w = np.dot(z, self.A[l-1].T)/m\n",
    "            self.G[l] = {'Al_Zl':Al_Zl,'Zl_Alm1':Zl_Alm1,'zs':z,'ws':w,'bs':b}\n",
    "        \n",
    "        # finally, traverse the network forward to update the parameters\n",
    "        for l in range(self.N+1):\n",
    "            if l == 0:\n",
    "                pass # this is the input node, so just skip\n",
    "            else:\n",
    "                # update bs\n",
    "                self.layers[l]['bs'] -= self.learnRate*self.G[l]['bs']\n",
    "                # update ws\n",
    "                self.layers[l]['ws'] -= self.learnRate*self.G[l]['ws']\n",
    "    \n",
    "    def execute(self, X, y, epochs, talkFreq=0.1, plotLoss=True):\n",
    "        '''\n",
    "        Iterate on forward and backward propagation for a specified number of epochs.\n",
    "        Inputs are:\n",
    "            X: input data as (n_0,m) array, where n_0 = nodeCounts[0], and m is the number observations\n",
    "            y: target data as (n_(N+1),m) array where n_(N+1) = nodeCounts[-1], and m is the number observations\n",
    "            epochs: number of iterations\n",
    "            talkFreq: % of epochs on which model performance should be reported; completely silent if None\n",
    "            plotLoss: if True, return a plotly figure plotting loss by epochs\n",
    "        '''\n",
    "        self.epochs = epochs\n",
    "        try:\n",
    "            verb = talkFreq*epochs\n",
    "        except TypeError:\n",
    "            verb = np.inf # this happens if talkFreq is None, indicating silent running\n",
    "        losss = [None]*epochs\n",
    "        for i in range(epochs):\n",
    "            # forward propagate\n",
    "            yhat = self.forwardPropagate(X)\n",
    "            # compute loss\n",
    "            losss[i] = self.computeLoss(y)\n",
    "            # back propagate, maybe\n",
    "            if i != (epochs-1):\n",
    "                self.backPropagate(y)\n",
    "            # talk, maybe\n",
    "            if (talkFreq is not None) & (i%verb==0):\n",
    "                print('Epoch %d %s = %0.5f'%(i,self.lossFunc,losss[i]))\n",
    "        # print the final result, maybe\n",
    "        if talkFreq is not None:\n",
    "            print('After %d Epochs, final %s is %0.5f'%(epochs,self.lossFunc,losss[-1]))\n",
    "        # generate a plot, maybe\n",
    "        if plotLoss:\n",
    "            self.fig = go.Figure(data=[go.Scatter({'x':list(range(epochs)), 'y':losss, 'name':self.lossFunc})],\n",
    "                layout=go.Layout({'title':'%s by Epoch'%mynet.lossFunc, 'xaxis':{'title':'epoch'}, 'yaxis':{'title':self.lossFunc}}))\n",
    "        else:\n",
    "            self.fig = None\n",
    "        return losss, self.fig"
   ]
  },
  {
   "cell_type": "code",
   "execution_count": 3,
   "metadata": {},
   "outputs": [
    {
     "name": "stdout",
     "output_type": "stream",
     "text": [
      "y=array([[0.61185289, 0.13949386, 0.29214465, 0.36636184, 0.45606998,\n",
      "        0.78517596, 0.19967378, 0.51423444, 0.59241457, 0.04645041],\n",
      "       [0.60754485, 0.17052412, 0.06505159, 0.94888554, 0.96563203,\n",
      "        0.80839735, 0.30461377, 0.09767211, 0.68423303, 0.44015249]])\n",
      "Random State = 42\n",
      "Loss = MSE\n",
      "Learning Rate = 0.010\n",
      "5 hidden layers\n",
      "2 input nodes\n",
      "layer 1, 5 nodes: tanh(w=(5, 2), b=(5, 1))\n",
      "layer 2, 10 nodes: tanh(w=(10, 5), b=(10, 1))\n",
      "layer 3, 20 nodes: tanh(w=(20, 10), b=(20, 1))\n",
      "layer 4, 10 nodes: tanh(w=(10, 20), b=(10, 1))\n",
      "layer 5, 5 nodes: tanh(w=(5, 10), b=(5, 1))\n",
      "output layer 2 nodes: linear(w=(2, 5), b=(2, 1))\n",
      "Output value: None\n"
     ]
    }
   ],
   "source": [
    "# setup data\n",
    "m = 10\n",
    "p = 2\n",
    "k = 2\n",
    "np.random.seed(42)\n",
    "X = np.random.uniform(size=(p,m)) # x has m observations and p features\n",
    "y = np.random.uniform(size=(k,m)) # y has m observations and k features\n",
    "print('y=%r'%y)\n",
    "\n",
    "# setup the network\n",
    "nodeCounts = [p, 5, 10, 20, 10, 5, k] # output node counts should match number features in y\n",
    "activations = [None,'tanh','tanh','tanh','tanh','tanh','linear']\n",
    "randomState = 42\n",
    "learningRate = 0.01\n",
    "lossFunction = 'MSE'\n",
    "mynet = NeuralNet(nodeCounts, activations, learningRate, lossFunction, randomState)\n",
    "print(mynet.print(verbose=False))"
   ]
  },
  {
   "cell_type": "code",
   "execution_count": 4,
   "metadata": {},
   "outputs": [
    {
     "name": "stdout",
     "output_type": "stream",
     "text": [
      "Epoch 0 MSE = 0.06866\n",
      "Epoch 100 MSE = 0.03785\n",
      "Epoch 200 MSE = 0.03736\n",
      "Epoch 300 MSE = 0.03684\n",
      "Epoch 400 MSE = 0.03626\n",
      "Epoch 500 MSE = 0.03559\n",
      "Epoch 600 MSE = 0.03481\n",
      "Epoch 700 MSE = 0.03387\n",
      "Epoch 800 MSE = 0.03276\n",
      "Epoch 900 MSE = 0.03143\n",
      "After 1000 Epochs, final MSE is 0.02992\n"
     ]
    },
    {
     "data": {
      "text/html": [
       "<div>\n",
       "<style scoped>\n",
       "    .dataframe tbody tr th:only-of-type {\n",
       "        vertical-align: middle;\n",
       "    }\n",
       "\n",
       "    .dataframe tbody tr th {\n",
       "        vertical-align: top;\n",
       "    }\n",
       "\n",
       "    .dataframe thead th {\n",
       "        text-align: right;\n",
       "    }\n",
       "</style>\n",
       "<table border=\"1\" class=\"dataframe\">\n",
       "  <thead>\n",
       "    <tr style=\"text-align: right;\">\n",
       "      <th></th>\n",
       "      <th>y_1</th>\n",
       "      <th>yhat_1</th>\n",
       "      <th>y_2</th>\n",
       "      <th>yhat_2</th>\n",
       "      <th>Error_1</th>\n",
       "      <th>Error_2</th>\n",
       "    </tr>\n",
       "  </thead>\n",
       "  <tbody>\n",
       "    <tr>\n",
       "      <th>0</th>\n",
       "      <td>0.611853</td>\n",
       "      <td>0.418563</td>\n",
       "      <td>0.607545</td>\n",
       "      <td>0.609508</td>\n",
       "      <td>0.193290</td>\n",
       "      <td>-0.001963</td>\n",
       "    </tr>\n",
       "    <tr>\n",
       "      <th>1</th>\n",
       "      <td>0.139494</td>\n",
       "      <td>0.373135</td>\n",
       "      <td>0.170524</td>\n",
       "      <td>0.345736</td>\n",
       "      <td>-0.233641</td>\n",
       "      <td>-0.175212</td>\n",
       "    </tr>\n",
       "    <tr>\n",
       "      <th>2</th>\n",
       "      <td>0.292145</td>\n",
       "      <td>0.381360</td>\n",
       "      <td>0.065052</td>\n",
       "      <td>0.385238</td>\n",
       "      <td>-0.089215</td>\n",
       "      <td>-0.320186</td>\n",
       "    </tr>\n",
       "    <tr>\n",
       "      <th>3</th>\n",
       "      <td>0.366362</td>\n",
       "      <td>0.405999</td>\n",
       "      <td>0.948886</td>\n",
       "      <td>0.560186</td>\n",
       "      <td>-0.039637</td>\n",
       "      <td>0.388699</td>\n",
       "    </tr>\n",
       "    <tr>\n",
       "      <th>4</th>\n",
       "      <td>0.456070</td>\n",
       "      <td>0.418829</td>\n",
       "      <td>0.965632</td>\n",
       "      <td>0.573308</td>\n",
       "      <td>0.037241</td>\n",
       "      <td>0.392324</td>\n",
       "    </tr>\n",
       "    <tr>\n",
       "      <th>5</th>\n",
       "      <td>0.785176</td>\n",
       "      <td>0.418774</td>\n",
       "      <td>0.808397</td>\n",
       "      <td>0.572907</td>\n",
       "      <td>0.366402</td>\n",
       "      <td>0.235491</td>\n",
       "    </tr>\n",
       "    <tr>\n",
       "      <th>6</th>\n",
       "      <td>0.199674</td>\n",
       "      <td>0.416762</td>\n",
       "      <td>0.304614</td>\n",
       "      <td>0.541457</td>\n",
       "      <td>-0.217088</td>\n",
       "      <td>-0.236844</td>\n",
       "    </tr>\n",
       "    <tr>\n",
       "      <th>7</th>\n",
       "      <td>0.514234</td>\n",
       "      <td>0.388385</td>\n",
       "      <td>0.097672</td>\n",
       "      <td>0.473681</td>\n",
       "      <td>0.125849</td>\n",
       "      <td>-0.376009</td>\n",
       "    </tr>\n",
       "    <tr>\n",
       "      <th>8</th>\n",
       "      <td>0.592415</td>\n",
       "      <td>0.398421</td>\n",
       "      <td>0.684233</td>\n",
       "      <td>0.502356</td>\n",
       "      <td>0.193994</td>\n",
       "      <td>0.181877</td>\n",
       "    </tr>\n",
       "    <tr>\n",
       "      <th>9</th>\n",
       "      <td>0.046450</td>\n",
       "      <td>0.400275</td>\n",
       "      <td>0.440152</td>\n",
       "      <td>0.538325</td>\n",
       "      <td>-0.353824</td>\n",
       "      <td>-0.098172</td>\n",
       "    </tr>\n",
       "  </tbody>\n",
       "</table>\n",
       "</div>"
      ],
      "text/plain": [
       "        y_1    yhat_1       y_2    yhat_2   Error_1   Error_2\n",
       "0  0.611853  0.418563  0.607545  0.609508  0.193290 -0.001963\n",
       "1  0.139494  0.373135  0.170524  0.345736 -0.233641 -0.175212\n",
       "2  0.292145  0.381360  0.065052  0.385238 -0.089215 -0.320186\n",
       "3  0.366362  0.405999  0.948886  0.560186 -0.039637  0.388699\n",
       "4  0.456070  0.418829  0.965632  0.573308  0.037241  0.392324\n",
       "5  0.785176  0.418774  0.808397  0.572907  0.366402  0.235491\n",
       "6  0.199674  0.416762  0.304614  0.541457 -0.217088 -0.236844\n",
       "7  0.514234  0.388385  0.097672  0.473681  0.125849 -0.376009\n",
       "8  0.592415  0.398421  0.684233  0.502356  0.193994  0.181877\n",
       "9  0.046450  0.400275  0.440152  0.538325 -0.353824 -0.098172"
      ]
     },
     "metadata": {},
     "output_type": "display_data"
    },
    {
     "data": {
      "application/vnd.plotly.v1+json": {
       "config": {
        "linkText": "Export to plot.ly",
        "plotlyServerURL": "https://plot.ly",
        "showLink": false
       },
       "data": [
        {
         "name": "MSE",
         "type": "scatter",
         "x": [
          0,
          1,
          2,
          3,
          4,
          5,
          6,
          7,
          8,
          9,
          10,
          11,
          12,
          13,
          14,
          15,
          16,
          17,
          18,
          19,
          20,
          21,
          22,
          23,
          24,
          25,
          26,
          27,
          28,
          29,
          30,
          31,
          32,
          33,
          34,
          35,
          36,
          37,
          38,
          39,
          40,
          41,
          42,
          43,
          44,
          45,
          46,
          47,
          48,
          49,
          50,
          51,
          52,
          53,
          54,
          55,
          56,
          57,
          58,
          59,
          60,
          61,
          62,
          63,
          64,
          65,
          66,
          67,
          68,
          69,
          70,
          71,
          72,
          73,
          74,
          75,
          76,
          77,
          78,
          79,
          80,
          81,
          82,
          83,
          84,
          85,
          86,
          87,
          88,
          89,
          90,
          91,
          92,
          93,
          94,
          95,
          96,
          97,
          98,
          99,
          100,
          101,
          102,
          103,
          104,
          105,
          106,
          107,
          108,
          109,
          110,
          111,
          112,
          113,
          114,
          115,
          116,
          117,
          118,
          119,
          120,
          121,
          122,
          123,
          124,
          125,
          126,
          127,
          128,
          129,
          130,
          131,
          132,
          133,
          134,
          135,
          136,
          137,
          138,
          139,
          140,
          141,
          142,
          143,
          144,
          145,
          146,
          147,
          148,
          149,
          150,
          151,
          152,
          153,
          154,
          155,
          156,
          157,
          158,
          159,
          160,
          161,
          162,
          163,
          164,
          165,
          166,
          167,
          168,
          169,
          170,
          171,
          172,
          173,
          174,
          175,
          176,
          177,
          178,
          179,
          180,
          181,
          182,
          183,
          184,
          185,
          186,
          187,
          188,
          189,
          190,
          191,
          192,
          193,
          194,
          195,
          196,
          197,
          198,
          199,
          200,
          201,
          202,
          203,
          204,
          205,
          206,
          207,
          208,
          209,
          210,
          211,
          212,
          213,
          214,
          215,
          216,
          217,
          218,
          219,
          220,
          221,
          222,
          223,
          224,
          225,
          226,
          227,
          228,
          229,
          230,
          231,
          232,
          233,
          234,
          235,
          236,
          237,
          238,
          239,
          240,
          241,
          242,
          243,
          244,
          245,
          246,
          247,
          248,
          249,
          250,
          251,
          252,
          253,
          254,
          255,
          256,
          257,
          258,
          259,
          260,
          261,
          262,
          263,
          264,
          265,
          266,
          267,
          268,
          269,
          270,
          271,
          272,
          273,
          274,
          275,
          276,
          277,
          278,
          279,
          280,
          281,
          282,
          283,
          284,
          285,
          286,
          287,
          288,
          289,
          290,
          291,
          292,
          293,
          294,
          295,
          296,
          297,
          298,
          299,
          300,
          301,
          302,
          303,
          304,
          305,
          306,
          307,
          308,
          309,
          310,
          311,
          312,
          313,
          314,
          315,
          316,
          317,
          318,
          319,
          320,
          321,
          322,
          323,
          324,
          325,
          326,
          327,
          328,
          329,
          330,
          331,
          332,
          333,
          334,
          335,
          336,
          337,
          338,
          339,
          340,
          341,
          342,
          343,
          344,
          345,
          346,
          347,
          348,
          349,
          350,
          351,
          352,
          353,
          354,
          355,
          356,
          357,
          358,
          359,
          360,
          361,
          362,
          363,
          364,
          365,
          366,
          367,
          368,
          369,
          370,
          371,
          372,
          373,
          374,
          375,
          376,
          377,
          378,
          379,
          380,
          381,
          382,
          383,
          384,
          385,
          386,
          387,
          388,
          389,
          390,
          391,
          392,
          393,
          394,
          395,
          396,
          397,
          398,
          399,
          400,
          401,
          402,
          403,
          404,
          405,
          406,
          407,
          408,
          409,
          410,
          411,
          412,
          413,
          414,
          415,
          416,
          417,
          418,
          419,
          420,
          421,
          422,
          423,
          424,
          425,
          426,
          427,
          428,
          429,
          430,
          431,
          432,
          433,
          434,
          435,
          436,
          437,
          438,
          439,
          440,
          441,
          442,
          443,
          444,
          445,
          446,
          447,
          448,
          449,
          450,
          451,
          452,
          453,
          454,
          455,
          456,
          457,
          458,
          459,
          460,
          461,
          462,
          463,
          464,
          465,
          466,
          467,
          468,
          469,
          470,
          471,
          472,
          473,
          474,
          475,
          476,
          477,
          478,
          479,
          480,
          481,
          482,
          483,
          484,
          485,
          486,
          487,
          488,
          489,
          490,
          491,
          492,
          493,
          494,
          495,
          496,
          497,
          498,
          499,
          500,
          501,
          502,
          503,
          504,
          505,
          506,
          507,
          508,
          509,
          510,
          511,
          512,
          513,
          514,
          515,
          516,
          517,
          518,
          519,
          520,
          521,
          522,
          523,
          524,
          525,
          526,
          527,
          528,
          529,
          530,
          531,
          532,
          533,
          534,
          535,
          536,
          537,
          538,
          539,
          540,
          541,
          542,
          543,
          544,
          545,
          546,
          547,
          548,
          549,
          550,
          551,
          552,
          553,
          554,
          555,
          556,
          557,
          558,
          559,
          560,
          561,
          562,
          563,
          564,
          565,
          566,
          567,
          568,
          569,
          570,
          571,
          572,
          573,
          574,
          575,
          576,
          577,
          578,
          579,
          580,
          581,
          582,
          583,
          584,
          585,
          586,
          587,
          588,
          589,
          590,
          591,
          592,
          593,
          594,
          595,
          596,
          597,
          598,
          599,
          600,
          601,
          602,
          603,
          604,
          605,
          606,
          607,
          608,
          609,
          610,
          611,
          612,
          613,
          614,
          615,
          616,
          617,
          618,
          619,
          620,
          621,
          622,
          623,
          624,
          625,
          626,
          627,
          628,
          629,
          630,
          631,
          632,
          633,
          634,
          635,
          636,
          637,
          638,
          639,
          640,
          641,
          642,
          643,
          644,
          645,
          646,
          647,
          648,
          649,
          650,
          651,
          652,
          653,
          654,
          655,
          656,
          657,
          658,
          659,
          660,
          661,
          662,
          663,
          664,
          665,
          666,
          667,
          668,
          669,
          670,
          671,
          672,
          673,
          674,
          675,
          676,
          677,
          678,
          679,
          680,
          681,
          682,
          683,
          684,
          685,
          686,
          687,
          688,
          689,
          690,
          691,
          692,
          693,
          694,
          695,
          696,
          697,
          698,
          699,
          700,
          701,
          702,
          703,
          704,
          705,
          706,
          707,
          708,
          709,
          710,
          711,
          712,
          713,
          714,
          715,
          716,
          717,
          718,
          719,
          720,
          721,
          722,
          723,
          724,
          725,
          726,
          727,
          728,
          729,
          730,
          731,
          732,
          733,
          734,
          735,
          736,
          737,
          738,
          739,
          740,
          741,
          742,
          743,
          744,
          745,
          746,
          747,
          748,
          749,
          750,
          751,
          752,
          753,
          754,
          755,
          756,
          757,
          758,
          759,
          760,
          761,
          762,
          763,
          764,
          765,
          766,
          767,
          768,
          769,
          770,
          771,
          772,
          773,
          774,
          775,
          776,
          777,
          778,
          779,
          780,
          781,
          782,
          783,
          784,
          785,
          786,
          787,
          788,
          789,
          790,
          791,
          792,
          793,
          794,
          795,
          796,
          797,
          798,
          799,
          800,
          801,
          802,
          803,
          804,
          805,
          806,
          807,
          808,
          809,
          810,
          811,
          812,
          813,
          814,
          815,
          816,
          817,
          818,
          819,
          820,
          821,
          822,
          823,
          824,
          825,
          826,
          827,
          828,
          829,
          830,
          831,
          832,
          833,
          834,
          835,
          836,
          837,
          838,
          839,
          840,
          841,
          842,
          843,
          844,
          845,
          846,
          847,
          848,
          849,
          850,
          851,
          852,
          853,
          854,
          855,
          856,
          857,
          858,
          859,
          860,
          861,
          862,
          863,
          864,
          865,
          866,
          867,
          868,
          869,
          870,
          871,
          872,
          873,
          874,
          875,
          876,
          877,
          878,
          879,
          880,
          881,
          882,
          883,
          884,
          885,
          886,
          887,
          888,
          889,
          890,
          891,
          892,
          893,
          894,
          895,
          896,
          897,
          898,
          899,
          900,
          901,
          902,
          903,
          904,
          905,
          906,
          907,
          908,
          909,
          910,
          911,
          912,
          913,
          914,
          915,
          916,
          917,
          918,
          919,
          920,
          921,
          922,
          923,
          924,
          925,
          926,
          927,
          928,
          929,
          930,
          931,
          932,
          933,
          934,
          935,
          936,
          937,
          938,
          939,
          940,
          941,
          942,
          943,
          944,
          945,
          946,
          947,
          948,
          949,
          950,
          951,
          952,
          953,
          954,
          955,
          956,
          957,
          958,
          959,
          960,
          961,
          962,
          963,
          964,
          965,
          966,
          967,
          968,
          969,
          970,
          971,
          972,
          973,
          974,
          975,
          976,
          977,
          978,
          979,
          980,
          981,
          982,
          983,
          984,
          985,
          986,
          987,
          988,
          989,
          990,
          991,
          992,
          993,
          994,
          995,
          996,
          997,
          998,
          999
         ],
         "y": [
          0.0686643236456063,
          0.06615514619191042,
          0.06386025282483507,
          0.06176085700600311,
          0.059839832910724054,
          0.05808157022393286,
          0.05647184123661155,
          0.054997679237834954,
          0.0536472672857344,
          0.05240983651665234,
          0.051275573218506953,
          0.05023553395404007,
          0.04928156807372254,
          0.04840624700771755,
          0.04760279977221056,
          0.046865054168122575,
          0.04618738319008856,
          0.0455646562008558,
          0.04499219446111324,
          0.0444657306373417,
          0.04398137194068204,
          0.043535566578155035,
          0.04312507322392196,
          0.042746933242738,
          0.04239844542041525,
          0.04207714297706573,
          0.04178077265823513,
          0.04150727571685366,
          0.04125477061531968,
          0.04102153729208281,
          0.040806002850898554,
          0.04060672854357365,
          0.040422397928593035,
          0.04025180609859853,
          0.040093849879351204,
          0.03994751891162576,
          0.039811887535526905,
          0.039686107404044525,
          0.039569400759339166,
          0.03946105431132555,
          0.03936041366365029,
          0.039266878237189676,
          0.03917989664576601,
          0.03909896248293782,
          0.03902361048249671,
          0.03895341301873592,
          0.038887976915672605,
          0.03882694053723772,
          0.03876997113301786,
          0.038716762416467924,
          0.03866703235463221,
          0.03862052115033551,
          0.038576989399551447,
          0.03853621640824002,
          0.03849799865438493,
          0.03846214838226566,
          0.03842849231718504,
          0.03839687048994719,
          0.03836713516135667,
          0.0383391498378954,
          0.03831278837053728,
          0.03828793412939006,
          0.038264479247516074,
          0.038242323927884576,
          0.038221375807953706,
          0.03820154937687639,
          0.03818276544077298,
          0.03816495063192326,
          0.03814803695810037,
          0.03813196138860703,
          0.038116665473879666,
          0.038102094995805226,
          0.038088199646147416,
          0.038074932730708985,
          0.038062250897065955,
          0.038050113883899145,
          0.038038484290121084,
          0.0380273273621536,
          0.03801661079785444,
          0.0380063045657208,
          0.03799638073811651,
          0.03798681333737738,
          0.0379775781937469,
          0.037968652814184545,
          0.03796001626116968,
          0.03795164904069926,
          0.03794353299874393,
          0.03793565122549039,
          0.03792798796675266,
          0.03792052854198756,
          0.0379132592683959,
          0.037906167390633835,
          0.037899241015698124,
          0.03789246905258489,
          0.03788584115635342,
          0.03787934767625766,
          0.03787297960763426,
          0.037866728547261586,
          0.037860586651926986,
          0.03785454659996041,
          0.037848601555511806,
          0.037842745135367346,
          0.03783697137811529,
          0.03783127471548786,
          0.03782564994571828,
          0.037820092208765005,
          0.03781459696326655,
          0.03780915996510094,
          0.03780377724743302,
          0.03779844510214243,
          0.03779316006253254,
          0.03778791888722872,
          0.0377827185451806,
          0.03777755620169021,
          0.03777242920539272,
          0.03776733507612282,
          0.037762271493604144,
          0.0377572362869041,
          0.03775222742460047,
          0.03774724300561015,
          0.03774228125063409,
          0.03773734049417564,
          0.03773241917709273,
          0.03772751583964723,
          0.037722629115017094,
          0.037717757723239896,
          0.037712900465558044,
          0.03770805621913861,
          0.03770322393214192,
          0.03769840261911585,
          0.03769359135669316,
          0.03768878927957201,
          0.03768399557676028,
          0.03767920948806616,
          0.03767443030081841,
          0.03766965734680095,
          0.03766488999938771,
          0.037660127670864116,
          0.03765536980992293,
          0.0376506158993231,
          0.037645865453700376,
          0.03764111801752032,
          0.03763637316316355,
          0.03763163048913525,
          0.03762688961839034,
          0.03762215019676674,
          0.037617411891519924,
          0.037612674389951875,
          0.03760793739812836,
          0.037603200639678744,
          0.03759846385467311,
          0.03759372679857144,
          0.037588989241240225,
          0.03758425096603242,
          0.037579511768926085,
          0.03757477145771844,
          0.03757002985127151,
          0.03756528677880596,
          0.037560542079240165,
          0.037555795600571616,
          0.03755104719929761,
          0.0375462967398733,
          0.03754154409420397,
          0.037536789141169966,
          0.037532031766181785,
          0.03752727186076364,
          0.03752250932216346,
          0.037517744052987786,
          0.03751297596085987,
          0.03750820495809963,
          0.03750343096142388,
          0.0374986538916657,
          0.03749387367351152,
          0.037489090235255165,
          0.03748430350856724,
          0.037479513428279376,
          0.03747471993218214,
          0.0374699229608357,
          0.03746512245739263,
          0.03746031836743182,
          0.03745551063880314,
          0.03745069922148169,
          0.03744588406743153,
          0.03744106513047796,
          0.03743624236618785,
          0.037431415731757685,
          0.037426585185908585,
          0.03742175068878803,
          0.03741691220187791,
          0.03741206968790813,
          0.037407223110776065,
          0.03740237243547079,
          0.0373975176280023,
          0.037392658655335136,
          0.03738779548532626,
          0.0373829280866668,
          0.03737805642882758,
          0.037373180482007946,
          0.03736830021708807,
          0.037363415605584004,
          0.037358526619605786,
          0.03735363323181808,
          0.03734873541540334,
          0.03734383314402735,
          0.03733892639180685,
          0.03733401513327931,
          0.037329099343374535,
          0.037324178997388144,
          0.03731925407095661,
          0.03731432454003402,
          0.03730939038087018,
          0.037304451569990196,
          0.037299508084175266,
          0.037294559900444765,
          0.0372896069960394,
          0.03728464934840542,
          0.03727968693517993,
          0.03727471973417697,
          0.037269747723374574,
          0.03726477088090267,
          0.037259789185031686,
          0.037254802614161794,
          0.03724981114681306,
          0.03724481476161604,
          0.03723981343730287,
          0.037234807152699265,
          0.03722979588671664,
          0.037224779618345014,
          0.037219758326646105,
          0.03721473199074711,
          0.037209700589834686,
          0.037204664103149425,
          0.037199622509980546,
          0.03719457578966111,
          0.037189523921563314,
          0.03718446688509428,
          0.037179404659691946,
          0.03717433722482128,
          0.037169264559970785,
          0.037164186644649114,
          0.037159103458381935,
          0.037154014980709055,
          0.03714892119118161,
          0.03714382206935948,
          0.037138717594808954,
          0.03713360774710027,
          0.037128492505805716,
          0.03712337185049741,
          0.03711824576074553,
          0.03711311421611651,
          0.03710797719617138,
          0.03710283468046416,
          0.037097686648540504,
          0.037092533079936166,
          0.0370873739541758,
          0.03708220925077173,
          0.03707703894922271,
          0.037071863029012955,
          0.03706668146961106,
          0.03706149425046902,
          0.037056301351021365,
          0.03705110275068428,
          0.03704589842885479,
          0.03704068836491002,
          0.03703547253820645,
          0.03703025092807925,
          0.03702502351384168,
          0.03701979027478436,
          0.03701455119017484,
          0.037009306239256946,
          0.037004055401250326,
          0.036998798655349927,
          0.036993535980725585,
          0.03698826735652147,
          0.03698299276185579,
          0.03697771217582036,
          0.036972425577480136,
          0.03696713294587301,
          0.0369618342600093,
          0.03695652949887156,
          0.03695121864141418,
          0.0369459016665631,
          0.036940578553215586,
          0.036935249280239876,
          0.03692991382647492,
          0.03692457217073019,
          0.03691922429178542,
          0.0369138701683903,
          0.036908509779264374,
          0.03690314310309668,
          0.036897770118545684,
          0.03689239080423897,
          0.036887005138773105,
          0.036881613100713445,
          0.03687621466859391,
          0.03687080982091688,
          0.036865398536152935,
          0.03685998079274076,
          0.03685455656908696,
          0.036849125843565894,
          0.03684368859451955,
          0.036838244800257325,
          0.03683279443905597,
          0.03682733748915937,
          0.036821873928778455,
          0.03681640373609104,
          0.03681092688924174,
          0.03680544336634169,
          0.036799953145468633,
          0.03679445620466663,
          0.03678895252194596,
          0.03678344207528304,
          0.03677792484262036,
          0.036772400801866195,
          0.03676686993089463,
          0.036761332207545384,
          0.03675578760962374,
          0.03675023611490038,
          0.03674467770111133,
          0.03673911234595777,
          0.03673354002710602,
          0.0367279607221874,
          0.03672237440879804,
          0.03671678106449894,
          0.03671118066681574,
          0.03670557319323861,
          0.03669995862122226,
          0.036694336928185724,
          0.03668870809151233,
          0.03668307208854958,
          0.03667742889660901,
          0.03667177849296619,
          0.036666120854860526,
          0.036660455959495235,
          0.036654783784037206,
          0.03664910430561691,
          0.0366434175013284,
          0.03663772334822899,
          0.03663202182333947,
          0.03662631290364374,
          0.03662059656608886,
          0.036614872787584955,
          0.03660914154500512,
          0.03660340281518526,
          0.036597656574924094,
          0.03659190280098299,
          0.03658614147008597,
          0.03658037255891952,
          0.03657459604413259,
          0.03656881190233644,
          0.0365630201101046,
          0.03655722064397278,
          0.03655141348043875,
          0.03654559859596232,
          0.03653977596696521,
          0.03653394556983096,
          0.03652810738090485,
          0.036522261376493906,
          0.0365164075328667,
          0.03651054582625331,
          0.03650467623284527,
          0.036498798728795454,
          0.03649291329021807,
          0.03648701989318843,
          0.03648111851374304,
          0.036475209127879445,
          0.03646929171155614,
          0.03646336624069252,
          0.03645743269116881,
          0.03645149103882596,
          0.03644554125946563,
          0.03643958332885003,
          0.03643361722270193,
          0.03642764291670457,
          0.036421660386501506,
          0.03641566960769666,
          0.03640967055585419,
          0.036403663206498425,
          0.0363976475351138,
          0.03639162351714477,
          0.036385591127995776,
          0.03637955034303116,
          0.036373501137575065,
          0.03636744348691147,
          0.036361377366284,
          0.03635530275089595,
          0.036349219615910186,
          0.03634312793644909,
          0.03633702768759449,
          0.03633091884438762,
          0.036324801381829044,
          0.03631867527487857,
          0.03631254049845527,
          0.03630639702743729,
          0.036300244836661985,
          0.03629408390092563,
          0.03628791419498357,
          0.03628173569355003,
          0.03627554837129812,
          0.036269352202859796,
          0.036263147162825735,
          0.03625693322574536,
          0.036250710366126745,
          0.036244478558436585,
          0.03623823777710013,
          0.036231987996501125,
          0.03622572919098181,
          0.036219461334842856,
          0.03621318440234325,
          0.036206898367700364,
          0.03620060320508982,
          0.03619429888864546,
          0.03618798539245937,
          0.03618166269058176,
          0.036175330757020945,
          0.03616898956574334,
          0.03616263909067338,
          0.03615627930569346,
          0.036149910184644016,
          0.03614353170132331,
          0.036137143829487565,
          0.03613074654285079,
          0.03612433981508488,
          0.036117923619819456,
          0.03611149793064195,
          0.03610506272109747,
          0.03609861796468884,
          0.036092163634876585,
          0.03608569970507876,
          0.03607922614867118,
          0.036072742938987136,
          0.03606625004931753,
          0.036059747452910795,
          0.03605323512297291,
          0.03604671303266731,
          0.036040181155114946,
          0.0360336394633942,
          0.036027087930540914,
          0.036020526529548375,
          0.036013955233367236,
          0.0360073740149056,
          0.03600078284702892,
          0.03599418170256006,
          0.035987570554279195,
          0.03598094937492391,
          0.03597431813718911,
          0.03596767681372704,
          0.035961025377147314,
          0.03595436380001684,
          0.03594769205485985,
          0.03594101011415797,
          0.03593431795035006,
          0.0359276155358324,
          0.03592090284295855,
          0.03591417984403941,
          0.035907446511343234,
          0.03590070281709565,
          0.035893948733479564,
          0.03588718423263534,
          0.03588040928666065,
          0.0358736238676106,
          0.03586682794749768,
          0.0358600214982918,
          0.035853204491920296,
          0.03584637690026797,
          0.0358395386951771,
          0.03583268984844744,
          0.035825830331836256,
          0.035818960117058415,
          0.03581207917578625,
          0.035805187479649794,
          0.0357982850002366,
          0.035791371709091954,
          0.03578444757771875,
          0.03577751257757772,
          0.03577056668008722,
          0.03576360985662347,
          0.03575664207852049,
          0.03574966331707018,
          0.03574267354352235,
          0.03573567272908479,
          0.035728660844923224,
          0.035721637862161496,
          0.035714603751881485,
          0.03570755848512326,
          0.035700502032885086,
          0.03569343436612343,
          0.035686355455753146,
          0.035679265272647406,
          0.035672163787637774,
          0.03566505097151441,
          0.0356579267950259,
          0.03565079122887954,
          0.03564364424374128,
          0.03563648581023578,
          0.0356293158989466,
          0.03562213448041614,
          0.035614941525145785,
          0.035607737003596,
          0.0356005208861863,
          0.035593293143295505,
          0.03558605374526165,
          0.0355788026623822,
          0.035571539864914056,
          0.035564265323073656,
          0.03555697900703712,
          0.035549680886940285,
          0.03554237093287883,
          0.035535049114908374,
          0.035527715403044516,
          0.035520369767263055,
          0.03551301217750001,
          0.035505642603651716,
          0.035498261015574975,
          0.035490867383087196,
          0.03548346167596641,
          0.03547604386395147,
          0.035468613916742164,
          0.03546117180399922,
          0.03545371749534466,
          0.03544625096036167,
          0.035438772168594916,
          0.03543128108955059,
          0.03542377769269654,
          0.03541626194746244,
          0.03540873382323988,
          0.03540119328938258,
          0.03539364031520645,
          0.0353860748699898,
          0.03537849692297344,
          0.035370906443360876,
          0.03536330340031842,
          0.035355687762975395,
          0.03534805950042422,
          0.03534041858172064,
          0.03533276497588388,
          0.035325098651896765,
          0.035317419578705926,
          0.035309727725222,
          0.03530202306031975,
          0.03529430555283824,
          0.03528657517158107,
          0.035278831885316546,
          0.03527107566277781,
          0.0352633064726631,
          0.03525552428363589,
          0.03524772906432513,
          0.03523992078332541,
          0.03523209940919716,
          0.035224264910466895,
          0.03521641725562737,
          0.03520855641313786,
          0.035200682351424234,
          0.035192795038879385,
          0.035184894443863225,
          0.03517698053470308,
          0.03516905327969382,
          0.03516111264709816,
          0.0351531586051468,
          0.03514519112203872,
          0.035137210165941464,
          0.03512921570499126,
          0.035121207707293385,
          0.03511318614092232,
          0.03510515097392212,
          0.035097102174306526,
          0.035089039710059375,
          0.03508096354913467,
          0.03507287365945708,
          0.03506477000892204,
          0.035056652565396064,
          0.03504852129671708,
          0.03504037617069461,
          0.035032217155110186,
          0.03502404421771748,
          0.03501585732624277,
          0.03500765644838504,
          0.034999441551816515,
          0.034991212604182725,
          0.03498296957310296,
          0.03497471242617057,
          0.034966441130953235,
          0.034958155654993266,
          0.03494985596580803,
          0.0349415420308902,
          0.03493321381770803,
          0.03492487129370584,
          0.034916514426304224,
          0.03490814318290044,
          0.03489975753086882,
          0.03489135743756098,
          0.034882942870306285,
          0.03487451379641221,
          0.03486607018316461,
          0.034857611997828206,
          0.03484913920764688,
          0.03484065177984407,
          0.03483214968162317,
          0.034823632880167876,
          0.03481510134264264,
          0.03480655503619297,
          0.034797993927945935,
          0.034789417985010514,
          0.034780827174477946,
          0.034772221463422286,
          0.03476360081890071,
          0.034754965207953945,
          0.03474631459760673,
          0.03473764895486826,
          0.03472896824673253,
          0.03472027244017895,
          0.03471156150217259,
          0.03470283539966475,
          0.03469409409959341,
          0.034685337568883666,
          0.034676565774448165,
          0.03466777868318764,
          0.03465897626199137,
          0.03465015847773759,
          0.03464132529729407,
          0.03463247668751857,
          0.034623612615259314,
          0.03461473304735553,
          0.0346058379506379,
          0.03459692729192916,
          0.034588001038044505,
          0.034579059155792194,
          0.034570101611974054,
          0.034561128373386034,
          0.034552139406818685,
          0.03454313467905775,
          0.03453411415688472,
          0.034525077807077344,
          0.034516025596410226,
          0.03450695749165541,
          0.03449787345958286,
          0.03448877346696117,
          0.03447965748055806,
          0.034470525467140925,
          0.034461377393477585,
          0.034452213226336695,
          0.0344430329324885,
          0.0344338364787054,
          0.03442462383176252,
          0.034415394958438386,
          0.03440614982551557,
          0.03439688839978127,
          0.03438761064802801,
          0.034378316537054227,
          0.03436900603366499,
          0.03435967910467262,
          0.0343503357168974,
          0.03434097583716815,
          0.03433159943232307,
          0.03432220646921023,
          0.03431279691468843,
          0.0343033707356278,
          0.03429392789891062,
          0.03428446837143185,
          0.034274992120099976,
          0.034265499111837745,
          0.03425598931358288,
          0.034246462692288746,
          0.034236919214925166,
          0.034227358848479196,
          0.03421778155995583,
          0.034208187316378764,
          0.0341985760847912,
          0.03418894783225668,
          0.0341793025258597,
          0.034169640132706715,
          0.03415996061992678,
          0.03415026395467243,
          0.03414055010412049,
          0.034130819035472895,
          0.03412107071595753,
          0.03411130511282902,
          0.03410152219336962,
          0.03409172192489008,
          0.03408190427473048,
          0.03407206921026104,
          0.034062216698883124,
          0.03405234670803003,
          0.03404245920516787,
          0.03403255415779653,
          0.03402263153345052,
          0.03401269129969991,
          0.034002733424151284,
          0.033992757874448574,
          0.033982764618274104,
          0.033972753623349464,
          0.033962724857436496,
          0.03395267828833821,
          0.0339426138838998,
          0.0339325316120096,
          0.03392243144060009,
          0.03391231333764882,
          0.033902177271179515,
          0.033892023209262954,
          0.033881851120018146,
          0.03387166097161319,
          0.033861452732266414,
          0.03385122637024741,
          0.03384098185387802,
          0.033830719151533475,
          0.033820438231643386,
          0.03381013906269291,
          0.03379982161322371,
          0.03378948585183515,
          0.03377913174718544,
          0.033768759267992554,
          0.03375836838303552,
          0.033747959061155484,
          0.033737531271256914,
          0.03372708498230859,
          0.03371662016334492,
          0.033706136783467025,
          0.03369563481184396,
          0.03368511421771381,
          0.03367457497038496,
          0.03366401703923728,
          0.03365344039372327,
          0.03364284500336941,
          0.033632230837777236,
          0.03362159786662472,
          0.03361094605966736,
          0.033600275386739584,
          0.03358958581775594,
          0.033578877322712364,
          0.03356814987168749,
          0.03355740343484394,
          0.033546637982429635,
          0.03353585348477904,
          0.03352504991231461,
          0.033514227235548026,
          0.033503385425081564,
          0.033492524451609426,
          0.03348164428591917,
          0.033470744898892964,
          0.03345982626150913,
          0.03344888834484337,
          0.03343793112007027,
          0.03342695455846468,
          0.033415958631403106,
          0.03340494331036522,
          0.033393908566935214,
          0.03338285437280332,
          0.03337178069976722,
          0.03336068751973356,
          0.033349574804719395,
          0.03333844252685374,
          0.03332729065837896,
          0.033316119171652434,
          0.03330492803914796,
          0.03329371723345736,
          0.03328248672729195,
          0.03327123649348419,
          0.03325996650498918,
          0.03324867673488627,
          0.03323736715638062,
          0.03322603774280483,
          0.03321468846762053,
          0.03320331930442001,
          0.033191930226927804,
          0.03318052120900242,
          0.033169092224637924,
          0.033157643247965614,
          0.03314617425325571,
          0.03313468521491899,
          0.0331231761075086,
          0.0331116469057216,
          0.03310009758440083,
          0.033088528118536534,
          0.03307693848326817,
          0.0330653286538861,
          0.0330536986058334,
          0.033042048314707625,
          0.03303037775626256,
          0.03301868690641004,
          0.033006975741221765,
          0.03299524423693112,
          0.03298349236993496,
          0.0329717201167955,
          0.03295992745424216,
          0.032948114359173365,
          0.032936280808658534,
          0.03292442677993987,
          0.03291255225043428,
          0.03290065719773531,
          0.03288874159961504,
          0.03287680543402601,
          0.03286484867910321,
          0.03285287131316596,
          0.03284087331471993,
          0.03282885466245909,
          0.03281681533526774,
          0.03280475531222246,
          0.03279267457259415,
          0.03278057309585,
          0.032768450861655654,
          0.03275630784987712,
          0.032744144040582894,
          0.032731959414046,
          0.03271975395074609,
          0.032707527631371594,
          0.03269528043682167,
          0.03268301234820851,
          0.03267072334685927,
          0.032658413414318424,
          0.032646082532349734,
          0.03263373068293848,
          0.03262135784829369,
          0.032608964010850214,
          0.03259654915327103,
          0.03258411325844934,
          0.03257165630951092,
          0.032559178289816276,
          0.03254667918296285,
          0.0325341589727874,
          0.03252161764336809,
          0.03250905517902698,
          0.032496471564332156,
          0.03248386678410008,
          0.03247124082339792,
          0.03245859366754582,
          0.03244592530211936,
          0.03243323571295175,
          0.032420524886136295,
          0.03240779280802874,
          0.03239503946524962,
          0.0323822648446867,
          0.032369468933497396,
          0.03235665171911107,
          0.032343813189231616,
          0.03233095333183981,
          0.032318072135195754,
          0.03230516958784142,
          0.03229224567860301,
          0.03227930039659356,
          0.03226633373121531,
          0.0322533456721623,
          0.03224033620942289,
          0.03222730533328224,
          0.032214253034324895,
          0.03220117930343726,
          0.032188084131810256,
          0.03217496751094189,
          0.03216182943263975,
          0.03214866988902368,
          0.03213548887252833,
          0.03212228637590585,
          0.032109062392228424,
          0.03209581691489104,
          0.032082549937613905,
          0.03206926145444537,
          0.032055951459764455,
          0.03204261994828355,
          0.032029266915051105,
          0.03201589235545435,
          0.032002496265221954,
          0.03198907864042684,
          0.03197563947748884,
          0.03196217877317745,
          0.03194869652461456,
          0.03193519272927729,
          0.0319216673850007,
          0.031908120489980596,
          0.031894552042776254,
          0.03188096204231334,
          0.03186735048788661,
          0.03185371737916278,
          0.0318400627161834,
          0.03182638649936753,
          0.0318126887295148,
          0.03179896940780812,
          0.03178522853581654,
          0.03177146611549823,
          0.03175768214920326,
          0.03174387663967658,
          0.03173004959006077,
          0.03171620100389915,
          0.03170233088513855,
          0.03168843923813224,
          0.03167452606764296,
          0.03166059137884579,
          0.031646635177331045,
          0.031632657469107366,
          0.03161865826060456,
          0.03160463755867666,
          0.031590595370604845,
          0.03157653170410042,
          0.03156244656730787,
          0.03154833996880784,
          0.03153421191762009,
          0.03152006242320652,
          0.031505891495474295,
          0.03149169914477871,
          0.031477485381926316,
          0.031463250218178036,
          0.03144899366525199,
          0.03143471573532675,
          0.03142041644104432,
          0.03140609579551316,
          0.031391753812311345,
          0.03137739050548955,
          0.03136300588957417,
          0.031348599979570416,
          0.031334172790965335,
          0.031319724339731,
          0.031305254642327515,
          0.03129076371570617,
          0.03127625157731256,
          0.03126171824508959,
          0.031247163737480703,
          0.03123258807343297,
          0.03121799127240014,
          0.031203373354345847,
          0.03118873433974668,
          0.03117407424959534,
          0.031159393105403728,
          0.03114469092920612,
          0.031129967743562283,
          0.031115223571560612,
          0.031100458436821243,
          0.031085672363499274,
          0.031070865376287775,
          0.03105603750042101,
          0.031041188761677586,
          0.031026319186383534,
          0.03101142880141556,
          0.030996517634204013,
          0.030981585712736216,
          0.03096663306555945,
          0.030951659721784215,
          0.030936665711087274,
          0.030921651063714826,
          0.03090661581048571,
          0.030891559982794366,
          0.03087648361261418,
          0.030861386732500447,
          0.030846269375593587,
          0.030831131575622228,
          0.030815973366906356,
          0.030800794784360395,
          0.030785595863496378,
          0.030770376640426977,
          0.03075513715186869,
          0.030739877435144912,
          0.030724597528188978,
          0.03070929746954736,
          0.030693977298382635,
          0.03067863705447667,
          0.030663276778233644,
          0.030647896510683094,
          0.030632496293483014,
          0.030617076168922914,
          0.03060163617992682,
          0.030586176370056378,
          0.030570696783513825,
          0.03055519746514502,
          0.030539678460442504,
          0.03052413981554844,
          0.030508581577257686,
          0.030493003793020695,
          0.030477406510946575,
          0.03046178977980594,
          0.03044615364903399,
          0.030430498168733416,
          0.030414823389677253,
          0.030399129363311912,
          0.030383416141760027,
          0.030367683777823347,
          0.030351932324985665,
          0.03033616183741562,
          0.030320372369969616,
          0.030304563978194633,
          0.03028873671833105,
          0.03027289064731546,
          0.03025702582278349,
          0.030241142303072528,
          0.03022524014722459,
          0.030209319414988917,
          0.03019338016682487,
          0.030177422463904528,
          0.030161446368115453,
          0.03014545194206329,
          0.030129439249074547,
          0.030113408353199124,
          0.030097359319213,
          0.03008129221262081,
          0.03006520709965844,
          0.030049104047295577,
          0.030032983123238276,
          0.030016844395931424,
          0.030000687934561322,
          0.029984513809058054,
          0.02996832209009806,
          0.029952112849106434,
          0.029935886158259463,
          0.029919642090486927
         ]
        }
       ],
       "layout": {
        "autosize": true,
        "template": {
         "data": {
          "bar": [
           {
            "error_x": {
             "color": "#2a3f5f"
            },
            "error_y": {
             "color": "#2a3f5f"
            },
            "marker": {
             "line": {
              "color": "#E5ECF6",
              "width": 0.5
             }
            },
            "type": "bar"
           }
          ],
          "barpolar": [
           {
            "marker": {
             "line": {
              "color": "#E5ECF6",
              "width": 0.5
             }
            },
            "type": "barpolar"
           }
          ],
          "carpet": [
           {
            "aaxis": {
             "endlinecolor": "#2a3f5f",
             "gridcolor": "white",
             "linecolor": "white",
             "minorgridcolor": "white",
             "startlinecolor": "#2a3f5f"
            },
            "baxis": {
             "endlinecolor": "#2a3f5f",
             "gridcolor": "white",
             "linecolor": "white",
             "minorgridcolor": "white",
             "startlinecolor": "#2a3f5f"
            },
            "type": "carpet"
           }
          ],
          "choropleth": [
           {
            "colorbar": {
             "outlinewidth": 0,
             "ticks": ""
            },
            "type": "choropleth"
           }
          ],
          "contour": [
           {
            "colorbar": {
             "outlinewidth": 0,
             "ticks": ""
            },
            "colorscale": [
             [
              0,
              "#0d0887"
             ],
             [
              0.1111111111111111,
              "#46039f"
             ],
             [
              0.2222222222222222,
              "#7201a8"
             ],
             [
              0.3333333333333333,
              "#9c179e"
             ],
             [
              0.4444444444444444,
              "#bd3786"
             ],
             [
              0.5555555555555556,
              "#d8576b"
             ],
             [
              0.6666666666666666,
              "#ed7953"
             ],
             [
              0.7777777777777778,
              "#fb9f3a"
             ],
             [
              0.8888888888888888,
              "#fdca26"
             ],
             [
              1,
              "#f0f921"
             ]
            ],
            "type": "contour"
           }
          ],
          "contourcarpet": [
           {
            "colorbar": {
             "outlinewidth": 0,
             "ticks": ""
            },
            "type": "contourcarpet"
           }
          ],
          "heatmap": [
           {
            "colorbar": {
             "outlinewidth": 0,
             "ticks": ""
            },
            "colorscale": [
             [
              0,
              "#0d0887"
             ],
             [
              0.1111111111111111,
              "#46039f"
             ],
             [
              0.2222222222222222,
              "#7201a8"
             ],
             [
              0.3333333333333333,
              "#9c179e"
             ],
             [
              0.4444444444444444,
              "#bd3786"
             ],
             [
              0.5555555555555556,
              "#d8576b"
             ],
             [
              0.6666666666666666,
              "#ed7953"
             ],
             [
              0.7777777777777778,
              "#fb9f3a"
             ],
             [
              0.8888888888888888,
              "#fdca26"
             ],
             [
              1,
              "#f0f921"
             ]
            ],
            "type": "heatmap"
           }
          ],
          "heatmapgl": [
           {
            "colorbar": {
             "outlinewidth": 0,
             "ticks": ""
            },
            "colorscale": [
             [
              0,
              "#0d0887"
             ],
             [
              0.1111111111111111,
              "#46039f"
             ],
             [
              0.2222222222222222,
              "#7201a8"
             ],
             [
              0.3333333333333333,
              "#9c179e"
             ],
             [
              0.4444444444444444,
              "#bd3786"
             ],
             [
              0.5555555555555556,
              "#d8576b"
             ],
             [
              0.6666666666666666,
              "#ed7953"
             ],
             [
              0.7777777777777778,
              "#fb9f3a"
             ],
             [
              0.8888888888888888,
              "#fdca26"
             ],
             [
              1,
              "#f0f921"
             ]
            ],
            "type": "heatmapgl"
           }
          ],
          "histogram": [
           {
            "marker": {
             "colorbar": {
              "outlinewidth": 0,
              "ticks": ""
             }
            },
            "type": "histogram"
           }
          ],
          "histogram2d": [
           {
            "colorbar": {
             "outlinewidth": 0,
             "ticks": ""
            },
            "colorscale": [
             [
              0,
              "#0d0887"
             ],
             [
              0.1111111111111111,
              "#46039f"
             ],
             [
              0.2222222222222222,
              "#7201a8"
             ],
             [
              0.3333333333333333,
              "#9c179e"
             ],
             [
              0.4444444444444444,
              "#bd3786"
             ],
             [
              0.5555555555555556,
              "#d8576b"
             ],
             [
              0.6666666666666666,
              "#ed7953"
             ],
             [
              0.7777777777777778,
              "#fb9f3a"
             ],
             [
              0.8888888888888888,
              "#fdca26"
             ],
             [
              1,
              "#f0f921"
             ]
            ],
            "type": "histogram2d"
           }
          ],
          "histogram2dcontour": [
           {
            "colorbar": {
             "outlinewidth": 0,
             "ticks": ""
            },
            "colorscale": [
             [
              0,
              "#0d0887"
             ],
             [
              0.1111111111111111,
              "#46039f"
             ],
             [
              0.2222222222222222,
              "#7201a8"
             ],
             [
              0.3333333333333333,
              "#9c179e"
             ],
             [
              0.4444444444444444,
              "#bd3786"
             ],
             [
              0.5555555555555556,
              "#d8576b"
             ],
             [
              0.6666666666666666,
              "#ed7953"
             ],
             [
              0.7777777777777778,
              "#fb9f3a"
             ],
             [
              0.8888888888888888,
              "#fdca26"
             ],
             [
              1,
              "#f0f921"
             ]
            ],
            "type": "histogram2dcontour"
           }
          ],
          "mesh3d": [
           {
            "colorbar": {
             "outlinewidth": 0,
             "ticks": ""
            },
            "type": "mesh3d"
           }
          ],
          "parcoords": [
           {
            "line": {
             "colorbar": {
              "outlinewidth": 0,
              "ticks": ""
             }
            },
            "type": "parcoords"
           }
          ],
          "pie": [
           {
            "automargin": true,
            "type": "pie"
           }
          ],
          "scatter": [
           {
            "marker": {
             "colorbar": {
              "outlinewidth": 0,
              "ticks": ""
             }
            },
            "type": "scatter"
           }
          ],
          "scatter3d": [
           {
            "line": {
             "colorbar": {
              "outlinewidth": 0,
              "ticks": ""
             }
            },
            "marker": {
             "colorbar": {
              "outlinewidth": 0,
              "ticks": ""
             }
            },
            "type": "scatter3d"
           }
          ],
          "scattercarpet": [
           {
            "marker": {
             "colorbar": {
              "outlinewidth": 0,
              "ticks": ""
             }
            },
            "type": "scattercarpet"
           }
          ],
          "scattergeo": [
           {
            "marker": {
             "colorbar": {
              "outlinewidth": 0,
              "ticks": ""
             }
            },
            "type": "scattergeo"
           }
          ],
          "scattergl": [
           {
            "marker": {
             "colorbar": {
              "outlinewidth": 0,
              "ticks": ""
             }
            },
            "type": "scattergl"
           }
          ],
          "scattermapbox": [
           {
            "marker": {
             "colorbar": {
              "outlinewidth": 0,
              "ticks": ""
             }
            },
            "type": "scattermapbox"
           }
          ],
          "scatterpolar": [
           {
            "marker": {
             "colorbar": {
              "outlinewidth": 0,
              "ticks": ""
             }
            },
            "type": "scatterpolar"
           }
          ],
          "scatterpolargl": [
           {
            "marker": {
             "colorbar": {
              "outlinewidth": 0,
              "ticks": ""
             }
            },
            "type": "scatterpolargl"
           }
          ],
          "scatterternary": [
           {
            "marker": {
             "colorbar": {
              "outlinewidth": 0,
              "ticks": ""
             }
            },
            "type": "scatterternary"
           }
          ],
          "surface": [
           {
            "colorbar": {
             "outlinewidth": 0,
             "ticks": ""
            },
            "colorscale": [
             [
              0,
              "#0d0887"
             ],
             [
              0.1111111111111111,
              "#46039f"
             ],
             [
              0.2222222222222222,
              "#7201a8"
             ],
             [
              0.3333333333333333,
              "#9c179e"
             ],
             [
              0.4444444444444444,
              "#bd3786"
             ],
             [
              0.5555555555555556,
              "#d8576b"
             ],
             [
              0.6666666666666666,
              "#ed7953"
             ],
             [
              0.7777777777777778,
              "#fb9f3a"
             ],
             [
              0.8888888888888888,
              "#fdca26"
             ],
             [
              1,
              "#f0f921"
             ]
            ],
            "type": "surface"
           }
          ],
          "table": [
           {
            "cells": {
             "fill": {
              "color": "#EBF0F8"
             },
             "line": {
              "color": "white"
             }
            },
            "header": {
             "fill": {
              "color": "#C8D4E3"
             },
             "line": {
              "color": "white"
             }
            },
            "type": "table"
           }
          ]
         },
         "layout": {
          "annotationdefaults": {
           "arrowcolor": "#2a3f5f",
           "arrowhead": 0,
           "arrowwidth": 1
          },
          "coloraxis": {
           "colorbar": {
            "outlinewidth": 0,
            "ticks": ""
           }
          },
          "colorscale": {
           "diverging": [
            [
             0,
             "#8e0152"
            ],
            [
             0.1,
             "#c51b7d"
            ],
            [
             0.2,
             "#de77ae"
            ],
            [
             0.3,
             "#f1b6da"
            ],
            [
             0.4,
             "#fde0ef"
            ],
            [
             0.5,
             "#f7f7f7"
            ],
            [
             0.6,
             "#e6f5d0"
            ],
            [
             0.7,
             "#b8e186"
            ],
            [
             0.8,
             "#7fbc41"
            ],
            [
             0.9,
             "#4d9221"
            ],
            [
             1,
             "#276419"
            ]
           ],
           "sequential": [
            [
             0,
             "#0d0887"
            ],
            [
             0.1111111111111111,
             "#46039f"
            ],
            [
             0.2222222222222222,
             "#7201a8"
            ],
            [
             0.3333333333333333,
             "#9c179e"
            ],
            [
             0.4444444444444444,
             "#bd3786"
            ],
            [
             0.5555555555555556,
             "#d8576b"
            ],
            [
             0.6666666666666666,
             "#ed7953"
            ],
            [
             0.7777777777777778,
             "#fb9f3a"
            ],
            [
             0.8888888888888888,
             "#fdca26"
            ],
            [
             1,
             "#f0f921"
            ]
           ],
           "sequentialminus": [
            [
             0,
             "#0d0887"
            ],
            [
             0.1111111111111111,
             "#46039f"
            ],
            [
             0.2222222222222222,
             "#7201a8"
            ],
            [
             0.3333333333333333,
             "#9c179e"
            ],
            [
             0.4444444444444444,
             "#bd3786"
            ],
            [
             0.5555555555555556,
             "#d8576b"
            ],
            [
             0.6666666666666666,
             "#ed7953"
            ],
            [
             0.7777777777777778,
             "#fb9f3a"
            ],
            [
             0.8888888888888888,
             "#fdca26"
            ],
            [
             1,
             "#f0f921"
            ]
           ]
          },
          "colorway": [
           "#636efa",
           "#EF553B",
           "#00cc96",
           "#ab63fa",
           "#FFA15A",
           "#19d3f3",
           "#FF6692",
           "#B6E880",
           "#FF97FF",
           "#FECB52"
          ],
          "font": {
           "color": "#2a3f5f"
          },
          "geo": {
           "bgcolor": "white",
           "lakecolor": "white",
           "landcolor": "#E5ECF6",
           "showlakes": true,
           "showland": true,
           "subunitcolor": "white"
          },
          "hoverlabel": {
           "align": "left"
          },
          "hovermode": "closest",
          "mapbox": {
           "style": "light"
          },
          "paper_bgcolor": "white",
          "plot_bgcolor": "#E5ECF6",
          "polar": {
           "angularaxis": {
            "gridcolor": "white",
            "linecolor": "white",
            "ticks": ""
           },
           "bgcolor": "#E5ECF6",
           "radialaxis": {
            "gridcolor": "white",
            "linecolor": "white",
            "ticks": ""
           }
          },
          "scene": {
           "xaxis": {
            "backgroundcolor": "#E5ECF6",
            "gridcolor": "white",
            "gridwidth": 2,
            "linecolor": "white",
            "showbackground": true,
            "ticks": "",
            "zerolinecolor": "white"
           },
           "yaxis": {
            "backgroundcolor": "#E5ECF6",
            "gridcolor": "white",
            "gridwidth": 2,
            "linecolor": "white",
            "showbackground": true,
            "ticks": "",
            "zerolinecolor": "white"
           },
           "zaxis": {
            "backgroundcolor": "#E5ECF6",
            "gridcolor": "white",
            "gridwidth": 2,
            "linecolor": "white",
            "showbackground": true,
            "ticks": "",
            "zerolinecolor": "white"
           }
          },
          "shapedefaults": {
           "line": {
            "color": "#2a3f5f"
           }
          },
          "ternary": {
           "aaxis": {
            "gridcolor": "white",
            "linecolor": "white",
            "ticks": ""
           },
           "baxis": {
            "gridcolor": "white",
            "linecolor": "white",
            "ticks": ""
           },
           "bgcolor": "#E5ECF6",
           "caxis": {
            "gridcolor": "white",
            "linecolor": "white",
            "ticks": ""
           }
          },
          "title": {
           "x": 0.05
          },
          "xaxis": {
           "automargin": true,
           "gridcolor": "white",
           "linecolor": "white",
           "ticks": "",
           "title": {
            "standoff": 15
           },
           "zerolinecolor": "white",
           "zerolinewidth": 2
          },
          "yaxis": {
           "automargin": true,
           "gridcolor": "white",
           "linecolor": "white",
           "ticks": "",
           "title": {
            "standoff": 15
           },
           "zerolinecolor": "white",
           "zerolinewidth": 2
          }
         }
        },
        "title": {
         "text": "MSE by Epoch"
        },
        "xaxis": {
         "autorange": true,
         "range": [
          0,
          999
         ],
         "title": {
          "text": "epoch"
         },
         "type": "linear"
        },
        "yaxis": {
         "autorange": true,
         "range": [
          0.027767159781869184,
          0.07081680595422404
         ],
         "title": {
          "text": "MSE"
         },
         "type": "linear"
        }
       }
      },
      "image/png": "[encoded data removed]",
      "text/html": [
       "<div>\n",
       "        \n",
       "        \n",
       "            <div id=\"fe63f645-20a1-4c3e-82d2-1955689867a3\" class=\"plotly-graph-div\" style=\"height:525px; width:100%;\"></div>\n",
       "            <script type=\"text/javascript\">\n",
       "                require([\"plotly\"], function(Plotly) {\n",
       "                    window.PLOTLYENV=window.PLOTLYENV || {};\n",
       "                    \n",
       "                if (document.getElementById(\"fe63f645-20a1-4c3e-82d2-1955689867a3\")) {\n",
       "                    Plotly.newPlot(\n",
       "                        'fe63f645-20a1-4c3e-82d2-1955689867a3',\n",
       "                        [{\"name\": \"MSE\", \"type\": \"scatter\", \"x\": [0, 1, 2, 3, 4, 5, 6, 7, 8, 9, 10, 11, 12, 13, 14, 15, 16, 17, 18, 19, 20, 21, 22, 23, 24, 25, 26, 27, 28, 29, 30, 31, 32, 33, 34, 35, 36, 37, 38, 39, 40, 41, 42, 43, 44, 45, 46, 47, 48, 49, 50, 51, 52, 53, 54, 55, 56, 57, 58, 59, 60, 61, 62, 63, 64, 65, 66, 67, 68, 69, 70, 71, 72, 73, 74, 75, 76, 77, 78, 79, 80, 81, 82, 83, 84, 85, 86, 87, 88, 89, 90, 91, 92, 93, 94, 95, 96, 97, 98, 99, 100, 101, 102, 103, 104, 105, 106, 107, 108, 109, 110, 111, 112, 113, 114, 115, 116, 117, 118, 119, 120, 121, 122, 123, 124, 125, 126, 127, 128, 129, 130, 131, 132, 133, 134, 135, 136, 137, 138, 139, 140, 141, 142, 143, 144, 145, 146, 147, 148, 149, 150, 151, 152, 153, 154, 155, 156, 157, 158, 159, 160, 161, 162, 163, 164, 165, 166, 167, 168, 169, 170, 171, 172, 173, 174, 175, 176, 177, 178, 179, 180, 181, 182, 183, 184, 185, 186, 187, 188, 189, 190, 191, 192, 193, 194, 195, 196, 197, 198, 199, 200, 201, 202, 203, 204, 205, 206, 207, 208, 209, 210, 211, 212, 213, 214, 215, 216, 217, 218, 219, 220, 221, 222, 223, 224, 225, 226, 227, 228, 229, 230, 231, 232, 233, 234, 235, 236, 237, 238, 239, 240, 241, 242, 243, 244, 245, 246, 247, 248, 249, 250, 251, 252, 253, 254, 255, 256, 257, 258, 259, 260, 261, 262, 263, 264, 265, 266, 267, 268, 269, 270, 271, 272, 273, 274, 275, 276, 277, 278, 279, 280, 281, 282, 283, 284, 285, 286, 287, 288, 289, 290, 291, 292, 293, 294, 295, 296, 297, 298, 299, 300, 301, 302, 303, 304, 305, 306, 307, 308, 309, 310, 311, 312, 313, 314, 315, 316, 317, 318, 319, 320, 321, 322, 323, 324, 325, 326, 327, 328, 329, 330, 331, 332, 333, 334, 335, 336, 337, 338, 339, 340, 341, 342, 343, 344, 345, 346, 347, 348, 349, 350, 351, 352, 353, 354, 355, 356, 357, 358, 359, 360, 361, 362, 363, 364, 365, 366, 367, 368, 369, 370, 371, 372, 373, 374, 375, 376, 377, 378, 379, 380, 381, 382, 383, 384, 385, 386, 387, 388, 389, 390, 391, 392, 393, 394, 395, 396, 397, 398, 399, 400, 401, 402, 403, 404, 405, 406, 407, 408, 409, 410, 411, 412, 413, 414, 415, 416, 417, 418, 419, 420, 421, 422, 423, 424, 425, 426, 427, 428, 429, 430, 431, 432, 433, 434, 435, 436, 437, 438, 439, 440, 441, 442, 443, 444, 445, 446, 447, 448, 449, 450, 451, 452, 453, 454, 455, 456, 457, 458, 459, 460, 461, 462, 463, 464, 465, 466, 467, 468, 469, 470, 471, 472, 473, 474, 475, 476, 477, 478, 479, 480, 481, 482, 483, 484, 485, 486, 487, 488, 489, 490, 491, 492, 493, 494, 495, 496, 497, 498, 499, 500, 501, 502, 503, 504, 505, 506, 507, 508, 509, 510, 511, 512, 513, 514, 515, 516, 517, 518, 519, 520, 521, 522, 523, 524, 525, 526, 527, 528, 529, 530, 531, 532, 533, 534, 535, 536, 537, 538, 539, 540, 541, 542, 543, 544, 545, 546, 547, 548, 549, 550, 551, 552, 553, 554, 555, 556, 557, 558, 559, 560, 561, 562, 563, 564, 565, 566, 567, 568, 569, 570, 571, 572, 573, 574, 575, 576, 577, 578, 579, 580, 581, 582, 583, 584, 585, 586, 587, 588, 589, 590, 591, 592, 593, 594, 595, 596, 597, 598, 599, 600, 601, 602, 603, 604, 605, 606, 607, 608, 609, 610, 611, 612, 613, 614, 615, 616, 617, 618, 619, 620, 621, 622, 623, 624, 625, 626, 627, 628, 629, 630, 631, 632, 633, 634, 635, 636, 637, 638, 639, 640, 641, 642, 643, 644, 645, 646, 647, 648, 649, 650, 651, 652, 653, 654, 655, 656, 657, 658, 659, 660, 661, 662, 663, 664, 665, 666, 667, 668, 669, 670, 671, 672, 673, 674, 675, 676, 677, 678, 679, 680, 681, 682, 683, 684, 685, 686, 687, 688, 689, 690, 691, 692, 693, 694, 695, 696, 697, 698, 699, 700, 701, 702, 703, 704, 705, 706, 707, 708, 709, 710, 711, 712, 713, 714, 715, 716, 717, 718, 719, 720, 721, 722, 723, 724, 725, 726, 727, 728, 729, 730, 731, 732, 733, 734, 735, 736, 737, 738, 739, 740, 741, 742, 743, 744, 745, 746, 747, 748, 749, 750, 751, 752, 753, 754, 755, 756, 757, 758, 759, 760, 761, 762, 763, 764, 765, 766, 767, 768, 769, 770, 771, 772, 773, 774, 775, 776, 777, 778, 779, 780, 781, 782, 783, 784, 785, 786, 787, 788, 789, 790, 791, 792, 793, 794, 795, 796, 797, 798, 799, 800, 801, 802, 803, 804, 805, 806, 807, 808, 809, 810, 811, 812, 813, 814, 815, 816, 817, 818, 819, 820, 821, 822, 823, 824, 825, 826, 827, 828, 829, 830, 831, 832, 833, 834, 835, 836, 837, 838, 839, 840, 841, 842, 843, 844, 845, 846, 847, 848, 849, 850, 851, 852, 853, 854, 855, 856, 857, 858, 859, 860, 861, 862, 863, 864, 865, 866, 867, 868, 869, 870, 871, 872, 873, 874, 875, 876, 877, 878, 879, 880, 881, 882, 883, 884, 885, 886, 887, 888, 889, 890, 891, 892, 893, 894, 895, 896, 897, 898, 899, 900, 901, 902, 903, 904, 905, 906, 907, 908, 909, 910, 911, 912, 913, 914, 915, 916, 917, 918, 919, 920, 921, 922, 923, 924, 925, 926, 927, 928, 929, 930, 931, 932, 933, 934, 935, 936, 937, 938, 939, 940, 941, 942, 943, 944, 945, 946, 947, 948, 949, 950, 951, 952, 953, 954, 955, 956, 957, 958, 959, 960, 961, 962, 963, 964, 965, 966, 967, 968, 969, 970, 971, 972, 973, 974, 975, 976, 977, 978, 979, 980, 981, 982, 983, 984, 985, 986, 987, 988, 989, 990, 991, 992, 993, 994, 995, 996, 997, 998, 999], \"y\": [0.0686643236456063, 0.06615514619191042, 0.06386025282483507, 0.06176085700600311, 0.059839832910724054, 0.05808157022393286, 0.05647184123661155, 0.054997679237834954, 0.0536472672857344, 0.05240983651665234, 0.051275573218506953, 0.05023553395404007, 0.04928156807372254, 0.04840624700771755, 0.04760279977221056, 0.046865054168122575, 0.04618738319008856, 0.0455646562008558, 0.04499219446111324, 0.0444657306373417, 0.04398137194068204, 0.043535566578155035, 0.04312507322392196, 0.042746933242738, 0.04239844542041525, 0.04207714297706573, 0.04178077265823513, 0.04150727571685366, 0.04125477061531968, 0.04102153729208281, 0.040806002850898554, 0.04060672854357365, 0.040422397928593035, 0.04025180609859853, 0.040093849879351204, 0.03994751891162576, 0.039811887535526905, 0.039686107404044525, 0.039569400759339166, 0.03946105431132555, 0.03936041366365029, 0.039266878237189676, 0.03917989664576601, 0.03909896248293782, 0.03902361048249671, 0.03895341301873592, 0.038887976915672605, 0.03882694053723772, 0.03876997113301786, 0.038716762416467924, 0.03866703235463221, 0.03862052115033551, 0.038576989399551447, 0.03853621640824002, 0.03849799865438493, 0.03846214838226566, 0.03842849231718504, 0.03839687048994719, 0.03836713516135667, 0.0383391498378954, 0.03831278837053728, 0.03828793412939006, 0.038264479247516074, 0.038242323927884576, 0.038221375807953706, 0.03820154937687639, 0.03818276544077298, 0.03816495063192326, 0.03814803695810037, 0.03813196138860703, 0.038116665473879666, 0.038102094995805226, 0.038088199646147416, 0.038074932730708985, 0.038062250897065955, 0.038050113883899145, 0.038038484290121084, 0.0380273273621536, 0.03801661079785444, 0.0380063045657208, 0.03799638073811651, 0.03798681333737738, 0.0379775781937469, 0.037968652814184545, 0.03796001626116968, 0.03795164904069926, 0.03794353299874393, 0.03793565122549039, 0.03792798796675266, 0.03792052854198756, 0.0379132592683959, 0.037906167390633835, 0.037899241015698124, 0.03789246905258489, 0.03788584115635342, 0.03787934767625766, 0.03787297960763426, 0.037866728547261586, 0.037860586651926986, 0.03785454659996041, 0.037848601555511806, 0.037842745135367346, 0.03783697137811529, 0.03783127471548786, 0.03782564994571828, 0.037820092208765005, 0.03781459696326655, 0.03780915996510094, 0.03780377724743302, 0.03779844510214243, 0.03779316006253254, 0.03778791888722872, 0.0377827185451806, 0.03777755620169021, 0.03777242920539272, 0.03776733507612282, 0.037762271493604144, 0.0377572362869041, 0.03775222742460047, 0.03774724300561015, 0.03774228125063409, 0.03773734049417564, 0.03773241917709273, 0.03772751583964723, 0.037722629115017094, 0.037717757723239896, 0.037712900465558044, 0.03770805621913861, 0.03770322393214192, 0.03769840261911585, 0.03769359135669316, 0.03768878927957201, 0.03768399557676028, 0.03767920948806616, 0.03767443030081841, 0.03766965734680095, 0.03766488999938771, 0.037660127670864116, 0.03765536980992293, 0.0376506158993231, 0.037645865453700376, 0.03764111801752032, 0.03763637316316355, 0.03763163048913525, 0.03762688961839034, 0.03762215019676674, 0.037617411891519924, 0.037612674389951875, 0.03760793739812836, 0.037603200639678744, 0.03759846385467311, 0.03759372679857144, 0.037588989241240225, 0.03758425096603242, 0.037579511768926085, 0.03757477145771844, 0.03757002985127151, 0.03756528677880596, 0.037560542079240165, 0.037555795600571616, 0.03755104719929761, 0.0375462967398733, 0.03754154409420397, 0.037536789141169966, 0.037532031766181785, 0.03752727186076364, 0.03752250932216346, 0.037517744052987786, 0.03751297596085987, 0.03750820495809963, 0.03750343096142388, 0.0374986538916657, 0.03749387367351152, 0.037489090235255165, 0.03748430350856724, 0.037479513428279376, 0.03747471993218214, 0.0374699229608357, 0.03746512245739263, 0.03746031836743182, 0.03745551063880314, 0.03745069922148169, 0.03744588406743153, 0.03744106513047796, 0.03743624236618785, 0.037431415731757685, 0.037426585185908585, 0.03742175068878803, 0.03741691220187791, 0.03741206968790813, 0.037407223110776065, 0.03740237243547079, 0.0373975176280023, 0.037392658655335136, 0.03738779548532626, 0.0373829280866668, 0.03737805642882758, 0.037373180482007946, 0.03736830021708807, 0.037363415605584004, 0.037358526619605786, 0.03735363323181808, 0.03734873541540334, 0.03734383314402735, 0.03733892639180685, 0.03733401513327931, 0.037329099343374535, 0.037324178997388144, 0.03731925407095661, 0.03731432454003402, 0.03730939038087018, 0.037304451569990196, 0.037299508084175266, 0.037294559900444765, 0.0372896069960394, 0.03728464934840542, 0.03727968693517993, 0.03727471973417697, 0.037269747723374574, 0.03726477088090267, 0.037259789185031686, 0.037254802614161794, 0.03724981114681306, 0.03724481476161604, 0.03723981343730287, 0.037234807152699265, 0.03722979588671664, 0.037224779618345014, 0.037219758326646105, 0.03721473199074711, 0.037209700589834686, 0.037204664103149425, 0.037199622509980546, 0.03719457578966111, 0.037189523921563314, 0.03718446688509428, 0.037179404659691946, 0.03717433722482128, 0.037169264559970785, 0.037164186644649114, 0.037159103458381935, 0.037154014980709055, 0.03714892119118161, 0.03714382206935948, 0.037138717594808954, 0.03713360774710027, 0.037128492505805716, 0.03712337185049741, 0.03711824576074553, 0.03711311421611651, 0.03710797719617138, 0.03710283468046416, 0.037097686648540504, 0.037092533079936166, 0.0370873739541758, 0.03708220925077173, 0.03707703894922271, 0.037071863029012955, 0.03706668146961106, 0.03706149425046902, 0.037056301351021365, 0.03705110275068428, 0.03704589842885479, 0.03704068836491002, 0.03703547253820645, 0.03703025092807925, 0.03702502351384168, 0.03701979027478436, 0.03701455119017484, 0.037009306239256946, 0.037004055401250326, 0.036998798655349927, 0.036993535980725585, 0.03698826735652147, 0.03698299276185579, 0.03697771217582036, 0.036972425577480136, 0.03696713294587301, 0.0369618342600093, 0.03695652949887156, 0.03695121864141418, 0.0369459016665631, 0.036940578553215586, 0.036935249280239876, 0.03692991382647492, 0.03692457217073019, 0.03691922429178542, 0.0369138701683903, 0.036908509779264374, 0.03690314310309668, 0.036897770118545684, 0.03689239080423897, 0.036887005138773105, 0.036881613100713445, 0.03687621466859391, 0.03687080982091688, 0.036865398536152935, 0.03685998079274076, 0.03685455656908696, 0.036849125843565894, 0.03684368859451955, 0.036838244800257325, 0.03683279443905597, 0.03682733748915937, 0.036821873928778455, 0.03681640373609104, 0.03681092688924174, 0.03680544336634169, 0.036799953145468633, 0.03679445620466663, 0.03678895252194596, 0.03678344207528304, 0.03677792484262036, 0.036772400801866195, 0.03676686993089463, 0.036761332207545384, 0.03675578760962374, 0.03675023611490038, 0.03674467770111133, 0.03673911234595777, 0.03673354002710602, 0.0367279607221874, 0.03672237440879804, 0.03671678106449894, 0.03671118066681574, 0.03670557319323861, 0.03669995862122226, 0.036694336928185724, 0.03668870809151233, 0.03668307208854958, 0.03667742889660901, 0.03667177849296619, 0.036666120854860526, 0.036660455959495235, 0.036654783784037206, 0.03664910430561691, 0.0366434175013284, 0.03663772334822899, 0.03663202182333947, 0.03662631290364374, 0.03662059656608886, 0.036614872787584955, 0.03660914154500512, 0.03660340281518526, 0.036597656574924094, 0.03659190280098299, 0.03658614147008597, 0.03658037255891952, 0.03657459604413259, 0.03656881190233644, 0.0365630201101046, 0.03655722064397278, 0.03655141348043875, 0.03654559859596232, 0.03653977596696521, 0.03653394556983096, 0.03652810738090485, 0.036522261376493906, 0.0365164075328667, 0.03651054582625331, 0.03650467623284527, 0.036498798728795454, 0.03649291329021807, 0.03648701989318843, 0.03648111851374304, 0.036475209127879445, 0.03646929171155614, 0.03646336624069252, 0.03645743269116881, 0.03645149103882596, 0.03644554125946563, 0.03643958332885003, 0.03643361722270193, 0.03642764291670457, 0.036421660386501506, 0.03641566960769666, 0.03640967055585419, 0.036403663206498425, 0.0363976475351138, 0.03639162351714477, 0.036385591127995776, 0.03637955034303116, 0.036373501137575065, 0.03636744348691147, 0.036361377366284, 0.03635530275089595, 0.036349219615910186, 0.03634312793644909, 0.03633702768759449, 0.03633091884438762, 0.036324801381829044, 0.03631867527487857, 0.03631254049845527, 0.03630639702743729, 0.036300244836661985, 0.03629408390092563, 0.03628791419498357, 0.03628173569355003, 0.03627554837129812, 0.036269352202859796, 0.036263147162825735, 0.03625693322574536, 0.036250710366126745, 0.036244478558436585, 0.03623823777710013, 0.036231987996501125, 0.03622572919098181, 0.036219461334842856, 0.03621318440234325, 0.036206898367700364, 0.03620060320508982, 0.03619429888864546, 0.03618798539245937, 0.03618166269058176, 0.036175330757020945, 0.03616898956574334, 0.03616263909067338, 0.03615627930569346, 0.036149910184644016, 0.03614353170132331, 0.036137143829487565, 0.03613074654285079, 0.03612433981508488, 0.036117923619819456, 0.03611149793064195, 0.03610506272109747, 0.03609861796468884, 0.036092163634876585, 0.03608569970507876, 0.03607922614867118, 0.036072742938987136, 0.03606625004931753, 0.036059747452910795, 0.03605323512297291, 0.03604671303266731, 0.036040181155114946, 0.0360336394633942, 0.036027087930540914, 0.036020526529548375, 0.036013955233367236, 0.0360073740149056, 0.03600078284702892, 0.03599418170256006, 0.035987570554279195, 0.03598094937492391, 0.03597431813718911, 0.03596767681372704, 0.035961025377147314, 0.03595436380001684, 0.03594769205485985, 0.03594101011415797, 0.03593431795035006, 0.0359276155358324, 0.03592090284295855, 0.03591417984403941, 0.035907446511343234, 0.03590070281709565, 0.035893948733479564, 0.03588718423263534, 0.03588040928666065, 0.0358736238676106, 0.03586682794749768, 0.0358600214982918, 0.035853204491920296, 0.03584637690026797, 0.0358395386951771, 0.03583268984844744, 0.035825830331836256, 0.035818960117058415, 0.03581207917578625, 0.035805187479649794, 0.0357982850002366, 0.035791371709091954, 0.03578444757771875, 0.03577751257757772, 0.03577056668008722, 0.03576360985662347, 0.03575664207852049, 0.03574966331707018, 0.03574267354352235, 0.03573567272908479, 0.035728660844923224, 0.035721637862161496, 0.035714603751881485, 0.03570755848512326, 0.035700502032885086, 0.03569343436612343, 0.035686355455753146, 0.035679265272647406, 0.035672163787637774, 0.03566505097151441, 0.0356579267950259, 0.03565079122887954, 0.03564364424374128, 0.03563648581023578, 0.0356293158989466, 0.03562213448041614, 0.035614941525145785, 0.035607737003596, 0.0356005208861863, 0.035593293143295505, 0.03558605374526165, 0.0355788026623822, 0.035571539864914056, 0.035564265323073656, 0.03555697900703712, 0.035549680886940285, 0.03554237093287883, 0.035535049114908374, 0.035527715403044516, 0.035520369767263055, 0.03551301217750001, 0.035505642603651716, 0.035498261015574975, 0.035490867383087196, 0.03548346167596641, 0.03547604386395147, 0.035468613916742164, 0.03546117180399922, 0.03545371749534466, 0.03544625096036167, 0.035438772168594916, 0.03543128108955059, 0.03542377769269654, 0.03541626194746244, 0.03540873382323988, 0.03540119328938258, 0.03539364031520645, 0.0353860748699898, 0.03537849692297344, 0.035370906443360876, 0.03536330340031842, 0.035355687762975395, 0.03534805950042422, 0.03534041858172064, 0.03533276497588388, 0.035325098651896765, 0.035317419578705926, 0.035309727725222, 0.03530202306031975, 0.03529430555283824, 0.03528657517158107, 0.035278831885316546, 0.03527107566277781, 0.0352633064726631, 0.03525552428363589, 0.03524772906432513, 0.03523992078332541, 0.03523209940919716, 0.035224264910466895, 0.03521641725562737, 0.03520855641313786, 0.035200682351424234, 0.035192795038879385, 0.035184894443863225, 0.03517698053470308, 0.03516905327969382, 0.03516111264709816, 0.0351531586051468, 0.03514519112203872, 0.035137210165941464, 0.03512921570499126, 0.035121207707293385, 0.03511318614092232, 0.03510515097392212, 0.035097102174306526, 0.035089039710059375, 0.03508096354913467, 0.03507287365945708, 0.03506477000892204, 0.035056652565396064, 0.03504852129671708, 0.03504037617069461, 0.035032217155110186, 0.03502404421771748, 0.03501585732624277, 0.03500765644838504, 0.034999441551816515, 0.034991212604182725, 0.03498296957310296, 0.03497471242617057, 0.034966441130953235, 0.034958155654993266, 0.03494985596580803, 0.0349415420308902, 0.03493321381770803, 0.03492487129370584, 0.034916514426304224, 0.03490814318290044, 0.03489975753086882, 0.03489135743756098, 0.034882942870306285, 0.03487451379641221, 0.03486607018316461, 0.034857611997828206, 0.03484913920764688, 0.03484065177984407, 0.03483214968162317, 0.034823632880167876, 0.03481510134264264, 0.03480655503619297, 0.034797993927945935, 0.034789417985010514, 0.034780827174477946, 0.034772221463422286, 0.03476360081890071, 0.034754965207953945, 0.03474631459760673, 0.03473764895486826, 0.03472896824673253, 0.03472027244017895, 0.03471156150217259, 0.03470283539966475, 0.03469409409959341, 0.034685337568883666, 0.034676565774448165, 0.03466777868318764, 0.03465897626199137, 0.03465015847773759, 0.03464132529729407, 0.03463247668751857, 0.034623612615259314, 0.03461473304735553, 0.0346058379506379, 0.03459692729192916, 0.034588001038044505, 0.034579059155792194, 0.034570101611974054, 0.034561128373386034, 0.034552139406818685, 0.03454313467905775, 0.03453411415688472, 0.034525077807077344, 0.034516025596410226, 0.03450695749165541, 0.03449787345958286, 0.03448877346696117, 0.03447965748055806, 0.034470525467140925, 0.034461377393477585, 0.034452213226336695, 0.0344430329324885, 0.0344338364787054, 0.03442462383176252, 0.034415394958438386, 0.03440614982551557, 0.03439688839978127, 0.03438761064802801, 0.034378316537054227, 0.03436900603366499, 0.03435967910467262, 0.0343503357168974, 0.03434097583716815, 0.03433159943232307, 0.03432220646921023, 0.03431279691468843, 0.0343033707356278, 0.03429392789891062, 0.03428446837143185, 0.034274992120099976, 0.034265499111837745, 0.03425598931358288, 0.034246462692288746, 0.034236919214925166, 0.034227358848479196, 0.03421778155995583, 0.034208187316378764, 0.0341985760847912, 0.03418894783225668, 0.0341793025258597, 0.034169640132706715, 0.03415996061992678, 0.03415026395467243, 0.03414055010412049, 0.034130819035472895, 0.03412107071595753, 0.03411130511282902, 0.03410152219336962, 0.03409172192489008, 0.03408190427473048, 0.03407206921026104, 0.034062216698883124, 0.03405234670803003, 0.03404245920516787, 0.03403255415779653, 0.03402263153345052, 0.03401269129969991, 0.034002733424151284, 0.033992757874448574, 0.033982764618274104, 0.033972753623349464, 0.033962724857436496, 0.03395267828833821, 0.0339426138838998, 0.0339325316120096, 0.03392243144060009, 0.03391231333764882, 0.033902177271179515, 0.033892023209262954, 0.033881851120018146, 0.03387166097161319, 0.033861452732266414, 0.03385122637024741, 0.03384098185387802, 0.033830719151533475, 0.033820438231643386, 0.03381013906269291, 0.03379982161322371, 0.03378948585183515, 0.03377913174718544, 0.033768759267992554, 0.03375836838303552, 0.033747959061155484, 0.033737531271256914, 0.03372708498230859, 0.03371662016334492, 0.033706136783467025, 0.03369563481184396, 0.03368511421771381, 0.03367457497038496, 0.03366401703923728, 0.03365344039372327, 0.03364284500336941, 0.033632230837777236, 0.03362159786662472, 0.03361094605966736, 0.033600275386739584, 0.03358958581775594, 0.033578877322712364, 0.03356814987168749, 0.03355740343484394, 0.033546637982429635, 0.03353585348477904, 0.03352504991231461, 0.033514227235548026, 0.033503385425081564, 0.033492524451609426, 0.03348164428591917, 0.033470744898892964, 0.03345982626150913, 0.03344888834484337, 0.03343793112007027, 0.03342695455846468, 0.033415958631403106, 0.03340494331036522, 0.033393908566935214, 0.03338285437280332, 0.03337178069976722, 0.03336068751973356, 0.033349574804719395, 0.03333844252685374, 0.03332729065837896, 0.033316119171652434, 0.03330492803914796, 0.03329371723345736, 0.03328248672729195, 0.03327123649348419, 0.03325996650498918, 0.03324867673488627, 0.03323736715638062, 0.03322603774280483, 0.03321468846762053, 0.03320331930442001, 0.033191930226927804, 0.03318052120900242, 0.033169092224637924, 0.033157643247965614, 0.03314617425325571, 0.03313468521491899, 0.0331231761075086, 0.0331116469057216, 0.03310009758440083, 0.033088528118536534, 0.03307693848326817, 0.0330653286538861, 0.0330536986058334, 0.033042048314707625, 0.03303037775626256, 0.03301868690641004, 0.033006975741221765, 0.03299524423693112, 0.03298349236993496, 0.0329717201167955, 0.03295992745424216, 0.032948114359173365, 0.032936280808658534, 0.03292442677993987, 0.03291255225043428, 0.03290065719773531, 0.03288874159961504, 0.03287680543402601, 0.03286484867910321, 0.03285287131316596, 0.03284087331471993, 0.03282885466245909, 0.03281681533526774, 0.03280475531222246, 0.03279267457259415, 0.03278057309585, 0.032768450861655654, 0.03275630784987712, 0.032744144040582894, 0.032731959414046, 0.03271975395074609, 0.032707527631371594, 0.03269528043682167, 0.03268301234820851, 0.03267072334685927, 0.032658413414318424, 0.032646082532349734, 0.03263373068293848, 0.03262135784829369, 0.032608964010850214, 0.03259654915327103, 0.03258411325844934, 0.03257165630951092, 0.032559178289816276, 0.03254667918296285, 0.0325341589727874, 0.03252161764336809, 0.03250905517902698, 0.032496471564332156, 0.03248386678410008, 0.03247124082339792, 0.03245859366754582, 0.03244592530211936, 0.03243323571295175, 0.032420524886136295, 0.03240779280802874, 0.03239503946524962, 0.0323822648446867, 0.032369468933497396, 0.03235665171911107, 0.032343813189231616, 0.03233095333183981, 0.032318072135195754, 0.03230516958784142, 0.03229224567860301, 0.03227930039659356, 0.03226633373121531, 0.0322533456721623, 0.03224033620942289, 0.03222730533328224, 0.032214253034324895, 0.03220117930343726, 0.032188084131810256, 0.03217496751094189, 0.03216182943263975, 0.03214866988902368, 0.03213548887252833, 0.03212228637590585, 0.032109062392228424, 0.03209581691489104, 0.032082549937613905, 0.03206926145444537, 0.032055951459764455, 0.03204261994828355, 0.032029266915051105, 0.03201589235545435, 0.032002496265221954, 0.03198907864042684, 0.03197563947748884, 0.03196217877317745, 0.03194869652461456, 0.03193519272927729, 0.0319216673850007, 0.031908120489980596, 0.031894552042776254, 0.03188096204231334, 0.03186735048788661, 0.03185371737916278, 0.0318400627161834, 0.03182638649936753, 0.0318126887295148, 0.03179896940780812, 0.03178522853581654, 0.03177146611549823, 0.03175768214920326, 0.03174387663967658, 0.03173004959006077, 0.03171620100389915, 0.03170233088513855, 0.03168843923813224, 0.03167452606764296, 0.03166059137884579, 0.031646635177331045, 0.031632657469107366, 0.03161865826060456, 0.03160463755867666, 0.031590595370604845, 0.03157653170410042, 0.03156244656730787, 0.03154833996880784, 0.03153421191762009, 0.03152006242320652, 0.031505891495474295, 0.03149169914477871, 0.031477485381926316, 0.031463250218178036, 0.03144899366525199, 0.03143471573532675, 0.03142041644104432, 0.03140609579551316, 0.031391753812311345, 0.03137739050548955, 0.03136300588957417, 0.031348599979570416, 0.031334172790965335, 0.031319724339731, 0.031305254642327515, 0.03129076371570617, 0.03127625157731256, 0.03126171824508959, 0.031247163737480703, 0.03123258807343297, 0.03121799127240014, 0.031203373354345847, 0.03118873433974668, 0.03117407424959534, 0.031159393105403728, 0.03114469092920612, 0.031129967743562283, 0.031115223571560612, 0.031100458436821243, 0.031085672363499274, 0.031070865376287775, 0.03105603750042101, 0.031041188761677586, 0.031026319186383534, 0.03101142880141556, 0.030996517634204013, 0.030981585712736216, 0.03096663306555945, 0.030951659721784215, 0.030936665711087274, 0.030921651063714826, 0.03090661581048571, 0.030891559982794366, 0.03087648361261418, 0.030861386732500447, 0.030846269375593587, 0.030831131575622228, 0.030815973366906356, 0.030800794784360395, 0.030785595863496378, 0.030770376640426977, 0.03075513715186869, 0.030739877435144912, 0.030724597528188978, 0.03070929746954736, 0.030693977298382635, 0.03067863705447667, 0.030663276778233644, 0.030647896510683094, 0.030632496293483014, 0.030617076168922914, 0.03060163617992682, 0.030586176370056378, 0.030570696783513825, 0.03055519746514502, 0.030539678460442504, 0.03052413981554844, 0.030508581577257686, 0.030493003793020695, 0.030477406510946575, 0.03046178977980594, 0.03044615364903399, 0.030430498168733416, 0.030414823389677253, 0.030399129363311912, 0.030383416141760027, 0.030367683777823347, 0.030351932324985665, 0.03033616183741562, 0.030320372369969616, 0.030304563978194633, 0.03028873671833105, 0.03027289064731546, 0.03025702582278349, 0.030241142303072528, 0.03022524014722459, 0.030209319414988917, 0.03019338016682487, 0.030177422463904528, 0.030161446368115453, 0.03014545194206329, 0.030129439249074547, 0.030113408353199124, 0.030097359319213, 0.03008129221262081, 0.03006520709965844, 0.030049104047295577, 0.030032983123238276, 0.030016844395931424, 0.030000687934561322, 0.029984513809058054, 0.02996832209009806, 0.029952112849106434, 0.029935886158259463, 0.029919642090486927]}],\n",
       "                        {\"template\": {\"data\": {\"bar\": [{\"error_x\": {\"color\": \"#2a3f5f\"}, \"error_y\": {\"color\": \"#2a3f5f\"}, \"marker\": {\"line\": {\"color\": \"#E5ECF6\", \"width\": 0.5}}, \"type\": \"bar\"}], \"barpolar\": [{\"marker\": {\"line\": {\"color\": \"#E5ECF6\", \"width\": 0.5}}, \"type\": \"barpolar\"}], \"carpet\": [{\"aaxis\": {\"endlinecolor\": \"#2a3f5f\", \"gridcolor\": \"white\", \"linecolor\": \"white\", \"minorgridcolor\": \"white\", \"startlinecolor\": \"#2a3f5f\"}, \"baxis\": {\"endlinecolor\": \"#2a3f5f\", \"gridcolor\": \"white\", \"linecolor\": \"white\", \"minorgridcolor\": \"white\", \"startlinecolor\": \"#2a3f5f\"}, \"type\": \"carpet\"}], \"choropleth\": [{\"colorbar\": {\"outlinewidth\": 0, \"ticks\": \"\"}, \"type\": \"choropleth\"}], \"contour\": [{\"colorbar\": {\"outlinewidth\": 0, \"ticks\": \"\"}, \"colorscale\": [[0.0, \"#0d0887\"], [0.1111111111111111, \"#46039f\"], [0.2222222222222222, \"#7201a8\"], [0.3333333333333333, \"#9c179e\"], [0.4444444444444444, \"#bd3786\"], [0.5555555555555556, \"#d8576b\"], [0.6666666666666666, \"#ed7953\"], [0.7777777777777778, \"#fb9f3a\"], [0.8888888888888888, \"#fdca26\"], [1.0, \"#f0f921\"]], \"type\": \"contour\"}], \"contourcarpet\": [{\"colorbar\": {\"outlinewidth\": 0, \"ticks\": \"\"}, \"type\": \"contourcarpet\"}], \"heatmap\": [{\"colorbar\": {\"outlinewidth\": 0, \"ticks\": \"\"}, \"colorscale\": [[0.0, \"#0d0887\"], [0.1111111111111111, \"#46039f\"], [0.2222222222222222, \"#7201a8\"], [0.3333333333333333, \"#9c179e\"], [0.4444444444444444, \"#bd3786\"], [0.5555555555555556, \"#d8576b\"], [0.6666666666666666, \"#ed7953\"], [0.7777777777777778, \"#fb9f3a\"], [0.8888888888888888, \"#fdca26\"], [1.0, \"#f0f921\"]], \"type\": \"heatmap\"}], \"heatmapgl\": [{\"colorbar\": {\"outlinewidth\": 0, \"ticks\": \"\"}, \"colorscale\": [[0.0, \"#0d0887\"], [0.1111111111111111, \"#46039f\"], [0.2222222222222222, \"#7201a8\"], [0.3333333333333333, \"#9c179e\"], [0.4444444444444444, \"#bd3786\"], [0.5555555555555556, \"#d8576b\"], [0.6666666666666666, \"#ed7953\"], [0.7777777777777778, \"#fb9f3a\"], [0.8888888888888888, \"#fdca26\"], [1.0, \"#f0f921\"]], \"type\": \"heatmapgl\"}], \"histogram\": [{\"marker\": {\"colorbar\": {\"outlinewidth\": 0, \"ticks\": \"\"}}, \"type\": \"histogram\"}], \"histogram2d\": [{\"colorbar\": {\"outlinewidth\": 0, \"ticks\": \"\"}, \"colorscale\": [[0.0, \"#0d0887\"], [0.1111111111111111, \"#46039f\"], [0.2222222222222222, \"#7201a8\"], [0.3333333333333333, \"#9c179e\"], [0.4444444444444444, \"#bd3786\"], [0.5555555555555556, \"#d8576b\"], [0.6666666666666666, \"#ed7953\"], [0.7777777777777778, \"#fb9f3a\"], [0.8888888888888888, \"#fdca26\"], [1.0, \"#f0f921\"]], \"type\": \"histogram2d\"}], \"histogram2dcontour\": [{\"colorbar\": {\"outlinewidth\": 0, \"ticks\": \"\"}, \"colorscale\": [[0.0, \"#0d0887\"], [0.1111111111111111, \"#46039f\"], [0.2222222222222222, \"#7201a8\"], [0.3333333333333333, \"#9c179e\"], [0.4444444444444444, \"#bd3786\"], [0.5555555555555556, \"#d8576b\"], [0.6666666666666666, \"#ed7953\"], [0.7777777777777778, \"#fb9f3a\"], [0.8888888888888888, \"#fdca26\"], [1.0, \"#f0f921\"]], \"type\": \"histogram2dcontour\"}], \"mesh3d\": [{\"colorbar\": {\"outlinewidth\": 0, \"ticks\": \"\"}, \"type\": \"mesh3d\"}], \"parcoords\": [{\"line\": {\"colorbar\": {\"outlinewidth\": 0, \"ticks\": \"\"}}, \"type\": \"parcoords\"}], \"pie\": [{\"automargin\": true, \"type\": \"pie\"}], \"scatter\": [{\"marker\": {\"colorbar\": {\"outlinewidth\": 0, \"ticks\": \"\"}}, \"type\": \"scatter\"}], \"scatter3d\": [{\"line\": {\"colorbar\": {\"outlinewidth\": 0, \"ticks\": \"\"}}, \"marker\": {\"colorbar\": {\"outlinewidth\": 0, \"ticks\": \"\"}}, \"type\": \"scatter3d\"}], \"scattercarpet\": [{\"marker\": {\"colorbar\": {\"outlinewidth\": 0, \"ticks\": \"\"}}, \"type\": \"scattercarpet\"}], \"scattergeo\": [{\"marker\": {\"colorbar\": {\"outlinewidth\": 0, \"ticks\": \"\"}}, \"type\": \"scattergeo\"}], \"scattergl\": [{\"marker\": {\"colorbar\": {\"outlinewidth\": 0, \"ticks\": \"\"}}, \"type\": \"scattergl\"}], \"scattermapbox\": [{\"marker\": {\"colorbar\": {\"outlinewidth\": 0, \"ticks\": \"\"}}, \"type\": \"scattermapbox\"}], \"scatterpolar\": [{\"marker\": {\"colorbar\": {\"outlinewidth\": 0, \"ticks\": \"\"}}, \"type\": \"scatterpolar\"}], \"scatterpolargl\": [{\"marker\": {\"colorbar\": {\"outlinewidth\": 0, \"ticks\": \"\"}}, \"type\": \"scatterpolargl\"}], \"scatterternary\": [{\"marker\": {\"colorbar\": {\"outlinewidth\": 0, \"ticks\": \"\"}}, \"type\": \"scatterternary\"}], \"surface\": [{\"colorbar\": {\"outlinewidth\": 0, \"ticks\": \"\"}, \"colorscale\": [[0.0, \"#0d0887\"], [0.1111111111111111, \"#46039f\"], [0.2222222222222222, \"#7201a8\"], [0.3333333333333333, \"#9c179e\"], [0.4444444444444444, \"#bd3786\"], [0.5555555555555556, \"#d8576b\"], [0.6666666666666666, \"#ed7953\"], [0.7777777777777778, \"#fb9f3a\"], [0.8888888888888888, \"#fdca26\"], [1.0, \"#f0f921\"]], \"type\": \"surface\"}], \"table\": [{\"cells\": {\"fill\": {\"color\": \"#EBF0F8\"}, \"line\": {\"color\": \"white\"}}, \"header\": {\"fill\": {\"color\": \"#C8D4E3\"}, \"line\": {\"color\": \"white\"}}, \"type\": \"table\"}]}, \"layout\": {\"annotationdefaults\": {\"arrowcolor\": \"#2a3f5f\", \"arrowhead\": 0, \"arrowwidth\": 1}, \"coloraxis\": {\"colorbar\": {\"outlinewidth\": 0, \"ticks\": \"\"}}, \"colorscale\": {\"diverging\": [[0, \"#8e0152\"], [0.1, \"#c51b7d\"], [0.2, \"#de77ae\"], [0.3, \"#f1b6da\"], [0.4, \"#fde0ef\"], [0.5, \"#f7f7f7\"], [0.6, \"#e6f5d0\"], [0.7, \"#b8e186\"], [0.8, \"#7fbc41\"], [0.9, \"#4d9221\"], [1, \"#276419\"]], \"sequential\": [[0.0, \"#0d0887\"], [0.1111111111111111, \"#46039f\"], [0.2222222222222222, \"#7201a8\"], [0.3333333333333333, \"#9c179e\"], [0.4444444444444444, \"#bd3786\"], [0.5555555555555556, \"#d8576b\"], [0.6666666666666666, \"#ed7953\"], [0.7777777777777778, \"#fb9f3a\"], [0.8888888888888888, \"#fdca26\"], [1.0, \"#f0f921\"]], \"sequentialminus\": [[0.0, \"#0d0887\"], [0.1111111111111111, \"#46039f\"], [0.2222222222222222, \"#7201a8\"], [0.3333333333333333, \"#9c179e\"], [0.4444444444444444, \"#bd3786\"], [0.5555555555555556, \"#d8576b\"], [0.6666666666666666, \"#ed7953\"], [0.7777777777777778, \"#fb9f3a\"], [0.8888888888888888, \"#fdca26\"], [1.0, \"#f0f921\"]]}, \"colorway\": [\"#636efa\", \"#EF553B\", \"#00cc96\", \"#ab63fa\", \"#FFA15A\", \"#19d3f3\", \"#FF6692\", \"#B6E880\", \"#FF97FF\", \"#FECB52\"], \"font\": {\"color\": \"#2a3f5f\"}, \"geo\": {\"bgcolor\": \"white\", \"lakecolor\": \"white\", \"landcolor\": \"#E5ECF6\", \"showlakes\": true, \"showland\": true, \"subunitcolor\": \"white\"}, \"hoverlabel\": {\"align\": \"left\"}, \"hovermode\": \"closest\", \"mapbox\": {\"style\": \"light\"}, \"paper_bgcolor\": \"white\", \"plot_bgcolor\": \"#E5ECF6\", \"polar\": {\"angularaxis\": {\"gridcolor\": \"white\", \"linecolor\": \"white\", \"ticks\": \"\"}, \"bgcolor\": \"#E5ECF6\", \"radialaxis\": {\"gridcolor\": \"white\", \"linecolor\": \"white\", \"ticks\": \"\"}}, \"scene\": {\"xaxis\": {\"backgroundcolor\": \"#E5ECF6\", \"gridcolor\": \"white\", \"gridwidth\": 2, \"linecolor\": \"white\", \"showbackground\": true, \"ticks\": \"\", \"zerolinecolor\": \"white\"}, \"yaxis\": {\"backgroundcolor\": \"#E5ECF6\", \"gridcolor\": \"white\", \"gridwidth\": 2, \"linecolor\": \"white\", \"showbackground\": true, \"ticks\": \"\", \"zerolinecolor\": \"white\"}, \"zaxis\": {\"backgroundcolor\": \"#E5ECF6\", \"gridcolor\": \"white\", \"gridwidth\": 2, \"linecolor\": \"white\", \"showbackground\": true, \"ticks\": \"\", \"zerolinecolor\": \"white\"}}, \"shapedefaults\": {\"line\": {\"color\": \"#2a3f5f\"}}, \"ternary\": {\"aaxis\": {\"gridcolor\": \"white\", \"linecolor\": \"white\", \"ticks\": \"\"}, \"baxis\": {\"gridcolor\": \"white\", \"linecolor\": \"white\", \"ticks\": \"\"}, \"bgcolor\": \"#E5ECF6\", \"caxis\": {\"gridcolor\": \"white\", \"linecolor\": \"white\", \"ticks\": \"\"}}, \"title\": {\"x\": 0.05}, \"xaxis\": {\"automargin\": true, \"gridcolor\": \"white\", \"linecolor\": \"white\", \"ticks\": \"\", \"title\": {\"standoff\": 15}, \"zerolinecolor\": \"white\", \"zerolinewidth\": 2}, \"yaxis\": {\"automargin\": true, \"gridcolor\": \"white\", \"linecolor\": \"white\", \"ticks\": \"\", \"title\": {\"standoff\": 15}, \"zerolinecolor\": \"white\", \"zerolinewidth\": 2}}}, \"title\": {\"text\": \"MSE by Epoch\"}, \"xaxis\": {\"title\": {\"text\": \"epoch\"}}, \"yaxis\": {\"title\": {\"text\": \"MSE\"}}},\n",
       "                        {\"responsive\": true}\n",
       "                    ).then(function(){\n",
       "                            \n",
       "var gd = document.getElementById('fe63f645-20a1-4c3e-82d2-1955689867a3');\n",
       "var x = new MutationObserver(function (mutations, observer) {{\n",
       "        var display = window.getComputedStyle(gd).display;\n",
       "        if (!display || display === 'none') {{\n",
       "            console.log([gd, 'removed!']);\n",
       "            Plotly.purge(gd);\n",
       "            observer.disconnect();\n",
       "        }}\n",
       "}});\n",
       "\n",
       "// Listen for the removal of the full notebook cells\n",
       "var notebookContainer = gd.closest('#notebook-container');\n",
       "if (notebookContainer) {{\n",
       "    x.observe(notebookContainer, {childList: true});\n",
       "}}\n",
       "\n",
       "// Listen for the clearing of the current output cell\n",
       "var outputEl = gd.closest('.output');\n",
       "if (outputEl) {{\n",
       "    x.observe(outputEl, {childList: true});\n",
       "}}\n",
       "\n",
       "                        })\n",
       "                };\n",
       "                });\n",
       "            </script>\n",
       "        </div>"
      ]
     },
     "metadata": {},
     "output_type": "display_data"
    }
   ],
   "source": [
    "''' fit the neural network '''\n",
    "# iterate forward & backward propagation\n",
    "epochs = 1000    # number of iterations of forward propagation - loss calculation - backward propagation\n",
    "verb = 0.1       # how often to report results\n",
    "losses,fig = mynet.execute(X, y, epochs, verb, True)\n",
    "\n",
    "# display results\n",
    "yhat = mynet.forwardPropagate(X)\n",
    "res = pd.DataFrame({'y_1':y[0,:], 'yhat_1':yhat[0,:], 'y_2':y[1,:], 'yhat_2':yhat[1,:]})\n",
    "res['Error_1'] = res.y_1 - res.yhat_1\n",
    "res['Error_2'] = res.y_2 - res.yhat_2\n",
    "display(res)\n",
    "\n",
    "# display results visually\n",
    "plyoff.iplot(fig)"
   ]
  },
  {
   "cell_type": "code",
   "execution_count": 5,
   "metadata": {},
   "outputs": [
    {
     "data": {
      "text/html": [
       "<div>\n",
       "<style scoped>\n",
       "    .dataframe tbody tr th:only-of-type {\n",
       "        vertical-align: middle;\n",
       "    }\n",
       "\n",
       "    .dataframe tbody tr th {\n",
       "        vertical-align: top;\n",
       "    }\n",
       "\n",
       "    .dataframe thead th {\n",
       "        text-align: right;\n",
       "    }\n",
       "</style>\n",
       "<table border=\"1\" class=\"dataframe\">\n",
       "  <thead>\n",
       "    <tr style=\"text-align: right;\">\n",
       "      <th></th>\n",
       "      <th>Output</th>\n",
       "    </tr>\n",
       "  </thead>\n",
       "  <tbody>\n",
       "    <tr>\n",
       "      <th>count</th>\n",
       "      <td>100.000000</td>\n",
       "    </tr>\n",
       "    <tr>\n",
       "      <th>mean</th>\n",
       "      <td>0.038572</td>\n",
       "    </tr>\n",
       "    <tr>\n",
       "      <th>std</th>\n",
       "      <td>0.002295</td>\n",
       "    </tr>\n",
       "    <tr>\n",
       "      <th>min</th>\n",
       "      <td>0.032681</td>\n",
       "    </tr>\n",
       "    <tr>\n",
       "      <th>25%</th>\n",
       "      <td>0.037025</td>\n",
       "    </tr>\n",
       "    <tr>\n",
       "      <th>50%</th>\n",
       "      <td>0.038516</td>\n",
       "    </tr>\n",
       "    <tr>\n",
       "      <th>75%</th>\n",
       "      <td>0.039828</td>\n",
       "    </tr>\n",
       "    <tr>\n",
       "      <th>max</th>\n",
       "      <td>0.044171</td>\n",
       "    </tr>\n",
       "  </tbody>\n",
       "</table>\n",
       "</div>"
      ],
      "text/plain": [
       "           Output\n",
       "count  100.000000\n",
       "mean     0.038572\n",
       "std      0.002295\n",
       "min      0.032681\n",
       "25%      0.037025\n",
       "50%      0.038516\n",
       "75%      0.039828\n",
       "max      0.044171"
      ]
     },
     "metadata": {},
     "output_type": "display_data"
    }
   ],
   "source": [
    "# test robustness of the network wrt random initialization\n",
    "M = 100\n",
    "epochs = 100\n",
    "states = np.rint(np.random.uniform(size=M)*10000).astype(int)\n",
    "nets = [None for i in range(M)]\n",
    "losses = [0]*M\n",
    "for i in range(M):\n",
    "    # create network\n",
    "    nets[i] = NeuralNet(nodeCounts, activations, learningRate, lossFunction, states[i])\n",
    "    losses[i] = nets[i].execute(X, y, epochs, None, False)[0][-1]\n",
    "outputs = pd.DataFrame(losses,columns=['Output'])\n",
    "display(outputs.describe())"
   ]
  },
  {
   "cell_type": "code",
   "execution_count": null,
   "metadata": {},
   "outputs": [],
   "source": []
  }
 ],
 "metadata": {
  "kernelspec": {
   "display_name": "Python 3",
   "language": "python",
   "name": "python3"
  },
  "language_info": {
   "codemirror_mode": {
    "name": "ipython",
    "version": 3
   },
   "file_extension": ".py",
   "mimetype": "text/x-python",
   "name": "python",
   "nbconvert_exporter": "python",
   "pygments_lexer": "ipython3",
   "version": "3.7.7"
  }
 },
 "nbformat": 4,
 "nbformat_minor": 4
}
