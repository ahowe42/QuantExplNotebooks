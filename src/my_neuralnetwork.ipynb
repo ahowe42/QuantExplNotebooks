{
 "cells": [
  {
   "cell_type": "code",
   "execution_count": 1,
   "metadata": {},
   "outputs": [
    {
     "data": {
      "text/html": [
       "        <script type=\"text/javascript\">\n",
       "        window.PlotlyConfig = {MathJaxConfig: 'local'};\n",
       "        if (window.MathJax) {MathJax.Hub.Config({SVG: {font: \"STIX-Web\"}});}\n",
       "        if (typeof require !== 'undefined') {\n",
       "        require.undef(\"plotly\");\n",
       "        requirejs.config({\n",
       "            paths: {\n",
       "                'plotly': ['https://cdn.plot.ly/plotly-latest.min']\n",
       "            }\n",
       "        });\n",
       "        require(['plotly'], function(Plotly) {\n",
       "            window._Plotly = Plotly;\n",
       "        });\n",
       "        }\n",
       "        </script>\n",
       "        "
      ]
     },
     "metadata": {},
     "output_type": "display_data"
    },
    {
     "data": {
      "application/vnd.plotly.v1+json": {
       "config": {
        "linkText": "Export to plot.ly",
        "plotlyServerURL": "https://plot.ly",
        "showLink": false
       },
       "data": [
        {
         "mode": "markers",
         "type": "scatter",
         "x": [
          1,
          4,
          7
         ],
         "y": [
          7,
          5,
          7
         ]
        },
        {
         "mode": "lines",
         "type": "scatter",
         "x": [
          1,
          2,
          3,
          4,
          5,
          6,
          7
         ],
         "y": [
          3,
          2,
          1,
          1,
          1,
          2,
          3
         ]
        }
       ],
       "layout": {
        "autosize": false,
        "height": 450,
        "showlegend": false,
        "template": {
         "data": {
          "bar": [
           {
            "error_x": {
             "color": "#2a3f5f"
            },
            "error_y": {
             "color": "#2a3f5f"
            },
            "marker": {
             "line": {
              "color": "#E5ECF6",
              "width": 0.5
             }
            },
            "type": "bar"
           }
          ],
          "barpolar": [
           {
            "marker": {
             "line": {
              "color": "#E5ECF6",
              "width": 0.5
             }
            },
            "type": "barpolar"
           }
          ],
          "carpet": [
           {
            "aaxis": {
             "endlinecolor": "#2a3f5f",
             "gridcolor": "white",
             "linecolor": "white",
             "minorgridcolor": "white",
             "startlinecolor": "#2a3f5f"
            },
            "baxis": {
             "endlinecolor": "#2a3f5f",
             "gridcolor": "white",
             "linecolor": "white",
             "minorgridcolor": "white",
             "startlinecolor": "#2a3f5f"
            },
            "type": "carpet"
           }
          ],
          "choropleth": [
           {
            "colorbar": {
             "outlinewidth": 0,
             "ticks": ""
            },
            "type": "choropleth"
           }
          ],
          "contour": [
           {
            "colorbar": {
             "outlinewidth": 0,
             "ticks": ""
            },
            "colorscale": [
             [
              0,
              "#0d0887"
             ],
             [
              0.1111111111111111,
              "#46039f"
             ],
             [
              0.2222222222222222,
              "#7201a8"
             ],
             [
              0.3333333333333333,
              "#9c179e"
             ],
             [
              0.4444444444444444,
              "#bd3786"
             ],
             [
              0.5555555555555556,
              "#d8576b"
             ],
             [
              0.6666666666666666,
              "#ed7953"
             ],
             [
              0.7777777777777778,
              "#fb9f3a"
             ],
             [
              0.8888888888888888,
              "#fdca26"
             ],
             [
              1,
              "#f0f921"
             ]
            ],
            "type": "contour"
           }
          ],
          "contourcarpet": [
           {
            "colorbar": {
             "outlinewidth": 0,
             "ticks": ""
            },
            "type": "contourcarpet"
           }
          ],
          "heatmap": [
           {
            "colorbar": {
             "outlinewidth": 0,
             "ticks": ""
            },
            "colorscale": [
             [
              0,
              "#0d0887"
             ],
             [
              0.1111111111111111,
              "#46039f"
             ],
             [
              0.2222222222222222,
              "#7201a8"
             ],
             [
              0.3333333333333333,
              "#9c179e"
             ],
             [
              0.4444444444444444,
              "#bd3786"
             ],
             [
              0.5555555555555556,
              "#d8576b"
             ],
             [
              0.6666666666666666,
              "#ed7953"
             ],
             [
              0.7777777777777778,
              "#fb9f3a"
             ],
             [
              0.8888888888888888,
              "#fdca26"
             ],
             [
              1,
              "#f0f921"
             ]
            ],
            "type": "heatmap"
           }
          ],
          "heatmapgl": [
           {
            "colorbar": {
             "outlinewidth": 0,
             "ticks": ""
            },
            "colorscale": [
             [
              0,
              "#0d0887"
             ],
             [
              0.1111111111111111,
              "#46039f"
             ],
             [
              0.2222222222222222,
              "#7201a8"
             ],
             [
              0.3333333333333333,
              "#9c179e"
             ],
             [
              0.4444444444444444,
              "#bd3786"
             ],
             [
              0.5555555555555556,
              "#d8576b"
             ],
             [
              0.6666666666666666,
              "#ed7953"
             ],
             [
              0.7777777777777778,
              "#fb9f3a"
             ],
             [
              0.8888888888888888,
              "#fdca26"
             ],
             [
              1,
              "#f0f921"
             ]
            ],
            "type": "heatmapgl"
           }
          ],
          "histogram": [
           {
            "marker": {
             "colorbar": {
              "outlinewidth": 0,
              "ticks": ""
             }
            },
            "type": "histogram"
           }
          ],
          "histogram2d": [
           {
            "colorbar": {
             "outlinewidth": 0,
             "ticks": ""
            },
            "colorscale": [
             [
              0,
              "#0d0887"
             ],
             [
              0.1111111111111111,
              "#46039f"
             ],
             [
              0.2222222222222222,
              "#7201a8"
             ],
             [
              0.3333333333333333,
              "#9c179e"
             ],
             [
              0.4444444444444444,
              "#bd3786"
             ],
             [
              0.5555555555555556,
              "#d8576b"
             ],
             [
              0.6666666666666666,
              "#ed7953"
             ],
             [
              0.7777777777777778,
              "#fb9f3a"
             ],
             [
              0.8888888888888888,
              "#fdca26"
             ],
             [
              1,
              "#f0f921"
             ]
            ],
            "type": "histogram2d"
           }
          ],
          "histogram2dcontour": [
           {
            "colorbar": {
             "outlinewidth": 0,
             "ticks": ""
            },
            "colorscale": [
             [
              0,
              "#0d0887"
             ],
             [
              0.1111111111111111,
              "#46039f"
             ],
             [
              0.2222222222222222,
              "#7201a8"
             ],
             [
              0.3333333333333333,
              "#9c179e"
             ],
             [
              0.4444444444444444,
              "#bd3786"
             ],
             [
              0.5555555555555556,
              "#d8576b"
             ],
             [
              0.6666666666666666,
              "#ed7953"
             ],
             [
              0.7777777777777778,
              "#fb9f3a"
             ],
             [
              0.8888888888888888,
              "#fdca26"
             ],
             [
              1,
              "#f0f921"
             ]
            ],
            "type": "histogram2dcontour"
           }
          ],
          "mesh3d": [
           {
            "colorbar": {
             "outlinewidth": 0,
             "ticks": ""
            },
            "type": "mesh3d"
           }
          ],
          "parcoords": [
           {
            "line": {
             "colorbar": {
              "outlinewidth": 0,
              "ticks": ""
             }
            },
            "type": "parcoords"
           }
          ],
          "pie": [
           {
            "automargin": true,
            "type": "pie"
           }
          ],
          "scatter": [
           {
            "marker": {
             "colorbar": {
              "outlinewidth": 0,
              "ticks": ""
             }
            },
            "type": "scatter"
           }
          ],
          "scatter3d": [
           {
            "line": {
             "colorbar": {
              "outlinewidth": 0,
              "ticks": ""
             }
            },
            "marker": {
             "colorbar": {
              "outlinewidth": 0,
              "ticks": ""
             }
            },
            "type": "scatter3d"
           }
          ],
          "scattercarpet": [
           {
            "marker": {
             "colorbar": {
              "outlinewidth": 0,
              "ticks": ""
             }
            },
            "type": "scattercarpet"
           }
          ],
          "scattergeo": [
           {
            "marker": {
             "colorbar": {
              "outlinewidth": 0,
              "ticks": ""
             }
            },
            "type": "scattergeo"
           }
          ],
          "scattergl": [
           {
            "marker": {
             "colorbar": {
              "outlinewidth": 0,
              "ticks": ""
             }
            },
            "type": "scattergl"
           }
          ],
          "scattermapbox": [
           {
            "marker": {
             "colorbar": {
              "outlinewidth": 0,
              "ticks": ""
             }
            },
            "type": "scattermapbox"
           }
          ],
          "scatterpolar": [
           {
            "marker": {
             "colorbar": {
              "outlinewidth": 0,
              "ticks": ""
             }
            },
            "type": "scatterpolar"
           }
          ],
          "scatterpolargl": [
           {
            "marker": {
             "colorbar": {
              "outlinewidth": 0,
              "ticks": ""
             }
            },
            "type": "scatterpolargl"
           }
          ],
          "scatterternary": [
           {
            "marker": {
             "colorbar": {
              "outlinewidth": 0,
              "ticks": ""
             }
            },
            "type": "scatterternary"
           }
          ],
          "surface": [
           {
            "colorbar": {
             "outlinewidth": 0,
             "ticks": ""
            },
            "colorscale": [
             [
              0,
              "#0d0887"
             ],
             [
              0.1111111111111111,
              "#46039f"
             ],
             [
              0.2222222222222222,
              "#7201a8"
             ],
             [
              0.3333333333333333,
              "#9c179e"
             ],
             [
              0.4444444444444444,
              "#bd3786"
             ],
             [
              0.5555555555555556,
              "#d8576b"
             ],
             [
              0.6666666666666666,
              "#ed7953"
             ],
             [
              0.7777777777777778,
              "#fb9f3a"
             ],
             [
              0.8888888888888888,
              "#fdca26"
             ],
             [
              1,
              "#f0f921"
             ]
            ],
            "type": "surface"
           }
          ],
          "table": [
           {
            "cells": {
             "fill": {
              "color": "#EBF0F8"
             },
             "line": {
              "color": "white"
             }
            },
            "header": {
             "fill": {
              "color": "#C8D4E3"
             },
             "line": {
              "color": "white"
             }
            },
            "type": "table"
           }
          ]
         },
         "layout": {
          "annotationdefaults": {
           "arrowcolor": "#2a3f5f",
           "arrowhead": 0,
           "arrowwidth": 1
          },
          "coloraxis": {
           "colorbar": {
            "outlinewidth": 0,
            "ticks": ""
           }
          },
          "colorscale": {
           "diverging": [
            [
             0,
             "#8e0152"
            ],
            [
             0.1,
             "#c51b7d"
            ],
            [
             0.2,
             "#de77ae"
            ],
            [
             0.3,
             "#f1b6da"
            ],
            [
             0.4,
             "#fde0ef"
            ],
            [
             0.5,
             "#f7f7f7"
            ],
            [
             0.6,
             "#e6f5d0"
            ],
            [
             0.7,
             "#b8e186"
            ],
            [
             0.8,
             "#7fbc41"
            ],
            [
             0.9,
             "#4d9221"
            ],
            [
             1,
             "#276419"
            ]
           ],
           "sequential": [
            [
             0,
             "#0d0887"
            ],
            [
             0.1111111111111111,
             "#46039f"
            ],
            [
             0.2222222222222222,
             "#7201a8"
            ],
            [
             0.3333333333333333,
             "#9c179e"
            ],
            [
             0.4444444444444444,
             "#bd3786"
            ],
            [
             0.5555555555555556,
             "#d8576b"
            ],
            [
             0.6666666666666666,
             "#ed7953"
            ],
            [
             0.7777777777777778,
             "#fb9f3a"
            ],
            [
             0.8888888888888888,
             "#fdca26"
            ],
            [
             1,
             "#f0f921"
            ]
           ],
           "sequentialminus": [
            [
             0,
             "#0d0887"
            ],
            [
             0.1111111111111111,
             "#46039f"
            ],
            [
             0.2222222222222222,
             "#7201a8"
            ],
            [
             0.3333333333333333,
             "#9c179e"
            ],
            [
             0.4444444444444444,
             "#bd3786"
            ],
            [
             0.5555555555555556,
             "#d8576b"
            ],
            [
             0.6666666666666666,
             "#ed7953"
            ],
            [
             0.7777777777777778,
             "#fb9f3a"
            ],
            [
             0.8888888888888888,
             "#fdca26"
            ],
            [
             1,
             "#f0f921"
            ]
           ]
          },
          "colorway": [
           "#636efa",
           "#EF553B",
           "#00cc96",
           "#ab63fa",
           "#FFA15A",
           "#19d3f3",
           "#FF6692",
           "#B6E880",
           "#FF97FF",
           "#FECB52"
          ],
          "font": {
           "color": "#2a3f5f"
          },
          "geo": {
           "bgcolor": "white",
           "lakecolor": "white",
           "landcolor": "#E5ECF6",
           "showlakes": true,
           "showland": true,
           "subunitcolor": "white"
          },
          "hoverlabel": {
           "align": "left"
          },
          "hovermode": "closest",
          "mapbox": {
           "style": "light"
          },
          "paper_bgcolor": "white",
          "plot_bgcolor": "#E5ECF6",
          "polar": {
           "angularaxis": {
            "gridcolor": "white",
            "linecolor": "white",
            "ticks": ""
           },
           "bgcolor": "#E5ECF6",
           "radialaxis": {
            "gridcolor": "white",
            "linecolor": "white",
            "ticks": ""
           }
          },
          "scene": {
           "xaxis": {
            "backgroundcolor": "#E5ECF6",
            "gridcolor": "white",
            "gridwidth": 2,
            "linecolor": "white",
            "showbackground": true,
            "ticks": "",
            "zerolinecolor": "white"
           },
           "yaxis": {
            "backgroundcolor": "#E5ECF6",
            "gridcolor": "white",
            "gridwidth": 2,
            "linecolor": "white",
            "showbackground": true,
            "ticks": "",
            "zerolinecolor": "white"
           },
           "zaxis": {
            "backgroundcolor": "#E5ECF6",
            "gridcolor": "white",
            "gridwidth": 2,
            "linecolor": "white",
            "showbackground": true,
            "ticks": "",
            "zerolinecolor": "white"
           }
          },
          "shapedefaults": {
           "line": {
            "color": "#2a3f5f"
           }
          },
          "ternary": {
           "aaxis": {
            "gridcolor": "white",
            "linecolor": "white",
            "ticks": ""
           },
           "baxis": {
            "gridcolor": "white",
            "linecolor": "white",
            "ticks": ""
           },
           "bgcolor": "#E5ECF6",
           "caxis": {
            "gridcolor": "white",
            "linecolor": "white",
            "ticks": ""
           }
          },
          "title": {
           "x": 0.05
          },
          "xaxis": {
           "automargin": true,
           "gridcolor": "white",
           "linecolor": "white",
           "ticks": "",
           "title": {
            "standoff": 15
           },
           "zerolinecolor": "white",
           "zerolinewidth": 2
          },
          "yaxis": {
           "automargin": true,
           "gridcolor": "white",
           "linecolor": "white",
           "ticks": "",
           "title": {
            "standoff": 15
           },
           "zerolinecolor": "white",
           "zerolinewidth": 2
          }
         }
        },
        "title": {
         "text": "Initialization Makes Me Smile<br>(and it's fun to show off a little...)"
        },
        "width": 500,
        "xaxis": {
         "autorange": true,
         "range": [
          0.5829145728643216,
          7.417085427135678
         ],
         "showgrid": false,
         "showticklabels": false,
         "type": "linear"
        },
        "yaxis": {
         "autorange": true,
         "range": [
          0.6614420062695925,
          7.432601880877743
         ],
         "showgrid": false,
         "showticklabels": false,
         "type": "linear"
        }
       }
      },
      "image/png": "[encoded data removed]",
      "text/html": [
       "<div>\n",
       "        \n",
       "        \n",
       "            <div id=\"a44329db-c502-48c0-8618-293b026d499a\" class=\"plotly-graph-div\" style=\"height:525px; width:500px;\"></div>\n",
       "            <script type=\"text/javascript\">\n",
       "                require([\"plotly\"], function(Plotly) {\n",
       "                    window.PLOTLYENV=window.PLOTLYENV || {};\n",
       "                    \n",
       "                if (document.getElementById(\"a44329db-c502-48c0-8618-293b026d499a\")) {\n",
       "                    Plotly.newPlot(\n",
       "                        'a44329db-c502-48c0-8618-293b026d499a',\n",
       "                        [{\"mode\": \"markers\", \"type\": \"scatter\", \"x\": [1, 4, 7], \"y\": [7, 5, 7]}, {\"mode\": \"lines\", \"type\": \"scatter\", \"x\": [1, 2, 3, 4, 5, 6, 7], \"y\": [3, 2, 1, 1, 1, 2, 3]}],\n",
       "                        {\"autosize\": false, \"showlegend\": false, \"template\": {\"data\": {\"bar\": [{\"error_x\": {\"color\": \"#2a3f5f\"}, \"error_y\": {\"color\": \"#2a3f5f\"}, \"marker\": {\"line\": {\"color\": \"#E5ECF6\", \"width\": 0.5}}, \"type\": \"bar\"}], \"barpolar\": [{\"marker\": {\"line\": {\"color\": \"#E5ECF6\", \"width\": 0.5}}, \"type\": \"barpolar\"}], \"carpet\": [{\"aaxis\": {\"endlinecolor\": \"#2a3f5f\", \"gridcolor\": \"white\", \"linecolor\": \"white\", \"minorgridcolor\": \"white\", \"startlinecolor\": \"#2a3f5f\"}, \"baxis\": {\"endlinecolor\": \"#2a3f5f\", \"gridcolor\": \"white\", \"linecolor\": \"white\", \"minorgridcolor\": \"white\", \"startlinecolor\": \"#2a3f5f\"}, \"type\": \"carpet\"}], \"choropleth\": [{\"colorbar\": {\"outlinewidth\": 0, \"ticks\": \"\"}, \"type\": \"choropleth\"}], \"contour\": [{\"colorbar\": {\"outlinewidth\": 0, \"ticks\": \"\"}, \"colorscale\": [[0.0, \"#0d0887\"], [0.1111111111111111, \"#46039f\"], [0.2222222222222222, \"#7201a8\"], [0.3333333333333333, \"#9c179e\"], [0.4444444444444444, \"#bd3786\"], [0.5555555555555556, \"#d8576b\"], [0.6666666666666666, \"#ed7953\"], [0.7777777777777778, \"#fb9f3a\"], [0.8888888888888888, \"#fdca26\"], [1.0, \"#f0f921\"]], \"type\": \"contour\"}], \"contourcarpet\": [{\"colorbar\": {\"outlinewidth\": 0, \"ticks\": \"\"}, \"type\": \"contourcarpet\"}], \"heatmap\": [{\"colorbar\": {\"outlinewidth\": 0, \"ticks\": \"\"}, \"colorscale\": [[0.0, \"#0d0887\"], [0.1111111111111111, \"#46039f\"], [0.2222222222222222, \"#7201a8\"], [0.3333333333333333, \"#9c179e\"], [0.4444444444444444, \"#bd3786\"], [0.5555555555555556, \"#d8576b\"], [0.6666666666666666, \"#ed7953\"], [0.7777777777777778, \"#fb9f3a\"], [0.8888888888888888, \"#fdca26\"], [1.0, \"#f0f921\"]], \"type\": \"heatmap\"}], \"heatmapgl\": [{\"colorbar\": {\"outlinewidth\": 0, \"ticks\": \"\"}, \"colorscale\": [[0.0, \"#0d0887\"], [0.1111111111111111, \"#46039f\"], [0.2222222222222222, \"#7201a8\"], [0.3333333333333333, \"#9c179e\"], [0.4444444444444444, \"#bd3786\"], [0.5555555555555556, \"#d8576b\"], [0.6666666666666666, \"#ed7953\"], [0.7777777777777778, \"#fb9f3a\"], [0.8888888888888888, \"#fdca26\"], [1.0, \"#f0f921\"]], \"type\": \"heatmapgl\"}], \"histogram\": [{\"marker\": {\"colorbar\": {\"outlinewidth\": 0, \"ticks\": \"\"}}, \"type\": \"histogram\"}], \"histogram2d\": [{\"colorbar\": {\"outlinewidth\": 0, \"ticks\": \"\"}, \"colorscale\": [[0.0, \"#0d0887\"], [0.1111111111111111, \"#46039f\"], [0.2222222222222222, \"#7201a8\"], [0.3333333333333333, \"#9c179e\"], [0.4444444444444444, \"#bd3786\"], [0.5555555555555556, \"#d8576b\"], [0.6666666666666666, \"#ed7953\"], [0.7777777777777778, \"#fb9f3a\"], [0.8888888888888888, \"#fdca26\"], [1.0, \"#f0f921\"]], \"type\": \"histogram2d\"}], \"histogram2dcontour\": [{\"colorbar\": {\"outlinewidth\": 0, \"ticks\": \"\"}, \"colorscale\": [[0.0, \"#0d0887\"], [0.1111111111111111, \"#46039f\"], [0.2222222222222222, \"#7201a8\"], [0.3333333333333333, \"#9c179e\"], [0.4444444444444444, \"#bd3786\"], [0.5555555555555556, \"#d8576b\"], [0.6666666666666666, \"#ed7953\"], [0.7777777777777778, \"#fb9f3a\"], [0.8888888888888888, \"#fdca26\"], [1.0, \"#f0f921\"]], \"type\": \"histogram2dcontour\"}], \"mesh3d\": [{\"colorbar\": {\"outlinewidth\": 0, \"ticks\": \"\"}, \"type\": \"mesh3d\"}], \"parcoords\": [{\"line\": {\"colorbar\": {\"outlinewidth\": 0, \"ticks\": \"\"}}, \"type\": \"parcoords\"}], \"pie\": [{\"automargin\": true, \"type\": \"pie\"}], \"scatter\": [{\"marker\": {\"colorbar\": {\"outlinewidth\": 0, \"ticks\": \"\"}}, \"type\": \"scatter\"}], \"scatter3d\": [{\"line\": {\"colorbar\": {\"outlinewidth\": 0, \"ticks\": \"\"}}, \"marker\": {\"colorbar\": {\"outlinewidth\": 0, \"ticks\": \"\"}}, \"type\": \"scatter3d\"}], \"scattercarpet\": [{\"marker\": {\"colorbar\": {\"outlinewidth\": 0, \"ticks\": \"\"}}, \"type\": \"scattercarpet\"}], \"scattergeo\": [{\"marker\": {\"colorbar\": {\"outlinewidth\": 0, \"ticks\": \"\"}}, \"type\": \"scattergeo\"}], \"scattergl\": [{\"marker\": {\"colorbar\": {\"outlinewidth\": 0, \"ticks\": \"\"}}, \"type\": \"scattergl\"}], \"scattermapbox\": [{\"marker\": {\"colorbar\": {\"outlinewidth\": 0, \"ticks\": \"\"}}, \"type\": \"scattermapbox\"}], \"scatterpolar\": [{\"marker\": {\"colorbar\": {\"outlinewidth\": 0, \"ticks\": \"\"}}, \"type\": \"scatterpolar\"}], \"scatterpolargl\": [{\"marker\": {\"colorbar\": {\"outlinewidth\": 0, \"ticks\": \"\"}}, \"type\": \"scatterpolargl\"}], \"scatterternary\": [{\"marker\": {\"colorbar\": {\"outlinewidth\": 0, \"ticks\": \"\"}}, \"type\": \"scatterternary\"}], \"surface\": [{\"colorbar\": {\"outlinewidth\": 0, \"ticks\": \"\"}, \"colorscale\": [[0.0, \"#0d0887\"], [0.1111111111111111, \"#46039f\"], [0.2222222222222222, \"#7201a8\"], [0.3333333333333333, \"#9c179e\"], [0.4444444444444444, \"#bd3786\"], [0.5555555555555556, \"#d8576b\"], [0.6666666666666666, \"#ed7953\"], [0.7777777777777778, \"#fb9f3a\"], [0.8888888888888888, \"#fdca26\"], [1.0, \"#f0f921\"]], \"type\": \"surface\"}], \"table\": [{\"cells\": {\"fill\": {\"color\": \"#EBF0F8\"}, \"line\": {\"color\": \"white\"}}, \"header\": {\"fill\": {\"color\": \"#C8D4E3\"}, \"line\": {\"color\": \"white\"}}, \"type\": \"table\"}]}, \"layout\": {\"annotationdefaults\": {\"arrowcolor\": \"#2a3f5f\", \"arrowhead\": 0, \"arrowwidth\": 1}, \"coloraxis\": {\"colorbar\": {\"outlinewidth\": 0, \"ticks\": \"\"}}, \"colorscale\": {\"diverging\": [[0, \"#8e0152\"], [0.1, \"#c51b7d\"], [0.2, \"#de77ae\"], [0.3, \"#f1b6da\"], [0.4, \"#fde0ef\"], [0.5, \"#f7f7f7\"], [0.6, \"#e6f5d0\"], [0.7, \"#b8e186\"], [0.8, \"#7fbc41\"], [0.9, \"#4d9221\"], [1, \"#276419\"]], \"sequential\": [[0.0, \"#0d0887\"], [0.1111111111111111, \"#46039f\"], [0.2222222222222222, \"#7201a8\"], [0.3333333333333333, \"#9c179e\"], [0.4444444444444444, \"#bd3786\"], [0.5555555555555556, \"#d8576b\"], [0.6666666666666666, \"#ed7953\"], [0.7777777777777778, \"#fb9f3a\"], [0.8888888888888888, \"#fdca26\"], [1.0, \"#f0f921\"]], \"sequentialminus\": [[0.0, \"#0d0887\"], [0.1111111111111111, \"#46039f\"], [0.2222222222222222, \"#7201a8\"], [0.3333333333333333, \"#9c179e\"], [0.4444444444444444, \"#bd3786\"], [0.5555555555555556, \"#d8576b\"], [0.6666666666666666, \"#ed7953\"], [0.7777777777777778, \"#fb9f3a\"], [0.8888888888888888, \"#fdca26\"], [1.0, \"#f0f921\"]]}, \"colorway\": [\"#636efa\", \"#EF553B\", \"#00cc96\", \"#ab63fa\", \"#FFA15A\", \"#19d3f3\", \"#FF6692\", \"#B6E880\", \"#FF97FF\", \"#FECB52\"], \"font\": {\"color\": \"#2a3f5f\"}, \"geo\": {\"bgcolor\": \"white\", \"lakecolor\": \"white\", \"landcolor\": \"#E5ECF6\", \"showlakes\": true, \"showland\": true, \"subunitcolor\": \"white\"}, \"hoverlabel\": {\"align\": \"left\"}, \"hovermode\": \"closest\", \"mapbox\": {\"style\": \"light\"}, \"paper_bgcolor\": \"white\", \"plot_bgcolor\": \"#E5ECF6\", \"polar\": {\"angularaxis\": {\"gridcolor\": \"white\", \"linecolor\": \"white\", \"ticks\": \"\"}, \"bgcolor\": \"#E5ECF6\", \"radialaxis\": {\"gridcolor\": \"white\", \"linecolor\": \"white\", \"ticks\": \"\"}}, \"scene\": {\"xaxis\": {\"backgroundcolor\": \"#E5ECF6\", \"gridcolor\": \"white\", \"gridwidth\": 2, \"linecolor\": \"white\", \"showbackground\": true, \"ticks\": \"\", \"zerolinecolor\": \"white\"}, \"yaxis\": {\"backgroundcolor\": \"#E5ECF6\", \"gridcolor\": \"white\", \"gridwidth\": 2, \"linecolor\": \"white\", \"showbackground\": true, \"ticks\": \"\", \"zerolinecolor\": \"white\"}, \"zaxis\": {\"backgroundcolor\": \"#E5ECF6\", \"gridcolor\": \"white\", \"gridwidth\": 2, \"linecolor\": \"white\", \"showbackground\": true, \"ticks\": \"\", \"zerolinecolor\": \"white\"}}, \"shapedefaults\": {\"line\": {\"color\": \"#2a3f5f\"}}, \"ternary\": {\"aaxis\": {\"gridcolor\": \"white\", \"linecolor\": \"white\", \"ticks\": \"\"}, \"baxis\": {\"gridcolor\": \"white\", \"linecolor\": \"white\", \"ticks\": \"\"}, \"bgcolor\": \"#E5ECF6\", \"caxis\": {\"gridcolor\": \"white\", \"linecolor\": \"white\", \"ticks\": \"\"}}, \"title\": {\"x\": 0.05}, \"xaxis\": {\"automargin\": true, \"gridcolor\": \"white\", \"linecolor\": \"white\", \"ticks\": \"\", \"title\": {\"standoff\": 15}, \"zerolinecolor\": \"white\", \"zerolinewidth\": 2}, \"yaxis\": {\"automargin\": true, \"gridcolor\": \"white\", \"linecolor\": \"white\", \"ticks\": \"\", \"title\": {\"standoff\": 15}, \"zerolinecolor\": \"white\", \"zerolinewidth\": 2}}}, \"title\": {\"text\": \"Initialization Makes Me Smile<br>(and it's fun to show off a little...)\"}, \"width\": 500, \"xaxis\": {\"showgrid\": false, \"showticklabels\": false}, \"yaxis\": {\"showgrid\": false, \"showticklabels\": false}},\n",
       "                        {\"responsive\": true}\n",
       "                    ).then(function(){\n",
       "                            \n",
       "var gd = document.getElementById('a44329db-c502-48c0-8618-293b026d499a');\n",
       "var x = new MutationObserver(function (mutations, observer) {{\n",
       "        var display = window.getComputedStyle(gd).display;\n",
       "        if (!display || display === 'none') {{\n",
       "            console.log([gd, 'removed!']);\n",
       "            Plotly.purge(gd);\n",
       "            observer.disconnect();\n",
       "        }}\n",
       "}});\n",
       "\n",
       "// Listen for the removal of the full notebook cells\n",
       "var notebookContainer = gd.closest('#notebook-container');\n",
       "if (notebookContainer) {{\n",
       "    x.observe(notebookContainer, {childList: true});\n",
       "}}\n",
       "\n",
       "// Listen for the clearing of the current output cell\n",
       "var outputEl = gd.closest('.output');\n",
       "if (outputEl) {{\n",
       "    x.observe(outputEl, {childList: true});\n",
       "}}\n",
       "\n",
       "                        })\n",
       "                };\n",
       "                });\n",
       "            </script>\n",
       "        </div>"
      ]
     },
     "metadata": {},
     "output_type": "display_data"
    }
   ],
   "source": [
    "import math\n",
    "import numpy as np\n",
    "import datetime as dt\n",
    "import pandas as pd\n",
    "import ipdb\n",
    "\n",
    "import chart_studio.plotly as ply\n",
    "import chart_studio.tools as plytool\n",
    "import plotly.figure_factory as ff\n",
    "import plotly.graph_objs as go\n",
    "import plotly.offline as plyoff\n",
    "\n",
    "# plotly initialization\n",
    "# if using jupyter lab, must have the plotly extension installed: https://github.com/jupyterlab/jupyter-renderers/tree/master/packages/plotly-extension\n",
    "# jupyter labextension install @jupyterlab/plotly-extension\n",
    "plyoff.init_notebook_mode(connected=True)\n",
    "x1 = [1,4,7]; y1 = [7,5,7]\n",
    "x2 = [1,2,3,4,5,6,7]; y2 = [3,2,1,1,1,2,3]\n",
    "plyoff.iplot(go.Figure(data=[go.Scatter({\"x\":x1, \"y\":y1, 'mode':'markers'}),\n",
    "                             go.Scatter({\"x\":x2, \"y\":y2, 'mode':'lines'})],\n",
    "                                        layout=go.Layout(autosize=False,width=500,title=\"Initialization Makes Me Smile<br>(and it's fun to show off a little...)\",\n",
    "                                                         showlegend=False, xaxis={'showgrid':False, 'showticklabels':False},\n",
    "                                                         yaxis={'showgrid':False, 'showticklabels':False})))"
   ]
  },
  {
   "cell_type": "code",
   "execution_count": 2,
   "metadata": {},
   "outputs": [],
   "source": [
    "class NeuralNet():\n",
    "    def __init__(self, nodeCounts, activations, learnRate, lossFunc, randState):\n",
    "        '''\n",
    "        Initialize the neural net. Note that the input data is assumed to be transposed from\n",
    "        the usual nxp shape, so that input node i represents all observations for feature i.\n",
    "        Inputs are:\n",
    "            nodeCounts: list of node counts per layer\n",
    "            activations: list of activations for each layer (just use None for the input layer)\n",
    "            learnRate: learning rate for back propagation\n",
    "            lossFunc: loss function, currently only MSE is implemented\n",
    "            randState: seed for the the randomizer\n",
    "        Other useful attributes are:\n",
    "            N: number calculation layers\n",
    "            hiddenLayers: number of hidden layers (duh!)\n",
    "            Z: list of arrays of linear combination part of activation calculation\n",
    "            A: list of arrays of final activation values\n",
    "        '''\n",
    "        self.randState = randState       # random state\n",
    "        self.lossFunc = lossFunc         # loss function name\n",
    "        self.learnRate = learnRate       # back propagation learning rate\n",
    "        self.nodeCounts = nodeCounts     # list of node counts per layer\n",
    "        self.inpNodes = nodeCounts[0]    # number input nodes\n",
    "        self.hidNodes = nodeCounts[1:-1] # list of number of nodes in hidden layers\n",
    "        self.outNodes = nodeCounts[-1]   # number output nodes\n",
    "        self.N = len(nodeCounts)-1       # number calculation layers\n",
    "        self.hiddenLayers = self.N-1     # number of hidden layers\n",
    "        self.Z = [None]*(self.N+1)       # linear combination values (Z)\n",
    "        self.A = [None]*(self.N+1)       # activation values (A)\n",
    "        self.G = [None]*(self.N+1)       # gradients\n",
    "        \n",
    "        # check if softmax is used and warn\n",
    "        if 'softmax' in activations:\n",
    "            print('Warning, the gradient of softmax has not yet been implemented, but is hardcoded to 0.5. Use at your own risk!')\n",
    "            \n",
    "        # check if loss is not MSE & warn\n",
    "        if self.lossFunc != 'MSE':\n",
    "            print('Warming, the only loss function currently implemented is MSE, the value & gradient is hardcoded at 0.5. Use at your own risk!')\n",
    "        \n",
    "        # set the random state\n",
    "        if randState is None:\n",
    "            self.randState = math.ceil((dt.datetime.now() - dt.datetime(2018,6,19)).total_seconds())\n",
    "        np.random.seed(self.randState)\n",
    "\n",
    "        # loop through and build each of the layers\n",
    "        layerCounts = len(nodeCounts)\n",
    "        self.layers = [None]*layerCounts\n",
    "        prevM = nodeCounts[0]\n",
    "        for l in range(layerCounts):\n",
    "            if l == 0:\n",
    "                pass # this is the input node, so just let the parameters & gradients stay None\n",
    "            else:\n",
    "                # randomly initialize the weights & biases\n",
    "                w = np.random.uniform(size=(nodeCounts[l],prevM))-0.5\n",
    "                b = np.random.uniform(size=(nodeCounts[l],1))-0.5\n",
    "                # put it all together\n",
    "                self.layers[l] = {'ws':w, 'bs':b, 'func':activations[l]}\n",
    "                # initialize to zero the gradients\n",
    "                self.G[l] = {'ws':np.zeros(shape=(nodeCounts[l],prevM), dtype=float),\n",
    "                                     'bs':np.zeros(shape=(nodeCounts[l],1), dtype=float)}\n",
    "                # set the previous layer number nodes to this one\n",
    "                prevM = nodeCounts[l]\n",
    "            \n",
    "    def __str__(self):\n",
    "        res = 'Random State = %d\\nLoss = %s\\nLearning Rate = %0.3f\\n%d hidden layers\\n%d input nodes'\\\n",
    "            %(self.randState,self.lossFunc,self.learnRate,self.hiddenLayers,self.inpNodes)\n",
    "        for i,l in enumerate(self.layers[1:]):\n",
    "            if (i==self.hiddenLayers):\n",
    "                res += '\\noutput layer (%s), %d nodes:\\n\\tw=%r\\n\\tb=%r'%(l['func'],len(l['bs']),l['ws'],l['bs'])\n",
    "            else:\n",
    "                res += '\\nlayer %d (%s), %d nodes:\\n\\tw=%r\\n\\tb=%r'%(i+1,l['func'],len(l['bs']),l['ws'],l['bs'])\n",
    "        res += '\\nOutput value: %r'%self.A[-1]\n",
    "        return res\n",
    "    \n",
    "    def print(self, verbose=False):\n",
    "        if verbose:\n",
    "            res = self.__str__()\n",
    "        else:\n",
    "            res = 'Random State = %d\\nLoss = %s\\nLearning Rate = %0.3f\\n%d hidden layers\\n%d input nodes'\\\n",
    "                %(self.randState,self.lossFunc,self.learnRate,self.hiddenLayers,self.inpNodes)\n",
    "            for i,l in enumerate(self.layers[1:]):\n",
    "                if (i==self.hiddenLayers):\n",
    "                    res += '\\noutput layer %d nodes: %s(w=%r, b=%r)'%(len(l['bs']),l['func'],l['ws'].shape,l['bs'].shape)\n",
    "                else:\n",
    "                    res += '\\nlayer %d, %d nodes: %s(w=%r, b=%r)'%(i+1,len(l['bs']),l['func'],l['ws'].shape,l['bs'].shape)\n",
    "            res += '\\nOutput value: %r'%self.A[-1]\n",
    "        return res\n",
    "    \n",
    "    def computeNode(self, prevA, layer):\n",
    "        ''' Compute the activation values for all nodes in a layer.'''\n",
    "        Z = np.dot(layer['ws'],prevA)+layer['bs']\n",
    "        return Z, self.computeActivation(layer['func'], Z, gradient=False)\n",
    "                    \n",
    "    def computeActivation(self, func, Z, gradient=False):\n",
    "        ''' Compute either the value of the activation function, or it's gradient wrt\n",
    "        the input Z. Function choices are: sigmoid, tanh, relu, leakyrelu, and softmax.\n",
    "        Sigmoid & tanh not used often in hidden layers due to vanishing gradients;\n",
    "        relu should not be used in the output layer; softmax is for classification. '''\n",
    "        if gradient:\n",
    "            # compute the value of the activation function gradient for z; result is partial_a/partial_z\n",
    "            if func == 'sigmoid':\n",
    "                sigm = 1.0 + np.exp(-Z)\n",
    "                result = np.exp(-Z)/(sigm**2)\n",
    "            elif func == 'tanh':\n",
    "                result = 1-np.tanh(Z)**2\n",
    "            elif func == 'relu':\n",
    "                result = Z > 0\n",
    "            elif func == 'leakyrelu':\n",
    "                alpha = 0.01 # might want to make this a parameter at some point\n",
    "                result = Z > 0\n",
    "                result[result==0] = alpha\n",
    "            elif func == 'softmax':\n",
    "                print('Softmax gradient not yet implemented!')\n",
    "                result = 0.5\n",
    "        else:\n",
    "            # compute the value of the activation function for z; result is a\n",
    "            if func == 'sigmoid':\n",
    "                result = 1.0/(1.0+np.exp(-Z))\n",
    "            elif func == 'tanh':\n",
    "                result = (np.exp(Z) - np.exp(-Z))/(np.exp(Z) + np.exp(-Z))\n",
    "            elif func == 'relu':\n",
    "                result = np.maximum(0,Z)\n",
    "            elif func == 'leakyrelu':\n",
    "                alpha = 0.01 # might want to make this a parameter at some point\n",
    "                result = np.maximum(0, Z) - alpha*np.maximum(0, -Z)\n",
    "            elif func == 'softmax':\n",
    "                result = np.exp(Z)/np.sum(Z, axis=1, keepdims=True)\n",
    "        return result\n",
    "    \n",
    "    def forwardPropagate(self, X):\n",
    "        ''' Propagate forward through the network from the inputs to the output layer. '''\n",
    "        self.A[0] = X\n",
    "        # loop throught the layers\n",
    "        for i,l in enumerate(self.layers[1:]):\n",
    "            self.A[i+1], self.Z[i+1] = self.computeNode(self.A[i], l)\n",
    "        return self.A[-1]\n",
    "    \n",
    "    def computeLoss(self, y, gradient=False):\n",
    "        ''' Compute either the value of the loss function, or it's gradient wrt\n",
    "        the output layer activation value. Currently, MSE (half MSE, in fact) is the\n",
    "        only choice. '''\n",
    "        if gradient:\n",
    "            if self.lossFunc == 'MSE':\n",
    "                result = -np.mean(y-self.A[-1],axis=1,keepdims=True)\n",
    "                result = -(y-self.A[-1])\n",
    "            else:\n",
    "                result = 0.5\n",
    "        else:\n",
    "            if self.lossFunc == 'MSE':\n",
    "                result = np.mean((y - self.A[-1])**2)/2\n",
    "            else:\n",
    "                result = 0.5\n",
    "        return result\n",
    "    \n",
    "    def backPropagate(self, y):\n",
    "        ''' Propagate prediction errors backward through the network from the outputs to the input layer.'''\n",
    "        m = y.shape[1]\n",
    "        # partial of loss wrt final activation\n",
    "        partial_E_aN = self.computeLoss(y, gradient=True)\n",
    "                       \n",
    "        # first compute the gradients for the output layer\n",
    "        # partial of this layer's activation wrt this layer's z\n",
    "        Al_Zl = self.computeActivation(self.layers[-1]['func'], self.Z[-1], gradient=True)\n",
    "        # partial of this layer's z wrt previous layer's activation\n",
    "        Zl_Alm1 = self.layers[-1]['ws']\n",
    "        z = partial_E_aN*Al_Zl                 # element-wise multiplication\n",
    "        b = np.mean(z, axis=1, keepdims=True)  # average across observations\n",
    "        w = np.dot(z, self.A[-2].T)/m          # scaled by number observations\n",
    "        self.G[-1] = {'Al_Zl':Al_Zl,'Zl_Alm1':Zl_Alm1,'zs':z,'ws':w, 'bs':b}\n",
    "   \n",
    "        # iterate over the hidden layers in reverse order\n",
    "        for l in range(self.N-1, 0, -1):\n",
    "            thisLayer = self.layers[l]\n",
    "            # partial of activation wrt z\n",
    "            Al_Zl = self.computeActivation(thisLayer['func'], self.Z[l], gradient=True)\n",
    "            # partial of z wrt previous layer's activation\n",
    "            Zl_Alm1 = thisLayer['ws']\n",
    "            # gradient is built up by sequential multiplication, and the basis is the higher level's z gradients\n",
    "            z = np.dot(self.G[l+1]['Zl_Alm1'].T, self.G[l+1]['zs'])*Al_Zl\n",
    "            b = np.mean(z, axis=1, keepdims=True)\n",
    "            w = np.dot(z, self.A[l-1].T)/m\n",
    "            self.G[l] = {'Al_Zl':Al_Zl,'Zl_Alm1':Zl_Alm1,'zs':z,'ws':w,'bs':b}\n",
    "        \n",
    "        # finally, traverse the network forward to update the parameters\n",
    "        for l in range(self.N+1):\n",
    "            if l == 0:\n",
    "                pass # this is the input node, so just skip\n",
    "            else:\n",
    "                # update bs\n",
    "                self.layers[l]['bs'] -= self.learnRate*self.G[l]['bs']\n",
    "                # update ws\n",
    "                self.layers[l]['ws'] -= self.learnRate*self.G[l]['ws']\n",
    "    \n",
    "    def execute(self, X, y, epochs, talkFreq=0.1, plotLoss=True):\n",
    "        ''' Iterate on forward and backward propagation for a specified number of epochs.\n",
    "        Inputs are:\n",
    "            X: input data as (n_0,m) array, where n_0 = nodeCounts[0], and m is the number observations\n",
    "            y: target data as (n_(N+1),m) array where n_(N+1) = nodeCounts[-1], and m is the number observations\n",
    "            epochs: number of iterations\n",
    "            talkFreq: % of epochs on which model performance should be reported; completely silent if None\n",
    "            plotLoss: if True, return a plotly figure plotting loss by epochs\n",
    "        '''\n",
    "        self.epochs = epochs\n",
    "        try:\n",
    "            verb = talkFreq*epochs\n",
    "        except TypeError:\n",
    "            verb = 42 # this happens if talkFreq is None, indicating silent running\n",
    "        losss = [None]*epochs\n",
    "        for i in range(epochs):\n",
    "            # forward propagate\n",
    "            yhat = self.forwardPropagate(X)\n",
    "            # compute loss\n",
    "            losss[i] = self.computeLoss(y)\n",
    "            # back propagate, maybe\n",
    "            if i != (epochs-1):\n",
    "                self.backPropagate(y)\n",
    "            # talk, maybe\n",
    "            if (talkFreq is not None) & (i%verb==0):\n",
    "                print('Epoch %d %s = %0.5f'%(i,self.lossFunc,losss[i]))\n",
    "        # print the final result, maybe\n",
    "        if talkFreq is not None:\n",
    "            print('After %d Epochs, final %s is %0.5f'%(epochs,self.lossFunc,losss[-1]))\n",
    "        # generate a plot, maybe\n",
    "        if plotLoss:\n",
    "            self.fig = go.Figure(data=[go.Scatter({'x':list(range(epochs)), 'y':losss, 'name':self.lossFunc})],\n",
    "                layout=go.Layout({'title':'%s by Epoch'%mynet.lossFunc, 'xaxis':{'title':'epoch'}, 'yaxis':{'title':self.lossFunc}}))\n",
    "        else:\n",
    "            self.fig = None\n",
    "        return losss, self.fig"
   ]
  },
  {
   "cell_type": "code",
   "execution_count": 3,
   "metadata": {},
   "outputs": [
    {
     "name": "stdout",
     "output_type": "stream",
     "text": [
      "y=array([[0.61185289, 0.13949386, 0.29214465, 0.36636184, 0.45606998,\n",
      "        0.78517596, 0.19967378, 0.51423444, 0.59241457, 0.04645041],\n",
      "       [0.60754485, 0.17052412, 0.06505159, 0.94888554, 0.96563203,\n",
      "        0.80839735, 0.30461377, 0.09767211, 0.68423303, 0.44015249]])\n",
      "Random State = 42\n",
      "Loss = MSE\n",
      "Learning Rate = 0.010\n",
      "5 hidden layers\n",
      "2 input nodes\n",
      "layer 1, 5 nodes: tanh(w=(5, 2), b=(5, 1))\n",
      "layer 2, 10 nodes: tanh(w=(10, 5), b=(10, 1))\n",
      "layer 3, 20 nodes: tanh(w=(20, 10), b=(20, 1))\n",
      "layer 4, 10 nodes: tanh(w=(10, 20), b=(10, 1))\n",
      "layer 5, 5 nodes: tanh(w=(5, 10), b=(5, 1))\n",
      "output layer 2 nodes: sigmoid(w=(2, 5), b=(2, 1))\n",
      "Output value: None\n"
     ]
    }
   ],
   "source": [
    "# setup data\n",
    "m = 10\n",
    "p = 2\n",
    "k = 2\n",
    "np.random.seed(42)\n",
    "X = np.random.uniform(size=(p,m)) # x has m observations and p features\n",
    "y = np.random.uniform(size=(k,m)) # y has m observations nad k features\n",
    "print('y=%r'%y)\n",
    "\n",
    "# setup the network\n",
    "nodeCounts = [p, 5, 10, 20, 10, 5, k] # output node counts should match number features in y\n",
    "activations = [None,'tanh','tanh','tanh','tanh','tanh','sigmoid']\n",
    "randomState = 42\n",
    "learningRate = 0.01\n",
    "lossFunction = 'MSE'\n",
    "mynet = NeuralNet(nodeCounts, activations, learningRate, lossFunction, randomState)\n",
    "print(mynet.print(verbose=False))"
   ]
  },
  {
   "cell_type": "code",
   "execution_count": 4,
   "metadata": {},
   "outputs": [
    {
     "name": "stdout",
     "output_type": "stream",
     "text": [
      "Epoch 0 MSE = 0.03587\n",
      "Epoch 100 MSE = 0.03420\n",
      "Epoch 200 MSE = 0.03394\n",
      "Epoch 300 MSE = 0.03369\n",
      "Epoch 400 MSE = 0.03343\n",
      "Epoch 500 MSE = 0.03318\n",
      "Epoch 600 MSE = 0.03292\n",
      "Epoch 700 MSE = 0.03266\n",
      "Epoch 800 MSE = 0.03239\n",
      "Epoch 900 MSE = 0.03212\n",
      "After 1000 Epochs, final MSE is 0.03185\n"
     ]
    },
    {
     "data": {
      "application/vnd.plotly.v1+json": {
       "config": {
        "linkText": "Export to plot.ly",
        "plotlyServerURL": "https://plot.ly",
        "showLink": false
       },
       "data": [
        {
         "name": "MSE",
         "type": "scatter",
         "x": [
          0,
          1,
          2,
          3,
          4,
          5,
          6,
          7,
          8,
          9,
          10,
          11,
          12,
          13,
          14,
          15,
          16,
          17,
          18,
          19,
          20,
          21,
          22,
          23,
          24,
          25,
          26,
          27,
          28,
          29,
          30,
          31,
          32,
          33,
          34,
          35,
          36,
          37,
          38,
          39,
          40,
          41,
          42,
          43,
          44,
          45,
          46,
          47,
          48,
          49,
          50,
          51,
          52,
          53,
          54,
          55,
          56,
          57,
          58,
          59,
          60,
          61,
          62,
          63,
          64,
          65,
          66,
          67,
          68,
          69,
          70,
          71,
          72,
          73,
          74,
          75,
          76,
          77,
          78,
          79,
          80,
          81,
          82,
          83,
          84,
          85,
          86,
          87,
          88,
          89,
          90,
          91,
          92,
          93,
          94,
          95,
          96,
          97,
          98,
          99,
          100,
          101,
          102,
          103,
          104,
          105,
          106,
          107,
          108,
          109,
          110,
          111,
          112,
          113,
          114,
          115,
          116,
          117,
          118,
          119,
          120,
          121,
          122,
          123,
          124,
          125,
          126,
          127,
          128,
          129,
          130,
          131,
          132,
          133,
          134,
          135,
          136,
          137,
          138,
          139,
          140,
          141,
          142,
          143,
          144,
          145,
          146,
          147,
          148,
          149,
          150,
          151,
          152,
          153,
          154,
          155,
          156,
          157,
          158,
          159,
          160,
          161,
          162,
          163,
          164,
          165,
          166,
          167,
          168,
          169,
          170,
          171,
          172,
          173,
          174,
          175,
          176,
          177,
          178,
          179,
          180,
          181,
          182,
          183,
          184,
          185,
          186,
          187,
          188,
          189,
          190,
          191,
          192,
          193,
          194,
          195,
          196,
          197,
          198,
          199,
          200,
          201,
          202,
          203,
          204,
          205,
          206,
          207,
          208,
          209,
          210,
          211,
          212,
          213,
          214,
          215,
          216,
          217,
          218,
          219,
          220,
          221,
          222,
          223,
          224,
          225,
          226,
          227,
          228,
          229,
          230,
          231,
          232,
          233,
          234,
          235,
          236,
          237,
          238,
          239,
          240,
          241,
          242,
          243,
          244,
          245,
          246,
          247,
          248,
          249,
          250,
          251,
          252,
          253,
          254,
          255,
          256,
          257,
          258,
          259,
          260,
          261,
          262,
          263,
          264,
          265,
          266,
          267,
          268,
          269,
          270,
          271,
          272,
          273,
          274,
          275,
          276,
          277,
          278,
          279,
          280,
          281,
          282,
          283,
          284,
          285,
          286,
          287,
          288,
          289,
          290,
          291,
          292,
          293,
          294,
          295,
          296,
          297,
          298,
          299,
          300,
          301,
          302,
          303,
          304,
          305,
          306,
          307,
          308,
          309,
          310,
          311,
          312,
          313,
          314,
          315,
          316,
          317,
          318,
          319,
          320,
          321,
          322,
          323,
          324,
          325,
          326,
          327,
          328,
          329,
          330,
          331,
          332,
          333,
          334,
          335,
          336,
          337,
          338,
          339,
          340,
          341,
          342,
          343,
          344,
          345,
          346,
          347,
          348,
          349,
          350,
          351,
          352,
          353,
          354,
          355,
          356,
          357,
          358,
          359,
          360,
          361,
          362,
          363,
          364,
          365,
          366,
          367,
          368,
          369,
          370,
          371,
          372,
          373,
          374,
          375,
          376,
          377,
          378,
          379,
          380,
          381,
          382,
          383,
          384,
          385,
          386,
          387,
          388,
          389,
          390,
          391,
          392,
          393,
          394,
          395,
          396,
          397,
          398,
          399,
          400,
          401,
          402,
          403,
          404,
          405,
          406,
          407,
          408,
          409,
          410,
          411,
          412,
          413,
          414,
          415,
          416,
          417,
          418,
          419,
          420,
          421,
          422,
          423,
          424,
          425,
          426,
          427,
          428,
          429,
          430,
          431,
          432,
          433,
          434,
          435,
          436,
          437,
          438,
          439,
          440,
          441,
          442,
          443,
          444,
          445,
          446,
          447,
          448,
          449,
          450,
          451,
          452,
          453,
          454,
          455,
          456,
          457,
          458,
          459,
          460,
          461,
          462,
          463,
          464,
          465,
          466,
          467,
          468,
          469,
          470,
          471,
          472,
          473,
          474,
          475,
          476,
          477,
          478,
          479,
          480,
          481,
          482,
          483,
          484,
          485,
          486,
          487,
          488,
          489,
          490,
          491,
          492,
          493,
          494,
          495,
          496,
          497,
          498,
          499,
          500,
          501,
          502,
          503,
          504,
          505,
          506,
          507,
          508,
          509,
          510,
          511,
          512,
          513,
          514,
          515,
          516,
          517,
          518,
          519,
          520,
          521,
          522,
          523,
          524,
          525,
          526,
          527,
          528,
          529,
          530,
          531,
          532,
          533,
          534,
          535,
          536,
          537,
          538,
          539,
          540,
          541,
          542,
          543,
          544,
          545,
          546,
          547,
          548,
          549,
          550,
          551,
          552,
          553,
          554,
          555,
          556,
          557,
          558,
          559,
          560,
          561,
          562,
          563,
          564,
          565,
          566,
          567,
          568,
          569,
          570,
          571,
          572,
          573,
          574,
          575,
          576,
          577,
          578,
          579,
          580,
          581,
          582,
          583,
          584,
          585,
          586,
          587,
          588,
          589,
          590,
          591,
          592,
          593,
          594,
          595,
          596,
          597,
          598,
          599,
          600,
          601,
          602,
          603,
          604,
          605,
          606,
          607,
          608,
          609,
          610,
          611,
          612,
          613,
          614,
          615,
          616,
          617,
          618,
          619,
          620,
          621,
          622,
          623,
          624,
          625,
          626,
          627,
          628,
          629,
          630,
          631,
          632,
          633,
          634,
          635,
          636,
          637,
          638,
          639,
          640,
          641,
          642,
          643,
          644,
          645,
          646,
          647,
          648,
          649,
          650,
          651,
          652,
          653,
          654,
          655,
          656,
          657,
          658,
          659,
          660,
          661,
          662,
          663,
          664,
          665,
          666,
          667,
          668,
          669,
          670,
          671,
          672,
          673,
          674,
          675,
          676,
          677,
          678,
          679,
          680,
          681,
          682,
          683,
          684,
          685,
          686,
          687,
          688,
          689,
          690,
          691,
          692,
          693,
          694,
          695,
          696,
          697,
          698,
          699,
          700,
          701,
          702,
          703,
          704,
          705,
          706,
          707,
          708,
          709,
          710,
          711,
          712,
          713,
          714,
          715,
          716,
          717,
          718,
          719,
          720,
          721,
          722,
          723,
          724,
          725,
          726,
          727,
          728,
          729,
          730,
          731,
          732,
          733,
          734,
          735,
          736,
          737,
          738,
          739,
          740,
          741,
          742,
          743,
          744,
          745,
          746,
          747,
          748,
          749,
          750,
          751,
          752,
          753,
          754,
          755,
          756,
          757,
          758,
          759,
          760,
          761,
          762,
          763,
          764,
          765,
          766,
          767,
          768,
          769,
          770,
          771,
          772,
          773,
          774,
          775,
          776,
          777,
          778,
          779,
          780,
          781,
          782,
          783,
          784,
          785,
          786,
          787,
          788,
          789,
          790,
          791,
          792,
          793,
          794,
          795,
          796,
          797,
          798,
          799,
          800,
          801,
          802,
          803,
          804,
          805,
          806,
          807,
          808,
          809,
          810,
          811,
          812,
          813,
          814,
          815,
          816,
          817,
          818,
          819,
          820,
          821,
          822,
          823,
          824,
          825,
          826,
          827,
          828,
          829,
          830,
          831,
          832,
          833,
          834,
          835,
          836,
          837,
          838,
          839,
          840,
          841,
          842,
          843,
          844,
          845,
          846,
          847,
          848,
          849,
          850,
          851,
          852,
          853,
          854,
          855,
          856,
          857,
          858,
          859,
          860,
          861,
          862,
          863,
          864,
          865,
          866,
          867,
          868,
          869,
          870,
          871,
          872,
          873,
          874,
          875,
          876,
          877,
          878,
          879,
          880,
          881,
          882,
          883,
          884,
          885,
          886,
          887,
          888,
          889,
          890,
          891,
          892,
          893,
          894,
          895,
          896,
          897,
          898,
          899,
          900,
          901,
          902,
          903,
          904,
          905,
          906,
          907,
          908,
          909,
          910,
          911,
          912,
          913,
          914,
          915,
          916,
          917,
          918,
          919,
          920,
          921,
          922,
          923,
          924,
          925,
          926,
          927,
          928,
          929,
          930,
          931,
          932,
          933,
          934,
          935,
          936,
          937,
          938,
          939,
          940,
          941,
          942,
          943,
          944,
          945,
          946,
          947,
          948,
          949,
          950,
          951,
          952,
          953,
          954,
          955,
          956,
          957,
          958,
          959,
          960,
          961,
          962,
          963,
          964,
          965,
          966,
          967,
          968,
          969,
          970,
          971,
          972,
          973,
          974,
          975,
          976,
          977,
          978,
          979,
          980,
          981,
          982,
          983,
          984,
          985,
          986,
          987,
          988,
          989,
          990,
          991,
          992,
          993,
          994,
          995,
          996,
          997,
          998,
          999
         ],
         "y": [
          0.035870998267149526,
          0.035804655415976855,
          0.03574121653666064,
          0.03568054468625289,
          0.03562250973507684,
          0.035566988001655454,
          0.03551386190907519,
          0.03546301966139769,
          0.03541435493883061,
          0.035367766610458595,
          0.0353231584634207,
          0.03528043894749612,
          0.03523952093413389,
          0.03520032148902667,
          0.03516276165739128,
          0.03512676626117539,
          0.03509226370746184,
          0.03505918580739186,
          0.03502746760497284,
          0.03499704721517873,
          0.03496786567079037,
          0.03493986677745875,
          0.03491299697650792,
          0.03488720521502592,
          0.0348624428228205,
          0.03483866339584393,
          0.03481582268571593,
          0.03479387849499719,
          0.03477279057788821,
          0.034752520546047494,
          0.03473303177924297,
          0.034714289340567375,
          0.034696259895965614,
          0.03467891163783622,
          0.03466221421248465,
          0.03464613865121863,
          0.034630657304888415,
          0.03461574378168688,
          0.034601372888034665,
          0.03458752057238634,
          0.034574163871802725,
          0.03456128086114367,
          0.03454885060474362,
          0.03453685311044114,
          0.034525269285839,
          0.03451408089668058,
          0.03450327052723323,
          0.034492821542575776,
          0.03448271805269322,
          0.03447294487828691,
          0.034463487518213425,
          0.034454332118470134,
          0.03444546544264998,
          0.03443687484379223,
          0.034428548237559566,
          0.03442047407667584,
          0.03441264132656252,
          0.03440503944211477,
          0.03439765834556093,
          0.03439048840535329,
          0.03438352041603926,
          0.03437674557906586,
          0.034370155484472004,
          0.0343637420934264,
          0.0343574977215697,
          0.03435141502312306,
          0.034345486975726106,
          0.03433970686596972,
          0.03433406827559071,
          0.03432856506829675,
          0.03432319137719242,
          0.03431794159277717,
          0.03431281035148922,
          0.03430779252476908,
          0.034302883208618976,
          0.034298077713634606,
          0.03429337155548738,
          0.03428876044583645,
          0.03428424028365019,
          0.03427980714691851,
          0.034275457284737874,
          0.03427118710975176,
          0.0342669931909303,
          0.03426287224667355,
          0.03425882113822338,
          0.03425483686337029,
          0.03425091655044106,
          0.03424705745255498,
          0.03424325694213614,
          0.03423951250567024,
          0.03423582173869466,
          0.03423218234101168,
          0.0342285921121139,
          0.034225048946813316,
          0.03422155083106397,
          0.03421809583796996,
          0.034214682123970136,
          0.034211307925191954,
          0.03420797155396639,
          0.034204671395497065,
          0.03420140590467642,
          0.034198173603042586,
          0.03419497307587034,
          0.03419180296939062,
          0.034188661988132286,
          0.03418554889238111,
          0.03418246249575066,
          0.0341794016628599,
          0.03417636530711313,
          0.03417335238857727,
          0.03417036191195254,
          0.03416739292463218,
          0.034164444514847375,
          0.03416151580989345,
          0.03415860597443395,
          0.034155714208878904,
          0.034152839747834285,
          0.03414998185861922,
          0.03414713983984823,
          0.034144313020075374,
          0.03414150075649764,
          0.03413870243371527,
          0.03413591746254604,
          0.03413314527889123,
          0.0341303853426515,
          0.03412763713668953,
          0.03412490016583852,
          0.034122173955953385,
          0.034119458053003725,
          0.034116752022206036,
          0.0341140554471939,
          0.03411136792922424,
          0.03410868908641817,
          0.034106018553034786,
          0.03410335597877664,
          0.03410070102812549,
          0.03409805337970663,
          0.03409541272568125,
          0.034092778771164796,
          0.03409015123367094,
          0.03408752984257945,
          0.03408491433862718,
          0.03408230447342127,
          0.0340797000089733,
          0.03407710071725387,
          0.034074506379766126,
          0.0340719167871381,
          0.034069331738732514,
          0.034066751042273545,
          0.03406417451348978,
          0.034061601975772474,
          0.034059033259848756,
          0.03405646820346881,
          0.034053906651106775,
          0.034051348453674336,
          0.03404879346824674,
          0.034046241557800914,
          0.03404369259096433,
          0.03404114644177543,
          0.034038602989453555,
          0.034036062118179514,
          0.03403352371688524,
          0.034030987679052445,
          0.03402845390252028,
          0.034025922289300924,
          0.03402339274540323,
          0.03402086518066406,
          0.03401833950858671,
          0.034015815646186366,
          0.03401329351384215,
          0.034010773035155546,
          0.03400825413681492,
          0.03400573674846577,
          0.034003220802586595,
          0.034000706234370064,
          0.033998192981609415,
          0.03399568098458932,
          0.033993170185981955,
          0.03399066053074702,
          0.03398815196603639,
          0.033985644441102636,
          0.03398313790721152,
          0.03398063231755822,
          0.03397812762718712,
          0.03397562379291498,
          0.0339731207732575,
          0.03397061852835888,
          0.033968117019924346,
          0.033965616211155764,
          0.03396311606668971,
          0.03396061655253841,
          0.03395811763603303,
          0.03395561928576936,
          0.03395312147155598,
          0.033950624164364354,
          0.03394812733628137,
          0.03394563096046351,
          0.0339431350110932,
          0.033940639463337,
          0.03393814429330544,
          0.03393564947801457,
          0.03393315499534932,
          0.03393066082402811,
          0.03392816694356911,
          0.03392567333425795,
          0.03392317997711665,
          0.033920686853874046,
          0.033918193946937215,
          0.03391570123936429,
          0.03391320871483835,
          0.033910716357642375,
          0.033908224152635266,
          0.03390573208522885,
          0.03390324014136588,
          0.03390074830749894,
          0.03389825657057019,
          0.033895764917991976,
          0.033893273337628226,
          0.03389078181777668,
          0.03388829034715178,
          0.03388579891486833,
          0.03388330751042569,
          0.03388081612369289,
          0.033878324744894106,
          0.03387583336459478,
          0.03387334197368845,
          0.03387085056338392,
          0.0338683591251932,
          0.03386586765091967,
          0.03386337613264688,
          0.033860884562727844,
          0.03385839293377464,
          0.03385590123864852,
          0.03385340947045043,
          0.03385091762251192,
          0.033848425688386224,
          0.03384593366184009,
          0.033843441536845584,
          0.03384094930757231,
          0.03383845696838021,
          0.03383596451381212,
          0.03383347193858724,
          0.03383097923759433,
          0.03382848640588558,
          0.033825993438670446,
          0.03382350033130987,
          0.03382100707931075,
          0.0338185136783205,
          0.033816020124121965,
          0.03381352641262845,
          0.03381103253987897,
          0.03380853850203373,
          0.0338060442953697,
          0.03380354991627639,
          0.033801055361251844,
          0.03379856062689878,
          0.033796065709920775,
          0.033793570607118684,
          0.033791075315387296,
          0.03378857983171189,
          0.0337860841531651,
          0.03378358827690384,
          0.03378109220016637,
          0.03377859592026943,
          0.03377609943460554,
          0.03377360274064034,
          0.033771105835910184,
          0.03376860871801946,
          0.033766111384638545,
          0.03376361383350139,
          0.03376111606240338,
          0.03375861806919927,
          0.03375611985180121,
          0.033753621408176684,
          0.03375112273634689,
          0.03374862383438468,
          0.03374612470041308,
          0.03374362533260345,
          0.033741125729174024,
          0.03373862588838824,
          0.033736125808553355,
          0.03373362548801901,
          0.03373112492517579,
          0.033728624118453975,
          0.03372612306632223,
          0.03372362176728633,
          0.03372112021988801,
          0.03371861842270391,
          0.033716116374344275,
          0.03371361407345206,
          0.03371111151870182,
          0.03370860870879876,
          0.03370610564247773,
          0.03370360231850239,
          0.03370109873566415,
          0.03369859489278157,
          0.03369609078869926,
          0.0336935864222873,
          0.03369108179244031,
          0.03368857689807679,
          0.03368607173813841,
          0.033683566311589225,
          0.033681060617415055,
          0.03367855465462293,
          0.0336760484222403,
          0.03367354191931449,
          0.03367103514491217,
          0.033668528098118725,
          0.033666020778037736,
          0.033663513183790475,
          0.03366100531451531,
          0.03365849716936724,
          0.03365598874751759,
          0.03365348004815322,
          0.03365097107047634,
          0.03364846181370399,
          0.03364595227706761,
          0.03364344245981268,
          0.03364093236119829,
          0.03363842198049669,
          0.03363591131699311,
          0.0336334003699852,
          0.03363088913878289,
          0.03362837762270779,
          0.03362586582109316,
          0.03362335373328336,
          0.03362084135863373,
          0.03361832869651012,
          0.0336158157462888,
          0.03361330250735596,
          0.033610788979107645,
          0.03360827516094937,
          0.03360576105229594,
          0.033603246652571174,
          0.0336007319612076,
          0.033598216977646395,
          0.033595701701337,
          0.033593186131737,
          0.03359067026831184,
          0.033588154110534715,
          0.03358563765788626,
          0.033583120909854505,
          0.03358060386593449,
          0.033578086525628284,
          0.03357556888844472,
          0.033573050953899175,
          0.033570532721513474,
          0.03356801419081577,
          0.033565495361340264,
          0.033562976232627155,
          0.03356045680422245,
          0.03355793707567785,
          0.03355541704655053,
          0.033552896716403144,
          0.03355037608480359,
          0.03354785515132487,
          0.033545333915545025,
          0.03354281237704705,
          0.03354029053541864,
          0.03353776839025218,
          0.033535245941144674,
          0.033532723187697476,
          0.03353020012951635,
          0.03352767676621126,
          0.03352515309739636,
          0.03352262912268981,
          0.033520104841713735,
          0.03351758025409414,
          0.033515055359460776,
          0.0335125301574471,
          0.03351000464769016,
          0.0335074788298305,
          0.03350495270351215,
          0.03350242626838249,
          0.033499899524092144,
          0.03349737247029503,
          0.03349484510664813,
          0.03349231743281155,
          0.03348978944844838,
          0.03348726115322461,
          0.0334847325468092,
          0.033482203628873816,
          0.0334796743990929,
          0.033477144857143655,
          0.033474615002705835,
          0.03347208483546182,
          0.03346955435509645,
          0.03346702356129707,
          0.033464492453753464,
          0.03346196103215774,
          0.03345942929620431,
          0.03345689724558988,
          0.0334543648800134,
          0.0334518321991759,
          0.03344929920278062,
          0.033446765890532824,
          0.0334442322621399,
          0.0334416983173111,
          0.03343916405575776,
          0.03343662947719311,
          0.03343409458133216,
          0.0334315593678919,
          0.03342902383659101,
          0.03342648798715003,
          0.03342395181929119,
          0.03342141533273839,
          0.03341887852721727,
          0.03341634140245503,
          0.03341380395818051,
          0.033411266194124135,
          0.033408728110017834,
          0.03340618970559509,
          0.033403650980590824,
          0.033401111934741455,
          0.03339857256778479,
          0.03339603287946009,
          0.033393492869507914,
          0.03339095253767025,
          0.03338841188369037,
          0.03338587090731286,
          0.03338332960828358,
          0.03338078798634962,
          0.03337824604125937,
          0.03337570377276235,
          0.033373161180609304,
          0.033370618264552135,
          0.033368075024343954,
          0.033365531459738904,
          0.03336298757049227,
          0.03336044335636047,
          0.03335789881710093,
          0.033355353952472175,
          0.03335280876223376,
          0.0333502632461462,
          0.03334771740397107,
          0.03334517123547091,
          0.03334262474040929,
          0.0333400779185506,
          0.03333753076966025,
          0.03333498329350461,
          0.03333243548985084,
          0.03332988735846714,
          0.03332733889912247,
          0.033324790111586705,
          0.03332224099563057,
          0.033319691551025626,
          0.03331714177754426,
          0.03331459167495966,
          0.03331204124304586,
          0.03330949048157763,
          0.03330693939033055,
          0.03330438796908099,
          0.03330183621760601,
          0.033299284135683484,
          0.03329673172309199,
          0.0332941789796108,
          0.03329162590502001,
          0.03328907249910027,
          0.03328651876163306,
          0.03328396469240045,
          0.03328141029118525,
          0.03327885555777093,
          0.03327630049194158,
          0.03327374509348198,
          0.03327118936217756,
          0.033268633297814335,
          0.033266076900179006,
          0.03326352016905887,
          0.033260963104241835,
          0.0332584057055164,
          0.03325584797267167,
          0.03325328990549736,
          0.033250731503783784,
          0.03324817276732173,
          0.03324561369590271,
          0.03324305428931865,
          0.03324049454736217,
          0.033237934469826334,
          0.03323537405650483,
          0.033232813307191786,
          0.03323025222168198,
          0.03322769079977067,
          0.0332251290412536,
          0.033222566945927116,
          0.033220004513587975,
          0.03321744174403353,
          0.03321487863706157,
          0.03321231519247047,
          0.03320975141005901,
          0.033207187289626475,
          0.033204622830972697,
          0.033202058033897856,
          0.033199492898202766,
          0.03319692742368863,
          0.03319436161015713,
          0.0331917954574104,
          0.03318922896525104,
          0.033186662133482106,
          0.03318409496190714,
          0.03318152745033005,
          0.033178959598555297,
          0.033176391406387694,
          0.033173822873632526,
          0.03317125400009553,
          0.03316868478558285,
          0.03316611522990108,
          0.03316354533285719,
          0.03316097509425863,
          0.033158404513913234,
          0.03315583359162933,
          0.03315326232721548,
          0.033150690720480866,
          0.033148118771234955,
          0.03314554647928764,
          0.03314297384444924,
          0.03314040086653048,
          0.033137827545342446,
          0.033135253880696644,
          0.033132679872404966,
          0.0331301055202797,
          0.03312753082413353,
          0.03312495578377953,
          0.03312238039903114,
          0.03311980466970221,
          0.03311722859560693,
          0.033114652176559935,
          0.03311207541237613,
          0.03310949830287093,
          0.03310692084786003,
          0.033104343047159514,
          0.03310176490058586,
          0.03309918640795593,
          0.033096607569086875,
          0.033094028383796284,
          0.03309144885190207,
          0.033088868973222565,
          0.0330862887475764,
          0.03308370817478261,
          0.03308112725466052,
          0.033078545987029896,
          0.03307596437171082,
          0.033073382408523734,
          0.03307080009728942,
          0.03306821743782902,
          0.03306563442996406,
          0.03306305107351634,
          0.03306046736830809,
          0.03305788331416182,
          0.033055298910900456,
          0.03305271415834719,
          0.033050129056325636,
          0.03304754360465966,
          0.0330449578031736,
          0.03304237165169203,
          0.033039785150039865,
          0.03303719829804239,
          0.03303461109552527,
          0.03303202354231442,
          0.03302943563823618,
          0.03302684738311716,
          0.033024258776784325,
          0.033021669819065014,
          0.033019080509786795,
          0.0330164908487777,
          0.033013900835866014,
          0.03301131047088037,
          0.03300871975364975,
          0.03300612868400344,
          0.033003537261771076,
          0.03300094548678261,
          0.03299835335886833,
          0.03299576087785885,
          0.032993168043585104,
          0.03299057485587838,
          0.03298798131457027,
          0.03298538741949271,
          0.03298279317047792,
          0.032980198567358496,
          0.032977603609967335,
          0.03297500829813767,
          0.03297241263170301,
          0.03296981661049728,
          0.03296722023435465,
          0.03296462350310964,
          0.03296202641659711,
          0.032959428974652184,
          0.032956831177110395,
          0.0329542330238075,
          0.032951634514579664,
          0.03294903564926334,
          0.032946436427695285,
          0.032943836849712596,
          0.03294123691515265,
          0.032938636623853226,
          0.03293603597565236,
          0.032933434970388406,
          0.03293083360790008,
          0.03292823188802636,
          0.032925629810606594,
          0.032923027375480425,
          0.03292042458248781,
          0.03291782143146901,
          0.03291521792226469,
          0.0329126140547157,
          0.03291000982866331,
          0.03290740524394907,
          0.032904800300414844,
          0.03290219499790282,
          0.032899589336255516,
          0.032896983315315736,
          0.03289437693492665,
          0.03289177019493168,
          0.0328891630951746,
          0.03288655563549952,
          0.03288394781575084,
          0.03288133963577327,
          0.03287873109541188,
          0.03287612219451199,
          0.032873512932919305,
          0.03287090331047978,
          0.032868293327039735,
          0.032865682982445805,
          0.03286307227654492,
          0.03286046120918432,
          0.032857849780211584,
          0.032855237989474574,
          0.03285262583682157,
          0.03285001332210098,
          0.032847400445161726,
          0.032844787205852904,
          0.03284217360402401,
          0.0328395596395248,
          0.03283694531220542,
          0.03283433062191625,
          0.03283171556850802,
          0.03282910015183181,
          0.03282648437173892,
          0.032823868228081095,
          0.0328212517207103,
          0.03281863484947885,
          0.03281601761423938,
          0.03281340001484485,
          0.0328107820511485,
          0.03280816372300391,
          0.032805545030265,
          0.032802925972785967,
          0.03280030655042132,
          0.032797686763025954,
          0.03279506661045499,
          0.03279244609256396,
          0.032789825209208624,
          0.03278720396024509,
          0.0327845823455298,
          0.03278196036491952,
          0.03277933801827131,
          0.03277671530544258,
          0.03277409222629099,
          0.03277146878067459,
          0.03276884496845172,
          0.032766220789481056,
          0.03276359624362151,
          0.03276097133073245,
          0.03275834605067345,
          0.032755720403304475,
          0.032753094388485726,
          0.032750468006077824,
          0.032747841255941636,
          0.03274521413793837,
          0.03274258665192957,
          0.03273995879777708,
          0.03273733057534304,
          0.03273470198448997,
          0.032732073025080646,
          0.03272944369697823,
          0.032726814000046164,
          0.0327241839341482,
          0.032721553499148445,
          0.032718922694911265,
          0.03271629152130144,
          0.032713659978183984,
          0.032711028065424315,
          0.032708395782888096,
          0.03270576313044134,
          0.03270313010795039,
          0.032700496715281885,
          0.03269786295230287,
          0.03269522881888058,
          0.03269259431488265,
          0.032689959440177066,
          0.03268732419463205,
          0.032684688578116225,
          0.03268205259049851,
          0.03267941623164814,
          0.03267677950143467,
          0.032674142399728004,
          0.032671504926398316,
          0.032668867081316166,
          0.032666228864352415,
          0.03266359027537826,
          0.03266095131426517,
          0.03265831198088501,
          0.03265567227510992,
          0.032653032196812384,
          0.03265039174586522,
          0.03264775092214154,
          0.03264510972551483,
          0.03264246815585888,
          0.03263982621304777,
          0.032637183896955926,
          0.03263454120745818,
          0.03263189814442953,
          0.032629254707745484,
          0.032626610897281715,
          0.03262396671291436,
          0.03262132215451975,
          0.03261867722197463,
          0.03261603191515611,
          0.03261338623394151,
          0.03261074017820857,
          0.032608093747835305,
          0.03260544694270015,
          0.03260279976268171,
          0.03260015220765909,
          0.03259750427751158,
          0.03259485597211893,
          0.03259220729136112,
          0.03258955823511851,
          0.032586908803271766,
          0.03258425899570189,
          0.032581608812290254,
          0.03257895825291847,
          0.032576307317468585,
          0.03257365600582291,
          0.03257100431786412,
          0.0325683522534752,
          0.032565699812539484,
          0.03256304699494063,
          0.032560393800562616,
          0.03255774022928978,
          0.03255508628100677,
          0.03255243195559858,
          0.032549777252950544,
          0.03254712217294833,
          0.03254446671547791,
          0.0325418108804256,
          0.032539154667678066,
          0.03253649807712233,
          0.03253384110864567,
          0.032531183762135804,
          0.03252852603748071,
          0.03252586793456874,
          0.03252320945328854,
          0.032520550593529096,
          0.032517891355179816,
          0.032515231738130326,
          0.032512571742270686,
          0.032509911367491214,
          0.03250725061368262,
          0.03250458948073593,
          0.03250192796854249,
          0.03249926607699401,
          0.03249660380598257,
          0.03249394115540051,
          0.03249127812514056,
          0.03248861471509579,
          0.03248595092515958,
          0.03248328675522569,
          0.032480622205188166,
          0.03247795727494143,
          0.03247529196438027,
          0.032472626273399745,
          0.032469960201895305,
          0.032467293749762746,
          0.03246462691689815,
          0.03246195970319802,
          0.03245929210855912,
          0.0324566241328786,
          0.03245395577605397,
          0.03245128703798303,
          0.03244861791856398,
          0.03244594841769533,
          0.032443278535275906,
          0.032440608271204936,
          0.032437937625381934,
          0.03243526659770685,
          0.032432595188079845,
          0.032429923396401536,
          0.032427251222572825,
          0.032424578666495,
          0.03242190572806962,
          0.032419232407198725,
          0.032416558703784557,
          0.03241388461772976,
          0.03241121014893735,
          0.03240853529731069,
          0.032405860062753415,
          0.03240318444516956,
          0.032400508444463565,
          0.03239783206054011,
          0.03239515529330428,
          0.03239247814266151,
          0.03238980060851755,
          0.032387122690778515,
          0.03238444438935094,
          0.032381765704141585,
          0.03237908663505763,
          0.03237640718200658,
          0.03237372734489633,
          0.032371047123635074,
          0.03236836651813139,
          0.032365685528294184,
          0.032363004154032746,
          0.03236032239525667,
          0.032357640251875944,
          0.03235495772380091,
          0.032352274810942196,
          0.03234959151321086,
          0.03234690783051828,
          0.03234422376277618,
          0.03234153930989665,
          0.03233885447179213,
          0.0323361692483754,
          0.03233348363955963,
          0.03233079764525829,
          0.03232811126538525,
          0.032325424499854725,
          0.03232273734858125,
          0.032320049811479803,
          0.032317361888465596,
          0.03231467357945427,
          0.03231198488436183,
          0.03230929580310461,
          0.03230660633559932,
          0.03230391648176299,
          0.03230122624151305,
          0.03229853561476723,
          0.03229584460144373,
          0.03229315320146097,
          0.032290461414737834,
          0.03228776924119351,
          0.032285076680747524,
          0.03228238373331986,
          0.03227969039883075,
          0.032276996677200825,
          0.03227430256835111,
          0.03227160807220296,
          0.03226891318867806,
          0.032266217917698535,
          0.032263522259186786,
          0.03226082621306563,
          0.03225812977925822,
          0.03225543295768809,
          0.032252735748279124,
          0.032250038150955555,
          0.032247340165642006,
          0.032244641792263454,
          0.03224194303074522,
          0.03223924388101302,
          0.0322365443429929,
          0.032233844416611285,
          0.03223114410179499,
          0.03222844339847117,
          0.032225742306567294,
          0.032223040826011316,
          0.03222033895673143,
          0.03221763669865629,
          0.03221493405171485,
          0.03221223101583649,
          0.0322095275909509,
          0.03220682377698818,
          0.03220411957387875,
          0.03220141498155346,
          0.032198709999943495,
          0.032196004628980354,
          0.03219329886859602,
          0.032190592718722724,
          0.03218788617929317,
          0.032185179250240364,
          0.03218247193149771,
          0.03217976422299894,
          0.032177056124678236,
          0.03217434763647009,
          0.03217163875830934,
          0.03216892949013127,
          0.0321662198318715,
          0.032163509783466,
          0.03216079934485114,
          0.03215808851596365,
          0.03215537729674063,
          0.032152665687119546,
          0.03214995368703828,
          0.03214724129643503,
          0.03214452851524838,
          0.03214181534341735,
          0.03213910178088124,
          0.03213638782757976,
          0.03213367348345304,
          0.03213095874844151,
          0.032128243622486036,
          0.03212552810552783,
          0.032122812197508496,
          0.03212009589837,
          0.03211737920805466,
          0.032114662126505225,
          0.032111944653664806,
          0.03210922678947682,
          0.03210650853388521,
          0.03210378988683412,
          0.032101070848268236,
          0.032098351418132456,
          0.03209563159637226,
          0.0320929113829333,
          0.03209019077776173,
          0.03208746978080407,
          0.032084748392007194,
          0.03208202661131836,
          0.0320793044386852,
          0.03207658187405579,
          0.032073858917378475,
          0.03207113556860208,
          0.03206841182767578,
          0.03206568769454911,
          0.03206296316917199,
          0.03206023825149473,
          0.03205751294146809,
          0.03205478723904308,
          0.032052061144171216,
          0.032049334656804346,
          0.03204660777689465,
          0.0320438805043948,
          0.03204115283925778,
          0.03203842478143697,
          0.03203569633088614,
          0.03203296748755946,
          0.03203023825141147,
          0.03202750862239709,
          0.03202477860047167,
          0.03202204818559089,
          0.032019317377710826,
          0.032016586176787945,
          0.03201385458277916,
          0.03201112259564169,
          0.032008390215333186,
          0.03200565744181168,
          0.03200292427503558,
          0.03200019071496369,
          0.03199745676155523,
          0.03199472241476979,
          0.031991987674567283,
          0.03198925254090815,
          0.031986517013753143,
          0.03198378109306336,
          0.0319810447788004,
          0.03197830807092615,
          0.03197557096940296,
          0.031972833474193565,
          0.031970095585260996,
          0.03196735730256885,
          0.03196461862608094,
          0.03196187955576161,
          0.03195914009157553,
          0.03195640023348776,
          0.03195365998146378,
          0.03195091933546945,
          0.031948178295471065,
          0.031945436861435236,
          0.03194269503332903,
          0.031939952811119894,
          0.03193721019477566,
          0.03193446718426459,
          0.03193172377955531,
          0.031928979980616876,
          0.03192623578741867,
          0.031923491199930557,
          0.03192074621812277,
          0.031918000841965916,
          0.031915255071431024,
          0.031912508906489515,
          0.031909762347113235,
          0.03190701539327438,
          0.031904268044945575,
          0.03190152030209987,
          0.031898772164710675,
          0.03189602363275178,
          0.03189327470619747,
          0.031890525385022336,
          0.031887775669201396,
          0.03188502555871011,
          0.03188227505352434,
          0.031879524153620255,
          0.031876772858974535,
          0.03187402116956422,
          0.03187126908536675,
          0.03186851660635998,
          0.03186576373252219,
          0.03186301046383199,
          0.03186025680026849,
          0.03185750274181116,
          0.03185474828843983,
          0.031851993440134854
         ]
        }
       ],
       "layout": {
        "autosize": true,
        "template": {
         "data": {
          "bar": [
           {
            "error_x": {
             "color": "#2a3f5f"
            },
            "error_y": {
             "color": "#2a3f5f"
            },
            "marker": {
             "line": {
              "color": "#E5ECF6",
              "width": 0.5
             }
            },
            "type": "bar"
           }
          ],
          "barpolar": [
           {
            "marker": {
             "line": {
              "color": "#E5ECF6",
              "width": 0.5
             }
            },
            "type": "barpolar"
           }
          ],
          "carpet": [
           {
            "aaxis": {
             "endlinecolor": "#2a3f5f",
             "gridcolor": "white",
             "linecolor": "white",
             "minorgridcolor": "white",
             "startlinecolor": "#2a3f5f"
            },
            "baxis": {
             "endlinecolor": "#2a3f5f",
             "gridcolor": "white",
             "linecolor": "white",
             "minorgridcolor": "white",
             "startlinecolor": "#2a3f5f"
            },
            "type": "carpet"
           }
          ],
          "choropleth": [
           {
            "colorbar": {
             "outlinewidth": 0,
             "ticks": ""
            },
            "type": "choropleth"
           }
          ],
          "contour": [
           {
            "colorbar": {
             "outlinewidth": 0,
             "ticks": ""
            },
            "colorscale": [
             [
              0,
              "#0d0887"
             ],
             [
              0.1111111111111111,
              "#46039f"
             ],
             [
              0.2222222222222222,
              "#7201a8"
             ],
             [
              0.3333333333333333,
              "#9c179e"
             ],
             [
              0.4444444444444444,
              "#bd3786"
             ],
             [
              0.5555555555555556,
              "#d8576b"
             ],
             [
              0.6666666666666666,
              "#ed7953"
             ],
             [
              0.7777777777777778,
              "#fb9f3a"
             ],
             [
              0.8888888888888888,
              "#fdca26"
             ],
             [
              1,
              "#f0f921"
             ]
            ],
            "type": "contour"
           }
          ],
          "contourcarpet": [
           {
            "colorbar": {
             "outlinewidth": 0,
             "ticks": ""
            },
            "type": "contourcarpet"
           }
          ],
          "heatmap": [
           {
            "colorbar": {
             "outlinewidth": 0,
             "ticks": ""
            },
            "colorscale": [
             [
              0,
              "#0d0887"
             ],
             [
              0.1111111111111111,
              "#46039f"
             ],
             [
              0.2222222222222222,
              "#7201a8"
             ],
             [
              0.3333333333333333,
              "#9c179e"
             ],
             [
              0.4444444444444444,
              "#bd3786"
             ],
             [
              0.5555555555555556,
              "#d8576b"
             ],
             [
              0.6666666666666666,
              "#ed7953"
             ],
             [
              0.7777777777777778,
              "#fb9f3a"
             ],
             [
              0.8888888888888888,
              "#fdca26"
             ],
             [
              1,
              "#f0f921"
             ]
            ],
            "type": "heatmap"
           }
          ],
          "heatmapgl": [
           {
            "colorbar": {
             "outlinewidth": 0,
             "ticks": ""
            },
            "colorscale": [
             [
              0,
              "#0d0887"
             ],
             [
              0.1111111111111111,
              "#46039f"
             ],
             [
              0.2222222222222222,
              "#7201a8"
             ],
             [
              0.3333333333333333,
              "#9c179e"
             ],
             [
              0.4444444444444444,
              "#bd3786"
             ],
             [
              0.5555555555555556,
              "#d8576b"
             ],
             [
              0.6666666666666666,
              "#ed7953"
             ],
             [
              0.7777777777777778,
              "#fb9f3a"
             ],
             [
              0.8888888888888888,
              "#fdca26"
             ],
             [
              1,
              "#f0f921"
             ]
            ],
            "type": "heatmapgl"
           }
          ],
          "histogram": [
           {
            "marker": {
             "colorbar": {
              "outlinewidth": 0,
              "ticks": ""
             }
            },
            "type": "histogram"
           }
          ],
          "histogram2d": [
           {
            "colorbar": {
             "outlinewidth": 0,
             "ticks": ""
            },
            "colorscale": [
             [
              0,
              "#0d0887"
             ],
             [
              0.1111111111111111,
              "#46039f"
             ],
             [
              0.2222222222222222,
              "#7201a8"
             ],
             [
              0.3333333333333333,
              "#9c179e"
             ],
             [
              0.4444444444444444,
              "#bd3786"
             ],
             [
              0.5555555555555556,
              "#d8576b"
             ],
             [
              0.6666666666666666,
              "#ed7953"
             ],
             [
              0.7777777777777778,
              "#fb9f3a"
             ],
             [
              0.8888888888888888,
              "#fdca26"
             ],
             [
              1,
              "#f0f921"
             ]
            ],
            "type": "histogram2d"
           }
          ],
          "histogram2dcontour": [
           {
            "colorbar": {
             "outlinewidth": 0,
             "ticks": ""
            },
            "colorscale": [
             [
              0,
              "#0d0887"
             ],
             [
              0.1111111111111111,
              "#46039f"
             ],
             [
              0.2222222222222222,
              "#7201a8"
             ],
             [
              0.3333333333333333,
              "#9c179e"
             ],
             [
              0.4444444444444444,
              "#bd3786"
             ],
             [
              0.5555555555555556,
              "#d8576b"
             ],
             [
              0.6666666666666666,
              "#ed7953"
             ],
             [
              0.7777777777777778,
              "#fb9f3a"
             ],
             [
              0.8888888888888888,
              "#fdca26"
             ],
             [
              1,
              "#f0f921"
             ]
            ],
            "type": "histogram2dcontour"
           }
          ],
          "mesh3d": [
           {
            "colorbar": {
             "outlinewidth": 0,
             "ticks": ""
            },
            "type": "mesh3d"
           }
          ],
          "parcoords": [
           {
            "line": {
             "colorbar": {
              "outlinewidth": 0,
              "ticks": ""
             }
            },
            "type": "parcoords"
           }
          ],
          "pie": [
           {
            "automargin": true,
            "type": "pie"
           }
          ],
          "scatter": [
           {
            "marker": {
             "colorbar": {
              "outlinewidth": 0,
              "ticks": ""
             }
            },
            "type": "scatter"
           }
          ],
          "scatter3d": [
           {
            "line": {
             "colorbar": {
              "outlinewidth": 0,
              "ticks": ""
             }
            },
            "marker": {
             "colorbar": {
              "outlinewidth": 0,
              "ticks": ""
             }
            },
            "type": "scatter3d"
           }
          ],
          "scattercarpet": [
           {
            "marker": {
             "colorbar": {
              "outlinewidth": 0,
              "ticks": ""
             }
            },
            "type": "scattercarpet"
           }
          ],
          "scattergeo": [
           {
            "marker": {
             "colorbar": {
              "outlinewidth": 0,
              "ticks": ""
             }
            },
            "type": "scattergeo"
           }
          ],
          "scattergl": [
           {
            "marker": {
             "colorbar": {
              "outlinewidth": 0,
              "ticks": ""
             }
            },
            "type": "scattergl"
           }
          ],
          "scattermapbox": [
           {
            "marker": {
             "colorbar": {
              "outlinewidth": 0,
              "ticks": ""
             }
            },
            "type": "scattermapbox"
           }
          ],
          "scatterpolar": [
           {
            "marker": {
             "colorbar": {
              "outlinewidth": 0,
              "ticks": ""
             }
            },
            "type": "scatterpolar"
           }
          ],
          "scatterpolargl": [
           {
            "marker": {
             "colorbar": {
              "outlinewidth": 0,
              "ticks": ""
             }
            },
            "type": "scatterpolargl"
           }
          ],
          "scatterternary": [
           {
            "marker": {
             "colorbar": {
              "outlinewidth": 0,
              "ticks": ""
             }
            },
            "type": "scatterternary"
           }
          ],
          "surface": [
           {
            "colorbar": {
             "outlinewidth": 0,
             "ticks": ""
            },
            "colorscale": [
             [
              0,
              "#0d0887"
             ],
             [
              0.1111111111111111,
              "#46039f"
             ],
             [
              0.2222222222222222,
              "#7201a8"
             ],
             [
              0.3333333333333333,
              "#9c179e"
             ],
             [
              0.4444444444444444,
              "#bd3786"
             ],
             [
              0.5555555555555556,
              "#d8576b"
             ],
             [
              0.6666666666666666,
              "#ed7953"
             ],
             [
              0.7777777777777778,
              "#fb9f3a"
             ],
             [
              0.8888888888888888,
              "#fdca26"
             ],
             [
              1,
              "#f0f921"
             ]
            ],
            "type": "surface"
           }
          ],
          "table": [
           {
            "cells": {
             "fill": {
              "color": "#EBF0F8"
             },
             "line": {
              "color": "white"
             }
            },
            "header": {
             "fill": {
              "color": "#C8D4E3"
             },
             "line": {
              "color": "white"
             }
            },
            "type": "table"
           }
          ]
         },
         "layout": {
          "annotationdefaults": {
           "arrowcolor": "#2a3f5f",
           "arrowhead": 0,
           "arrowwidth": 1
          },
          "coloraxis": {
           "colorbar": {
            "outlinewidth": 0,
            "ticks": ""
           }
          },
          "colorscale": {
           "diverging": [
            [
             0,
             "#8e0152"
            ],
            [
             0.1,
             "#c51b7d"
            ],
            [
             0.2,
             "#de77ae"
            ],
            [
             0.3,
             "#f1b6da"
            ],
            [
             0.4,
             "#fde0ef"
            ],
            [
             0.5,
             "#f7f7f7"
            ],
            [
             0.6,
             "#e6f5d0"
            ],
            [
             0.7,
             "#b8e186"
            ],
            [
             0.8,
             "#7fbc41"
            ],
            [
             0.9,
             "#4d9221"
            ],
            [
             1,
             "#276419"
            ]
           ],
           "sequential": [
            [
             0,
             "#0d0887"
            ],
            [
             0.1111111111111111,
             "#46039f"
            ],
            [
             0.2222222222222222,
             "#7201a8"
            ],
            [
             0.3333333333333333,
             "#9c179e"
            ],
            [
             0.4444444444444444,
             "#bd3786"
            ],
            [
             0.5555555555555556,
             "#d8576b"
            ],
            [
             0.6666666666666666,
             "#ed7953"
            ],
            [
             0.7777777777777778,
             "#fb9f3a"
            ],
            [
             0.8888888888888888,
             "#fdca26"
            ],
            [
             1,
             "#f0f921"
            ]
           ],
           "sequentialminus": [
            [
             0,
             "#0d0887"
            ],
            [
             0.1111111111111111,
             "#46039f"
            ],
            [
             0.2222222222222222,
             "#7201a8"
            ],
            [
             0.3333333333333333,
             "#9c179e"
            ],
            [
             0.4444444444444444,
             "#bd3786"
            ],
            [
             0.5555555555555556,
             "#d8576b"
            ],
            [
             0.6666666666666666,
             "#ed7953"
            ],
            [
             0.7777777777777778,
             "#fb9f3a"
            ],
            [
             0.8888888888888888,
             "#fdca26"
            ],
            [
             1,
             "#f0f921"
            ]
           ]
          },
          "colorway": [
           "#636efa",
           "#EF553B",
           "#00cc96",
           "#ab63fa",
           "#FFA15A",
           "#19d3f3",
           "#FF6692",
           "#B6E880",
           "#FF97FF",
           "#FECB52"
          ],
          "font": {
           "color": "#2a3f5f"
          },
          "geo": {
           "bgcolor": "white",
           "lakecolor": "white",
           "landcolor": "#E5ECF6",
           "showlakes": true,
           "showland": true,
           "subunitcolor": "white"
          },
          "hoverlabel": {
           "align": "left"
          },
          "hovermode": "closest",
          "mapbox": {
           "style": "light"
          },
          "paper_bgcolor": "white",
          "plot_bgcolor": "#E5ECF6",
          "polar": {
           "angularaxis": {
            "gridcolor": "white",
            "linecolor": "white",
            "ticks": ""
           },
           "bgcolor": "#E5ECF6",
           "radialaxis": {
            "gridcolor": "white",
            "linecolor": "white",
            "ticks": ""
           }
          },
          "scene": {
           "xaxis": {
            "backgroundcolor": "#E5ECF6",
            "gridcolor": "white",
            "gridwidth": 2,
            "linecolor": "white",
            "showbackground": true,
            "ticks": "",
            "zerolinecolor": "white"
           },
           "yaxis": {
            "backgroundcolor": "#E5ECF6",
            "gridcolor": "white",
            "gridwidth": 2,
            "linecolor": "white",
            "showbackground": true,
            "ticks": "",
            "zerolinecolor": "white"
           },
           "zaxis": {
            "backgroundcolor": "#E5ECF6",
            "gridcolor": "white",
            "gridwidth": 2,
            "linecolor": "white",
            "showbackground": true,
            "ticks": "",
            "zerolinecolor": "white"
           }
          },
          "shapedefaults": {
           "line": {
            "color": "#2a3f5f"
           }
          },
          "ternary": {
           "aaxis": {
            "gridcolor": "white",
            "linecolor": "white",
            "ticks": ""
           },
           "baxis": {
            "gridcolor": "white",
            "linecolor": "white",
            "ticks": ""
           },
           "bgcolor": "#E5ECF6",
           "caxis": {
            "gridcolor": "white",
            "linecolor": "white",
            "ticks": ""
           }
          },
          "title": {
           "x": 0.05
          },
          "xaxis": {
           "automargin": true,
           "gridcolor": "white",
           "linecolor": "white",
           "ticks": "",
           "title": {
            "standoff": 15
           },
           "zerolinecolor": "white",
           "zerolinewidth": 2
          },
          "yaxis": {
           "automargin": true,
           "gridcolor": "white",
           "linecolor": "white",
           "ticks": "",
           "title": {
            "standoff": 15
           },
           "zerolinecolor": "white",
           "zerolinewidth": 2
          }
         }
        },
        "title": {
         "text": "MSE by Epoch"
        },
        "xaxis": {
         "autorange": true,
         "range": [
          0,
          999
         ],
         "title": {
          "text": "epoch"
         },
         "type": "linear"
        },
        "yaxis": {
         "autorange": true,
         "range": [
          0.03162871539418959,
          0.03609427631309479
         ],
         "title": {
          "text": "MSE"
         },
         "type": "linear"
        }
       }
      },
      "image/png": "[encoded data removed]",
      "text/html": [
       "<div>\n",
       "        \n",
       "        \n",
       "            <div id=\"3e7f9c94-c477-4090-b5cb-7a6f2fc92e69\" class=\"plotly-graph-div\" style=\"height:525px; width:100%;\"></div>\n",
       "            <script type=\"text/javascript\">\n",
       "                require([\"plotly\"], function(Plotly) {\n",
       "                    window.PLOTLYENV=window.PLOTLYENV || {};\n",
       "                    \n",
       "                if (document.getElementById(\"3e7f9c94-c477-4090-b5cb-7a6f2fc92e69\")) {\n",
       "                    Plotly.newPlot(\n",
       "                        '3e7f9c94-c477-4090-b5cb-7a6f2fc92e69',\n",
       "                        [{\"name\": \"MSE\", \"type\": \"scatter\", \"x\": [0, 1, 2, 3, 4, 5, 6, 7, 8, 9, 10, 11, 12, 13, 14, 15, 16, 17, 18, 19, 20, 21, 22, 23, 24, 25, 26, 27, 28, 29, 30, 31, 32, 33, 34, 35, 36, 37, 38, 39, 40, 41, 42, 43, 44, 45, 46, 47, 48, 49, 50, 51, 52, 53, 54, 55, 56, 57, 58, 59, 60, 61, 62, 63, 64, 65, 66, 67, 68, 69, 70, 71, 72, 73, 74, 75, 76, 77, 78, 79, 80, 81, 82, 83, 84, 85, 86, 87, 88, 89, 90, 91, 92, 93, 94, 95, 96, 97, 98, 99, 100, 101, 102, 103, 104, 105, 106, 107, 108, 109, 110, 111, 112, 113, 114, 115, 116, 117, 118, 119, 120, 121, 122, 123, 124, 125, 126, 127, 128, 129, 130, 131, 132, 133, 134, 135, 136, 137, 138, 139, 140, 141, 142, 143, 144, 145, 146, 147, 148, 149, 150, 151, 152, 153, 154, 155, 156, 157, 158, 159, 160, 161, 162, 163, 164, 165, 166, 167, 168, 169, 170, 171, 172, 173, 174, 175, 176, 177, 178, 179, 180, 181, 182, 183, 184, 185, 186, 187, 188, 189, 190, 191, 192, 193, 194, 195, 196, 197, 198, 199, 200, 201, 202, 203, 204, 205, 206, 207, 208, 209, 210, 211, 212, 213, 214, 215, 216, 217, 218, 219, 220, 221, 222, 223, 224, 225, 226, 227, 228, 229, 230, 231, 232, 233, 234, 235, 236, 237, 238, 239, 240, 241, 242, 243, 244, 245, 246, 247, 248, 249, 250, 251, 252, 253, 254, 255, 256, 257, 258, 259, 260, 261, 262, 263, 264, 265, 266, 267, 268, 269, 270, 271, 272, 273, 274, 275, 276, 277, 278, 279, 280, 281, 282, 283, 284, 285, 286, 287, 288, 289, 290, 291, 292, 293, 294, 295, 296, 297, 298, 299, 300, 301, 302, 303, 304, 305, 306, 307, 308, 309, 310, 311, 312, 313, 314, 315, 316, 317, 318, 319, 320, 321, 322, 323, 324, 325, 326, 327, 328, 329, 330, 331, 332, 333, 334, 335, 336, 337, 338, 339, 340, 341, 342, 343, 344, 345, 346, 347, 348, 349, 350, 351, 352, 353, 354, 355, 356, 357, 358, 359, 360, 361, 362, 363, 364, 365, 366, 367, 368, 369, 370, 371, 372, 373, 374, 375, 376, 377, 378, 379, 380, 381, 382, 383, 384, 385, 386, 387, 388, 389, 390, 391, 392, 393, 394, 395, 396, 397, 398, 399, 400, 401, 402, 403, 404, 405, 406, 407, 408, 409, 410, 411, 412, 413, 414, 415, 416, 417, 418, 419, 420, 421, 422, 423, 424, 425, 426, 427, 428, 429, 430, 431, 432, 433, 434, 435, 436, 437, 438, 439, 440, 441, 442, 443, 444, 445, 446, 447, 448, 449, 450, 451, 452, 453, 454, 455, 456, 457, 458, 459, 460, 461, 462, 463, 464, 465, 466, 467, 468, 469, 470, 471, 472, 473, 474, 475, 476, 477, 478, 479, 480, 481, 482, 483, 484, 485, 486, 487, 488, 489, 490, 491, 492, 493, 494, 495, 496, 497, 498, 499, 500, 501, 502, 503, 504, 505, 506, 507, 508, 509, 510, 511, 512, 513, 514, 515, 516, 517, 518, 519, 520, 521, 522, 523, 524, 525, 526, 527, 528, 529, 530, 531, 532, 533, 534, 535, 536, 537, 538, 539, 540, 541, 542, 543, 544, 545, 546, 547, 548, 549, 550, 551, 552, 553, 554, 555, 556, 557, 558, 559, 560, 561, 562, 563, 564, 565, 566, 567, 568, 569, 570, 571, 572, 573, 574, 575, 576, 577, 578, 579, 580, 581, 582, 583, 584, 585, 586, 587, 588, 589, 590, 591, 592, 593, 594, 595, 596, 597, 598, 599, 600, 601, 602, 603, 604, 605, 606, 607, 608, 609, 610, 611, 612, 613, 614, 615, 616, 617, 618, 619, 620, 621, 622, 623, 624, 625, 626, 627, 628, 629, 630, 631, 632, 633, 634, 635, 636, 637, 638, 639, 640, 641, 642, 643, 644, 645, 646, 647, 648, 649, 650, 651, 652, 653, 654, 655, 656, 657, 658, 659, 660, 661, 662, 663, 664, 665, 666, 667, 668, 669, 670, 671, 672, 673, 674, 675, 676, 677, 678, 679, 680, 681, 682, 683, 684, 685, 686, 687, 688, 689, 690, 691, 692, 693, 694, 695, 696, 697, 698, 699, 700, 701, 702, 703, 704, 705, 706, 707, 708, 709, 710, 711, 712, 713, 714, 715, 716, 717, 718, 719, 720, 721, 722, 723, 724, 725, 726, 727, 728, 729, 730, 731, 732, 733, 734, 735, 736, 737, 738, 739, 740, 741, 742, 743, 744, 745, 746, 747, 748, 749, 750, 751, 752, 753, 754, 755, 756, 757, 758, 759, 760, 761, 762, 763, 764, 765, 766, 767, 768, 769, 770, 771, 772, 773, 774, 775, 776, 777, 778, 779, 780, 781, 782, 783, 784, 785, 786, 787, 788, 789, 790, 791, 792, 793, 794, 795, 796, 797, 798, 799, 800, 801, 802, 803, 804, 805, 806, 807, 808, 809, 810, 811, 812, 813, 814, 815, 816, 817, 818, 819, 820, 821, 822, 823, 824, 825, 826, 827, 828, 829, 830, 831, 832, 833, 834, 835, 836, 837, 838, 839, 840, 841, 842, 843, 844, 845, 846, 847, 848, 849, 850, 851, 852, 853, 854, 855, 856, 857, 858, 859, 860, 861, 862, 863, 864, 865, 866, 867, 868, 869, 870, 871, 872, 873, 874, 875, 876, 877, 878, 879, 880, 881, 882, 883, 884, 885, 886, 887, 888, 889, 890, 891, 892, 893, 894, 895, 896, 897, 898, 899, 900, 901, 902, 903, 904, 905, 906, 907, 908, 909, 910, 911, 912, 913, 914, 915, 916, 917, 918, 919, 920, 921, 922, 923, 924, 925, 926, 927, 928, 929, 930, 931, 932, 933, 934, 935, 936, 937, 938, 939, 940, 941, 942, 943, 944, 945, 946, 947, 948, 949, 950, 951, 952, 953, 954, 955, 956, 957, 958, 959, 960, 961, 962, 963, 964, 965, 966, 967, 968, 969, 970, 971, 972, 973, 974, 975, 976, 977, 978, 979, 980, 981, 982, 983, 984, 985, 986, 987, 988, 989, 990, 991, 992, 993, 994, 995, 996, 997, 998, 999], \"y\": [0.035870998267149526, 0.035804655415976855, 0.03574121653666064, 0.03568054468625289, 0.03562250973507684, 0.035566988001655454, 0.03551386190907519, 0.03546301966139769, 0.03541435493883061, 0.035367766610458595, 0.0353231584634207, 0.03528043894749612, 0.03523952093413389, 0.03520032148902667, 0.03516276165739128, 0.03512676626117539, 0.03509226370746184, 0.03505918580739186, 0.03502746760497284, 0.03499704721517873, 0.03496786567079037, 0.03493986677745875, 0.03491299697650792, 0.03488720521502592, 0.0348624428228205, 0.03483866339584393, 0.03481582268571593, 0.03479387849499719, 0.03477279057788821, 0.034752520546047494, 0.03473303177924297, 0.034714289340567375, 0.034696259895965614, 0.03467891163783622, 0.03466221421248465, 0.03464613865121863, 0.034630657304888415, 0.03461574378168688, 0.034601372888034665, 0.03458752057238634, 0.034574163871802725, 0.03456128086114367, 0.03454885060474362, 0.03453685311044114, 0.034525269285839, 0.03451408089668058, 0.03450327052723323, 0.034492821542575776, 0.03448271805269322, 0.03447294487828691, 0.034463487518213425, 0.034454332118470134, 0.03444546544264998, 0.03443687484379223, 0.034428548237559566, 0.03442047407667584, 0.03441264132656252, 0.03440503944211477, 0.03439765834556093, 0.03439048840535329, 0.03438352041603926, 0.03437674557906586, 0.034370155484472004, 0.0343637420934264, 0.0343574977215697, 0.03435141502312306, 0.034345486975726106, 0.03433970686596972, 0.03433406827559071, 0.03432856506829675, 0.03432319137719242, 0.03431794159277717, 0.03431281035148922, 0.03430779252476908, 0.034302883208618976, 0.034298077713634606, 0.03429337155548738, 0.03428876044583645, 0.03428424028365019, 0.03427980714691851, 0.034275457284737874, 0.03427118710975176, 0.0342669931909303, 0.03426287224667355, 0.03425882113822338, 0.03425483686337029, 0.03425091655044106, 0.03424705745255498, 0.03424325694213614, 0.03423951250567024, 0.03423582173869466, 0.03423218234101168, 0.0342285921121139, 0.034225048946813316, 0.03422155083106397, 0.03421809583796996, 0.034214682123970136, 0.034211307925191954, 0.03420797155396639, 0.034204671395497065, 0.03420140590467642, 0.034198173603042586, 0.03419497307587034, 0.03419180296939062, 0.034188661988132286, 0.03418554889238111, 0.03418246249575066, 0.0341794016628599, 0.03417636530711313, 0.03417335238857727, 0.03417036191195254, 0.03416739292463218, 0.034164444514847375, 0.03416151580989345, 0.03415860597443395, 0.034155714208878904, 0.034152839747834285, 0.03414998185861922, 0.03414713983984823, 0.034144313020075374, 0.03414150075649764, 0.03413870243371527, 0.03413591746254604, 0.03413314527889123, 0.0341303853426515, 0.03412763713668953, 0.03412490016583852, 0.034122173955953385, 0.034119458053003725, 0.034116752022206036, 0.0341140554471939, 0.03411136792922424, 0.03410868908641817, 0.034106018553034786, 0.03410335597877664, 0.03410070102812549, 0.03409805337970663, 0.03409541272568125, 0.034092778771164796, 0.03409015123367094, 0.03408752984257945, 0.03408491433862718, 0.03408230447342127, 0.0340797000089733, 0.03407710071725387, 0.034074506379766126, 0.0340719167871381, 0.034069331738732514, 0.034066751042273545, 0.03406417451348978, 0.034061601975772474, 0.034059033259848756, 0.03405646820346881, 0.034053906651106775, 0.034051348453674336, 0.03404879346824674, 0.034046241557800914, 0.03404369259096433, 0.03404114644177543, 0.034038602989453555, 0.034036062118179514, 0.03403352371688524, 0.034030987679052445, 0.03402845390252028, 0.034025922289300924, 0.03402339274540323, 0.03402086518066406, 0.03401833950858671, 0.034015815646186366, 0.03401329351384215, 0.034010773035155546, 0.03400825413681492, 0.03400573674846577, 0.034003220802586595, 0.034000706234370064, 0.033998192981609415, 0.03399568098458932, 0.033993170185981955, 0.03399066053074702, 0.03398815196603639, 0.033985644441102636, 0.03398313790721152, 0.03398063231755822, 0.03397812762718712, 0.03397562379291498, 0.0339731207732575, 0.03397061852835888, 0.033968117019924346, 0.033965616211155764, 0.03396311606668971, 0.03396061655253841, 0.03395811763603303, 0.03395561928576936, 0.03395312147155598, 0.033950624164364354, 0.03394812733628137, 0.03394563096046351, 0.0339431350110932, 0.033940639463337, 0.03393814429330544, 0.03393564947801457, 0.03393315499534932, 0.03393066082402811, 0.03392816694356911, 0.03392567333425795, 0.03392317997711665, 0.033920686853874046, 0.033918193946937215, 0.03391570123936429, 0.03391320871483835, 0.033910716357642375, 0.033908224152635266, 0.03390573208522885, 0.03390324014136588, 0.03390074830749894, 0.03389825657057019, 0.033895764917991976, 0.033893273337628226, 0.03389078181777668, 0.03388829034715178, 0.03388579891486833, 0.03388330751042569, 0.03388081612369289, 0.033878324744894106, 0.03387583336459478, 0.03387334197368845, 0.03387085056338392, 0.0338683591251932, 0.03386586765091967, 0.03386337613264688, 0.033860884562727844, 0.03385839293377464, 0.03385590123864852, 0.03385340947045043, 0.03385091762251192, 0.033848425688386224, 0.03384593366184009, 0.033843441536845584, 0.03384094930757231, 0.03383845696838021, 0.03383596451381212, 0.03383347193858724, 0.03383097923759433, 0.03382848640588558, 0.033825993438670446, 0.03382350033130987, 0.03382100707931075, 0.0338185136783205, 0.033816020124121965, 0.03381352641262845, 0.03381103253987897, 0.03380853850203373, 0.0338060442953697, 0.03380354991627639, 0.033801055361251844, 0.03379856062689878, 0.033796065709920775, 0.033793570607118684, 0.033791075315387296, 0.03378857983171189, 0.0337860841531651, 0.03378358827690384, 0.03378109220016637, 0.03377859592026943, 0.03377609943460554, 0.03377360274064034, 0.033771105835910184, 0.03376860871801946, 0.033766111384638545, 0.03376361383350139, 0.03376111606240338, 0.03375861806919927, 0.03375611985180121, 0.033753621408176684, 0.03375112273634689, 0.03374862383438468, 0.03374612470041308, 0.03374362533260345, 0.033741125729174024, 0.03373862588838824, 0.033736125808553355, 0.03373362548801901, 0.03373112492517579, 0.033728624118453975, 0.03372612306632223, 0.03372362176728633, 0.03372112021988801, 0.03371861842270391, 0.033716116374344275, 0.03371361407345206, 0.03371111151870182, 0.03370860870879876, 0.03370610564247773, 0.03370360231850239, 0.03370109873566415, 0.03369859489278157, 0.03369609078869926, 0.0336935864222873, 0.03369108179244031, 0.03368857689807679, 0.03368607173813841, 0.033683566311589225, 0.033681060617415055, 0.03367855465462293, 0.0336760484222403, 0.03367354191931449, 0.03367103514491217, 0.033668528098118725, 0.033666020778037736, 0.033663513183790475, 0.03366100531451531, 0.03365849716936724, 0.03365598874751759, 0.03365348004815322, 0.03365097107047634, 0.03364846181370399, 0.03364595227706761, 0.03364344245981268, 0.03364093236119829, 0.03363842198049669, 0.03363591131699311, 0.0336334003699852, 0.03363088913878289, 0.03362837762270779, 0.03362586582109316, 0.03362335373328336, 0.03362084135863373, 0.03361832869651012, 0.0336158157462888, 0.03361330250735596, 0.033610788979107645, 0.03360827516094937, 0.03360576105229594, 0.033603246652571174, 0.0336007319612076, 0.033598216977646395, 0.033595701701337, 0.033593186131737, 0.03359067026831184, 0.033588154110534715, 0.03358563765788626, 0.033583120909854505, 0.03358060386593449, 0.033578086525628284, 0.03357556888844472, 0.033573050953899175, 0.033570532721513474, 0.03356801419081577, 0.033565495361340264, 0.033562976232627155, 0.03356045680422245, 0.03355793707567785, 0.03355541704655053, 0.033552896716403144, 0.03355037608480359, 0.03354785515132487, 0.033545333915545025, 0.03354281237704705, 0.03354029053541864, 0.03353776839025218, 0.033535245941144674, 0.033532723187697476, 0.03353020012951635, 0.03352767676621126, 0.03352515309739636, 0.03352262912268981, 0.033520104841713735, 0.03351758025409414, 0.033515055359460776, 0.0335125301574471, 0.03351000464769016, 0.0335074788298305, 0.03350495270351215, 0.03350242626838249, 0.033499899524092144, 0.03349737247029503, 0.03349484510664813, 0.03349231743281155, 0.03348978944844838, 0.03348726115322461, 0.0334847325468092, 0.033482203628873816, 0.0334796743990929, 0.033477144857143655, 0.033474615002705835, 0.03347208483546182, 0.03346955435509645, 0.03346702356129707, 0.033464492453753464, 0.03346196103215774, 0.03345942929620431, 0.03345689724558988, 0.0334543648800134, 0.0334518321991759, 0.03344929920278062, 0.033446765890532824, 0.0334442322621399, 0.0334416983173111, 0.03343916405575776, 0.03343662947719311, 0.03343409458133216, 0.0334315593678919, 0.03342902383659101, 0.03342648798715003, 0.03342395181929119, 0.03342141533273839, 0.03341887852721727, 0.03341634140245503, 0.03341380395818051, 0.033411266194124135, 0.033408728110017834, 0.03340618970559509, 0.033403650980590824, 0.033401111934741455, 0.03339857256778479, 0.03339603287946009, 0.033393492869507914, 0.03339095253767025, 0.03338841188369037, 0.03338587090731286, 0.03338332960828358, 0.03338078798634962, 0.03337824604125937, 0.03337570377276235, 0.033373161180609304, 0.033370618264552135, 0.033368075024343954, 0.033365531459738904, 0.03336298757049227, 0.03336044335636047, 0.03335789881710093, 0.033355353952472175, 0.03335280876223376, 0.0333502632461462, 0.03334771740397107, 0.03334517123547091, 0.03334262474040929, 0.0333400779185506, 0.03333753076966025, 0.03333498329350461, 0.03333243548985084, 0.03332988735846714, 0.03332733889912247, 0.033324790111586705, 0.03332224099563057, 0.033319691551025626, 0.03331714177754426, 0.03331459167495966, 0.03331204124304586, 0.03330949048157763, 0.03330693939033055, 0.03330438796908099, 0.03330183621760601, 0.033299284135683484, 0.03329673172309199, 0.0332941789796108, 0.03329162590502001, 0.03328907249910027, 0.03328651876163306, 0.03328396469240045, 0.03328141029118525, 0.03327885555777093, 0.03327630049194158, 0.03327374509348198, 0.03327118936217756, 0.033268633297814335, 0.033266076900179006, 0.03326352016905887, 0.033260963104241835, 0.0332584057055164, 0.03325584797267167, 0.03325328990549736, 0.033250731503783784, 0.03324817276732173, 0.03324561369590271, 0.03324305428931865, 0.03324049454736217, 0.033237934469826334, 0.03323537405650483, 0.033232813307191786, 0.03323025222168198, 0.03322769079977067, 0.0332251290412536, 0.033222566945927116, 0.033220004513587975, 0.03321744174403353, 0.03321487863706157, 0.03321231519247047, 0.03320975141005901, 0.033207187289626475, 0.033204622830972697, 0.033202058033897856, 0.033199492898202766, 0.03319692742368863, 0.03319436161015713, 0.0331917954574104, 0.03318922896525104, 0.033186662133482106, 0.03318409496190714, 0.03318152745033005, 0.033178959598555297, 0.033176391406387694, 0.033173822873632526, 0.03317125400009553, 0.03316868478558285, 0.03316611522990108, 0.03316354533285719, 0.03316097509425863, 0.033158404513913234, 0.03315583359162933, 0.03315326232721548, 0.033150690720480866, 0.033148118771234955, 0.03314554647928764, 0.03314297384444924, 0.03314040086653048, 0.033137827545342446, 0.033135253880696644, 0.033132679872404966, 0.0331301055202797, 0.03312753082413353, 0.03312495578377953, 0.03312238039903114, 0.03311980466970221, 0.03311722859560693, 0.033114652176559935, 0.03311207541237613, 0.03310949830287093, 0.03310692084786003, 0.033104343047159514, 0.03310176490058586, 0.03309918640795593, 0.033096607569086875, 0.033094028383796284, 0.03309144885190207, 0.033088868973222565, 0.0330862887475764, 0.03308370817478261, 0.03308112725466052, 0.033078545987029896, 0.03307596437171082, 0.033073382408523734, 0.03307080009728942, 0.03306821743782902, 0.03306563442996406, 0.03306305107351634, 0.03306046736830809, 0.03305788331416182, 0.033055298910900456, 0.03305271415834719, 0.033050129056325636, 0.03304754360465966, 0.0330449578031736, 0.03304237165169203, 0.033039785150039865, 0.03303719829804239, 0.03303461109552527, 0.03303202354231442, 0.03302943563823618, 0.03302684738311716, 0.033024258776784325, 0.033021669819065014, 0.033019080509786795, 0.0330164908487777, 0.033013900835866014, 0.03301131047088037, 0.03300871975364975, 0.03300612868400344, 0.033003537261771076, 0.03300094548678261, 0.03299835335886833, 0.03299576087785885, 0.032993168043585104, 0.03299057485587838, 0.03298798131457027, 0.03298538741949271, 0.03298279317047792, 0.032980198567358496, 0.032977603609967335, 0.03297500829813767, 0.03297241263170301, 0.03296981661049728, 0.03296722023435465, 0.03296462350310964, 0.03296202641659711, 0.032959428974652184, 0.032956831177110395, 0.0329542330238075, 0.032951634514579664, 0.03294903564926334, 0.032946436427695285, 0.032943836849712596, 0.03294123691515265, 0.032938636623853226, 0.03293603597565236, 0.032933434970388406, 0.03293083360790008, 0.03292823188802636, 0.032925629810606594, 0.032923027375480425, 0.03292042458248781, 0.03291782143146901, 0.03291521792226469, 0.0329126140547157, 0.03291000982866331, 0.03290740524394907, 0.032904800300414844, 0.03290219499790282, 0.032899589336255516, 0.032896983315315736, 0.03289437693492665, 0.03289177019493168, 0.0328891630951746, 0.03288655563549952, 0.03288394781575084, 0.03288133963577327, 0.03287873109541188, 0.03287612219451199, 0.032873512932919305, 0.03287090331047978, 0.032868293327039735, 0.032865682982445805, 0.03286307227654492, 0.03286046120918432, 0.032857849780211584, 0.032855237989474574, 0.03285262583682157, 0.03285001332210098, 0.032847400445161726, 0.032844787205852904, 0.03284217360402401, 0.0328395596395248, 0.03283694531220542, 0.03283433062191625, 0.03283171556850802, 0.03282910015183181, 0.03282648437173892, 0.032823868228081095, 0.0328212517207103, 0.03281863484947885, 0.03281601761423938, 0.03281340001484485, 0.0328107820511485, 0.03280816372300391, 0.032805545030265, 0.032802925972785967, 0.03280030655042132, 0.032797686763025954, 0.03279506661045499, 0.03279244609256396, 0.032789825209208624, 0.03278720396024509, 0.0327845823455298, 0.03278196036491952, 0.03277933801827131, 0.03277671530544258, 0.03277409222629099, 0.03277146878067459, 0.03276884496845172, 0.032766220789481056, 0.03276359624362151, 0.03276097133073245, 0.03275834605067345, 0.032755720403304475, 0.032753094388485726, 0.032750468006077824, 0.032747841255941636, 0.03274521413793837, 0.03274258665192957, 0.03273995879777708, 0.03273733057534304, 0.03273470198448997, 0.032732073025080646, 0.03272944369697823, 0.032726814000046164, 0.0327241839341482, 0.032721553499148445, 0.032718922694911265, 0.03271629152130144, 0.032713659978183984, 0.032711028065424315, 0.032708395782888096, 0.03270576313044134, 0.03270313010795039, 0.032700496715281885, 0.03269786295230287, 0.03269522881888058, 0.03269259431488265, 0.032689959440177066, 0.03268732419463205, 0.032684688578116225, 0.03268205259049851, 0.03267941623164814, 0.03267677950143467, 0.032674142399728004, 0.032671504926398316, 0.032668867081316166, 0.032666228864352415, 0.03266359027537826, 0.03266095131426517, 0.03265831198088501, 0.03265567227510992, 0.032653032196812384, 0.03265039174586522, 0.03264775092214154, 0.03264510972551483, 0.03264246815585888, 0.03263982621304777, 0.032637183896955926, 0.03263454120745818, 0.03263189814442953, 0.032629254707745484, 0.032626610897281715, 0.03262396671291436, 0.03262132215451975, 0.03261867722197463, 0.03261603191515611, 0.03261338623394151, 0.03261074017820857, 0.032608093747835305, 0.03260544694270015, 0.03260279976268171, 0.03260015220765909, 0.03259750427751158, 0.03259485597211893, 0.03259220729136112, 0.03258955823511851, 0.032586908803271766, 0.03258425899570189, 0.032581608812290254, 0.03257895825291847, 0.032576307317468585, 0.03257365600582291, 0.03257100431786412, 0.0325683522534752, 0.032565699812539484, 0.03256304699494063, 0.032560393800562616, 0.03255774022928978, 0.03255508628100677, 0.03255243195559858, 0.032549777252950544, 0.03254712217294833, 0.03254446671547791, 0.0325418108804256, 0.032539154667678066, 0.03253649807712233, 0.03253384110864567, 0.032531183762135804, 0.03252852603748071, 0.03252586793456874, 0.03252320945328854, 0.032520550593529096, 0.032517891355179816, 0.032515231738130326, 0.032512571742270686, 0.032509911367491214, 0.03250725061368262, 0.03250458948073593, 0.03250192796854249, 0.03249926607699401, 0.03249660380598257, 0.03249394115540051, 0.03249127812514056, 0.03248861471509579, 0.03248595092515958, 0.03248328675522569, 0.032480622205188166, 0.03247795727494143, 0.03247529196438027, 0.032472626273399745, 0.032469960201895305, 0.032467293749762746, 0.03246462691689815, 0.03246195970319802, 0.03245929210855912, 0.0324566241328786, 0.03245395577605397, 0.03245128703798303, 0.03244861791856398, 0.03244594841769533, 0.032443278535275906, 0.032440608271204936, 0.032437937625381934, 0.03243526659770685, 0.032432595188079845, 0.032429923396401536, 0.032427251222572825, 0.032424578666495, 0.03242190572806962, 0.032419232407198725, 0.032416558703784557, 0.03241388461772976, 0.03241121014893735, 0.03240853529731069, 0.032405860062753415, 0.03240318444516956, 0.032400508444463565, 0.03239783206054011, 0.03239515529330428, 0.03239247814266151, 0.03238980060851755, 0.032387122690778515, 0.03238444438935094, 0.032381765704141585, 0.03237908663505763, 0.03237640718200658, 0.03237372734489633, 0.032371047123635074, 0.03236836651813139, 0.032365685528294184, 0.032363004154032746, 0.03236032239525667, 0.032357640251875944, 0.03235495772380091, 0.032352274810942196, 0.03234959151321086, 0.03234690783051828, 0.03234422376277618, 0.03234153930989665, 0.03233885447179213, 0.0323361692483754, 0.03233348363955963, 0.03233079764525829, 0.03232811126538525, 0.032325424499854725, 0.03232273734858125, 0.032320049811479803, 0.032317361888465596, 0.03231467357945427, 0.03231198488436183, 0.03230929580310461, 0.03230660633559932, 0.03230391648176299, 0.03230122624151305, 0.03229853561476723, 0.03229584460144373, 0.03229315320146097, 0.032290461414737834, 0.03228776924119351, 0.032285076680747524, 0.03228238373331986, 0.03227969039883075, 0.032276996677200825, 0.03227430256835111, 0.03227160807220296, 0.03226891318867806, 0.032266217917698535, 0.032263522259186786, 0.03226082621306563, 0.03225812977925822, 0.03225543295768809, 0.032252735748279124, 0.032250038150955555, 0.032247340165642006, 0.032244641792263454, 0.03224194303074522, 0.03223924388101302, 0.0322365443429929, 0.032233844416611285, 0.03223114410179499, 0.03222844339847117, 0.032225742306567294, 0.032223040826011316, 0.03222033895673143, 0.03221763669865629, 0.03221493405171485, 0.03221223101583649, 0.0322095275909509, 0.03220682377698818, 0.03220411957387875, 0.03220141498155346, 0.032198709999943495, 0.032196004628980354, 0.03219329886859602, 0.032190592718722724, 0.03218788617929317, 0.032185179250240364, 0.03218247193149771, 0.03217976422299894, 0.032177056124678236, 0.03217434763647009, 0.03217163875830934, 0.03216892949013127, 0.0321662198318715, 0.032163509783466, 0.03216079934485114, 0.03215808851596365, 0.03215537729674063, 0.032152665687119546, 0.03214995368703828, 0.03214724129643503, 0.03214452851524838, 0.03214181534341735, 0.03213910178088124, 0.03213638782757976, 0.03213367348345304, 0.03213095874844151, 0.032128243622486036, 0.03212552810552783, 0.032122812197508496, 0.03212009589837, 0.03211737920805466, 0.032114662126505225, 0.032111944653664806, 0.03210922678947682, 0.03210650853388521, 0.03210378988683412, 0.032101070848268236, 0.032098351418132456, 0.03209563159637226, 0.0320929113829333, 0.03209019077776173, 0.03208746978080407, 0.032084748392007194, 0.03208202661131836, 0.0320793044386852, 0.03207658187405579, 0.032073858917378475, 0.03207113556860208, 0.03206841182767578, 0.03206568769454911, 0.03206296316917199, 0.03206023825149473, 0.03205751294146809, 0.03205478723904308, 0.032052061144171216, 0.032049334656804346, 0.03204660777689465, 0.0320438805043948, 0.03204115283925778, 0.03203842478143697, 0.03203569633088614, 0.03203296748755946, 0.03203023825141147, 0.03202750862239709, 0.03202477860047167, 0.03202204818559089, 0.032019317377710826, 0.032016586176787945, 0.03201385458277916, 0.03201112259564169, 0.032008390215333186, 0.03200565744181168, 0.03200292427503558, 0.03200019071496369, 0.03199745676155523, 0.03199472241476979, 0.031991987674567283, 0.03198925254090815, 0.031986517013753143, 0.03198378109306336, 0.0319810447788004, 0.03197830807092615, 0.03197557096940296, 0.031972833474193565, 0.031970095585260996, 0.03196735730256885, 0.03196461862608094, 0.03196187955576161, 0.03195914009157553, 0.03195640023348776, 0.03195365998146378, 0.03195091933546945, 0.031948178295471065, 0.031945436861435236, 0.03194269503332903, 0.031939952811119894, 0.03193721019477566, 0.03193446718426459, 0.03193172377955531, 0.031928979980616876, 0.03192623578741867, 0.031923491199930557, 0.03192074621812277, 0.031918000841965916, 0.031915255071431024, 0.031912508906489515, 0.031909762347113235, 0.03190701539327438, 0.031904268044945575, 0.03190152030209987, 0.031898772164710675, 0.03189602363275178, 0.03189327470619747, 0.031890525385022336, 0.031887775669201396, 0.03188502555871011, 0.03188227505352434, 0.031879524153620255, 0.031876772858974535, 0.03187402116956422, 0.03187126908536675, 0.03186851660635998, 0.03186576373252219, 0.03186301046383199, 0.03186025680026849, 0.03185750274181116, 0.03185474828843983, 0.031851993440134854]}],\n",
       "                        {\"template\": {\"data\": {\"bar\": [{\"error_x\": {\"color\": \"#2a3f5f\"}, \"error_y\": {\"color\": \"#2a3f5f\"}, \"marker\": {\"line\": {\"color\": \"#E5ECF6\", \"width\": 0.5}}, \"type\": \"bar\"}], \"barpolar\": [{\"marker\": {\"line\": {\"color\": \"#E5ECF6\", \"width\": 0.5}}, \"type\": \"barpolar\"}], \"carpet\": [{\"aaxis\": {\"endlinecolor\": \"#2a3f5f\", \"gridcolor\": \"white\", \"linecolor\": \"white\", \"minorgridcolor\": \"white\", \"startlinecolor\": \"#2a3f5f\"}, \"baxis\": {\"endlinecolor\": \"#2a3f5f\", \"gridcolor\": \"white\", \"linecolor\": \"white\", \"minorgridcolor\": \"white\", \"startlinecolor\": \"#2a3f5f\"}, \"type\": \"carpet\"}], \"choropleth\": [{\"colorbar\": {\"outlinewidth\": 0, \"ticks\": \"\"}, \"type\": \"choropleth\"}], \"contour\": [{\"colorbar\": {\"outlinewidth\": 0, \"ticks\": \"\"}, \"colorscale\": [[0.0, \"#0d0887\"], [0.1111111111111111, \"#46039f\"], [0.2222222222222222, \"#7201a8\"], [0.3333333333333333, \"#9c179e\"], [0.4444444444444444, \"#bd3786\"], [0.5555555555555556, \"#d8576b\"], [0.6666666666666666, \"#ed7953\"], [0.7777777777777778, \"#fb9f3a\"], [0.8888888888888888, \"#fdca26\"], [1.0, \"#f0f921\"]], \"type\": \"contour\"}], \"contourcarpet\": [{\"colorbar\": {\"outlinewidth\": 0, \"ticks\": \"\"}, \"type\": \"contourcarpet\"}], \"heatmap\": [{\"colorbar\": {\"outlinewidth\": 0, \"ticks\": \"\"}, \"colorscale\": [[0.0, \"#0d0887\"], [0.1111111111111111, \"#46039f\"], [0.2222222222222222, \"#7201a8\"], [0.3333333333333333, \"#9c179e\"], [0.4444444444444444, \"#bd3786\"], [0.5555555555555556, \"#d8576b\"], [0.6666666666666666, \"#ed7953\"], [0.7777777777777778, \"#fb9f3a\"], [0.8888888888888888, \"#fdca26\"], [1.0, \"#f0f921\"]], \"type\": \"heatmap\"}], \"heatmapgl\": [{\"colorbar\": {\"outlinewidth\": 0, \"ticks\": \"\"}, \"colorscale\": [[0.0, \"#0d0887\"], [0.1111111111111111, \"#46039f\"], [0.2222222222222222, \"#7201a8\"], [0.3333333333333333, \"#9c179e\"], [0.4444444444444444, \"#bd3786\"], [0.5555555555555556, \"#d8576b\"], [0.6666666666666666, \"#ed7953\"], [0.7777777777777778, \"#fb9f3a\"], [0.8888888888888888, \"#fdca26\"], [1.0, \"#f0f921\"]], \"type\": \"heatmapgl\"}], \"histogram\": [{\"marker\": {\"colorbar\": {\"outlinewidth\": 0, \"ticks\": \"\"}}, \"type\": \"histogram\"}], \"histogram2d\": [{\"colorbar\": {\"outlinewidth\": 0, \"ticks\": \"\"}, \"colorscale\": [[0.0, \"#0d0887\"], [0.1111111111111111, \"#46039f\"], [0.2222222222222222, \"#7201a8\"], [0.3333333333333333, \"#9c179e\"], [0.4444444444444444, \"#bd3786\"], [0.5555555555555556, \"#d8576b\"], [0.6666666666666666, \"#ed7953\"], [0.7777777777777778, \"#fb9f3a\"], [0.8888888888888888, \"#fdca26\"], [1.0, \"#f0f921\"]], \"type\": \"histogram2d\"}], \"histogram2dcontour\": [{\"colorbar\": {\"outlinewidth\": 0, \"ticks\": \"\"}, \"colorscale\": [[0.0, \"#0d0887\"], [0.1111111111111111, \"#46039f\"], [0.2222222222222222, \"#7201a8\"], [0.3333333333333333, \"#9c179e\"], [0.4444444444444444, \"#bd3786\"], [0.5555555555555556, \"#d8576b\"], [0.6666666666666666, \"#ed7953\"], [0.7777777777777778, \"#fb9f3a\"], [0.8888888888888888, \"#fdca26\"], [1.0, \"#f0f921\"]], \"type\": \"histogram2dcontour\"}], \"mesh3d\": [{\"colorbar\": {\"outlinewidth\": 0, \"ticks\": \"\"}, \"type\": \"mesh3d\"}], \"parcoords\": [{\"line\": {\"colorbar\": {\"outlinewidth\": 0, \"ticks\": \"\"}}, \"type\": \"parcoords\"}], \"pie\": [{\"automargin\": true, \"type\": \"pie\"}], \"scatter\": [{\"marker\": {\"colorbar\": {\"outlinewidth\": 0, \"ticks\": \"\"}}, \"type\": \"scatter\"}], \"scatter3d\": [{\"line\": {\"colorbar\": {\"outlinewidth\": 0, \"ticks\": \"\"}}, \"marker\": {\"colorbar\": {\"outlinewidth\": 0, \"ticks\": \"\"}}, \"type\": \"scatter3d\"}], \"scattercarpet\": [{\"marker\": {\"colorbar\": {\"outlinewidth\": 0, \"ticks\": \"\"}}, \"type\": \"scattercarpet\"}], \"scattergeo\": [{\"marker\": {\"colorbar\": {\"outlinewidth\": 0, \"ticks\": \"\"}}, \"type\": \"scattergeo\"}], \"scattergl\": [{\"marker\": {\"colorbar\": {\"outlinewidth\": 0, \"ticks\": \"\"}}, \"type\": \"scattergl\"}], \"scattermapbox\": [{\"marker\": {\"colorbar\": {\"outlinewidth\": 0, \"ticks\": \"\"}}, \"type\": \"scattermapbox\"}], \"scatterpolar\": [{\"marker\": {\"colorbar\": {\"outlinewidth\": 0, \"ticks\": \"\"}}, \"type\": \"scatterpolar\"}], \"scatterpolargl\": [{\"marker\": {\"colorbar\": {\"outlinewidth\": 0, \"ticks\": \"\"}}, \"type\": \"scatterpolargl\"}], \"scatterternary\": [{\"marker\": {\"colorbar\": {\"outlinewidth\": 0, \"ticks\": \"\"}}, \"type\": \"scatterternary\"}], \"surface\": [{\"colorbar\": {\"outlinewidth\": 0, \"ticks\": \"\"}, \"colorscale\": [[0.0, \"#0d0887\"], [0.1111111111111111, \"#46039f\"], [0.2222222222222222, \"#7201a8\"], [0.3333333333333333, \"#9c179e\"], [0.4444444444444444, \"#bd3786\"], [0.5555555555555556, \"#d8576b\"], [0.6666666666666666, \"#ed7953\"], [0.7777777777777778, \"#fb9f3a\"], [0.8888888888888888, \"#fdca26\"], [1.0, \"#f0f921\"]], \"type\": \"surface\"}], \"table\": [{\"cells\": {\"fill\": {\"color\": \"#EBF0F8\"}, \"line\": {\"color\": \"white\"}}, \"header\": {\"fill\": {\"color\": \"#C8D4E3\"}, \"line\": {\"color\": \"white\"}}, \"type\": \"table\"}]}, \"layout\": {\"annotationdefaults\": {\"arrowcolor\": \"#2a3f5f\", \"arrowhead\": 0, \"arrowwidth\": 1}, \"coloraxis\": {\"colorbar\": {\"outlinewidth\": 0, \"ticks\": \"\"}}, \"colorscale\": {\"diverging\": [[0, \"#8e0152\"], [0.1, \"#c51b7d\"], [0.2, \"#de77ae\"], [0.3, \"#f1b6da\"], [0.4, \"#fde0ef\"], [0.5, \"#f7f7f7\"], [0.6, \"#e6f5d0\"], [0.7, \"#b8e186\"], [0.8, \"#7fbc41\"], [0.9, \"#4d9221\"], [1, \"#276419\"]], \"sequential\": [[0.0, \"#0d0887\"], [0.1111111111111111, \"#46039f\"], [0.2222222222222222, \"#7201a8\"], [0.3333333333333333, \"#9c179e\"], [0.4444444444444444, \"#bd3786\"], [0.5555555555555556, \"#d8576b\"], [0.6666666666666666, \"#ed7953\"], [0.7777777777777778, \"#fb9f3a\"], [0.8888888888888888, \"#fdca26\"], [1.0, \"#f0f921\"]], \"sequentialminus\": [[0.0, \"#0d0887\"], [0.1111111111111111, \"#46039f\"], [0.2222222222222222, \"#7201a8\"], [0.3333333333333333, \"#9c179e\"], [0.4444444444444444, \"#bd3786\"], [0.5555555555555556, \"#d8576b\"], [0.6666666666666666, \"#ed7953\"], [0.7777777777777778, \"#fb9f3a\"], [0.8888888888888888, \"#fdca26\"], [1.0, \"#f0f921\"]]}, \"colorway\": [\"#636efa\", \"#EF553B\", \"#00cc96\", \"#ab63fa\", \"#FFA15A\", \"#19d3f3\", \"#FF6692\", \"#B6E880\", \"#FF97FF\", \"#FECB52\"], \"font\": {\"color\": \"#2a3f5f\"}, \"geo\": {\"bgcolor\": \"white\", \"lakecolor\": \"white\", \"landcolor\": \"#E5ECF6\", \"showlakes\": true, \"showland\": true, \"subunitcolor\": \"white\"}, \"hoverlabel\": {\"align\": \"left\"}, \"hovermode\": \"closest\", \"mapbox\": {\"style\": \"light\"}, \"paper_bgcolor\": \"white\", \"plot_bgcolor\": \"#E5ECF6\", \"polar\": {\"angularaxis\": {\"gridcolor\": \"white\", \"linecolor\": \"white\", \"ticks\": \"\"}, \"bgcolor\": \"#E5ECF6\", \"radialaxis\": {\"gridcolor\": \"white\", \"linecolor\": \"white\", \"ticks\": \"\"}}, \"scene\": {\"xaxis\": {\"backgroundcolor\": \"#E5ECF6\", \"gridcolor\": \"white\", \"gridwidth\": 2, \"linecolor\": \"white\", \"showbackground\": true, \"ticks\": \"\", \"zerolinecolor\": \"white\"}, \"yaxis\": {\"backgroundcolor\": \"#E5ECF6\", \"gridcolor\": \"white\", \"gridwidth\": 2, \"linecolor\": \"white\", \"showbackground\": true, \"ticks\": \"\", \"zerolinecolor\": \"white\"}, \"zaxis\": {\"backgroundcolor\": \"#E5ECF6\", \"gridcolor\": \"white\", \"gridwidth\": 2, \"linecolor\": \"white\", \"showbackground\": true, \"ticks\": \"\", \"zerolinecolor\": \"white\"}}, \"shapedefaults\": {\"line\": {\"color\": \"#2a3f5f\"}}, \"ternary\": {\"aaxis\": {\"gridcolor\": \"white\", \"linecolor\": \"white\", \"ticks\": \"\"}, \"baxis\": {\"gridcolor\": \"white\", \"linecolor\": \"white\", \"ticks\": \"\"}, \"bgcolor\": \"#E5ECF6\", \"caxis\": {\"gridcolor\": \"white\", \"linecolor\": \"white\", \"ticks\": \"\"}}, \"title\": {\"x\": 0.05}, \"xaxis\": {\"automargin\": true, \"gridcolor\": \"white\", \"linecolor\": \"white\", \"ticks\": \"\", \"title\": {\"standoff\": 15}, \"zerolinecolor\": \"white\", \"zerolinewidth\": 2}, \"yaxis\": {\"automargin\": true, \"gridcolor\": \"white\", \"linecolor\": \"white\", \"ticks\": \"\", \"title\": {\"standoff\": 15}, \"zerolinecolor\": \"white\", \"zerolinewidth\": 2}}}, \"title\": {\"text\": \"MSE by Epoch\"}, \"xaxis\": {\"title\": {\"text\": \"epoch\"}}, \"yaxis\": {\"title\": {\"text\": \"MSE\"}}},\n",
       "                        {\"responsive\": true}\n",
       "                    ).then(function(){\n",
       "                            \n",
       "var gd = document.getElementById('3e7f9c94-c477-4090-b5cb-7a6f2fc92e69');\n",
       "var x = new MutationObserver(function (mutations, observer) {{\n",
       "        var display = window.getComputedStyle(gd).display;\n",
       "        if (!display || display === 'none') {{\n",
       "            console.log([gd, 'removed!']);\n",
       "            Plotly.purge(gd);\n",
       "            observer.disconnect();\n",
       "        }}\n",
       "}});\n",
       "\n",
       "// Listen for the removal of the full notebook cells\n",
       "var notebookContainer = gd.closest('#notebook-container');\n",
       "if (notebookContainer) {{\n",
       "    x.observe(notebookContainer, {childList: true});\n",
       "}}\n",
       "\n",
       "// Listen for the clearing of the current output cell\n",
       "var outputEl = gd.closest('.output');\n",
       "if (outputEl) {{\n",
       "    x.observe(outputEl, {childList: true});\n",
       "}}\n",
       "\n",
       "                        })\n",
       "                };\n",
       "                });\n",
       "            </script>\n",
       "        </div>"
      ]
     },
     "metadata": {},
     "output_type": "display_data"
    }
   ],
   "source": [
    "# iterate forward & backward propagation\n",
    "epochs = 1000    # number of iterations of forward propagation - loss calculation - backw propagation\n",
    "verb = 0.1       # how often to report results\n",
    "losses,fig = mynet.execute(X, y, epochs, verb, True)\n",
    "# display results visually\n",
    "plyoff.iplot(fig)"
   ]
  },
  {
   "cell_type": "code",
   "execution_count": 5,
   "metadata": {},
   "outputs": [
    {
     "data": {
      "text/html": [
       "<div>\n",
       "<style scoped>\n",
       "    .dataframe tbody tr th:only-of-type {\n",
       "        vertical-align: middle;\n",
       "    }\n",
       "\n",
       "    .dataframe tbody tr th {\n",
       "        vertical-align: top;\n",
       "    }\n",
       "\n",
       "    .dataframe thead th {\n",
       "        text-align: right;\n",
       "    }\n",
       "</style>\n",
       "<table border=\"1\" class=\"dataframe\">\n",
       "  <thead>\n",
       "    <tr style=\"text-align: right;\">\n",
       "      <th></th>\n",
       "      <th>Output</th>\n",
       "    </tr>\n",
       "  </thead>\n",
       "  <tbody>\n",
       "    <tr>\n",
       "      <th>count</th>\n",
       "      <td>100.000000</td>\n",
       "    </tr>\n",
       "    <tr>\n",
       "      <th>mean</th>\n",
       "      <td>0.058268</td>\n",
       "    </tr>\n",
       "    <tr>\n",
       "      <th>std</th>\n",
       "      <td>0.020469</td>\n",
       "    </tr>\n",
       "    <tr>\n",
       "      <th>min</th>\n",
       "      <td>0.035865</td>\n",
       "    </tr>\n",
       "    <tr>\n",
       "      <th>25%</th>\n",
       "      <td>0.042941</td>\n",
       "    </tr>\n",
       "    <tr>\n",
       "      <th>50%</th>\n",
       "      <td>0.052733</td>\n",
       "    </tr>\n",
       "    <tr>\n",
       "      <th>75%</th>\n",
       "      <td>0.068841</td>\n",
       "    </tr>\n",
       "    <tr>\n",
       "      <th>max</th>\n",
       "      <td>0.149384</td>\n",
       "    </tr>\n",
       "  </tbody>\n",
       "</table>\n",
       "</div>"
      ],
      "text/plain": [
       "           Output\n",
       "count  100.000000\n",
       "mean     0.058268\n",
       "std      0.020469\n",
       "min      0.035865\n",
       "25%      0.042941\n",
       "50%      0.052733\n",
       "75%      0.068841\n",
       "max      0.149384"
      ]
     },
     "metadata": {},
     "output_type": "display_data"
    }
   ],
   "source": [
    "# test robustness of the network wrt random initialization\n",
    "M = 100\n",
    "epochs = 100\n",
    "states = np.rint(np.random.uniform(size=M)*10000).astype(int)\n",
    "nets = [None for i in range(M)]\n",
    "losses = [0]*M\n",
    "for i in range(M):\n",
    "    # create network\n",
    "    nets[i] = NeuralNet(nodeCounts, activations, learningRate, lossFunction, states[i])\n",
    "    losses[i] = nets[i].execute(X, y, epochs, None, False)[0][-1]\n",
    "outputs = pd.DataFrame(losses,columns=['Output'])\n",
    "display(outputs.describe())"
   ]
  },
  {
   "cell_type": "code",
   "execution_count": null,
   "metadata": {},
   "outputs": [],
   "source": []
  }
 ],
 "metadata": {
  "kernelspec": {
   "display_name": "Python 3",
   "language": "python",
   "name": "python3"
  },
  "language_info": {
   "codemirror_mode": {
    "name": "ipython",
    "version": 3
   },
   "file_extension": ".py",
   "mimetype": "text/x-python",
   "name": "python",
   "nbconvert_exporter": "python",
   "pygments_lexer": "ipython3",
   "version": "3.7.7"
  }
 },
 "nbformat": 4,
 "nbformat_minor": 4
}
