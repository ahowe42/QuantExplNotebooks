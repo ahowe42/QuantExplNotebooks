{
 "cells": [
  {
   "cell_type": "markdown",
   "metadata": {},
   "source": [
    "## Game Theoretic Dynamic Weighting Based Feature Selection\n",
    "### Adapted from the paper `Antimicrobial Resistance Prediction for Gram-Negative Bacteria via Game Theory-Based Feature Evaluation`, by Abu Sayed Chowdhury, Douglas R. Call, and Shira L. Broschat.\n",
    "\n",
    "DOI: *10.1038/s41598-019-50686-z*\n",
    "Their `R` code is [here](https://github.com/abu034004/GTDWFE/blob/master/code/GT_Feature_Selection.R)\n",
    "\n",
    "The original paper was for only binary classification problems, when the classes were indicated by a -1 or 1. I have tried to adapt the algorithm to be more general."
   ]
  },
  {
   "cell_type": "code",
   "execution_count": 1,
   "metadata": {},
   "outputs": [
    {
     "data": {
      "text/html": [
       "        <script type=\"text/javascript\">\n",
       "        window.PlotlyConfig = {MathJaxConfig: 'local'};\n",
       "        if (window.MathJax) {MathJax.Hub.Config({SVG: {font: \"STIX-Web\"}});}\n",
       "        if (typeof require !== 'undefined') {\n",
       "        require.undef(\"plotly\");\n",
       "        requirejs.config({\n",
       "            paths: {\n",
       "                'plotly': ['https://cdn.plot.ly/plotly-latest.min']\n",
       "            }\n",
       "        });\n",
       "        require(['plotly'], function(Plotly) {\n",
       "            window._Plotly = Plotly;\n",
       "        });\n",
       "        }\n",
       "        </script>\n",
       "        "
      ]
     },
     "metadata": {},
     "output_type": "display_data"
    },
    {
     "data": {
      "application/vnd.plotly.v1+json": {
       "config": {
        "linkText": "Export to plot.ly",
        "plotlyServerURL": "https://plot.ly",
        "showLink": false
       },
       "data": [
        {
         "mode": "markers",
         "type": "scatter",
         "x": [
          1,
          4,
          7
         ],
         "y": [
          7,
          5,
          7
         ]
        },
        {
         "mode": "lines",
         "type": "scatter",
         "x": [
          1,
          2,
          3,
          4,
          5,
          6,
          7
         ],
         "y": [
          3,
          2,
          1,
          1,
          1,
          2,
          3
         ]
        }
       ],
       "layout": {
        "autosize": false,
        "height": 450,
        "showlegend": false,
        "template": {
         "data": {
          "bar": [
           {
            "error_x": {
             "color": "#2a3f5f"
            },
            "error_y": {
             "color": "#2a3f5f"
            },
            "marker": {
             "line": {
              "color": "#E5ECF6",
              "width": 0.5
             }
            },
            "type": "bar"
           }
          ],
          "barpolar": [
           {
            "marker": {
             "line": {
              "color": "#E5ECF6",
              "width": 0.5
             }
            },
            "type": "barpolar"
           }
          ],
          "carpet": [
           {
            "aaxis": {
             "endlinecolor": "#2a3f5f",
             "gridcolor": "white",
             "linecolor": "white",
             "minorgridcolor": "white",
             "startlinecolor": "#2a3f5f"
            },
            "baxis": {
             "endlinecolor": "#2a3f5f",
             "gridcolor": "white",
             "linecolor": "white",
             "minorgridcolor": "white",
             "startlinecolor": "#2a3f5f"
            },
            "type": "carpet"
           }
          ],
          "choropleth": [
           {
            "colorbar": {
             "outlinewidth": 0,
             "ticks": ""
            },
            "type": "choropleth"
           }
          ],
          "contour": [
           {
            "colorbar": {
             "outlinewidth": 0,
             "ticks": ""
            },
            "colorscale": [
             [
              0,
              "#0d0887"
             ],
             [
              0.1111111111111111,
              "#46039f"
             ],
             [
              0.2222222222222222,
              "#7201a8"
             ],
             [
              0.3333333333333333,
              "#9c179e"
             ],
             [
              0.4444444444444444,
              "#bd3786"
             ],
             [
              0.5555555555555556,
              "#d8576b"
             ],
             [
              0.6666666666666666,
              "#ed7953"
             ],
             [
              0.7777777777777778,
              "#fb9f3a"
             ],
             [
              0.8888888888888888,
              "#fdca26"
             ],
             [
              1,
              "#f0f921"
             ]
            ],
            "type": "contour"
           }
          ],
          "contourcarpet": [
           {
            "colorbar": {
             "outlinewidth": 0,
             "ticks": ""
            },
            "type": "contourcarpet"
           }
          ],
          "heatmap": [
           {
            "colorbar": {
             "outlinewidth": 0,
             "ticks": ""
            },
            "colorscale": [
             [
              0,
              "#0d0887"
             ],
             [
              0.1111111111111111,
              "#46039f"
             ],
             [
              0.2222222222222222,
              "#7201a8"
             ],
             [
              0.3333333333333333,
              "#9c179e"
             ],
             [
              0.4444444444444444,
              "#bd3786"
             ],
             [
              0.5555555555555556,
              "#d8576b"
             ],
             [
              0.6666666666666666,
              "#ed7953"
             ],
             [
              0.7777777777777778,
              "#fb9f3a"
             ],
             [
              0.8888888888888888,
              "#fdca26"
             ],
             [
              1,
              "#f0f921"
             ]
            ],
            "type": "heatmap"
           }
          ],
          "heatmapgl": [
           {
            "colorbar": {
             "outlinewidth": 0,
             "ticks": ""
            },
            "colorscale": [
             [
              0,
              "#0d0887"
             ],
             [
              0.1111111111111111,
              "#46039f"
             ],
             [
              0.2222222222222222,
              "#7201a8"
             ],
             [
              0.3333333333333333,
              "#9c179e"
             ],
             [
              0.4444444444444444,
              "#bd3786"
             ],
             [
              0.5555555555555556,
              "#d8576b"
             ],
             [
              0.6666666666666666,
              "#ed7953"
             ],
             [
              0.7777777777777778,
              "#fb9f3a"
             ],
             [
              0.8888888888888888,
              "#fdca26"
             ],
             [
              1,
              "#f0f921"
             ]
            ],
            "type": "heatmapgl"
           }
          ],
          "histogram": [
           {
            "marker": {
             "colorbar": {
              "outlinewidth": 0,
              "ticks": ""
             }
            },
            "type": "histogram"
           }
          ],
          "histogram2d": [
           {
            "colorbar": {
             "outlinewidth": 0,
             "ticks": ""
            },
            "colorscale": [
             [
              0,
              "#0d0887"
             ],
             [
              0.1111111111111111,
              "#46039f"
             ],
             [
              0.2222222222222222,
              "#7201a8"
             ],
             [
              0.3333333333333333,
              "#9c179e"
             ],
             [
              0.4444444444444444,
              "#bd3786"
             ],
             [
              0.5555555555555556,
              "#d8576b"
             ],
             [
              0.6666666666666666,
              "#ed7953"
             ],
             [
              0.7777777777777778,
              "#fb9f3a"
             ],
             [
              0.8888888888888888,
              "#fdca26"
             ],
             [
              1,
              "#f0f921"
             ]
            ],
            "type": "histogram2d"
           }
          ],
          "histogram2dcontour": [
           {
            "colorbar": {
             "outlinewidth": 0,
             "ticks": ""
            },
            "colorscale": [
             [
              0,
              "#0d0887"
             ],
             [
              0.1111111111111111,
              "#46039f"
             ],
             [
              0.2222222222222222,
              "#7201a8"
             ],
             [
              0.3333333333333333,
              "#9c179e"
             ],
             [
              0.4444444444444444,
              "#bd3786"
             ],
             [
              0.5555555555555556,
              "#d8576b"
             ],
             [
              0.6666666666666666,
              "#ed7953"
             ],
             [
              0.7777777777777778,
              "#fb9f3a"
             ],
             [
              0.8888888888888888,
              "#fdca26"
             ],
             [
              1,
              "#f0f921"
             ]
            ],
            "type": "histogram2dcontour"
           }
          ],
          "mesh3d": [
           {
            "colorbar": {
             "outlinewidth": 0,
             "ticks": ""
            },
            "type": "mesh3d"
           }
          ],
          "parcoords": [
           {
            "line": {
             "colorbar": {
              "outlinewidth": 0,
              "ticks": ""
             }
            },
            "type": "parcoords"
           }
          ],
          "pie": [
           {
            "automargin": true,
            "type": "pie"
           }
          ],
          "scatter": [
           {
            "marker": {
             "colorbar": {
              "outlinewidth": 0,
              "ticks": ""
             }
            },
            "type": "scatter"
           }
          ],
          "scatter3d": [
           {
            "line": {
             "colorbar": {
              "outlinewidth": 0,
              "ticks": ""
             }
            },
            "marker": {
             "colorbar": {
              "outlinewidth": 0,
              "ticks": ""
             }
            },
            "type": "scatter3d"
           }
          ],
          "scattercarpet": [
           {
            "marker": {
             "colorbar": {
              "outlinewidth": 0,
              "ticks": ""
             }
            },
            "type": "scattercarpet"
           }
          ],
          "scattergeo": [
           {
            "marker": {
             "colorbar": {
              "outlinewidth": 0,
              "ticks": ""
             }
            },
            "type": "scattergeo"
           }
          ],
          "scattergl": [
           {
            "marker": {
             "colorbar": {
              "outlinewidth": 0,
              "ticks": ""
             }
            },
            "type": "scattergl"
           }
          ],
          "scattermapbox": [
           {
            "marker": {
             "colorbar": {
              "outlinewidth": 0,
              "ticks": ""
             }
            },
            "type": "scattermapbox"
           }
          ],
          "scatterpolar": [
           {
            "marker": {
             "colorbar": {
              "outlinewidth": 0,
              "ticks": ""
             }
            },
            "type": "scatterpolar"
           }
          ],
          "scatterpolargl": [
           {
            "marker": {
             "colorbar": {
              "outlinewidth": 0,
              "ticks": ""
             }
            },
            "type": "scatterpolargl"
           }
          ],
          "scatterternary": [
           {
            "marker": {
             "colorbar": {
              "outlinewidth": 0,
              "ticks": ""
             }
            },
            "type": "scatterternary"
           }
          ],
          "surface": [
           {
            "colorbar": {
             "outlinewidth": 0,
             "ticks": ""
            },
            "colorscale": [
             [
              0,
              "#0d0887"
             ],
             [
              0.1111111111111111,
              "#46039f"
             ],
             [
              0.2222222222222222,
              "#7201a8"
             ],
             [
              0.3333333333333333,
              "#9c179e"
             ],
             [
              0.4444444444444444,
              "#bd3786"
             ],
             [
              0.5555555555555556,
              "#d8576b"
             ],
             [
              0.6666666666666666,
              "#ed7953"
             ],
             [
              0.7777777777777778,
              "#fb9f3a"
             ],
             [
              0.8888888888888888,
              "#fdca26"
             ],
             [
              1,
              "#f0f921"
             ]
            ],
            "type": "surface"
           }
          ],
          "table": [
           {
            "cells": {
             "fill": {
              "color": "#EBF0F8"
             },
             "line": {
              "color": "white"
             }
            },
            "header": {
             "fill": {
              "color": "#C8D4E3"
             },
             "line": {
              "color": "white"
             }
            },
            "type": "table"
           }
          ]
         },
         "layout": {
          "annotationdefaults": {
           "arrowcolor": "#2a3f5f",
           "arrowhead": 0,
           "arrowwidth": 1
          },
          "coloraxis": {
           "colorbar": {
            "outlinewidth": 0,
            "ticks": ""
           }
          },
          "colorscale": {
           "diverging": [
            [
             0,
             "#8e0152"
            ],
            [
             0.1,
             "#c51b7d"
            ],
            [
             0.2,
             "#de77ae"
            ],
            [
             0.3,
             "#f1b6da"
            ],
            [
             0.4,
             "#fde0ef"
            ],
            [
             0.5,
             "#f7f7f7"
            ],
            [
             0.6,
             "#e6f5d0"
            ],
            [
             0.7,
             "#b8e186"
            ],
            [
             0.8,
             "#7fbc41"
            ],
            [
             0.9,
             "#4d9221"
            ],
            [
             1,
             "#276419"
            ]
           ],
           "sequential": [
            [
             0,
             "#0d0887"
            ],
            [
             0.1111111111111111,
             "#46039f"
            ],
            [
             0.2222222222222222,
             "#7201a8"
            ],
            [
             0.3333333333333333,
             "#9c179e"
            ],
            [
             0.4444444444444444,
             "#bd3786"
            ],
            [
             0.5555555555555556,
             "#d8576b"
            ],
            [
             0.6666666666666666,
             "#ed7953"
            ],
            [
             0.7777777777777778,
             "#fb9f3a"
            ],
            [
             0.8888888888888888,
             "#fdca26"
            ],
            [
             1,
             "#f0f921"
            ]
           ],
           "sequentialminus": [
            [
             0,
             "#0d0887"
            ],
            [
             0.1111111111111111,
             "#46039f"
            ],
            [
             0.2222222222222222,
             "#7201a8"
            ],
            [
             0.3333333333333333,
             "#9c179e"
            ],
            [
             0.4444444444444444,
             "#bd3786"
            ],
            [
             0.5555555555555556,
             "#d8576b"
            ],
            [
             0.6666666666666666,
             "#ed7953"
            ],
            [
             0.7777777777777778,
             "#fb9f3a"
            ],
            [
             0.8888888888888888,
             "#fdca26"
            ],
            [
             1,
             "#f0f921"
            ]
           ]
          },
          "colorway": [
           "#636efa",
           "#EF553B",
           "#00cc96",
           "#ab63fa",
           "#FFA15A",
           "#19d3f3",
           "#FF6692",
           "#B6E880",
           "#FF97FF",
           "#FECB52"
          ],
          "font": {
           "color": "#2a3f5f"
          },
          "geo": {
           "bgcolor": "white",
           "lakecolor": "white",
           "landcolor": "#E5ECF6",
           "showlakes": true,
           "showland": true,
           "subunitcolor": "white"
          },
          "hoverlabel": {
           "align": "left"
          },
          "hovermode": "closest",
          "mapbox": {
           "style": "light"
          },
          "paper_bgcolor": "white",
          "plot_bgcolor": "#E5ECF6",
          "polar": {
           "angularaxis": {
            "gridcolor": "white",
            "linecolor": "white",
            "ticks": ""
           },
           "bgcolor": "#E5ECF6",
           "radialaxis": {
            "gridcolor": "white",
            "linecolor": "white",
            "ticks": ""
           }
          },
          "scene": {
           "xaxis": {
            "backgroundcolor": "#E5ECF6",
            "gridcolor": "white",
            "gridwidth": 2,
            "linecolor": "white",
            "showbackground": true,
            "ticks": "",
            "zerolinecolor": "white"
           },
           "yaxis": {
            "backgroundcolor": "#E5ECF6",
            "gridcolor": "white",
            "gridwidth": 2,
            "linecolor": "white",
            "showbackground": true,
            "ticks": "",
            "zerolinecolor": "white"
           },
           "zaxis": {
            "backgroundcolor": "#E5ECF6",
            "gridcolor": "white",
            "gridwidth": 2,
            "linecolor": "white",
            "showbackground": true,
            "ticks": "",
            "zerolinecolor": "white"
           }
          },
          "shapedefaults": {
           "line": {
            "color": "#2a3f5f"
           }
          },
          "ternary": {
           "aaxis": {
            "gridcolor": "white",
            "linecolor": "white",
            "ticks": ""
           },
           "baxis": {
            "gridcolor": "white",
            "linecolor": "white",
            "ticks": ""
           },
           "bgcolor": "#E5ECF6",
           "caxis": {
            "gridcolor": "white",
            "linecolor": "white",
            "ticks": ""
           }
          },
          "title": {
           "x": 0.05
          },
          "xaxis": {
           "automargin": true,
           "gridcolor": "white",
           "linecolor": "white",
           "ticks": "",
           "title": {
            "standoff": 15
           },
           "zerolinecolor": "white",
           "zerolinewidth": 2
          },
          "yaxis": {
           "automargin": true,
           "gridcolor": "white",
           "linecolor": "white",
           "ticks": "",
           "title": {
            "standoff": 15
           },
           "zerolinecolor": "white",
           "zerolinewidth": 2
          }
         }
        },
        "title": {
         "text": "Initialization Makes Me Smile<br>(and it's fun to show off a little...)"
        },
        "width": 500,
        "xaxis": {
         "autorange": true,
         "range": [
          0.5829145728643216,
          7.417085427135678
         ],
         "showgrid": false,
         "showticklabels": false,
         "type": "linear"
        },
        "yaxis": {
         "autorange": true,
         "range": [
          0.6614420062695925,
          7.432601880877743
         ],
         "showgrid": false,
         "showticklabels": false,
         "type": "linear"
        }
       }
      },
      "image/png": "[encoded data removed]",
      "text/html": [
       "<div>\n",
       "        \n",
       "        \n",
       "            <div id=\"5e9e4602-f03f-4256-89f8-aec6296a4c9d\" class=\"plotly-graph-div\" style=\"height:525px; width:500px;\"></div>\n",
       "            <script type=\"text/javascript\">\n",
       "                require([\"plotly\"], function(Plotly) {\n",
       "                    window.PLOTLYENV=window.PLOTLYENV || {};\n",
       "                    \n",
       "                if (document.getElementById(\"5e9e4602-f03f-4256-89f8-aec6296a4c9d\")) {\n",
       "                    Plotly.newPlot(\n",
       "                        '5e9e4602-f03f-4256-89f8-aec6296a4c9d',\n",
       "                        [{\"mode\": \"markers\", \"type\": \"scatter\", \"x\": [1, 4, 7], \"y\": [7, 5, 7]}, {\"mode\": \"lines\", \"type\": \"scatter\", \"x\": [1, 2, 3, 4, 5, 6, 7], \"y\": [3, 2, 1, 1, 1, 2, 3]}],\n",
       "                        {\"autosize\": false, \"showlegend\": false, \"template\": {\"data\": {\"bar\": [{\"error_x\": {\"color\": \"#2a3f5f\"}, \"error_y\": {\"color\": \"#2a3f5f\"}, \"marker\": {\"line\": {\"color\": \"#E5ECF6\", \"width\": 0.5}}, \"type\": \"bar\"}], \"barpolar\": [{\"marker\": {\"line\": {\"color\": \"#E5ECF6\", \"width\": 0.5}}, \"type\": \"barpolar\"}], \"carpet\": [{\"aaxis\": {\"endlinecolor\": \"#2a3f5f\", \"gridcolor\": \"white\", \"linecolor\": \"white\", \"minorgridcolor\": \"white\", \"startlinecolor\": \"#2a3f5f\"}, \"baxis\": {\"endlinecolor\": \"#2a3f5f\", \"gridcolor\": \"white\", \"linecolor\": \"white\", \"minorgridcolor\": \"white\", \"startlinecolor\": \"#2a3f5f\"}, \"type\": \"carpet\"}], \"choropleth\": [{\"colorbar\": {\"outlinewidth\": 0, \"ticks\": \"\"}, \"type\": \"choropleth\"}], \"contour\": [{\"colorbar\": {\"outlinewidth\": 0, \"ticks\": \"\"}, \"colorscale\": [[0.0, \"#0d0887\"], [0.1111111111111111, \"#46039f\"], [0.2222222222222222, \"#7201a8\"], [0.3333333333333333, \"#9c179e\"], [0.4444444444444444, \"#bd3786\"], [0.5555555555555556, \"#d8576b\"], [0.6666666666666666, \"#ed7953\"], [0.7777777777777778, \"#fb9f3a\"], [0.8888888888888888, \"#fdca26\"], [1.0, \"#f0f921\"]], \"type\": \"contour\"}], \"contourcarpet\": [{\"colorbar\": {\"outlinewidth\": 0, \"ticks\": \"\"}, \"type\": \"contourcarpet\"}], \"heatmap\": [{\"colorbar\": {\"outlinewidth\": 0, \"ticks\": \"\"}, \"colorscale\": [[0.0, \"#0d0887\"], [0.1111111111111111, \"#46039f\"], [0.2222222222222222, \"#7201a8\"], [0.3333333333333333, \"#9c179e\"], [0.4444444444444444, \"#bd3786\"], [0.5555555555555556, \"#d8576b\"], [0.6666666666666666, \"#ed7953\"], [0.7777777777777778, \"#fb9f3a\"], [0.8888888888888888, \"#fdca26\"], [1.0, \"#f0f921\"]], \"type\": \"heatmap\"}], \"heatmapgl\": [{\"colorbar\": {\"outlinewidth\": 0, \"ticks\": \"\"}, \"colorscale\": [[0.0, \"#0d0887\"], [0.1111111111111111, \"#46039f\"], [0.2222222222222222, \"#7201a8\"], [0.3333333333333333, \"#9c179e\"], [0.4444444444444444, \"#bd3786\"], [0.5555555555555556, \"#d8576b\"], [0.6666666666666666, \"#ed7953\"], [0.7777777777777778, \"#fb9f3a\"], [0.8888888888888888, \"#fdca26\"], [1.0, \"#f0f921\"]], \"type\": \"heatmapgl\"}], \"histogram\": [{\"marker\": {\"colorbar\": {\"outlinewidth\": 0, \"ticks\": \"\"}}, \"type\": \"histogram\"}], \"histogram2d\": [{\"colorbar\": {\"outlinewidth\": 0, \"ticks\": \"\"}, \"colorscale\": [[0.0, \"#0d0887\"], [0.1111111111111111, \"#46039f\"], [0.2222222222222222, \"#7201a8\"], [0.3333333333333333, \"#9c179e\"], [0.4444444444444444, \"#bd3786\"], [0.5555555555555556, \"#d8576b\"], [0.6666666666666666, \"#ed7953\"], [0.7777777777777778, \"#fb9f3a\"], [0.8888888888888888, \"#fdca26\"], [1.0, \"#f0f921\"]], \"type\": \"histogram2d\"}], \"histogram2dcontour\": [{\"colorbar\": {\"outlinewidth\": 0, \"ticks\": \"\"}, \"colorscale\": [[0.0, \"#0d0887\"], [0.1111111111111111, \"#46039f\"], [0.2222222222222222, \"#7201a8\"], [0.3333333333333333, \"#9c179e\"], [0.4444444444444444, \"#bd3786\"], [0.5555555555555556, \"#d8576b\"], [0.6666666666666666, \"#ed7953\"], [0.7777777777777778, \"#fb9f3a\"], [0.8888888888888888, \"#fdca26\"], [1.0, \"#f0f921\"]], \"type\": \"histogram2dcontour\"}], \"mesh3d\": [{\"colorbar\": {\"outlinewidth\": 0, \"ticks\": \"\"}, \"type\": \"mesh3d\"}], \"parcoords\": [{\"line\": {\"colorbar\": {\"outlinewidth\": 0, \"ticks\": \"\"}}, \"type\": \"parcoords\"}], \"pie\": [{\"automargin\": true, \"type\": \"pie\"}], \"scatter\": [{\"marker\": {\"colorbar\": {\"outlinewidth\": 0, \"ticks\": \"\"}}, \"type\": \"scatter\"}], \"scatter3d\": [{\"line\": {\"colorbar\": {\"outlinewidth\": 0, \"ticks\": \"\"}}, \"marker\": {\"colorbar\": {\"outlinewidth\": 0, \"ticks\": \"\"}}, \"type\": \"scatter3d\"}], \"scattercarpet\": [{\"marker\": {\"colorbar\": {\"outlinewidth\": 0, \"ticks\": \"\"}}, \"type\": \"scattercarpet\"}], \"scattergeo\": [{\"marker\": {\"colorbar\": {\"outlinewidth\": 0, \"ticks\": \"\"}}, \"type\": \"scattergeo\"}], \"scattergl\": [{\"marker\": {\"colorbar\": {\"outlinewidth\": 0, \"ticks\": \"\"}}, \"type\": \"scattergl\"}], \"scattermapbox\": [{\"marker\": {\"colorbar\": {\"outlinewidth\": 0, \"ticks\": \"\"}}, \"type\": \"scattermapbox\"}], \"scatterpolar\": [{\"marker\": {\"colorbar\": {\"outlinewidth\": 0, \"ticks\": \"\"}}, \"type\": \"scatterpolar\"}], \"scatterpolargl\": [{\"marker\": {\"colorbar\": {\"outlinewidth\": 0, \"ticks\": \"\"}}, \"type\": \"scatterpolargl\"}], \"scatterternary\": [{\"marker\": {\"colorbar\": {\"outlinewidth\": 0, \"ticks\": \"\"}}, \"type\": \"scatterternary\"}], \"surface\": [{\"colorbar\": {\"outlinewidth\": 0, \"ticks\": \"\"}, \"colorscale\": [[0.0, \"#0d0887\"], [0.1111111111111111, \"#46039f\"], [0.2222222222222222, \"#7201a8\"], [0.3333333333333333, \"#9c179e\"], [0.4444444444444444, \"#bd3786\"], [0.5555555555555556, \"#d8576b\"], [0.6666666666666666, \"#ed7953\"], [0.7777777777777778, \"#fb9f3a\"], [0.8888888888888888, \"#fdca26\"], [1.0, \"#f0f921\"]], \"type\": \"surface\"}], \"table\": [{\"cells\": {\"fill\": {\"color\": \"#EBF0F8\"}, \"line\": {\"color\": \"white\"}}, \"header\": {\"fill\": {\"color\": \"#C8D4E3\"}, \"line\": {\"color\": \"white\"}}, \"type\": \"table\"}]}, \"layout\": {\"annotationdefaults\": {\"arrowcolor\": \"#2a3f5f\", \"arrowhead\": 0, \"arrowwidth\": 1}, \"coloraxis\": {\"colorbar\": {\"outlinewidth\": 0, \"ticks\": \"\"}}, \"colorscale\": {\"diverging\": [[0, \"#8e0152\"], [0.1, \"#c51b7d\"], [0.2, \"#de77ae\"], [0.3, \"#f1b6da\"], [0.4, \"#fde0ef\"], [0.5, \"#f7f7f7\"], [0.6, \"#e6f5d0\"], [0.7, \"#b8e186\"], [0.8, \"#7fbc41\"], [0.9, \"#4d9221\"], [1, \"#276419\"]], \"sequential\": [[0.0, \"#0d0887\"], [0.1111111111111111, \"#46039f\"], [0.2222222222222222, \"#7201a8\"], [0.3333333333333333, \"#9c179e\"], [0.4444444444444444, \"#bd3786\"], [0.5555555555555556, \"#d8576b\"], [0.6666666666666666, \"#ed7953\"], [0.7777777777777778, \"#fb9f3a\"], [0.8888888888888888, \"#fdca26\"], [1.0, \"#f0f921\"]], \"sequentialminus\": [[0.0, \"#0d0887\"], [0.1111111111111111, \"#46039f\"], [0.2222222222222222, \"#7201a8\"], [0.3333333333333333, \"#9c179e\"], [0.4444444444444444, \"#bd3786\"], [0.5555555555555556, \"#d8576b\"], [0.6666666666666666, \"#ed7953\"], [0.7777777777777778, \"#fb9f3a\"], [0.8888888888888888, \"#fdca26\"], [1.0, \"#f0f921\"]]}, \"colorway\": [\"#636efa\", \"#EF553B\", \"#00cc96\", \"#ab63fa\", \"#FFA15A\", \"#19d3f3\", \"#FF6692\", \"#B6E880\", \"#FF97FF\", \"#FECB52\"], \"font\": {\"color\": \"#2a3f5f\"}, \"geo\": {\"bgcolor\": \"white\", \"lakecolor\": \"white\", \"landcolor\": \"#E5ECF6\", \"showlakes\": true, \"showland\": true, \"subunitcolor\": \"white\"}, \"hoverlabel\": {\"align\": \"left\"}, \"hovermode\": \"closest\", \"mapbox\": {\"style\": \"light\"}, \"paper_bgcolor\": \"white\", \"plot_bgcolor\": \"#E5ECF6\", \"polar\": {\"angularaxis\": {\"gridcolor\": \"white\", \"linecolor\": \"white\", \"ticks\": \"\"}, \"bgcolor\": \"#E5ECF6\", \"radialaxis\": {\"gridcolor\": \"white\", \"linecolor\": \"white\", \"ticks\": \"\"}}, \"scene\": {\"xaxis\": {\"backgroundcolor\": \"#E5ECF6\", \"gridcolor\": \"white\", \"gridwidth\": 2, \"linecolor\": \"white\", \"showbackground\": true, \"ticks\": \"\", \"zerolinecolor\": \"white\"}, \"yaxis\": {\"backgroundcolor\": \"#E5ECF6\", \"gridcolor\": \"white\", \"gridwidth\": 2, \"linecolor\": \"white\", \"showbackground\": true, \"ticks\": \"\", \"zerolinecolor\": \"white\"}, \"zaxis\": {\"backgroundcolor\": \"#E5ECF6\", \"gridcolor\": \"white\", \"gridwidth\": 2, \"linecolor\": \"white\", \"showbackground\": true, \"ticks\": \"\", \"zerolinecolor\": \"white\"}}, \"shapedefaults\": {\"line\": {\"color\": \"#2a3f5f\"}}, \"ternary\": {\"aaxis\": {\"gridcolor\": \"white\", \"linecolor\": \"white\", \"ticks\": \"\"}, \"baxis\": {\"gridcolor\": \"white\", \"linecolor\": \"white\", \"ticks\": \"\"}, \"bgcolor\": \"#E5ECF6\", \"caxis\": {\"gridcolor\": \"white\", \"linecolor\": \"white\", \"ticks\": \"\"}}, \"title\": {\"x\": 0.05}, \"xaxis\": {\"automargin\": true, \"gridcolor\": \"white\", \"linecolor\": \"white\", \"ticks\": \"\", \"title\": {\"standoff\": 15}, \"zerolinecolor\": \"white\", \"zerolinewidth\": 2}, \"yaxis\": {\"automargin\": true, \"gridcolor\": \"white\", \"linecolor\": \"white\", \"ticks\": \"\", \"title\": {\"standoff\": 15}, \"zerolinecolor\": \"white\", \"zerolinewidth\": 2}}}, \"title\": {\"text\": \"Initialization Makes Me Smile<br>(and it's fun to show off a little...)\"}, \"width\": 500, \"xaxis\": {\"showgrid\": false, \"showticklabels\": false}, \"yaxis\": {\"showgrid\": false, \"showticklabels\": false}},\n",
       "                        {\"responsive\": true}\n",
       "                    ).then(function(){\n",
       "                            \n",
       "var gd = document.getElementById('5e9e4602-f03f-4256-89f8-aec6296a4c9d');\n",
       "var x = new MutationObserver(function (mutations, observer) {{\n",
       "        var display = window.getComputedStyle(gd).display;\n",
       "        if (!display || display === 'none') {{\n",
       "            console.log([gd, 'removed!']);\n",
       "            Plotly.purge(gd);\n",
       "            observer.disconnect();\n",
       "        }}\n",
       "}});\n",
       "\n",
       "// Listen for the removal of the full notebook cells\n",
       "var notebookContainer = gd.closest('#notebook-container');\n",
       "if (notebookContainer) {{\n",
       "    x.observe(notebookContainer, {childList: true});\n",
       "}}\n",
       "\n",
       "// Listen for the clearing of the current output cell\n",
       "var outputEl = gd.closest('.output');\n",
       "if (outputEl) {{\n",
       "    x.observe(outputEl, {childList: true});\n",
       "}}\n",
       "\n",
       "                        })\n",
       "                };\n",
       "                });\n",
       "            </script>\n",
       "        </div>"
      ]
     },
     "metadata": {},
     "output_type": "display_data"
    }
   ],
   "source": [
    "import math\n",
    "import numpy as np\n",
    "import pandas as pd\n",
    "import datetime as dt\n",
    "from collections import Counter\n",
    "from IPython.display import display, Markdown, Latex, HTML, IFrame\n",
    "import ipdb\n",
    "from scipy.interpolate import interp1d\n",
    "from scipy import arange, array, exp\n",
    "from itertools import product, combinations, chain\n",
    "\n",
    "import chart_studio.plotly as ply\n",
    "import chart_studio.tools as plytool\n",
    "import plotly.figure_factory as ff\n",
    "import plotly.graph_objs as go\n",
    "import plotly.offline as plyoff\n",
    "import plotly.subplots as plysub\n",
    "\n",
    "from sklearn.preprocessing import KBinsDiscretizer\n",
    "from sklearn.compose import ColumnTransformer\n",
    "\n",
    "# plotly initialization\n",
    "# if using jupyter lab, must have the plotly extension installed: https://github.com/jupyterlab/jupyter-renderers/tree/master/packages/plotly-extension\n",
    "# jupyter labextension install @jupyterlab/plotly-extension\n",
    "plyoff.init_notebook_mode(connected=True)\n",
    "x1 = [1,4,7]; y1 = [7,5,7]\n",
    "x2 = [1,2,3,4,5,6,7]; y2 = [3,2,1,1,1,2,3]\n",
    "plyoff.iplot(go.Figure(data=[go.Scatter({\"x\":x1, \"y\":y1, 'mode':'markers'}),\n",
    "                             go.Scatter({\"x\":x2, \"y\":y2, 'mode':'lines'})],\n",
    "                                        layout=go.Layout(autosize=False,width=500,title=\"Initialization Makes Me Smile<br>(and it's fun to show off a little...)\",\n",
    "                                                         showlegend=False, xaxis={'showgrid':False, 'showticklabels':False},\n",
    "                                                         yaxis={'showgrid':False, 'showticklabels':False})))\n",
    "\n",
    "# plotly authentication - not needed for offline mode\n",
    "#plytool.set_credentials_file(username='ahowe42', api_key='')"
   ]
  },
  {
   "cell_type": "code",
   "execution_count": 2,
   "metadata": {},
   "outputs": [],
   "source": [
    "def MutualInformation(UV):\n",
    "    ''' Compute mutual information between two random variables, based on their empirical\n",
    "    join probability distribution. '''\n",
    "    n = UV.shape[0]\n",
    "    # unique values & frequencies of each discretized feature\n",
    "    freqU = Counter(UV[:,0])\n",
    "    freqV = Counter(UV[:,1])\n",
    "    # all possible combinations of each\n",
    "    allUVs = list(product(freqU.keys(),freqV.keys()))\n",
    "    \n",
    "    # now iterate over all possible combos & compute the frequency\n",
    "    probInfUV = np.zeros(shape=(len(allUVs),6)) # u, v, prob(u), prob(v), prob(u,v), I(u,v)\n",
    "    for i,uv in enumerate(allUVs):\n",
    "        # u & v\n",
    "        probInfUV[i,0] = uv[0]\n",
    "        probInfUV[i,1] = uv[1]\n",
    "        # prob(u) & prob(v)\n",
    "        probInfUV[i,2] = freqU[uv[0]]/n\n",
    "        probInfUV[i,3] = freqV[uv[1]]/n\n",
    "        # prob(u,v)\n",
    "        probInfUV[i,4] = np.sum(np.all(UV == uv, axis=1))/n\n",
    "        # I(u,v)\n",
    "        if probInfUV[i,4] != 0:\n",
    "            probInfUV[i,5] = probInfUV[i,4]*math.log(probInfUV[i,4]/(probInfUV[i,2]*probInfUV[i,3]))\n",
    "    \n",
    "    return np.sum(probInfUV[:,-1]), probInfUV"
   ]
  },
  {
   "cell_type": "code",
   "execution_count": 3,
   "metadata": {},
   "outputs": [],
   "source": [
    "def ConditionalMutualInformation(UVZ):\n",
    "    ''' Compute mutual information between two random variables, conditional upon a third\n",
    "    random variable, based on their empirical joint probability distribution. '''\n",
    "    n = UVZ.shape[0]\n",
    "    # unique values & frequencies of each discretized feature\n",
    "    freqU = Counter(UVZ[:,0])\n",
    "    freqV = Counter(UVZ[:,1])\n",
    "    freqZ = Counter(UVZ[:,2])\n",
    "    # all possible combinations of UV\n",
    "    allUVs = list(product(freqU.keys(),freqV.keys()))\n",
    "    # all possible combinations of UVZ\n",
    "    allUVZs = list(product(freqU.keys(),freqV.keys(),freqZ.keys()))\n",
    "    \n",
    "    # iterate over all values for Z & compute the conditional values\n",
    "    probInfUVcondZ = dict.fromkeys(freqZ.keys(), None)\n",
    "    for z in freqZ.keys():\n",
    "        probInfUVcondZ[z] = dict.fromkeys(allUVs,None)\n",
    "        # get the data for this z\n",
    "        UV = UVZ[UVZ[:,-1]==z,:-1]\n",
    "        nZ = UV.shape[0]\n",
    "        # compute conditional frequencies\n",
    "        fU = Counter(UV[:,0])\n",
    "        fV = Counter(UV[:,1])\n",
    "        # iterate over the possible combinations of U & V & compute the frequency\n",
    "        for i,uv in enumerate(allUVs):\n",
    "            # for this z, for this (u,v), store prob(u|z), prob(v|z), prob(u,v|z)\n",
    "            probInfUVcondZ[z][uv] = [0,0,0]\n",
    "            # prob(u|z) & prob(v|z)\n",
    "            probInfUVcondZ[z][uv][0] = fU[uv[0]]/nZ\n",
    "            probInfUVcondZ[z][uv][1] = fV[uv[1]]/nZ\n",
    "            # prob(u,v|z)\n",
    "            probInfUVcondZ[z][uv][2] = np.sum(np.all(UV == uv, axis=1))/nZ\n",
    "    \n",
    "    # now iterate over all possible combos & compute the frequency\n",
    "    probInfUVZ = np.zeros(shape=(len(allUVZs),8)) # u, v, z, prob(u|z), prob(v|z), prob(u,v|z), p(u,v,z), I(u,v|z)\n",
    "    for i,uvz in enumerate(allUVZs):\n",
    "        # u, v, z\n",
    "        probInfUVZ[i,0] = uvz[0]\n",
    "        probInfUVZ[i,1] = uvz[1]\n",
    "        probInfUVZ[i,2] = uvz[2]\n",
    "        # get these conditional results\n",
    "        mutInf = probInfUVcondZ[probInfUVZ[i,2]][uvz[:-1]]\n",
    "        # conditional prob(u|z) & prob(v|z)\n",
    "        probInfUVZ[i,3] = mutInf[0]\n",
    "        probInfUVZ[i,4] = mutInf[1]\n",
    "        # prob(u,v|z)\n",
    "        probInfUVZ[i,5] = mutInf[2]\n",
    "        # prob(u,v,z)\n",
    "        probInfUVZ[i,6] = np.sum(np.all(UVZ == uvz, axis=1))/n\n",
    "        # I(u,v|z)\n",
    "        if probInfUVZ[i,5] != 0:\n",
    "            probInfUVZ[i,7] = probInfUVZ[i,6]*math.log(probInfUVZ[i,5]/(probInfUVZ[i,3]*probInfUVZ[i,4]))\n",
    "    \n",
    "    return np.sum(probInfUVZ[:,-1]), probInfUVZ, probInfUVcondZ"
   ]
  },
  {
   "cell_type": "code",
   "execution_count": 4,
   "metadata": {},
   "outputs": [],
   "source": [
    "def GTDWFE(K, features, target, featBinarizer, targBinarizer, coalSize=3):\n",
    "    ''' Implements the Game-Theoretic dynamic weighted feature selection algorithm. I adopted\n",
    "    it from the reference listed above. There were some ambiguities between the R code\n",
    "    the authors provided and the mathematical formulas in the paper. Where I have been unsure,\n",
    "    I have followed what I understood from the paper.\n",
    "    K: integer features to keep\n",
    "    features: features from which to feature select\n",
    "    target: the target response variable\n",
    "    featBinarizer: sklearn binarizer for the input features; None if not needed\n",
    "    targBinarizer: sklearn binarizer for the response variable; None if not needed\n",
    "    coalSize: integer coalition size for evaluating joint information\n",
    "    Returns:\n",
    "    featKeep: list of features to keep\n",
    "    wHistory: history of feature weights\n",
    "    mutInf: dictionary holding, for all pairs of columns, the mutual and conditional mutual information\n",
    "    '''\n",
    "    p = features.shape[1]\n",
    "    columns = list(range(p))\n",
    "    \n",
    "    # discretize the features & target\n",
    "    discFeat = features\n",
    "    discTarg = target\n",
    "    if featBinarizer is not None:\n",
    "        discFeat = featBinarizer.fit_transform(features).astype(int)\n",
    "    if targBinarizer is not None:\n",
    "        discTarg = targBinarizer.fit_transform(target).astype(int)\n",
    "   \n",
    "    # compute norms & correlations & similarities & informations\n",
    "    norms = np.zeros(shape=(p,))\n",
    "    rhoV = np.zeros(shape=(p,))\n",
    "    rhoD = np.zeros(shape=(p,))\n",
    "    mutInf = dict.fromkeys(product(columns,columns), None)\n",
    "    for i in columns:\n",
    "        # ord=None is the 2-norm for vectors\n",
    "        norms[i] = np.linalg.norm(features[:,i], ord=None)\n",
    "        # pearson correlation between each feature & the target\n",
    "        rhoV[i] = np.abs(np.corrcoef(features[:,i], np.squeeze(target)))[0,1]\n",
    "        # tanimoto coefficient between all pairs of features\n",
    "        for j in columns:\n",
    "            if i == j:\n",
    "                # no need to compute self-correlation\n",
    "                continue\n",
    "            dt = np.dot(features[:,i], features[:,j])\n",
    "            rhoD[i] += dt / (norms[i] + norms[j] - dt)\n",
    "            # while we're at it, compute all pairs of mutual information; I(i,target), I(i,target | j)\n",
    "            MI = MutualInformation(np.c_[discFeat[:,i],discTarg])[0] # note the absence of j: mutInf[(i,j)][0] will all be the same for all j\n",
    "            CMI = ConditionalMutualInformation(np.c_[discFeat[:,i],discTarg,discFeat[:,j]])[0]\n",
    "            mutInf[(i,j)] = (MI, CMI, CMI > MI)\n",
    "        # finish the similarity average\n",
    "        rhoD[i] /= (p-1)\n",
    "    \n",
    "    # compute the \"total correlation/similarity\"\n",
    "    rSum = rhoV + rhoD\n",
    "    \n",
    "    # setup to keep some diagnostic data\n",
    "    wHistory = [norms,rhoV,rhoD,rSum] # history of the weights calculations\n",
    "\n",
    "    # iterate over features we want to keep\n",
    "    w = np.ones(shape=(p,))       # feature weights\n",
    "    featKeep = []                 # features to keep\n",
    "    columnsLeft = columns.copy()\n",
    "    for t in range(K):\n",
    "        # compute the keep-this-feature values\n",
    "        l = [r*w for r,w in zip(rSum,w)]\n",
    "        wHistory.append(w.copy()); wHistory.append(l)\n",
    "        # select the maximum to identify the best feature to add (and remove from the list for consideration)\n",
    "        indx = np.nanargmax(l)\n",
    "        w[indx] = np.nan # set this weight to nan to ensure it doesn't get chosen again\n",
    "        featKeep.append(indx)\n",
    "        columnsLeft.remove(columns[indx])\n",
    "        # talk a bit\n",
    "        print('Iteration %d: kept %r'%(t,featKeep))\n",
    "        # if we still need to add features, compute the banzhoff power indices to adjust the weights\n",
    "        if t < K-1:\n",
    "            for r in columnsLeft:\n",
    "                banzhoff = 0\n",
    "                # need to build all coalitions up to size coalSize that can be formed with feature r\n",
    "                notr = columns.copy(); notr.remove(r)\n",
    "                coalCount = 0\n",
    "                for c in range(coalSize):\n",
    "                    if len(notr) >= c:\n",
    "                        # iterate over all formable coalitions of this size and compute information gains\n",
    "                        sumTau = 0\n",
    "                        sumCondInf = 0\n",
    "                        coalitions = list(combinations(notr, r=c+1))\n",
    "                        coalCount += len(coalitions)\n",
    "                        for coal in coalitions:\n",
    "                            if len(coal) == 1:\n",
    "                                # simple lookup of information calculations\n",
    "                                data = mutInf[(coal[0],r)]\n",
    "                                sumTau += data[-1]                 # this is CMI > MI\n",
    "                                sumCondInf += data[1]\n",
    "                            else:\n",
    "                                # must iterate through pairs in the coalition to get the information\n",
    "                                for subCoal in product(coal, [r]):\n",
    "                                    # now lookup the information\n",
    "                                    sumTau += mutInf[subCoal][-1]   # this is CMI > MI\n",
    "                                    sumCondInf += mutInf[subCoal][1]\n",
    "                        # update banzhoff calculation\n",
    "                        banzhoff += (sumCondInf > 0) & (sumTau >= math.ceil(len(coalitions)/2))\n",
    "                # now finally update the feature weight with the banzhoff power calculation\n",
    "                w[r] *= (1+banzhoff/coalCount)\n",
    "\n",
    "    return featKeep, wHistory, mutInf"
   ]
  },
  {
   "cell_type": "code",
   "execution_count": 5,
   "metadata": {},
   "outputs": [
    {
     "name": "stdout",
     "output_type": "stream",
     "text": [
      "          0         1         2     3    4\n",
      "0  0.374540  0.950714  0.731994  10.0  7.0\n",
      "1  0.598658  0.156019  0.155995   9.0  7.0\n",
      "2  0.058084  0.866176  0.601115   1.0  1.0\n",
      "3  0.708073  0.020584  0.969910   9.0  9.0\n",
      "4  0.832443  0.212339  0.181825   4.0  9.0\n",
      "   0  1  2   3  4\n",
      "0  2  4  3  10  7\n",
      "1  3  0  0   9  7\n",
      "2  0  3  2   1  1\n",
      "3  4  0  4   9  9\n",
      "4  4  1  1   4  9\n"
     ]
    }
   ],
   "source": [
    "''' demonstrating selective discretization to not discretize already discrete columns'''\n",
    "# generate the data, all features independent\n",
    "np.random.seed(42)\n",
    "n = 40\n",
    "c = np.random.rand(n,3) # these should be discretized\n",
    "d = np.random.randint(low=1, high=11, size=(n,2)) # these should not be discretized\n",
    "data = np.c_[c,d]\n",
    "print(pd.DataFrame(data).head())\n",
    "\n",
    "# selective discretization\n",
    "colsToDisc = [0,1,2]\n",
    "k = [5,5,5]\n",
    "kdisc = KBinsDiscretizer(n_bins = k, encode='ordinal', strategy='quantile') # quantile or uniform?\n",
    "colTran = ColumnTransformer([('bind', kdisc, colsToDisc)], remainder='passthrough', n_jobs=-1) # just call me John! ;-)\n",
    "discdata = colTran.fit_transform(data).astype(int)\n",
    "print(pd.DataFrame(discdata).head())"
   ]
  },
  {
   "cell_type": "code",
   "execution_count": 6,
   "metadata": {},
   "outputs": [
    {
     "name": "stdout",
     "output_type": "stream",
     "text": [
      "       0\n",
      "0   True\n",
      "1   True\n",
      "2  False\n",
      "3   True\n",
      "4   True\n"
     ]
    }
   ],
   "source": [
    "# generate a response variable\n",
    "resp = data[:,0]*300 + data[:,2]*600 + data[:,4]*900\n",
    "med = np.quantile(resp, q=0.5)\n",
    "resp = resp > med\n",
    "print(pd.DataFrame(resp).head())"
   ]
  },
  {
   "cell_type": "code",
   "execution_count": 7,
   "metadata": {},
   "outputs": [
    {
     "name": "stdout",
     "output_type": "stream",
     "text": [
      "Iteration 0: kept [4]\n",
      "Iteration 1: kept [4, 0]\n",
      "Iteration 2: kept [4, 0, 3]\n",
      "[4, 0, 3]\n"
     ]
    }
   ],
   "source": [
    "# perform the GTWDFE\n",
    "keep = 3\n",
    "featKeep, wHistory, mutInf = GTDWFE(K=keep, features=data, target=resp, featBinarizer=colTran, targBinarizer=None)\n",
    "print(featKeep)"
   ]
  },
  {
   "cell_type": "code",
   "execution_count": null,
   "metadata": {},
   "outputs": [],
   "source": []
  }
 ],
 "metadata": {
  "kernelspec": {
   "display_name": "Python 3",
   "language": "python",
   "name": "python3"
  },
  "language_info": {
   "codemirror_mode": {
    "name": "ipython",
    "version": 3
   },
   "file_extension": ".py",
   "mimetype": "text/x-python",
   "name": "python",
   "nbconvert_exporter": "python",
   "pygments_lexer": "ipython3",
   "version": "3.7.7"
  }
 },
 "nbformat": 4,
 "nbformat_minor": 4
}
