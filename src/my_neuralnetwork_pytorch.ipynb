{
 "cells": [
  {
   "cell_type": "markdown",
   "metadata": {},
   "source": [
    "### Simple neural network developed using pytorch, for binary classification."
   ]
  },
  {
   "cell_type": "code",
   "execution_count": 1,
   "metadata": {},
   "outputs": [
    {
     "data": {
      "text/html": [
       "        <script type=\"text/javascript\">\n",
       "        window.PlotlyConfig = {MathJaxConfig: 'local'};\n",
       "        if (window.MathJax) {MathJax.Hub.Config({SVG: {font: \"STIX-Web\"}});}\n",
       "        if (typeof require !== 'undefined') {\n",
       "        require.undef(\"plotly\");\n",
       "        requirejs.config({\n",
       "            paths: {\n",
       "                'plotly': ['https://cdn.plot.ly/plotly-latest.min']\n",
       "            }\n",
       "        });\n",
       "        require(['plotly'], function(Plotly) {\n",
       "            window._Plotly = Plotly;\n",
       "        });\n",
       "        }\n",
       "        </script>\n",
       "        "
      ]
     },
     "metadata": {},
     "output_type": "display_data"
    },
    {
     "data": {
      "application/vnd.plotly.v1+json": {
       "config": {
        "linkText": "Export to plot.ly",
        "plotlyServerURL": "https://plot.ly",
        "showLink": false
       },
       "data": [
        {
         "mode": "markers",
         "type": "scatter",
         "x": [
          1,
          4,
          7
         ],
         "y": [
          7,
          5,
          7
         ]
        },
        {
         "mode": "lines",
         "type": "scatter",
         "x": [
          1,
          2,
          3,
          4,
          5,
          6,
          7
         ],
         "y": [
          3,
          2,
          1,
          1,
          1,
          2,
          3
         ]
        }
       ],
       "layout": {
        "autosize": false,
        "height": 450,
        "showlegend": false,
        "template": {
         "data": {
          "bar": [
           {
            "error_x": {
             "color": "#2a3f5f"
            },
            "error_y": {
             "color": "#2a3f5f"
            },
            "marker": {
             "line": {
              "color": "#E5ECF6",
              "width": 0.5
             }
            },
            "type": "bar"
           }
          ],
          "barpolar": [
           {
            "marker": {
             "line": {
              "color": "#E5ECF6",
              "width": 0.5
             }
            },
            "type": "barpolar"
           }
          ],
          "carpet": [
           {
            "aaxis": {
             "endlinecolor": "#2a3f5f",
             "gridcolor": "white",
             "linecolor": "white",
             "minorgridcolor": "white",
             "startlinecolor": "#2a3f5f"
            },
            "baxis": {
             "endlinecolor": "#2a3f5f",
             "gridcolor": "white",
             "linecolor": "white",
             "minorgridcolor": "white",
             "startlinecolor": "#2a3f5f"
            },
            "type": "carpet"
           }
          ],
          "choropleth": [
           {
            "colorbar": {
             "outlinewidth": 0,
             "ticks": ""
            },
            "type": "choropleth"
           }
          ],
          "contour": [
           {
            "colorbar": {
             "outlinewidth": 0,
             "ticks": ""
            },
            "colorscale": [
             [
              0,
              "#0d0887"
             ],
             [
              0.1111111111111111,
              "#46039f"
             ],
             [
              0.2222222222222222,
              "#7201a8"
             ],
             [
              0.3333333333333333,
              "#9c179e"
             ],
             [
              0.4444444444444444,
              "#bd3786"
             ],
             [
              0.5555555555555556,
              "#d8576b"
             ],
             [
              0.6666666666666666,
              "#ed7953"
             ],
             [
              0.7777777777777778,
              "#fb9f3a"
             ],
             [
              0.8888888888888888,
              "#fdca26"
             ],
             [
              1,
              "#f0f921"
             ]
            ],
            "type": "contour"
           }
          ],
          "contourcarpet": [
           {
            "colorbar": {
             "outlinewidth": 0,
             "ticks": ""
            },
            "type": "contourcarpet"
           }
          ],
          "heatmap": [
           {
            "colorbar": {
             "outlinewidth": 0,
             "ticks": ""
            },
            "colorscale": [
             [
              0,
              "#0d0887"
             ],
             [
              0.1111111111111111,
              "#46039f"
             ],
             [
              0.2222222222222222,
              "#7201a8"
             ],
             [
              0.3333333333333333,
              "#9c179e"
             ],
             [
              0.4444444444444444,
              "#bd3786"
             ],
             [
              0.5555555555555556,
              "#d8576b"
             ],
             [
              0.6666666666666666,
              "#ed7953"
             ],
             [
              0.7777777777777778,
              "#fb9f3a"
             ],
             [
              0.8888888888888888,
              "#fdca26"
             ],
             [
              1,
              "#f0f921"
             ]
            ],
            "type": "heatmap"
           }
          ],
          "heatmapgl": [
           {
            "colorbar": {
             "outlinewidth": 0,
             "ticks": ""
            },
            "colorscale": [
             [
              0,
              "#0d0887"
             ],
             [
              0.1111111111111111,
              "#46039f"
             ],
             [
              0.2222222222222222,
              "#7201a8"
             ],
             [
              0.3333333333333333,
              "#9c179e"
             ],
             [
              0.4444444444444444,
              "#bd3786"
             ],
             [
              0.5555555555555556,
              "#d8576b"
             ],
             [
              0.6666666666666666,
              "#ed7953"
             ],
             [
              0.7777777777777778,
              "#fb9f3a"
             ],
             [
              0.8888888888888888,
              "#fdca26"
             ],
             [
              1,
              "#f0f921"
             ]
            ],
            "type": "heatmapgl"
           }
          ],
          "histogram": [
           {
            "marker": {
             "colorbar": {
              "outlinewidth": 0,
              "ticks": ""
             }
            },
            "type": "histogram"
           }
          ],
          "histogram2d": [
           {
            "colorbar": {
             "outlinewidth": 0,
             "ticks": ""
            },
            "colorscale": [
             [
              0,
              "#0d0887"
             ],
             [
              0.1111111111111111,
              "#46039f"
             ],
             [
              0.2222222222222222,
              "#7201a8"
             ],
             [
              0.3333333333333333,
              "#9c179e"
             ],
             [
              0.4444444444444444,
              "#bd3786"
             ],
             [
              0.5555555555555556,
              "#d8576b"
             ],
             [
              0.6666666666666666,
              "#ed7953"
             ],
             [
              0.7777777777777778,
              "#fb9f3a"
             ],
             [
              0.8888888888888888,
              "#fdca26"
             ],
             [
              1,
              "#f0f921"
             ]
            ],
            "type": "histogram2d"
           }
          ],
          "histogram2dcontour": [
           {
            "colorbar": {
             "outlinewidth": 0,
             "ticks": ""
            },
            "colorscale": [
             [
              0,
              "#0d0887"
             ],
             [
              0.1111111111111111,
              "#46039f"
             ],
             [
              0.2222222222222222,
              "#7201a8"
             ],
             [
              0.3333333333333333,
              "#9c179e"
             ],
             [
              0.4444444444444444,
              "#bd3786"
             ],
             [
              0.5555555555555556,
              "#d8576b"
             ],
             [
              0.6666666666666666,
              "#ed7953"
             ],
             [
              0.7777777777777778,
              "#fb9f3a"
             ],
             [
              0.8888888888888888,
              "#fdca26"
             ],
             [
              1,
              "#f0f921"
             ]
            ],
            "type": "histogram2dcontour"
           }
          ],
          "mesh3d": [
           {
            "colorbar": {
             "outlinewidth": 0,
             "ticks": ""
            },
            "type": "mesh3d"
           }
          ],
          "parcoords": [
           {
            "line": {
             "colorbar": {
              "outlinewidth": 0,
              "ticks": ""
             }
            },
            "type": "parcoords"
           }
          ],
          "pie": [
           {
            "automargin": true,
            "type": "pie"
           }
          ],
          "scatter": [
           {
            "marker": {
             "colorbar": {
              "outlinewidth": 0,
              "ticks": ""
             }
            },
            "type": "scatter"
           }
          ],
          "scatter3d": [
           {
            "line": {
             "colorbar": {
              "outlinewidth": 0,
              "ticks": ""
             }
            },
            "marker": {
             "colorbar": {
              "outlinewidth": 0,
              "ticks": ""
             }
            },
            "type": "scatter3d"
           }
          ],
          "scattercarpet": [
           {
            "marker": {
             "colorbar": {
              "outlinewidth": 0,
              "ticks": ""
             }
            },
            "type": "scattercarpet"
           }
          ],
          "scattergeo": [
           {
            "marker": {
             "colorbar": {
              "outlinewidth": 0,
              "ticks": ""
             }
            },
            "type": "scattergeo"
           }
          ],
          "scattergl": [
           {
            "marker": {
             "colorbar": {
              "outlinewidth": 0,
              "ticks": ""
             }
            },
            "type": "scattergl"
           }
          ],
          "scattermapbox": [
           {
            "marker": {
             "colorbar": {
              "outlinewidth": 0,
              "ticks": ""
             }
            },
            "type": "scattermapbox"
           }
          ],
          "scatterpolar": [
           {
            "marker": {
             "colorbar": {
              "outlinewidth": 0,
              "ticks": ""
             }
            },
            "type": "scatterpolar"
           }
          ],
          "scatterpolargl": [
           {
            "marker": {
             "colorbar": {
              "outlinewidth": 0,
              "ticks": ""
             }
            },
            "type": "scatterpolargl"
           }
          ],
          "scatterternary": [
           {
            "marker": {
             "colorbar": {
              "outlinewidth": 0,
              "ticks": ""
             }
            },
            "type": "scatterternary"
           }
          ],
          "surface": [
           {
            "colorbar": {
             "outlinewidth": 0,
             "ticks": ""
            },
            "colorscale": [
             [
              0,
              "#0d0887"
             ],
             [
              0.1111111111111111,
              "#46039f"
             ],
             [
              0.2222222222222222,
              "#7201a8"
             ],
             [
              0.3333333333333333,
              "#9c179e"
             ],
             [
              0.4444444444444444,
              "#bd3786"
             ],
             [
              0.5555555555555556,
              "#d8576b"
             ],
             [
              0.6666666666666666,
              "#ed7953"
             ],
             [
              0.7777777777777778,
              "#fb9f3a"
             ],
             [
              0.8888888888888888,
              "#fdca26"
             ],
             [
              1,
              "#f0f921"
             ]
            ],
            "type": "surface"
           }
          ],
          "table": [
           {
            "cells": {
             "fill": {
              "color": "#EBF0F8"
             },
             "line": {
              "color": "white"
             }
            },
            "header": {
             "fill": {
              "color": "#C8D4E3"
             },
             "line": {
              "color": "white"
             }
            },
            "type": "table"
           }
          ]
         },
         "layout": {
          "annotationdefaults": {
           "arrowcolor": "#2a3f5f",
           "arrowhead": 0,
           "arrowwidth": 1
          },
          "coloraxis": {
           "colorbar": {
            "outlinewidth": 0,
            "ticks": ""
           }
          },
          "colorscale": {
           "diverging": [
            [
             0,
             "#8e0152"
            ],
            [
             0.1,
             "#c51b7d"
            ],
            [
             0.2,
             "#de77ae"
            ],
            [
             0.3,
             "#f1b6da"
            ],
            [
             0.4,
             "#fde0ef"
            ],
            [
             0.5,
             "#f7f7f7"
            ],
            [
             0.6,
             "#e6f5d0"
            ],
            [
             0.7,
             "#b8e186"
            ],
            [
             0.8,
             "#7fbc41"
            ],
            [
             0.9,
             "#4d9221"
            ],
            [
             1,
             "#276419"
            ]
           ],
           "sequential": [
            [
             0,
             "#0d0887"
            ],
            [
             0.1111111111111111,
             "#46039f"
            ],
            [
             0.2222222222222222,
             "#7201a8"
            ],
            [
             0.3333333333333333,
             "#9c179e"
            ],
            [
             0.4444444444444444,
             "#bd3786"
            ],
            [
             0.5555555555555556,
             "#d8576b"
            ],
            [
             0.6666666666666666,
             "#ed7953"
            ],
            [
             0.7777777777777778,
             "#fb9f3a"
            ],
            [
             0.8888888888888888,
             "#fdca26"
            ],
            [
             1,
             "#f0f921"
            ]
           ],
           "sequentialminus": [
            [
             0,
             "#0d0887"
            ],
            [
             0.1111111111111111,
             "#46039f"
            ],
            [
             0.2222222222222222,
             "#7201a8"
            ],
            [
             0.3333333333333333,
             "#9c179e"
            ],
            [
             0.4444444444444444,
             "#bd3786"
            ],
            [
             0.5555555555555556,
             "#d8576b"
            ],
            [
             0.6666666666666666,
             "#ed7953"
            ],
            [
             0.7777777777777778,
             "#fb9f3a"
            ],
            [
             0.8888888888888888,
             "#fdca26"
            ],
            [
             1,
             "#f0f921"
            ]
           ]
          },
          "colorway": [
           "#636efa",
           "#EF553B",
           "#00cc96",
           "#ab63fa",
           "#FFA15A",
           "#19d3f3",
           "#FF6692",
           "#B6E880",
           "#FF97FF",
           "#FECB52"
          ],
          "font": {
           "color": "#2a3f5f"
          },
          "geo": {
           "bgcolor": "white",
           "lakecolor": "white",
           "landcolor": "#E5ECF6",
           "showlakes": true,
           "showland": true,
           "subunitcolor": "white"
          },
          "hoverlabel": {
           "align": "left"
          },
          "hovermode": "closest",
          "mapbox": {
           "style": "light"
          },
          "paper_bgcolor": "white",
          "plot_bgcolor": "#E5ECF6",
          "polar": {
           "angularaxis": {
            "gridcolor": "white",
            "linecolor": "white",
            "ticks": ""
           },
           "bgcolor": "#E5ECF6",
           "radialaxis": {
            "gridcolor": "white",
            "linecolor": "white",
            "ticks": ""
           }
          },
          "scene": {
           "xaxis": {
            "backgroundcolor": "#E5ECF6",
            "gridcolor": "white",
            "gridwidth": 2,
            "linecolor": "white",
            "showbackground": true,
            "ticks": "",
            "zerolinecolor": "white"
           },
           "yaxis": {
            "backgroundcolor": "#E5ECF6",
            "gridcolor": "white",
            "gridwidth": 2,
            "linecolor": "white",
            "showbackground": true,
            "ticks": "",
            "zerolinecolor": "white"
           },
           "zaxis": {
            "backgroundcolor": "#E5ECF6",
            "gridcolor": "white",
            "gridwidth": 2,
            "linecolor": "white",
            "showbackground": true,
            "ticks": "",
            "zerolinecolor": "white"
           }
          },
          "shapedefaults": {
           "line": {
            "color": "#2a3f5f"
           }
          },
          "ternary": {
           "aaxis": {
            "gridcolor": "white",
            "linecolor": "white",
            "ticks": ""
           },
           "baxis": {
            "gridcolor": "white",
            "linecolor": "white",
            "ticks": ""
           },
           "bgcolor": "#E5ECF6",
           "caxis": {
            "gridcolor": "white",
            "linecolor": "white",
            "ticks": ""
           }
          },
          "title": {
           "x": 0.05
          },
          "xaxis": {
           "automargin": true,
           "gridcolor": "white",
           "linecolor": "white",
           "ticks": "",
           "title": {
            "standoff": 15
           },
           "zerolinecolor": "white",
           "zerolinewidth": 2
          },
          "yaxis": {
           "automargin": true,
           "gridcolor": "white",
           "linecolor": "white",
           "ticks": "",
           "title": {
            "standoff": 15
           },
           "zerolinecolor": "white",
           "zerolinewidth": 2
          }
         }
        },
        "title": {
         "text": "Initialization Makes Me Smile<br>(and it's fun to show off a little...)"
        },
        "width": 400,
        "xaxis": {
         "autorange": true,
         "range": [
          0.5467625899280575,
          7.453237410071942
         ],
         "showgrid": false,
         "showticklabels": false,
         "type": "linear"
        },
        "yaxis": {
         "autorange": true,
         "range": [
          0.6614420062695925,
          7.432601880877743
         ],
         "type": "linear"
        }
       }
      },
      "image/png": "[encoded data removed]",
      "text/html": [
       "<div>\n",
       "        \n",
       "        \n",
       "            <div id=\"9dc0f18b-ccc7-49f6-b89c-91f5784b773c\" class=\"plotly-graph-div\" style=\"height:525px; width:400px;\"></div>\n",
       "            <script type=\"text/javascript\">\n",
       "                require([\"plotly\"], function(Plotly) {\n",
       "                    window.PLOTLYENV=window.PLOTLYENV || {};\n",
       "                    \n",
       "                if (document.getElementById(\"9dc0f18b-ccc7-49f6-b89c-91f5784b773c\")) {\n",
       "                    Plotly.newPlot(\n",
       "                        '9dc0f18b-ccc7-49f6-b89c-91f5784b773c',\n",
       "                        [{\"mode\": \"markers\", \"type\": \"scatter\", \"x\": [1, 4, 7], \"y\": [7, 5, 7]}, {\"mode\": \"lines\", \"type\": \"scatter\", \"x\": [1, 2, 3, 4, 5, 6, 7], \"y\": [3, 2, 1, 1, 1, 2, 3]}],\n",
       "                        {\"autosize\": false, \"showlegend\": false, \"template\": {\"data\": {\"bar\": [{\"error_x\": {\"color\": \"#2a3f5f\"}, \"error_y\": {\"color\": \"#2a3f5f\"}, \"marker\": {\"line\": {\"color\": \"#E5ECF6\", \"width\": 0.5}}, \"type\": \"bar\"}], \"barpolar\": [{\"marker\": {\"line\": {\"color\": \"#E5ECF6\", \"width\": 0.5}}, \"type\": \"barpolar\"}], \"carpet\": [{\"aaxis\": {\"endlinecolor\": \"#2a3f5f\", \"gridcolor\": \"white\", \"linecolor\": \"white\", \"minorgridcolor\": \"white\", \"startlinecolor\": \"#2a3f5f\"}, \"baxis\": {\"endlinecolor\": \"#2a3f5f\", \"gridcolor\": \"white\", \"linecolor\": \"white\", \"minorgridcolor\": \"white\", \"startlinecolor\": \"#2a3f5f\"}, \"type\": \"carpet\"}], \"choropleth\": [{\"colorbar\": {\"outlinewidth\": 0, \"ticks\": \"\"}, \"type\": \"choropleth\"}], \"contour\": [{\"colorbar\": {\"outlinewidth\": 0, \"ticks\": \"\"}, \"colorscale\": [[0.0, \"#0d0887\"], [0.1111111111111111, \"#46039f\"], [0.2222222222222222, \"#7201a8\"], [0.3333333333333333, \"#9c179e\"], [0.4444444444444444, \"#bd3786\"], [0.5555555555555556, \"#d8576b\"], [0.6666666666666666, \"#ed7953\"], [0.7777777777777778, \"#fb9f3a\"], [0.8888888888888888, \"#fdca26\"], [1.0, \"#f0f921\"]], \"type\": \"contour\"}], \"contourcarpet\": [{\"colorbar\": {\"outlinewidth\": 0, \"ticks\": \"\"}, \"type\": \"contourcarpet\"}], \"heatmap\": [{\"colorbar\": {\"outlinewidth\": 0, \"ticks\": \"\"}, \"colorscale\": [[0.0, \"#0d0887\"], [0.1111111111111111, \"#46039f\"], [0.2222222222222222, \"#7201a8\"], [0.3333333333333333, \"#9c179e\"], [0.4444444444444444, \"#bd3786\"], [0.5555555555555556, \"#d8576b\"], [0.6666666666666666, \"#ed7953\"], [0.7777777777777778, \"#fb9f3a\"], [0.8888888888888888, \"#fdca26\"], [1.0, \"#f0f921\"]], \"type\": \"heatmap\"}], \"heatmapgl\": [{\"colorbar\": {\"outlinewidth\": 0, \"ticks\": \"\"}, \"colorscale\": [[0.0, \"#0d0887\"], [0.1111111111111111, \"#46039f\"], [0.2222222222222222, \"#7201a8\"], [0.3333333333333333, \"#9c179e\"], [0.4444444444444444, \"#bd3786\"], [0.5555555555555556, \"#d8576b\"], [0.6666666666666666, \"#ed7953\"], [0.7777777777777778, \"#fb9f3a\"], [0.8888888888888888, \"#fdca26\"], [1.0, \"#f0f921\"]], \"type\": \"heatmapgl\"}], \"histogram\": [{\"marker\": {\"colorbar\": {\"outlinewidth\": 0, \"ticks\": \"\"}}, \"type\": \"histogram\"}], \"histogram2d\": [{\"colorbar\": {\"outlinewidth\": 0, \"ticks\": \"\"}, \"colorscale\": [[0.0, \"#0d0887\"], [0.1111111111111111, \"#46039f\"], [0.2222222222222222, \"#7201a8\"], [0.3333333333333333, \"#9c179e\"], [0.4444444444444444, \"#bd3786\"], [0.5555555555555556, \"#d8576b\"], [0.6666666666666666, \"#ed7953\"], [0.7777777777777778, \"#fb9f3a\"], [0.8888888888888888, \"#fdca26\"], [1.0, \"#f0f921\"]], \"type\": \"histogram2d\"}], \"histogram2dcontour\": [{\"colorbar\": {\"outlinewidth\": 0, \"ticks\": \"\"}, \"colorscale\": [[0.0, \"#0d0887\"], [0.1111111111111111, \"#46039f\"], [0.2222222222222222, \"#7201a8\"], [0.3333333333333333, \"#9c179e\"], [0.4444444444444444, \"#bd3786\"], [0.5555555555555556, \"#d8576b\"], [0.6666666666666666, \"#ed7953\"], [0.7777777777777778, \"#fb9f3a\"], [0.8888888888888888, \"#fdca26\"], [1.0, \"#f0f921\"]], \"type\": \"histogram2dcontour\"}], \"mesh3d\": [{\"colorbar\": {\"outlinewidth\": 0, \"ticks\": \"\"}, \"type\": \"mesh3d\"}], \"parcoords\": [{\"line\": {\"colorbar\": {\"outlinewidth\": 0, \"ticks\": \"\"}}, \"type\": \"parcoords\"}], \"pie\": [{\"automargin\": true, \"type\": \"pie\"}], \"scatter\": [{\"marker\": {\"colorbar\": {\"outlinewidth\": 0, \"ticks\": \"\"}}, \"type\": \"scatter\"}], \"scatter3d\": [{\"line\": {\"colorbar\": {\"outlinewidth\": 0, \"ticks\": \"\"}}, \"marker\": {\"colorbar\": {\"outlinewidth\": 0, \"ticks\": \"\"}}, \"type\": \"scatter3d\"}], \"scattercarpet\": [{\"marker\": {\"colorbar\": {\"outlinewidth\": 0, \"ticks\": \"\"}}, \"type\": \"scattercarpet\"}], \"scattergeo\": [{\"marker\": {\"colorbar\": {\"outlinewidth\": 0, \"ticks\": \"\"}}, \"type\": \"scattergeo\"}], \"scattergl\": [{\"marker\": {\"colorbar\": {\"outlinewidth\": 0, \"ticks\": \"\"}}, \"type\": \"scattergl\"}], \"scattermapbox\": [{\"marker\": {\"colorbar\": {\"outlinewidth\": 0, \"ticks\": \"\"}}, \"type\": \"scattermapbox\"}], \"scatterpolar\": [{\"marker\": {\"colorbar\": {\"outlinewidth\": 0, \"ticks\": \"\"}}, \"type\": \"scatterpolar\"}], \"scatterpolargl\": [{\"marker\": {\"colorbar\": {\"outlinewidth\": 0, \"ticks\": \"\"}}, \"type\": \"scatterpolargl\"}], \"scatterternary\": [{\"marker\": {\"colorbar\": {\"outlinewidth\": 0, \"ticks\": \"\"}}, \"type\": \"scatterternary\"}], \"surface\": [{\"colorbar\": {\"outlinewidth\": 0, \"ticks\": \"\"}, \"colorscale\": [[0.0, \"#0d0887\"], [0.1111111111111111, \"#46039f\"], [0.2222222222222222, \"#7201a8\"], [0.3333333333333333, \"#9c179e\"], [0.4444444444444444, \"#bd3786\"], [0.5555555555555556, \"#d8576b\"], [0.6666666666666666, \"#ed7953\"], [0.7777777777777778, \"#fb9f3a\"], [0.8888888888888888, \"#fdca26\"], [1.0, \"#f0f921\"]], \"type\": \"surface\"}], \"table\": [{\"cells\": {\"fill\": {\"color\": \"#EBF0F8\"}, \"line\": {\"color\": \"white\"}}, \"header\": {\"fill\": {\"color\": \"#C8D4E3\"}, \"line\": {\"color\": \"white\"}}, \"type\": \"table\"}]}, \"layout\": {\"annotationdefaults\": {\"arrowcolor\": \"#2a3f5f\", \"arrowhead\": 0, \"arrowwidth\": 1}, \"coloraxis\": {\"colorbar\": {\"outlinewidth\": 0, \"ticks\": \"\"}}, \"colorscale\": {\"diverging\": [[0, \"#8e0152\"], [0.1, \"#c51b7d\"], [0.2, \"#de77ae\"], [0.3, \"#f1b6da\"], [0.4, \"#fde0ef\"], [0.5, \"#f7f7f7\"], [0.6, \"#e6f5d0\"], [0.7, \"#b8e186\"], [0.8, \"#7fbc41\"], [0.9, \"#4d9221\"], [1, \"#276419\"]], \"sequential\": [[0.0, \"#0d0887\"], [0.1111111111111111, \"#46039f\"], [0.2222222222222222, \"#7201a8\"], [0.3333333333333333, \"#9c179e\"], [0.4444444444444444, \"#bd3786\"], [0.5555555555555556, \"#d8576b\"], [0.6666666666666666, \"#ed7953\"], [0.7777777777777778, \"#fb9f3a\"], [0.8888888888888888, \"#fdca26\"], [1.0, \"#f0f921\"]], \"sequentialminus\": [[0.0, \"#0d0887\"], [0.1111111111111111, \"#46039f\"], [0.2222222222222222, \"#7201a8\"], [0.3333333333333333, \"#9c179e\"], [0.4444444444444444, \"#bd3786\"], [0.5555555555555556, \"#d8576b\"], [0.6666666666666666, \"#ed7953\"], [0.7777777777777778, \"#fb9f3a\"], [0.8888888888888888, \"#fdca26\"], [1.0, \"#f0f921\"]]}, \"colorway\": [\"#636efa\", \"#EF553B\", \"#00cc96\", \"#ab63fa\", \"#FFA15A\", \"#19d3f3\", \"#FF6692\", \"#B6E880\", \"#FF97FF\", \"#FECB52\"], \"font\": {\"color\": \"#2a3f5f\"}, \"geo\": {\"bgcolor\": \"white\", \"lakecolor\": \"white\", \"landcolor\": \"#E5ECF6\", \"showlakes\": true, \"showland\": true, \"subunitcolor\": \"white\"}, \"hoverlabel\": {\"align\": \"left\"}, \"hovermode\": \"closest\", \"mapbox\": {\"style\": \"light\"}, \"paper_bgcolor\": \"white\", \"plot_bgcolor\": \"#E5ECF6\", \"polar\": {\"angularaxis\": {\"gridcolor\": \"white\", \"linecolor\": \"white\", \"ticks\": \"\"}, \"bgcolor\": \"#E5ECF6\", \"radialaxis\": {\"gridcolor\": \"white\", \"linecolor\": \"white\", \"ticks\": \"\"}}, \"scene\": {\"xaxis\": {\"backgroundcolor\": \"#E5ECF6\", \"gridcolor\": \"white\", \"gridwidth\": 2, \"linecolor\": \"white\", \"showbackground\": true, \"ticks\": \"\", \"zerolinecolor\": \"white\"}, \"yaxis\": {\"backgroundcolor\": \"#E5ECF6\", \"gridcolor\": \"white\", \"gridwidth\": 2, \"linecolor\": \"white\", \"showbackground\": true, \"ticks\": \"\", \"zerolinecolor\": \"white\"}, \"zaxis\": {\"backgroundcolor\": \"#E5ECF6\", \"gridcolor\": \"white\", \"gridwidth\": 2, \"linecolor\": \"white\", \"showbackground\": true, \"ticks\": \"\", \"zerolinecolor\": \"white\"}}, \"shapedefaults\": {\"line\": {\"color\": \"#2a3f5f\"}}, \"ternary\": {\"aaxis\": {\"gridcolor\": \"white\", \"linecolor\": \"white\", \"ticks\": \"\"}, \"baxis\": {\"gridcolor\": \"white\", \"linecolor\": \"white\", \"ticks\": \"\"}, \"bgcolor\": \"#E5ECF6\", \"caxis\": {\"gridcolor\": \"white\", \"linecolor\": \"white\", \"ticks\": \"\"}}, \"title\": {\"x\": 0.05}, \"xaxis\": {\"automargin\": true, \"gridcolor\": \"white\", \"linecolor\": \"white\", \"ticks\": \"\", \"title\": {\"standoff\": 15}, \"zerolinecolor\": \"white\", \"zerolinewidth\": 2}, \"yaxis\": {\"automargin\": true, \"gridcolor\": \"white\", \"linecolor\": \"white\", \"ticks\": \"\", \"title\": {\"standoff\": 15}, \"zerolinecolor\": \"white\", \"zerolinewidth\": 2}}}, \"title\": {\"text\": \"Initialization Makes Me Smile<br>(and it's fun to show off a little...)\"}, \"width\": 400, \"xaxis\": {\"showgrid\": false, \"showticklabels\": false}},\n",
       "                        {\"responsive\": true}\n",
       "                    ).then(function(){\n",
       "                            \n",
       "var gd = document.getElementById('9dc0f18b-ccc7-49f6-b89c-91f5784b773c');\n",
       "var x = new MutationObserver(function (mutations, observer) {{\n",
       "        var display = window.getComputedStyle(gd).display;\n",
       "        if (!display || display === 'none') {{\n",
       "            console.log([gd, 'removed!']);\n",
       "            Plotly.purge(gd);\n",
       "            observer.disconnect();\n",
       "        }}\n",
       "}});\n",
       "\n",
       "// Listen for the removal of the full notebook cells\n",
       "var notebookContainer = gd.closest('#notebook-container');\n",
       "if (notebookContainer) {{\n",
       "    x.observe(notebookContainer, {childList: true});\n",
       "}}\n",
       "\n",
       "// Listen for the clearing of the current output cell\n",
       "var outputEl = gd.closest('.output');\n",
       "if (outputEl) {{\n",
       "    x.observe(outputEl, {childList: true});\n",
       "}}\n",
       "\n",
       "                        })\n",
       "                };\n",
       "                });\n",
       "            </script>\n",
       "        </div>"
      ]
     },
     "metadata": {},
     "output_type": "display_data"
    }
   ],
   "source": [
    "import numpy as np\n",
    "import pandas as pd\n",
    "import ipdb\n",
    "import torch\n",
    "import torch.nn as nn\n",
    "from torch.utils.data import Dataset, DataLoader\n",
    "\n",
    "from sklearn.model_selection import ShuffleSplit\n",
    "\n",
    "import chart_studio.plotly as ply\n",
    "import chart_studio.tools as plytool\n",
    "import plotly.figure_factory as ff\n",
    "import plotly.graph_objs as go\n",
    "import plotly.offline as plyoff\n",
    "\n",
    "#plytool.set_credentials_file(username='ahowe42', api_key='')\n",
    "plyoff.init_notebook_mode(connected=True)\n",
    "x1 = [1,4,7]; y1 = [7,5,7]\n",
    "x2 = [1,2,3,4,5,6,7]; y2 = [3,2,1,1,1,2,3]\n",
    "plyoff.iplot(go.Figure(data=[go.Scatter({'x':x1, 'y':y1, 'mode':'markers'}), go.Scatter({'x':x2, 'y':y2, 'mode':'lines'})],\n",
    "                       layout=go.Layout(autosize=False, width=400, showlegend=False,\n",
    "                                        xaxis={'showgrid':False, 'showticklabels':False},\n",
    "                                        title=\"Initialization Makes Me Smile<br>(and it's fun to show off a little...)\")))\n"
   ]
  },
  {
   "cell_type": "code",
   "execution_count": 2,
   "metadata": {},
   "outputs": [],
   "source": [
    "''' define the model class for a neural net with variable hidden layers & dropout;\n",
    "this NN will be used for binary classification '''\n",
    "class myNN(nn.Module):\n",
    "    def __init__(self, layerNodes, wInit, pDropout, activations):\n",
    "        super(myNN, self).__init__()\n",
    "        self.activations = activations[1:]\n",
    "        self.len = len(layerNodes)-1\n",
    "        self.drop = nn.Dropout(pDropout)\n",
    "        self.linears = nn.ModuleList() # could also use nn.Sequential\n",
    "        for I, O in zip(layerNodes, layerNodes[1:]):\n",
    "            # create the layer\n",
    "            lin = nn.Linear(I, O)\n",
    "            # initialize it\n",
    "            nn.init.zeros_(lin.bias)\n",
    "            if wInit == 'uni':\n",
    "                nn.init.uniform_(lin.weight)\n",
    "            elif wInit == 'xav':\n",
    "                nn.init.xavier_uniform_(lin.weight)\n",
    "            elif wInit == 'kai':\n",
    "                nn.init.kaiming_uniform_(lin.weight, nonlinearity='relu')\n",
    "            # and now add it\n",
    "            self.linears.append(lin)\n",
    "\n",
    "    def forward(self,x):\n",
    "        for i, (L, A) in enumerate(zip(self.linears, self.activations)):\n",
    "            # dropout if not the output layer\n",
    "            if i < self.len - 1:\n",
    "                x = self.drop(L(x))\n",
    "            else:\n",
    "                x = L(x)\n",
    "                \n",
    "            # compute the activation\n",
    "            if A == 'relu':\n",
    "                x = nn.functional.relu(x)\n",
    "            elif A == 'sigmoid':\n",
    "                x = torch.sigmoid(x)\n",
    "            elif A == 'leakyrelu':\n",
    "                x = nn.functional.leaky_relu(x)\n",
    "            elif A == 'tanh':\n",
    "                x = nn.functional.tanh(x)\n",
    "\n",
    "        return x\n",
    "    \n",
    "    def __str__(self):\n",
    "        mn = super(myNN, self).__str__()\n",
    "        return '%s\\nActivations: %s'%(mn, self.activations)"
   ]
  },
  {
   "cell_type": "code",
   "execution_count": 3,
   "metadata": {},
   "outputs": [
    {
     "name": "stdout",
     "output_type": "stream",
     "text": [
      "(100, 2)\n",
      "(100, 1)\n"
     ]
    },
    {
     "data": {
      "application/vnd.plotly.v1+json": {
       "config": {
        "linkText": "Export to plot.ly",
        "plotlyServerURL": "https://plot.ly",
        "showLink": false
       },
       "data": [
        {
         "marker": {
          "color": "red",
          "symbol": "circle-open"
         },
         "mode": "markers",
         "name": "train gt",
         "type": "scatter",
         "x": [
          0.8334936702371015,
          0.5574747706642964,
          0.7224726030124945,
          0.6597492547422605,
          0.6841785793772267,
          0.2737134352134396,
          0.9505242414212675,
          0.766338926963951,
          0.6767922345827264,
          0.47678045901591937,
          0.5588669662786234,
          0.5226047435259855,
          0.6620431812724393,
          0.7733449990313263,
          0.22224581716408953,
          0.9312481037863264,
          0.8291507200820026,
          0.9027870909708566,
          0.37888946792756706,
          0.32582541580146873,
          0.7279483194597662,
          0.45433698425586966,
          0.9737518611411031,
          0.8917371744695786,
          0.6696962762428993,
          0.32307278088391356,
          0.4475534277896127,
          0.436246201135983,
          0.9430661677374863,
          0.44363868675080675,
          0.5256076511344139,
          0.7512022680227872,
          0.7792688525016935,
          0.6329058351241309,
          0.5706222302361864
         ],
         "y": [
          0.5349419047108084,
          0.5146146209241975,
          0.6484787607988102,
          0.39194780415185926,
          0.8050368527703533,
          0.9153929571965619,
          0.6088242515234871,
          0.6955295111269058,
          0.6254132074294596,
          0.7382634913723701,
          0.9915015326000602,
          0.6753019202489475,
          0.9191952117127474,
          0.8345220017110738,
          0.9496952112679542,
          0.22924229444026156,
          0.09699448586298942,
          0.8192703645053626,
          0.892103355062816,
          0.8774836456169113,
          0.4592997452230799,
          0.7986066894598015,
          0.46293182350696793,
          0.2616232548913431,
          0.8498232512632324,
          0.8305338387123575,
          0.6505287879683889,
          0.9363146901386181,
          0.3073840025040505,
          0.9105970152064617,
          0.8157670219147458,
          0.9313714690182986,
          0.3687212418868979,
          0.3626477138960964,
          0.96424365219174
         ]
        },
        {
         "marker": {
          "color": "blue",
          "symbol": "square-open"
         },
         "mode": "markers",
         "name": "train lt",
         "type": "scatter",
         "x": [
          0.22000030092681322,
          0.19278593784156317,
          0.2774805662551417,
          0.5052250425078738,
          0.15577742078468892,
          0.4801708108802438,
          0.1130344548827682,
          0.20553062985484793,
          0.33725367591720357,
          0.40591557578474735,
          0.32553319028462435,
          0.40850568784161145,
          0.521326564775815,
          0.6359835172802819,
          0.12530035034112919,
          0.38924848983781724,
          0.5906552962008077,
          0.13192431425207474,
          0.2821714963570431,
          0.7536094257399436,
          0.19976223192019793,
          0.25592223633967404,
          0.28157111745190266,
          0.268244221907312,
          0.5227662135458723,
          0.09768495070108663,
          0.05015063777197082,
          0.22712642834904806,
          0.37288744732632906,
          0.4675217596992556,
          0.040169529838166906,
          0.026223014090914543,
          0.2977503091615933,
          0.03410828991345549,
          0.03462419028477637
         ],
         "y": [
          0.8563590285381811,
          0.14547206603991447,
          0.7704025770291012,
          0.3352637726084252,
          0.5940327217215142,
          0.4533870490287639,
          0.17675452448107176,
          0.6663221400753053,
          0.5896725702127464,
          0.7492226950266782,
          0.36535583605728705,
          0.22585800193785133,
          0.14460162522855902,
          0.2703846523211926,
          0.9943698611843019,
          0.5886090538719152,
          0.2450757603300886,
          0.8265662570729043,
          0.21817360443427114,
          0.07073821756087917,
          0.5029895665785145,
          0.6478866643989409,
          0.07194167180330657,
          0.10604592471837393,
          0.31093416178866573,
          0.9779930271908497,
          0.34469624762475093,
          0.563678916226927,
          0.34558609948710683,
          0.32732715710752136,
          0.9949217609892183,
          0.7132443513739029,
          0.42410006327213345,
          0.9044026281399044,
          0.40627940638604576
         ]
        },
        {
         "marker": {
          "color": "red",
          "symbol": "circle-dot"
         },
         "mode": "markers",
         "name": "test gt",
         "type": "scatter",
         "x": [
          0.8745296530339364,
          0.6678526853434874,
          0.6538800379877407,
          0.9429543014631075,
          0.9639274757564721,
          0.45803356455921773,
          0.6612153982256154,
          0.8387266153238556,
          0.6834113416592633,
          0.8540490137954712,
          0.7489290935912524,
          0.24093585524888528,
          0.6805153333090559,
          0.8875779110750167,
          0.2670863306541751
         ],
         "y": [
          0.6160125578779879,
          0.19498424635718536,
          0.6373699094212194,
          0.19084599903223498,
          0.9279351954427358,
          0.6153370726700812,
          0.2643543930566584,
          0.3721637921916645,
          0.8799601471934245,
          0.3742960845147498,
          0.17045942046068419,
          0.8783434504195272,
          0.5212588505115836,
          0.8313073613617206,
          0.8248676239496718
         ]
        },
        {
         "marker": {
          "color": "blue",
          "symbol": "square-dot"
         },
         "mode": "markers",
         "name": "test lt",
         "type": "scatter",
         "x": [
          0.4021574950529281,
          0.19138431789498345,
          0.3494119007624502,
          0.07781979077166712,
          0.13276278754745463,
          0.2703217751018999,
          0.052457810444296205,
          0.04798376239733371,
          0.4947903320762377,
          0.22901319031618916,
          0.12457888874984857,
          0.03539931734494417,
          0.06123343578559637,
          0.24568967604358605,
          0.8079561203986311
         ],
         "y": [
          0.383455802934048,
          0.7050049348542148,
          0.5587184916944284,
          0.2725334405339699,
          0.15763238886217235,
          0.17897800957909382,
          0.3803357166034277,
          0.34677268992619625,
          0.002571979346945308,
          0.7450405902826022,
          0.8166234574250403,
          0.10382069450907438,
          0.29184118423448624,
          0.12576127244447366,
          0.00935631192203068
         ]
        }
       ],
       "layout": {
        "autosize": true,
        "template": {
         "data": {
          "bar": [
           {
            "error_x": {
             "color": "#2a3f5f"
            },
            "error_y": {
             "color": "#2a3f5f"
            },
            "marker": {
             "line": {
              "color": "#E5ECF6",
              "width": 0.5
             }
            },
            "type": "bar"
           }
          ],
          "barpolar": [
           {
            "marker": {
             "line": {
              "color": "#E5ECF6",
              "width": 0.5
             }
            },
            "type": "barpolar"
           }
          ],
          "carpet": [
           {
            "aaxis": {
             "endlinecolor": "#2a3f5f",
             "gridcolor": "white",
             "linecolor": "white",
             "minorgridcolor": "white",
             "startlinecolor": "#2a3f5f"
            },
            "baxis": {
             "endlinecolor": "#2a3f5f",
             "gridcolor": "white",
             "linecolor": "white",
             "minorgridcolor": "white",
             "startlinecolor": "#2a3f5f"
            },
            "type": "carpet"
           }
          ],
          "choropleth": [
           {
            "colorbar": {
             "outlinewidth": 0,
             "ticks": ""
            },
            "type": "choropleth"
           }
          ],
          "contour": [
           {
            "colorbar": {
             "outlinewidth": 0,
             "ticks": ""
            },
            "colorscale": [
             [
              0,
              "#0d0887"
             ],
             [
              0.1111111111111111,
              "#46039f"
             ],
             [
              0.2222222222222222,
              "#7201a8"
             ],
             [
              0.3333333333333333,
              "#9c179e"
             ],
             [
              0.4444444444444444,
              "#bd3786"
             ],
             [
              0.5555555555555556,
              "#d8576b"
             ],
             [
              0.6666666666666666,
              "#ed7953"
             ],
             [
              0.7777777777777778,
              "#fb9f3a"
             ],
             [
              0.8888888888888888,
              "#fdca26"
             ],
             [
              1,
              "#f0f921"
             ]
            ],
            "type": "contour"
           }
          ],
          "contourcarpet": [
           {
            "colorbar": {
             "outlinewidth": 0,
             "ticks": ""
            },
            "type": "contourcarpet"
           }
          ],
          "heatmap": [
           {
            "colorbar": {
             "outlinewidth": 0,
             "ticks": ""
            },
            "colorscale": [
             [
              0,
              "#0d0887"
             ],
             [
              0.1111111111111111,
              "#46039f"
             ],
             [
              0.2222222222222222,
              "#7201a8"
             ],
             [
              0.3333333333333333,
              "#9c179e"
             ],
             [
              0.4444444444444444,
              "#bd3786"
             ],
             [
              0.5555555555555556,
              "#d8576b"
             ],
             [
              0.6666666666666666,
              "#ed7953"
             ],
             [
              0.7777777777777778,
              "#fb9f3a"
             ],
             [
              0.8888888888888888,
              "#fdca26"
             ],
             [
              1,
              "#f0f921"
             ]
            ],
            "type": "heatmap"
           }
          ],
          "heatmapgl": [
           {
            "colorbar": {
             "outlinewidth": 0,
             "ticks": ""
            },
            "colorscale": [
             [
              0,
              "#0d0887"
             ],
             [
              0.1111111111111111,
              "#46039f"
             ],
             [
              0.2222222222222222,
              "#7201a8"
             ],
             [
              0.3333333333333333,
              "#9c179e"
             ],
             [
              0.4444444444444444,
              "#bd3786"
             ],
             [
              0.5555555555555556,
              "#d8576b"
             ],
             [
              0.6666666666666666,
              "#ed7953"
             ],
             [
              0.7777777777777778,
              "#fb9f3a"
             ],
             [
              0.8888888888888888,
              "#fdca26"
             ],
             [
              1,
              "#f0f921"
             ]
            ],
            "type": "heatmapgl"
           }
          ],
          "histogram": [
           {
            "marker": {
             "colorbar": {
              "outlinewidth": 0,
              "ticks": ""
             }
            },
            "type": "histogram"
           }
          ],
          "histogram2d": [
           {
            "colorbar": {
             "outlinewidth": 0,
             "ticks": ""
            },
            "colorscale": [
             [
              0,
              "#0d0887"
             ],
             [
              0.1111111111111111,
              "#46039f"
             ],
             [
              0.2222222222222222,
              "#7201a8"
             ],
             [
              0.3333333333333333,
              "#9c179e"
             ],
             [
              0.4444444444444444,
              "#bd3786"
             ],
             [
              0.5555555555555556,
              "#d8576b"
             ],
             [
              0.6666666666666666,
              "#ed7953"
             ],
             [
              0.7777777777777778,
              "#fb9f3a"
             ],
             [
              0.8888888888888888,
              "#fdca26"
             ],
             [
              1,
              "#f0f921"
             ]
            ],
            "type": "histogram2d"
           }
          ],
          "histogram2dcontour": [
           {
            "colorbar": {
             "outlinewidth": 0,
             "ticks": ""
            },
            "colorscale": [
             [
              0,
              "#0d0887"
             ],
             [
              0.1111111111111111,
              "#46039f"
             ],
             [
              0.2222222222222222,
              "#7201a8"
             ],
             [
              0.3333333333333333,
              "#9c179e"
             ],
             [
              0.4444444444444444,
              "#bd3786"
             ],
             [
              0.5555555555555556,
              "#d8576b"
             ],
             [
              0.6666666666666666,
              "#ed7953"
             ],
             [
              0.7777777777777778,
              "#fb9f3a"
             ],
             [
              0.8888888888888888,
              "#fdca26"
             ],
             [
              1,
              "#f0f921"
             ]
            ],
            "type": "histogram2dcontour"
           }
          ],
          "mesh3d": [
           {
            "colorbar": {
             "outlinewidth": 0,
             "ticks": ""
            },
            "type": "mesh3d"
           }
          ],
          "parcoords": [
           {
            "line": {
             "colorbar": {
              "outlinewidth": 0,
              "ticks": ""
             }
            },
            "type": "parcoords"
           }
          ],
          "pie": [
           {
            "automargin": true,
            "type": "pie"
           }
          ],
          "scatter": [
           {
            "marker": {
             "colorbar": {
              "outlinewidth": 0,
              "ticks": ""
             }
            },
            "type": "scatter"
           }
          ],
          "scatter3d": [
           {
            "line": {
             "colorbar": {
              "outlinewidth": 0,
              "ticks": ""
             }
            },
            "marker": {
             "colorbar": {
              "outlinewidth": 0,
              "ticks": ""
             }
            },
            "type": "scatter3d"
           }
          ],
          "scattercarpet": [
           {
            "marker": {
             "colorbar": {
              "outlinewidth": 0,
              "ticks": ""
             }
            },
            "type": "scattercarpet"
           }
          ],
          "scattergeo": [
           {
            "marker": {
             "colorbar": {
              "outlinewidth": 0,
              "ticks": ""
             }
            },
            "type": "scattergeo"
           }
          ],
          "scattergl": [
           {
            "marker": {
             "colorbar": {
              "outlinewidth": 0,
              "ticks": ""
             }
            },
            "type": "scattergl"
           }
          ],
          "scattermapbox": [
           {
            "marker": {
             "colorbar": {
              "outlinewidth": 0,
              "ticks": ""
             }
            },
            "type": "scattermapbox"
           }
          ],
          "scatterpolar": [
           {
            "marker": {
             "colorbar": {
              "outlinewidth": 0,
              "ticks": ""
             }
            },
            "type": "scatterpolar"
           }
          ],
          "scatterpolargl": [
           {
            "marker": {
             "colorbar": {
              "outlinewidth": 0,
              "ticks": ""
             }
            },
            "type": "scatterpolargl"
           }
          ],
          "scatterternary": [
           {
            "marker": {
             "colorbar": {
              "outlinewidth": 0,
              "ticks": ""
             }
            },
            "type": "scatterternary"
           }
          ],
          "surface": [
           {
            "colorbar": {
             "outlinewidth": 0,
             "ticks": ""
            },
            "colorscale": [
             [
              0,
              "#0d0887"
             ],
             [
              0.1111111111111111,
              "#46039f"
             ],
             [
              0.2222222222222222,
              "#7201a8"
             ],
             [
              0.3333333333333333,
              "#9c179e"
             ],
             [
              0.4444444444444444,
              "#bd3786"
             ],
             [
              0.5555555555555556,
              "#d8576b"
             ],
             [
              0.6666666666666666,
              "#ed7953"
             ],
             [
              0.7777777777777778,
              "#fb9f3a"
             ],
             [
              0.8888888888888888,
              "#fdca26"
             ],
             [
              1,
              "#f0f921"
             ]
            ],
            "type": "surface"
           }
          ],
          "table": [
           {
            "cells": {
             "fill": {
              "color": "#EBF0F8"
             },
             "line": {
              "color": "white"
             }
            },
            "header": {
             "fill": {
              "color": "#C8D4E3"
             },
             "line": {
              "color": "white"
             }
            },
            "type": "table"
           }
          ]
         },
         "layout": {
          "annotationdefaults": {
           "arrowcolor": "#2a3f5f",
           "arrowhead": 0,
           "arrowwidth": 1
          },
          "coloraxis": {
           "colorbar": {
            "outlinewidth": 0,
            "ticks": ""
           }
          },
          "colorscale": {
           "diverging": [
            [
             0,
             "#8e0152"
            ],
            [
             0.1,
             "#c51b7d"
            ],
            [
             0.2,
             "#de77ae"
            ],
            [
             0.3,
             "#f1b6da"
            ],
            [
             0.4,
             "#fde0ef"
            ],
            [
             0.5,
             "#f7f7f7"
            ],
            [
             0.6,
             "#e6f5d0"
            ],
            [
             0.7,
             "#b8e186"
            ],
            [
             0.8,
             "#7fbc41"
            ],
            [
             0.9,
             "#4d9221"
            ],
            [
             1,
             "#276419"
            ]
           ],
           "sequential": [
            [
             0,
             "#0d0887"
            ],
            [
             0.1111111111111111,
             "#46039f"
            ],
            [
             0.2222222222222222,
             "#7201a8"
            ],
            [
             0.3333333333333333,
             "#9c179e"
            ],
            [
             0.4444444444444444,
             "#bd3786"
            ],
            [
             0.5555555555555556,
             "#d8576b"
            ],
            [
             0.6666666666666666,
             "#ed7953"
            ],
            [
             0.7777777777777778,
             "#fb9f3a"
            ],
            [
             0.8888888888888888,
             "#fdca26"
            ],
            [
             1,
             "#f0f921"
            ]
           ],
           "sequentialminus": [
            [
             0,
             "#0d0887"
            ],
            [
             0.1111111111111111,
             "#46039f"
            ],
            [
             0.2222222222222222,
             "#7201a8"
            ],
            [
             0.3333333333333333,
             "#9c179e"
            ],
            [
             0.4444444444444444,
             "#bd3786"
            ],
            [
             0.5555555555555556,
             "#d8576b"
            ],
            [
             0.6666666666666666,
             "#ed7953"
            ],
            [
             0.7777777777777778,
             "#fb9f3a"
            ],
            [
             0.8888888888888888,
             "#fdca26"
            ],
            [
             1,
             "#f0f921"
            ]
           ]
          },
          "colorway": [
           "#636efa",
           "#EF553B",
           "#00cc96",
           "#ab63fa",
           "#FFA15A",
           "#19d3f3",
           "#FF6692",
           "#B6E880",
           "#FF97FF",
           "#FECB52"
          ],
          "font": {
           "color": "#2a3f5f"
          },
          "geo": {
           "bgcolor": "white",
           "lakecolor": "white",
           "landcolor": "#E5ECF6",
           "showlakes": true,
           "showland": true,
           "subunitcolor": "white"
          },
          "hoverlabel": {
           "align": "left"
          },
          "hovermode": "closest",
          "mapbox": {
           "style": "light"
          },
          "paper_bgcolor": "white",
          "plot_bgcolor": "#E5ECF6",
          "polar": {
           "angularaxis": {
            "gridcolor": "white",
            "linecolor": "white",
            "ticks": ""
           },
           "bgcolor": "#E5ECF6",
           "radialaxis": {
            "gridcolor": "white",
            "linecolor": "white",
            "ticks": ""
           }
          },
          "scene": {
           "xaxis": {
            "backgroundcolor": "#E5ECF6",
            "gridcolor": "white",
            "gridwidth": 2,
            "linecolor": "white",
            "showbackground": true,
            "ticks": "",
            "zerolinecolor": "white"
           },
           "yaxis": {
            "backgroundcolor": "#E5ECF6",
            "gridcolor": "white",
            "gridwidth": 2,
            "linecolor": "white",
            "showbackground": true,
            "ticks": "",
            "zerolinecolor": "white"
           },
           "zaxis": {
            "backgroundcolor": "#E5ECF6",
            "gridcolor": "white",
            "gridwidth": 2,
            "linecolor": "white",
            "showbackground": true,
            "ticks": "",
            "zerolinecolor": "white"
           }
          },
          "shapedefaults": {
           "line": {
            "color": "#2a3f5f"
           }
          },
          "ternary": {
           "aaxis": {
            "gridcolor": "white",
            "linecolor": "white",
            "ticks": ""
           },
           "baxis": {
            "gridcolor": "white",
            "linecolor": "white",
            "ticks": ""
           },
           "bgcolor": "#E5ECF6",
           "caxis": {
            "gridcolor": "white",
            "linecolor": "white",
            "ticks": ""
           }
          },
          "title": {
           "x": 0.05
          },
          "xaxis": {
           "automargin": true,
           "gridcolor": "white",
           "linecolor": "white",
           "ticks": "",
           "title": {
            "standoff": 15
           },
           "zerolinecolor": "white",
           "zerolinewidth": 2
          },
          "yaxis": {
           "automargin": true,
           "gridcolor": "white",
           "linecolor": "white",
           "ticks": "",
           "title": {
            "standoff": 15
           },
           "zerolinecolor": "white",
           "zerolinewidth": 2
          }
         }
        },
        "title": {
         "text": "Data"
        },
        "xaxis": {
         "autorange": true,
         "range": [
          -0.03312840187678808,
          1.0331032771088058
         ],
         "type": "linear"
        },
        "yaxis": {
         "autorange": true,
         "range": [
          -0.07011606198353965,
          1.0676098023197031
         ],
         "type": "linear"
        }
       }
      },
      "image/png": "[encoded data removed]",
      "text/html": [
       "<div>\n",
       "        \n",
       "        \n",
       "            <div id=\"e155c9ea-13ea-4b2c-805e-29c420653c5f\" class=\"plotly-graph-div\" style=\"height:525px; width:100%;\"></div>\n",
       "            <script type=\"text/javascript\">\n",
       "                require([\"plotly\"], function(Plotly) {\n",
       "                    window.PLOTLYENV=window.PLOTLYENV || {};\n",
       "                    \n",
       "                if (document.getElementById(\"e155c9ea-13ea-4b2c-805e-29c420653c5f\")) {\n",
       "                    Plotly.newPlot(\n",
       "                        'e155c9ea-13ea-4b2c-805e-29c420653c5f',\n",
       "                        [{\"marker\": {\"color\": \"red\", \"symbol\": \"circle-open\"}, \"mode\": \"markers\", \"name\": \"train gt\", \"type\": \"scatter\", \"x\": [0.8334936702371015, 0.5574747706642964, 0.7224726030124945, 0.6597492547422605, 0.6841785793772267, 0.2737134352134396, 0.9505242414212675, 0.766338926963951, 0.6767922345827264, 0.47678045901591937, 0.5588669662786234, 0.5226047435259855, 0.6620431812724393, 0.7733449990313263, 0.22224581716408953, 0.9312481037863264, 0.8291507200820026, 0.9027870909708566, 0.37888946792756706, 0.32582541580146873, 0.7279483194597662, 0.45433698425586966, 0.9737518611411031, 0.8917371744695786, 0.6696962762428993, 0.32307278088391356, 0.4475534277896127, 0.436246201135983, 0.9430661677374863, 0.44363868675080675, 0.5256076511344139, 0.7512022680227872, 0.7792688525016935, 0.6329058351241309, 0.5706222302361864], \"y\": [0.5349419047108084, 0.5146146209241975, 0.6484787607988102, 0.39194780415185926, 0.8050368527703533, 0.9153929571965619, 0.6088242515234871, 0.6955295111269058, 0.6254132074294596, 0.7382634913723701, 0.9915015326000602, 0.6753019202489475, 0.9191952117127474, 0.8345220017110738, 0.9496952112679542, 0.22924229444026156, 0.09699448586298942, 0.8192703645053626, 0.892103355062816, 0.8774836456169113, 0.4592997452230799, 0.7986066894598015, 0.46293182350696793, 0.2616232548913431, 0.8498232512632324, 0.8305338387123575, 0.6505287879683889, 0.9363146901386181, 0.3073840025040505, 0.9105970152064617, 0.8157670219147458, 0.9313714690182986, 0.3687212418868979, 0.3626477138960964, 0.96424365219174]}, {\"marker\": {\"color\": \"blue\", \"symbol\": \"square-open\"}, \"mode\": \"markers\", \"name\": \"train lt\", \"type\": \"scatter\", \"x\": [0.22000030092681322, 0.19278593784156317, 0.2774805662551417, 0.5052250425078738, 0.15577742078468892, 0.4801708108802438, 0.1130344548827682, 0.20553062985484793, 0.33725367591720357, 0.40591557578474735, 0.32553319028462435, 0.40850568784161145, 0.521326564775815, 0.6359835172802819, 0.12530035034112919, 0.38924848983781724, 0.5906552962008077, 0.13192431425207474, 0.2821714963570431, 0.7536094257399436, 0.19976223192019793, 0.25592223633967404, 0.28157111745190266, 0.268244221907312, 0.5227662135458723, 0.09768495070108663, 0.05015063777197082, 0.22712642834904806, 0.37288744732632906, 0.4675217596992556, 0.040169529838166906, 0.026223014090914543, 0.2977503091615933, 0.03410828991345549, 0.03462419028477637], \"y\": [0.8563590285381811, 0.14547206603991447, 0.7704025770291012, 0.3352637726084252, 0.5940327217215142, 0.4533870490287639, 0.17675452448107176, 0.6663221400753053, 0.5896725702127464, 0.7492226950266782, 0.36535583605728705, 0.22585800193785133, 0.14460162522855902, 0.2703846523211926, 0.9943698611843019, 0.5886090538719152, 0.2450757603300886, 0.8265662570729043, 0.21817360443427114, 0.07073821756087917, 0.5029895665785145, 0.6478866643989409, 0.07194167180330657, 0.10604592471837393, 0.31093416178866573, 0.9779930271908497, 0.34469624762475093, 0.563678916226927, 0.34558609948710683, 0.32732715710752136, 0.9949217609892183, 0.7132443513739029, 0.42410006327213345, 0.9044026281399044, 0.40627940638604576]}, {\"marker\": {\"color\": \"red\", \"symbol\": \"circle-dot\"}, \"mode\": \"markers\", \"name\": \"test gt\", \"type\": \"scatter\", \"x\": [0.8745296530339364, 0.6678526853434874, 0.6538800379877407, 0.9429543014631075, 0.9639274757564721, 0.45803356455921773, 0.6612153982256154, 0.8387266153238556, 0.6834113416592633, 0.8540490137954712, 0.7489290935912524, 0.24093585524888528, 0.6805153333090559, 0.8875779110750167, 0.2670863306541751], \"y\": [0.6160125578779879, 0.19498424635718536, 0.6373699094212194, 0.19084599903223498, 0.9279351954427358, 0.6153370726700812, 0.2643543930566584, 0.3721637921916645, 0.8799601471934245, 0.3742960845147498, 0.17045942046068419, 0.8783434504195272, 0.5212588505115836, 0.8313073613617206, 0.8248676239496718]}, {\"marker\": {\"color\": \"blue\", \"symbol\": \"square-dot\"}, \"mode\": \"markers\", \"name\": \"test lt\", \"type\": \"scatter\", \"x\": [0.4021574950529281, 0.19138431789498345, 0.3494119007624502, 0.07781979077166712, 0.13276278754745463, 0.2703217751018999, 0.052457810444296205, 0.04798376239733371, 0.4947903320762377, 0.22901319031618916, 0.12457888874984857, 0.03539931734494417, 0.06123343578559637, 0.24568967604358605, 0.8079561203986311], \"y\": [0.383455802934048, 0.7050049348542148, 0.5587184916944284, 0.2725334405339699, 0.15763238886217235, 0.17897800957909382, 0.3803357166034277, 0.34677268992619625, 0.002571979346945308, 0.7450405902826022, 0.8166234574250403, 0.10382069450907438, 0.29184118423448624, 0.12576127244447366, 0.00935631192203068]}],\n",
       "                        {\"template\": {\"data\": {\"bar\": [{\"error_x\": {\"color\": \"#2a3f5f\"}, \"error_y\": {\"color\": \"#2a3f5f\"}, \"marker\": {\"line\": {\"color\": \"#E5ECF6\", \"width\": 0.5}}, \"type\": \"bar\"}], \"barpolar\": [{\"marker\": {\"line\": {\"color\": \"#E5ECF6\", \"width\": 0.5}}, \"type\": \"barpolar\"}], \"carpet\": [{\"aaxis\": {\"endlinecolor\": \"#2a3f5f\", \"gridcolor\": \"white\", \"linecolor\": \"white\", \"minorgridcolor\": \"white\", \"startlinecolor\": \"#2a3f5f\"}, \"baxis\": {\"endlinecolor\": \"#2a3f5f\", \"gridcolor\": \"white\", \"linecolor\": \"white\", \"minorgridcolor\": \"white\", \"startlinecolor\": \"#2a3f5f\"}, \"type\": \"carpet\"}], \"choropleth\": [{\"colorbar\": {\"outlinewidth\": 0, \"ticks\": \"\"}, \"type\": \"choropleth\"}], \"contour\": [{\"colorbar\": {\"outlinewidth\": 0, \"ticks\": \"\"}, \"colorscale\": [[0.0, \"#0d0887\"], [0.1111111111111111, \"#46039f\"], [0.2222222222222222, \"#7201a8\"], [0.3333333333333333, \"#9c179e\"], [0.4444444444444444, \"#bd3786\"], [0.5555555555555556, \"#d8576b\"], [0.6666666666666666, \"#ed7953\"], [0.7777777777777778, \"#fb9f3a\"], [0.8888888888888888, \"#fdca26\"], [1.0, \"#f0f921\"]], \"type\": \"contour\"}], \"contourcarpet\": [{\"colorbar\": {\"outlinewidth\": 0, \"ticks\": \"\"}, \"type\": \"contourcarpet\"}], \"heatmap\": [{\"colorbar\": {\"outlinewidth\": 0, \"ticks\": \"\"}, \"colorscale\": [[0.0, \"#0d0887\"], [0.1111111111111111, \"#46039f\"], [0.2222222222222222, \"#7201a8\"], [0.3333333333333333, \"#9c179e\"], [0.4444444444444444, \"#bd3786\"], [0.5555555555555556, \"#d8576b\"], [0.6666666666666666, \"#ed7953\"], [0.7777777777777778, \"#fb9f3a\"], [0.8888888888888888, \"#fdca26\"], [1.0, \"#f0f921\"]], \"type\": \"heatmap\"}], \"heatmapgl\": [{\"colorbar\": {\"outlinewidth\": 0, \"ticks\": \"\"}, \"colorscale\": [[0.0, \"#0d0887\"], [0.1111111111111111, \"#46039f\"], [0.2222222222222222, \"#7201a8\"], [0.3333333333333333, \"#9c179e\"], [0.4444444444444444, \"#bd3786\"], [0.5555555555555556, \"#d8576b\"], [0.6666666666666666, \"#ed7953\"], [0.7777777777777778, \"#fb9f3a\"], [0.8888888888888888, \"#fdca26\"], [1.0, \"#f0f921\"]], \"type\": \"heatmapgl\"}], \"histogram\": [{\"marker\": {\"colorbar\": {\"outlinewidth\": 0, \"ticks\": \"\"}}, \"type\": \"histogram\"}], \"histogram2d\": [{\"colorbar\": {\"outlinewidth\": 0, \"ticks\": \"\"}, \"colorscale\": [[0.0, \"#0d0887\"], [0.1111111111111111, \"#46039f\"], [0.2222222222222222, \"#7201a8\"], [0.3333333333333333, \"#9c179e\"], [0.4444444444444444, \"#bd3786\"], [0.5555555555555556, \"#d8576b\"], [0.6666666666666666, \"#ed7953\"], [0.7777777777777778, \"#fb9f3a\"], [0.8888888888888888, \"#fdca26\"], [1.0, \"#f0f921\"]], \"type\": \"histogram2d\"}], \"histogram2dcontour\": [{\"colorbar\": {\"outlinewidth\": 0, \"ticks\": \"\"}, \"colorscale\": [[0.0, \"#0d0887\"], [0.1111111111111111, \"#46039f\"], [0.2222222222222222, \"#7201a8\"], [0.3333333333333333, \"#9c179e\"], [0.4444444444444444, \"#bd3786\"], [0.5555555555555556, \"#d8576b\"], [0.6666666666666666, \"#ed7953\"], [0.7777777777777778, \"#fb9f3a\"], [0.8888888888888888, \"#fdca26\"], [1.0, \"#f0f921\"]], \"type\": \"histogram2dcontour\"}], \"mesh3d\": [{\"colorbar\": {\"outlinewidth\": 0, \"ticks\": \"\"}, \"type\": \"mesh3d\"}], \"parcoords\": [{\"line\": {\"colorbar\": {\"outlinewidth\": 0, \"ticks\": \"\"}}, \"type\": \"parcoords\"}], \"pie\": [{\"automargin\": true, \"type\": \"pie\"}], \"scatter\": [{\"marker\": {\"colorbar\": {\"outlinewidth\": 0, \"ticks\": \"\"}}, \"type\": \"scatter\"}], \"scatter3d\": [{\"line\": {\"colorbar\": {\"outlinewidth\": 0, \"ticks\": \"\"}}, \"marker\": {\"colorbar\": {\"outlinewidth\": 0, \"ticks\": \"\"}}, \"type\": \"scatter3d\"}], \"scattercarpet\": [{\"marker\": {\"colorbar\": {\"outlinewidth\": 0, \"ticks\": \"\"}}, \"type\": \"scattercarpet\"}], \"scattergeo\": [{\"marker\": {\"colorbar\": {\"outlinewidth\": 0, \"ticks\": \"\"}}, \"type\": \"scattergeo\"}], \"scattergl\": [{\"marker\": {\"colorbar\": {\"outlinewidth\": 0, \"ticks\": \"\"}}, \"type\": \"scattergl\"}], \"scattermapbox\": [{\"marker\": {\"colorbar\": {\"outlinewidth\": 0, \"ticks\": \"\"}}, \"type\": \"scattermapbox\"}], \"scatterpolar\": [{\"marker\": {\"colorbar\": {\"outlinewidth\": 0, \"ticks\": \"\"}}, \"type\": \"scatterpolar\"}], \"scatterpolargl\": [{\"marker\": {\"colorbar\": {\"outlinewidth\": 0, \"ticks\": \"\"}}, \"type\": \"scatterpolargl\"}], \"scatterternary\": [{\"marker\": {\"colorbar\": {\"outlinewidth\": 0, \"ticks\": \"\"}}, \"type\": \"scatterternary\"}], \"surface\": [{\"colorbar\": {\"outlinewidth\": 0, \"ticks\": \"\"}, \"colorscale\": [[0.0, \"#0d0887\"], [0.1111111111111111, \"#46039f\"], [0.2222222222222222, \"#7201a8\"], [0.3333333333333333, \"#9c179e\"], [0.4444444444444444, \"#bd3786\"], [0.5555555555555556, \"#d8576b\"], [0.6666666666666666, \"#ed7953\"], [0.7777777777777778, \"#fb9f3a\"], [0.8888888888888888, \"#fdca26\"], [1.0, \"#f0f921\"]], \"type\": \"surface\"}], \"table\": [{\"cells\": {\"fill\": {\"color\": \"#EBF0F8\"}, \"line\": {\"color\": \"white\"}}, \"header\": {\"fill\": {\"color\": \"#C8D4E3\"}, \"line\": {\"color\": \"white\"}}, \"type\": \"table\"}]}, \"layout\": {\"annotationdefaults\": {\"arrowcolor\": \"#2a3f5f\", \"arrowhead\": 0, \"arrowwidth\": 1}, \"coloraxis\": {\"colorbar\": {\"outlinewidth\": 0, \"ticks\": \"\"}}, \"colorscale\": {\"diverging\": [[0, \"#8e0152\"], [0.1, \"#c51b7d\"], [0.2, \"#de77ae\"], [0.3, \"#f1b6da\"], [0.4, \"#fde0ef\"], [0.5, \"#f7f7f7\"], [0.6, \"#e6f5d0\"], [0.7, \"#b8e186\"], [0.8, \"#7fbc41\"], [0.9, \"#4d9221\"], [1, \"#276419\"]], \"sequential\": [[0.0, \"#0d0887\"], [0.1111111111111111, \"#46039f\"], [0.2222222222222222, \"#7201a8\"], [0.3333333333333333, \"#9c179e\"], [0.4444444444444444, \"#bd3786\"], [0.5555555555555556, \"#d8576b\"], [0.6666666666666666, \"#ed7953\"], [0.7777777777777778, \"#fb9f3a\"], [0.8888888888888888, \"#fdca26\"], [1.0, \"#f0f921\"]], \"sequentialminus\": [[0.0, \"#0d0887\"], [0.1111111111111111, \"#46039f\"], [0.2222222222222222, \"#7201a8\"], [0.3333333333333333, \"#9c179e\"], [0.4444444444444444, \"#bd3786\"], [0.5555555555555556, \"#d8576b\"], [0.6666666666666666, \"#ed7953\"], [0.7777777777777778, \"#fb9f3a\"], [0.8888888888888888, \"#fdca26\"], [1.0, \"#f0f921\"]]}, \"colorway\": [\"#636efa\", \"#EF553B\", \"#00cc96\", \"#ab63fa\", \"#FFA15A\", \"#19d3f3\", \"#FF6692\", \"#B6E880\", \"#FF97FF\", \"#FECB52\"], \"font\": {\"color\": \"#2a3f5f\"}, \"geo\": {\"bgcolor\": \"white\", \"lakecolor\": \"white\", \"landcolor\": \"#E5ECF6\", \"showlakes\": true, \"showland\": true, \"subunitcolor\": \"white\"}, \"hoverlabel\": {\"align\": \"left\"}, \"hovermode\": \"closest\", \"mapbox\": {\"style\": \"light\"}, \"paper_bgcolor\": \"white\", \"plot_bgcolor\": \"#E5ECF6\", \"polar\": {\"angularaxis\": {\"gridcolor\": \"white\", \"linecolor\": \"white\", \"ticks\": \"\"}, \"bgcolor\": \"#E5ECF6\", \"radialaxis\": {\"gridcolor\": \"white\", \"linecolor\": \"white\", \"ticks\": \"\"}}, \"scene\": {\"xaxis\": {\"backgroundcolor\": \"#E5ECF6\", \"gridcolor\": \"white\", \"gridwidth\": 2, \"linecolor\": \"white\", \"showbackground\": true, \"ticks\": \"\", \"zerolinecolor\": \"white\"}, \"yaxis\": {\"backgroundcolor\": \"#E5ECF6\", \"gridcolor\": \"white\", \"gridwidth\": 2, \"linecolor\": \"white\", \"showbackground\": true, \"ticks\": \"\", \"zerolinecolor\": \"white\"}, \"zaxis\": {\"backgroundcolor\": \"#E5ECF6\", \"gridcolor\": \"white\", \"gridwidth\": 2, \"linecolor\": \"white\", \"showbackground\": true, \"ticks\": \"\", \"zerolinecolor\": \"white\"}}, \"shapedefaults\": {\"line\": {\"color\": \"#2a3f5f\"}}, \"ternary\": {\"aaxis\": {\"gridcolor\": \"white\", \"linecolor\": \"white\", \"ticks\": \"\"}, \"baxis\": {\"gridcolor\": \"white\", \"linecolor\": \"white\", \"ticks\": \"\"}, \"bgcolor\": \"#E5ECF6\", \"caxis\": {\"gridcolor\": \"white\", \"linecolor\": \"white\", \"ticks\": \"\"}}, \"title\": {\"x\": 0.05}, \"xaxis\": {\"automargin\": true, \"gridcolor\": \"white\", \"linecolor\": \"white\", \"ticks\": \"\", \"title\": {\"standoff\": 15}, \"zerolinecolor\": \"white\", \"zerolinewidth\": 2}, \"yaxis\": {\"automargin\": true, \"gridcolor\": \"white\", \"linecolor\": \"white\", \"ticks\": \"\", \"title\": {\"standoff\": 15}, \"zerolinecolor\": \"white\", \"zerolinewidth\": 2}}}, \"title\": {\"text\": \"Data\"}},\n",
       "                        {\"responsive\": true}\n",
       "                    ).then(function(){\n",
       "                            \n",
       "var gd = document.getElementById('e155c9ea-13ea-4b2c-805e-29c420653c5f');\n",
       "var x = new MutationObserver(function (mutations, observer) {{\n",
       "        var display = window.getComputedStyle(gd).display;\n",
       "        if (!display || display === 'none') {{\n",
       "            console.log([gd, 'removed!']);\n",
       "            Plotly.purge(gd);\n",
       "            observer.disconnect();\n",
       "        }}\n",
       "}});\n",
       "\n",
       "// Listen for the removal of the full notebook cells\n",
       "var notebookContainer = gd.closest('#notebook-container');\n",
       "if (notebookContainer) {{\n",
       "    x.observe(notebookContainer, {childList: true});\n",
       "}}\n",
       "\n",
       "// Listen for the clearing of the current output cell\n",
       "var outputEl = gd.closest('.output');\n",
       "if (outputEl) {{\n",
       "    x.observe(outputEl, {childList: true});\n",
       "}}\n",
       "\n",
       "                        })\n",
       "                };\n",
       "                });\n",
       "            </script>\n",
       "        </div>"
      ]
     },
     "metadata": {},
     "output_type": "display_data"
    }
   ],
   "source": [
    "# create simulated data\n",
    "np.random.seed = 42\n",
    "n = 100\n",
    "p = 2\n",
    "trainPerc = 0.7\n",
    "\n",
    "x = np.random.rand(n, p)\n",
    "print(x.shape)\n",
    "y = x[:,0]*5 + x[:,1]*3 + np.random.rand(n)\n",
    "y = np.atleast_2d(y > np.median(y)).T\n",
    "print(y.shape)\n",
    "\n",
    "# partition randomly into the training & testing sets\n",
    "ss = ShuffleSplit(n_splits=1, train_size=trainPerc)\n",
    "(trn, tst) = next(ss.split(x))\n",
    "trnX = x[trn,:]; trnY = y[trn,:]\n",
    "tstX = x[tst,:]; tstY = y[tst,:]\n",
    "\n",
    "# plot the data - training\n",
    "trnYFlat = np.squeeze(trnY); tstYFlat = np.squeeze(tstY); # squeee y for indexing into x\n",
    "trc = [go.Scatter({'x':trnX[trnYFlat,0], 'y':trnX[trnYFlat,1], 'name':'train gt', 'mode':'markers',\n",
    "                   'marker':{'color':'red', 'symbol':'circle-open'}}), \n",
    "        go.Scatter({'x':trnX[~trnYFlat,0], 'y':trnX[~trnYFlat,1], 'name':'train lt', 'mode':'markers',\n",
    "                   'marker':{'color':'blue', 'symbol':'square-open'}}),\n",
    "        go.Scatter({'x':tstX[tstYFlat,0], 'y':tstX[tstYFlat,1], 'name':'test gt', 'mode':'markers',\n",
    "                   'marker':{'color':'red', 'symbol':'circle-dot'}}), \n",
    "        go.Scatter({'x':tstX[~tstYFlat,0], 'y':tstX[~tstYFlat,1], 'name':'test lt', 'mode':'markers',\n",
    "                   'marker':{'color':'blue', 'symbol':'square-dot'}})]\n",
    "plyoff.iplot(go.Figure(data=trc, layout=go.Layout(title = 'Data')))"
   ]
  },
  {
   "cell_type": "code",
   "execution_count": 4,
   "metadata": {},
   "outputs": [],
   "source": [
    "# now make the datasets & dataloaders\n",
    "batchSize = 5\n",
    "\n",
    "# Create the data class\n",
    "class Data(Dataset):\n",
    "    def __init__(self, x, y):\n",
    "        self.x = torch.FloatTensor(x)\n",
    "        self.y = torch.Tensor(y.astype(int))\n",
    "        self.len, self.p = self.x.shape\n",
    "    def __getitem__(self, index):      \n",
    "        return self.x[index], self.y[index]\n",
    "    def __len__(self):\n",
    "        return self.len\n",
    "\n",
    "trainData = Data(trnX, trnY)\n",
    "trainLoad = DataLoader(dataset=trainData, batch_size=batchSize)\n",
    "testData = Data(tstX, tstY)\n",
    "testLoad = DataLoader(dataset=testData, batch_size=len(testData))"
   ]
  },
  {
   "cell_type": "code",
   "execution_count": 5,
   "metadata": {},
   "outputs": [
    {
     "name": "stdout",
     "output_type": "stream",
     "text": [
      "myNN(\n",
      "  (drop): Dropout(p=0.2)\n",
      "  (linears): ModuleList(\n",
      "    (0): Linear(in_features=2, out_features=10, bias=True)\n",
      "    (1): Linear(in_features=10, out_features=20, bias=True)\n",
      "    (2): Linear(in_features=20, out_features=10, bias=True)\n",
      "    (3): Linear(in_features=10, out_features=1, bias=True)\n",
      "  )\n",
      ")\n",
      "Activations: ('relu', 'relu', 'relu', 'sigmoid')\n"
     ]
    }
   ],
   "source": [
    "# define the modeling objects\n",
    "layers = (p, 10, 20, 10, 1) # input layer size, hidden layer sizes, output layer size\n",
    "activations = (None, 'relu', 'relu', 'relu', 'sigmoid')\n",
    "learningRate = 0.1\n",
    "pDropout = 0.2\n",
    "weightInit = 'kai'\n",
    "\n",
    "\n",
    "model = myNN(layers, weightInit, pDropout, activations)\n",
    "print(model)\n",
    "optimizer = torch.optim.SGD(model.parameters(), lr = learningRate)\n",
    "loss = nn.BCELoss()"
   ]
  },
  {
   "cell_type": "code",
   "execution_count": 6,
   "metadata": {},
   "outputs": [
    {
     "name": "stdout",
     "output_type": "stream",
     "text": [
      "Epoch 0 Training (Testing) Loss = 0.61 (0.59), & Accuracy = 0.54 (0.70)\n",
      "Epoch 100 Training (Testing) Loss = 0.11 (0.16), & Accuracy = 0.96 (0.90)\n",
      "Epoch 200 Training (Testing) Loss = 0.13 (0.11), & Accuracy = 0.94 (0.93)\n",
      "Epoch 300 Training (Testing) Loss = 0.09 (0.16), & Accuracy = 0.96 (0.90)\n",
      "Epoch 400 Training (Testing) Loss = 0.06 (0.37), & Accuracy = 0.99 (0.90)\n",
      "==========\n",
      "Training Initial Loss (Accuracy) = 0.61 (0.54), Final Loss (Accuracy) = 0.06 (0.99)\n",
      "Testing Initial Loss (Accuracy) = 0.59 (0.70), Final Loss (Accuracy) = 0.30 (0.93)\n"
     ]
    }
   ],
   "source": [
    "# train!\n",
    "epochs = 500\n",
    "talkFreq = 0.2\n",
    "\n",
    "trnLoss = [np.inf]*epochs\n",
    "trnAcc = [0]*epochs\n",
    "tstLoss = [np.inf]*epochs\n",
    "tstAcc = [0]*epochs\n",
    "for i in range(epochs):\n",
    "    # train with minibatch gradient descent\n",
    "    model.train(True)\n",
    "    for x, y in trainLoad:\n",
    "        # forward step\n",
    "        yhat = model(x)\n",
    "        # compute loss (not storing for now, will do after minibatching)\n",
    "        l = loss(yhat, y)\n",
    "        # backward step\n",
    "        optimizer.zero_grad()\n",
    "        l.backward()\n",
    "        optimizer.step()\n",
    "    with torch.no_grad():\n",
    "        model.train(False) # model.eval()\n",
    "        # evaluate loss & accuracy on training set\n",
    "        yhat = model(trainData.x)\n",
    "        trnLoss[i] = loss(yhat, trainData.y)\n",
    "        trnAcc[i] = np.sum((yhat.detach().numpy()>0.5) == trainData.y.numpy())/len(trainData)\n",
    "        # evaluate loss & accuracy on testing set\n",
    "        yhat = model(testData.x)\n",
    "        tstLoss[i] = loss(yhat, testData.y)\n",
    "        tstAcc[i] = np.sum((yhat.detach().numpy()>0.5) == testData.y.numpy())/len(testData)\n",
    "        # maybe talk\n",
    "        if i % (epochs*talkFreq) == 0:\n",
    "            print('Epoch %d Training (Testing) Loss = %0.2f (%0.2f), & Accuracy = %0.2f (%0.2f)'%\n",
    "                  (i, trnLoss[i], tstLoss[i], trnAcc[i], tstAcc[i]))\n",
    "    \n",
    "print('==========\\nTraining Initial Loss (Accuracy) = %0.2f (%0.2f), Final Loss (Accuracy) = %0.2f (%0.2f)'%\\\n",
    "      (trnLoss[0], trnAcc[0], trnLoss[-1], trnAcc[-1]))\n",
    "print('Testing Initial Loss (Accuracy) = %0.2f (%0.2f), Final Loss (Accuracy) = %0.2f (%0.2f)'%\\\n",
    "      (tstLoss[0], tstAcc[0], tstLoss[-1], tstAcc[-1]))"
   ]
  },
  {
   "cell_type": "code",
   "execution_count": 7,
   "metadata": {},
   "outputs": [
    {
     "data": {
      "application/vnd.plotly.v1+json": {
       "config": {
        "linkText": "Export to plot.ly",
        "plotlyServerURL": "https://plot.ly",
        "showLink": false
       },
       "data": [
        {
         "line": {
          "color": "red",
          "dash": "dash"
         },
         "mode": "lines",
         "name": "Train Loss",
         "type": "scatter",
         "x": [
          0,
          1,
          2,
          3,
          4,
          5,
          6,
          7,
          8,
          9,
          10,
          11,
          12,
          13,
          14,
          15,
          16,
          17,
          18,
          19,
          20,
          21,
          22,
          23,
          24,
          25,
          26,
          27,
          28,
          29,
          30,
          31,
          32,
          33,
          34,
          35,
          36,
          37,
          38,
          39,
          40,
          41,
          42,
          43,
          44,
          45,
          46,
          47,
          48,
          49,
          50,
          51,
          52,
          53,
          54,
          55,
          56,
          57,
          58,
          59,
          60,
          61,
          62,
          63,
          64,
          65,
          66,
          67,
          68,
          69,
          70,
          71,
          72,
          73,
          74,
          75,
          76,
          77,
          78,
          79,
          80,
          81,
          82,
          83,
          84,
          85,
          86,
          87,
          88,
          89,
          90,
          91,
          92,
          93,
          94,
          95,
          96,
          97,
          98,
          99,
          100,
          101,
          102,
          103,
          104,
          105,
          106,
          107,
          108,
          109,
          110,
          111,
          112,
          113,
          114,
          115,
          116,
          117,
          118,
          119,
          120,
          121,
          122,
          123,
          124,
          125,
          126,
          127,
          128,
          129,
          130,
          131,
          132,
          133,
          134,
          135,
          136,
          137,
          138,
          139,
          140,
          141,
          142,
          143,
          144,
          145,
          146,
          147,
          148,
          149,
          150,
          151,
          152,
          153,
          154,
          155,
          156,
          157,
          158,
          159,
          160,
          161,
          162,
          163,
          164,
          165,
          166,
          167,
          168,
          169,
          170,
          171,
          172,
          173,
          174,
          175,
          176,
          177,
          178,
          179,
          180,
          181,
          182,
          183,
          184,
          185,
          186,
          187,
          188,
          189,
          190,
          191,
          192,
          193,
          194,
          195,
          196,
          197,
          198,
          199,
          200,
          201,
          202,
          203,
          204,
          205,
          206,
          207,
          208,
          209,
          210,
          211,
          212,
          213,
          214,
          215,
          216,
          217,
          218,
          219,
          220,
          221,
          222,
          223,
          224,
          225,
          226,
          227,
          228,
          229,
          230,
          231,
          232,
          233,
          234,
          235,
          236,
          237,
          238,
          239,
          240,
          241,
          242,
          243,
          244,
          245,
          246,
          247,
          248,
          249,
          250,
          251,
          252,
          253,
          254,
          255,
          256,
          257,
          258,
          259,
          260,
          261,
          262,
          263,
          264,
          265,
          266,
          267,
          268,
          269,
          270,
          271,
          272,
          273,
          274,
          275,
          276,
          277,
          278,
          279,
          280,
          281,
          282,
          283,
          284,
          285,
          286,
          287,
          288,
          289,
          290,
          291,
          292,
          293,
          294,
          295,
          296,
          297,
          298,
          299,
          300,
          301,
          302,
          303,
          304,
          305,
          306,
          307,
          308,
          309,
          310,
          311,
          312,
          313,
          314,
          315,
          316,
          317,
          318,
          319,
          320,
          321,
          322,
          323,
          324,
          325,
          326,
          327,
          328,
          329,
          330,
          331,
          332,
          333,
          334,
          335,
          336,
          337,
          338,
          339,
          340,
          341,
          342,
          343,
          344,
          345,
          346,
          347,
          348,
          349,
          350,
          351,
          352,
          353,
          354,
          355,
          356,
          357,
          358,
          359,
          360,
          361,
          362,
          363,
          364,
          365,
          366,
          367,
          368,
          369,
          370,
          371,
          372,
          373,
          374,
          375,
          376,
          377,
          378,
          379,
          380,
          381,
          382,
          383,
          384,
          385,
          386,
          387,
          388,
          389,
          390,
          391,
          392,
          393,
          394,
          395,
          396,
          397,
          398,
          399,
          400,
          401,
          402,
          403,
          404,
          405,
          406,
          407,
          408,
          409,
          410,
          411,
          412,
          413,
          414,
          415,
          416,
          417,
          418,
          419,
          420,
          421,
          422,
          423,
          424,
          425,
          426,
          427,
          428,
          429,
          430,
          431,
          432,
          433,
          434,
          435,
          436,
          437,
          438,
          439,
          440,
          441,
          442,
          443,
          444,
          445,
          446,
          447,
          448,
          449,
          450,
          451,
          452,
          453,
          454,
          455,
          456,
          457,
          458,
          459,
          460,
          461,
          462,
          463,
          464,
          465,
          466,
          467,
          468,
          469,
          470,
          471,
          472,
          473,
          474,
          475,
          476,
          477,
          478,
          479,
          480,
          481,
          482,
          483,
          484,
          485,
          486,
          487,
          488,
          489,
          490,
          491,
          492,
          493,
          494,
          495,
          496,
          497,
          498,
          499
         ],
         "y": [
          0.6130236983299255,
          0.5865983963012695,
          0.5209473967552185,
          0.48070842027664185,
          0.4313071072101593,
          0.38977575302124023,
          0.37214764952659607,
          0.36199596524238586,
          0.35228851437568665,
          0.28751063346862793,
          0.2983109652996063,
          0.2920320928096771,
          0.2581450641155243,
          0.26899462938308716,
          0.2262781262397766,
          0.26600924134254456,
          0.23980551958084106,
          0.20375674962997437,
          0.2599872648715973,
          0.229466512799263,
          0.19726096093654633,
          0.19788755476474762,
          0.18338067829608917,
          0.1980079859495163,
          0.16157785058021545,
          0.27986016869544983,
          0.16649135947227478,
          0.17194689810276031,
          0.16369245946407318,
          0.16025830805301666,
          0.16291184723377228,
          0.2245267629623413,
          0.23109304904937744,
          0.1386607438325882,
          0.16310621798038483,
          0.2790938913822174,
          0.1353898048400879,
          0.2658095061779022,
          0.28437697887420654,
          0.16514386236667633,
          0.21546557545661926,
          0.2130516767501831,
          0.18734590709209442,
          0.11013776063919067,
          0.1668652594089508,
          0.16018323600292206,
          0.15560033917427063,
          0.19482684135437012,
          0.2161351591348648,
          0.21950799226760864,
          0.1773681640625,
          0.1377406269311905,
          0.16587598621845245,
          0.1812264323234558,
          0.1490233838558197,
          0.20956900715827942,
          0.16994671523571014,
          0.19698959589004517,
          0.09948249906301498,
          0.1593044400215149,
          0.15134073793888092,
          0.08973969519138336,
          0.08996763825416565,
          0.3930846154689789,
          0.13708919286727905,
          0.15110506117343903,
          0.19897687435150146,
          0.1810559332370758,
          0.2386435866355896,
          0.14190857112407684,
          0.1512790024280548,
          0.1009698361158371,
          0.24054211378097534,
          0.10443510860204697,
          0.13299691677093506,
          0.32022902369499207,
          0.14801163971424103,
          0.1753685474395752,
          0.14009934663772583,
          0.21135368943214417,
          0.13612668216228485,
          0.13646338880062103,
          0.20730610191822052,
          0.13463875651359558,
          0.10026388615369797,
          0.09403568506240845,
          0.10879021137952805,
          0.11659232527017593,
          0.14392952620983124,
          0.1360354870557785,
          0.08611985296010971,
          0.10828197747468948,
          0.14948169887065887,
          0.13003423810005188,
          0.0874982550740242,
          0.11724935472011566,
          0.11972188949584961,
          0.07905010133981705,
          0.1864256113767624,
          0.09551291167736053,
          0.10671571642160416,
          0.10257239639759064,
          0.08516854792833328,
          0.10377541929483414,
          0.10995156317949295,
          0.1480066031217575,
          0.1542416214942932,
          0.17946143448352814,
          0.11887580156326294,
          0.1154785007238388,
          0.17647044360637665,
          0.15811102092266083,
          0.23259110748767853,
          0.2155214250087738,
          0.14428319036960602,
          0.24449212849140167,
          0.16103100776672363,
          0.10969535261392593,
          0.1327698677778244,
          0.18967607617378235,
          0.09121110290288925,
          0.11332611739635468,
          0.08748719841241837,
          0.08264042437076569,
          0.1269865185022354,
          0.09448865801095963,
          0.15837886929512024,
          0.08775009214878082,
          0.1815769076347351,
          0.12095655500888824,
          0.09132073074579239,
          0.1093631237745285,
          0.13313302397727966,
          0.08069706708192825,
          0.10773811489343643,
          0.1839703470468521,
          0.09786856174468994,
          0.19668318331241608,
          0.10019125789403915,
          0.16171862185001373,
          0.11253344267606735,
          0.11397111415863037,
          0.10618023574352264,
          0.09204741567373276,
          0.30027660727500916,
          0.10231369733810425,
          0.09106802940368652,
          0.08646316826343536,
          0.0877932459115982,
          0.14554885029792786,
          0.08556067198514938,
          0.0916062667965889,
          0.13016705214977264,
          0.1652817279100418,
          0.07884922623634338,
          0.10588236153125763,
          0.0833953320980072,
          0.06840859353542328,
          0.07737419009208679,
          0.09031160920858383,
          0.06824581325054169,
          0.11477489769458771,
          0.10572966188192368,
          0.0716828852891922,
          0.18281365931034088,
          0.07360543310642242,
          0.13873620331287384,
          0.08381402492523193,
          0.07519606500864029,
          0.07277265936136246,
          0.091988205909729,
          0.08633872121572495,
          0.09988292306661606,
          0.09444434195756912,
          0.10420236736536026,
          0.08818436414003372,
          0.0785863995552063,
          0.1136242225766182,
          0.0851062685251236,
          0.07094855606555939,
          0.08027070760726929,
          0.06649608165025711,
          0.1397089809179306,
          0.07844672352075577,
          0.09084299206733704,
          0.07964569330215454,
          0.11918674409389496,
          0.07738712430000305,
          0.10123049467802048,
          0.09238982200622559,
          0.07677042484283447,
          0.06524001061916351,
          0.06450661271810532,
          0.07026969641447067,
          0.1248556524515152,
          0.07523445039987564,
          0.15245869755744934,
          0.08202935010194778,
          0.08183284848928452,
          0.09184426814317703,
          0.12520146369934082,
          0.08494890481233597,
          0.0714661031961441,
          0.07659760862588882,
          0.20369571447372437,
          0.1886918991804123,
          0.08224010467529297,
          0.06355009973049164,
          0.19940856099128723,
          0.12780576944351196,
          0.08395463973283768,
          0.1439507007598877,
          0.11004187911748886,
          0.09309987723827362,
          0.07532761245965958,
          0.2094261199235916,
          0.08010707795619965,
          0.15389017760753632,
          0.07880165427923203,
          0.07325141876935959,
          0.18557441234588623,
          0.18664343655109406,
          0.14357304573059082,
          0.14477647840976715,
          0.12507684528827667,
          0.14126038551330566,
          0.10752295702695847,
          0.11833637952804565,
          0.1095634400844574,
          0.1266375333070755,
          0.08450400084257126,
          0.08479268848896027,
          0.09185981005430222,
          0.10602431744337082,
          0.07608111947774887,
          0.07457804679870605,
          0.2581366300582886,
          0.08847756683826447,
          0.22735877335071564,
          0.08417476713657379,
          0.09402170777320862,
          0.07854980230331421,
          0.07099538296461105,
          0.06459803134202957,
          0.1945844143629074,
          0.2976292669773102,
          0.08732181787490845,
          0.13147346675395966,
          0.07547741383314133,
          0.09958531707525253,
          0.07004520297050476,
          0.0679398626089096,
          0.06828487664461136,
          0.07035266607999802,
          0.1638375073671341,
          0.09053175151348114,
          0.078457772731781,
          0.17010746896266937,
          0.08116550743579865,
          0.23437868058681488,
          0.08286605775356293,
          0.0783015713095665,
          0.07074180245399475,
          0.07896844297647476,
          0.10314100235700607,
          0.11869297176599503,
          0.06879308819770813,
          0.07786291092634201,
          0.06827440112829208,
          0.07783236354589462,
          0.06626949459314346,
          0.06294620037078857,
          0.2435508668422699,
          0.06347599625587463,
          0.07047974318265915,
          0.06416715681552887,
          0.06632805615663528,
          0.07325006276369095,
          0.2071003019809723,
          0.062262650579214096,
          0.06454674154520035,
          0.08575178682804108,
          0.10476767271757126,
          0.07382770627737045,
          0.0647628903388977,
          0.060077715665102005,
          0.06081083044409752,
          0.13756893575191498,
          0.06908131390810013,
          0.06551184505224228,
          0.17496263980865479,
          0.08028594404459,
          0.061231233179569244,
          0.2526145279407501,
          0.17774024605751038,
          0.10033727437257767,
          0.06223198398947716,
          0.07334945350885391,
          0.06661181896924973,
          0.07427451014518738,
          0.08594448119401932,
          0.06379759311676025,
          0.06728146225214005,
          0.08101975917816162,
          0.06497246026992798,
          0.14221738278865814,
          0.07172603160142899,
          0.06239328905940056,
          0.07718363404273987,
          0.0605367049574852,
          0.06243588402867317,
          0.20645490288734436,
          0.0764944925904274,
          0.06362597644329071,
          0.0609985776245594,
          0.061386797577142715,
          0.05996892973780632,
          0.3741695284843445,
          0.07874749600887299,
          0.09653323888778687,
          0.07735579460859299,
          0.07983598113059998,
          0.07416098564863205,
          0.06013362854719162,
          0.06630033999681473,
          0.061993375420570374,
          0.06141700595617294,
          0.089257150888443,
          0.09041494876146317,
          0.09687710553407669,
          0.06089962646365166,
          0.060316555202007294,
          0.060130827128887177,
          0.18569256365299225,
          0.12484302371740341,
          0.06364170461893082,
          0.09208563715219498,
          0.06530553847551346,
          0.06230730935931206,
          0.05913655459880829,
          0.06151390075683594,
          0.05887472257018089,
          0.16286015510559082,
          0.06812157481908798,
          0.05833691731095314,
          0.05800062045454979,
          0.0579623281955719,
          0.28698205947875977,
          0.06387258321046829,
          0.13272547721862793,
          0.09630095958709717,
          0.07222481071949005,
          0.05980924144387245,
          0.059849631041288376,
          0.060062069445848465,
          0.059176478534936905,
          0.058538082987070084,
          0.09860894083976746,
          0.061425480991601944,
          0.05911962687969208,
          0.06068015843629837,
          0.06149781867861748,
          0.06173605099320412,
          0.059517744928598404,
          0.07178684324026108,
          0.06150083616375923,
          0.058278173208236694,
          0.060657601803541183,
          0.38086456060409546,
          0.10045263916254044,
          0.08417543768882751,
          0.07004792243242264,
          0.23104076087474823,
          0.09902144968509674,
          0.06568752974271774,
          0.06098940595984459,
          0.06229131668806076,
          0.06126776337623596,
          0.1273420751094818,
          0.121335968375206,
          0.20293475687503815,
          0.17592020332813263,
          0.08788719773292542,
          0.06466313451528549,
          0.10676038265228271,
          0.09112433344125748,
          0.06719468533992767,
          0.07414783537387848,
          0.05920414254069328,
          0.05857314541935921,
          0.1385098248720169,
          0.09000229090452194,
          0.09462030977010727,
          0.06252471357584,
          0.06500323116779327,
          0.07281672209501266,
          0.06379185616970062,
          0.06962891668081284,
          0.06055131554603577,
          0.060039423406124115,
          0.05969037860631943,
          0.059798404574394226,
          0.061017174273729324,
          0.05793418735265732,
          0.05854799225926399,
          0.057814013212919235,
          0.05948111042380333,
          0.05756893754005432,
          0.058340270072221756,
          0.05972530320286751,
          0.05682390555739403,
          0.06246418133378029,
          0.0636628121137619,
          0.05694607272744179,
          0.05756920948624611,
          0.05692354217171669,
          0.05690060555934906,
          0.056713152676820755,
          0.05812205746769905,
          0.0787964016199112,
          0.057028092443943024,
          0.21529996395111084,
          0.059359919279813766,
          0.059876278042793274,
          0.0618693009018898,
          0.0655052661895752,
          0.08429864048957825,
          0.058175306767225266,
          0.059025704860687256,
          0.05650521069765091,
          0.10349688678979874,
          0.10473470389842987,
          0.11577752232551575,
          0.07290860265493393,
          0.07594761997461319,
          0.06755880266427994,
          0.30157795548439026,
          0.06388874351978302,
          0.05954981595277786,
          0.06001114845275879,
          0.05780636891722679,
          0.06367650628089905,
          0.05870293825864792,
          0.057581089437007904,
          0.058570753782987595,
          0.23183053731918335,
          0.12316585332155228,
          0.08041473478078842,
          0.06409060955047607,
          0.0583331324160099,
          0.05990181118249893,
          0.060001440346241,
          0.06024227291345596,
          0.05959246680140495,
          0.060021549463272095,
          0.05958866328001022,
          0.07165337353944778,
          0.060500096529722214,
          0.059470292180776596,
          0.058734554797410965,
          0.061679989099502563,
          0.05939585715532303,
          0.05762140452861786,
          0.06048635020852089,
          0.05714072659611702,
          0.0576842799782753,
          0.0596129335463047,
          0.06264809519052505,
          0.05678120255470276,
          0.05645705759525299,
          0.11261804401874542,
          0.0710422620177269,
          0.06730610132217407,
          0.057574912905693054,
          0.057333964854478836,
          0.09935808181762695,
          0.06032700464129448,
          0.11843298375606537,
          0.06983797252178192,
          0.0591699592769146,
          0.2554410994052887,
          0.05883779376745224,
          0.05756340175867081,
          0.05886179208755493,
          0.06491360813379288,
          0.05907324329018593,
          0.05885843560099602,
          0.09676438570022583,
          0.06292508542537689,
          0.35258689522743225,
          0.17379148304462433,
          0.13658319413661957,
          0.10948173701763153,
          0.07280062884092331,
          0.06574402004480362,
          0.058302197605371475,
          0.05881137773394585,
          0.08718261867761612,
          0.06044139713048935,
          0.05891885235905647
         ]
        },
        {
         "line": {
          "color": "red"
         },
         "mode": "lines",
         "name": "Test Loss",
         "type": "scatter",
         "x": [
          0,
          1,
          2,
          3,
          4,
          5,
          6,
          7,
          8,
          9,
          10,
          11,
          12,
          13,
          14,
          15,
          16,
          17,
          18,
          19,
          20,
          21,
          22,
          23,
          24,
          25,
          26,
          27,
          28,
          29,
          30,
          31,
          32,
          33,
          34,
          35,
          36,
          37,
          38,
          39,
          40,
          41,
          42,
          43,
          44,
          45,
          46,
          47,
          48,
          49,
          50,
          51,
          52,
          53,
          54,
          55,
          56,
          57,
          58,
          59,
          60,
          61,
          62,
          63,
          64,
          65,
          66,
          67,
          68,
          69,
          70,
          71,
          72,
          73,
          74,
          75,
          76,
          77,
          78,
          79,
          80,
          81,
          82,
          83,
          84,
          85,
          86,
          87,
          88,
          89,
          90,
          91,
          92,
          93,
          94,
          95,
          96,
          97,
          98,
          99,
          100,
          101,
          102,
          103,
          104,
          105,
          106,
          107,
          108,
          109,
          110,
          111,
          112,
          113,
          114,
          115,
          116,
          117,
          118,
          119,
          120,
          121,
          122,
          123,
          124,
          125,
          126,
          127,
          128,
          129,
          130,
          131,
          132,
          133,
          134,
          135,
          136,
          137,
          138,
          139,
          140,
          141,
          142,
          143,
          144,
          145,
          146,
          147,
          148,
          149,
          150,
          151,
          152,
          153,
          154,
          155,
          156,
          157,
          158,
          159,
          160,
          161,
          162,
          163,
          164,
          165,
          166,
          167,
          168,
          169,
          170,
          171,
          172,
          173,
          174,
          175,
          176,
          177,
          178,
          179,
          180,
          181,
          182,
          183,
          184,
          185,
          186,
          187,
          188,
          189,
          190,
          191,
          192,
          193,
          194,
          195,
          196,
          197,
          198,
          199,
          200,
          201,
          202,
          203,
          204,
          205,
          206,
          207,
          208,
          209,
          210,
          211,
          212,
          213,
          214,
          215,
          216,
          217,
          218,
          219,
          220,
          221,
          222,
          223,
          224,
          225,
          226,
          227,
          228,
          229,
          230,
          231,
          232,
          233,
          234,
          235,
          236,
          237,
          238,
          239,
          240,
          241,
          242,
          243,
          244,
          245,
          246,
          247,
          248,
          249,
          250,
          251,
          252,
          253,
          254,
          255,
          256,
          257,
          258,
          259,
          260,
          261,
          262,
          263,
          264,
          265,
          266,
          267,
          268,
          269,
          270,
          271,
          272,
          273,
          274,
          275,
          276,
          277,
          278,
          279,
          280,
          281,
          282,
          283,
          284,
          285,
          286,
          287,
          288,
          289,
          290,
          291,
          292,
          293,
          294,
          295,
          296,
          297,
          298,
          299,
          300,
          301,
          302,
          303,
          304,
          305,
          306,
          307,
          308,
          309,
          310,
          311,
          312,
          313,
          314,
          315,
          316,
          317,
          318,
          319,
          320,
          321,
          322,
          323,
          324,
          325,
          326,
          327,
          328,
          329,
          330,
          331,
          332,
          333,
          334,
          335,
          336,
          337,
          338,
          339,
          340,
          341,
          342,
          343,
          344,
          345,
          346,
          347,
          348,
          349,
          350,
          351,
          352,
          353,
          354,
          355,
          356,
          357,
          358,
          359,
          360,
          361,
          362,
          363,
          364,
          365,
          366,
          367,
          368,
          369,
          370,
          371,
          372,
          373,
          374,
          375,
          376,
          377,
          378,
          379,
          380,
          381,
          382,
          383,
          384,
          385,
          386,
          387,
          388,
          389,
          390,
          391,
          392,
          393,
          394,
          395,
          396,
          397,
          398,
          399,
          400,
          401,
          402,
          403,
          404,
          405,
          406,
          407,
          408,
          409,
          410,
          411,
          412,
          413,
          414,
          415,
          416,
          417,
          418,
          419,
          420,
          421,
          422,
          423,
          424,
          425,
          426,
          427,
          428,
          429,
          430,
          431,
          432,
          433,
          434,
          435,
          436,
          437,
          438,
          439,
          440,
          441,
          442,
          443,
          444,
          445,
          446,
          447,
          448,
          449,
          450,
          451,
          452,
          453,
          454,
          455,
          456,
          457,
          458,
          459,
          460,
          461,
          462,
          463,
          464,
          465,
          466,
          467,
          468,
          469,
          470,
          471,
          472,
          473,
          474,
          475,
          476,
          477,
          478,
          479,
          480,
          481,
          482,
          483,
          484,
          485,
          486,
          487,
          488,
          489,
          490,
          491,
          492,
          493,
          494,
          495,
          496,
          497,
          498,
          499
         ],
         "y": [
          0.5862255096435547,
          0.5546345114707947,
          0.47918078303337097,
          0.45888739824295044,
          0.41363078355789185,
          0.39666786789894104,
          0.38181978464126587,
          0.3575860261917114,
          0.37014737725257874,
          0.3357737958431244,
          0.35120028257369995,
          0.32324695587158203,
          0.314801961183548,
          0.3269296884536743,
          0.26690006256103516,
          0.2339666187763214,
          0.22052131593227386,
          0.28029125928878784,
          0.20711715519428253,
          0.2968347668647766,
          0.21720381081104279,
          0.2291436791419983,
          0.24137316644191742,
          0.27366378903388977,
          0.2105865329504013,
          0.22664663195610046,
          0.247324600815773,
          0.2358485907316208,
          0.21953058242797852,
          0.23308610916137695,
          0.21643264591693878,
          0.17679578065872192,
          0.2202002853155136,
          0.2188854217529297,
          0.17744429409503937,
          0.18364217877388,
          0.19241486489772797,
          0.1820979118347168,
          0.20120535790920258,
          0.1772865504026413,
          0.20643454790115356,
          0.20922933518886566,
          0.17759588360786438,
          0.21008606255054474,
          0.145628422498703,
          0.17139479517936707,
          0.1948249787092209,
          0.1726953536272049,
          0.16860289871692657,
          0.18099506199359894,
          0.14338544011116028,
          0.15233518183231354,
          0.14510472118854523,
          0.15120452642440796,
          0.16083170473575592,
          0.15400679409503937,
          0.13683441281318665,
          0.13665971159934998,
          0.17464633285999298,
          0.12345293164253235,
          0.14694754779338837,
          0.22113439440727234,
          0.1734662652015686,
          0.20744988322257996,
          0.17647157609462738,
          0.1536741554737091,
          0.15345405042171478,
          0.145648792386055,
          0.14301306009292603,
          0.13582827150821686,
          0.14248424768447876,
          0.14788079261779785,
          0.17432019114494324,
          0.18377529084682465,
          0.13869518041610718,
          0.1977214813232422,
          0.16824394464492798,
          0.14488308131694794,
          0.14914244413375854,
          0.1432240605354309,
          0.1476689875125885,
          0.14708298444747925,
          0.12381629645824432,
          0.1350453495979309,
          0.14738069474697113,
          0.1563977748155594,
          0.13852794468402863,
          0.15507227182388306,
          0.13893599808216095,
          0.12338587641716003,
          0.2709369361400604,
          0.13512760400772095,
          0.12453719228506088,
          0.11698850244283676,
          0.15743643045425415,
          0.14261627197265625,
          0.12440339475870132,
          0.20281270146369934,
          0.12021490931510925,
          0.1549782156944275,
          0.15880295634269714,
          0.14880262315273285,
          0.22445249557495117,
          0.15252043306827545,
          0.14098034799098969,
          0.1300130933523178,
          0.1289018988609314,
          0.12482842057943344,
          0.1390807181596756,
          0.1431906372308731,
          0.11583034694194794,
          0.12437035143375397,
          0.12989278137683868,
          0.12715797126293182,
          0.1420835554599762,
          0.14560531079769135,
          0.1287386268377304,
          0.1384935975074768,
          0.12034661322832108,
          0.14957624673843384,
          0.18850789964199066,
          0.13222534954547882,
          0.16913838684558868,
          0.1817224621772766,
          0.11840042471885681,
          0.14269764721393585,
          0.10807033628225327,
          0.19863824546337128,
          0.12811073660850525,
          0.12003812193870544,
          0.17866331338882446,
          0.13438014686107635,
          0.12540489435195923,
          0.17687542736530304,
          0.1264009177684784,
          0.11455020308494568,
          0.1411474198102951,
          0.14545875787734985,
          0.15393342077732086,
          0.13152571022510529,
          0.13940301537513733,
          0.1207386702299118,
          0.1271093785762787,
          0.14432862401008606,
          0.13025924563407898,
          0.1264132410287857,
          0.13649418950080872,
          0.15574845671653748,
          0.15279586613178253,
          0.12127527594566345,
          0.15551909804344177,
          0.15360236167907715,
          0.12692920863628387,
          0.10429581254720688,
          0.16930589079856873,
          0.142481729388237,
          0.16862048208713531,
          0.20367391407489777,
          0.1756923496723175,
          0.1625438630580902,
          0.1958935558795929,
          0.13165169954299927,
          0.13220685720443726,
          0.17499133944511414,
          0.1207694336771965,
          0.18473577499389648,
          0.11342837661504745,
          0.15966418385505676,
          0.18820570409297943,
          0.1933649480342865,
          0.13524369895458221,
          0.15382766723632812,
          0.1389118731021881,
          0.14381533861160278,
          0.14519451558589935,
          0.14541621506214142,
          0.17528514564037323,
          0.1300876885652542,
          0.151814267039299,
          0.18609243631362915,
          0.16357778012752533,
          0.20841315388679504,
          0.1184549629688263,
          0.18619659543037415,
          0.18268562853336334,
          0.17916709184646606,
          0.12255151569843292,
          0.20799702405929565,
          0.14331775903701782,
          0.1520148068666458,
          0.19048552215099335,
          0.20941530168056488,
          0.2059953659772873,
          0.1802361011505127,
          0.1236819475889206,
          0.17062510550022125,
          0.09911713004112244,
          0.19171735644340515,
          0.17423893511295319,
          0.14953097701072693,
          0.11212528496980667,
          0.16233322024345398,
          0.47433507442474365,
          0.19385971128940582,
          0.11487222462892532,
          0.1135929748415947,
          0.2033819854259491,
          0.2630995213985443,
          0.12535697221755981,
          0.12889277935028076,
          0.1519971340894699,
          0.1173103004693985,
          0.13385994732379913,
          0.15386708080768585,
          0.20243801176548004,
          0.11314951628446579,
          0.1720307320356369,
          0.12726791203022003,
          0.19119368493556976,
          0.20577213168144226,
          0.1276550143957138,
          0.125947505235672,
          0.12838903069496155,
          0.11775922030210495,
          0.15550754964351654,
          0.1413821130990982,
          0.15041333436965942,
          0.1353546530008316,
          0.1420506089925766,
          0.1176946833729744,
          0.16678692400455475,
          0.1654828041791916,
          0.1507558822631836,
          0.15480615198612213,
          0.2084326148033142,
          0.20865438878536224,
          0.1055072546005249,
          0.16189834475517273,
          0.12500885128974915,
          0.1723492443561554,
          0.13615918159484863,
          0.1724659949541092,
          0.19590790569782257,
          0.26467180252075195,
          0.11004935950040817,
          0.14076057076454163,
          0.15376345813274384,
          0.11909735202789307,
          0.2254544198513031,
          0.1250448077917099,
          0.2128639966249466,
          0.22749033570289612,
          0.2130102515220642,
          0.2049420028924942,
          0.10516059398651123,
          0.15301033854484558,
          0.1852804273366928,
          0.11114992201328278,
          0.1861533373594284,
          0.12835052609443665,
          0.16959938406944275,
          0.18376114964485168,
          0.2883128523826599,
          0.17902064323425293,
          0.12725433707237244,
          0.13458167016506195,
          0.23912304639816284,
          0.19009628891944885,
          0.2300446480512619,
          0.18945854902267456,
          0.24820812046527863,
          0.25996580719947815,
          0.1283331960439682,
          0.26727065443992615,
          0.21516850590705872,
          0.25777286291122437,
          0.2496250718832016,
          0.21287348866462708,
          0.1003647893667221,
          0.24992193281650543,
          0.2504170536994934,
          0.17474813759326935,
          0.13529880344867706,
          0.18996849656105042,
          0.2500263452529907,
          0.28020164370536804,
          0.25027701258659363,
          0.1089055985212326,
          0.21025963127613068,
          0.2400931566953659,
          0.11204404383897781,
          0.15686292946338654,
          0.32584673166275024,
          0.1346641629934311,
          0.12315936386585236,
          0.13683250546455383,
          0.2501368820667267,
          0.20347794890403748,
          0.2259589284658432,
          0.20605067908763885,
          0.159526064991951,
          0.2676713764667511,
          0.25330042839050293,
          0.16710512340068817,
          0.280241459608078,
          0.11333826184272766,
          0.20385508239269257,
          0.2696581482887268,
          0.1805274337530136,
          0.2634837031364441,
          0.22241702675819397,
          0.10910072922706604,
          0.18441933393478394,
          0.2680373787879944,
          0.27647164463996887,
          0.293457955121994,
          0.28683486580848694,
          0.17309977114200592,
          0.21093183755874634,
          0.1394629031419754,
          0.20727786421775818,
          0.15235227346420288,
          0.22214943170547485,
          0.2948136329650879,
          0.23896823823451996,
          0.2735515832901001,
          0.2815718352794647,
          0.1431807577610016,
          0.2146611213684082,
          0.15818677842617035,
          0.40064331889152527,
          0.2875937521457672,
          0.28386878967285156,
          0.10844942927360535,
          0.12790879607200623,
          0.33006012439727783,
          0.14579321444034576,
          0.22133053839206696,
          0.27705472707748413,
          0.2858898937702179,
          0.2820582091808319,
          0.26215317845344543,
          0.10061188787221909,
          0.20876248180866241,
          0.3066863715648651,
          0.34407854080200195,
          0.2792849838733673,
          0.14855258166790009,
          0.24381180107593536,
          0.10667218267917633,
          0.20134234428405762,
          0.24075323343276978,
          0.26801156997680664,
          0.27353334426879883,
          0.24488721787929535,
          0.23531979322433472,
          0.28479546308517456,
          0.1258562058210373,
          0.4157063066959381,
          0.38010236620903015,
          0.3168526291847229,
          0.284805566072464,
          0.2648554742336273,
          0.2926066815853119,
          0.28779998421669006,
          0.33596447110176086,
          0.33133378624916077,
          0.25641316175460815,
          0.2286139279603958,
          0.14963415265083313,
          0.20480546355247498,
          0.4025408923625946,
          0.13235466182231903,
          0.13667085766792297,
          0.2464386522769928,
          0.3662659227848053,
          0.3568473160266876,
          0.29793909192085266,
          0.1184883564710617,
          0.1147858127951622,
          0.11171244084835052,
          0.11718591302633286,
          0.16060014069080353,
          0.2632586359977722,
          0.11849138140678406,
          0.12495272606611252,
          0.22969834506511688,
          0.2055985927581787,
          0.2728557288646698,
          0.2922888398170471,
          0.14517010748386383,
          0.20141801238059998,
          0.15219646692276,
          0.25248631834983826,
          0.24257142841815948,
          0.19057728350162506,
          0.23505832254886627,
          0.21555998921394348,
          0.28142741322517395,
          0.29005393385887146,
          0.37382572889328003,
          0.29155534505844116,
          0.2741890251636505,
          0.31150081753730774,
          0.31809982657432556,
          0.34949347376823425,
          0.28440767526626587,
          0.3087977170944214,
          0.27131983637809753,
          0.27205467224121094,
          0.3517565429210663,
          0.24728110432624817,
          0.23671555519104004,
          0.4672216475009918,
          0.32268425822257996,
          0.36169490218162537,
          0.3776738941669464,
          0.44674167037010193,
          0.27229002118110657,
          0.1747758835554123,
          0.39007240533828735,
          0.10019238293170929,
          0.20326606929302216,
          0.21599335968494415,
          0.23410440981388092,
          0.21872630715370178,
          0.16939428448677063,
          0.32700225710868835,
          0.22277821600437164,
          0.3162383735179901,
          0.11931867897510529,
          0.22677190601825714,
          0.1438780575990677,
          0.21802322566509247,
          0.18001526594161987,
          0.20386390388011932,
          0.18814639747142792,
          0.2542709410190582,
          0.23638099431991577,
          0.24445770680904388,
          0.26677390933036804,
          0.21939851343631744,
          0.4068017899990082,
          0.29858630895614624,
          0.2696887254714966,
          0.13457010686397552,
          0.1266646534204483,
          0.14763493835926056,
          0.23441734910011292,
          0.27131742238998413,
          0.22352422773838043,
          0.24703620374202728,
          0.2574664056301117,
          0.2615996301174164,
          0.2777247130870819,
          0.27083826065063477,
          0.21323736011981964,
          0.25819694995880127,
          0.2774919271469116,
          0.2748405635356903,
          0.23150497674942017,
          0.252637654542923,
          0.3121151626110077,
          0.2643260657787323,
          0.34672147035598755,
          0.2858755886554718,
          0.24050763249397278,
          0.24166668951511383,
          0.316641628742218,
          0.3197483718395233,
          0.12772057950496674,
          0.22155576944351196,
          0.2308053821325302,
          0.3142939507961273,
          0.3722345232963562,
          0.12418030202388763,
          0.32534852623939514,
          0.12489371001720428,
          0.22491982579231262,
          0.30229806900024414,
          0.10460454970598221,
          0.25777551531791687,
          0.3429967164993286,
          0.460432231426239,
          0.27369043231010437,
          0.43647730350494385,
          0.5377566814422607,
          0.15370161831378937,
          0.2304256409406662,
          0.1891840547323227,
          0.1613335907459259,
          0.1144179031252861,
          0.13864189386367798,
          0.2566649615764618,
          0.3938535749912262,
          0.3506618142127991,
          0.4370611608028412,
          0.12527969479560852,
          0.3214254677295685,
          0.29893001914024353
         ]
        },
        {
         "line": {
          "color": "green",
          "dash": "dash"
         },
         "mode": "lines",
         "name": "Train Acc.",
         "type": "scatter",
         "x": [
          0,
          1,
          2,
          3,
          4,
          5,
          6,
          7,
          8,
          9,
          10,
          11,
          12,
          13,
          14,
          15,
          16,
          17,
          18,
          19,
          20,
          21,
          22,
          23,
          24,
          25,
          26,
          27,
          28,
          29,
          30,
          31,
          32,
          33,
          34,
          35,
          36,
          37,
          38,
          39,
          40,
          41,
          42,
          43,
          44,
          45,
          46,
          47,
          48,
          49,
          50,
          51,
          52,
          53,
          54,
          55,
          56,
          57,
          58,
          59,
          60,
          61,
          62,
          63,
          64,
          65,
          66,
          67,
          68,
          69,
          70,
          71,
          72,
          73,
          74,
          75,
          76,
          77,
          78,
          79,
          80,
          81,
          82,
          83,
          84,
          85,
          86,
          87,
          88,
          89,
          90,
          91,
          92,
          93,
          94,
          95,
          96,
          97,
          98,
          99,
          100,
          101,
          102,
          103,
          104,
          105,
          106,
          107,
          108,
          109,
          110,
          111,
          112,
          113,
          114,
          115,
          116,
          117,
          118,
          119,
          120,
          121,
          122,
          123,
          124,
          125,
          126,
          127,
          128,
          129,
          130,
          131,
          132,
          133,
          134,
          135,
          136,
          137,
          138,
          139,
          140,
          141,
          142,
          143,
          144,
          145,
          146,
          147,
          148,
          149,
          150,
          151,
          152,
          153,
          154,
          155,
          156,
          157,
          158,
          159,
          160,
          161,
          162,
          163,
          164,
          165,
          166,
          167,
          168,
          169,
          170,
          171,
          172,
          173,
          174,
          175,
          176,
          177,
          178,
          179,
          180,
          181,
          182,
          183,
          184,
          185,
          186,
          187,
          188,
          189,
          190,
          191,
          192,
          193,
          194,
          195,
          196,
          197,
          198,
          199,
          200,
          201,
          202,
          203,
          204,
          205,
          206,
          207,
          208,
          209,
          210,
          211,
          212,
          213,
          214,
          215,
          216,
          217,
          218,
          219,
          220,
          221,
          222,
          223,
          224,
          225,
          226,
          227,
          228,
          229,
          230,
          231,
          232,
          233,
          234,
          235,
          236,
          237,
          238,
          239,
          240,
          241,
          242,
          243,
          244,
          245,
          246,
          247,
          248,
          249,
          250,
          251,
          252,
          253,
          254,
          255,
          256,
          257,
          258,
          259,
          260,
          261,
          262,
          263,
          264,
          265,
          266,
          267,
          268,
          269,
          270,
          271,
          272,
          273,
          274,
          275,
          276,
          277,
          278,
          279,
          280,
          281,
          282,
          283,
          284,
          285,
          286,
          287,
          288,
          289,
          290,
          291,
          292,
          293,
          294,
          295,
          296,
          297,
          298,
          299,
          300,
          301,
          302,
          303,
          304,
          305,
          306,
          307,
          308,
          309,
          310,
          311,
          312,
          313,
          314,
          315,
          316,
          317,
          318,
          319,
          320,
          321,
          322,
          323,
          324,
          325,
          326,
          327,
          328,
          329,
          330,
          331,
          332,
          333,
          334,
          335,
          336,
          337,
          338,
          339,
          340,
          341,
          342,
          343,
          344,
          345,
          346,
          347,
          348,
          349,
          350,
          351,
          352,
          353,
          354,
          355,
          356,
          357,
          358,
          359,
          360,
          361,
          362,
          363,
          364,
          365,
          366,
          367,
          368,
          369,
          370,
          371,
          372,
          373,
          374,
          375,
          376,
          377,
          378,
          379,
          380,
          381,
          382,
          383,
          384,
          385,
          386,
          387,
          388,
          389,
          390,
          391,
          392,
          393,
          394,
          395,
          396,
          397,
          398,
          399,
          400,
          401,
          402,
          403,
          404,
          405,
          406,
          407,
          408,
          409,
          410,
          411,
          412,
          413,
          414,
          415,
          416,
          417,
          418,
          419,
          420,
          421,
          422,
          423,
          424,
          425,
          426,
          427,
          428,
          429,
          430,
          431,
          432,
          433,
          434,
          435,
          436,
          437,
          438,
          439,
          440,
          441,
          442,
          443,
          444,
          445,
          446,
          447,
          448,
          449,
          450,
          451,
          452,
          453,
          454,
          455,
          456,
          457,
          458,
          459,
          460,
          461,
          462,
          463,
          464,
          465,
          466,
          467,
          468,
          469,
          470,
          471,
          472,
          473,
          474,
          475,
          476,
          477,
          478,
          479,
          480,
          481,
          482,
          483,
          484,
          485,
          486,
          487,
          488,
          489,
          490,
          491,
          492,
          493,
          494,
          495,
          496,
          497,
          498,
          499
         ],
         "y": [
          0.5428571428571428,
          0.7,
          0.7571428571428571,
          0.8285714285714286,
          0.8714285714285714,
          0.9142857142857143,
          0.9,
          0.8714285714285714,
          0.9,
          0.9142857142857143,
          0.9,
          0.9,
          0.9142857142857143,
          0.9,
          0.9428571428571428,
          0.9,
          0.9,
          0.9142857142857143,
          0.8714285714285714,
          0.8857142857142857,
          0.9428571428571428,
          0.9428571428571428,
          0.9428571428571428,
          0.9,
          0.9428571428571428,
          0.9,
          0.9428571428571428,
          0.9428571428571428,
          0.9428571428571428,
          0.9428571428571428,
          0.9571428571428572,
          0.8857142857142857,
          0.9142857142857143,
          0.9571428571428572,
          0.9571428571428572,
          0.8714285714285714,
          0.9571428571428572,
          0.8857142857142857,
          0.8857142857142857,
          0.9571428571428572,
          0.9285714285714286,
          0.9285714285714286,
          0.9428571428571428,
          0.9857142857142858,
          0.9428571428571428,
          0.9571428571428572,
          0.9571428571428572,
          0.9285714285714286,
          0.8857142857142857,
          0.8857142857142857,
          0.9428571428571428,
          0.9571428571428572,
          0.9142857142857143,
          0.9142857142857143,
          0.9571428571428572,
          0.9,
          0.9428571428571428,
          0.9,
          0.9857142857142858,
          0.9285714285714286,
          0.9571428571428572,
          0.9714285714285714,
          0.9714285714285714,
          0.8428571428571429,
          0.9571428571428572,
          0.9571428571428572,
          0.8857142857142857,
          0.9,
          0.8857142857142857,
          0.9428571428571428,
          0.9571428571428572,
          0.9571428571428572,
          0.8857142857142857,
          0.9571428571428572,
          0.9571428571428572,
          0.8428571428571429,
          0.9571428571428572,
          0.9,
          0.9571428571428572,
          0.8857142857142857,
          0.9571428571428572,
          0.9571428571428572,
          0.8857142857142857,
          0.9428571428571428,
          0.9571428571428572,
          0.9714285714285714,
          0.9571428571428572,
          0.9571428571428572,
          0.9285714285714286,
          0.9571428571428572,
          0.9714285714285714,
          0.9571428571428572,
          0.9285714285714286,
          0.9428571428571428,
          0.9857142857142858,
          0.9571428571428572,
          0.9428571428571428,
          0.9857142857142858,
          0.8857142857142857,
          0.9571428571428572,
          0.9571428571428572,
          0.9571428571428572,
          0.9714285714285714,
          0.9571428571428572,
          0.9571428571428572,
          0.9285714285714286,
          0.9,
          0.8857142857142857,
          0.9571428571428572,
          0.9571428571428572,
          0.8857142857142857,
          0.9142857142857143,
          0.8857142857142857,
          0.8857142857142857,
          0.9285714285714286,
          0.8714285714285714,
          0.9142857142857143,
          0.9571428571428572,
          0.9428571428571428,
          0.9,
          0.9857142857142858,
          0.9571428571428572,
          0.9857142857142858,
          0.9857142857142858,
          0.9428571428571428,
          0.9714285714285714,
          0.9,
          0.9857142857142858,
          0.8857142857142857,
          0.9428571428571428,
          0.9857142857142858,
          0.9714285714285714,
          0.9571428571428572,
          0.9857142857142858,
          0.9571428571428572,
          0.8857142857142857,
          0.9571428571428572,
          0.9,
          0.9571428571428572,
          0.9285714285714286,
          0.9571428571428572,
          0.9571428571428572,
          0.9571428571428572,
          0.9571428571428572,
          0.8714285714285714,
          0.9571428571428572,
          0.9571428571428572,
          0.9571428571428572,
          0.9571428571428572,
          0.9571428571428572,
          0.9714285714285714,
          0.9571428571428572,
          0.9571428571428572,
          0.9,
          0.9857142857142858,
          0.9571428571428572,
          0.9714285714285714,
          0.9857142857142858,
          0.9857142857142858,
          0.9714285714285714,
          0.9857142857142858,
          0.9571428571428572,
          0.9714285714285714,
          0.9857142857142858,
          0.9,
          0.9857142857142858,
          0.9285714285714286,
          0.9571428571428572,
          0.9857142857142858,
          0.9857142857142858,
          0.9571428571428572,
          0.9571428571428572,
          0.9571428571428572,
          0.9571428571428572,
          0.9714285714285714,
          0.9571428571428572,
          0.9857142857142858,
          0.9571428571428572,
          0.9571428571428572,
          0.9857142857142858,
          0.9857142857142858,
          0.9857142857142858,
          0.9142857142857143,
          0.9857142857142858,
          0.9857142857142858,
          0.9857142857142858,
          0.9571428571428572,
          0.9857142857142858,
          0.9857142857142858,
          0.9714285714285714,
          0.9857142857142858,
          0.9857142857142858,
          0.9857142857142858,
          0.9857142857142858,
          0.9285714285714286,
          0.9857142857142858,
          0.9142857142857143,
          0.9857142857142858,
          0.9857142857142858,
          0.9571428571428572,
          0.9428571428571428,
          0.9714285714285714,
          0.9714285714285714,
          0.9857142857142858,
          0.8857142857142857,
          0.8857142857142857,
          0.9857142857142858,
          0.9857142857142858,
          0.8857142857142857,
          0.9571428571428572,
          0.9714285714285714,
          0.9571428571428572,
          0.9857142857142858,
          0.9857142857142858,
          0.9857142857142858,
          0.8857142857142857,
          0.9857142857142858,
          0.9285714285714286,
          0.9857142857142858,
          0.9857142857142858,
          0.9,
          0.8857142857142857,
          0.9571428571428572,
          0.9142857142857143,
          0.9571428571428572,
          0.9571428571428572,
          0.9571428571428572,
          0.9571428571428572,
          0.9571428571428572,
          0.9285714285714286,
          0.9857142857142858,
          0.9857142857142858,
          0.9857142857142858,
          0.9571428571428572,
          0.9857142857142858,
          0.9857142857142858,
          0.8714285714285714,
          0.9714285714285714,
          0.8714285714285714,
          0.9857142857142858,
          0.9714285714285714,
          0.9857142857142858,
          0.9857142857142858,
          0.9857142857142858,
          0.8857142857142857,
          0.8714285714285714,
          0.9714285714285714,
          0.9571428571428572,
          0.9857142857142858,
          0.9571428571428572,
          0.9857142857142858,
          0.9857142857142858,
          0.9857142857142858,
          0.9857142857142858,
          0.9142857142857143,
          0.9857142857142858,
          0.9857142857142858,
          0.9142857142857143,
          0.9857142857142858,
          0.8714285714285714,
          0.9857142857142858,
          0.9857142857142858,
          0.9857142857142858,
          0.9857142857142858,
          0.9571428571428572,
          0.9714285714285714,
          0.9857142857142858,
          0.9857142857142858,
          0.9857142857142858,
          0.9857142857142858,
          0.9857142857142858,
          0.9857142857142858,
          0.8714285714285714,
          0.9857142857142858,
          0.9857142857142858,
          0.9857142857142858,
          0.9857142857142858,
          0.9857142857142858,
          0.8714285714285714,
          0.9857142857142858,
          0.9857142857142858,
          0.9857142857142858,
          0.9714285714285714,
          0.9857142857142858,
          0.9857142857142858,
          0.9857142857142858,
          0.9857142857142858,
          0.9428571428571428,
          0.9857142857142858,
          0.9857142857142858,
          0.8857142857142857,
          0.9714285714285714,
          0.9857142857142858,
          0.8714285714285714,
          0.9142857142857143,
          0.9714285714285714,
          0.9857142857142858,
          0.9857142857142858,
          0.9857142857142858,
          0.9857142857142858,
          0.9571428571428572,
          0.9857142857142858,
          0.9857142857142858,
          0.9714285714285714,
          0.9857142857142858,
          0.9285714285714286,
          0.9857142857142858,
          0.9857142857142858,
          0.9714285714285714,
          0.9857142857142858,
          0.9857142857142858,
          0.8714285714285714,
          0.9857142857142858,
          0.9857142857142858,
          0.9857142857142858,
          0.9857142857142858,
          0.9857142857142858,
          0.8142857142857143,
          0.9857142857142858,
          0.9571428571428572,
          0.9714285714285714,
          0.9571428571428572,
          0.9857142857142858,
          0.9857142857142858,
          0.9857142857142858,
          0.9857142857142858,
          0.9857142857142858,
          0.9571428571428572,
          0.9571428571428572,
          0.9571428571428572,
          0.9857142857142858,
          0.9857142857142858,
          0.9857142857142858,
          0.8857142857142857,
          0.9571428571428572,
          0.9857142857142858,
          0.9571428571428572,
          0.9857142857142858,
          0.9857142857142858,
          0.9857142857142858,
          0.9857142857142858,
          0.9857142857142858,
          0.9142857142857143,
          0.9857142857142858,
          0.9857142857142858,
          0.9857142857142858,
          0.9857142857142858,
          0.8428571428571429,
          0.9857142857142858,
          0.9142857142857143,
          0.9857142857142858,
          0.9857142857142858,
          0.9857142857142858,
          0.9857142857142858,
          0.9857142857142858,
          0.9857142857142858,
          0.9857142857142858,
          0.9571428571428572,
          0.9857142857142858,
          0.9857142857142858,
          0.9857142857142858,
          0.9857142857142858,
          0.9857142857142858,
          0.9857142857142858,
          0.9857142857142858,
          0.9857142857142858,
          0.9857142857142858,
          0.9857142857142858,
          0.7714285714285715,
          0.9571428571428572,
          0.9571428571428572,
          0.9857142857142858,
          0.8571428571428571,
          0.9571428571428572,
          0.9857142857142858,
          0.9857142857142858,
          0.9857142857142858,
          0.9857142857142858,
          0.9142857142857143,
          0.9571428571428572,
          0.8714285714285714,
          0.8857142857142857,
          0.9857142857142858,
          0.9857142857142858,
          0.9571428571428572,
          0.9571428571428572,
          0.9857142857142858,
          0.9857142857142858,
          0.9857142857142858,
          0.9857142857142858,
          0.9857142857142858,
          0.9857142857142858,
          0.9857142857142858,
          0.9857142857142858,
          0.9857142857142858,
          0.9857142857142858,
          0.9857142857142858,
          0.9857142857142858,
          0.9857142857142858,
          0.9857142857142858,
          0.9857142857142858,
          0.9857142857142858,
          0.9857142857142858,
          0.9857142857142858,
          0.9857142857142858,
          0.9857142857142858,
          0.9857142857142858,
          0.9857142857142858,
          0.9857142857142858,
          0.9857142857142858,
          0.9857142857142858,
          0.9857142857142858,
          0.9857142857142858,
          0.9857142857142858,
          0.9857142857142858,
          0.9857142857142858,
          0.9857142857142858,
          0.9857142857142858,
          0.9857142857142858,
          0.9714285714285714,
          0.9857142857142858,
          0.8714285714285714,
          0.9857142857142858,
          0.9857142857142858,
          0.9857142857142858,
          0.9857142857142858,
          0.9857142857142858,
          0.9857142857142858,
          0.9857142857142858,
          0.9857142857142858,
          0.9571428571428572,
          0.9857142857142858,
          0.9714285714285714,
          0.9857142857142858,
          0.9857142857142858,
          0.9857142857142858,
          0.7714285714285715,
          0.9857142857142858,
          0.9857142857142858,
          0.9857142857142858,
          0.9857142857142858,
          0.9857142857142858,
          0.9857142857142858,
          0.9857142857142858,
          0.9857142857142858,
          0.8571428571428571,
          0.9571428571428572,
          0.9714285714285714,
          0.9857142857142858,
          0.9857142857142858,
          0.9857142857142858,
          0.9857142857142858,
          0.9857142857142858,
          0.9857142857142858,
          0.9857142857142858,
          0.9857142857142858,
          0.9857142857142858,
          0.9857142857142858,
          0.9857142857142858,
          0.9857142857142858,
          0.9857142857142858,
          0.9857142857142858,
          0.9857142857142858,
          0.9857142857142858,
          0.9857142857142858,
          0.9857142857142858,
          0.9857142857142858,
          0.9857142857142858,
          0.9857142857142858,
          0.9857142857142858,
          0.9285714285714286,
          0.9857142857142858,
          0.9857142857142858,
          0.9857142857142858,
          0.9857142857142858,
          0.9571428571428572,
          0.9857142857142858,
          0.9428571428571428,
          0.9857142857142858,
          0.9857142857142858,
          0.8571428571428571,
          0.9857142857142858,
          0.9857142857142858,
          0.9857142857142858,
          0.9857142857142858,
          0.9857142857142858,
          0.9857142857142858,
          0.9714285714285714,
          0.9857142857142858,
          0.8,
          0.9142857142857143,
          0.9142857142857143,
          0.9857142857142858,
          0.9857142857142858,
          0.9857142857142858,
          0.9857142857142858,
          0.9857142857142858,
          0.9571428571428572,
          0.9857142857142858,
          0.9857142857142858
         ]
        },
        {
         "line": {
          "color": "green"
         },
         "mode": "lines",
         "name": "Test Acc",
         "type": "scatter",
         "x": [
          0,
          1,
          2,
          3,
          4,
          5,
          6,
          7,
          8,
          9,
          10,
          11,
          12,
          13,
          14,
          15,
          16,
          17,
          18,
          19,
          20,
          21,
          22,
          23,
          24,
          25,
          26,
          27,
          28,
          29,
          30,
          31,
          32,
          33,
          34,
          35,
          36,
          37,
          38,
          39,
          40,
          41,
          42,
          43,
          44,
          45,
          46,
          47,
          48,
          49,
          50,
          51,
          52,
          53,
          54,
          55,
          56,
          57,
          58,
          59,
          60,
          61,
          62,
          63,
          64,
          65,
          66,
          67,
          68,
          69,
          70,
          71,
          72,
          73,
          74,
          75,
          76,
          77,
          78,
          79,
          80,
          81,
          82,
          83,
          84,
          85,
          86,
          87,
          88,
          89,
          90,
          91,
          92,
          93,
          94,
          95,
          96,
          97,
          98,
          99,
          100,
          101,
          102,
          103,
          104,
          105,
          106,
          107,
          108,
          109,
          110,
          111,
          112,
          113,
          114,
          115,
          116,
          117,
          118,
          119,
          120,
          121,
          122,
          123,
          124,
          125,
          126,
          127,
          128,
          129,
          130,
          131,
          132,
          133,
          134,
          135,
          136,
          137,
          138,
          139,
          140,
          141,
          142,
          143,
          144,
          145,
          146,
          147,
          148,
          149,
          150,
          151,
          152,
          153,
          154,
          155,
          156,
          157,
          158,
          159,
          160,
          161,
          162,
          163,
          164,
          165,
          166,
          167,
          168,
          169,
          170,
          171,
          172,
          173,
          174,
          175,
          176,
          177,
          178,
          179,
          180,
          181,
          182,
          183,
          184,
          185,
          186,
          187,
          188,
          189,
          190,
          191,
          192,
          193,
          194,
          195,
          196,
          197,
          198,
          199,
          200,
          201,
          202,
          203,
          204,
          205,
          206,
          207,
          208,
          209,
          210,
          211,
          212,
          213,
          214,
          215,
          216,
          217,
          218,
          219,
          220,
          221,
          222,
          223,
          224,
          225,
          226,
          227,
          228,
          229,
          230,
          231,
          232,
          233,
          234,
          235,
          236,
          237,
          238,
          239,
          240,
          241,
          242,
          243,
          244,
          245,
          246,
          247,
          248,
          249,
          250,
          251,
          252,
          253,
          254,
          255,
          256,
          257,
          258,
          259,
          260,
          261,
          262,
          263,
          264,
          265,
          266,
          267,
          268,
          269,
          270,
          271,
          272,
          273,
          274,
          275,
          276,
          277,
          278,
          279,
          280,
          281,
          282,
          283,
          284,
          285,
          286,
          287,
          288,
          289,
          290,
          291,
          292,
          293,
          294,
          295,
          296,
          297,
          298,
          299,
          300,
          301,
          302,
          303,
          304,
          305,
          306,
          307,
          308,
          309,
          310,
          311,
          312,
          313,
          314,
          315,
          316,
          317,
          318,
          319,
          320,
          321,
          322,
          323,
          324,
          325,
          326,
          327,
          328,
          329,
          330,
          331,
          332,
          333,
          334,
          335,
          336,
          337,
          338,
          339,
          340,
          341,
          342,
          343,
          344,
          345,
          346,
          347,
          348,
          349,
          350,
          351,
          352,
          353,
          354,
          355,
          356,
          357,
          358,
          359,
          360,
          361,
          362,
          363,
          364,
          365,
          366,
          367,
          368,
          369,
          370,
          371,
          372,
          373,
          374,
          375,
          376,
          377,
          378,
          379,
          380,
          381,
          382,
          383,
          384,
          385,
          386,
          387,
          388,
          389,
          390,
          391,
          392,
          393,
          394,
          395,
          396,
          397,
          398,
          399,
          400,
          401,
          402,
          403,
          404,
          405,
          406,
          407,
          408,
          409,
          410,
          411,
          412,
          413,
          414,
          415,
          416,
          417,
          418,
          419,
          420,
          421,
          422,
          423,
          424,
          425,
          426,
          427,
          428,
          429,
          430,
          431,
          432,
          433,
          434,
          435,
          436,
          437,
          438,
          439,
          440,
          441,
          442,
          443,
          444,
          445,
          446,
          447,
          448,
          449,
          450,
          451,
          452,
          453,
          454,
          455,
          456,
          457,
          458,
          459,
          460,
          461,
          462,
          463,
          464,
          465,
          466,
          467,
          468,
          469,
          470,
          471,
          472,
          473,
          474,
          475,
          476,
          477,
          478,
          479,
          480,
          481,
          482,
          483,
          484,
          485,
          486,
          487,
          488,
          489,
          490,
          491,
          492,
          493,
          494,
          495,
          496,
          497,
          498,
          499
         ],
         "y": [
          0.7,
          0.8333333333333334,
          0.8666666666666667,
          0.9,
          0.9,
          0.9,
          0.9,
          0.9,
          0.9,
          0.9,
          0.9,
          0.9,
          0.9,
          0.8666666666666667,
          0.9,
          0.9666666666666667,
          0.9666666666666667,
          0.9,
          0.9666666666666667,
          0.8666666666666667,
          0.9,
          0.9,
          0.9,
          0.9,
          0.9,
          0.9666666666666667,
          0.9,
          0.9,
          0.8666666666666667,
          0.9,
          0.9,
          0.9666666666666667,
          0.9666666666666667,
          0.9,
          0.9333333333333333,
          0.9666666666666667,
          0.9333333333333333,
          0.9666666666666667,
          0.9666666666666667,
          0.9666666666666667,
          0.9666666666666667,
          0.9666666666666667,
          0.9666666666666667,
          0.8666666666666667,
          0.9666666666666667,
          0.9666666666666667,
          0.9,
          0.9666666666666667,
          0.9666666666666667,
          0.9666666666666667,
          0.9666666666666667,
          0.9666666666666667,
          0.9666666666666667,
          0.9666666666666667,
          0.9666666666666667,
          0.9666666666666667,
          0.9666666666666667,
          0.9666666666666667,
          0.9,
          0.9666666666666667,
          0.9666666666666667,
          0.8666666666666667,
          0.9,
          0.9666666666666667,
          0.9,
          0.9666666666666667,
          0.9666666666666667,
          0.9666666666666667,
          0.9666666666666667,
          0.9666666666666667,
          0.9666666666666667,
          0.9333333333333333,
          0.9666666666666667,
          0.9,
          0.9666666666666667,
          0.9666666666666667,
          0.9666666666666667,
          0.9666666666666667,
          0.9666666666666667,
          0.9666666666666667,
          0.9666666666666667,
          0.9666666666666667,
          0.9666666666666667,
          0.9666666666666667,
          0.9333333333333333,
          0.9333333333333333,
          0.9333333333333333,
          0.9333333333333333,
          0.9666666666666667,
          0.9666666666666667,
          0.8333333333333334,
          0.9333333333333333,
          0.9666666666666667,
          0.9333333333333333,
          0.9333333333333333,
          0.9666666666666667,
          0.9333333333333333,
          0.8666666666666667,
          0.9666666666666667,
          0.8666666666666667,
          0.9,
          0.9333333333333333,
          0.8666666666666667,
          0.9333333333333333,
          0.9666666666666667,
          0.9666666666666667,
          0.9666666666666667,
          0.9666666666666667,
          0.9666666666666667,
          0.9333333333333333,
          0.9666666666666667,
          0.9666666666666667,
          0.9666666666666667,
          0.9666666666666667,
          0.9666666666666667,
          0.9666666666666667,
          0.9666666666666667,
          0.9333333333333333,
          0.9666666666666667,
          0.9666666666666667,
          0.8666666666666667,
          0.9333333333333333,
          0.8666666666666667,
          0.9,
          0.9333333333333333,
          0.9333333333333333,
          0.9666666666666667,
          0.9,
          0.9666666666666667,
          0.9333333333333333,
          0.9666666666666667,
          0.9333333333333333,
          0.9666666666666667,
          0.9,
          0.9333333333333333,
          0.9666666666666667,
          0.9333333333333333,
          0.9666666666666667,
          0.9333333333333333,
          0.9666666666666667,
          0.9333333333333333,
          0.9333333333333333,
          0.9333333333333333,
          0.9333333333333333,
          0.9666666666666667,
          0.9333333333333333,
          0.9333333333333333,
          0.9333333333333333,
          0.9333333333333333,
          0.9666666666666667,
          0.9333333333333333,
          0.9333333333333333,
          0.9666666666666667,
          0.9666666666666667,
          0.9333333333333333,
          0.9333333333333333,
          0.9333333333333333,
          0.9,
          0.9333333333333333,
          0.9333333333333333,
          0.9333333333333333,
          0.9333333333333333,
          0.9333333333333333,
          0.9666666666666667,
          0.9666666666666667,
          0.9,
          0.9666666666666667,
          0.8666666666666667,
          0.9,
          0.9,
          0.9666666666666667,
          0.9333333333333333,
          0.9666666666666667,
          0.9333333333333333,
          0.9333333333333333,
          0.9333333333333333,
          0.9,
          0.9666666666666667,
          0.9,
          0.9333333333333333,
          0.9333333333333333,
          0.9666666666666667,
          0.9333333333333333,
          0.9,
          0.9666666666666667,
          0.9333333333333333,
          0.9333333333333333,
          0.9666666666666667,
          0.9333333333333333,
          0.9333333333333333,
          0.9333333333333333,
          0.9333333333333333,
          0.9333333333333333,
          0.9,
          0.9333333333333333,
          0.9333333333333333,
          0.9666666666666667,
          0.9666666666666667,
          0.9,
          0.9333333333333333,
          0.9333333333333333,
          0.9333333333333333,
          0.8666666666666667,
          0.9,
          0.9666666666666667,
          0.9666666666666667,
          0.9333333333333333,
          0.9,
          0.9666666666666667,
          0.9333333333333333,
          0.9333333333333333,
          0.9666666666666667,
          0.9333333333333333,
          0.9333333333333333,
          0.9,
          0.9666666666666667,
          0.9,
          0.9666666666666667,
          0.9,
          0.9,
          0.9666666666666667,
          0.9666666666666667,
          0.9666666666666667,
          0.9666666666666667,
          0.9666666666666667,
          0.9666666666666667,
          0.9333333333333333,
          0.9333333333333333,
          0.9333333333333333,
          0.9666666666666667,
          0.9333333333333333,
          0.9333333333333333,
          0.9333333333333333,
          0.8666666666666667,
          0.8666666666666667,
          0.9333333333333333,
          0.9666666666666667,
          0.9,
          0.9666666666666667,
          0.9,
          0.9333333333333333,
          0.9333333333333333,
          0.9,
          0.9,
          0.9666666666666667,
          0.9666666666666667,
          0.9,
          0.9666666666666667,
          0.8666666666666667,
          0.9333333333333333,
          0.9,
          0.9,
          0.9,
          0.9,
          0.9666666666666667,
          0.9333333333333333,
          0.9333333333333333,
          0.9666666666666667,
          0.9,
          0.9666666666666667,
          0.9,
          0.8666666666666667,
          0.8666666666666667,
          0.9,
          0.9333333333333333,
          0.9333333333333333,
          0.8666666666666667,
          0.9,
          0.9,
          0.9,
          0.9,
          0.8666666666666667,
          0.9666666666666667,
          0.8666666666666667,
          0.9,
          0.8666666666666667,
          0.9,
          0.9,
          0.9666666666666667,
          0.9333333333333333,
          0.9,
          0.9333333333333333,
          0.9333333333333333,
          0.9333333333333333,
          0.8666666666666667,
          0.9,
          0.9333333333333333,
          0.9333333333333333,
          0.9,
          0.9,
          0.9666666666666667,
          0.9,
          0.8666666666666667,
          0.9666666666666667,
          0.9666666666666667,
          0.9333333333333333,
          0.8666666666666667,
          0.9333333333333333,
          0.9,
          0.9,
          0.9,
          0.9,
          0.8666666666666667,
          0.9,
          0.8666666666666667,
          0.9666666666666667,
          0.9,
          0.8666666666666667,
          0.9333333333333333,
          0.9333333333333333,
          0.9333333333333333,
          0.9666666666666667,
          0.9,
          0.8666666666666667,
          0.9,
          0.8666666666666667,
          0.9333333333333333,
          0.9,
          0.9,
          0.9333333333333333,
          0.8666666666666667,
          0.9,
          0.8666666666666667,
          0.9,
          0.9,
          0.9,
          0.8666666666666667,
          0.9333333333333333,
          0.8666666666666667,
          0.9,
          0.8666666666666667,
          0.9,
          0.9,
          0.9666666666666667,
          0.9666666666666667,
          0.8666666666666667,
          0.9333333333333333,
          0.9,
          0.9,
          0.9,
          0.8666666666666667,
          0.9,
          0.9666666666666667,
          0.9,
          0.9,
          0.9,
          0.9333333333333333,
          0.9333333333333333,
          0.9666666666666667,
          0.9333333333333333,
          0.9333333333333333,
          0.9666666666666667,
          0.8666666666666667,
          0.8666666666666667,
          0.9333333333333333,
          0.9333333333333333,
          0.9333333333333333,
          0.9666666666666667,
          0.8666666666666667,
          0.8666666666666667,
          0.8666666666666667,
          0.9,
          0.9,
          0.9,
          0.8666666666666667,
          0.8666666666666667,
          0.8666666666666667,
          0.9,
          0.9,
          0.9333333333333333,
          0.8666666666666667,
          0.9,
          0.9666666666666667,
          0.9333333333333333,
          0.9,
          0.8666666666666667,
          0.8666666666666667,
          0.8666666666666667,
          0.9666666666666667,
          0.9666666666666667,
          0.9666666666666667,
          0.9666666666666667,
          0.9,
          0.8666666666666667,
          0.9333333333333333,
          0.9333333333333333,
          0.8666666666666667,
          0.9,
          0.9333333333333333,
          0.9333333333333333,
          0.9666666666666667,
          0.9666666666666667,
          0.9333333333333333,
          0.9333333333333333,
          0.9333333333333333,
          0.9333333333333333,
          0.9,
          0.9333333333333333,
          0.9,
          0.9,
          0.9,
          0.9,
          0.9,
          0.9,
          0.9333333333333333,
          0.9,
          0.9333333333333333,
          0.9,
          0.9333333333333333,
          0.9333333333333333,
          0.9,
          0.9666666666666667,
          0.9333333333333333,
          0.9,
          0.9333333333333333,
          0.9,
          0.9,
          0.9,
          0.9333333333333333,
          0.9333333333333333,
          0.8666666666666667,
          0.9666666666666667,
          0.9666666666666667,
          0.9666666666666667,
          0.9666666666666667,
          0.9333333333333333,
          0.9666666666666667,
          0.9,
          0.9666666666666667,
          0.9,
          0.9333333333333333,
          0.8333333333333334,
          0.9333333333333333,
          0.8666666666666667,
          0.9333333333333333,
          0.9333333333333333,
          0.9,
          0.9333333333333333,
          0.9333333333333333,
          0.9666666666666667,
          0.9333333333333333,
          0.9666666666666667,
          0.8666666666666667,
          0.9,
          0.9333333333333333,
          0.9666666666666667,
          0.9333333333333333,
          0.9333333333333333,
          0.9666666666666667,
          0.9333333333333333,
          0.9333333333333333,
          0.9333333333333333,
          0.9333333333333333,
          0.9333333333333333,
          0.9333333333333333,
          0.9333333333333333,
          0.9333333333333333,
          0.9333333333333333,
          0.9333333333333333,
          0.9333333333333333,
          0.9333333333333333,
          0.9333333333333333,
          0.9,
          0.9333333333333333,
          0.9,
          0.9333333333333333,
          0.9333333333333333,
          0.9333333333333333,
          0.9333333333333333,
          0.9333333333333333,
          0.9333333333333333,
          0.9333333333333333,
          0.9333333333333333,
          0.9,
          0.9,
          0.9666666666666667,
          0.9,
          0.9333333333333333,
          0.9333333333333333,
          0.9,
          0.9666666666666667,
          0.9333333333333333,
          0.9,
          0.9,
          0.9,
          0.9,
          0.8666666666666667,
          0.9333333333333333,
          0.9666666666666667,
          0.9,
          0.9333333333333333,
          0.9666666666666667,
          0.9333333333333333,
          0.8666666666666667,
          0.8666666666666667,
          0.9,
          0.9,
          0.9333333333333333,
          0.9,
          0.9333333333333333
         ]
        }
       ],
       "layout": {
        "autosize": true,
        "template": {
         "data": {
          "bar": [
           {
            "error_x": {
             "color": "#2a3f5f"
            },
            "error_y": {
             "color": "#2a3f5f"
            },
            "marker": {
             "line": {
              "color": "#E5ECF6",
              "width": 0.5
             }
            },
            "type": "bar"
           }
          ],
          "barpolar": [
           {
            "marker": {
             "line": {
              "color": "#E5ECF6",
              "width": 0.5
             }
            },
            "type": "barpolar"
           }
          ],
          "carpet": [
           {
            "aaxis": {
             "endlinecolor": "#2a3f5f",
             "gridcolor": "white",
             "linecolor": "white",
             "minorgridcolor": "white",
             "startlinecolor": "#2a3f5f"
            },
            "baxis": {
             "endlinecolor": "#2a3f5f",
             "gridcolor": "white",
             "linecolor": "white",
             "minorgridcolor": "white",
             "startlinecolor": "#2a3f5f"
            },
            "type": "carpet"
           }
          ],
          "choropleth": [
           {
            "colorbar": {
             "outlinewidth": 0,
             "ticks": ""
            },
            "type": "choropleth"
           }
          ],
          "contour": [
           {
            "colorbar": {
             "outlinewidth": 0,
             "ticks": ""
            },
            "colorscale": [
             [
              0,
              "#0d0887"
             ],
             [
              0.1111111111111111,
              "#46039f"
             ],
             [
              0.2222222222222222,
              "#7201a8"
             ],
             [
              0.3333333333333333,
              "#9c179e"
             ],
             [
              0.4444444444444444,
              "#bd3786"
             ],
             [
              0.5555555555555556,
              "#d8576b"
             ],
             [
              0.6666666666666666,
              "#ed7953"
             ],
             [
              0.7777777777777778,
              "#fb9f3a"
             ],
             [
              0.8888888888888888,
              "#fdca26"
             ],
             [
              1,
              "#f0f921"
             ]
            ],
            "type": "contour"
           }
          ],
          "contourcarpet": [
           {
            "colorbar": {
             "outlinewidth": 0,
             "ticks": ""
            },
            "type": "contourcarpet"
           }
          ],
          "heatmap": [
           {
            "colorbar": {
             "outlinewidth": 0,
             "ticks": ""
            },
            "colorscale": [
             [
              0,
              "#0d0887"
             ],
             [
              0.1111111111111111,
              "#46039f"
             ],
             [
              0.2222222222222222,
              "#7201a8"
             ],
             [
              0.3333333333333333,
              "#9c179e"
             ],
             [
              0.4444444444444444,
              "#bd3786"
             ],
             [
              0.5555555555555556,
              "#d8576b"
             ],
             [
              0.6666666666666666,
              "#ed7953"
             ],
             [
              0.7777777777777778,
              "#fb9f3a"
             ],
             [
              0.8888888888888888,
              "#fdca26"
             ],
             [
              1,
              "#f0f921"
             ]
            ],
            "type": "heatmap"
           }
          ],
          "heatmapgl": [
           {
            "colorbar": {
             "outlinewidth": 0,
             "ticks": ""
            },
            "colorscale": [
             [
              0,
              "#0d0887"
             ],
             [
              0.1111111111111111,
              "#46039f"
             ],
             [
              0.2222222222222222,
              "#7201a8"
             ],
             [
              0.3333333333333333,
              "#9c179e"
             ],
             [
              0.4444444444444444,
              "#bd3786"
             ],
             [
              0.5555555555555556,
              "#d8576b"
             ],
             [
              0.6666666666666666,
              "#ed7953"
             ],
             [
              0.7777777777777778,
              "#fb9f3a"
             ],
             [
              0.8888888888888888,
              "#fdca26"
             ],
             [
              1,
              "#f0f921"
             ]
            ],
            "type": "heatmapgl"
           }
          ],
          "histogram": [
           {
            "marker": {
             "colorbar": {
              "outlinewidth": 0,
              "ticks": ""
             }
            },
            "type": "histogram"
           }
          ],
          "histogram2d": [
           {
            "colorbar": {
             "outlinewidth": 0,
             "ticks": ""
            },
            "colorscale": [
             [
              0,
              "#0d0887"
             ],
             [
              0.1111111111111111,
              "#46039f"
             ],
             [
              0.2222222222222222,
              "#7201a8"
             ],
             [
              0.3333333333333333,
              "#9c179e"
             ],
             [
              0.4444444444444444,
              "#bd3786"
             ],
             [
              0.5555555555555556,
              "#d8576b"
             ],
             [
              0.6666666666666666,
              "#ed7953"
             ],
             [
              0.7777777777777778,
              "#fb9f3a"
             ],
             [
              0.8888888888888888,
              "#fdca26"
             ],
             [
              1,
              "#f0f921"
             ]
            ],
            "type": "histogram2d"
           }
          ],
          "histogram2dcontour": [
           {
            "colorbar": {
             "outlinewidth": 0,
             "ticks": ""
            },
            "colorscale": [
             [
              0,
              "#0d0887"
             ],
             [
              0.1111111111111111,
              "#46039f"
             ],
             [
              0.2222222222222222,
              "#7201a8"
             ],
             [
              0.3333333333333333,
              "#9c179e"
             ],
             [
              0.4444444444444444,
              "#bd3786"
             ],
             [
              0.5555555555555556,
              "#d8576b"
             ],
             [
              0.6666666666666666,
              "#ed7953"
             ],
             [
              0.7777777777777778,
              "#fb9f3a"
             ],
             [
              0.8888888888888888,
              "#fdca26"
             ],
             [
              1,
              "#f0f921"
             ]
            ],
            "type": "histogram2dcontour"
           }
          ],
          "mesh3d": [
           {
            "colorbar": {
             "outlinewidth": 0,
             "ticks": ""
            },
            "type": "mesh3d"
           }
          ],
          "parcoords": [
           {
            "line": {
             "colorbar": {
              "outlinewidth": 0,
              "ticks": ""
             }
            },
            "type": "parcoords"
           }
          ],
          "pie": [
           {
            "automargin": true,
            "type": "pie"
           }
          ],
          "scatter": [
           {
            "marker": {
             "colorbar": {
              "outlinewidth": 0,
              "ticks": ""
             }
            },
            "type": "scatter"
           }
          ],
          "scatter3d": [
           {
            "line": {
             "colorbar": {
              "outlinewidth": 0,
              "ticks": ""
             }
            },
            "marker": {
             "colorbar": {
              "outlinewidth": 0,
              "ticks": ""
             }
            },
            "type": "scatter3d"
           }
          ],
          "scattercarpet": [
           {
            "marker": {
             "colorbar": {
              "outlinewidth": 0,
              "ticks": ""
             }
            },
            "type": "scattercarpet"
           }
          ],
          "scattergeo": [
           {
            "marker": {
             "colorbar": {
              "outlinewidth": 0,
              "ticks": ""
             }
            },
            "type": "scattergeo"
           }
          ],
          "scattergl": [
           {
            "marker": {
             "colorbar": {
              "outlinewidth": 0,
              "ticks": ""
             }
            },
            "type": "scattergl"
           }
          ],
          "scattermapbox": [
           {
            "marker": {
             "colorbar": {
              "outlinewidth": 0,
              "ticks": ""
             }
            },
            "type": "scattermapbox"
           }
          ],
          "scatterpolar": [
           {
            "marker": {
             "colorbar": {
              "outlinewidth": 0,
              "ticks": ""
             }
            },
            "type": "scatterpolar"
           }
          ],
          "scatterpolargl": [
           {
            "marker": {
             "colorbar": {
              "outlinewidth": 0,
              "ticks": ""
             }
            },
            "type": "scatterpolargl"
           }
          ],
          "scatterternary": [
           {
            "marker": {
             "colorbar": {
              "outlinewidth": 0,
              "ticks": ""
             }
            },
            "type": "scatterternary"
           }
          ],
          "surface": [
           {
            "colorbar": {
             "outlinewidth": 0,
             "ticks": ""
            },
            "colorscale": [
             [
              0,
              "#0d0887"
             ],
             [
              0.1111111111111111,
              "#46039f"
             ],
             [
              0.2222222222222222,
              "#7201a8"
             ],
             [
              0.3333333333333333,
              "#9c179e"
             ],
             [
              0.4444444444444444,
              "#bd3786"
             ],
             [
              0.5555555555555556,
              "#d8576b"
             ],
             [
              0.6666666666666666,
              "#ed7953"
             ],
             [
              0.7777777777777778,
              "#fb9f3a"
             ],
             [
              0.8888888888888888,
              "#fdca26"
             ],
             [
              1,
              "#f0f921"
             ]
            ],
            "type": "surface"
           }
          ],
          "table": [
           {
            "cells": {
             "fill": {
              "color": "#EBF0F8"
             },
             "line": {
              "color": "white"
             }
            },
            "header": {
             "fill": {
              "color": "#C8D4E3"
             },
             "line": {
              "color": "white"
             }
            },
            "type": "table"
           }
          ]
         },
         "layout": {
          "annotationdefaults": {
           "arrowcolor": "#2a3f5f",
           "arrowhead": 0,
           "arrowwidth": 1
          },
          "coloraxis": {
           "colorbar": {
            "outlinewidth": 0,
            "ticks": ""
           }
          },
          "colorscale": {
           "diverging": [
            [
             0,
             "#8e0152"
            ],
            [
             0.1,
             "#c51b7d"
            ],
            [
             0.2,
             "#de77ae"
            ],
            [
             0.3,
             "#f1b6da"
            ],
            [
             0.4,
             "#fde0ef"
            ],
            [
             0.5,
             "#f7f7f7"
            ],
            [
             0.6,
             "#e6f5d0"
            ],
            [
             0.7,
             "#b8e186"
            ],
            [
             0.8,
             "#7fbc41"
            ],
            [
             0.9,
             "#4d9221"
            ],
            [
             1,
             "#276419"
            ]
           ],
           "sequential": [
            [
             0,
             "#0d0887"
            ],
            [
             0.1111111111111111,
             "#46039f"
            ],
            [
             0.2222222222222222,
             "#7201a8"
            ],
            [
             0.3333333333333333,
             "#9c179e"
            ],
            [
             0.4444444444444444,
             "#bd3786"
            ],
            [
             0.5555555555555556,
             "#d8576b"
            ],
            [
             0.6666666666666666,
             "#ed7953"
            ],
            [
             0.7777777777777778,
             "#fb9f3a"
            ],
            [
             0.8888888888888888,
             "#fdca26"
            ],
            [
             1,
             "#f0f921"
            ]
           ],
           "sequentialminus": [
            [
             0,
             "#0d0887"
            ],
            [
             0.1111111111111111,
             "#46039f"
            ],
            [
             0.2222222222222222,
             "#7201a8"
            ],
            [
             0.3333333333333333,
             "#9c179e"
            ],
            [
             0.4444444444444444,
             "#bd3786"
            ],
            [
             0.5555555555555556,
             "#d8576b"
            ],
            [
             0.6666666666666666,
             "#ed7953"
            ],
            [
             0.7777777777777778,
             "#fb9f3a"
            ],
            [
             0.8888888888888888,
             "#fdca26"
            ],
            [
             1,
             "#f0f921"
            ]
           ]
          },
          "colorway": [
           "#636efa",
           "#EF553B",
           "#00cc96",
           "#ab63fa",
           "#FFA15A",
           "#19d3f3",
           "#FF6692",
           "#B6E880",
           "#FF97FF",
           "#FECB52"
          ],
          "font": {
           "color": "#2a3f5f"
          },
          "geo": {
           "bgcolor": "white",
           "lakecolor": "white",
           "landcolor": "#E5ECF6",
           "showlakes": true,
           "showland": true,
           "subunitcolor": "white"
          },
          "hoverlabel": {
           "align": "left"
          },
          "hovermode": "closest",
          "mapbox": {
           "style": "light"
          },
          "paper_bgcolor": "white",
          "plot_bgcolor": "#E5ECF6",
          "polar": {
           "angularaxis": {
            "gridcolor": "white",
            "linecolor": "white",
            "ticks": ""
           },
           "bgcolor": "#E5ECF6",
           "radialaxis": {
            "gridcolor": "white",
            "linecolor": "white",
            "ticks": ""
           }
          },
          "scene": {
           "xaxis": {
            "backgroundcolor": "#E5ECF6",
            "gridcolor": "white",
            "gridwidth": 2,
            "linecolor": "white",
            "showbackground": true,
            "ticks": "",
            "zerolinecolor": "white"
           },
           "yaxis": {
            "backgroundcolor": "#E5ECF6",
            "gridcolor": "white",
            "gridwidth": 2,
            "linecolor": "white",
            "showbackground": true,
            "ticks": "",
            "zerolinecolor": "white"
           },
           "zaxis": {
            "backgroundcolor": "#E5ECF6",
            "gridcolor": "white",
            "gridwidth": 2,
            "linecolor": "white",
            "showbackground": true,
            "ticks": "",
            "zerolinecolor": "white"
           }
          },
          "shapedefaults": {
           "line": {
            "color": "#2a3f5f"
           }
          },
          "ternary": {
           "aaxis": {
            "gridcolor": "white",
            "linecolor": "white",
            "ticks": ""
           },
           "baxis": {
            "gridcolor": "white",
            "linecolor": "white",
            "ticks": ""
           },
           "bgcolor": "#E5ECF6",
           "caxis": {
            "gridcolor": "white",
            "linecolor": "white",
            "ticks": ""
           }
          },
          "title": {
           "x": 0.05
          },
          "xaxis": {
           "automargin": true,
           "gridcolor": "white",
           "linecolor": "white",
           "ticks": "",
           "title": {
            "standoff": 15
           },
           "zerolinecolor": "white",
           "zerolinewidth": 2
          },
          "yaxis": {
           "automargin": true,
           "gridcolor": "white",
           "linecolor": "white",
           "ticks": "",
           "title": {
            "standoff": 15
           },
           "zerolinecolor": "white",
           "zerolinewidth": 2
          }
         }
        },
        "title": {
         "text": "Modeling Results"
        },
        "xaxis": {
         "autorange": true,
         "range": [
          0,
          499
         ],
         "type": "linear"
        },
        "yaxis": {
         "autorange": true,
         "range": [
          0.004831656033084504,
          1.0373396872764542
         ],
         "type": "linear"
        }
       }
      },
      "image/png": "[encoded data removed]",
      "text/html": [
       "<div>\n",
       "        \n",
       "        \n",
       "            <div id=\"62835883-518e-4e6e-b21a-e618ee1d40d8\" class=\"plotly-graph-div\" style=\"height:525px; width:100%;\"></div>\n",
       "            <script type=\"text/javascript\">\n",
       "                require([\"plotly\"], function(Plotly) {\n",
       "                    window.PLOTLYENV=window.PLOTLYENV || {};\n",
       "                    \n",
       "                if (document.getElementById(\"62835883-518e-4e6e-b21a-e618ee1d40d8\")) {\n",
       "                    Plotly.newPlot(\n",
       "                        '62835883-518e-4e6e-b21a-e618ee1d40d8',\n",
       "                        [{\"line\": {\"color\": \"red\", \"dash\": \"dash\"}, \"mode\": \"lines\", \"name\": \"Train Loss\", \"type\": \"scatter\", \"x\": [0, 1, 2, 3, 4, 5, 6, 7, 8, 9, 10, 11, 12, 13, 14, 15, 16, 17, 18, 19, 20, 21, 22, 23, 24, 25, 26, 27, 28, 29, 30, 31, 32, 33, 34, 35, 36, 37, 38, 39, 40, 41, 42, 43, 44, 45, 46, 47, 48, 49, 50, 51, 52, 53, 54, 55, 56, 57, 58, 59, 60, 61, 62, 63, 64, 65, 66, 67, 68, 69, 70, 71, 72, 73, 74, 75, 76, 77, 78, 79, 80, 81, 82, 83, 84, 85, 86, 87, 88, 89, 90, 91, 92, 93, 94, 95, 96, 97, 98, 99, 100, 101, 102, 103, 104, 105, 106, 107, 108, 109, 110, 111, 112, 113, 114, 115, 116, 117, 118, 119, 120, 121, 122, 123, 124, 125, 126, 127, 128, 129, 130, 131, 132, 133, 134, 135, 136, 137, 138, 139, 140, 141, 142, 143, 144, 145, 146, 147, 148, 149, 150, 151, 152, 153, 154, 155, 156, 157, 158, 159, 160, 161, 162, 163, 164, 165, 166, 167, 168, 169, 170, 171, 172, 173, 174, 175, 176, 177, 178, 179, 180, 181, 182, 183, 184, 185, 186, 187, 188, 189, 190, 191, 192, 193, 194, 195, 196, 197, 198, 199, 200, 201, 202, 203, 204, 205, 206, 207, 208, 209, 210, 211, 212, 213, 214, 215, 216, 217, 218, 219, 220, 221, 222, 223, 224, 225, 226, 227, 228, 229, 230, 231, 232, 233, 234, 235, 236, 237, 238, 239, 240, 241, 242, 243, 244, 245, 246, 247, 248, 249, 250, 251, 252, 253, 254, 255, 256, 257, 258, 259, 260, 261, 262, 263, 264, 265, 266, 267, 268, 269, 270, 271, 272, 273, 274, 275, 276, 277, 278, 279, 280, 281, 282, 283, 284, 285, 286, 287, 288, 289, 290, 291, 292, 293, 294, 295, 296, 297, 298, 299, 300, 301, 302, 303, 304, 305, 306, 307, 308, 309, 310, 311, 312, 313, 314, 315, 316, 317, 318, 319, 320, 321, 322, 323, 324, 325, 326, 327, 328, 329, 330, 331, 332, 333, 334, 335, 336, 337, 338, 339, 340, 341, 342, 343, 344, 345, 346, 347, 348, 349, 350, 351, 352, 353, 354, 355, 356, 357, 358, 359, 360, 361, 362, 363, 364, 365, 366, 367, 368, 369, 370, 371, 372, 373, 374, 375, 376, 377, 378, 379, 380, 381, 382, 383, 384, 385, 386, 387, 388, 389, 390, 391, 392, 393, 394, 395, 396, 397, 398, 399, 400, 401, 402, 403, 404, 405, 406, 407, 408, 409, 410, 411, 412, 413, 414, 415, 416, 417, 418, 419, 420, 421, 422, 423, 424, 425, 426, 427, 428, 429, 430, 431, 432, 433, 434, 435, 436, 437, 438, 439, 440, 441, 442, 443, 444, 445, 446, 447, 448, 449, 450, 451, 452, 453, 454, 455, 456, 457, 458, 459, 460, 461, 462, 463, 464, 465, 466, 467, 468, 469, 470, 471, 472, 473, 474, 475, 476, 477, 478, 479, 480, 481, 482, 483, 484, 485, 486, 487, 488, 489, 490, 491, 492, 493, 494, 495, 496, 497, 498, 499], \"y\": [0.6130236983299255, 0.5865983963012695, 0.5209473967552185, 0.48070842027664185, 0.4313071072101593, 0.38977575302124023, 0.37214764952659607, 0.36199596524238586, 0.35228851437568665, 0.28751063346862793, 0.2983109652996063, 0.2920320928096771, 0.2581450641155243, 0.26899462938308716, 0.2262781262397766, 0.26600924134254456, 0.23980551958084106, 0.20375674962997437, 0.2599872648715973, 0.229466512799263, 0.19726096093654633, 0.19788755476474762, 0.18338067829608917, 0.1980079859495163, 0.16157785058021545, 0.27986016869544983, 0.16649135947227478, 0.17194689810276031, 0.16369245946407318, 0.16025830805301666, 0.16291184723377228, 0.2245267629623413, 0.23109304904937744, 0.1386607438325882, 0.16310621798038483, 0.2790938913822174, 0.1353898048400879, 0.2658095061779022, 0.28437697887420654, 0.16514386236667633, 0.21546557545661926, 0.2130516767501831, 0.18734590709209442, 0.11013776063919067, 0.1668652594089508, 0.16018323600292206, 0.15560033917427063, 0.19482684135437012, 0.2161351591348648, 0.21950799226760864, 0.1773681640625, 0.1377406269311905, 0.16587598621845245, 0.1812264323234558, 0.1490233838558197, 0.20956900715827942, 0.16994671523571014, 0.19698959589004517, 0.09948249906301498, 0.1593044400215149, 0.15134073793888092, 0.08973969519138336, 0.08996763825416565, 0.3930846154689789, 0.13708919286727905, 0.15110506117343903, 0.19897687435150146, 0.1810559332370758, 0.2386435866355896, 0.14190857112407684, 0.1512790024280548, 0.1009698361158371, 0.24054211378097534, 0.10443510860204697, 0.13299691677093506, 0.32022902369499207, 0.14801163971424103, 0.1753685474395752, 0.14009934663772583, 0.21135368943214417, 0.13612668216228485, 0.13646338880062103, 0.20730610191822052, 0.13463875651359558, 0.10026388615369797, 0.09403568506240845, 0.10879021137952805, 0.11659232527017593, 0.14392952620983124, 0.1360354870557785, 0.08611985296010971, 0.10828197747468948, 0.14948169887065887, 0.13003423810005188, 0.0874982550740242, 0.11724935472011566, 0.11972188949584961, 0.07905010133981705, 0.1864256113767624, 0.09551291167736053, 0.10671571642160416, 0.10257239639759064, 0.08516854792833328, 0.10377541929483414, 0.10995156317949295, 0.1480066031217575, 0.1542416214942932, 0.17946143448352814, 0.11887580156326294, 0.1154785007238388, 0.17647044360637665, 0.15811102092266083, 0.23259110748767853, 0.2155214250087738, 0.14428319036960602, 0.24449212849140167, 0.16103100776672363, 0.10969535261392593, 0.1327698677778244, 0.18967607617378235, 0.09121110290288925, 0.11332611739635468, 0.08748719841241837, 0.08264042437076569, 0.1269865185022354, 0.09448865801095963, 0.15837886929512024, 0.08775009214878082, 0.1815769076347351, 0.12095655500888824, 0.09132073074579239, 0.1093631237745285, 0.13313302397727966, 0.08069706708192825, 0.10773811489343643, 0.1839703470468521, 0.09786856174468994, 0.19668318331241608, 0.10019125789403915, 0.16171862185001373, 0.11253344267606735, 0.11397111415863037, 0.10618023574352264, 0.09204741567373276, 0.30027660727500916, 0.10231369733810425, 0.09106802940368652, 0.08646316826343536, 0.0877932459115982, 0.14554885029792786, 0.08556067198514938, 0.0916062667965889, 0.13016705214977264, 0.1652817279100418, 0.07884922623634338, 0.10588236153125763, 0.0833953320980072, 0.06840859353542328, 0.07737419009208679, 0.09031160920858383, 0.06824581325054169, 0.11477489769458771, 0.10572966188192368, 0.0716828852891922, 0.18281365931034088, 0.07360543310642242, 0.13873620331287384, 0.08381402492523193, 0.07519606500864029, 0.07277265936136246, 0.091988205909729, 0.08633872121572495, 0.09988292306661606, 0.09444434195756912, 0.10420236736536026, 0.08818436414003372, 0.0785863995552063, 0.1136242225766182, 0.0851062685251236, 0.07094855606555939, 0.08027070760726929, 0.06649608165025711, 0.1397089809179306, 0.07844672352075577, 0.09084299206733704, 0.07964569330215454, 0.11918674409389496, 0.07738712430000305, 0.10123049467802048, 0.09238982200622559, 0.07677042484283447, 0.06524001061916351, 0.06450661271810532, 0.07026969641447067, 0.1248556524515152, 0.07523445039987564, 0.15245869755744934, 0.08202935010194778, 0.08183284848928452, 0.09184426814317703, 0.12520146369934082, 0.08494890481233597, 0.0714661031961441, 0.07659760862588882, 0.20369571447372437, 0.1886918991804123, 0.08224010467529297, 0.06355009973049164, 0.19940856099128723, 0.12780576944351196, 0.08395463973283768, 0.1439507007598877, 0.11004187911748886, 0.09309987723827362, 0.07532761245965958, 0.2094261199235916, 0.08010707795619965, 0.15389017760753632, 0.07880165427923203, 0.07325141876935959, 0.18557441234588623, 0.18664343655109406, 0.14357304573059082, 0.14477647840976715, 0.12507684528827667, 0.14126038551330566, 0.10752295702695847, 0.11833637952804565, 0.1095634400844574, 0.1266375333070755, 0.08450400084257126, 0.08479268848896027, 0.09185981005430222, 0.10602431744337082, 0.07608111947774887, 0.07457804679870605, 0.2581366300582886, 0.08847756683826447, 0.22735877335071564, 0.08417476713657379, 0.09402170777320862, 0.07854980230331421, 0.07099538296461105, 0.06459803134202957, 0.1945844143629074, 0.2976292669773102, 0.08732181787490845, 0.13147346675395966, 0.07547741383314133, 0.09958531707525253, 0.07004520297050476, 0.0679398626089096, 0.06828487664461136, 0.07035266607999802, 0.1638375073671341, 0.09053175151348114, 0.078457772731781, 0.17010746896266937, 0.08116550743579865, 0.23437868058681488, 0.08286605775356293, 0.0783015713095665, 0.07074180245399475, 0.07896844297647476, 0.10314100235700607, 0.11869297176599503, 0.06879308819770813, 0.07786291092634201, 0.06827440112829208, 0.07783236354589462, 0.06626949459314346, 0.06294620037078857, 0.2435508668422699, 0.06347599625587463, 0.07047974318265915, 0.06416715681552887, 0.06632805615663528, 0.07325006276369095, 0.2071003019809723, 0.062262650579214096, 0.06454674154520035, 0.08575178682804108, 0.10476767271757126, 0.07382770627737045, 0.0647628903388977, 0.060077715665102005, 0.06081083044409752, 0.13756893575191498, 0.06908131390810013, 0.06551184505224228, 0.17496263980865479, 0.08028594404459, 0.061231233179569244, 0.2526145279407501, 0.17774024605751038, 0.10033727437257767, 0.06223198398947716, 0.07334945350885391, 0.06661181896924973, 0.07427451014518738, 0.08594448119401932, 0.06379759311676025, 0.06728146225214005, 0.08101975917816162, 0.06497246026992798, 0.14221738278865814, 0.07172603160142899, 0.06239328905940056, 0.07718363404273987, 0.0605367049574852, 0.06243588402867317, 0.20645490288734436, 0.0764944925904274, 0.06362597644329071, 0.0609985776245594, 0.061386797577142715, 0.05996892973780632, 0.3741695284843445, 0.07874749600887299, 0.09653323888778687, 0.07735579460859299, 0.07983598113059998, 0.07416098564863205, 0.06013362854719162, 0.06630033999681473, 0.061993375420570374, 0.06141700595617294, 0.089257150888443, 0.09041494876146317, 0.09687710553407669, 0.06089962646365166, 0.060316555202007294, 0.060130827128887177, 0.18569256365299225, 0.12484302371740341, 0.06364170461893082, 0.09208563715219498, 0.06530553847551346, 0.06230730935931206, 0.05913655459880829, 0.06151390075683594, 0.05887472257018089, 0.16286015510559082, 0.06812157481908798, 0.05833691731095314, 0.05800062045454979, 0.0579623281955719, 0.28698205947875977, 0.06387258321046829, 0.13272547721862793, 0.09630095958709717, 0.07222481071949005, 0.05980924144387245, 0.059849631041288376, 0.060062069445848465, 0.059176478534936905, 0.058538082987070084, 0.09860894083976746, 0.061425480991601944, 0.05911962687969208, 0.06068015843629837, 0.06149781867861748, 0.06173605099320412, 0.059517744928598404, 0.07178684324026108, 0.06150083616375923, 0.058278173208236694, 0.060657601803541183, 0.38086456060409546, 0.10045263916254044, 0.08417543768882751, 0.07004792243242264, 0.23104076087474823, 0.09902144968509674, 0.06568752974271774, 0.06098940595984459, 0.06229131668806076, 0.06126776337623596, 0.1273420751094818, 0.121335968375206, 0.20293475687503815, 0.17592020332813263, 0.08788719773292542, 0.06466313451528549, 0.10676038265228271, 0.09112433344125748, 0.06719468533992767, 0.07414783537387848, 0.05920414254069328, 0.05857314541935921, 0.1385098248720169, 0.09000229090452194, 0.09462030977010727, 0.06252471357584, 0.06500323116779327, 0.07281672209501266, 0.06379185616970062, 0.06962891668081284, 0.06055131554603577, 0.060039423406124115, 0.05969037860631943, 0.059798404574394226, 0.061017174273729324, 0.05793418735265732, 0.05854799225926399, 0.057814013212919235, 0.05948111042380333, 0.05756893754005432, 0.058340270072221756, 0.05972530320286751, 0.05682390555739403, 0.06246418133378029, 0.0636628121137619, 0.05694607272744179, 0.05756920948624611, 0.05692354217171669, 0.05690060555934906, 0.056713152676820755, 0.05812205746769905, 0.0787964016199112, 0.057028092443943024, 0.21529996395111084, 0.059359919279813766, 0.059876278042793274, 0.0618693009018898, 0.0655052661895752, 0.08429864048957825, 0.058175306767225266, 0.059025704860687256, 0.05650521069765091, 0.10349688678979874, 0.10473470389842987, 0.11577752232551575, 0.07290860265493393, 0.07594761997461319, 0.06755880266427994, 0.30157795548439026, 0.06388874351978302, 0.05954981595277786, 0.06001114845275879, 0.05780636891722679, 0.06367650628089905, 0.05870293825864792, 0.057581089437007904, 0.058570753782987595, 0.23183053731918335, 0.12316585332155228, 0.08041473478078842, 0.06409060955047607, 0.0583331324160099, 0.05990181118249893, 0.060001440346241, 0.06024227291345596, 0.05959246680140495, 0.060021549463272095, 0.05958866328001022, 0.07165337353944778, 0.060500096529722214, 0.059470292180776596, 0.058734554797410965, 0.061679989099502563, 0.05939585715532303, 0.05762140452861786, 0.06048635020852089, 0.05714072659611702, 0.0576842799782753, 0.0596129335463047, 0.06264809519052505, 0.05678120255470276, 0.05645705759525299, 0.11261804401874542, 0.0710422620177269, 0.06730610132217407, 0.057574912905693054, 0.057333964854478836, 0.09935808181762695, 0.06032700464129448, 0.11843298375606537, 0.06983797252178192, 0.0591699592769146, 0.2554410994052887, 0.05883779376745224, 0.05756340175867081, 0.05886179208755493, 0.06491360813379288, 0.05907324329018593, 0.05885843560099602, 0.09676438570022583, 0.06292508542537689, 0.35258689522743225, 0.17379148304462433, 0.13658319413661957, 0.10948173701763153, 0.07280062884092331, 0.06574402004480362, 0.058302197605371475, 0.05881137773394585, 0.08718261867761612, 0.06044139713048935, 0.05891885235905647]}, {\"line\": {\"color\": \"red\"}, \"mode\": \"lines\", \"name\": \"Test Loss\", \"type\": \"scatter\", \"x\": [0, 1, 2, 3, 4, 5, 6, 7, 8, 9, 10, 11, 12, 13, 14, 15, 16, 17, 18, 19, 20, 21, 22, 23, 24, 25, 26, 27, 28, 29, 30, 31, 32, 33, 34, 35, 36, 37, 38, 39, 40, 41, 42, 43, 44, 45, 46, 47, 48, 49, 50, 51, 52, 53, 54, 55, 56, 57, 58, 59, 60, 61, 62, 63, 64, 65, 66, 67, 68, 69, 70, 71, 72, 73, 74, 75, 76, 77, 78, 79, 80, 81, 82, 83, 84, 85, 86, 87, 88, 89, 90, 91, 92, 93, 94, 95, 96, 97, 98, 99, 100, 101, 102, 103, 104, 105, 106, 107, 108, 109, 110, 111, 112, 113, 114, 115, 116, 117, 118, 119, 120, 121, 122, 123, 124, 125, 126, 127, 128, 129, 130, 131, 132, 133, 134, 135, 136, 137, 138, 139, 140, 141, 142, 143, 144, 145, 146, 147, 148, 149, 150, 151, 152, 153, 154, 155, 156, 157, 158, 159, 160, 161, 162, 163, 164, 165, 166, 167, 168, 169, 170, 171, 172, 173, 174, 175, 176, 177, 178, 179, 180, 181, 182, 183, 184, 185, 186, 187, 188, 189, 190, 191, 192, 193, 194, 195, 196, 197, 198, 199, 200, 201, 202, 203, 204, 205, 206, 207, 208, 209, 210, 211, 212, 213, 214, 215, 216, 217, 218, 219, 220, 221, 222, 223, 224, 225, 226, 227, 228, 229, 230, 231, 232, 233, 234, 235, 236, 237, 238, 239, 240, 241, 242, 243, 244, 245, 246, 247, 248, 249, 250, 251, 252, 253, 254, 255, 256, 257, 258, 259, 260, 261, 262, 263, 264, 265, 266, 267, 268, 269, 270, 271, 272, 273, 274, 275, 276, 277, 278, 279, 280, 281, 282, 283, 284, 285, 286, 287, 288, 289, 290, 291, 292, 293, 294, 295, 296, 297, 298, 299, 300, 301, 302, 303, 304, 305, 306, 307, 308, 309, 310, 311, 312, 313, 314, 315, 316, 317, 318, 319, 320, 321, 322, 323, 324, 325, 326, 327, 328, 329, 330, 331, 332, 333, 334, 335, 336, 337, 338, 339, 340, 341, 342, 343, 344, 345, 346, 347, 348, 349, 350, 351, 352, 353, 354, 355, 356, 357, 358, 359, 360, 361, 362, 363, 364, 365, 366, 367, 368, 369, 370, 371, 372, 373, 374, 375, 376, 377, 378, 379, 380, 381, 382, 383, 384, 385, 386, 387, 388, 389, 390, 391, 392, 393, 394, 395, 396, 397, 398, 399, 400, 401, 402, 403, 404, 405, 406, 407, 408, 409, 410, 411, 412, 413, 414, 415, 416, 417, 418, 419, 420, 421, 422, 423, 424, 425, 426, 427, 428, 429, 430, 431, 432, 433, 434, 435, 436, 437, 438, 439, 440, 441, 442, 443, 444, 445, 446, 447, 448, 449, 450, 451, 452, 453, 454, 455, 456, 457, 458, 459, 460, 461, 462, 463, 464, 465, 466, 467, 468, 469, 470, 471, 472, 473, 474, 475, 476, 477, 478, 479, 480, 481, 482, 483, 484, 485, 486, 487, 488, 489, 490, 491, 492, 493, 494, 495, 496, 497, 498, 499], \"y\": [0.5862255096435547, 0.5546345114707947, 0.47918078303337097, 0.45888739824295044, 0.41363078355789185, 0.39666786789894104, 0.38181978464126587, 0.3575860261917114, 0.37014737725257874, 0.3357737958431244, 0.35120028257369995, 0.32324695587158203, 0.314801961183548, 0.3269296884536743, 0.26690006256103516, 0.2339666187763214, 0.22052131593227386, 0.28029125928878784, 0.20711715519428253, 0.2968347668647766, 0.21720381081104279, 0.2291436791419983, 0.24137316644191742, 0.27366378903388977, 0.2105865329504013, 0.22664663195610046, 0.247324600815773, 0.2358485907316208, 0.21953058242797852, 0.23308610916137695, 0.21643264591693878, 0.17679578065872192, 0.2202002853155136, 0.2188854217529297, 0.17744429409503937, 0.18364217877388, 0.19241486489772797, 0.1820979118347168, 0.20120535790920258, 0.1772865504026413, 0.20643454790115356, 0.20922933518886566, 0.17759588360786438, 0.21008606255054474, 0.145628422498703, 0.17139479517936707, 0.1948249787092209, 0.1726953536272049, 0.16860289871692657, 0.18099506199359894, 0.14338544011116028, 0.15233518183231354, 0.14510472118854523, 0.15120452642440796, 0.16083170473575592, 0.15400679409503937, 0.13683441281318665, 0.13665971159934998, 0.17464633285999298, 0.12345293164253235, 0.14694754779338837, 0.22113439440727234, 0.1734662652015686, 0.20744988322257996, 0.17647157609462738, 0.1536741554737091, 0.15345405042171478, 0.145648792386055, 0.14301306009292603, 0.13582827150821686, 0.14248424768447876, 0.14788079261779785, 0.17432019114494324, 0.18377529084682465, 0.13869518041610718, 0.1977214813232422, 0.16824394464492798, 0.14488308131694794, 0.14914244413375854, 0.1432240605354309, 0.1476689875125885, 0.14708298444747925, 0.12381629645824432, 0.1350453495979309, 0.14738069474697113, 0.1563977748155594, 0.13852794468402863, 0.15507227182388306, 0.13893599808216095, 0.12338587641716003, 0.2709369361400604, 0.13512760400772095, 0.12453719228506088, 0.11698850244283676, 0.15743643045425415, 0.14261627197265625, 0.12440339475870132, 0.20281270146369934, 0.12021490931510925, 0.1549782156944275, 0.15880295634269714, 0.14880262315273285, 0.22445249557495117, 0.15252043306827545, 0.14098034799098969, 0.1300130933523178, 0.1289018988609314, 0.12482842057943344, 0.1390807181596756, 0.1431906372308731, 0.11583034694194794, 0.12437035143375397, 0.12989278137683868, 0.12715797126293182, 0.1420835554599762, 0.14560531079769135, 0.1287386268377304, 0.1384935975074768, 0.12034661322832108, 0.14957624673843384, 0.18850789964199066, 0.13222534954547882, 0.16913838684558868, 0.1817224621772766, 0.11840042471885681, 0.14269764721393585, 0.10807033628225327, 0.19863824546337128, 0.12811073660850525, 0.12003812193870544, 0.17866331338882446, 0.13438014686107635, 0.12540489435195923, 0.17687542736530304, 0.1264009177684784, 0.11455020308494568, 0.1411474198102951, 0.14545875787734985, 0.15393342077732086, 0.13152571022510529, 0.13940301537513733, 0.1207386702299118, 0.1271093785762787, 0.14432862401008606, 0.13025924563407898, 0.1264132410287857, 0.13649418950080872, 0.15574845671653748, 0.15279586613178253, 0.12127527594566345, 0.15551909804344177, 0.15360236167907715, 0.12692920863628387, 0.10429581254720688, 0.16930589079856873, 0.142481729388237, 0.16862048208713531, 0.20367391407489777, 0.1756923496723175, 0.1625438630580902, 0.1958935558795929, 0.13165169954299927, 0.13220685720443726, 0.17499133944511414, 0.1207694336771965, 0.18473577499389648, 0.11342837661504745, 0.15966418385505676, 0.18820570409297943, 0.1933649480342865, 0.13524369895458221, 0.15382766723632812, 0.1389118731021881, 0.14381533861160278, 0.14519451558589935, 0.14541621506214142, 0.17528514564037323, 0.1300876885652542, 0.151814267039299, 0.18609243631362915, 0.16357778012752533, 0.20841315388679504, 0.1184549629688263, 0.18619659543037415, 0.18268562853336334, 0.17916709184646606, 0.12255151569843292, 0.20799702405929565, 0.14331775903701782, 0.1520148068666458, 0.19048552215099335, 0.20941530168056488, 0.2059953659772873, 0.1802361011505127, 0.1236819475889206, 0.17062510550022125, 0.09911713004112244, 0.19171735644340515, 0.17423893511295319, 0.14953097701072693, 0.11212528496980667, 0.16233322024345398, 0.47433507442474365, 0.19385971128940582, 0.11487222462892532, 0.1135929748415947, 0.2033819854259491, 0.2630995213985443, 0.12535697221755981, 0.12889277935028076, 0.1519971340894699, 0.1173103004693985, 0.13385994732379913, 0.15386708080768585, 0.20243801176548004, 0.11314951628446579, 0.1720307320356369, 0.12726791203022003, 0.19119368493556976, 0.20577213168144226, 0.1276550143957138, 0.125947505235672, 0.12838903069496155, 0.11775922030210495, 0.15550754964351654, 0.1413821130990982, 0.15041333436965942, 0.1353546530008316, 0.1420506089925766, 0.1176946833729744, 0.16678692400455475, 0.1654828041791916, 0.1507558822631836, 0.15480615198612213, 0.2084326148033142, 0.20865438878536224, 0.1055072546005249, 0.16189834475517273, 0.12500885128974915, 0.1723492443561554, 0.13615918159484863, 0.1724659949541092, 0.19590790569782257, 0.26467180252075195, 0.11004935950040817, 0.14076057076454163, 0.15376345813274384, 0.11909735202789307, 0.2254544198513031, 0.1250448077917099, 0.2128639966249466, 0.22749033570289612, 0.2130102515220642, 0.2049420028924942, 0.10516059398651123, 0.15301033854484558, 0.1852804273366928, 0.11114992201328278, 0.1861533373594284, 0.12835052609443665, 0.16959938406944275, 0.18376114964485168, 0.2883128523826599, 0.17902064323425293, 0.12725433707237244, 0.13458167016506195, 0.23912304639816284, 0.19009628891944885, 0.2300446480512619, 0.18945854902267456, 0.24820812046527863, 0.25996580719947815, 0.1283331960439682, 0.26727065443992615, 0.21516850590705872, 0.25777286291122437, 0.2496250718832016, 0.21287348866462708, 0.1003647893667221, 0.24992193281650543, 0.2504170536994934, 0.17474813759326935, 0.13529880344867706, 0.18996849656105042, 0.2500263452529907, 0.28020164370536804, 0.25027701258659363, 0.1089055985212326, 0.21025963127613068, 0.2400931566953659, 0.11204404383897781, 0.15686292946338654, 0.32584673166275024, 0.1346641629934311, 0.12315936386585236, 0.13683250546455383, 0.2501368820667267, 0.20347794890403748, 0.2259589284658432, 0.20605067908763885, 0.159526064991951, 0.2676713764667511, 0.25330042839050293, 0.16710512340068817, 0.280241459608078, 0.11333826184272766, 0.20385508239269257, 0.2696581482887268, 0.1805274337530136, 0.2634837031364441, 0.22241702675819397, 0.10910072922706604, 0.18441933393478394, 0.2680373787879944, 0.27647164463996887, 0.293457955121994, 0.28683486580848694, 0.17309977114200592, 0.21093183755874634, 0.1394629031419754, 0.20727786421775818, 0.15235227346420288, 0.22214943170547485, 0.2948136329650879, 0.23896823823451996, 0.2735515832901001, 0.2815718352794647, 0.1431807577610016, 0.2146611213684082, 0.15818677842617035, 0.40064331889152527, 0.2875937521457672, 0.28386878967285156, 0.10844942927360535, 0.12790879607200623, 0.33006012439727783, 0.14579321444034576, 0.22133053839206696, 0.27705472707748413, 0.2858898937702179, 0.2820582091808319, 0.26215317845344543, 0.10061188787221909, 0.20876248180866241, 0.3066863715648651, 0.34407854080200195, 0.2792849838733673, 0.14855258166790009, 0.24381180107593536, 0.10667218267917633, 0.20134234428405762, 0.24075323343276978, 0.26801156997680664, 0.27353334426879883, 0.24488721787929535, 0.23531979322433472, 0.28479546308517456, 0.1258562058210373, 0.4157063066959381, 0.38010236620903015, 0.3168526291847229, 0.284805566072464, 0.2648554742336273, 0.2926066815853119, 0.28779998421669006, 0.33596447110176086, 0.33133378624916077, 0.25641316175460815, 0.2286139279603958, 0.14963415265083313, 0.20480546355247498, 0.4025408923625946, 0.13235466182231903, 0.13667085766792297, 0.2464386522769928, 0.3662659227848053, 0.3568473160266876, 0.29793909192085266, 0.1184883564710617, 0.1147858127951622, 0.11171244084835052, 0.11718591302633286, 0.16060014069080353, 0.2632586359977722, 0.11849138140678406, 0.12495272606611252, 0.22969834506511688, 0.2055985927581787, 0.2728557288646698, 0.2922888398170471, 0.14517010748386383, 0.20141801238059998, 0.15219646692276, 0.25248631834983826, 0.24257142841815948, 0.19057728350162506, 0.23505832254886627, 0.21555998921394348, 0.28142741322517395, 0.29005393385887146, 0.37382572889328003, 0.29155534505844116, 0.2741890251636505, 0.31150081753730774, 0.31809982657432556, 0.34949347376823425, 0.28440767526626587, 0.3087977170944214, 0.27131983637809753, 0.27205467224121094, 0.3517565429210663, 0.24728110432624817, 0.23671555519104004, 0.4672216475009918, 0.32268425822257996, 0.36169490218162537, 0.3776738941669464, 0.44674167037010193, 0.27229002118110657, 0.1747758835554123, 0.39007240533828735, 0.10019238293170929, 0.20326606929302216, 0.21599335968494415, 0.23410440981388092, 0.21872630715370178, 0.16939428448677063, 0.32700225710868835, 0.22277821600437164, 0.3162383735179901, 0.11931867897510529, 0.22677190601825714, 0.1438780575990677, 0.21802322566509247, 0.18001526594161987, 0.20386390388011932, 0.18814639747142792, 0.2542709410190582, 0.23638099431991577, 0.24445770680904388, 0.26677390933036804, 0.21939851343631744, 0.4068017899990082, 0.29858630895614624, 0.2696887254714966, 0.13457010686397552, 0.1266646534204483, 0.14763493835926056, 0.23441734910011292, 0.27131742238998413, 0.22352422773838043, 0.24703620374202728, 0.2574664056301117, 0.2615996301174164, 0.2777247130870819, 0.27083826065063477, 0.21323736011981964, 0.25819694995880127, 0.2774919271469116, 0.2748405635356903, 0.23150497674942017, 0.252637654542923, 0.3121151626110077, 0.2643260657787323, 0.34672147035598755, 0.2858755886554718, 0.24050763249397278, 0.24166668951511383, 0.316641628742218, 0.3197483718395233, 0.12772057950496674, 0.22155576944351196, 0.2308053821325302, 0.3142939507961273, 0.3722345232963562, 0.12418030202388763, 0.32534852623939514, 0.12489371001720428, 0.22491982579231262, 0.30229806900024414, 0.10460454970598221, 0.25777551531791687, 0.3429967164993286, 0.460432231426239, 0.27369043231010437, 0.43647730350494385, 0.5377566814422607, 0.15370161831378937, 0.2304256409406662, 0.1891840547323227, 0.1613335907459259, 0.1144179031252861, 0.13864189386367798, 0.2566649615764618, 0.3938535749912262, 0.3506618142127991, 0.4370611608028412, 0.12527969479560852, 0.3214254677295685, 0.29893001914024353]}, {\"line\": {\"color\": \"green\", \"dash\": \"dash\"}, \"mode\": \"lines\", \"name\": \"Train Acc.\", \"type\": \"scatter\", \"x\": [0, 1, 2, 3, 4, 5, 6, 7, 8, 9, 10, 11, 12, 13, 14, 15, 16, 17, 18, 19, 20, 21, 22, 23, 24, 25, 26, 27, 28, 29, 30, 31, 32, 33, 34, 35, 36, 37, 38, 39, 40, 41, 42, 43, 44, 45, 46, 47, 48, 49, 50, 51, 52, 53, 54, 55, 56, 57, 58, 59, 60, 61, 62, 63, 64, 65, 66, 67, 68, 69, 70, 71, 72, 73, 74, 75, 76, 77, 78, 79, 80, 81, 82, 83, 84, 85, 86, 87, 88, 89, 90, 91, 92, 93, 94, 95, 96, 97, 98, 99, 100, 101, 102, 103, 104, 105, 106, 107, 108, 109, 110, 111, 112, 113, 114, 115, 116, 117, 118, 119, 120, 121, 122, 123, 124, 125, 126, 127, 128, 129, 130, 131, 132, 133, 134, 135, 136, 137, 138, 139, 140, 141, 142, 143, 144, 145, 146, 147, 148, 149, 150, 151, 152, 153, 154, 155, 156, 157, 158, 159, 160, 161, 162, 163, 164, 165, 166, 167, 168, 169, 170, 171, 172, 173, 174, 175, 176, 177, 178, 179, 180, 181, 182, 183, 184, 185, 186, 187, 188, 189, 190, 191, 192, 193, 194, 195, 196, 197, 198, 199, 200, 201, 202, 203, 204, 205, 206, 207, 208, 209, 210, 211, 212, 213, 214, 215, 216, 217, 218, 219, 220, 221, 222, 223, 224, 225, 226, 227, 228, 229, 230, 231, 232, 233, 234, 235, 236, 237, 238, 239, 240, 241, 242, 243, 244, 245, 246, 247, 248, 249, 250, 251, 252, 253, 254, 255, 256, 257, 258, 259, 260, 261, 262, 263, 264, 265, 266, 267, 268, 269, 270, 271, 272, 273, 274, 275, 276, 277, 278, 279, 280, 281, 282, 283, 284, 285, 286, 287, 288, 289, 290, 291, 292, 293, 294, 295, 296, 297, 298, 299, 300, 301, 302, 303, 304, 305, 306, 307, 308, 309, 310, 311, 312, 313, 314, 315, 316, 317, 318, 319, 320, 321, 322, 323, 324, 325, 326, 327, 328, 329, 330, 331, 332, 333, 334, 335, 336, 337, 338, 339, 340, 341, 342, 343, 344, 345, 346, 347, 348, 349, 350, 351, 352, 353, 354, 355, 356, 357, 358, 359, 360, 361, 362, 363, 364, 365, 366, 367, 368, 369, 370, 371, 372, 373, 374, 375, 376, 377, 378, 379, 380, 381, 382, 383, 384, 385, 386, 387, 388, 389, 390, 391, 392, 393, 394, 395, 396, 397, 398, 399, 400, 401, 402, 403, 404, 405, 406, 407, 408, 409, 410, 411, 412, 413, 414, 415, 416, 417, 418, 419, 420, 421, 422, 423, 424, 425, 426, 427, 428, 429, 430, 431, 432, 433, 434, 435, 436, 437, 438, 439, 440, 441, 442, 443, 444, 445, 446, 447, 448, 449, 450, 451, 452, 453, 454, 455, 456, 457, 458, 459, 460, 461, 462, 463, 464, 465, 466, 467, 468, 469, 470, 471, 472, 473, 474, 475, 476, 477, 478, 479, 480, 481, 482, 483, 484, 485, 486, 487, 488, 489, 490, 491, 492, 493, 494, 495, 496, 497, 498, 499], \"y\": [0.5428571428571428, 0.7, 0.7571428571428571, 0.8285714285714286, 0.8714285714285714, 0.9142857142857143, 0.9, 0.8714285714285714, 0.9, 0.9142857142857143, 0.9, 0.9, 0.9142857142857143, 0.9, 0.9428571428571428, 0.9, 0.9, 0.9142857142857143, 0.8714285714285714, 0.8857142857142857, 0.9428571428571428, 0.9428571428571428, 0.9428571428571428, 0.9, 0.9428571428571428, 0.9, 0.9428571428571428, 0.9428571428571428, 0.9428571428571428, 0.9428571428571428, 0.9571428571428572, 0.8857142857142857, 0.9142857142857143, 0.9571428571428572, 0.9571428571428572, 0.8714285714285714, 0.9571428571428572, 0.8857142857142857, 0.8857142857142857, 0.9571428571428572, 0.9285714285714286, 0.9285714285714286, 0.9428571428571428, 0.9857142857142858, 0.9428571428571428, 0.9571428571428572, 0.9571428571428572, 0.9285714285714286, 0.8857142857142857, 0.8857142857142857, 0.9428571428571428, 0.9571428571428572, 0.9142857142857143, 0.9142857142857143, 0.9571428571428572, 0.9, 0.9428571428571428, 0.9, 0.9857142857142858, 0.9285714285714286, 0.9571428571428572, 0.9714285714285714, 0.9714285714285714, 0.8428571428571429, 0.9571428571428572, 0.9571428571428572, 0.8857142857142857, 0.9, 0.8857142857142857, 0.9428571428571428, 0.9571428571428572, 0.9571428571428572, 0.8857142857142857, 0.9571428571428572, 0.9571428571428572, 0.8428571428571429, 0.9571428571428572, 0.9, 0.9571428571428572, 0.8857142857142857, 0.9571428571428572, 0.9571428571428572, 0.8857142857142857, 0.9428571428571428, 0.9571428571428572, 0.9714285714285714, 0.9571428571428572, 0.9571428571428572, 0.9285714285714286, 0.9571428571428572, 0.9714285714285714, 0.9571428571428572, 0.9285714285714286, 0.9428571428571428, 0.9857142857142858, 0.9571428571428572, 0.9428571428571428, 0.9857142857142858, 0.8857142857142857, 0.9571428571428572, 0.9571428571428572, 0.9571428571428572, 0.9714285714285714, 0.9571428571428572, 0.9571428571428572, 0.9285714285714286, 0.9, 0.8857142857142857, 0.9571428571428572, 0.9571428571428572, 0.8857142857142857, 0.9142857142857143, 0.8857142857142857, 0.8857142857142857, 0.9285714285714286, 0.8714285714285714, 0.9142857142857143, 0.9571428571428572, 0.9428571428571428, 0.9, 0.9857142857142858, 0.9571428571428572, 0.9857142857142858, 0.9857142857142858, 0.9428571428571428, 0.9714285714285714, 0.9, 0.9857142857142858, 0.8857142857142857, 0.9428571428571428, 0.9857142857142858, 0.9714285714285714, 0.9571428571428572, 0.9857142857142858, 0.9571428571428572, 0.8857142857142857, 0.9571428571428572, 0.9, 0.9571428571428572, 0.9285714285714286, 0.9571428571428572, 0.9571428571428572, 0.9571428571428572, 0.9571428571428572, 0.8714285714285714, 0.9571428571428572, 0.9571428571428572, 0.9571428571428572, 0.9571428571428572, 0.9571428571428572, 0.9714285714285714, 0.9571428571428572, 0.9571428571428572, 0.9, 0.9857142857142858, 0.9571428571428572, 0.9714285714285714, 0.9857142857142858, 0.9857142857142858, 0.9714285714285714, 0.9857142857142858, 0.9571428571428572, 0.9714285714285714, 0.9857142857142858, 0.9, 0.9857142857142858, 0.9285714285714286, 0.9571428571428572, 0.9857142857142858, 0.9857142857142858, 0.9571428571428572, 0.9571428571428572, 0.9571428571428572, 0.9571428571428572, 0.9714285714285714, 0.9571428571428572, 0.9857142857142858, 0.9571428571428572, 0.9571428571428572, 0.9857142857142858, 0.9857142857142858, 0.9857142857142858, 0.9142857142857143, 0.9857142857142858, 0.9857142857142858, 0.9857142857142858, 0.9571428571428572, 0.9857142857142858, 0.9857142857142858, 0.9714285714285714, 0.9857142857142858, 0.9857142857142858, 0.9857142857142858, 0.9857142857142858, 0.9285714285714286, 0.9857142857142858, 0.9142857142857143, 0.9857142857142858, 0.9857142857142858, 0.9571428571428572, 0.9428571428571428, 0.9714285714285714, 0.9714285714285714, 0.9857142857142858, 0.8857142857142857, 0.8857142857142857, 0.9857142857142858, 0.9857142857142858, 0.8857142857142857, 0.9571428571428572, 0.9714285714285714, 0.9571428571428572, 0.9857142857142858, 0.9857142857142858, 0.9857142857142858, 0.8857142857142857, 0.9857142857142858, 0.9285714285714286, 0.9857142857142858, 0.9857142857142858, 0.9, 0.8857142857142857, 0.9571428571428572, 0.9142857142857143, 0.9571428571428572, 0.9571428571428572, 0.9571428571428572, 0.9571428571428572, 0.9571428571428572, 0.9285714285714286, 0.9857142857142858, 0.9857142857142858, 0.9857142857142858, 0.9571428571428572, 0.9857142857142858, 0.9857142857142858, 0.8714285714285714, 0.9714285714285714, 0.8714285714285714, 0.9857142857142858, 0.9714285714285714, 0.9857142857142858, 0.9857142857142858, 0.9857142857142858, 0.8857142857142857, 0.8714285714285714, 0.9714285714285714, 0.9571428571428572, 0.9857142857142858, 0.9571428571428572, 0.9857142857142858, 0.9857142857142858, 0.9857142857142858, 0.9857142857142858, 0.9142857142857143, 0.9857142857142858, 0.9857142857142858, 0.9142857142857143, 0.9857142857142858, 0.8714285714285714, 0.9857142857142858, 0.9857142857142858, 0.9857142857142858, 0.9857142857142858, 0.9571428571428572, 0.9714285714285714, 0.9857142857142858, 0.9857142857142858, 0.9857142857142858, 0.9857142857142858, 0.9857142857142858, 0.9857142857142858, 0.8714285714285714, 0.9857142857142858, 0.9857142857142858, 0.9857142857142858, 0.9857142857142858, 0.9857142857142858, 0.8714285714285714, 0.9857142857142858, 0.9857142857142858, 0.9857142857142858, 0.9714285714285714, 0.9857142857142858, 0.9857142857142858, 0.9857142857142858, 0.9857142857142858, 0.9428571428571428, 0.9857142857142858, 0.9857142857142858, 0.8857142857142857, 0.9714285714285714, 0.9857142857142858, 0.8714285714285714, 0.9142857142857143, 0.9714285714285714, 0.9857142857142858, 0.9857142857142858, 0.9857142857142858, 0.9857142857142858, 0.9571428571428572, 0.9857142857142858, 0.9857142857142858, 0.9714285714285714, 0.9857142857142858, 0.9285714285714286, 0.9857142857142858, 0.9857142857142858, 0.9714285714285714, 0.9857142857142858, 0.9857142857142858, 0.8714285714285714, 0.9857142857142858, 0.9857142857142858, 0.9857142857142858, 0.9857142857142858, 0.9857142857142858, 0.8142857142857143, 0.9857142857142858, 0.9571428571428572, 0.9714285714285714, 0.9571428571428572, 0.9857142857142858, 0.9857142857142858, 0.9857142857142858, 0.9857142857142858, 0.9857142857142858, 0.9571428571428572, 0.9571428571428572, 0.9571428571428572, 0.9857142857142858, 0.9857142857142858, 0.9857142857142858, 0.8857142857142857, 0.9571428571428572, 0.9857142857142858, 0.9571428571428572, 0.9857142857142858, 0.9857142857142858, 0.9857142857142858, 0.9857142857142858, 0.9857142857142858, 0.9142857142857143, 0.9857142857142858, 0.9857142857142858, 0.9857142857142858, 0.9857142857142858, 0.8428571428571429, 0.9857142857142858, 0.9142857142857143, 0.9857142857142858, 0.9857142857142858, 0.9857142857142858, 0.9857142857142858, 0.9857142857142858, 0.9857142857142858, 0.9857142857142858, 0.9571428571428572, 0.9857142857142858, 0.9857142857142858, 0.9857142857142858, 0.9857142857142858, 0.9857142857142858, 0.9857142857142858, 0.9857142857142858, 0.9857142857142858, 0.9857142857142858, 0.9857142857142858, 0.7714285714285715, 0.9571428571428572, 0.9571428571428572, 0.9857142857142858, 0.8571428571428571, 0.9571428571428572, 0.9857142857142858, 0.9857142857142858, 0.9857142857142858, 0.9857142857142858, 0.9142857142857143, 0.9571428571428572, 0.8714285714285714, 0.8857142857142857, 0.9857142857142858, 0.9857142857142858, 0.9571428571428572, 0.9571428571428572, 0.9857142857142858, 0.9857142857142858, 0.9857142857142858, 0.9857142857142858, 0.9857142857142858, 0.9857142857142858, 0.9857142857142858, 0.9857142857142858, 0.9857142857142858, 0.9857142857142858, 0.9857142857142858, 0.9857142857142858, 0.9857142857142858, 0.9857142857142858, 0.9857142857142858, 0.9857142857142858, 0.9857142857142858, 0.9857142857142858, 0.9857142857142858, 0.9857142857142858, 0.9857142857142858, 0.9857142857142858, 0.9857142857142858, 0.9857142857142858, 0.9857142857142858, 0.9857142857142858, 0.9857142857142858, 0.9857142857142858, 0.9857142857142858, 0.9857142857142858, 0.9857142857142858, 0.9857142857142858, 0.9857142857142858, 0.9714285714285714, 0.9857142857142858, 0.8714285714285714, 0.9857142857142858, 0.9857142857142858, 0.9857142857142858, 0.9857142857142858, 0.9857142857142858, 0.9857142857142858, 0.9857142857142858, 0.9857142857142858, 0.9571428571428572, 0.9857142857142858, 0.9714285714285714, 0.9857142857142858, 0.9857142857142858, 0.9857142857142858, 0.7714285714285715, 0.9857142857142858, 0.9857142857142858, 0.9857142857142858, 0.9857142857142858, 0.9857142857142858, 0.9857142857142858, 0.9857142857142858, 0.9857142857142858, 0.8571428571428571, 0.9571428571428572, 0.9714285714285714, 0.9857142857142858, 0.9857142857142858, 0.9857142857142858, 0.9857142857142858, 0.9857142857142858, 0.9857142857142858, 0.9857142857142858, 0.9857142857142858, 0.9857142857142858, 0.9857142857142858, 0.9857142857142858, 0.9857142857142858, 0.9857142857142858, 0.9857142857142858, 0.9857142857142858, 0.9857142857142858, 0.9857142857142858, 0.9857142857142858, 0.9857142857142858, 0.9857142857142858, 0.9857142857142858, 0.9857142857142858, 0.9285714285714286, 0.9857142857142858, 0.9857142857142858, 0.9857142857142858, 0.9857142857142858, 0.9571428571428572, 0.9857142857142858, 0.9428571428571428, 0.9857142857142858, 0.9857142857142858, 0.8571428571428571, 0.9857142857142858, 0.9857142857142858, 0.9857142857142858, 0.9857142857142858, 0.9857142857142858, 0.9857142857142858, 0.9714285714285714, 0.9857142857142858, 0.8, 0.9142857142857143, 0.9142857142857143, 0.9857142857142858, 0.9857142857142858, 0.9857142857142858, 0.9857142857142858, 0.9857142857142858, 0.9571428571428572, 0.9857142857142858, 0.9857142857142858]}, {\"line\": {\"color\": \"green\"}, \"mode\": \"lines\", \"name\": \"Test Acc\", \"type\": \"scatter\", \"x\": [0, 1, 2, 3, 4, 5, 6, 7, 8, 9, 10, 11, 12, 13, 14, 15, 16, 17, 18, 19, 20, 21, 22, 23, 24, 25, 26, 27, 28, 29, 30, 31, 32, 33, 34, 35, 36, 37, 38, 39, 40, 41, 42, 43, 44, 45, 46, 47, 48, 49, 50, 51, 52, 53, 54, 55, 56, 57, 58, 59, 60, 61, 62, 63, 64, 65, 66, 67, 68, 69, 70, 71, 72, 73, 74, 75, 76, 77, 78, 79, 80, 81, 82, 83, 84, 85, 86, 87, 88, 89, 90, 91, 92, 93, 94, 95, 96, 97, 98, 99, 100, 101, 102, 103, 104, 105, 106, 107, 108, 109, 110, 111, 112, 113, 114, 115, 116, 117, 118, 119, 120, 121, 122, 123, 124, 125, 126, 127, 128, 129, 130, 131, 132, 133, 134, 135, 136, 137, 138, 139, 140, 141, 142, 143, 144, 145, 146, 147, 148, 149, 150, 151, 152, 153, 154, 155, 156, 157, 158, 159, 160, 161, 162, 163, 164, 165, 166, 167, 168, 169, 170, 171, 172, 173, 174, 175, 176, 177, 178, 179, 180, 181, 182, 183, 184, 185, 186, 187, 188, 189, 190, 191, 192, 193, 194, 195, 196, 197, 198, 199, 200, 201, 202, 203, 204, 205, 206, 207, 208, 209, 210, 211, 212, 213, 214, 215, 216, 217, 218, 219, 220, 221, 222, 223, 224, 225, 226, 227, 228, 229, 230, 231, 232, 233, 234, 235, 236, 237, 238, 239, 240, 241, 242, 243, 244, 245, 246, 247, 248, 249, 250, 251, 252, 253, 254, 255, 256, 257, 258, 259, 260, 261, 262, 263, 264, 265, 266, 267, 268, 269, 270, 271, 272, 273, 274, 275, 276, 277, 278, 279, 280, 281, 282, 283, 284, 285, 286, 287, 288, 289, 290, 291, 292, 293, 294, 295, 296, 297, 298, 299, 300, 301, 302, 303, 304, 305, 306, 307, 308, 309, 310, 311, 312, 313, 314, 315, 316, 317, 318, 319, 320, 321, 322, 323, 324, 325, 326, 327, 328, 329, 330, 331, 332, 333, 334, 335, 336, 337, 338, 339, 340, 341, 342, 343, 344, 345, 346, 347, 348, 349, 350, 351, 352, 353, 354, 355, 356, 357, 358, 359, 360, 361, 362, 363, 364, 365, 366, 367, 368, 369, 370, 371, 372, 373, 374, 375, 376, 377, 378, 379, 380, 381, 382, 383, 384, 385, 386, 387, 388, 389, 390, 391, 392, 393, 394, 395, 396, 397, 398, 399, 400, 401, 402, 403, 404, 405, 406, 407, 408, 409, 410, 411, 412, 413, 414, 415, 416, 417, 418, 419, 420, 421, 422, 423, 424, 425, 426, 427, 428, 429, 430, 431, 432, 433, 434, 435, 436, 437, 438, 439, 440, 441, 442, 443, 444, 445, 446, 447, 448, 449, 450, 451, 452, 453, 454, 455, 456, 457, 458, 459, 460, 461, 462, 463, 464, 465, 466, 467, 468, 469, 470, 471, 472, 473, 474, 475, 476, 477, 478, 479, 480, 481, 482, 483, 484, 485, 486, 487, 488, 489, 490, 491, 492, 493, 494, 495, 496, 497, 498, 499], \"y\": [0.7, 0.8333333333333334, 0.8666666666666667, 0.9, 0.9, 0.9, 0.9, 0.9, 0.9, 0.9, 0.9, 0.9, 0.9, 0.8666666666666667, 0.9, 0.9666666666666667, 0.9666666666666667, 0.9, 0.9666666666666667, 0.8666666666666667, 0.9, 0.9, 0.9, 0.9, 0.9, 0.9666666666666667, 0.9, 0.9, 0.8666666666666667, 0.9, 0.9, 0.9666666666666667, 0.9666666666666667, 0.9, 0.9333333333333333, 0.9666666666666667, 0.9333333333333333, 0.9666666666666667, 0.9666666666666667, 0.9666666666666667, 0.9666666666666667, 0.9666666666666667, 0.9666666666666667, 0.8666666666666667, 0.9666666666666667, 0.9666666666666667, 0.9, 0.9666666666666667, 0.9666666666666667, 0.9666666666666667, 0.9666666666666667, 0.9666666666666667, 0.9666666666666667, 0.9666666666666667, 0.9666666666666667, 0.9666666666666667, 0.9666666666666667, 0.9666666666666667, 0.9, 0.9666666666666667, 0.9666666666666667, 0.8666666666666667, 0.9, 0.9666666666666667, 0.9, 0.9666666666666667, 0.9666666666666667, 0.9666666666666667, 0.9666666666666667, 0.9666666666666667, 0.9666666666666667, 0.9333333333333333, 0.9666666666666667, 0.9, 0.9666666666666667, 0.9666666666666667, 0.9666666666666667, 0.9666666666666667, 0.9666666666666667, 0.9666666666666667, 0.9666666666666667, 0.9666666666666667, 0.9666666666666667, 0.9666666666666667, 0.9333333333333333, 0.9333333333333333, 0.9333333333333333, 0.9333333333333333, 0.9666666666666667, 0.9666666666666667, 0.8333333333333334, 0.9333333333333333, 0.9666666666666667, 0.9333333333333333, 0.9333333333333333, 0.9666666666666667, 0.9333333333333333, 0.8666666666666667, 0.9666666666666667, 0.8666666666666667, 0.9, 0.9333333333333333, 0.8666666666666667, 0.9333333333333333, 0.9666666666666667, 0.9666666666666667, 0.9666666666666667, 0.9666666666666667, 0.9666666666666667, 0.9333333333333333, 0.9666666666666667, 0.9666666666666667, 0.9666666666666667, 0.9666666666666667, 0.9666666666666667, 0.9666666666666667, 0.9666666666666667, 0.9333333333333333, 0.9666666666666667, 0.9666666666666667, 0.8666666666666667, 0.9333333333333333, 0.8666666666666667, 0.9, 0.9333333333333333, 0.9333333333333333, 0.9666666666666667, 0.9, 0.9666666666666667, 0.9333333333333333, 0.9666666666666667, 0.9333333333333333, 0.9666666666666667, 0.9, 0.9333333333333333, 0.9666666666666667, 0.9333333333333333, 0.9666666666666667, 0.9333333333333333, 0.9666666666666667, 0.9333333333333333, 0.9333333333333333, 0.9333333333333333, 0.9333333333333333, 0.9666666666666667, 0.9333333333333333, 0.9333333333333333, 0.9333333333333333, 0.9333333333333333, 0.9666666666666667, 0.9333333333333333, 0.9333333333333333, 0.9666666666666667, 0.9666666666666667, 0.9333333333333333, 0.9333333333333333, 0.9333333333333333, 0.9, 0.9333333333333333, 0.9333333333333333, 0.9333333333333333, 0.9333333333333333, 0.9333333333333333, 0.9666666666666667, 0.9666666666666667, 0.9, 0.9666666666666667, 0.8666666666666667, 0.9, 0.9, 0.9666666666666667, 0.9333333333333333, 0.9666666666666667, 0.9333333333333333, 0.9333333333333333, 0.9333333333333333, 0.9, 0.9666666666666667, 0.9, 0.9333333333333333, 0.9333333333333333, 0.9666666666666667, 0.9333333333333333, 0.9, 0.9666666666666667, 0.9333333333333333, 0.9333333333333333, 0.9666666666666667, 0.9333333333333333, 0.9333333333333333, 0.9333333333333333, 0.9333333333333333, 0.9333333333333333, 0.9, 0.9333333333333333, 0.9333333333333333, 0.9666666666666667, 0.9666666666666667, 0.9, 0.9333333333333333, 0.9333333333333333, 0.9333333333333333, 0.8666666666666667, 0.9, 0.9666666666666667, 0.9666666666666667, 0.9333333333333333, 0.9, 0.9666666666666667, 0.9333333333333333, 0.9333333333333333, 0.9666666666666667, 0.9333333333333333, 0.9333333333333333, 0.9, 0.9666666666666667, 0.9, 0.9666666666666667, 0.9, 0.9, 0.9666666666666667, 0.9666666666666667, 0.9666666666666667, 0.9666666666666667, 0.9666666666666667, 0.9666666666666667, 0.9333333333333333, 0.9333333333333333, 0.9333333333333333, 0.9666666666666667, 0.9333333333333333, 0.9333333333333333, 0.9333333333333333, 0.8666666666666667, 0.8666666666666667, 0.9333333333333333, 0.9666666666666667, 0.9, 0.9666666666666667, 0.9, 0.9333333333333333, 0.9333333333333333, 0.9, 0.9, 0.9666666666666667, 0.9666666666666667, 0.9, 0.9666666666666667, 0.8666666666666667, 0.9333333333333333, 0.9, 0.9, 0.9, 0.9, 0.9666666666666667, 0.9333333333333333, 0.9333333333333333, 0.9666666666666667, 0.9, 0.9666666666666667, 0.9, 0.8666666666666667, 0.8666666666666667, 0.9, 0.9333333333333333, 0.9333333333333333, 0.8666666666666667, 0.9, 0.9, 0.9, 0.9, 0.8666666666666667, 0.9666666666666667, 0.8666666666666667, 0.9, 0.8666666666666667, 0.9, 0.9, 0.9666666666666667, 0.9333333333333333, 0.9, 0.9333333333333333, 0.9333333333333333, 0.9333333333333333, 0.8666666666666667, 0.9, 0.9333333333333333, 0.9333333333333333, 0.9, 0.9, 0.9666666666666667, 0.9, 0.8666666666666667, 0.9666666666666667, 0.9666666666666667, 0.9333333333333333, 0.8666666666666667, 0.9333333333333333, 0.9, 0.9, 0.9, 0.9, 0.8666666666666667, 0.9, 0.8666666666666667, 0.9666666666666667, 0.9, 0.8666666666666667, 0.9333333333333333, 0.9333333333333333, 0.9333333333333333, 0.9666666666666667, 0.9, 0.8666666666666667, 0.9, 0.8666666666666667, 0.9333333333333333, 0.9, 0.9, 0.9333333333333333, 0.8666666666666667, 0.9, 0.8666666666666667, 0.9, 0.9, 0.9, 0.8666666666666667, 0.9333333333333333, 0.8666666666666667, 0.9, 0.8666666666666667, 0.9, 0.9, 0.9666666666666667, 0.9666666666666667, 0.8666666666666667, 0.9333333333333333, 0.9, 0.9, 0.9, 0.8666666666666667, 0.9, 0.9666666666666667, 0.9, 0.9, 0.9, 0.9333333333333333, 0.9333333333333333, 0.9666666666666667, 0.9333333333333333, 0.9333333333333333, 0.9666666666666667, 0.8666666666666667, 0.8666666666666667, 0.9333333333333333, 0.9333333333333333, 0.9333333333333333, 0.9666666666666667, 0.8666666666666667, 0.8666666666666667, 0.8666666666666667, 0.9, 0.9, 0.9, 0.8666666666666667, 0.8666666666666667, 0.8666666666666667, 0.9, 0.9, 0.9333333333333333, 0.8666666666666667, 0.9, 0.9666666666666667, 0.9333333333333333, 0.9, 0.8666666666666667, 0.8666666666666667, 0.8666666666666667, 0.9666666666666667, 0.9666666666666667, 0.9666666666666667, 0.9666666666666667, 0.9, 0.8666666666666667, 0.9333333333333333, 0.9333333333333333, 0.8666666666666667, 0.9, 0.9333333333333333, 0.9333333333333333, 0.9666666666666667, 0.9666666666666667, 0.9333333333333333, 0.9333333333333333, 0.9333333333333333, 0.9333333333333333, 0.9, 0.9333333333333333, 0.9, 0.9, 0.9, 0.9, 0.9, 0.9, 0.9333333333333333, 0.9, 0.9333333333333333, 0.9, 0.9333333333333333, 0.9333333333333333, 0.9, 0.9666666666666667, 0.9333333333333333, 0.9, 0.9333333333333333, 0.9, 0.9, 0.9, 0.9333333333333333, 0.9333333333333333, 0.8666666666666667, 0.9666666666666667, 0.9666666666666667, 0.9666666666666667, 0.9666666666666667, 0.9333333333333333, 0.9666666666666667, 0.9, 0.9666666666666667, 0.9, 0.9333333333333333, 0.8333333333333334, 0.9333333333333333, 0.8666666666666667, 0.9333333333333333, 0.9333333333333333, 0.9, 0.9333333333333333, 0.9333333333333333, 0.9666666666666667, 0.9333333333333333, 0.9666666666666667, 0.8666666666666667, 0.9, 0.9333333333333333, 0.9666666666666667, 0.9333333333333333, 0.9333333333333333, 0.9666666666666667, 0.9333333333333333, 0.9333333333333333, 0.9333333333333333, 0.9333333333333333, 0.9333333333333333, 0.9333333333333333, 0.9333333333333333, 0.9333333333333333, 0.9333333333333333, 0.9333333333333333, 0.9333333333333333, 0.9333333333333333, 0.9333333333333333, 0.9, 0.9333333333333333, 0.9, 0.9333333333333333, 0.9333333333333333, 0.9333333333333333, 0.9333333333333333, 0.9333333333333333, 0.9333333333333333, 0.9333333333333333, 0.9333333333333333, 0.9, 0.9, 0.9666666666666667, 0.9, 0.9333333333333333, 0.9333333333333333, 0.9, 0.9666666666666667, 0.9333333333333333, 0.9, 0.9, 0.9, 0.9, 0.8666666666666667, 0.9333333333333333, 0.9666666666666667, 0.9, 0.9333333333333333, 0.9666666666666667, 0.9333333333333333, 0.8666666666666667, 0.8666666666666667, 0.9, 0.9, 0.9333333333333333, 0.9, 0.9333333333333333]}],\n",
       "                        {\"template\": {\"data\": {\"bar\": [{\"error_x\": {\"color\": \"#2a3f5f\"}, \"error_y\": {\"color\": \"#2a3f5f\"}, \"marker\": {\"line\": {\"color\": \"#E5ECF6\", \"width\": 0.5}}, \"type\": \"bar\"}], \"barpolar\": [{\"marker\": {\"line\": {\"color\": \"#E5ECF6\", \"width\": 0.5}}, \"type\": \"barpolar\"}], \"carpet\": [{\"aaxis\": {\"endlinecolor\": \"#2a3f5f\", \"gridcolor\": \"white\", \"linecolor\": \"white\", \"minorgridcolor\": \"white\", \"startlinecolor\": \"#2a3f5f\"}, \"baxis\": {\"endlinecolor\": \"#2a3f5f\", \"gridcolor\": \"white\", \"linecolor\": \"white\", \"minorgridcolor\": \"white\", \"startlinecolor\": \"#2a3f5f\"}, \"type\": \"carpet\"}], \"choropleth\": [{\"colorbar\": {\"outlinewidth\": 0, \"ticks\": \"\"}, \"type\": \"choropleth\"}], \"contour\": [{\"colorbar\": {\"outlinewidth\": 0, \"ticks\": \"\"}, \"colorscale\": [[0.0, \"#0d0887\"], [0.1111111111111111, \"#46039f\"], [0.2222222222222222, \"#7201a8\"], [0.3333333333333333, \"#9c179e\"], [0.4444444444444444, \"#bd3786\"], [0.5555555555555556, \"#d8576b\"], [0.6666666666666666, \"#ed7953\"], [0.7777777777777778, \"#fb9f3a\"], [0.8888888888888888, \"#fdca26\"], [1.0, \"#f0f921\"]], \"type\": \"contour\"}], \"contourcarpet\": [{\"colorbar\": {\"outlinewidth\": 0, \"ticks\": \"\"}, \"type\": \"contourcarpet\"}], \"heatmap\": [{\"colorbar\": {\"outlinewidth\": 0, \"ticks\": \"\"}, \"colorscale\": [[0.0, \"#0d0887\"], [0.1111111111111111, \"#46039f\"], [0.2222222222222222, \"#7201a8\"], [0.3333333333333333, \"#9c179e\"], [0.4444444444444444, \"#bd3786\"], [0.5555555555555556, \"#d8576b\"], [0.6666666666666666, \"#ed7953\"], [0.7777777777777778, \"#fb9f3a\"], [0.8888888888888888, \"#fdca26\"], [1.0, \"#f0f921\"]], \"type\": \"heatmap\"}], \"heatmapgl\": [{\"colorbar\": {\"outlinewidth\": 0, \"ticks\": \"\"}, \"colorscale\": [[0.0, \"#0d0887\"], [0.1111111111111111, \"#46039f\"], [0.2222222222222222, \"#7201a8\"], [0.3333333333333333, \"#9c179e\"], [0.4444444444444444, \"#bd3786\"], [0.5555555555555556, \"#d8576b\"], [0.6666666666666666, \"#ed7953\"], [0.7777777777777778, \"#fb9f3a\"], [0.8888888888888888, \"#fdca26\"], [1.0, \"#f0f921\"]], \"type\": \"heatmapgl\"}], \"histogram\": [{\"marker\": {\"colorbar\": {\"outlinewidth\": 0, \"ticks\": \"\"}}, \"type\": \"histogram\"}], \"histogram2d\": [{\"colorbar\": {\"outlinewidth\": 0, \"ticks\": \"\"}, \"colorscale\": [[0.0, \"#0d0887\"], [0.1111111111111111, \"#46039f\"], [0.2222222222222222, \"#7201a8\"], [0.3333333333333333, \"#9c179e\"], [0.4444444444444444, \"#bd3786\"], [0.5555555555555556, \"#d8576b\"], [0.6666666666666666, \"#ed7953\"], [0.7777777777777778, \"#fb9f3a\"], [0.8888888888888888, \"#fdca26\"], [1.0, \"#f0f921\"]], \"type\": \"histogram2d\"}], \"histogram2dcontour\": [{\"colorbar\": {\"outlinewidth\": 0, \"ticks\": \"\"}, \"colorscale\": [[0.0, \"#0d0887\"], [0.1111111111111111, \"#46039f\"], [0.2222222222222222, \"#7201a8\"], [0.3333333333333333, \"#9c179e\"], [0.4444444444444444, \"#bd3786\"], [0.5555555555555556, \"#d8576b\"], [0.6666666666666666, \"#ed7953\"], [0.7777777777777778, \"#fb9f3a\"], [0.8888888888888888, \"#fdca26\"], [1.0, \"#f0f921\"]], \"type\": \"histogram2dcontour\"}], \"mesh3d\": [{\"colorbar\": {\"outlinewidth\": 0, \"ticks\": \"\"}, \"type\": \"mesh3d\"}], \"parcoords\": [{\"line\": {\"colorbar\": {\"outlinewidth\": 0, \"ticks\": \"\"}}, \"type\": \"parcoords\"}], \"pie\": [{\"automargin\": true, \"type\": \"pie\"}], \"scatter\": [{\"marker\": {\"colorbar\": {\"outlinewidth\": 0, \"ticks\": \"\"}}, \"type\": \"scatter\"}], \"scatter3d\": [{\"line\": {\"colorbar\": {\"outlinewidth\": 0, \"ticks\": \"\"}}, \"marker\": {\"colorbar\": {\"outlinewidth\": 0, \"ticks\": \"\"}}, \"type\": \"scatter3d\"}], \"scattercarpet\": [{\"marker\": {\"colorbar\": {\"outlinewidth\": 0, \"ticks\": \"\"}}, \"type\": \"scattercarpet\"}], \"scattergeo\": [{\"marker\": {\"colorbar\": {\"outlinewidth\": 0, \"ticks\": \"\"}}, \"type\": \"scattergeo\"}], \"scattergl\": [{\"marker\": {\"colorbar\": {\"outlinewidth\": 0, \"ticks\": \"\"}}, \"type\": \"scattergl\"}], \"scattermapbox\": [{\"marker\": {\"colorbar\": {\"outlinewidth\": 0, \"ticks\": \"\"}}, \"type\": \"scattermapbox\"}], \"scatterpolar\": [{\"marker\": {\"colorbar\": {\"outlinewidth\": 0, \"ticks\": \"\"}}, \"type\": \"scatterpolar\"}], \"scatterpolargl\": [{\"marker\": {\"colorbar\": {\"outlinewidth\": 0, \"ticks\": \"\"}}, \"type\": \"scatterpolargl\"}], \"scatterternary\": [{\"marker\": {\"colorbar\": {\"outlinewidth\": 0, \"ticks\": \"\"}}, \"type\": \"scatterternary\"}], \"surface\": [{\"colorbar\": {\"outlinewidth\": 0, \"ticks\": \"\"}, \"colorscale\": [[0.0, \"#0d0887\"], [0.1111111111111111, \"#46039f\"], [0.2222222222222222, \"#7201a8\"], [0.3333333333333333, \"#9c179e\"], [0.4444444444444444, \"#bd3786\"], [0.5555555555555556, \"#d8576b\"], [0.6666666666666666, \"#ed7953\"], [0.7777777777777778, \"#fb9f3a\"], [0.8888888888888888, \"#fdca26\"], [1.0, \"#f0f921\"]], \"type\": \"surface\"}], \"table\": [{\"cells\": {\"fill\": {\"color\": \"#EBF0F8\"}, \"line\": {\"color\": \"white\"}}, \"header\": {\"fill\": {\"color\": \"#C8D4E3\"}, \"line\": {\"color\": \"white\"}}, \"type\": \"table\"}]}, \"layout\": {\"annotationdefaults\": {\"arrowcolor\": \"#2a3f5f\", \"arrowhead\": 0, \"arrowwidth\": 1}, \"coloraxis\": {\"colorbar\": {\"outlinewidth\": 0, \"ticks\": \"\"}}, \"colorscale\": {\"diverging\": [[0, \"#8e0152\"], [0.1, \"#c51b7d\"], [0.2, \"#de77ae\"], [0.3, \"#f1b6da\"], [0.4, \"#fde0ef\"], [0.5, \"#f7f7f7\"], [0.6, \"#e6f5d0\"], [0.7, \"#b8e186\"], [0.8, \"#7fbc41\"], [0.9, \"#4d9221\"], [1, \"#276419\"]], \"sequential\": [[0.0, \"#0d0887\"], [0.1111111111111111, \"#46039f\"], [0.2222222222222222, \"#7201a8\"], [0.3333333333333333, \"#9c179e\"], [0.4444444444444444, \"#bd3786\"], [0.5555555555555556, \"#d8576b\"], [0.6666666666666666, \"#ed7953\"], [0.7777777777777778, \"#fb9f3a\"], [0.8888888888888888, \"#fdca26\"], [1.0, \"#f0f921\"]], \"sequentialminus\": [[0.0, \"#0d0887\"], [0.1111111111111111, \"#46039f\"], [0.2222222222222222, \"#7201a8\"], [0.3333333333333333, \"#9c179e\"], [0.4444444444444444, \"#bd3786\"], [0.5555555555555556, \"#d8576b\"], [0.6666666666666666, \"#ed7953\"], [0.7777777777777778, \"#fb9f3a\"], [0.8888888888888888, \"#fdca26\"], [1.0, \"#f0f921\"]]}, \"colorway\": [\"#636efa\", \"#EF553B\", \"#00cc96\", \"#ab63fa\", \"#FFA15A\", \"#19d3f3\", \"#FF6692\", \"#B6E880\", \"#FF97FF\", \"#FECB52\"], \"font\": {\"color\": \"#2a3f5f\"}, \"geo\": {\"bgcolor\": \"white\", \"lakecolor\": \"white\", \"landcolor\": \"#E5ECF6\", \"showlakes\": true, \"showland\": true, \"subunitcolor\": \"white\"}, \"hoverlabel\": {\"align\": \"left\"}, \"hovermode\": \"closest\", \"mapbox\": {\"style\": \"light\"}, \"paper_bgcolor\": \"white\", \"plot_bgcolor\": \"#E5ECF6\", \"polar\": {\"angularaxis\": {\"gridcolor\": \"white\", \"linecolor\": \"white\", \"ticks\": \"\"}, \"bgcolor\": \"#E5ECF6\", \"radialaxis\": {\"gridcolor\": \"white\", \"linecolor\": \"white\", \"ticks\": \"\"}}, \"scene\": {\"xaxis\": {\"backgroundcolor\": \"#E5ECF6\", \"gridcolor\": \"white\", \"gridwidth\": 2, \"linecolor\": \"white\", \"showbackground\": true, \"ticks\": \"\", \"zerolinecolor\": \"white\"}, \"yaxis\": {\"backgroundcolor\": \"#E5ECF6\", \"gridcolor\": \"white\", \"gridwidth\": 2, \"linecolor\": \"white\", \"showbackground\": true, \"ticks\": \"\", \"zerolinecolor\": \"white\"}, \"zaxis\": {\"backgroundcolor\": \"#E5ECF6\", \"gridcolor\": \"white\", \"gridwidth\": 2, \"linecolor\": \"white\", \"showbackground\": true, \"ticks\": \"\", \"zerolinecolor\": \"white\"}}, \"shapedefaults\": {\"line\": {\"color\": \"#2a3f5f\"}}, \"ternary\": {\"aaxis\": {\"gridcolor\": \"white\", \"linecolor\": \"white\", \"ticks\": \"\"}, \"baxis\": {\"gridcolor\": \"white\", \"linecolor\": \"white\", \"ticks\": \"\"}, \"bgcolor\": \"#E5ECF6\", \"caxis\": {\"gridcolor\": \"white\", \"linecolor\": \"white\", \"ticks\": \"\"}}, \"title\": {\"x\": 0.05}, \"xaxis\": {\"automargin\": true, \"gridcolor\": \"white\", \"linecolor\": \"white\", \"ticks\": \"\", \"title\": {\"standoff\": 15}, \"zerolinecolor\": \"white\", \"zerolinewidth\": 2}, \"yaxis\": {\"automargin\": true, \"gridcolor\": \"white\", \"linecolor\": \"white\", \"ticks\": \"\", \"title\": {\"standoff\": 15}, \"zerolinecolor\": \"white\", \"zerolinewidth\": 2}}}, \"title\": {\"text\": \"Modeling Results\"}},\n",
       "                        {\"responsive\": true}\n",
       "                    ).then(function(){\n",
       "                            \n",
       "var gd = document.getElementById('62835883-518e-4e6e-b21a-e618ee1d40d8');\n",
       "var x = new MutationObserver(function (mutations, observer) {{\n",
       "        var display = window.getComputedStyle(gd).display;\n",
       "        if (!display || display === 'none') {{\n",
       "            console.log([gd, 'removed!']);\n",
       "            Plotly.purge(gd);\n",
       "            observer.disconnect();\n",
       "        }}\n",
       "}});\n",
       "\n",
       "// Listen for the removal of the full notebook cells\n",
       "var notebookContainer = gd.closest('#notebook-container');\n",
       "if (notebookContainer) {{\n",
       "    x.observe(notebookContainer, {childList: true});\n",
       "}}\n",
       "\n",
       "// Listen for the clearing of the current output cell\n",
       "var outputEl = gd.closest('.output');\n",
       "if (outputEl) {{\n",
       "    x.observe(outputEl, {childList: true});\n",
       "}}\n",
       "\n",
       "                        })\n",
       "                };\n",
       "                });\n",
       "            </script>\n",
       "        </div>"
      ]
     },
     "metadata": {},
     "output_type": "display_data"
    }
   ],
   "source": [
    "# visualize loss & accuracy progressions\n",
    "x = list(range(epochs))\n",
    "lossesAccs = np.asarray([(rl.item(), tl.item(), ra.item(), ta.item()) for (rl, tl, ra, ta)\n",
    "                         in zip(trnLoss, tstLoss, trnAcc, tstAcc)])\n",
    "\n",
    "trc = [go.Scatter({'x':x, 'y':lossesAccs[:,0], 'name':'Train Loss', 'mode':'lines',\n",
    "                   'line':{'color':'red', 'dash':'dash'}}),\n",
    "       go.Scatter({'x':x, 'y':lossesAccs[:,1], 'name':'Test Loss', 'mode':'lines',\n",
    "                   'line':{'color':'red'}}),\n",
    "       go.Scatter({'x':x, 'y':lossesAccs[:,2], 'name':'Train Acc.', 'mode':'lines',\n",
    "                   'line':{'color':'green', 'dash':'dash'}}),\n",
    "       go.Scatter({'x':x, 'y':lossesAccs[:,3], 'name':'Test Acc', 'mode':'lines',\n",
    "                   'line':{'color':'green'}})]\n",
    "plyoff.iplot(go.Figure(data=trc, layout=go.Layout(title='Modeling Results')))"
   ]
  },
  {
   "cell_type": "code",
   "execution_count": 8,
   "metadata": {},
   "outputs": [
    {
     "name": "stdout",
     "output_type": "stream",
     "text": [
      "Testing Set Results\n"
     ]
    },
    {
     "data": {
      "text/html": [
       "<div>\n",
       "<style scoped>\n",
       "    .dataframe tbody tr th:only-of-type {\n",
       "        vertical-align: middle;\n",
       "    }\n",
       "\n",
       "    .dataframe tbody tr th {\n",
       "        vertical-align: top;\n",
       "    }\n",
       "\n",
       "    .dataframe thead th {\n",
       "        text-align: right;\n",
       "    }\n",
       "</style>\n",
       "<table border=\"1\" class=\"dataframe\">\n",
       "  <thead>\n",
       "    <tr style=\"text-align: right;\">\n",
       "      <th></th>\n",
       "      <th>y</th>\n",
       "      <th>yhat</th>\n",
       "      <th>Predict</th>\n",
       "      <th>Correct</th>\n",
       "    </tr>\n",
       "  </thead>\n",
       "  <tbody>\n",
       "    <tr>\n",
       "      <th>0</th>\n",
       "      <td>1.0</td>\n",
       "      <td>0.999998</td>\n",
       "      <td>1</td>\n",
       "      <td>True</td>\n",
       "    </tr>\n",
       "    <tr>\n",
       "      <th>1</th>\n",
       "      <td>0.0</td>\n",
       "      <td>0.000939</td>\n",
       "      <td>0</td>\n",
       "      <td>True</td>\n",
       "    </tr>\n",
       "    <tr>\n",
       "      <th>2</th>\n",
       "      <td>1.0</td>\n",
       "      <td>0.006012</td>\n",
       "      <td>0</td>\n",
       "      <td>False</td>\n",
       "    </tr>\n",
       "    <tr>\n",
       "      <th>3</th>\n",
       "      <td>0.0</td>\n",
       "      <td>0.000926</td>\n",
       "      <td>0</td>\n",
       "      <td>True</td>\n",
       "    </tr>\n",
       "    <tr>\n",
       "      <th>4</th>\n",
       "      <td>0.0</td>\n",
       "      <td>0.001166</td>\n",
       "      <td>0</td>\n",
       "      <td>True</td>\n",
       "    </tr>\n",
       "    <tr>\n",
       "      <th>5</th>\n",
       "      <td>1.0</td>\n",
       "      <td>0.999306</td>\n",
       "      <td>1</td>\n",
       "      <td>True</td>\n",
       "    </tr>\n",
       "    <tr>\n",
       "      <th>6</th>\n",
       "      <td>1.0</td>\n",
       "      <td>0.999648</td>\n",
       "      <td>1</td>\n",
       "      <td>True</td>\n",
       "    </tr>\n",
       "    <tr>\n",
       "      <th>7</th>\n",
       "      <td>0.0</td>\n",
       "      <td>0.000279</td>\n",
       "      <td>0</td>\n",
       "      <td>True</td>\n",
       "    </tr>\n",
       "    <tr>\n",
       "      <th>8</th>\n",
       "      <td>1.0</td>\n",
       "      <td>1.000000</td>\n",
       "      <td>1</td>\n",
       "      <td>True</td>\n",
       "    </tr>\n",
       "    <tr>\n",
       "      <th>9</th>\n",
       "      <td>1.0</td>\n",
       "      <td>0.778061</td>\n",
       "      <td>1</td>\n",
       "      <td>True</td>\n",
       "    </tr>\n",
       "    <tr>\n",
       "      <th>10</th>\n",
       "      <td>1.0</td>\n",
       "      <td>0.568029</td>\n",
       "      <td>1</td>\n",
       "      <td>True</td>\n",
       "    </tr>\n",
       "    <tr>\n",
       "      <th>11</th>\n",
       "      <td>0.0</td>\n",
       "      <td>0.000267</td>\n",
       "      <td>0</td>\n",
       "      <td>True</td>\n",
       "    </tr>\n",
       "    <tr>\n",
       "      <th>12</th>\n",
       "      <td>0.0</td>\n",
       "      <td>0.000393</td>\n",
       "      <td>0</td>\n",
       "      <td>True</td>\n",
       "    </tr>\n",
       "    <tr>\n",
       "      <th>13</th>\n",
       "      <td>1.0</td>\n",
       "      <td>0.999602</td>\n",
       "      <td>1</td>\n",
       "      <td>True</td>\n",
       "    </tr>\n",
       "    <tr>\n",
       "      <th>14</th>\n",
       "      <td>0.0</td>\n",
       "      <td>0.000308</td>\n",
       "      <td>0</td>\n",
       "      <td>True</td>\n",
       "    </tr>\n",
       "    <tr>\n",
       "      <th>15</th>\n",
       "      <td>1.0</td>\n",
       "      <td>0.999997</td>\n",
       "      <td>1</td>\n",
       "      <td>True</td>\n",
       "    </tr>\n",
       "    <tr>\n",
       "      <th>16</th>\n",
       "      <td>1.0</td>\n",
       "      <td>0.999767</td>\n",
       "      <td>1</td>\n",
       "      <td>True</td>\n",
       "    </tr>\n",
       "    <tr>\n",
       "      <th>17</th>\n",
       "      <td>0.0</td>\n",
       "      <td>0.000290</td>\n",
       "      <td>0</td>\n",
       "      <td>True</td>\n",
       "    </tr>\n",
       "    <tr>\n",
       "      <th>18</th>\n",
       "      <td>0.0</td>\n",
       "      <td>0.000567</td>\n",
       "      <td>0</td>\n",
       "      <td>True</td>\n",
       "    </tr>\n",
       "    <tr>\n",
       "      <th>19</th>\n",
       "      <td>0.0</td>\n",
       "      <td>0.001162</td>\n",
       "      <td>0</td>\n",
       "      <td>True</td>\n",
       "    </tr>\n",
       "    <tr>\n",
       "      <th>20</th>\n",
       "      <td>0.0</td>\n",
       "      <td>0.000963</td>\n",
       "      <td>0</td>\n",
       "      <td>True</td>\n",
       "    </tr>\n",
       "    <tr>\n",
       "      <th>21</th>\n",
       "      <td>0.0</td>\n",
       "      <td>0.000204</td>\n",
       "      <td>0</td>\n",
       "      <td>True</td>\n",
       "    </tr>\n",
       "    <tr>\n",
       "      <th>22</th>\n",
       "      <td>0.0</td>\n",
       "      <td>0.000276</td>\n",
       "      <td>0</td>\n",
       "      <td>True</td>\n",
       "    </tr>\n",
       "    <tr>\n",
       "      <th>23</th>\n",
       "      <td>0.0</td>\n",
       "      <td>0.000330</td>\n",
       "      <td>0</td>\n",
       "      <td>True</td>\n",
       "    </tr>\n",
       "    <tr>\n",
       "      <th>24</th>\n",
       "      <td>1.0</td>\n",
       "      <td>0.789059</td>\n",
       "      <td>1</td>\n",
       "      <td>True</td>\n",
       "    </tr>\n",
       "    <tr>\n",
       "      <th>25</th>\n",
       "      <td>0.0</td>\n",
       "      <td>0.372490</td>\n",
       "      <td>0</td>\n",
       "      <td>True</td>\n",
       "    </tr>\n",
       "    <tr>\n",
       "      <th>26</th>\n",
       "      <td>1.0</td>\n",
       "      <td>0.501632</td>\n",
       "      <td>1</td>\n",
       "      <td>True</td>\n",
       "    </tr>\n",
       "    <tr>\n",
       "      <th>27</th>\n",
       "      <td>1.0</td>\n",
       "      <td>0.996954</td>\n",
       "      <td>1</td>\n",
       "      <td>True</td>\n",
       "    </tr>\n",
       "    <tr>\n",
       "      <th>28</th>\n",
       "      <td>1.0</td>\n",
       "      <td>1.000000</td>\n",
       "      <td>1</td>\n",
       "      <td>True</td>\n",
       "    </tr>\n",
       "    <tr>\n",
       "      <th>29</th>\n",
       "      <td>1.0</td>\n",
       "      <td>0.195588</td>\n",
       "      <td>0</td>\n",
       "      <td>False</td>\n",
       "    </tr>\n",
       "  </tbody>\n",
       "</table>\n",
       "</div>"
      ],
      "text/plain": [
       "      y      yhat  Predict  Correct\n",
       "0   1.0  0.999998        1     True\n",
       "1   0.0  0.000939        0     True\n",
       "2   1.0  0.006012        0    False\n",
       "3   0.0  0.000926        0     True\n",
       "4   0.0  0.001166        0     True\n",
       "5   1.0  0.999306        1     True\n",
       "6   1.0  0.999648        1     True\n",
       "7   0.0  0.000279        0     True\n",
       "8   1.0  1.000000        1     True\n",
       "9   1.0  0.778061        1     True\n",
       "10  1.0  0.568029        1     True\n",
       "11  0.0  0.000267        0     True\n",
       "12  0.0  0.000393        0     True\n",
       "13  1.0  0.999602        1     True\n",
       "14  0.0  0.000308        0     True\n",
       "15  1.0  0.999997        1     True\n",
       "16  1.0  0.999767        1     True\n",
       "17  0.0  0.000290        0     True\n",
       "18  0.0  0.000567        0     True\n",
       "19  0.0  0.001162        0     True\n",
       "20  0.0  0.000963        0     True\n",
       "21  0.0  0.000204        0     True\n",
       "22  0.0  0.000276        0     True\n",
       "23  0.0  0.000330        0     True\n",
       "24  1.0  0.789059        1     True\n",
       "25  0.0  0.372490        0     True\n",
       "26  1.0  0.501632        1     True\n",
       "27  1.0  0.996954        1     True\n",
       "28  1.0  1.000000        1     True\n",
       "29  1.0  0.195588        0    False"
      ]
     },
     "metadata": {},
     "output_type": "display_data"
    }
   ],
   "source": [
    "# display targets and predictions\n",
    "model.train(False)\n",
    "results = pd.DataFrame({'y':np.squeeze(testData.y.detach().numpy()),\n",
    "                        'yhat':np.squeeze(model(testData.x).detach().numpy())})\n",
    "results['Predict'] = (results.yhat >= 0.5)*1\n",
    "results['Correct'] = results.Predict == results.y\n",
    "print('Testing Set Results')\n",
    "display(results)"
   ]
  },
  {
   "cell_type": "code",
   "execution_count": null,
   "metadata": {},
   "outputs": [],
   "source": []
  }
 ],
 "metadata": {
  "kernelspec": {
   "display_name": "Python 3",
   "language": "python",
   "name": "python3"
  },
  "language_info": {
   "codemirror_mode": {
    "name": "ipython",
    "version": 3
   },
   "file_extension": ".py",
   "mimetype": "text/x-python",
   "name": "python",
   "nbconvert_exporter": "python",
   "pygments_lexer": "ipython3",
   "version": "3.7.7"
  }
 },
 "nbformat": 4,
 "nbformat_minor": 4
}
