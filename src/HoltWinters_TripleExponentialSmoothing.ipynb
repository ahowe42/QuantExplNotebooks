{
 "cells": [
  {
   "cell_type": "markdown",
   "metadata": {},
   "source": [
    "## Demonstrating Eponential Smoothing Forecasting, - specifically the Holt-Winters Method.\n",
    "\n",
    "Following this: https://grisha.org/blog/2016/01/29/triple-exponential-smoothing-forecasting/"
   ]
  },
  {
   "cell_type": "code",
   "execution_count": 1,
   "metadata": {},
   "outputs": [
    {
     "data": {
      "text/html": [
       "        <script type=\"text/javascript\">\n",
       "        window.PlotlyConfig = {MathJaxConfig: 'local'};\n",
       "        if (window.MathJax) {MathJax.Hub.Config({SVG: {font: \"STIX-Web\"}});}\n",
       "        if (typeof require !== 'undefined') {\n",
       "        require.undef(\"plotly\");\n",
       "        requirejs.config({\n",
       "            paths: {\n",
       "                'plotly': ['https://cdn.plot.ly/plotly-latest.min']\n",
       "            }\n",
       "        });\n",
       "        require(['plotly'], function(Plotly) {\n",
       "            window._Plotly = Plotly;\n",
       "        });\n",
       "        }\n",
       "        </script>\n",
       "        "
      ]
     },
     "metadata": {},
     "output_type": "display_data"
    },
    {
     "data": {
      "application/vnd.plotly.v1+json": {
       "config": {
        "linkText": "Export to plot.ly",
        "plotlyServerURL": "https://plot.ly",
        "showLink": false
       },
       "data": [
        {
         "mode": "markers",
         "type": "scatter",
         "x": [
          1,
          4,
          7
         ],
         "y": [
          7,
          5,
          7
         ]
        },
        {
         "mode": "lines",
         "type": "scatter",
         "x": [
          1,
          2,
          3,
          4,
          5,
          6,
          7
         ],
         "y": [
          3,
          2,
          1,
          1,
          1,
          2,
          3
         ]
        }
       ],
       "layout": {
        "autosize": false,
        "height": 450,
        "showlegend": false,
        "template": {
         "data": {
          "bar": [
           {
            "error_x": {
             "color": "#2a3f5f"
            },
            "error_y": {
             "color": "#2a3f5f"
            },
            "marker": {
             "line": {
              "color": "#E5ECF6",
              "width": 0.5
             }
            },
            "type": "bar"
           }
          ],
          "barpolar": [
           {
            "marker": {
             "line": {
              "color": "#E5ECF6",
              "width": 0.5
             }
            },
            "type": "barpolar"
           }
          ],
          "carpet": [
           {
            "aaxis": {
             "endlinecolor": "#2a3f5f",
             "gridcolor": "white",
             "linecolor": "white",
             "minorgridcolor": "white",
             "startlinecolor": "#2a3f5f"
            },
            "baxis": {
             "endlinecolor": "#2a3f5f",
             "gridcolor": "white",
             "linecolor": "white",
             "minorgridcolor": "white",
             "startlinecolor": "#2a3f5f"
            },
            "type": "carpet"
           }
          ],
          "choropleth": [
           {
            "colorbar": {
             "outlinewidth": 0,
             "ticks": ""
            },
            "type": "choropleth"
           }
          ],
          "contour": [
           {
            "colorbar": {
             "outlinewidth": 0,
             "ticks": ""
            },
            "colorscale": [
             [
              0,
              "#0d0887"
             ],
             [
              0.1111111111111111,
              "#46039f"
             ],
             [
              0.2222222222222222,
              "#7201a8"
             ],
             [
              0.3333333333333333,
              "#9c179e"
             ],
             [
              0.4444444444444444,
              "#bd3786"
             ],
             [
              0.5555555555555556,
              "#d8576b"
             ],
             [
              0.6666666666666666,
              "#ed7953"
             ],
             [
              0.7777777777777778,
              "#fb9f3a"
             ],
             [
              0.8888888888888888,
              "#fdca26"
             ],
             [
              1,
              "#f0f921"
             ]
            ],
            "type": "contour"
           }
          ],
          "contourcarpet": [
           {
            "colorbar": {
             "outlinewidth": 0,
             "ticks": ""
            },
            "type": "contourcarpet"
           }
          ],
          "heatmap": [
           {
            "colorbar": {
             "outlinewidth": 0,
             "ticks": ""
            },
            "colorscale": [
             [
              0,
              "#0d0887"
             ],
             [
              0.1111111111111111,
              "#46039f"
             ],
             [
              0.2222222222222222,
              "#7201a8"
             ],
             [
              0.3333333333333333,
              "#9c179e"
             ],
             [
              0.4444444444444444,
              "#bd3786"
             ],
             [
              0.5555555555555556,
              "#d8576b"
             ],
             [
              0.6666666666666666,
              "#ed7953"
             ],
             [
              0.7777777777777778,
              "#fb9f3a"
             ],
             [
              0.8888888888888888,
              "#fdca26"
             ],
             [
              1,
              "#f0f921"
             ]
            ],
            "type": "heatmap"
           }
          ],
          "heatmapgl": [
           {
            "colorbar": {
             "outlinewidth": 0,
             "ticks": ""
            },
            "colorscale": [
             [
              0,
              "#0d0887"
             ],
             [
              0.1111111111111111,
              "#46039f"
             ],
             [
              0.2222222222222222,
              "#7201a8"
             ],
             [
              0.3333333333333333,
              "#9c179e"
             ],
             [
              0.4444444444444444,
              "#bd3786"
             ],
             [
              0.5555555555555556,
              "#d8576b"
             ],
             [
              0.6666666666666666,
              "#ed7953"
             ],
             [
              0.7777777777777778,
              "#fb9f3a"
             ],
             [
              0.8888888888888888,
              "#fdca26"
             ],
             [
              1,
              "#f0f921"
             ]
            ],
            "type": "heatmapgl"
           }
          ],
          "histogram": [
           {
            "marker": {
             "colorbar": {
              "outlinewidth": 0,
              "ticks": ""
             }
            },
            "type": "histogram"
           }
          ],
          "histogram2d": [
           {
            "colorbar": {
             "outlinewidth": 0,
             "ticks": ""
            },
            "colorscale": [
             [
              0,
              "#0d0887"
             ],
             [
              0.1111111111111111,
              "#46039f"
             ],
             [
              0.2222222222222222,
              "#7201a8"
             ],
             [
              0.3333333333333333,
              "#9c179e"
             ],
             [
              0.4444444444444444,
              "#bd3786"
             ],
             [
              0.5555555555555556,
              "#d8576b"
             ],
             [
              0.6666666666666666,
              "#ed7953"
             ],
             [
              0.7777777777777778,
              "#fb9f3a"
             ],
             [
              0.8888888888888888,
              "#fdca26"
             ],
             [
              1,
              "#f0f921"
             ]
            ],
            "type": "histogram2d"
           }
          ],
          "histogram2dcontour": [
           {
            "colorbar": {
             "outlinewidth": 0,
             "ticks": ""
            },
            "colorscale": [
             [
              0,
              "#0d0887"
             ],
             [
              0.1111111111111111,
              "#46039f"
             ],
             [
              0.2222222222222222,
              "#7201a8"
             ],
             [
              0.3333333333333333,
              "#9c179e"
             ],
             [
              0.4444444444444444,
              "#bd3786"
             ],
             [
              0.5555555555555556,
              "#d8576b"
             ],
             [
              0.6666666666666666,
              "#ed7953"
             ],
             [
              0.7777777777777778,
              "#fb9f3a"
             ],
             [
              0.8888888888888888,
              "#fdca26"
             ],
             [
              1,
              "#f0f921"
             ]
            ],
            "type": "histogram2dcontour"
           }
          ],
          "mesh3d": [
           {
            "colorbar": {
             "outlinewidth": 0,
             "ticks": ""
            },
            "type": "mesh3d"
           }
          ],
          "parcoords": [
           {
            "line": {
             "colorbar": {
              "outlinewidth": 0,
              "ticks": ""
             }
            },
            "type": "parcoords"
           }
          ],
          "pie": [
           {
            "automargin": true,
            "type": "pie"
           }
          ],
          "scatter": [
           {
            "marker": {
             "colorbar": {
              "outlinewidth": 0,
              "ticks": ""
             }
            },
            "type": "scatter"
           }
          ],
          "scatter3d": [
           {
            "line": {
             "colorbar": {
              "outlinewidth": 0,
              "ticks": ""
             }
            },
            "marker": {
             "colorbar": {
              "outlinewidth": 0,
              "ticks": ""
             }
            },
            "type": "scatter3d"
           }
          ],
          "scattercarpet": [
           {
            "marker": {
             "colorbar": {
              "outlinewidth": 0,
              "ticks": ""
             }
            },
            "type": "scattercarpet"
           }
          ],
          "scattergeo": [
           {
            "marker": {
             "colorbar": {
              "outlinewidth": 0,
              "ticks": ""
             }
            },
            "type": "scattergeo"
           }
          ],
          "scattergl": [
           {
            "marker": {
             "colorbar": {
              "outlinewidth": 0,
              "ticks": ""
             }
            },
            "type": "scattergl"
           }
          ],
          "scattermapbox": [
           {
            "marker": {
             "colorbar": {
              "outlinewidth": 0,
              "ticks": ""
             }
            },
            "type": "scattermapbox"
           }
          ],
          "scatterpolar": [
           {
            "marker": {
             "colorbar": {
              "outlinewidth": 0,
              "ticks": ""
             }
            },
            "type": "scatterpolar"
           }
          ],
          "scatterpolargl": [
           {
            "marker": {
             "colorbar": {
              "outlinewidth": 0,
              "ticks": ""
             }
            },
            "type": "scatterpolargl"
           }
          ],
          "scatterternary": [
           {
            "marker": {
             "colorbar": {
              "outlinewidth": 0,
              "ticks": ""
             }
            },
            "type": "scatterternary"
           }
          ],
          "surface": [
           {
            "colorbar": {
             "outlinewidth": 0,
             "ticks": ""
            },
            "colorscale": [
             [
              0,
              "#0d0887"
             ],
             [
              0.1111111111111111,
              "#46039f"
             ],
             [
              0.2222222222222222,
              "#7201a8"
             ],
             [
              0.3333333333333333,
              "#9c179e"
             ],
             [
              0.4444444444444444,
              "#bd3786"
             ],
             [
              0.5555555555555556,
              "#d8576b"
             ],
             [
              0.6666666666666666,
              "#ed7953"
             ],
             [
              0.7777777777777778,
              "#fb9f3a"
             ],
             [
              0.8888888888888888,
              "#fdca26"
             ],
             [
              1,
              "#f0f921"
             ]
            ],
            "type": "surface"
           }
          ],
          "table": [
           {
            "cells": {
             "fill": {
              "color": "#EBF0F8"
             },
             "line": {
              "color": "white"
             }
            },
            "header": {
             "fill": {
              "color": "#C8D4E3"
             },
             "line": {
              "color": "white"
             }
            },
            "type": "table"
           }
          ]
         },
         "layout": {
          "annotationdefaults": {
           "arrowcolor": "#2a3f5f",
           "arrowhead": 0,
           "arrowwidth": 1
          },
          "coloraxis": {
           "colorbar": {
            "outlinewidth": 0,
            "ticks": ""
           }
          },
          "colorscale": {
           "diverging": [
            [
             0,
             "#8e0152"
            ],
            [
             0.1,
             "#c51b7d"
            ],
            [
             0.2,
             "#de77ae"
            ],
            [
             0.3,
             "#f1b6da"
            ],
            [
             0.4,
             "#fde0ef"
            ],
            [
             0.5,
             "#f7f7f7"
            ],
            [
             0.6,
             "#e6f5d0"
            ],
            [
             0.7,
             "#b8e186"
            ],
            [
             0.8,
             "#7fbc41"
            ],
            [
             0.9,
             "#4d9221"
            ],
            [
             1,
             "#276419"
            ]
           ],
           "sequential": [
            [
             0,
             "#0d0887"
            ],
            [
             0.1111111111111111,
             "#46039f"
            ],
            [
             0.2222222222222222,
             "#7201a8"
            ],
            [
             0.3333333333333333,
             "#9c179e"
            ],
            [
             0.4444444444444444,
             "#bd3786"
            ],
            [
             0.5555555555555556,
             "#d8576b"
            ],
            [
             0.6666666666666666,
             "#ed7953"
            ],
            [
             0.7777777777777778,
             "#fb9f3a"
            ],
            [
             0.8888888888888888,
             "#fdca26"
            ],
            [
             1,
             "#f0f921"
            ]
           ],
           "sequentialminus": [
            [
             0,
             "#0d0887"
            ],
            [
             0.1111111111111111,
             "#46039f"
            ],
            [
             0.2222222222222222,
             "#7201a8"
            ],
            [
             0.3333333333333333,
             "#9c179e"
            ],
            [
             0.4444444444444444,
             "#bd3786"
            ],
            [
             0.5555555555555556,
             "#d8576b"
            ],
            [
             0.6666666666666666,
             "#ed7953"
            ],
            [
             0.7777777777777778,
             "#fb9f3a"
            ],
            [
             0.8888888888888888,
             "#fdca26"
            ],
            [
             1,
             "#f0f921"
            ]
           ]
          },
          "colorway": [
           "#636efa",
           "#EF553B",
           "#00cc96",
           "#ab63fa",
           "#FFA15A",
           "#19d3f3",
           "#FF6692",
           "#B6E880",
           "#FF97FF",
           "#FECB52"
          ],
          "font": {
           "color": "#2a3f5f"
          },
          "geo": {
           "bgcolor": "white",
           "lakecolor": "white",
           "landcolor": "#E5ECF6",
           "showlakes": true,
           "showland": true,
           "subunitcolor": "white"
          },
          "hoverlabel": {
           "align": "left"
          },
          "hovermode": "closest",
          "mapbox": {
           "style": "light"
          },
          "paper_bgcolor": "white",
          "plot_bgcolor": "#E5ECF6",
          "polar": {
           "angularaxis": {
            "gridcolor": "white",
            "linecolor": "white",
            "ticks": ""
           },
           "bgcolor": "#E5ECF6",
           "radialaxis": {
            "gridcolor": "white",
            "linecolor": "white",
            "ticks": ""
           }
          },
          "scene": {
           "xaxis": {
            "backgroundcolor": "#E5ECF6",
            "gridcolor": "white",
            "gridwidth": 2,
            "linecolor": "white",
            "showbackground": true,
            "ticks": "",
            "zerolinecolor": "white"
           },
           "yaxis": {
            "backgroundcolor": "#E5ECF6",
            "gridcolor": "white",
            "gridwidth": 2,
            "linecolor": "white",
            "showbackground": true,
            "ticks": "",
            "zerolinecolor": "white"
           },
           "zaxis": {
            "backgroundcolor": "#E5ECF6",
            "gridcolor": "white",
            "gridwidth": 2,
            "linecolor": "white",
            "showbackground": true,
            "ticks": "",
            "zerolinecolor": "white"
           }
          },
          "shapedefaults": {
           "line": {
            "color": "#2a3f5f"
           }
          },
          "ternary": {
           "aaxis": {
            "gridcolor": "white",
            "linecolor": "white",
            "ticks": ""
           },
           "baxis": {
            "gridcolor": "white",
            "linecolor": "white",
            "ticks": ""
           },
           "bgcolor": "#E5ECF6",
           "caxis": {
            "gridcolor": "white",
            "linecolor": "white",
            "ticks": ""
           }
          },
          "title": {
           "x": 0.05
          },
          "xaxis": {
           "automargin": true,
           "gridcolor": "white",
           "linecolor": "white",
           "ticks": "",
           "title": {
            "standoff": 15
           },
           "zerolinecolor": "white",
           "zerolinewidth": 2
          },
          "yaxis": {
           "automargin": true,
           "gridcolor": "white",
           "linecolor": "white",
           "ticks": "",
           "title": {
            "standoff": 15
           },
           "zerolinecolor": "white",
           "zerolinewidth": 2
          }
         }
        },
        "title": {
         "text": "Initialization Makes Me Smile<br>(and it's fun to show off a little...)"
        },
        "width": 500,
        "xaxis": {
         "autorange": true,
         "range": [
          0.5829145728643216,
          7.417085427135678
         ],
         "showgrid": false,
         "showticklabels": false,
         "type": "linear"
        },
        "yaxis": {
         "autorange": true,
         "range": [
          0.6614420062695925,
          7.432601880877743
         ],
         "showgrid": false,
         "showticklabels": false,
         "type": "linear"
        }
       }
      },
      "image/png": "[encoded data removed]",
      "text/html": [
       "<div>\n",
       "        \n",
       "        \n",
       "            <div id=\"6da4a2dc-4603-4003-adf8-2a93b55c9ec6\" class=\"plotly-graph-div\" style=\"height:525px; width:500px;\"></div>\n",
       "            <script type=\"text/javascript\">\n",
       "                require([\"plotly\"], function(Plotly) {\n",
       "                    window.PLOTLYENV=window.PLOTLYENV || {};\n",
       "                    \n",
       "                if (document.getElementById(\"6da4a2dc-4603-4003-adf8-2a93b55c9ec6\")) {\n",
       "                    Plotly.newPlot(\n",
       "                        '6da4a2dc-4603-4003-adf8-2a93b55c9ec6',\n",
       "                        [{\"mode\": \"markers\", \"type\": \"scatter\", \"x\": [1, 4, 7], \"y\": [7, 5, 7]}, {\"mode\": \"lines\", \"type\": \"scatter\", \"x\": [1, 2, 3, 4, 5, 6, 7], \"y\": [3, 2, 1, 1, 1, 2, 3]}],\n",
       "                        {\"autosize\": false, \"showlegend\": false, \"template\": {\"data\": {\"bar\": [{\"error_x\": {\"color\": \"#2a3f5f\"}, \"error_y\": {\"color\": \"#2a3f5f\"}, \"marker\": {\"line\": {\"color\": \"#E5ECF6\", \"width\": 0.5}}, \"type\": \"bar\"}], \"barpolar\": [{\"marker\": {\"line\": {\"color\": \"#E5ECF6\", \"width\": 0.5}}, \"type\": \"barpolar\"}], \"carpet\": [{\"aaxis\": {\"endlinecolor\": \"#2a3f5f\", \"gridcolor\": \"white\", \"linecolor\": \"white\", \"minorgridcolor\": \"white\", \"startlinecolor\": \"#2a3f5f\"}, \"baxis\": {\"endlinecolor\": \"#2a3f5f\", \"gridcolor\": \"white\", \"linecolor\": \"white\", \"minorgridcolor\": \"white\", \"startlinecolor\": \"#2a3f5f\"}, \"type\": \"carpet\"}], \"choropleth\": [{\"colorbar\": {\"outlinewidth\": 0, \"ticks\": \"\"}, \"type\": \"choropleth\"}], \"contour\": [{\"colorbar\": {\"outlinewidth\": 0, \"ticks\": \"\"}, \"colorscale\": [[0.0, \"#0d0887\"], [0.1111111111111111, \"#46039f\"], [0.2222222222222222, \"#7201a8\"], [0.3333333333333333, \"#9c179e\"], [0.4444444444444444, \"#bd3786\"], [0.5555555555555556, \"#d8576b\"], [0.6666666666666666, \"#ed7953\"], [0.7777777777777778, \"#fb9f3a\"], [0.8888888888888888, \"#fdca26\"], [1.0, \"#f0f921\"]], \"type\": \"contour\"}], \"contourcarpet\": [{\"colorbar\": {\"outlinewidth\": 0, \"ticks\": \"\"}, \"type\": \"contourcarpet\"}], \"heatmap\": [{\"colorbar\": {\"outlinewidth\": 0, \"ticks\": \"\"}, \"colorscale\": [[0.0, \"#0d0887\"], [0.1111111111111111, \"#46039f\"], [0.2222222222222222, \"#7201a8\"], [0.3333333333333333, \"#9c179e\"], [0.4444444444444444, \"#bd3786\"], [0.5555555555555556, \"#d8576b\"], [0.6666666666666666, \"#ed7953\"], [0.7777777777777778, \"#fb9f3a\"], [0.8888888888888888, \"#fdca26\"], [1.0, \"#f0f921\"]], \"type\": \"heatmap\"}], \"heatmapgl\": [{\"colorbar\": {\"outlinewidth\": 0, \"ticks\": \"\"}, \"colorscale\": [[0.0, \"#0d0887\"], [0.1111111111111111, \"#46039f\"], [0.2222222222222222, \"#7201a8\"], [0.3333333333333333, \"#9c179e\"], [0.4444444444444444, \"#bd3786\"], [0.5555555555555556, \"#d8576b\"], [0.6666666666666666, \"#ed7953\"], [0.7777777777777778, \"#fb9f3a\"], [0.8888888888888888, \"#fdca26\"], [1.0, \"#f0f921\"]], \"type\": \"heatmapgl\"}], \"histogram\": [{\"marker\": {\"colorbar\": {\"outlinewidth\": 0, \"ticks\": \"\"}}, \"type\": \"histogram\"}], \"histogram2d\": [{\"colorbar\": {\"outlinewidth\": 0, \"ticks\": \"\"}, \"colorscale\": [[0.0, \"#0d0887\"], [0.1111111111111111, \"#46039f\"], [0.2222222222222222, \"#7201a8\"], [0.3333333333333333, \"#9c179e\"], [0.4444444444444444, \"#bd3786\"], [0.5555555555555556, \"#d8576b\"], [0.6666666666666666, \"#ed7953\"], [0.7777777777777778, \"#fb9f3a\"], [0.8888888888888888, \"#fdca26\"], [1.0, \"#f0f921\"]], \"type\": \"histogram2d\"}], \"histogram2dcontour\": [{\"colorbar\": {\"outlinewidth\": 0, \"ticks\": \"\"}, \"colorscale\": [[0.0, \"#0d0887\"], [0.1111111111111111, \"#46039f\"], [0.2222222222222222, \"#7201a8\"], [0.3333333333333333, \"#9c179e\"], [0.4444444444444444, \"#bd3786\"], [0.5555555555555556, \"#d8576b\"], [0.6666666666666666, \"#ed7953\"], [0.7777777777777778, \"#fb9f3a\"], [0.8888888888888888, \"#fdca26\"], [1.0, \"#f0f921\"]], \"type\": \"histogram2dcontour\"}], \"mesh3d\": [{\"colorbar\": {\"outlinewidth\": 0, \"ticks\": \"\"}, \"type\": \"mesh3d\"}], \"parcoords\": [{\"line\": {\"colorbar\": {\"outlinewidth\": 0, \"ticks\": \"\"}}, \"type\": \"parcoords\"}], \"pie\": [{\"automargin\": true, \"type\": \"pie\"}], \"scatter\": [{\"marker\": {\"colorbar\": {\"outlinewidth\": 0, \"ticks\": \"\"}}, \"type\": \"scatter\"}], \"scatter3d\": [{\"line\": {\"colorbar\": {\"outlinewidth\": 0, \"ticks\": \"\"}}, \"marker\": {\"colorbar\": {\"outlinewidth\": 0, \"ticks\": \"\"}}, \"type\": \"scatter3d\"}], \"scattercarpet\": [{\"marker\": {\"colorbar\": {\"outlinewidth\": 0, \"ticks\": \"\"}}, \"type\": \"scattercarpet\"}], \"scattergeo\": [{\"marker\": {\"colorbar\": {\"outlinewidth\": 0, \"ticks\": \"\"}}, \"type\": \"scattergeo\"}], \"scattergl\": [{\"marker\": {\"colorbar\": {\"outlinewidth\": 0, \"ticks\": \"\"}}, \"type\": \"scattergl\"}], \"scattermapbox\": [{\"marker\": {\"colorbar\": {\"outlinewidth\": 0, \"ticks\": \"\"}}, \"type\": \"scattermapbox\"}], \"scatterpolar\": [{\"marker\": {\"colorbar\": {\"outlinewidth\": 0, \"ticks\": \"\"}}, \"type\": \"scatterpolar\"}], \"scatterpolargl\": [{\"marker\": {\"colorbar\": {\"outlinewidth\": 0, \"ticks\": \"\"}}, \"type\": \"scatterpolargl\"}], \"scatterternary\": [{\"marker\": {\"colorbar\": {\"outlinewidth\": 0, \"ticks\": \"\"}}, \"type\": \"scatterternary\"}], \"surface\": [{\"colorbar\": {\"outlinewidth\": 0, \"ticks\": \"\"}, \"colorscale\": [[0.0, \"#0d0887\"], [0.1111111111111111, \"#46039f\"], [0.2222222222222222, \"#7201a8\"], [0.3333333333333333, \"#9c179e\"], [0.4444444444444444, \"#bd3786\"], [0.5555555555555556, \"#d8576b\"], [0.6666666666666666, \"#ed7953\"], [0.7777777777777778, \"#fb9f3a\"], [0.8888888888888888, \"#fdca26\"], [1.0, \"#f0f921\"]], \"type\": \"surface\"}], \"table\": [{\"cells\": {\"fill\": {\"color\": \"#EBF0F8\"}, \"line\": {\"color\": \"white\"}}, \"header\": {\"fill\": {\"color\": \"#C8D4E3\"}, \"line\": {\"color\": \"white\"}}, \"type\": \"table\"}]}, \"layout\": {\"annotationdefaults\": {\"arrowcolor\": \"#2a3f5f\", \"arrowhead\": 0, \"arrowwidth\": 1}, \"coloraxis\": {\"colorbar\": {\"outlinewidth\": 0, \"ticks\": \"\"}}, \"colorscale\": {\"diverging\": [[0, \"#8e0152\"], [0.1, \"#c51b7d\"], [0.2, \"#de77ae\"], [0.3, \"#f1b6da\"], [0.4, \"#fde0ef\"], [0.5, \"#f7f7f7\"], [0.6, \"#e6f5d0\"], [0.7, \"#b8e186\"], [0.8, \"#7fbc41\"], [0.9, \"#4d9221\"], [1, \"#276419\"]], \"sequential\": [[0.0, \"#0d0887\"], [0.1111111111111111, \"#46039f\"], [0.2222222222222222, \"#7201a8\"], [0.3333333333333333, \"#9c179e\"], [0.4444444444444444, \"#bd3786\"], [0.5555555555555556, \"#d8576b\"], [0.6666666666666666, \"#ed7953\"], [0.7777777777777778, \"#fb9f3a\"], [0.8888888888888888, \"#fdca26\"], [1.0, \"#f0f921\"]], \"sequentialminus\": [[0.0, \"#0d0887\"], [0.1111111111111111, \"#46039f\"], [0.2222222222222222, \"#7201a8\"], [0.3333333333333333, \"#9c179e\"], [0.4444444444444444, \"#bd3786\"], [0.5555555555555556, \"#d8576b\"], [0.6666666666666666, \"#ed7953\"], [0.7777777777777778, \"#fb9f3a\"], [0.8888888888888888, \"#fdca26\"], [1.0, \"#f0f921\"]]}, \"colorway\": [\"#636efa\", \"#EF553B\", \"#00cc96\", \"#ab63fa\", \"#FFA15A\", \"#19d3f3\", \"#FF6692\", \"#B6E880\", \"#FF97FF\", \"#FECB52\"], \"font\": {\"color\": \"#2a3f5f\"}, \"geo\": {\"bgcolor\": \"white\", \"lakecolor\": \"white\", \"landcolor\": \"#E5ECF6\", \"showlakes\": true, \"showland\": true, \"subunitcolor\": \"white\"}, \"hoverlabel\": {\"align\": \"left\"}, \"hovermode\": \"closest\", \"mapbox\": {\"style\": \"light\"}, \"paper_bgcolor\": \"white\", \"plot_bgcolor\": \"#E5ECF6\", \"polar\": {\"angularaxis\": {\"gridcolor\": \"white\", \"linecolor\": \"white\", \"ticks\": \"\"}, \"bgcolor\": \"#E5ECF6\", \"radialaxis\": {\"gridcolor\": \"white\", \"linecolor\": \"white\", \"ticks\": \"\"}}, \"scene\": {\"xaxis\": {\"backgroundcolor\": \"#E5ECF6\", \"gridcolor\": \"white\", \"gridwidth\": 2, \"linecolor\": \"white\", \"showbackground\": true, \"ticks\": \"\", \"zerolinecolor\": \"white\"}, \"yaxis\": {\"backgroundcolor\": \"#E5ECF6\", \"gridcolor\": \"white\", \"gridwidth\": 2, \"linecolor\": \"white\", \"showbackground\": true, \"ticks\": \"\", \"zerolinecolor\": \"white\"}, \"zaxis\": {\"backgroundcolor\": \"#E5ECF6\", \"gridcolor\": \"white\", \"gridwidth\": 2, \"linecolor\": \"white\", \"showbackground\": true, \"ticks\": \"\", \"zerolinecolor\": \"white\"}}, \"shapedefaults\": {\"line\": {\"color\": \"#2a3f5f\"}}, \"ternary\": {\"aaxis\": {\"gridcolor\": \"white\", \"linecolor\": \"white\", \"ticks\": \"\"}, \"baxis\": {\"gridcolor\": \"white\", \"linecolor\": \"white\", \"ticks\": \"\"}, \"bgcolor\": \"#E5ECF6\", \"caxis\": {\"gridcolor\": \"white\", \"linecolor\": \"white\", \"ticks\": \"\"}}, \"title\": {\"x\": 0.05}, \"xaxis\": {\"automargin\": true, \"gridcolor\": \"white\", \"linecolor\": \"white\", \"ticks\": \"\", \"title\": {\"standoff\": 15}, \"zerolinecolor\": \"white\", \"zerolinewidth\": 2}, \"yaxis\": {\"automargin\": true, \"gridcolor\": \"white\", \"linecolor\": \"white\", \"ticks\": \"\", \"title\": {\"standoff\": 15}, \"zerolinecolor\": \"white\", \"zerolinewidth\": 2}}}, \"title\": {\"text\": \"Initialization Makes Me Smile<br>(and it's fun to show off a little...)\"}, \"width\": 500, \"xaxis\": {\"showgrid\": false, \"showticklabels\": false}, \"yaxis\": {\"showgrid\": false, \"showticklabels\": false}},\n",
       "                        {\"responsive\": true}\n",
       "                    ).then(function(){\n",
       "                            \n",
       "var gd = document.getElementById('6da4a2dc-4603-4003-adf8-2a93b55c9ec6');\n",
       "var x = new MutationObserver(function (mutations, observer) {{\n",
       "        var display = window.getComputedStyle(gd).display;\n",
       "        if (!display || display === 'none') {{\n",
       "            console.log([gd, 'removed!']);\n",
       "            Plotly.purge(gd);\n",
       "            observer.disconnect();\n",
       "        }}\n",
       "}});\n",
       "\n",
       "// Listen for the removal of the full notebook cells\n",
       "var notebookContainer = gd.closest('#notebook-container');\n",
       "if (notebookContainer) {{\n",
       "    x.observe(notebookContainer, {childList: true});\n",
       "}}\n",
       "\n",
       "// Listen for the clearing of the current output cell\n",
       "var outputEl = gd.closest('.output');\n",
       "if (outputEl) {{\n",
       "    x.observe(outputEl, {childList: true});\n",
       "}}\n",
       "\n",
       "                        })\n",
       "                };\n",
       "                });\n",
       "            </script>\n",
       "        </div>"
      ]
     },
     "metadata": {},
     "output_type": "display_data"
    }
   ],
   "source": [
    "import ipdb\n",
    "import math\n",
    "import numpy as np\n",
    "import pandas as pd\n",
    "from scipy.optimize import minimize\n",
    "\n",
    "\n",
    "import plotly.graph_objs as go\n",
    "import chart_studio.plotly as ply\n",
    "import plotly.tools as plytool\n",
    "import plotly.figure_factory as ff\n",
    "import plotly.offline as plyoff\n",
    "import plotly.subplots as plysub\n",
    "\n",
    "# plotly authentication - not needed for offline mode\n",
    "#plytool.set_credentials_file(username='ahowe42', api_key='')\n",
    "\n",
    "# if using jupyter lab, must have the plotly extension installed: https://github.com/jupyterlab/jupyter-renderers/tree/master/packages/plotly-extension\n",
    "# jupyter labextension install @jupyterlab/plotly-extension\n",
    "# to use plotly offline, need to initialize with a plot; might as well have fun with it\n",
    "plyoff.init_notebook_mode(connected=True)\n",
    "x1 = [1,4,7]; y1 = [7,5,7]\n",
    "x2 = [1,2,3,4,5,6,7]; y2 = [3,2,1,1,1,2,3]\n",
    "plyoff.iplot(go.Figure(data=[go.Scatter({'x':x1, 'y':y1, 'mode':'markers'}),\n",
    "                             go.Scatter({'x':x2, 'y':y2, 'mode':'lines'})],\n",
    "                                        layout=go.Layout(autosize=False,width=500,title=\"Initialization Makes Me Smile<br>(and it's fun to show off a little...)\",\n",
    "                                                         showlegend=False, xaxis={'showgrid':False, 'showticklabels':False},\n",
    "                                                         yaxis={'showgrid':False, 'showticklabels':False})))\n",
    "\n",
    "# if I want to show a df, I want to show *all* of it\n",
    "pd.options.display.max_rows = 999\n",
    "pd.options.display.max_columns = 999"
   ]
  },
  {
   "cell_type": "markdown",
   "metadata": {},
   "source": [
    "### Define model metrics and the function for single, double, and triple exponential smoothing"
   ]
  },
  {
   "cell_type": "code",
   "execution_count": 2,
   "metadata": {},
   "outputs": [],
   "source": [
    "# mean error\n",
    "def ME(actl, pred):\n",
    "    return np.mean(actl - pred)\n",
    "\n",
    "# mean absolute error\n",
    "def MAE(actl, pred):\n",
    "    return np.mean(np.abs(actl - pred))\n",
    "\n",
    "# median error\n",
    "def MDE(actl, pred):\n",
    "    return np.quantile(actl - pred, 0.5)\n",
    "\n",
    "# median absolute error\n",
    "def MDAE(actl, pred):\n",
    "    return np.quantile(np.abs(actl - pred), 0.5)\n",
    "\n",
    "# mean absolute percentage error\n",
    "def MAPE(actl, pred):\n",
    "    return 100*np.mean(np.abs(actl - pred)/pred)\n",
    "\n",
    "# sum of squared errors\n",
    "def SSE(actl, pred):\n",
    "    return np.sum((actl - pred)**2)\n",
    "\n",
    "# mean squared error\n",
    "def MSE(actl, pred):\n",
    "    return np.mean((actl - pred)**2)"
   ]
  },
  {
   "cell_type": "code",
   "execution_count": 3,
   "metadata": {},
   "outputs": [],
   "source": [
    "def exponential_smoothing(data, alpha):\n",
    "    '''\n",
    "    Apply exponential smoothing to the levels\n",
    "    '''\n",
    "    smoothed = np.zeros(len(data)+1, dtype=float)\n",
    "    smoothed[0] = data[0]\n",
    "    for i, obs in enumerate(data[1:]):\n",
    "        smoothed[i+1] = alpha*obs + (1-alpha)*smoothed[i]\n",
    "    # forecast 1 step ahead\n",
    "    smoothed[-1] = alpha*smoothed[-2] + (1-alpha)*smoothed[-3]\n",
    "    return smoothed"
   ]
  },
  {
   "cell_type": "code",
   "execution_count": 4,
   "metadata": {},
   "outputs": [],
   "source": [
    "def double_exponential_smoothing(data, alpha, beta, m):\n",
    "    '''\n",
    "    Apply exponential smoothing to the levels & trends\n",
    "    '''\n",
    "    n = len(data)\n",
    "    # initialize\n",
    "    smoothed = np.zeros(n+m, dtype=float)\n",
    "    smoothed[0] = data[0]\n",
    "    levels = np.zeros(n+m, dtype=float)\n",
    "    trends = np.zeros(n+m, dtype=float)\n",
    "    # iterate over datapoints\n",
    "    for i in range(1, n+m):\n",
    "        if i == 1:                 # initializing\n",
    "            levels[i-1] = data[0]\n",
    "            trends[i-1] = data[1] - data[0]\n",
    "        if i >= n:                 # forecasting\n",
    "            value = smoothed[i-1]\n",
    "        else:                      # somewhere in the middle\n",
    "            value = data[i]\n",
    "        levels[i] = alpha*value + (1-alpha)*(levels[i-1]+trends[i-1])\n",
    "        trends[i] = beta*(levels[i]-levels[i-1]) + (1-beta)*trends[i-1]\n",
    "        smoothed[i] = levels[i-1]+trends[i]\n",
    "    return levels, trends, smoothed"
   ]
  },
  {
   "cell_type": "code",
   "execution_count": 5,
   "metadata": {},
   "outputs": [],
   "source": [
    "''' note the assumption that the data starts at the beginning of a \"season\"\n",
    "and proceeds in exact integer counts of seasons '''\n",
    "def trend_init(data, L):\n",
    "    # compute the avg of trend averages for the first season\n",
    "    return np.sum((data[(L):(2*L)] - data[:L])/L)/L\n",
    "\n",
    "def season_init(data, L):\n",
    "    # compute the average level per season\n",
    "    rngStt = range(0, n, L)\n",
    "    rngStp = range(L, n+1, L)\n",
    "    avgs = [np.mean(data[stt:stp]) for stt, stp in zip(rngStt, rngStp)]\n",
    "    return np.mean([data[stt:stp]-mn for stt, stp, mn in zip(rngStt, rngStp, avgs)], axis=0)\n",
    "\n",
    "def triple_exponential_smoothing(data, alpha, beta, gamma, L, m):\n",
    "    '''\n",
    "    Apply exponential smoothing to the levels, trends, and seasons\n",
    "    '''\n",
    "    n = len(data)\n",
    "    # initialize\n",
    "    smoothed = np.zeros(n+m, dtype=float)\n",
    "    smoothed[0] = data[0]\n",
    "    levels = np.zeros(n+m, dtype=float)\n",
    "    trends = np.zeros(n+m, dtype=float)\n",
    "    seasons = np.zeros(n+m, dtype=float)    \n",
    "    seasonLevs = season_init(data, L)\n",
    "    # iterate over datapoints\n",
    "    for i in range(1, n+m):\n",
    "        thisSeasonLev = seasonLevs[i%L]\n",
    "        if i == 1:                 # initializing\n",
    "            levels[i-1] = data[0]\n",
    "            trends[i-1] = trend_init(data, L)\n",
    "        if i >= n:                 # forecasting\n",
    "            levels[i] = levels[i-1]\n",
    "            trends[i] = trends[i-1]\n",
    "            seasons[i] = thisSeasonLev\n",
    "            smoothed[i] = levels[i]+(i-n+1)*trends[i] + seasons[i]\n",
    "        else:                      # somewhere in the middle\n",
    "            value = data[i]\n",
    "            levels[i] = alpha*(value - thisSeasonLev) + (1-alpha)*(levels[i-1]+trends[i-1])\n",
    "            trends[i] = beta*(levels[i]-levels[i-1]) + (1-beta)*trends[i-1]\n",
    "            seasons[i] = gamma*(value - levels[i]) + (1-gamma)*thisSeasonLev\n",
    "            smoothed[i] = levels[i] + trends[i] + seasons[i]\n",
    "            # update the season levels list\n",
    "            seasonLevs[i%L] = seasons[i]\n",
    "    return levels, trends, seasons, seasonLevs, smoothed"
   ]
  },
  {
   "cell_type": "markdown",
   "metadata": {},
   "source": [
    "### Generate the data for modeling"
   ]
  },
  {
   "cell_type": "code",
   "execution_count": 6,
   "metadata": {},
   "outputs": [
    {
     "name": "stdout",
     "output_type": "stream",
     "text": [
      "72\n"
     ]
    },
    {
     "data": {
      "application/vnd.plotly.v1+json": {
       "config": {
        "linkText": "Export to plot.ly",
        "plotlyServerURL": "https://plot.ly",
        "showLink": false
       },
       "data": [
        {
         "line": {
          "color": "black"
         },
         "marker": {
          "color": "black",
          "symbol": "star"
         },
         "mode": "markers+lines",
         "type": "scatter",
         "x": [
          0,
          1,
          2,
          3,
          4,
          5,
          6,
          7,
          8,
          9,
          10,
          11,
          12,
          13,
          14,
          15,
          16,
          17,
          18,
          19,
          20,
          21,
          22,
          23,
          24,
          25,
          26,
          27,
          28,
          29,
          30,
          31,
          32,
          33,
          34,
          35,
          36,
          37,
          38,
          39,
          40,
          41,
          42,
          43,
          44,
          45,
          46,
          47,
          48,
          49,
          50,
          51,
          52,
          53,
          54,
          55,
          56,
          57,
          58,
          59,
          60,
          61,
          62,
          63,
          64,
          65,
          66,
          67,
          68,
          69,
          70,
          71
         ],
         "y": [
          30,
          21,
          29,
          31,
          40,
          48,
          53,
          47,
          37,
          39,
          31,
          29,
          17,
          9,
          20,
          24,
          27,
          35,
          41,
          38,
          27,
          31,
          27,
          26,
          21,
          13,
          21,
          18,
          33,
          35,
          40,
          36,
          22,
          24,
          21,
          20,
          17,
          14,
          17,
          19,
          26,
          29,
          40,
          31,
          20,
          24,
          18,
          26,
          17,
          9,
          17,
          21,
          28,
          32,
          46,
          33,
          23,
          28,
          22,
          27,
          18,
          8,
          17,
          21,
          31,
          34,
          44,
          38,
          31,
          30,
          26,
          32
         ]
        }
       ],
       "layout": {
        "autosize": true,
        "template": {
         "data": {
          "bar": [
           {
            "error_x": {
             "color": "#2a3f5f"
            },
            "error_y": {
             "color": "#2a3f5f"
            },
            "marker": {
             "line": {
              "color": "#E5ECF6",
              "width": 0.5
             }
            },
            "type": "bar"
           }
          ],
          "barpolar": [
           {
            "marker": {
             "line": {
              "color": "#E5ECF6",
              "width": 0.5
             }
            },
            "type": "barpolar"
           }
          ],
          "carpet": [
           {
            "aaxis": {
             "endlinecolor": "#2a3f5f",
             "gridcolor": "white",
             "linecolor": "white",
             "minorgridcolor": "white",
             "startlinecolor": "#2a3f5f"
            },
            "baxis": {
             "endlinecolor": "#2a3f5f",
             "gridcolor": "white",
             "linecolor": "white",
             "minorgridcolor": "white",
             "startlinecolor": "#2a3f5f"
            },
            "type": "carpet"
           }
          ],
          "choropleth": [
           {
            "colorbar": {
             "outlinewidth": 0,
             "ticks": ""
            },
            "type": "choropleth"
           }
          ],
          "contour": [
           {
            "colorbar": {
             "outlinewidth": 0,
             "ticks": ""
            },
            "colorscale": [
             [
              0,
              "#0d0887"
             ],
             [
              0.1111111111111111,
              "#46039f"
             ],
             [
              0.2222222222222222,
              "#7201a8"
             ],
             [
              0.3333333333333333,
              "#9c179e"
             ],
             [
              0.4444444444444444,
              "#bd3786"
             ],
             [
              0.5555555555555556,
              "#d8576b"
             ],
             [
              0.6666666666666666,
              "#ed7953"
             ],
             [
              0.7777777777777778,
              "#fb9f3a"
             ],
             [
              0.8888888888888888,
              "#fdca26"
             ],
             [
              1,
              "#f0f921"
             ]
            ],
            "type": "contour"
           }
          ],
          "contourcarpet": [
           {
            "colorbar": {
             "outlinewidth": 0,
             "ticks": ""
            },
            "type": "contourcarpet"
           }
          ],
          "heatmap": [
           {
            "colorbar": {
             "outlinewidth": 0,
             "ticks": ""
            },
            "colorscale": [
             [
              0,
              "#0d0887"
             ],
             [
              0.1111111111111111,
              "#46039f"
             ],
             [
              0.2222222222222222,
              "#7201a8"
             ],
             [
              0.3333333333333333,
              "#9c179e"
             ],
             [
              0.4444444444444444,
              "#bd3786"
             ],
             [
              0.5555555555555556,
              "#d8576b"
             ],
             [
              0.6666666666666666,
              "#ed7953"
             ],
             [
              0.7777777777777778,
              "#fb9f3a"
             ],
             [
              0.8888888888888888,
              "#fdca26"
             ],
             [
              1,
              "#f0f921"
             ]
            ],
            "type": "heatmap"
           }
          ],
          "heatmapgl": [
           {
            "colorbar": {
             "outlinewidth": 0,
             "ticks": ""
            },
            "colorscale": [
             [
              0,
              "#0d0887"
             ],
             [
              0.1111111111111111,
              "#46039f"
             ],
             [
              0.2222222222222222,
              "#7201a8"
             ],
             [
              0.3333333333333333,
              "#9c179e"
             ],
             [
              0.4444444444444444,
              "#bd3786"
             ],
             [
              0.5555555555555556,
              "#d8576b"
             ],
             [
              0.6666666666666666,
              "#ed7953"
             ],
             [
              0.7777777777777778,
              "#fb9f3a"
             ],
             [
              0.8888888888888888,
              "#fdca26"
             ],
             [
              1,
              "#f0f921"
             ]
            ],
            "type": "heatmapgl"
           }
          ],
          "histogram": [
           {
            "marker": {
             "colorbar": {
              "outlinewidth": 0,
              "ticks": ""
             }
            },
            "type": "histogram"
           }
          ],
          "histogram2d": [
           {
            "colorbar": {
             "outlinewidth": 0,
             "ticks": ""
            },
            "colorscale": [
             [
              0,
              "#0d0887"
             ],
             [
              0.1111111111111111,
              "#46039f"
             ],
             [
              0.2222222222222222,
              "#7201a8"
             ],
             [
              0.3333333333333333,
              "#9c179e"
             ],
             [
              0.4444444444444444,
              "#bd3786"
             ],
             [
              0.5555555555555556,
              "#d8576b"
             ],
             [
              0.6666666666666666,
              "#ed7953"
             ],
             [
              0.7777777777777778,
              "#fb9f3a"
             ],
             [
              0.8888888888888888,
              "#fdca26"
             ],
             [
              1,
              "#f0f921"
             ]
            ],
            "type": "histogram2d"
           }
          ],
          "histogram2dcontour": [
           {
            "colorbar": {
             "outlinewidth": 0,
             "ticks": ""
            },
            "colorscale": [
             [
              0,
              "#0d0887"
             ],
             [
              0.1111111111111111,
              "#46039f"
             ],
             [
              0.2222222222222222,
              "#7201a8"
             ],
             [
              0.3333333333333333,
              "#9c179e"
             ],
             [
              0.4444444444444444,
              "#bd3786"
             ],
             [
              0.5555555555555556,
              "#d8576b"
             ],
             [
              0.6666666666666666,
              "#ed7953"
             ],
             [
              0.7777777777777778,
              "#fb9f3a"
             ],
             [
              0.8888888888888888,
              "#fdca26"
             ],
             [
              1,
              "#f0f921"
             ]
            ],
            "type": "histogram2dcontour"
           }
          ],
          "mesh3d": [
           {
            "colorbar": {
             "outlinewidth": 0,
             "ticks": ""
            },
            "type": "mesh3d"
           }
          ],
          "parcoords": [
           {
            "line": {
             "colorbar": {
              "outlinewidth": 0,
              "ticks": ""
             }
            },
            "type": "parcoords"
           }
          ],
          "pie": [
           {
            "automargin": true,
            "type": "pie"
           }
          ],
          "scatter": [
           {
            "marker": {
             "colorbar": {
              "outlinewidth": 0,
              "ticks": ""
             }
            },
            "type": "scatter"
           }
          ],
          "scatter3d": [
           {
            "line": {
             "colorbar": {
              "outlinewidth": 0,
              "ticks": ""
             }
            },
            "marker": {
             "colorbar": {
              "outlinewidth": 0,
              "ticks": ""
             }
            },
            "type": "scatter3d"
           }
          ],
          "scattercarpet": [
           {
            "marker": {
             "colorbar": {
              "outlinewidth": 0,
              "ticks": ""
             }
            },
            "type": "scattercarpet"
           }
          ],
          "scattergeo": [
           {
            "marker": {
             "colorbar": {
              "outlinewidth": 0,
              "ticks": ""
             }
            },
            "type": "scattergeo"
           }
          ],
          "scattergl": [
           {
            "marker": {
             "colorbar": {
              "outlinewidth": 0,
              "ticks": ""
             }
            },
            "type": "scattergl"
           }
          ],
          "scattermapbox": [
           {
            "marker": {
             "colorbar": {
              "outlinewidth": 0,
              "ticks": ""
             }
            },
            "type": "scattermapbox"
           }
          ],
          "scatterpolar": [
           {
            "marker": {
             "colorbar": {
              "outlinewidth": 0,
              "ticks": ""
             }
            },
            "type": "scatterpolar"
           }
          ],
          "scatterpolargl": [
           {
            "marker": {
             "colorbar": {
              "outlinewidth": 0,
              "ticks": ""
             }
            },
            "type": "scatterpolargl"
           }
          ],
          "scatterternary": [
           {
            "marker": {
             "colorbar": {
              "outlinewidth": 0,
              "ticks": ""
             }
            },
            "type": "scatterternary"
           }
          ],
          "surface": [
           {
            "colorbar": {
             "outlinewidth": 0,
             "ticks": ""
            },
            "colorscale": [
             [
              0,
              "#0d0887"
             ],
             [
              0.1111111111111111,
              "#46039f"
             ],
             [
              0.2222222222222222,
              "#7201a8"
             ],
             [
              0.3333333333333333,
              "#9c179e"
             ],
             [
              0.4444444444444444,
              "#bd3786"
             ],
             [
              0.5555555555555556,
              "#d8576b"
             ],
             [
              0.6666666666666666,
              "#ed7953"
             ],
             [
              0.7777777777777778,
              "#fb9f3a"
             ],
             [
              0.8888888888888888,
              "#fdca26"
             ],
             [
              1,
              "#f0f921"
             ]
            ],
            "type": "surface"
           }
          ],
          "table": [
           {
            "cells": {
             "fill": {
              "color": "#EBF0F8"
             },
             "line": {
              "color": "white"
             }
            },
            "header": {
             "fill": {
              "color": "#C8D4E3"
             },
             "line": {
              "color": "white"
             }
            },
            "type": "table"
           }
          ]
         },
         "layout": {
          "annotationdefaults": {
           "arrowcolor": "#2a3f5f",
           "arrowhead": 0,
           "arrowwidth": 1
          },
          "coloraxis": {
           "colorbar": {
            "outlinewidth": 0,
            "ticks": ""
           }
          },
          "colorscale": {
           "diverging": [
            [
             0,
             "#8e0152"
            ],
            [
             0.1,
             "#c51b7d"
            ],
            [
             0.2,
             "#de77ae"
            ],
            [
             0.3,
             "#f1b6da"
            ],
            [
             0.4,
             "#fde0ef"
            ],
            [
             0.5,
             "#f7f7f7"
            ],
            [
             0.6,
             "#e6f5d0"
            ],
            [
             0.7,
             "#b8e186"
            ],
            [
             0.8,
             "#7fbc41"
            ],
            [
             0.9,
             "#4d9221"
            ],
            [
             1,
             "#276419"
            ]
           ],
           "sequential": [
            [
             0,
             "#0d0887"
            ],
            [
             0.1111111111111111,
             "#46039f"
            ],
            [
             0.2222222222222222,
             "#7201a8"
            ],
            [
             0.3333333333333333,
             "#9c179e"
            ],
            [
             0.4444444444444444,
             "#bd3786"
            ],
            [
             0.5555555555555556,
             "#d8576b"
            ],
            [
             0.6666666666666666,
             "#ed7953"
            ],
            [
             0.7777777777777778,
             "#fb9f3a"
            ],
            [
             0.8888888888888888,
             "#fdca26"
            ],
            [
             1,
             "#f0f921"
            ]
           ],
           "sequentialminus": [
            [
             0,
             "#0d0887"
            ],
            [
             0.1111111111111111,
             "#46039f"
            ],
            [
             0.2222222222222222,
             "#7201a8"
            ],
            [
             0.3333333333333333,
             "#9c179e"
            ],
            [
             0.4444444444444444,
             "#bd3786"
            ],
            [
             0.5555555555555556,
             "#d8576b"
            ],
            [
             0.6666666666666666,
             "#ed7953"
            ],
            [
             0.7777777777777778,
             "#fb9f3a"
            ],
            [
             0.8888888888888888,
             "#fdca26"
            ],
            [
             1,
             "#f0f921"
            ]
           ]
          },
          "colorway": [
           "#636efa",
           "#EF553B",
           "#00cc96",
           "#ab63fa",
           "#FFA15A",
           "#19d3f3",
           "#FF6692",
           "#B6E880",
           "#FF97FF",
           "#FECB52"
          ],
          "font": {
           "color": "#2a3f5f"
          },
          "geo": {
           "bgcolor": "white",
           "lakecolor": "white",
           "landcolor": "#E5ECF6",
           "showlakes": true,
           "showland": true,
           "subunitcolor": "white"
          },
          "hoverlabel": {
           "align": "left"
          },
          "hovermode": "closest",
          "mapbox": {
           "style": "light"
          },
          "paper_bgcolor": "white",
          "plot_bgcolor": "#E5ECF6",
          "polar": {
           "angularaxis": {
            "gridcolor": "white",
            "linecolor": "white",
            "ticks": ""
           },
           "bgcolor": "#E5ECF6",
           "radialaxis": {
            "gridcolor": "white",
            "linecolor": "white",
            "ticks": ""
           }
          },
          "scene": {
           "xaxis": {
            "backgroundcolor": "#E5ECF6",
            "gridcolor": "white",
            "gridwidth": 2,
            "linecolor": "white",
            "showbackground": true,
            "ticks": "",
            "zerolinecolor": "white"
           },
           "yaxis": {
            "backgroundcolor": "#E5ECF6",
            "gridcolor": "white",
            "gridwidth": 2,
            "linecolor": "white",
            "showbackground": true,
            "ticks": "",
            "zerolinecolor": "white"
           },
           "zaxis": {
            "backgroundcolor": "#E5ECF6",
            "gridcolor": "white",
            "gridwidth": 2,
            "linecolor": "white",
            "showbackground": true,
            "ticks": "",
            "zerolinecolor": "white"
           }
          },
          "shapedefaults": {
           "line": {
            "color": "#2a3f5f"
           }
          },
          "ternary": {
           "aaxis": {
            "gridcolor": "white",
            "linecolor": "white",
            "ticks": ""
           },
           "baxis": {
            "gridcolor": "white",
            "linecolor": "white",
            "ticks": ""
           },
           "bgcolor": "#E5ECF6",
           "caxis": {
            "gridcolor": "white",
            "linecolor": "white",
            "ticks": ""
           }
          },
          "title": {
           "x": 0.05
          },
          "xaxis": {
           "automargin": true,
           "gridcolor": "white",
           "linecolor": "white",
           "ticks": "",
           "title": {
            "standoff": 15
           },
           "zerolinecolor": "white",
           "zerolinewidth": 2
          },
          "yaxis": {
           "automargin": true,
           "gridcolor": "white",
           "linecolor": "white",
           "ticks": "",
           "title": {
            "standoff": 15
           },
           "zerolinecolor": "white",
           "zerolinewidth": 2
          }
         }
        },
        "title": {
         "text": "Data"
        },
        "xaxis": {
         "autorange": true,
         "range": [
          -4.394929191411602,
          75.3949291914116
         ],
         "type": "linear"
        },
        "yaxis": {
         "autorange": true,
         "range": [
          4.703821656050955,
          56.296178343949045
         ],
         "type": "linear"
        }
       }
      },
      "image/png": "[encoded data removed]",
      "text/html": [
       "<div>\n",
       "        \n",
       "        \n",
       "            <div id=\"246964b7-3600-4ab7-8934-b55b303b5e08\" class=\"plotly-graph-div\" style=\"height:525px; width:100%;\"></div>\n",
       "            <script type=\"text/javascript\">\n",
       "                require([\"plotly\"], function(Plotly) {\n",
       "                    window.PLOTLYENV=window.PLOTLYENV || {};\n",
       "                    \n",
       "                if (document.getElementById(\"246964b7-3600-4ab7-8934-b55b303b5e08\")) {\n",
       "                    Plotly.newPlot(\n",
       "                        '246964b7-3600-4ab7-8934-b55b303b5e08',\n",
       "                        [{\"line\": {\"color\": \"black\"}, \"marker\": {\"color\": \"black\", \"symbol\": \"star\"}, \"mode\": \"markers+lines\", \"type\": \"scatter\", \"x\": [0, 1, 2, 3, 4, 5, 6, 7, 8, 9, 10, 11, 12, 13, 14, 15, 16, 17, 18, 19, 20, 21, 22, 23, 24, 25, 26, 27, 28, 29, 30, 31, 32, 33, 34, 35, 36, 37, 38, 39, 40, 41, 42, 43, 44, 45, 46, 47, 48, 49, 50, 51, 52, 53, 54, 55, 56, 57, 58, 59, 60, 61, 62, 63, 64, 65, 66, 67, 68, 69, 70, 71], \"y\": [30, 21, 29, 31, 40, 48, 53, 47, 37, 39, 31, 29, 17, 9, 20, 24, 27, 35, 41, 38, 27, 31, 27, 26, 21, 13, 21, 18, 33, 35, 40, 36, 22, 24, 21, 20, 17, 14, 17, 19, 26, 29, 40, 31, 20, 24, 18, 26, 17, 9, 17, 21, 28, 32, 46, 33, 23, 28, 22, 27, 18, 8, 17, 21, 31, 34, 44, 38, 31, 30, 26, 32]}],\n",
       "                        {\"template\": {\"data\": {\"bar\": [{\"error_x\": {\"color\": \"#2a3f5f\"}, \"error_y\": {\"color\": \"#2a3f5f\"}, \"marker\": {\"line\": {\"color\": \"#E5ECF6\", \"width\": 0.5}}, \"type\": \"bar\"}], \"barpolar\": [{\"marker\": {\"line\": {\"color\": \"#E5ECF6\", \"width\": 0.5}}, \"type\": \"barpolar\"}], \"carpet\": [{\"aaxis\": {\"endlinecolor\": \"#2a3f5f\", \"gridcolor\": \"white\", \"linecolor\": \"white\", \"minorgridcolor\": \"white\", \"startlinecolor\": \"#2a3f5f\"}, \"baxis\": {\"endlinecolor\": \"#2a3f5f\", \"gridcolor\": \"white\", \"linecolor\": \"white\", \"minorgridcolor\": \"white\", \"startlinecolor\": \"#2a3f5f\"}, \"type\": \"carpet\"}], \"choropleth\": [{\"colorbar\": {\"outlinewidth\": 0, \"ticks\": \"\"}, \"type\": \"choropleth\"}], \"contour\": [{\"colorbar\": {\"outlinewidth\": 0, \"ticks\": \"\"}, \"colorscale\": [[0.0, \"#0d0887\"], [0.1111111111111111, \"#46039f\"], [0.2222222222222222, \"#7201a8\"], [0.3333333333333333, \"#9c179e\"], [0.4444444444444444, \"#bd3786\"], [0.5555555555555556, \"#d8576b\"], [0.6666666666666666, \"#ed7953\"], [0.7777777777777778, \"#fb9f3a\"], [0.8888888888888888, \"#fdca26\"], [1.0, \"#f0f921\"]], \"type\": \"contour\"}], \"contourcarpet\": [{\"colorbar\": {\"outlinewidth\": 0, \"ticks\": \"\"}, \"type\": \"contourcarpet\"}], \"heatmap\": [{\"colorbar\": {\"outlinewidth\": 0, \"ticks\": \"\"}, \"colorscale\": [[0.0, \"#0d0887\"], [0.1111111111111111, \"#46039f\"], [0.2222222222222222, \"#7201a8\"], [0.3333333333333333, \"#9c179e\"], [0.4444444444444444, \"#bd3786\"], [0.5555555555555556, \"#d8576b\"], [0.6666666666666666, \"#ed7953\"], [0.7777777777777778, \"#fb9f3a\"], [0.8888888888888888, \"#fdca26\"], [1.0, \"#f0f921\"]], \"type\": \"heatmap\"}], \"heatmapgl\": [{\"colorbar\": {\"outlinewidth\": 0, \"ticks\": \"\"}, \"colorscale\": [[0.0, \"#0d0887\"], [0.1111111111111111, \"#46039f\"], [0.2222222222222222, \"#7201a8\"], [0.3333333333333333, \"#9c179e\"], [0.4444444444444444, \"#bd3786\"], [0.5555555555555556, \"#d8576b\"], [0.6666666666666666, \"#ed7953\"], [0.7777777777777778, \"#fb9f3a\"], [0.8888888888888888, \"#fdca26\"], [1.0, \"#f0f921\"]], \"type\": \"heatmapgl\"}], \"histogram\": [{\"marker\": {\"colorbar\": {\"outlinewidth\": 0, \"ticks\": \"\"}}, \"type\": \"histogram\"}], \"histogram2d\": [{\"colorbar\": {\"outlinewidth\": 0, \"ticks\": \"\"}, \"colorscale\": [[0.0, \"#0d0887\"], [0.1111111111111111, \"#46039f\"], [0.2222222222222222, \"#7201a8\"], [0.3333333333333333, \"#9c179e\"], [0.4444444444444444, \"#bd3786\"], [0.5555555555555556, \"#d8576b\"], [0.6666666666666666, \"#ed7953\"], [0.7777777777777778, \"#fb9f3a\"], [0.8888888888888888, \"#fdca26\"], [1.0, \"#f0f921\"]], \"type\": \"histogram2d\"}], \"histogram2dcontour\": [{\"colorbar\": {\"outlinewidth\": 0, \"ticks\": \"\"}, \"colorscale\": [[0.0, \"#0d0887\"], [0.1111111111111111, \"#46039f\"], [0.2222222222222222, \"#7201a8\"], [0.3333333333333333, \"#9c179e\"], [0.4444444444444444, \"#bd3786\"], [0.5555555555555556, \"#d8576b\"], [0.6666666666666666, \"#ed7953\"], [0.7777777777777778, \"#fb9f3a\"], [0.8888888888888888, \"#fdca26\"], [1.0, \"#f0f921\"]], \"type\": \"histogram2dcontour\"}], \"mesh3d\": [{\"colorbar\": {\"outlinewidth\": 0, \"ticks\": \"\"}, \"type\": \"mesh3d\"}], \"parcoords\": [{\"line\": {\"colorbar\": {\"outlinewidth\": 0, \"ticks\": \"\"}}, \"type\": \"parcoords\"}], \"pie\": [{\"automargin\": true, \"type\": \"pie\"}], \"scatter\": [{\"marker\": {\"colorbar\": {\"outlinewidth\": 0, \"ticks\": \"\"}}, \"type\": \"scatter\"}], \"scatter3d\": [{\"line\": {\"colorbar\": {\"outlinewidth\": 0, \"ticks\": \"\"}}, \"marker\": {\"colorbar\": {\"outlinewidth\": 0, \"ticks\": \"\"}}, \"type\": \"scatter3d\"}], \"scattercarpet\": [{\"marker\": {\"colorbar\": {\"outlinewidth\": 0, \"ticks\": \"\"}}, \"type\": \"scattercarpet\"}], \"scattergeo\": [{\"marker\": {\"colorbar\": {\"outlinewidth\": 0, \"ticks\": \"\"}}, \"type\": \"scattergeo\"}], \"scattergl\": [{\"marker\": {\"colorbar\": {\"outlinewidth\": 0, \"ticks\": \"\"}}, \"type\": \"scattergl\"}], \"scattermapbox\": [{\"marker\": {\"colorbar\": {\"outlinewidth\": 0, \"ticks\": \"\"}}, \"type\": \"scattermapbox\"}], \"scatterpolar\": [{\"marker\": {\"colorbar\": {\"outlinewidth\": 0, \"ticks\": \"\"}}, \"type\": \"scatterpolar\"}], \"scatterpolargl\": [{\"marker\": {\"colorbar\": {\"outlinewidth\": 0, \"ticks\": \"\"}}, \"type\": \"scatterpolargl\"}], \"scatterternary\": [{\"marker\": {\"colorbar\": {\"outlinewidth\": 0, \"ticks\": \"\"}}, \"type\": \"scatterternary\"}], \"surface\": [{\"colorbar\": {\"outlinewidth\": 0, \"ticks\": \"\"}, \"colorscale\": [[0.0, \"#0d0887\"], [0.1111111111111111, \"#46039f\"], [0.2222222222222222, \"#7201a8\"], [0.3333333333333333, \"#9c179e\"], [0.4444444444444444, \"#bd3786\"], [0.5555555555555556, \"#d8576b\"], [0.6666666666666666, \"#ed7953\"], [0.7777777777777778, \"#fb9f3a\"], [0.8888888888888888, \"#fdca26\"], [1.0, \"#f0f921\"]], \"type\": \"surface\"}], \"table\": [{\"cells\": {\"fill\": {\"color\": \"#EBF0F8\"}, \"line\": {\"color\": \"white\"}}, \"header\": {\"fill\": {\"color\": \"#C8D4E3\"}, \"line\": {\"color\": \"white\"}}, \"type\": \"table\"}]}, \"layout\": {\"annotationdefaults\": {\"arrowcolor\": \"#2a3f5f\", \"arrowhead\": 0, \"arrowwidth\": 1}, \"coloraxis\": {\"colorbar\": {\"outlinewidth\": 0, \"ticks\": \"\"}}, \"colorscale\": {\"diverging\": [[0, \"#8e0152\"], [0.1, \"#c51b7d\"], [0.2, \"#de77ae\"], [0.3, \"#f1b6da\"], [0.4, \"#fde0ef\"], [0.5, \"#f7f7f7\"], [0.6, \"#e6f5d0\"], [0.7, \"#b8e186\"], [0.8, \"#7fbc41\"], [0.9, \"#4d9221\"], [1, \"#276419\"]], \"sequential\": [[0.0, \"#0d0887\"], [0.1111111111111111, \"#46039f\"], [0.2222222222222222, \"#7201a8\"], [0.3333333333333333, \"#9c179e\"], [0.4444444444444444, \"#bd3786\"], [0.5555555555555556, \"#d8576b\"], [0.6666666666666666, \"#ed7953\"], [0.7777777777777778, \"#fb9f3a\"], [0.8888888888888888, \"#fdca26\"], [1.0, \"#f0f921\"]], \"sequentialminus\": [[0.0, \"#0d0887\"], [0.1111111111111111, \"#46039f\"], [0.2222222222222222, \"#7201a8\"], [0.3333333333333333, \"#9c179e\"], [0.4444444444444444, \"#bd3786\"], [0.5555555555555556, \"#d8576b\"], [0.6666666666666666, \"#ed7953\"], [0.7777777777777778, \"#fb9f3a\"], [0.8888888888888888, \"#fdca26\"], [1.0, \"#f0f921\"]]}, \"colorway\": [\"#636efa\", \"#EF553B\", \"#00cc96\", \"#ab63fa\", \"#FFA15A\", \"#19d3f3\", \"#FF6692\", \"#B6E880\", \"#FF97FF\", \"#FECB52\"], \"font\": {\"color\": \"#2a3f5f\"}, \"geo\": {\"bgcolor\": \"white\", \"lakecolor\": \"white\", \"landcolor\": \"#E5ECF6\", \"showlakes\": true, \"showland\": true, \"subunitcolor\": \"white\"}, \"hoverlabel\": {\"align\": \"left\"}, \"hovermode\": \"closest\", \"mapbox\": {\"style\": \"light\"}, \"paper_bgcolor\": \"white\", \"plot_bgcolor\": \"#E5ECF6\", \"polar\": {\"angularaxis\": {\"gridcolor\": \"white\", \"linecolor\": \"white\", \"ticks\": \"\"}, \"bgcolor\": \"#E5ECF6\", \"radialaxis\": {\"gridcolor\": \"white\", \"linecolor\": \"white\", \"ticks\": \"\"}}, \"scene\": {\"xaxis\": {\"backgroundcolor\": \"#E5ECF6\", \"gridcolor\": \"white\", \"gridwidth\": 2, \"linecolor\": \"white\", \"showbackground\": true, \"ticks\": \"\", \"zerolinecolor\": \"white\"}, \"yaxis\": {\"backgroundcolor\": \"#E5ECF6\", \"gridcolor\": \"white\", \"gridwidth\": 2, \"linecolor\": \"white\", \"showbackground\": true, \"ticks\": \"\", \"zerolinecolor\": \"white\"}, \"zaxis\": {\"backgroundcolor\": \"#E5ECF6\", \"gridcolor\": \"white\", \"gridwidth\": 2, \"linecolor\": \"white\", \"showbackground\": true, \"ticks\": \"\", \"zerolinecolor\": \"white\"}}, \"shapedefaults\": {\"line\": {\"color\": \"#2a3f5f\"}}, \"ternary\": {\"aaxis\": {\"gridcolor\": \"white\", \"linecolor\": \"white\", \"ticks\": \"\"}, \"baxis\": {\"gridcolor\": \"white\", \"linecolor\": \"white\", \"ticks\": \"\"}, \"bgcolor\": \"#E5ECF6\", \"caxis\": {\"gridcolor\": \"white\", \"linecolor\": \"white\", \"ticks\": \"\"}}, \"title\": {\"x\": 0.05}, \"xaxis\": {\"automargin\": true, \"gridcolor\": \"white\", \"linecolor\": \"white\", \"ticks\": \"\", \"title\": {\"standoff\": 15}, \"zerolinecolor\": \"white\", \"zerolinewidth\": 2}, \"yaxis\": {\"automargin\": true, \"gridcolor\": \"white\", \"linecolor\": \"white\", \"ticks\": \"\", \"title\": {\"standoff\": 15}, \"zerolinecolor\": \"white\", \"zerolinewidth\": 2}}}, \"title\": {\"text\": \"Data\"}},\n",
       "                        {\"responsive\": true}\n",
       "                    ).then(function(){\n",
       "                            \n",
       "var gd = document.getElementById('246964b7-3600-4ab7-8934-b55b303b5e08');\n",
       "var x = new MutationObserver(function (mutations, observer) {{\n",
       "        var display = window.getComputedStyle(gd).display;\n",
       "        if (!display || display === 'none') {{\n",
       "            console.log([gd, 'removed!']);\n",
       "            Plotly.purge(gd);\n",
       "            observer.disconnect();\n",
       "        }}\n",
       "}});\n",
       "\n",
       "// Listen for the removal of the full notebook cells\n",
       "var notebookContainer = gd.closest('#notebook-container');\n",
       "if (notebookContainer) {{\n",
       "    x.observe(notebookContainer, {childList: true});\n",
       "}}\n",
       "\n",
       "// Listen for the clearing of the current output cell\n",
       "var outputEl = gd.closest('.output');\n",
       "if (outputEl) {{\n",
       "    x.observe(outputEl, {childList: true});\n",
       "}}\n",
       "\n",
       "                        })\n",
       "                };\n",
       "                });\n",
       "            </script>\n",
       "        </div>"
      ]
     },
     "metadata": {},
     "output_type": "display_data"
    }
   ],
   "source": [
    "# prepare the data\n",
    "data = np.asarray([30,21,29,31,40,48,53,47,37,39,31,29,17,9,20,24,27,35,41,38,27,31,27,26,21,13,\n",
    "                   21,18,33,35,40,36,22,24,21,20,17,14,17,19,26,29,40,31,20,24,18,26,17,9,17,21,\n",
    "                   28,32,46,33,23,28,22,27,18,8,17,21,31,34,44,38,31,30,26,32])\n",
    "n = len(data)\n",
    "print(n)\n",
    "# plot the data\n",
    "fig = go.Figure(data=[go.Scatter(x=list(range(n)), y=data, mode='markers+lines',line={'color':'black'},\n",
    "                                 marker={'color':'black', 'symbol':'star'})], layout=go.Layout({'title':'Data'}))\n",
    "plyoff.iplot(fig)"
   ]
  },
  {
   "cell_type": "markdown",
   "metadata": {},
   "source": [
    "### Optimally fit the single, double, and triple exponential smoothing to the data"
   ]
  },
  {
   "cell_type": "code",
   "execution_count": 7,
   "metadata": {},
   "outputs": [],
   "source": [
    "# global optimization settings\n",
    "meth = 'Nelder-Mead'\n",
    "maxIter = 500\n",
    "initCnt = 25\n",
    "np.random.seed(42)\n",
    "\n",
    "def MYOBJFUN(actl, pred):\n",
    "    #res = ME(actl, pred)\n",
    "    #res = MAE(actl, pred)\n",
    "    #res = MDE(actl, pred)\n",
    "    #res = MDAE(actl, pred)\n",
    "    #res = MAPE(actl, pred)\n",
    "    #res = SSE(actl, pred)\n",
    "    res = MSE(actl, pred)\n",
    "    return res"
   ]
  },
  {
   "cell_type": "code",
   "execution_count": 8,
   "metadata": {},
   "outputs": [
    {
     "name": "stdout",
     "output_type": "stream",
     "text": [
      "Optimization terminated successfully., objective=0.0000(array([1.2547094])), 18 iterations; best=0.0000\n",
      "Optimization terminated successfully., objective=0.0000(array([1.04578574])), 11 iterations; best=0.0000\n",
      "Optimization terminated successfully., objective=0.0000(array([1.13459061])), 15 iterations; best=0.0000\n",
      "Optimization terminated successfully., objective=0.0000(array([1.04765235])), 16 iterations; best=0.0000\n",
      "Optimization terminated successfully., objective=0.0000(array([1.14673701])), 20 iterations; best=0.0000\n",
      "Optimization terminated successfully., objective=0.0000(array([1.14655972])), 20 iterations; best=0.0000\n",
      "Optimization terminated successfully., objective=0.0000(array([1.17038479])), 21 iterations; best=0.0000\n",
      "Optimization terminated successfully., objective=0.0000(array([1.08272018])), 13 iterations; best=0.0000\n",
      "Optimization terminated successfully., objective=0.0000(array([1.05195127])), 16 iterations; best=0.0000\n",
      "Optimization terminated successfully., objective=0.0000(array([1.0975125])), 15 iterations; best=0.0000\n",
      "Optimization terminated successfully., objective=0.0000(array([1.07348138])), 23 iterations; best=0.0000\n",
      "Optimization terminated successfully., objective=0.0000(array([1.01840534])), 10 iterations; best=0.0000\n",
      "Optimization terminated successfully., objective=0.0000(array([1.0405533])), 13 iterations; best=0.0000\n",
      "Optimization terminated successfully., objective=0.0000(array([1.22094989])), 19 iterations; best=0.0000\n",
      "Optimization terminated successfully., objective=0.0000(array([1.04549356])), 19 iterations; best=0.0000\n",
      "Optimization terminated successfully., objective=0.0000(array([1.05457593])), 19 iterations; best=0.0000\n",
      "Optimization terminated successfully., objective=0.0000(array([1.01921151])), 18 iterations; best=0.0000\n",
      "Optimization terminated successfully., objective=0.0000(array([1.12822633])), 17 iterations; best=0.0000\n",
      "Optimization terminated successfully., objective=0.0000(array([1.1014598])), 17 iterations; best=0.0000\n",
      "Optimization terminated successfully., objective=0.0000(array([1.20860093])), 19 iterations; best=0.0000\n",
      "Optimization terminated successfully., objective=0.0000(array([1.07074257])), 16 iterations; best=0.0000\n",
      "Optimization terminated successfully., objective=0.0000(array([1.02527988])), 20 iterations; best=0.0000\n",
      "Optimization terminated successfully., objective=0.0000(array([1.21240029])), 19 iterations; best=0.0000\n",
      "Optimization terminated successfully., objective=0.0000(array([1.22731218])), 18 iterations; best=0.0000\n",
      "Optimization terminated successfully., objective=0.0000(array([1.16297846])), 17 iterations; best=0.0000\n",
      "Optimal value for alpha is 1.0000\n"
     ]
    },
    {
     "data": {
      "text/html": [
       "<div>\n",
       "<style scoped>\n",
       "    .dataframe tbody tr th:only-of-type {\n",
       "        vertical-align: middle;\n",
       "    }\n",
       "\n",
       "    .dataframe tbody tr th {\n",
       "        vertical-align: top;\n",
       "    }\n",
       "\n",
       "    .dataframe thead th {\n",
       "        text-align: right;\n",
       "    }\n",
       "</style>\n",
       "<table border=\"1\" class=\"dataframe\">\n",
       "  <thead>\n",
       "    <tr style=\"text-align: right;\">\n",
       "      <th></th>\n",
       "      <th>Data</th>\n",
       "      <th>ES_Sing</th>\n",
       "      <th>ESErr_Sing</th>\n",
       "    </tr>\n",
       "  </thead>\n",
       "  <tbody>\n",
       "    <tr>\n",
       "      <th>0</th>\n",
       "      <td>30.0</td>\n",
       "      <td>30.0</td>\n",
       "      <td>0.0</td>\n",
       "    </tr>\n",
       "    <tr>\n",
       "      <th>1</th>\n",
       "      <td>21.0</td>\n",
       "      <td>21.0</td>\n",
       "      <td>0.0</td>\n",
       "    </tr>\n",
       "    <tr>\n",
       "      <th>2</th>\n",
       "      <td>29.0</td>\n",
       "      <td>29.0</td>\n",
       "      <td>0.0</td>\n",
       "    </tr>\n",
       "    <tr>\n",
       "      <th>3</th>\n",
       "      <td>31.0</td>\n",
       "      <td>31.0</td>\n",
       "      <td>0.0</td>\n",
       "    </tr>\n",
       "    <tr>\n",
       "      <th>4</th>\n",
       "      <td>40.0</td>\n",
       "      <td>40.0</td>\n",
       "      <td>0.0</td>\n",
       "    </tr>\n",
       "  </tbody>\n",
       "</table>\n",
       "</div>"
      ],
      "text/plain": [
       "   Data  ES_Sing  ESErr_Sing\n",
       "0  30.0     30.0         0.0\n",
       "1  21.0     21.0         0.0\n",
       "2  29.0     29.0         0.0\n",
       "3  31.0     31.0         0.0\n",
       "4  40.0     40.0         0.0"
      ]
     },
     "metadata": {},
     "output_type": "display_data"
    },
    {
     "name": "stdout",
     "output_type": "stream",
     "text": [
      "Objective=0.0000\n"
     ]
    }
   ],
   "source": [
    "''' single exponential smoothing '''\n",
    "# optimize alpha\n",
    "minMe = lambda a: MYOBJFUN(data, exponential_smoothing(data, min(1, max(0, a)))[:-1])\n",
    "\n",
    "# list of initial alphas to try\n",
    "alphas = np.random.rand(initCnt)\n",
    "optimS = [None]*initCnt\n",
    "best = np.inf\n",
    "bestOptimRes = None\n",
    "for init in range(initCnt):\n",
    "    # run the optimization\n",
    "    optimRes = minimize(minMe, x0=alphas[init], method=meth, options={'maxiter':maxIter})\n",
    "    # is it better than the current best?\n",
    "    if optimRes.success & (optimRes.fun < best):\n",
    "        bestOptimRes = optimRes\n",
    "        best = optimRes.fun\n",
    "        # talk\n",
    "    print('%s, objective=%0.4f(%r), %d iterations; best=%0.4f'%\\\n",
    "          (optimRes.message, optimRes.fun, optimRes.x, optimRes.nit, best)) \n",
    "if bestOptimRes.success:\n",
    "    alpha = min(1, max(0, bestOptimRes.x))\n",
    "    print('Optimal value for alpha is %0.4f'%alpha)\n",
    "else:\n",
    "    alpha = 0.5\n",
    "    print(bestOptimRes)\n",
    "    \n",
    "# execute\n",
    "smoothed = exponential_smoothing(data, alpha)\n",
    "\n",
    "# store results & compute error\n",
    "single = pd.DataFrame(data, columns=['Data']).append(pd.Series(dtype=float), ignore_index=True)\n",
    "single['ES_Sing'] = smoothed\n",
    "single['ESErr_Sing'] = single['Data'] - single.ES_Sing\n",
    "display(single.head())\n",
    "print('Objective=%0.4f'%MYOBJFUN(data, smoothed[:-1]))"
   ]
  },
  {
   "cell_type": "code",
   "execution_count": 9,
   "metadata": {},
   "outputs": [
    {
     "name": "stdout",
     "output_type": "stream",
     "text": [
      "Optimization terminated successfully., objective=0.0000(array([4.5238097 , 1.04146257])), 27 iterations; best=0.0000\n",
      "Optimization terminated successfully., objective=0.0000(array([1.5672098, 1.1066119])), 24 iterations; best=0.0000\n",
      "Optimization terminated successfully., objective=0.0000(array([2.07614321, 1.31439219])), 43 iterations; best=0.0000\n",
      "Optimization terminated successfully., objective=0.0000(array([13.77062336,  1.02160342])), 33 iterations; best=0.0000\n",
      "Optimization terminated successfully., objective=0.0000(array([1.02005195, 1.03805444])), 15 iterations; best=0.0000\n",
      "Optimization terminated successfully., objective=0.0000(array([3.50231835, 1.06912294])), 26 iterations; best=0.0000\n",
      "Optimization terminated successfully., objective=0.0000(array([1.29008493, 1.27870536])), 39 iterations; best=0.0000\n",
      "Optimization terminated successfully., objective=0.0000(array([14.14594881,  1.28309677])), 32 iterations; best=0.0000\n",
      "Optimization terminated successfully., objective=0.0000(array([48.74996431,  1.13447677])), 37 iterations; best=0.0000\n",
      "Optimization terminated successfully., objective=0.0000(array([2.47576688, 1.09556931])), 25 iterations; best=0.0000\n",
      "Optimization terminated successfully., objective=0.0000(array([4.25295311, 1.11881142])), 27 iterations; best=0.0000\n",
      "Optimization terminated successfully., objective=0.0000(array([1.58498856, 1.02123772])), 24 iterations; best=0.0000\n",
      "Optimization terminated successfully., objective=0.0000(array([1.93477988, 1.01768512])), 36 iterations; best=0.0000\n",
      "Optimization terminated successfully., objective=0.0000(array([1.00282809, 1.06280818])), 17 iterations; best=0.0000\n",
      "Optimization terminated successfully., objective=0.0000(array([1.05981114, 1.0033509 ])), 19 iterations; best=0.0000\n",
      "Optimization terminated successfully., objective=0.0000(array([6.85310863, 1.20430172])), 29 iterations; best=0.0000\n",
      "Optimization terminated successfully., objective=0.0000(array([26.52364464,  1.18598779])), 35 iterations; best=0.0000\n",
      "Optimization terminated successfully., objective=0.0000(array([1.57226049, 1.09558411])), 34 iterations; best=0.0000\n",
      "Optimization terminated successfully., objective=0.0000(array([1.01066915, 1.35608649])), 22 iterations; best=0.0000\n",
      "Optimization terminated successfully., objective=0.0000(array([1.21637555, 1.04801741])), 34 iterations; best=0.0000\n",
      "Optimization terminated successfully., objective=0.0000(array([8.8199508 , 1.19984454])), 31 iterations; best=0.0000\n",
      "Optimization terminated successfully., objective=0.0000(array([14.93610088,  1.1992716 ])), 32 iterations; best=0.0000\n",
      "Optimization terminated successfully., objective=0.0000(array([1.05473541, 1.08596921])), 18 iterations; best=0.0000\n",
      "Optimization terminated successfully., objective=0.0000(array([216.10295834,   1.12457541])), 42 iterations; best=0.0000\n",
      "Optimization terminated successfully., objective=0.0000(array([1.13654937, 1.06470387])), 19 iterations; best=0.0000\n",
      "Optimal values: alpha=1.0000, beta=1.0000\n"
     ]
    },
    {
     "data": {
      "text/html": [
       "<div>\n",
       "<style scoped>\n",
       "    .dataframe tbody tr th:only-of-type {\n",
       "        vertical-align: middle;\n",
       "    }\n",
       "\n",
       "    .dataframe tbody tr th {\n",
       "        vertical-align: top;\n",
       "    }\n",
       "\n",
       "    .dataframe thead th {\n",
       "        text-align: right;\n",
       "    }\n",
       "</style>\n",
       "<table border=\"1\" class=\"dataframe\">\n",
       "  <thead>\n",
       "    <tr style=\"text-align: right;\">\n",
       "      <th></th>\n",
       "      <th>Data</th>\n",
       "      <th>Level_Doub</th>\n",
       "      <th>Trend_Doub</th>\n",
       "      <th>ES_Doub</th>\n",
       "      <th>ESErr_Doub</th>\n",
       "    </tr>\n",
       "  </thead>\n",
       "  <tbody>\n",
       "    <tr>\n",
       "      <th>0</th>\n",
       "      <td>30.0</td>\n",
       "      <td>30.0</td>\n",
       "      <td>-9.0</td>\n",
       "      <td>30.0</td>\n",
       "      <td>0.0</td>\n",
       "    </tr>\n",
       "    <tr>\n",
       "      <th>1</th>\n",
       "      <td>21.0</td>\n",
       "      <td>21.0</td>\n",
       "      <td>-9.0</td>\n",
       "      <td>21.0</td>\n",
       "      <td>0.0</td>\n",
       "    </tr>\n",
       "    <tr>\n",
       "      <th>2</th>\n",
       "      <td>29.0</td>\n",
       "      <td>29.0</td>\n",
       "      <td>8.0</td>\n",
       "      <td>29.0</td>\n",
       "      <td>0.0</td>\n",
       "    </tr>\n",
       "    <tr>\n",
       "      <th>3</th>\n",
       "      <td>31.0</td>\n",
       "      <td>31.0</td>\n",
       "      <td>2.0</td>\n",
       "      <td>31.0</td>\n",
       "      <td>0.0</td>\n",
       "    </tr>\n",
       "    <tr>\n",
       "      <th>4</th>\n",
       "      <td>40.0</td>\n",
       "      <td>40.0</td>\n",
       "      <td>9.0</td>\n",
       "      <td>40.0</td>\n",
       "      <td>0.0</td>\n",
       "    </tr>\n",
       "  </tbody>\n",
       "</table>\n",
       "</div>"
      ],
      "text/plain": [
       "   Data  Level_Doub  Trend_Doub  ES_Doub  ESErr_Doub\n",
       "0  30.0        30.0        -9.0     30.0         0.0\n",
       "1  21.0        21.0        -9.0     21.0         0.0\n",
       "2  29.0        29.0         8.0     29.0         0.0\n",
       "3  31.0        31.0         2.0     31.0         0.0\n",
       "4  40.0        40.0         9.0     40.0         0.0"
      ]
     },
     "metadata": {},
     "output_type": "display_data"
    },
    {
     "name": "stdout",
     "output_type": "stream",
     "text": [
      "Objective=0.0000\n"
     ]
    }
   ],
   "source": [
    "''' double exponential smoothing'''\n",
    "# optimize alpha & beta\n",
    "minMe = lambda ab: MYOBJFUN(data, double_exponential_smoothing(data,\n",
    "                                    min(1, max(0, ab[0])), min(1, max(0, ab[1])), m=0)[-1])\n",
    "\n",
    "# list of initial alphas & betas to try\n",
    "alphabetas = np.random.rand(initCnt, 2)\n",
    "optimS = [None]*initCnt\n",
    "best = np.inf\n",
    "bestOptimRes = None\n",
    "for init in range(initCnt):\n",
    "    # run the optimization\n",
    "    optimRes = minimize(minMe, x0=alphabetas[init], method=meth, options={'maxiter':maxIter})\n",
    "    # is it better than the current best?\n",
    "    if optimRes.success & (optimRes.fun < best):\n",
    "        bestOptimRes = optimRes\n",
    "        best = optimRes.fun\n",
    "        # talk\n",
    "    print('%s, objective=%0.4f(%r), %d iterations; best=%0.4f'%\\\n",
    "          (optimRes.message, optimRes.fun, optimRes.x, optimRes.nit, best))        \n",
    "if bestOptimRes.success:\n",
    "    alpha = min(1, max(0, bestOptimRes.x[0]))\n",
    "    beta = min(1, max(0, bestOptimRes.x[1]))\n",
    "    print('Optimal values: alpha=%0.4f, beta=%0.4f'%(alpha, beta))\n",
    "else:\n",
    "    alpha, beta = (0.5, 0.5)\n",
    "    print(bestOptimRes)\n",
    "    \n",
    "# execute\n",
    "forecasts = 2\n",
    "l,t,s = double_exponential_smoothing(data, alpha, beta, forecasts)\n",
    "\n",
    "# store results & compute error\n",
    "double = pd.DataFrame(data, columns=['Data'])\n",
    "for i in range(forecasts):\n",
    "    double = double.append(pd.Series(dtype=float), ignore_index=True)\n",
    "double['Level_Doub'] = l\n",
    "double['Trend_Doub'] = t\n",
    "double['ES_Doub'] = s\n",
    "double['ESErr_Doub'] = double['Data'] - double.ES_Doub\n",
    "display(double.head())\n",
    "print('Objective=%0.4f'%MYOBJFUN(data, s[:-forecasts]))"
   ]
  },
  {
   "cell_type": "code",
   "execution_count": 10,
   "metadata": {},
   "outputs": [
    {
     "name": "stdout",
     "output_type": "stream",
     "text": [
      "Optimization terminated successfully., objective=0.1040(array([0.96738295, 0.07130334, 0.07603036])), 50 iterations; best=0.1040\n",
      "Optimization terminated successfully., objective=0.1039(array([ 9.69710478e-01,  7.13274188e-02, -6.10726137e-04])), 155 iterations; best=0.1039\n",
      "Optimization terminated successfully., objective=0.1115(array([1.38700476, 0.06408549, 0.07506364])), 43 iterations; best=0.1039\n",
      "Optimization terminated successfully., objective=0.1039(array([ 0.96971148,  0.07132893, -0.02641222])), 146 iterations; best=0.1039\n",
      "Optimization terminated successfully., objective=0.1042(array([0.93253567, 0.07125179, 0.58196267])), 66 iterations; best=0.1039\n",
      "Optimization terminated successfully., objective=0.0884(array([0.00784602, 1.03099146, 4.39492835])), 157 iterations; best=0.0884\n",
      "Optimization terminated successfully., objective=0.1039(array([ 0.96971152,  0.07132919, -0.01201087])), 148 iterations; best=0.0884\n",
      "Optimization terminated successfully., objective=0.1115(array([1.25654113, 0.06409513, 0.0289839 ])), 44 iterations; best=0.0884\n",
      "Optimization terminated successfully., objective=0.0884(array([0.00784605, 1.02211832, 5.40083532])), 126 iterations; best=0.0884\n",
      "Optimization terminated successfully., objective=0.1039(array([ 0.9697115 ,  0.07132898, -0.00756962])), 160 iterations; best=0.0884\n",
      "Optimization terminated successfully., objective=0.1100(array([0.74363226, 0.06700695, 1.05831284])), 92 iterations; best=0.0884\n",
      "Optimization terminated successfully., objective=0.1039(array([ 0.9697115 ,  0.07132889, -0.00726172])), 124 iterations; best=0.0884\n",
      "Optimization terminated successfully., objective=0.1115(array([ 1.07740974,  0.06407731, -4.66464077])), 62 iterations; best=0.0884\n",
      "Optimization terminated successfully., objective=0.1039(array([ 0.96971165,  0.07132862, -0.01576156])), 131 iterations; best=0.0884\n",
      "Optimization terminated successfully., objective=0.6072(array([ 1.08556134, -0.61983264, -1.28443356])), 30 iterations; best=0.0884\n",
      "Optimization terminated successfully., objective=0.1039(array([ 0.96971143,  0.07132889, -0.00689671])), 119 iterations; best=0.0884\n",
      "Optimization terminated successfully., objective=0.6072(array([ 0.17608308, -0.1367611 ,  1.01794023])), 28 iterations; best=0.0884\n",
      "Optimization terminated successfully., objective=0.1039(array([0.96943706, 0.0713645 , 0.00916302])), 50 iterations; best=0.0884\n",
      "Optimization terminated successfully., objective=0.1115(array([1.17149712, 0.06408986, 0.2586749 ])), 45 iterations; best=0.0884\n",
      "Optimization terminated successfully., objective=0.0884(array([0.0078461 , 1.00591061, 3.87210798])), 140 iterations; best=0.0884\n",
      "Optimization terminated successfully., objective=0.1039(array([ 0.96971157,  0.07132862, -0.00456165])), 149 iterations; best=0.0884\n",
      "Optimization terminated successfully., objective=2.1220(array([ 0.63244649,  1.16190795, -0.22968099])), 49 iterations; best=0.0884\n",
      "Optimization terminated successfully., objective=0.1039(array([ 0.96971197,  0.07132891, -0.00609625])), 179 iterations; best=0.0884\n",
      "Optimization terminated successfully., objective=0.1100(array([0.74363377, 0.0670069 , 3.7452726 ])), 75 iterations; best=0.0884\n",
      "Optimization terminated successfully., objective=0.1039(array([ 0.96971095,  0.07132896, -0.00337613])), 104 iterations; best=0.0884\n",
      "Optimal values: alpha=0.0078, beta=1.0000, gamma=1.0000\n"
     ]
    },
    {
     "data": {
      "text/html": [
       "<div>\n",
       "<style scoped>\n",
       "    .dataframe tbody tr th:only-of-type {\n",
       "        vertical-align: middle;\n",
       "    }\n",
       "\n",
       "    .dataframe tbody tr th {\n",
       "        vertical-align: top;\n",
       "    }\n",
       "\n",
       "    .dataframe thead th {\n",
       "        text-align: right;\n",
       "    }\n",
       "</style>\n",
       "<table border=\"1\" class=\"dataframe\">\n",
       "  <thead>\n",
       "    <tr style=\"text-align: right;\">\n",
       "      <th></th>\n",
       "      <th>Data</th>\n",
       "      <th>Level_Trip</th>\n",
       "      <th>Trend_Trip</th>\n",
       "      <th>Seasn_Trip</th>\n",
       "      <th>ES_Trip</th>\n",
       "      <th>ESErr_Trip</th>\n",
       "    </tr>\n",
       "  </thead>\n",
       "  <tbody>\n",
       "    <tr>\n",
       "      <th>0</th>\n",
       "      <td>30.0</td>\n",
       "      <td>30.000000</td>\n",
       "      <td>-0.784722</td>\n",
       "      <td>0.000000</td>\n",
       "      <td>30.000000</td>\n",
       "      <td>0.000000</td>\n",
       "    </tr>\n",
       "    <tr>\n",
       "      <th>1</th>\n",
       "      <td>21.0</td>\n",
       "      <td>29.269274</td>\n",
       "      <td>-0.730726</td>\n",
       "      <td>-8.269274</td>\n",
       "      <td>20.269274</td>\n",
       "      <td>0.730726</td>\n",
       "    </tr>\n",
       "    <tr>\n",
       "      <th>2</th>\n",
       "      <td>29.0</td>\n",
       "      <td>28.599160</td>\n",
       "      <td>-0.670113</td>\n",
       "      <td>0.400840</td>\n",
       "      <td>28.329887</td>\n",
       "      <td>0.670113</td>\n",
       "    </tr>\n",
       "    <tr>\n",
       "      <th>3</th>\n",
       "      <td>31.0</td>\n",
       "      <td>27.993135</td>\n",
       "      <td>-0.606026</td>\n",
       "      <td>3.006865</td>\n",
       "      <td>30.393974</td>\n",
       "      <td>0.606026</td>\n",
       "    </tr>\n",
       "    <tr>\n",
       "      <th>4</th>\n",
       "      <td>40.0</td>\n",
       "      <td>27.459372</td>\n",
       "      <td>-0.533763</td>\n",
       "      <td>12.540628</td>\n",
       "      <td>39.466237</td>\n",
       "      <td>0.533763</td>\n",
       "    </tr>\n",
       "  </tbody>\n",
       "</table>\n",
       "</div>"
      ],
      "text/plain": [
       "   Data  Level_Trip  Trend_Trip  Seasn_Trip    ES_Trip  ESErr_Trip\n",
       "0  30.0   30.000000   -0.784722    0.000000  30.000000    0.000000\n",
       "1  21.0   29.269274   -0.730726   -8.269274  20.269274    0.730726\n",
       "2  29.0   28.599160   -0.670113    0.400840  28.329887    0.670113\n",
       "3  31.0   27.993135   -0.606026    3.006865  30.393974    0.606026\n",
       "4  40.0   27.459372   -0.533763   12.540628  39.466237    0.533763"
      ]
     },
     "metadata": {},
     "output_type": "display_data"
    },
    {
     "name": "stdout",
     "output_type": "stream",
     "text": [
      "Objective=0.0884\n"
     ]
    }
   ],
   "source": [
    "''' triple exponential smoothing'''\n",
    "L = 12 # season length\n",
    "# optimize alpha, beta, and gamma\n",
    "minMe = lambda abg: MYOBJFUN(data, triple_exponential_smoothing(data, \n",
    "                        min(1, max(0, abg[0])), min(1, max(0, abg[1])), min(1, max(0, abg[2])), L=L , m=0)[-1])\n",
    "\n",
    "# list of initial alphas, betas, and gammas to try\n",
    "alphabetagammas = np.random.rand(initCnt, 3)\n",
    "optimS = [None]*initCnt\n",
    "best = np.inf\n",
    "bestOptimRes = None\n",
    "for init in range(initCnt):\n",
    "    # run the optimization\n",
    "    optimRes = minimize(minMe, x0=alphabetagammas[init], method=meth, options={'maxiter':maxIter})\n",
    "    # is it better than the current best?\n",
    "    if optimRes.success & (optimRes.fun < best):\n",
    "        bestOptimRes = optimRes\n",
    "        best = optimRes.fun\n",
    "        # talk\n",
    "    print('%s, objective=%0.4f(%r), %d iterations; best=%0.4f'%\\\n",
    "          (optimRes.message, optimRes.fun, optimRes.x, optimRes.nit, best)) \n",
    "if bestOptimRes.success:\n",
    "    alpha = min(1, max(0, bestOptimRes.x[0]))\n",
    "    beta = min(1, max(0, bestOptimRes.x[1]))\n",
    "    gamma = min(1, max(0, bestOptimRes.x[2]))\n",
    "    print('Optimal values: alpha=%0.4f, beta=%0.4f, gamma=%0.4f'%(alpha, beta, gamma))\n",
    "else:\n",
    "    alpha, beta, gamma = (0.5, 0.5, 0.5)\n",
    "    print(bestOptimRes)\n",
    "\n",
    "# execute\n",
    "#alpha = 0.716; beta = 0.029; gamma = 0.993 # values which supposedly are optimal, but increase the MSE/SSE\n",
    "moreforecasts = 24\n",
    "l,t,s,sl,p = triple_exponential_smoothing(data, alpha, beta, gamma, L, moreforecasts)\n",
    "\n",
    "# store results & compute error\n",
    "triple = pd.DataFrame(data, columns=['Data'])\n",
    "for i in range(moreforecasts):\n",
    "    triple = triple.append(pd.Series(dtype=float), ignore_index=True)\n",
    "triple['Level_Trip'] = l\n",
    "triple['Trend_Trip'] = t\n",
    "triple['Seasn_Trip'] = s\n",
    "triple['ES_Trip'] = p\n",
    "triple['ESErr_Trip'] = triple['Data'] - triple.ES_Trip\n",
    "display(triple.head())\n",
    "print('Objective=%0.4f'%MYOBJFUN(data, p[:-moreforecasts]))"
   ]
  },
  {
   "cell_type": "markdown",
   "metadata": {},
   "source": [
    "### Evaluate and compare the smoothing models"
   ]
  },
  {
   "cell_type": "code",
   "execution_count": 11,
   "metadata": {},
   "outputs": [
    {
     "data": {
      "text/html": [
       "<div>\n",
       "<style scoped>\n",
       "    .dataframe tbody tr th:only-of-type {\n",
       "        vertical-align: middle;\n",
       "    }\n",
       "\n",
       "    .dataframe tbody tr th {\n",
       "        vertical-align: top;\n",
       "    }\n",
       "\n",
       "    .dataframe thead th {\n",
       "        text-align: right;\n",
       "    }\n",
       "</style>\n",
       "<table border=\"1\" class=\"dataframe\">\n",
       "  <thead>\n",
       "    <tr style=\"text-align: right;\">\n",
       "      <th></th>\n",
       "      <th>Data</th>\n",
       "      <th>ES_Sing</th>\n",
       "      <th>ESErr_Sing</th>\n",
       "      <th>Level_Doub</th>\n",
       "      <th>Trend_Doub</th>\n",
       "      <th>ES_Doub</th>\n",
       "      <th>ESErr_Doub</th>\n",
       "      <th>Level_Trip</th>\n",
       "      <th>Trend_Trip</th>\n",
       "      <th>Seasn_Trip</th>\n",
       "      <th>ES_Trip</th>\n",
       "      <th>ESErr_Trip</th>\n",
       "    </tr>\n",
       "  </thead>\n",
       "  <tbody>\n",
       "    <tr>\n",
       "      <th>0</th>\n",
       "      <td>30.0</td>\n",
       "      <td>30.0</td>\n",
       "      <td>0.0</td>\n",
       "      <td>30.0</td>\n",
       "      <td>-9.0</td>\n",
       "      <td>30.0</td>\n",
       "      <td>0.0</td>\n",
       "      <td>30.000000</td>\n",
       "      <td>-0.784722</td>\n",
       "      <td>0.000000</td>\n",
       "      <td>30.000000</td>\n",
       "      <td>0.000000</td>\n",
       "    </tr>\n",
       "    <tr>\n",
       "      <th>1</th>\n",
       "      <td>21.0</td>\n",
       "      <td>21.0</td>\n",
       "      <td>0.0</td>\n",
       "      <td>21.0</td>\n",
       "      <td>-9.0</td>\n",
       "      <td>21.0</td>\n",
       "      <td>0.0</td>\n",
       "      <td>29.269274</td>\n",
       "      <td>-0.730726</td>\n",
       "      <td>-8.269274</td>\n",
       "      <td>20.269274</td>\n",
       "      <td>0.730726</td>\n",
       "    </tr>\n",
       "    <tr>\n",
       "      <th>2</th>\n",
       "      <td>29.0</td>\n",
       "      <td>29.0</td>\n",
       "      <td>0.0</td>\n",
       "      <td>29.0</td>\n",
       "      <td>8.0</td>\n",
       "      <td>29.0</td>\n",
       "      <td>0.0</td>\n",
       "      <td>28.599160</td>\n",
       "      <td>-0.670113</td>\n",
       "      <td>0.400840</td>\n",
       "      <td>28.329887</td>\n",
       "      <td>0.670113</td>\n",
       "    </tr>\n",
       "    <tr>\n",
       "      <th>3</th>\n",
       "      <td>31.0</td>\n",
       "      <td>31.0</td>\n",
       "      <td>0.0</td>\n",
       "      <td>31.0</td>\n",
       "      <td>2.0</td>\n",
       "      <td>31.0</td>\n",
       "      <td>0.0</td>\n",
       "      <td>27.993135</td>\n",
       "      <td>-0.606026</td>\n",
       "      <td>3.006865</td>\n",
       "      <td>30.393974</td>\n",
       "      <td>0.606026</td>\n",
       "    </tr>\n",
       "    <tr>\n",
       "      <th>4</th>\n",
       "      <td>40.0</td>\n",
       "      <td>40.0</td>\n",
       "      <td>0.0</td>\n",
       "      <td>40.0</td>\n",
       "      <td>9.0</td>\n",
       "      <td>40.0</td>\n",
       "      <td>0.0</td>\n",
       "      <td>27.459372</td>\n",
       "      <td>-0.533763</td>\n",
       "      <td>12.540628</td>\n",
       "      <td>39.466237</td>\n",
       "      <td>0.533763</td>\n",
       "    </tr>\n",
       "    <tr>\n",
       "      <th>5</th>\n",
       "      <td>48.0</td>\n",
       "      <td>48.0</td>\n",
       "      <td>0.0</td>\n",
       "      <td>48.0</td>\n",
       "      <td>8.0</td>\n",
       "      <td>48.0</td>\n",
       "      <td>0.0</td>\n",
       "      <td>27.027646</td>\n",
       "      <td>-0.431726</td>\n",
       "      <td>20.972354</td>\n",
       "      <td>47.568274</td>\n",
       "      <td>0.431726</td>\n",
       "    </tr>\n",
       "    <tr>\n",
       "      <th>6</th>\n",
       "      <td>53.0</td>\n",
       "      <td>53.0</td>\n",
       "      <td>0.0</td>\n",
       "      <td>53.0</td>\n",
       "      <td>5.0</td>\n",
       "      <td>53.0</td>\n",
       "      <td>0.0</td>\n",
       "      <td>26.673083</td>\n",
       "      <td>-0.354563</td>\n",
       "      <td>26.326917</td>\n",
       "      <td>52.645437</td>\n",
       "      <td>0.354563</td>\n",
       "    </tr>\n",
       "    <tr>\n",
       "      <th>7</th>\n",
       "      <td>47.0</td>\n",
       "      <td>47.0</td>\n",
       "      <td>0.0</td>\n",
       "      <td>47.0</td>\n",
       "      <td>-6.0</td>\n",
       "      <td>47.0</td>\n",
       "      <td>0.0</td>\n",
       "      <td>26.404398</td>\n",
       "      <td>-0.268685</td>\n",
       "      <td>20.595602</td>\n",
       "      <td>46.731315</td>\n",
       "      <td>0.268685</td>\n",
       "    </tr>\n",
       "    <tr>\n",
       "      <th>8</th>\n",
       "      <td>37.0</td>\n",
       "      <td>37.0</td>\n",
       "      <td>0.0</td>\n",
       "      <td>37.0</td>\n",
       "      <td>-10.0</td>\n",
       "      <td>37.0</td>\n",
       "      <td>0.0</td>\n",
       "      <td>26.226947</td>\n",
       "      <td>-0.177451</td>\n",
       "      <td>10.773053</td>\n",
       "      <td>36.822549</td>\n",
       "      <td>0.177451</td>\n",
       "    </tr>\n",
       "    <tr>\n",
       "      <th>9</th>\n",
       "      <td>39.0</td>\n",
       "      <td>39.0</td>\n",
       "      <td>0.0</td>\n",
       "      <td>39.0</td>\n",
       "      <td>2.0</td>\n",
       "      <td>39.0</td>\n",
       "      <td>0.0</td>\n",
       "      <td>26.136177</td>\n",
       "      <td>-0.090770</td>\n",
       "      <td>12.863823</td>\n",
       "      <td>38.909230</td>\n",
       "      <td>0.090770</td>\n",
       "    </tr>\n",
       "    <tr>\n",
       "      <th>10</th>\n",
       "      <td>31.0</td>\n",
       "      <td>31.0</td>\n",
       "      <td>0.0</td>\n",
       "      <td>31.0</td>\n",
       "      <td>-8.0</td>\n",
       "      <td>31.0</td>\n",
       "      <td>0.0</td>\n",
       "      <td>26.109890</td>\n",
       "      <td>-0.026288</td>\n",
       "      <td>4.890110</td>\n",
       "      <td>30.973712</td>\n",
       "      <td>0.026288</td>\n",
       "    </tr>\n",
       "    <tr>\n",
       "      <th>11</th>\n",
       "      <td>29.0</td>\n",
       "      <td>29.0</td>\n",
       "      <td>0.0</td>\n",
       "      <td>29.0</td>\n",
       "      <td>-2.0</td>\n",
       "      <td>29.0</td>\n",
       "      <td>0.0</td>\n",
       "      <td>26.112478</td>\n",
       "      <td>0.002588</td>\n",
       "      <td>2.887522</td>\n",
       "      <td>29.002588</td>\n",
       "      <td>-0.002588</td>\n",
       "    </tr>\n",
       "    <tr>\n",
       "      <th>12</th>\n",
       "      <td>17.0</td>\n",
       "      <td>17.0</td>\n",
       "      <td>0.0</td>\n",
       "      <td>17.0</td>\n",
       "      <td>-12.0</td>\n",
       "      <td>17.0</td>\n",
       "      <td>0.0</td>\n",
       "      <td>26.101849</td>\n",
       "      <td>-0.010629</td>\n",
       "      <td>-9.101849</td>\n",
       "      <td>16.989371</td>\n",
       "      <td>0.010629</td>\n",
       "    </tr>\n",
       "    <tr>\n",
       "      <th>13</th>\n",
       "      <td>9.0</td>\n",
       "      <td>9.0</td>\n",
       "      <td>0.0</td>\n",
       "      <td>9.0</td>\n",
       "      <td>-8.0</td>\n",
       "      <td>9.0</td>\n",
       "      <td>0.0</td>\n",
       "      <td>26.022003</td>\n",
       "      <td>-0.079846</td>\n",
       "      <td>-17.022003</td>\n",
       "      <td>8.920154</td>\n",
       "      <td>0.079846</td>\n",
       "    </tr>\n",
       "    <tr>\n",
       "      <th>14</th>\n",
       "      <td>20.0</td>\n",
       "      <td>20.0</td>\n",
       "      <td>0.0</td>\n",
       "      <td>20.0</td>\n",
       "      <td>11.0</td>\n",
       "      <td>20.0</td>\n",
       "      <td>0.0</td>\n",
       "      <td>25.892390</td>\n",
       "      <td>-0.129613</td>\n",
       "      <td>-5.892390</td>\n",
       "      <td>19.870387</td>\n",
       "      <td>0.129613</td>\n",
       "    </tr>\n",
       "    <tr>\n",
       "      <th>15</th>\n",
       "      <td>24.0</td>\n",
       "      <td>24.0</td>\n",
       "      <td>0.0</td>\n",
       "      <td>24.0</td>\n",
       "      <td>4.0</td>\n",
       "      <td>24.0</td>\n",
       "      <td>0.0</td>\n",
       "      <td>25.725355</td>\n",
       "      <td>-0.167036</td>\n",
       "      <td>-1.725355</td>\n",
       "      <td>23.832964</td>\n",
       "      <td>0.167036</td>\n",
       "    </tr>\n",
       "    <tr>\n",
       "      <th>16</th>\n",
       "      <td>27.0</td>\n",
       "      <td>27.0</td>\n",
       "      <td>0.0</td>\n",
       "      <td>27.0</td>\n",
       "      <td>3.0</td>\n",
       "      <td>27.0</td>\n",
       "      <td>0.0</td>\n",
       "      <td>25.471236</td>\n",
       "      <td>-0.254118</td>\n",
       "      <td>1.528764</td>\n",
       "      <td>26.745882</td>\n",
       "      <td>0.254118</td>\n",
       "    </tr>\n",
       "    <tr>\n",
       "      <th>17</th>\n",
       "      <td>35.0</td>\n",
       "      <td>35.0</td>\n",
       "      <td>0.0</td>\n",
       "      <td>35.0</td>\n",
       "      <td>8.0</td>\n",
       "      <td>35.0</td>\n",
       "      <td>0.0</td>\n",
       "      <td>25.129325</td>\n",
       "      <td>-0.341911</td>\n",
       "      <td>9.870675</td>\n",
       "      <td>34.658089</td>\n",
       "      <td>0.341911</td>\n",
       "    </tr>\n",
       "    <tr>\n",
       "      <th>18</th>\n",
       "      <td>41.0</td>\n",
       "      <td>41.0</td>\n",
       "      <td>0.0</td>\n",
       "      <td>41.0</td>\n",
       "      <td>6.0</td>\n",
       "      <td>41.0</td>\n",
       "      <td>0.0</td>\n",
       "      <td>24.708057</td>\n",
       "      <td>-0.421268</td>\n",
       "      <td>16.291943</td>\n",
       "      <td>40.578732</td>\n",
       "      <td>0.421268</td>\n",
       "    </tr>\n",
       "    <tr>\n",
       "      <th>19</th>\n",
       "      <td>38.0</td>\n",
       "      <td>38.0</td>\n",
       "      <td>0.0</td>\n",
       "      <td>38.0</td>\n",
       "      <td>-3.0</td>\n",
       "      <td>38.0</td>\n",
       "      <td>0.0</td>\n",
       "      <td>24.232789</td>\n",
       "      <td>-0.475268</td>\n",
       "      <td>13.767211</td>\n",
       "      <td>37.524732</td>\n",
       "      <td>0.475268</td>\n",
       "    </tr>\n",
       "    <tr>\n",
       "      <th>20</th>\n",
       "      <td>27.0</td>\n",
       "      <td>27.0</td>\n",
       "      <td>0.0</td>\n",
       "      <td>27.0</td>\n",
       "      <td>-11.0</td>\n",
       "      <td>27.0</td>\n",
       "      <td>0.0</td>\n",
       "      <td>23.698436</td>\n",
       "      <td>-0.534353</td>\n",
       "      <td>3.301564</td>\n",
       "      <td>26.465647</td>\n",
       "      <td>0.534353</td>\n",
       "    </tr>\n",
       "    <tr>\n",
       "      <th>21</th>\n",
       "      <td>31.0</td>\n",
       "      <td>31.0</td>\n",
       "      <td>0.0</td>\n",
       "      <td>31.0</td>\n",
       "      <td>4.0</td>\n",
       "      <td>31.0</td>\n",
       "      <td>0.0</td>\n",
       "      <td>23.124634</td>\n",
       "      <td>-0.573802</td>\n",
       "      <td>7.875366</td>\n",
       "      <td>30.426198</td>\n",
       "      <td>0.573802</td>\n",
       "    </tr>\n",
       "    <tr>\n",
       "      <th>22</th>\n",
       "      <td>27.0</td>\n",
       "      <td>27.0</td>\n",
       "      <td>0.0</td>\n",
       "      <td>27.0</td>\n",
       "      <td>-4.0</td>\n",
       "      <td>27.0</td>\n",
       "      <td>0.0</td>\n",
       "      <td>22.547373</td>\n",
       "      <td>-0.577261</td>\n",
       "      <td>4.452627</td>\n",
       "      <td>26.422739</td>\n",
       "      <td>0.577261</td>\n",
       "    </tr>\n",
       "    <tr>\n",
       "      <th>23</th>\n",
       "      <td>26.0</td>\n",
       "      <td>26.0</td>\n",
       "      <td>0.0</td>\n",
       "      <td>26.0</td>\n",
       "      <td>-1.0</td>\n",
       "      <td>26.0</td>\n",
       "      <td>0.0</td>\n",
       "      <td>21.979075</td>\n",
       "      <td>-0.568298</td>\n",
       "      <td>4.020925</td>\n",
       "      <td>25.431702</td>\n",
       "      <td>0.568298</td>\n",
       "    </tr>\n",
       "    <tr>\n",
       "      <th>24</th>\n",
       "      <td>21.0</td>\n",
       "      <td>21.0</td>\n",
       "      <td>0.0</td>\n",
       "      <td>21.0</td>\n",
       "      <td>-5.0</td>\n",
       "      <td>21.0</td>\n",
       "      <td>0.0</td>\n",
       "      <td>21.478967</td>\n",
       "      <td>-0.500108</td>\n",
       "      <td>-0.478967</td>\n",
       "      <td>20.499892</td>\n",
       "      <td>0.500108</td>\n",
       "    </tr>\n",
       "    <tr>\n",
       "      <th>25</th>\n",
       "      <td>13.0</td>\n",
       "      <td>13.0</td>\n",
       "      <td>0.0</td>\n",
       "      <td>13.0</td>\n",
       "      <td>-8.0</td>\n",
       "      <td>13.0</td>\n",
       "      <td>0.0</td>\n",
       "      <td>21.049811</td>\n",
       "      <td>-0.429155</td>\n",
       "      <td>-8.049811</td>\n",
       "      <td>12.570845</td>\n",
       "      <td>0.429155</td>\n",
       "    </tr>\n",
       "    <tr>\n",
       "      <th>26</th>\n",
       "      <td>21.0</td>\n",
       "      <td>21.0</td>\n",
       "      <td>0.0</td>\n",
       "      <td>21.0</td>\n",
       "      <td>8.0</td>\n",
       "      <td>21.0</td>\n",
       "      <td>0.0</td>\n",
       "      <td>20.669864</td>\n",
       "      <td>-0.379947</td>\n",
       "      <td>0.330136</td>\n",
       "      <td>20.620053</td>\n",
       "      <td>0.379947</td>\n",
       "    </tr>\n",
       "    <tr>\n",
       "      <th>27</th>\n",
       "      <td>18.0</td>\n",
       "      <td>18.0</td>\n",
       "      <td>0.0</td>\n",
       "      <td>18.0</td>\n",
       "      <td>-3.0</td>\n",
       "      <td>18.0</td>\n",
       "      <td>0.0</td>\n",
       "      <td>20.285487</td>\n",
       "      <td>-0.384377</td>\n",
       "      <td>-2.285487</td>\n",
       "      <td>17.615623</td>\n",
       "      <td>0.384377</td>\n",
       "    </tr>\n",
       "    <tr>\n",
       "      <th>28</th>\n",
       "      <td>33.0</td>\n",
       "      <td>33.0</td>\n",
       "      <td>0.0</td>\n",
       "      <td>33.0</td>\n",
       "      <td>15.0</td>\n",
       "      <td>33.0</td>\n",
       "      <td>0.0</td>\n",
       "      <td>19.991890</td>\n",
       "      <td>-0.293597</td>\n",
       "      <td>13.008110</td>\n",
       "      <td>32.706403</td>\n",
       "      <td>0.293597</td>\n",
       "    </tr>\n",
       "    <tr>\n",
       "      <th>29</th>\n",
       "      <td>35.0</td>\n",
       "      <td>35.0</td>\n",
       "      <td>0.0</td>\n",
       "      <td>35.0</td>\n",
       "      <td>2.0</td>\n",
       "      <td>35.0</td>\n",
       "      <td>0.0</td>\n",
       "      <td>19.740904</td>\n",
       "      <td>-0.250985</td>\n",
       "      <td>15.259096</td>\n",
       "      <td>34.749015</td>\n",
       "      <td>0.250985</td>\n",
       "    </tr>\n",
       "    <tr>\n",
       "      <th>30</th>\n",
       "      <td>40.0</td>\n",
       "      <td>40.0</td>\n",
       "      <td>0.0</td>\n",
       "      <td>40.0</td>\n",
       "      <td>5.0</td>\n",
       "      <td>40.0</td>\n",
       "      <td>0.0</td>\n",
       "      <td>19.523014</td>\n",
       "      <td>-0.217890</td>\n",
       "      <td>20.476986</td>\n",
       "      <td>39.782110</td>\n",
       "      <td>0.217890</td>\n",
       "    </tr>\n",
       "    <tr>\n",
       "      <th>31</th>\n",
       "      <td>36.0</td>\n",
       "      <td>36.0</td>\n",
       "      <td>0.0</td>\n",
       "      <td>36.0</td>\n",
       "      <td>-4.0</td>\n",
       "      <td>36.0</td>\n",
       "      <td>0.0</td>\n",
       "      <td>19.328095</td>\n",
       "      <td>-0.194919</td>\n",
       "      <td>16.671905</td>\n",
       "      <td>35.805081</td>\n",
       "      <td>0.194919</td>\n",
       "    </tr>\n",
       "    <tr>\n",
       "      <th>32</th>\n",
       "      <td>22.0</td>\n",
       "      <td>22.0</td>\n",
       "      <td>0.0</td>\n",
       "      <td>22.0</td>\n",
       "      <td>-14.0</td>\n",
       "      <td>22.0</td>\n",
       "      <td>0.0</td>\n",
       "      <td>19.129765</td>\n",
       "      <td>-0.198330</td>\n",
       "      <td>2.870235</td>\n",
       "      <td>21.801670</td>\n",
       "      <td>0.198330</td>\n",
       "    </tr>\n",
       "    <tr>\n",
       "      <th>33</th>\n",
       "      <td>24.0</td>\n",
       "      <td>24.0</td>\n",
       "      <td>0.0</td>\n",
       "      <td>24.0</td>\n",
       "      <td>2.0</td>\n",
       "      <td>24.0</td>\n",
       "      <td>0.0</td>\n",
       "      <td>18.909412</td>\n",
       "      <td>-0.220352</td>\n",
       "      <td>5.090588</td>\n",
       "      <td>23.779648</td>\n",
       "      <td>0.220352</td>\n",
       "    </tr>\n",
       "    <tr>\n",
       "      <th>34</th>\n",
       "      <td>21.0</td>\n",
       "      <td>21.0</td>\n",
       "      <td>0.0</td>\n",
       "      <td>21.0</td>\n",
       "      <td>-3.0</td>\n",
       "      <td>21.0</td>\n",
       "      <td>0.0</td>\n",
       "      <td>18.672256</td>\n",
       "      <td>-0.237156</td>\n",
       "      <td>2.327744</td>\n",
       "      <td>20.762844</td>\n",
       "      <td>0.237156</td>\n",
       "    </tr>\n",
       "    <tr>\n",
       "      <th>35</th>\n",
       "      <td>20.0</td>\n",
       "      <td>20.0</td>\n",
       "      <td>0.0</td>\n",
       "      <td>20.0</td>\n",
       "      <td>-1.0</td>\n",
       "      <td>20.0</td>\n",
       "      <td>0.0</td>\n",
       "      <td>18.415830</td>\n",
       "      <td>-0.256426</td>\n",
       "      <td>1.584170</td>\n",
       "      <td>19.743574</td>\n",
       "      <td>0.256426</td>\n",
       "    </tr>\n",
       "    <tr>\n",
       "      <th>36</th>\n",
       "      <td>17.0</td>\n",
       "      <td>17.0</td>\n",
       "      <td>0.0</td>\n",
       "      <td>17.0</td>\n",
       "      <td>-3.0</td>\n",
       "      <td>17.0</td>\n",
       "      <td>0.0</td>\n",
       "      <td>18.154065</td>\n",
       "      <td>-0.261765</td>\n",
       "      <td>-1.154065</td>\n",
       "      <td>16.738235</td>\n",
       "      <td>0.261765</td>\n",
       "    </tr>\n",
       "    <tr>\n",
       "      <th>37</th>\n",
       "      <td>14.0</td>\n",
       "      <td>14.0</td>\n",
       "      <td>0.0</td>\n",
       "      <td>14.0</td>\n",
       "      <td>-3.0</td>\n",
       "      <td>14.0</td>\n",
       "      <td>0.0</td>\n",
       "      <td>17.924920</td>\n",
       "      <td>-0.229145</td>\n",
       "      <td>-3.924920</td>\n",
       "      <td>13.770855</td>\n",
       "      <td>0.229145</td>\n",
       "    </tr>\n",
       "    <tr>\n",
       "      <th>38</th>\n",
       "      <td>17.0</td>\n",
       "      <td>17.0</td>\n",
       "      <td>0.0</td>\n",
       "      <td>17.0</td>\n",
       "      <td>3.0</td>\n",
       "      <td>17.0</td>\n",
       "      <td>0.0</td>\n",
       "      <td>17.687726</td>\n",
       "      <td>-0.237194</td>\n",
       "      <td>-0.687726</td>\n",
       "      <td>16.762806</td>\n",
       "      <td>0.237194</td>\n",
       "    </tr>\n",
       "    <tr>\n",
       "      <th>39</th>\n",
       "      <td>19.0</td>\n",
       "      <td>19.0</td>\n",
       "      <td>0.0</td>\n",
       "      <td>19.0</td>\n",
       "      <td>2.0</td>\n",
       "      <td>19.0</td>\n",
       "      <td>0.0</td>\n",
       "      <td>17.480620</td>\n",
       "      <td>-0.207105</td>\n",
       "      <td>1.519380</td>\n",
       "      <td>18.792895</td>\n",
       "      <td>0.207105</td>\n",
       "    </tr>\n",
       "    <tr>\n",
       "      <th>40</th>\n",
       "      <td>26.0</td>\n",
       "      <td>26.0</td>\n",
       "      <td>0.0</td>\n",
       "      <td>26.0</td>\n",
       "      <td>7.0</td>\n",
       "      <td>26.0</td>\n",
       "      <td>0.0</td>\n",
       "      <td>17.239921</td>\n",
       "      <td>-0.240699</td>\n",
       "      <td>8.760079</td>\n",
       "      <td>25.759301</td>\n",
       "      <td>0.240699</td>\n",
       "    </tr>\n",
       "    <tr>\n",
       "      <th>41</th>\n",
       "      <td>29.0</td>\n",
       "      <td>29.0</td>\n",
       "      <td>0.0</td>\n",
       "      <td>29.0</td>\n",
       "      <td>3.0</td>\n",
       "      <td>29.0</td>\n",
       "      <td>0.0</td>\n",
       "      <td>16.973658</td>\n",
       "      <td>-0.266264</td>\n",
       "      <td>12.026342</td>\n",
       "      <td>28.733736</td>\n",
       "      <td>0.266264</td>\n",
       "    </tr>\n",
       "    <tr>\n",
       "      <th>42</th>\n",
       "      <td>40.0</td>\n",
       "      <td>40.0</td>\n",
       "      <td>0.0</td>\n",
       "      <td>40.0</td>\n",
       "      <td>11.0</td>\n",
       "      <td>40.0</td>\n",
       "      <td>0.0</td>\n",
       "      <td>16.729485</td>\n",
       "      <td>-0.244172</td>\n",
       "      <td>23.270515</td>\n",
       "      <td>39.755828</td>\n",
       "      <td>0.244172</td>\n",
       "    </tr>\n",
       "    <tr>\n",
       "      <th>43</th>\n",
       "      <td>31.0</td>\n",
       "      <td>31.0</td>\n",
       "      <td>0.0</td>\n",
       "      <td>31.0</td>\n",
       "      <td>-9.0</td>\n",
       "      <td>31.0</td>\n",
       "      <td>0.0</td>\n",
       "      <td>16.468387</td>\n",
       "      <td>-0.261098</td>\n",
       "      <td>14.531613</td>\n",
       "      <td>30.738902</td>\n",
       "      <td>0.261098</td>\n",
       "    </tr>\n",
       "    <tr>\n",
       "      <th>44</th>\n",
       "      <td>20.0</td>\n",
       "      <td>20.0</td>\n",
       "      <td>0.0</td>\n",
       "      <td>20.0</td>\n",
       "      <td>-11.0</td>\n",
       "      <td>20.0</td>\n",
       "      <td>0.0</td>\n",
       "      <td>16.214527</td>\n",
       "      <td>-0.253860</td>\n",
       "      <td>3.785473</td>\n",
       "      <td>19.746140</td>\n",
       "      <td>0.253860</td>\n",
       "    </tr>\n",
       "    <tr>\n",
       "      <th>45</th>\n",
       "      <td>24.0</td>\n",
       "      <td>24.0</td>\n",
       "      <td>0.0</td>\n",
       "      <td>24.0</td>\n",
       "      <td>4.0</td>\n",
       "      <td>24.0</td>\n",
       "      <td>0.0</td>\n",
       "      <td>15.983803</td>\n",
       "      <td>-0.230724</td>\n",
       "      <td>8.016197</td>\n",
       "      <td>23.769276</td>\n",
       "      <td>0.230724</td>\n",
       "    </tr>\n",
       "    <tr>\n",
       "      <th>46</th>\n",
       "      <td>18.0</td>\n",
       "      <td>18.0</td>\n",
       "      <td>0.0</td>\n",
       "      <td>18.0</td>\n",
       "      <td>-6.0</td>\n",
       "      <td>18.0</td>\n",
       "      <td>0.0</td>\n",
       "      <td>15.752445</td>\n",
       "      <td>-0.231358</td>\n",
       "      <td>2.247555</td>\n",
       "      <td>17.768642</td>\n",
       "      <td>0.231358</td>\n",
       "    </tr>\n",
       "    <tr>\n",
       "      <th>47</th>\n",
       "      <td>26.0</td>\n",
       "      <td>26.0</td>\n",
       "      <td>0.0</td>\n",
       "      <td>26.0</td>\n",
       "      <td>8.0</td>\n",
       "      <td>26.0</td>\n",
       "      <td>0.0</td>\n",
       "      <td>15.590874</td>\n",
       "      <td>-0.161570</td>\n",
       "      <td>10.409126</td>\n",
       "      <td>25.838430</td>\n",
       "      <td>0.161570</td>\n",
       "    </tr>\n",
       "    <tr>\n",
       "      <th>48</th>\n",
       "      <td>17.0</td>\n",
       "      <td>17.0</td>\n",
       "      <td>0.0</td>\n",
       "      <td>17.0</td>\n",
       "      <td>-9.0</td>\n",
       "      <td>17.0</td>\n",
       "      <td>0.0</td>\n",
       "      <td>15.450683</td>\n",
       "      <td>-0.140192</td>\n",
       "      <td>1.549317</td>\n",
       "      <td>16.859808</td>\n",
       "      <td>0.140192</td>\n",
       "    </tr>\n",
       "    <tr>\n",
       "      <th>49</th>\n",
       "      <td>9.0</td>\n",
       "      <td>9.0</td>\n",
       "      <td>0.0</td>\n",
       "      <td>9.0</td>\n",
       "      <td>-8.0</td>\n",
       "      <td>9.0</td>\n",
       "      <td>0.0</td>\n",
       "      <td>15.291774</td>\n",
       "      <td>-0.158909</td>\n",
       "      <td>-6.291774</td>\n",
       "      <td>8.841091</td>\n",
       "      <td>0.158909</td>\n",
       "    </tr>\n",
       "    <tr>\n",
       "      <th>50</th>\n",
       "      <td>17.0</td>\n",
       "      <td>17.0</td>\n",
       "      <td>0.0</td>\n",
       "      <td>17.0</td>\n",
       "      <td>8.0</td>\n",
       "      <td>17.0</td>\n",
       "      <td>0.0</td>\n",
       "      <td>15.152911</td>\n",
       "      <td>-0.138863</td>\n",
       "      <td>1.847089</td>\n",
       "      <td>16.861137</td>\n",
       "      <td>0.138863</td>\n",
       "    </tr>\n",
       "    <tr>\n",
       "      <th>51</th>\n",
       "      <td>21.0</td>\n",
       "      <td>21.0</td>\n",
       "      <td>0.0</td>\n",
       "      <td>21.0</td>\n",
       "      <td>4.0</td>\n",
       "      <td>21.0</td>\n",
       "      <td>0.0</td>\n",
       "      <td>15.049092</td>\n",
       "      <td>-0.103818</td>\n",
       "      <td>5.950908</td>\n",
       "      <td>20.896182</td>\n",
       "      <td>0.103818</td>\n",
       "    </tr>\n",
       "    <tr>\n",
       "      <th>52</th>\n",
       "      <td>28.0</td>\n",
       "      <td>28.0</td>\n",
       "      <td>0.0</td>\n",
       "      <td>28.0</td>\n",
       "      <td>7.0</td>\n",
       "      <td>28.0</td>\n",
       "      <td>0.0</td>\n",
       "      <td>14.978970</td>\n",
       "      <td>-0.070123</td>\n",
       "      <td>13.021030</td>\n",
       "      <td>27.929877</td>\n",
       "      <td>0.070123</td>\n",
       "    </tr>\n",
       "    <tr>\n",
       "      <th>53</th>\n",
       "      <td>32.0</td>\n",
       "      <td>32.0</td>\n",
       "      <td>0.0</td>\n",
       "      <td>32.0</td>\n",
       "      <td>4.0</td>\n",
       "      <td>32.0</td>\n",
       "      <td>0.0</td>\n",
       "      <td>14.948586</td>\n",
       "      <td>-0.030384</td>\n",
       "      <td>17.051414</td>\n",
       "      <td>31.969616</td>\n",
       "      <td>0.030384</td>\n",
       "    </tr>\n",
       "    <tr>\n",
       "      <th>54</th>\n",
       "      <td>46.0</td>\n",
       "      <td>46.0</td>\n",
       "      <td>0.0</td>\n",
       "      <td>46.0</td>\n",
       "      <td>14.0</td>\n",
       "      <td>46.0</td>\n",
       "      <td>0.0</td>\n",
       "      <td>14.979489</td>\n",
       "      <td>0.030903</td>\n",
       "      <td>31.020511</td>\n",
       "      <td>46.030903</td>\n",
       "      <td>-0.030903</td>\n",
       "    </tr>\n",
       "    <tr>\n",
       "      <th>55</th>\n",
       "      <td>33.0</td>\n",
       "      <td>33.0</td>\n",
       "      <td>0.0</td>\n",
       "      <td>33.0</td>\n",
       "      <td>-13.0</td>\n",
       "      <td>33.0</td>\n",
       "      <td>0.0</td>\n",
       "      <td>15.037524</td>\n",
       "      <td>0.058035</td>\n",
       "      <td>17.962476</td>\n",
       "      <td>33.058035</td>\n",
       "      <td>-0.058035</td>\n",
       "    </tr>\n",
       "    <tr>\n",
       "      <th>56</th>\n",
       "      <td>23.0</td>\n",
       "      <td>23.0</td>\n",
       "      <td>0.0</td>\n",
       "      <td>23.0</td>\n",
       "      <td>-10.0</td>\n",
       "      <td>23.0</td>\n",
       "      <td>0.0</td>\n",
       "      <td>15.127877</td>\n",
       "      <td>0.090352</td>\n",
       "      <td>7.872123</td>\n",
       "      <td>23.090352</td>\n",
       "      <td>-0.090352</td>\n",
       "    </tr>\n",
       "    <tr>\n",
       "      <th>57</th>\n",
       "      <td>28.0</td>\n",
       "      <td>28.0</td>\n",
       "      <td>0.0</td>\n",
       "      <td>28.0</td>\n",
       "      <td>5.0</td>\n",
       "      <td>28.0</td>\n",
       "      <td>0.0</td>\n",
       "      <td>15.255620</td>\n",
       "      <td>0.127743</td>\n",
       "      <td>12.744380</td>\n",
       "      <td>28.127743</td>\n",
       "      <td>-0.127743</td>\n",
       "    </tr>\n",
       "    <tr>\n",
       "      <th>58</th>\n",
       "      <td>22.0</td>\n",
       "      <td>22.0</td>\n",
       "      <td>0.0</td>\n",
       "      <td>22.0</td>\n",
       "      <td>-6.0</td>\n",
       "      <td>22.0</td>\n",
       "      <td>0.0</td>\n",
       "      <td>15.417643</td>\n",
       "      <td>0.162023</td>\n",
       "      <td>6.582357</td>\n",
       "      <td>22.162023</td>\n",
       "      <td>-0.162023</td>\n",
       "    </tr>\n",
       "    <tr>\n",
       "      <th>59</th>\n",
       "      <td>27.0</td>\n",
       "      <td>27.0</td>\n",
       "      <td>0.0</td>\n",
       "      <td>27.0</td>\n",
       "      <td>5.0</td>\n",
       "      <td>27.0</td>\n",
       "      <td>0.0</td>\n",
       "      <td>15.587600</td>\n",
       "      <td>0.169957</td>\n",
       "      <td>11.412400</td>\n",
       "      <td>27.169957</td>\n",
       "      <td>-0.169957</td>\n",
       "    </tr>\n",
       "    <tr>\n",
       "      <th>60</th>\n",
       "      <td>18.0</td>\n",
       "      <td>18.0</td>\n",
       "      <td>0.0</td>\n",
       "      <td>18.0</td>\n",
       "      <td>-9.0</td>\n",
       "      <td>18.0</td>\n",
       "      <td>0.0</td>\n",
       "      <td>15.762996</td>\n",
       "      <td>0.175395</td>\n",
       "      <td>2.237004</td>\n",
       "      <td>18.175395</td>\n",
       "      <td>-0.175395</td>\n",
       "    </tr>\n",
       "    <tr>\n",
       "      <th>61</th>\n",
       "      <td>8.0</td>\n",
       "      <td>8.0</td>\n",
       "      <td>0.0</td>\n",
       "      <td>8.0</td>\n",
       "      <td>-10.0</td>\n",
       "      <td>8.0</td>\n",
       "      <td>0.0</td>\n",
       "      <td>15.925472</td>\n",
       "      <td>0.162476</td>\n",
       "      <td>-7.925472</td>\n",
       "      <td>8.162476</td>\n",
       "      <td>-0.162476</td>\n",
       "    </tr>\n",
       "    <tr>\n",
       "      <th>62</th>\n",
       "      <td>17.0</td>\n",
       "      <td>17.0</td>\n",
       "      <td>0.0</td>\n",
       "      <td>17.0</td>\n",
       "      <td>9.0</td>\n",
       "      <td>17.0</td>\n",
       "      <td>0.0</td>\n",
       "      <td>16.080611</td>\n",
       "      <td>0.155140</td>\n",
       "      <td>0.919389</td>\n",
       "      <td>17.155140</td>\n",
       "      <td>-0.155140</td>\n",
       "    </tr>\n",
       "    <tr>\n",
       "      <th>63</th>\n",
       "      <td>21.0</td>\n",
       "      <td>21.0</td>\n",
       "      <td>0.0</td>\n",
       "      <td>21.0</td>\n",
       "      <td>4.0</td>\n",
       "      <td>21.0</td>\n",
       "      <td>0.0</td>\n",
       "      <td>16.226440</td>\n",
       "      <td>0.145829</td>\n",
       "      <td>4.773560</td>\n",
       "      <td>21.145829</td>\n",
       "      <td>-0.145829</td>\n",
       "    </tr>\n",
       "    <tr>\n",
       "      <th>64</th>\n",
       "      <td>31.0</td>\n",
       "      <td>31.0</td>\n",
       "      <td>0.0</td>\n",
       "      <td>31.0</td>\n",
       "      <td>10.0</td>\n",
       "      <td>31.0</td>\n",
       "      <td>0.0</td>\n",
       "      <td>16.384876</td>\n",
       "      <td>0.158435</td>\n",
       "      <td>14.615124</td>\n",
       "      <td>31.158435</td>\n",
       "      <td>-0.158435</td>\n",
       "    </tr>\n",
       "    <tr>\n",
       "      <th>65</th>\n",
       "      <td>34.0</td>\n",
       "      <td>34.0</td>\n",
       "      <td>0.0</td>\n",
       "      <td>34.0</td>\n",
       "      <td>3.0</td>\n",
       "      <td>34.0</td>\n",
       "      <td>0.0</td>\n",
       "      <td>16.546491</td>\n",
       "      <td>0.161615</td>\n",
       "      <td>17.453509</td>\n",
       "      <td>34.161615</td>\n",
       "      <td>-0.161615</td>\n",
       "    </tr>\n",
       "    <tr>\n",
       "      <th>66</th>\n",
       "      <td>44.0</td>\n",
       "      <td>44.0</td>\n",
       "      <td>0.0</td>\n",
       "      <td>44.0</td>\n",
       "      <td>10.0</td>\n",
       "      <td>44.0</td>\n",
       "      <td>0.0</td>\n",
       "      <td>16.678851</td>\n",
       "      <td>0.132360</td>\n",
       "      <td>27.321149</td>\n",
       "      <td>44.132360</td>\n",
       "      <td>-0.132360</td>\n",
       "    </tr>\n",
       "    <tr>\n",
       "      <th>67</th>\n",
       "      <td>38.0</td>\n",
       "      <td>38.0</td>\n",
       "      <td>0.0</td>\n",
       "      <td>38.0</td>\n",
       "      <td>-6.0</td>\n",
       "      <td>38.0</td>\n",
       "      <td>0.0</td>\n",
       "      <td>16.836525</td>\n",
       "      <td>0.157674</td>\n",
       "      <td>21.163475</td>\n",
       "      <td>38.157674</td>\n",
       "      <td>-0.157674</td>\n",
       "    </tr>\n",
       "    <tr>\n",
       "      <th>68</th>\n",
       "      <td>31.0</td>\n",
       "      <td>31.0</td>\n",
       "      <td>0.0</td>\n",
       "      <td>31.0</td>\n",
       "      <td>-7.0</td>\n",
       "      <td>31.0</td>\n",
       "      <td>0.0</td>\n",
       "      <td>17.042324</td>\n",
       "      <td>0.205799</td>\n",
       "      <td>13.957676</td>\n",
       "      <td>31.205799</td>\n",
       "      <td>-0.205799</td>\n",
       "    </tr>\n",
       "    <tr>\n",
       "      <th>69</th>\n",
       "      <td>30.0</td>\n",
       "      <td>30.0</td>\n",
       "      <td>0.0</td>\n",
       "      <td>30.0</td>\n",
       "      <td>-1.0</td>\n",
       "      <td>30.0</td>\n",
       "      <td>0.0</td>\n",
       "      <td>17.248182</td>\n",
       "      <td>0.205858</td>\n",
       "      <td>12.751818</td>\n",
       "      <td>30.205858</td>\n",
       "      <td>-0.205858</td>\n",
       "    </tr>\n",
       "    <tr>\n",
       "      <th>70</th>\n",
       "      <td>26.0</td>\n",
       "      <td>26.0</td>\n",
       "      <td>0.0</td>\n",
       "      <td>26.0</td>\n",
       "      <td>-4.0</td>\n",
       "      <td>26.0</td>\n",
       "      <td>0.0</td>\n",
       "      <td>17.469446</td>\n",
       "      <td>0.221264</td>\n",
       "      <td>8.530554</td>\n",
       "      <td>26.221264</td>\n",
       "      <td>-0.221264</td>\n",
       "    </tr>\n",
       "    <tr>\n",
       "      <th>71</th>\n",
       "      <td>32.0</td>\n",
       "      <td>32.0</td>\n",
       "      <td>0.0</td>\n",
       "      <td>32.0</td>\n",
       "      <td>6.0</td>\n",
       "      <td>32.0</td>\n",
       "      <td>0.0</td>\n",
       "      <td>17.713440</td>\n",
       "      <td>0.243993</td>\n",
       "      <td>14.286560</td>\n",
       "      <td>32.243993</td>\n",
       "      <td>-0.243993</td>\n",
       "    </tr>\n",
       "    <tr>\n",
       "      <th>72</th>\n",
       "      <td>NaN</td>\n",
       "      <td>32.0</td>\n",
       "      <td>NaN</td>\n",
       "      <td>32.0</td>\n",
       "      <td>0.0</td>\n",
       "      <td>32.0</td>\n",
       "      <td>NaN</td>\n",
       "      <td>17.713440</td>\n",
       "      <td>0.243993</td>\n",
       "      <td>2.237004</td>\n",
       "      <td>20.194437</td>\n",
       "      <td>NaN</td>\n",
       "    </tr>\n",
       "    <tr>\n",
       "      <th>73</th>\n",
       "      <td>NaN</td>\n",
       "      <td>NaN</td>\n",
       "      <td>NaN</td>\n",
       "      <td>32.0</td>\n",
       "      <td>0.0</td>\n",
       "      <td>32.0</td>\n",
       "      <td>NaN</td>\n",
       "      <td>17.713440</td>\n",
       "      <td>0.243993</td>\n",
       "      <td>-7.925472</td>\n",
       "      <td>10.275955</td>\n",
       "      <td>NaN</td>\n",
       "    </tr>\n",
       "    <tr>\n",
       "      <th>74</th>\n",
       "      <td>NaN</td>\n",
       "      <td>NaN</td>\n",
       "      <td>NaN</td>\n",
       "      <td>NaN</td>\n",
       "      <td>NaN</td>\n",
       "      <td>NaN</td>\n",
       "      <td>NaN</td>\n",
       "      <td>17.713440</td>\n",
       "      <td>0.243993</td>\n",
       "      <td>0.919389</td>\n",
       "      <td>19.364808</td>\n",
       "      <td>NaN</td>\n",
       "    </tr>\n",
       "    <tr>\n",
       "      <th>75</th>\n",
       "      <td>NaN</td>\n",
       "      <td>NaN</td>\n",
       "      <td>NaN</td>\n",
       "      <td>NaN</td>\n",
       "      <td>NaN</td>\n",
       "      <td>NaN</td>\n",
       "      <td>NaN</td>\n",
       "      <td>17.713440</td>\n",
       "      <td>0.243993</td>\n",
       "      <td>4.773560</td>\n",
       "      <td>23.462973</td>\n",
       "      <td>NaN</td>\n",
       "    </tr>\n",
       "    <tr>\n",
       "      <th>76</th>\n",
       "      <td>NaN</td>\n",
       "      <td>NaN</td>\n",
       "      <td>NaN</td>\n",
       "      <td>NaN</td>\n",
       "      <td>NaN</td>\n",
       "      <td>NaN</td>\n",
       "      <td>NaN</td>\n",
       "      <td>17.713440</td>\n",
       "      <td>0.243993</td>\n",
       "      <td>14.615124</td>\n",
       "      <td>33.548531</td>\n",
       "      <td>NaN</td>\n",
       "    </tr>\n",
       "    <tr>\n",
       "      <th>77</th>\n",
       "      <td>NaN</td>\n",
       "      <td>NaN</td>\n",
       "      <td>NaN</td>\n",
       "      <td>NaN</td>\n",
       "      <td>NaN</td>\n",
       "      <td>NaN</td>\n",
       "      <td>NaN</td>\n",
       "      <td>17.713440</td>\n",
       "      <td>0.243993</td>\n",
       "      <td>17.453509</td>\n",
       "      <td>36.630909</td>\n",
       "      <td>NaN</td>\n",
       "    </tr>\n",
       "    <tr>\n",
       "      <th>78</th>\n",
       "      <td>NaN</td>\n",
       "      <td>NaN</td>\n",
       "      <td>NaN</td>\n",
       "      <td>NaN</td>\n",
       "      <td>NaN</td>\n",
       "      <td>NaN</td>\n",
       "      <td>NaN</td>\n",
       "      <td>17.713440</td>\n",
       "      <td>0.243993</td>\n",
       "      <td>27.321149</td>\n",
       "      <td>46.742542</td>\n",
       "      <td>NaN</td>\n",
       "    </tr>\n",
       "    <tr>\n",
       "      <th>79</th>\n",
       "      <td>NaN</td>\n",
       "      <td>NaN</td>\n",
       "      <td>NaN</td>\n",
       "      <td>NaN</td>\n",
       "      <td>NaN</td>\n",
       "      <td>NaN</td>\n",
       "      <td>NaN</td>\n",
       "      <td>17.713440</td>\n",
       "      <td>0.243993</td>\n",
       "      <td>21.163475</td>\n",
       "      <td>40.828861</td>\n",
       "      <td>NaN</td>\n",
       "    </tr>\n",
       "    <tr>\n",
       "      <th>80</th>\n",
       "      <td>NaN</td>\n",
       "      <td>NaN</td>\n",
       "      <td>NaN</td>\n",
       "      <td>NaN</td>\n",
       "      <td>NaN</td>\n",
       "      <td>NaN</td>\n",
       "      <td>NaN</td>\n",
       "      <td>17.713440</td>\n",
       "      <td>0.243993</td>\n",
       "      <td>13.957676</td>\n",
       "      <td>33.867055</td>\n",
       "      <td>NaN</td>\n",
       "    </tr>\n",
       "    <tr>\n",
       "      <th>81</th>\n",
       "      <td>NaN</td>\n",
       "      <td>NaN</td>\n",
       "      <td>NaN</td>\n",
       "      <td>NaN</td>\n",
       "      <td>NaN</td>\n",
       "      <td>NaN</td>\n",
       "      <td>NaN</td>\n",
       "      <td>17.713440</td>\n",
       "      <td>0.243993</td>\n",
       "      <td>12.751818</td>\n",
       "      <td>32.905191</td>\n",
       "      <td>NaN</td>\n",
       "    </tr>\n",
       "    <tr>\n",
       "      <th>82</th>\n",
       "      <td>NaN</td>\n",
       "      <td>NaN</td>\n",
       "      <td>NaN</td>\n",
       "      <td>NaN</td>\n",
       "      <td>NaN</td>\n",
       "      <td>NaN</td>\n",
       "      <td>NaN</td>\n",
       "      <td>17.713440</td>\n",
       "      <td>0.243993</td>\n",
       "      <td>8.530554</td>\n",
       "      <td>28.927920</td>\n",
       "      <td>NaN</td>\n",
       "    </tr>\n",
       "    <tr>\n",
       "      <th>83</th>\n",
       "      <td>NaN</td>\n",
       "      <td>NaN</td>\n",
       "      <td>NaN</td>\n",
       "      <td>NaN</td>\n",
       "      <td>NaN</td>\n",
       "      <td>NaN</td>\n",
       "      <td>NaN</td>\n",
       "      <td>17.713440</td>\n",
       "      <td>0.243993</td>\n",
       "      <td>14.286560</td>\n",
       "      <td>34.927920</td>\n",
       "      <td>NaN</td>\n",
       "    </tr>\n",
       "    <tr>\n",
       "      <th>84</th>\n",
       "      <td>NaN</td>\n",
       "      <td>NaN</td>\n",
       "      <td>NaN</td>\n",
       "      <td>NaN</td>\n",
       "      <td>NaN</td>\n",
       "      <td>NaN</td>\n",
       "      <td>NaN</td>\n",
       "      <td>17.713440</td>\n",
       "      <td>0.243993</td>\n",
       "      <td>2.237004</td>\n",
       "      <td>23.122357</td>\n",
       "      <td>NaN</td>\n",
       "    </tr>\n",
       "    <tr>\n",
       "      <th>85</th>\n",
       "      <td>NaN</td>\n",
       "      <td>NaN</td>\n",
       "      <td>NaN</td>\n",
       "      <td>NaN</td>\n",
       "      <td>NaN</td>\n",
       "      <td>NaN</td>\n",
       "      <td>NaN</td>\n",
       "      <td>17.713440</td>\n",
       "      <td>0.243993</td>\n",
       "      <td>-7.925472</td>\n",
       "      <td>13.203875</td>\n",
       "      <td>NaN</td>\n",
       "    </tr>\n",
       "    <tr>\n",
       "      <th>86</th>\n",
       "      <td>NaN</td>\n",
       "      <td>NaN</td>\n",
       "      <td>NaN</td>\n",
       "      <td>NaN</td>\n",
       "      <td>NaN</td>\n",
       "      <td>NaN</td>\n",
       "      <td>NaN</td>\n",
       "      <td>17.713440</td>\n",
       "      <td>0.243993</td>\n",
       "      <td>0.919389</td>\n",
       "      <td>22.292728</td>\n",
       "      <td>NaN</td>\n",
       "    </tr>\n",
       "    <tr>\n",
       "      <th>87</th>\n",
       "      <td>NaN</td>\n",
       "      <td>NaN</td>\n",
       "      <td>NaN</td>\n",
       "      <td>NaN</td>\n",
       "      <td>NaN</td>\n",
       "      <td>NaN</td>\n",
       "      <td>NaN</td>\n",
       "      <td>17.713440</td>\n",
       "      <td>0.243993</td>\n",
       "      <td>4.773560</td>\n",
       "      <td>26.390892</td>\n",
       "      <td>NaN</td>\n",
       "    </tr>\n",
       "    <tr>\n",
       "      <th>88</th>\n",
       "      <td>NaN</td>\n",
       "      <td>NaN</td>\n",
       "      <td>NaN</td>\n",
       "      <td>NaN</td>\n",
       "      <td>NaN</td>\n",
       "      <td>NaN</td>\n",
       "      <td>NaN</td>\n",
       "      <td>17.713440</td>\n",
       "      <td>0.243993</td>\n",
       "      <td>14.615124</td>\n",
       "      <td>36.476450</td>\n",
       "      <td>NaN</td>\n",
       "    </tr>\n",
       "    <tr>\n",
       "      <th>89</th>\n",
       "      <td>NaN</td>\n",
       "      <td>NaN</td>\n",
       "      <td>NaN</td>\n",
       "      <td>NaN</td>\n",
       "      <td>NaN</td>\n",
       "      <td>NaN</td>\n",
       "      <td>NaN</td>\n",
       "      <td>17.713440</td>\n",
       "      <td>0.243993</td>\n",
       "      <td>17.453509</td>\n",
       "      <td>39.558829</td>\n",
       "      <td>NaN</td>\n",
       "    </tr>\n",
       "    <tr>\n",
       "      <th>90</th>\n",
       "      <td>NaN</td>\n",
       "      <td>NaN</td>\n",
       "      <td>NaN</td>\n",
       "      <td>NaN</td>\n",
       "      <td>NaN</td>\n",
       "      <td>NaN</td>\n",
       "      <td>NaN</td>\n",
       "      <td>17.713440</td>\n",
       "      <td>0.243993</td>\n",
       "      <td>27.321149</td>\n",
       "      <td>49.670462</td>\n",
       "      <td>NaN</td>\n",
       "    </tr>\n",
       "    <tr>\n",
       "      <th>91</th>\n",
       "      <td>NaN</td>\n",
       "      <td>NaN</td>\n",
       "      <td>NaN</td>\n",
       "      <td>NaN</td>\n",
       "      <td>NaN</td>\n",
       "      <td>NaN</td>\n",
       "      <td>NaN</td>\n",
       "      <td>17.713440</td>\n",
       "      <td>0.243993</td>\n",
       "      <td>21.163475</td>\n",
       "      <td>43.756781</td>\n",
       "      <td>NaN</td>\n",
       "    </tr>\n",
       "    <tr>\n",
       "      <th>92</th>\n",
       "      <td>NaN</td>\n",
       "      <td>NaN</td>\n",
       "      <td>NaN</td>\n",
       "      <td>NaN</td>\n",
       "      <td>NaN</td>\n",
       "      <td>NaN</td>\n",
       "      <td>NaN</td>\n",
       "      <td>17.713440</td>\n",
       "      <td>0.243993</td>\n",
       "      <td>13.957676</td>\n",
       "      <td>36.794975</td>\n",
       "      <td>NaN</td>\n",
       "    </tr>\n",
       "    <tr>\n",
       "      <th>93</th>\n",
       "      <td>NaN</td>\n",
       "      <td>NaN</td>\n",
       "      <td>NaN</td>\n",
       "      <td>NaN</td>\n",
       "      <td>NaN</td>\n",
       "      <td>NaN</td>\n",
       "      <td>NaN</td>\n",
       "      <td>17.713440</td>\n",
       "      <td>0.243993</td>\n",
       "      <td>12.751818</td>\n",
       "      <td>35.833111</td>\n",
       "      <td>NaN</td>\n",
       "    </tr>\n",
       "    <tr>\n",
       "      <th>94</th>\n",
       "      <td>NaN</td>\n",
       "      <td>NaN</td>\n",
       "      <td>NaN</td>\n",
       "      <td>NaN</td>\n",
       "      <td>NaN</td>\n",
       "      <td>NaN</td>\n",
       "      <td>NaN</td>\n",
       "      <td>17.713440</td>\n",
       "      <td>0.243993</td>\n",
       "      <td>8.530554</td>\n",
       "      <td>31.855840</td>\n",
       "      <td>NaN</td>\n",
       "    </tr>\n",
       "    <tr>\n",
       "      <th>95</th>\n",
       "      <td>NaN</td>\n",
       "      <td>NaN</td>\n",
       "      <td>NaN</td>\n",
       "      <td>NaN</td>\n",
       "      <td>NaN</td>\n",
       "      <td>NaN</td>\n",
       "      <td>NaN</td>\n",
       "      <td>17.713440</td>\n",
       "      <td>0.243993</td>\n",
       "      <td>14.286560</td>\n",
       "      <td>37.855840</td>\n",
       "      <td>NaN</td>\n",
       "    </tr>\n",
       "  </tbody>\n",
       "</table>\n",
       "</div>"
      ],
      "text/plain": [
       "    Data  ES_Sing  ESErr_Sing  Level_Doub  Trend_Doub  ES_Doub  ESErr_Doub  \\\n",
       "0   30.0     30.0         0.0        30.0        -9.0     30.0         0.0   \n",
       "1   21.0     21.0         0.0        21.0        -9.0     21.0         0.0   \n",
       "2   29.0     29.0         0.0        29.0         8.0     29.0         0.0   \n",
       "3   31.0     31.0         0.0        31.0         2.0     31.0         0.0   \n",
       "4   40.0     40.0         0.0        40.0         9.0     40.0         0.0   \n",
       "5   48.0     48.0         0.0        48.0         8.0     48.0         0.0   \n",
       "6   53.0     53.0         0.0        53.0         5.0     53.0         0.0   \n",
       "7   47.0     47.0         0.0        47.0        -6.0     47.0         0.0   \n",
       "8   37.0     37.0         0.0        37.0       -10.0     37.0         0.0   \n",
       "9   39.0     39.0         0.0        39.0         2.0     39.0         0.0   \n",
       "10  31.0     31.0         0.0        31.0        -8.0     31.0         0.0   \n",
       "11  29.0     29.0         0.0        29.0        -2.0     29.0         0.0   \n",
       "12  17.0     17.0         0.0        17.0       -12.0     17.0         0.0   \n",
       "13   9.0      9.0         0.0         9.0        -8.0      9.0         0.0   \n",
       "14  20.0     20.0         0.0        20.0        11.0     20.0         0.0   \n",
       "15  24.0     24.0         0.0        24.0         4.0     24.0         0.0   \n",
       "16  27.0     27.0         0.0        27.0         3.0     27.0         0.0   \n",
       "17  35.0     35.0         0.0        35.0         8.0     35.0         0.0   \n",
       "18  41.0     41.0         0.0        41.0         6.0     41.0         0.0   \n",
       "19  38.0     38.0         0.0        38.0        -3.0     38.0         0.0   \n",
       "20  27.0     27.0         0.0        27.0       -11.0     27.0         0.0   \n",
       "21  31.0     31.0         0.0        31.0         4.0     31.0         0.0   \n",
       "22  27.0     27.0         0.0        27.0        -4.0     27.0         0.0   \n",
       "23  26.0     26.0         0.0        26.0        -1.0     26.0         0.0   \n",
       "24  21.0     21.0         0.0        21.0        -5.0     21.0         0.0   \n",
       "25  13.0     13.0         0.0        13.0        -8.0     13.0         0.0   \n",
       "26  21.0     21.0         0.0        21.0         8.0     21.0         0.0   \n",
       "27  18.0     18.0         0.0        18.0        -3.0     18.0         0.0   \n",
       "28  33.0     33.0         0.0        33.0        15.0     33.0         0.0   \n",
       "29  35.0     35.0         0.0        35.0         2.0     35.0         0.0   \n",
       "30  40.0     40.0         0.0        40.0         5.0     40.0         0.0   \n",
       "31  36.0     36.0         0.0        36.0        -4.0     36.0         0.0   \n",
       "32  22.0     22.0         0.0        22.0       -14.0     22.0         0.0   \n",
       "33  24.0     24.0         0.0        24.0         2.0     24.0         0.0   \n",
       "34  21.0     21.0         0.0        21.0        -3.0     21.0         0.0   \n",
       "35  20.0     20.0         0.0        20.0        -1.0     20.0         0.0   \n",
       "36  17.0     17.0         0.0        17.0        -3.0     17.0         0.0   \n",
       "37  14.0     14.0         0.0        14.0        -3.0     14.0         0.0   \n",
       "38  17.0     17.0         0.0        17.0         3.0     17.0         0.0   \n",
       "39  19.0     19.0         0.0        19.0         2.0     19.0         0.0   \n",
       "40  26.0     26.0         0.0        26.0         7.0     26.0         0.0   \n",
       "41  29.0     29.0         0.0        29.0         3.0     29.0         0.0   \n",
       "42  40.0     40.0         0.0        40.0        11.0     40.0         0.0   \n",
       "43  31.0     31.0         0.0        31.0        -9.0     31.0         0.0   \n",
       "44  20.0     20.0         0.0        20.0       -11.0     20.0         0.0   \n",
       "45  24.0     24.0         0.0        24.0         4.0     24.0         0.0   \n",
       "46  18.0     18.0         0.0        18.0        -6.0     18.0         0.0   \n",
       "47  26.0     26.0         0.0        26.0         8.0     26.0         0.0   \n",
       "48  17.0     17.0         0.0        17.0        -9.0     17.0         0.0   \n",
       "49   9.0      9.0         0.0         9.0        -8.0      9.0         0.0   \n",
       "50  17.0     17.0         0.0        17.0         8.0     17.0         0.0   \n",
       "51  21.0     21.0         0.0        21.0         4.0     21.0         0.0   \n",
       "52  28.0     28.0         0.0        28.0         7.0     28.0         0.0   \n",
       "53  32.0     32.0         0.0        32.0         4.0     32.0         0.0   \n",
       "54  46.0     46.0         0.0        46.0        14.0     46.0         0.0   \n",
       "55  33.0     33.0         0.0        33.0       -13.0     33.0         0.0   \n",
       "56  23.0     23.0         0.0        23.0       -10.0     23.0         0.0   \n",
       "57  28.0     28.0         0.0        28.0         5.0     28.0         0.0   \n",
       "58  22.0     22.0         0.0        22.0        -6.0     22.0         0.0   \n",
       "59  27.0     27.0         0.0        27.0         5.0     27.0         0.0   \n",
       "60  18.0     18.0         0.0        18.0        -9.0     18.0         0.0   \n",
       "61   8.0      8.0         0.0         8.0       -10.0      8.0         0.0   \n",
       "62  17.0     17.0         0.0        17.0         9.0     17.0         0.0   \n",
       "63  21.0     21.0         0.0        21.0         4.0     21.0         0.0   \n",
       "64  31.0     31.0         0.0        31.0        10.0     31.0         0.0   \n",
       "65  34.0     34.0         0.0        34.0         3.0     34.0         0.0   \n",
       "66  44.0     44.0         0.0        44.0        10.0     44.0         0.0   \n",
       "67  38.0     38.0         0.0        38.0        -6.0     38.0         0.0   \n",
       "68  31.0     31.0         0.0        31.0        -7.0     31.0         0.0   \n",
       "69  30.0     30.0         0.0        30.0        -1.0     30.0         0.0   \n",
       "70  26.0     26.0         0.0        26.0        -4.0     26.0         0.0   \n",
       "71  32.0     32.0         0.0        32.0         6.0     32.0         0.0   \n",
       "72   NaN     32.0         NaN        32.0         0.0     32.0         NaN   \n",
       "73   NaN      NaN         NaN        32.0         0.0     32.0         NaN   \n",
       "74   NaN      NaN         NaN         NaN         NaN      NaN         NaN   \n",
       "75   NaN      NaN         NaN         NaN         NaN      NaN         NaN   \n",
       "76   NaN      NaN         NaN         NaN         NaN      NaN         NaN   \n",
       "77   NaN      NaN         NaN         NaN         NaN      NaN         NaN   \n",
       "78   NaN      NaN         NaN         NaN         NaN      NaN         NaN   \n",
       "79   NaN      NaN         NaN         NaN         NaN      NaN         NaN   \n",
       "80   NaN      NaN         NaN         NaN         NaN      NaN         NaN   \n",
       "81   NaN      NaN         NaN         NaN         NaN      NaN         NaN   \n",
       "82   NaN      NaN         NaN         NaN         NaN      NaN         NaN   \n",
       "83   NaN      NaN         NaN         NaN         NaN      NaN         NaN   \n",
       "84   NaN      NaN         NaN         NaN         NaN      NaN         NaN   \n",
       "85   NaN      NaN         NaN         NaN         NaN      NaN         NaN   \n",
       "86   NaN      NaN         NaN         NaN         NaN      NaN         NaN   \n",
       "87   NaN      NaN         NaN         NaN         NaN      NaN         NaN   \n",
       "88   NaN      NaN         NaN         NaN         NaN      NaN         NaN   \n",
       "89   NaN      NaN         NaN         NaN         NaN      NaN         NaN   \n",
       "90   NaN      NaN         NaN         NaN         NaN      NaN         NaN   \n",
       "91   NaN      NaN         NaN         NaN         NaN      NaN         NaN   \n",
       "92   NaN      NaN         NaN         NaN         NaN      NaN         NaN   \n",
       "93   NaN      NaN         NaN         NaN         NaN      NaN         NaN   \n",
       "94   NaN      NaN         NaN         NaN         NaN      NaN         NaN   \n",
       "95   NaN      NaN         NaN         NaN         NaN      NaN         NaN   \n",
       "\n",
       "    Level_Trip  Trend_Trip  Seasn_Trip    ES_Trip  ESErr_Trip  \n",
       "0    30.000000   -0.784722    0.000000  30.000000    0.000000  \n",
       "1    29.269274   -0.730726   -8.269274  20.269274    0.730726  \n",
       "2    28.599160   -0.670113    0.400840  28.329887    0.670113  \n",
       "3    27.993135   -0.606026    3.006865  30.393974    0.606026  \n",
       "4    27.459372   -0.533763   12.540628  39.466237    0.533763  \n",
       "5    27.027646   -0.431726   20.972354  47.568274    0.431726  \n",
       "6    26.673083   -0.354563   26.326917  52.645437    0.354563  \n",
       "7    26.404398   -0.268685   20.595602  46.731315    0.268685  \n",
       "8    26.226947   -0.177451   10.773053  36.822549    0.177451  \n",
       "9    26.136177   -0.090770   12.863823  38.909230    0.090770  \n",
       "10   26.109890   -0.026288    4.890110  30.973712    0.026288  \n",
       "11   26.112478    0.002588    2.887522  29.002588   -0.002588  \n",
       "12   26.101849   -0.010629   -9.101849  16.989371    0.010629  \n",
       "13   26.022003   -0.079846  -17.022003   8.920154    0.079846  \n",
       "14   25.892390   -0.129613   -5.892390  19.870387    0.129613  \n",
       "15   25.725355   -0.167036   -1.725355  23.832964    0.167036  \n",
       "16   25.471236   -0.254118    1.528764  26.745882    0.254118  \n",
       "17   25.129325   -0.341911    9.870675  34.658089    0.341911  \n",
       "18   24.708057   -0.421268   16.291943  40.578732    0.421268  \n",
       "19   24.232789   -0.475268   13.767211  37.524732    0.475268  \n",
       "20   23.698436   -0.534353    3.301564  26.465647    0.534353  \n",
       "21   23.124634   -0.573802    7.875366  30.426198    0.573802  \n",
       "22   22.547373   -0.577261    4.452627  26.422739    0.577261  \n",
       "23   21.979075   -0.568298    4.020925  25.431702    0.568298  \n",
       "24   21.478967   -0.500108   -0.478967  20.499892    0.500108  \n",
       "25   21.049811   -0.429155   -8.049811  12.570845    0.429155  \n",
       "26   20.669864   -0.379947    0.330136  20.620053    0.379947  \n",
       "27   20.285487   -0.384377   -2.285487  17.615623    0.384377  \n",
       "28   19.991890   -0.293597   13.008110  32.706403    0.293597  \n",
       "29   19.740904   -0.250985   15.259096  34.749015    0.250985  \n",
       "30   19.523014   -0.217890   20.476986  39.782110    0.217890  \n",
       "31   19.328095   -0.194919   16.671905  35.805081    0.194919  \n",
       "32   19.129765   -0.198330    2.870235  21.801670    0.198330  \n",
       "33   18.909412   -0.220352    5.090588  23.779648    0.220352  \n",
       "34   18.672256   -0.237156    2.327744  20.762844    0.237156  \n",
       "35   18.415830   -0.256426    1.584170  19.743574    0.256426  \n",
       "36   18.154065   -0.261765   -1.154065  16.738235    0.261765  \n",
       "37   17.924920   -0.229145   -3.924920  13.770855    0.229145  \n",
       "38   17.687726   -0.237194   -0.687726  16.762806    0.237194  \n",
       "39   17.480620   -0.207105    1.519380  18.792895    0.207105  \n",
       "40   17.239921   -0.240699    8.760079  25.759301    0.240699  \n",
       "41   16.973658   -0.266264   12.026342  28.733736    0.266264  \n",
       "42   16.729485   -0.244172   23.270515  39.755828    0.244172  \n",
       "43   16.468387   -0.261098   14.531613  30.738902    0.261098  \n",
       "44   16.214527   -0.253860    3.785473  19.746140    0.253860  \n",
       "45   15.983803   -0.230724    8.016197  23.769276    0.230724  \n",
       "46   15.752445   -0.231358    2.247555  17.768642    0.231358  \n",
       "47   15.590874   -0.161570   10.409126  25.838430    0.161570  \n",
       "48   15.450683   -0.140192    1.549317  16.859808    0.140192  \n",
       "49   15.291774   -0.158909   -6.291774   8.841091    0.158909  \n",
       "50   15.152911   -0.138863    1.847089  16.861137    0.138863  \n",
       "51   15.049092   -0.103818    5.950908  20.896182    0.103818  \n",
       "52   14.978970   -0.070123   13.021030  27.929877    0.070123  \n",
       "53   14.948586   -0.030384   17.051414  31.969616    0.030384  \n",
       "54   14.979489    0.030903   31.020511  46.030903   -0.030903  \n",
       "55   15.037524    0.058035   17.962476  33.058035   -0.058035  \n",
       "56   15.127877    0.090352    7.872123  23.090352   -0.090352  \n",
       "57   15.255620    0.127743   12.744380  28.127743   -0.127743  \n",
       "58   15.417643    0.162023    6.582357  22.162023   -0.162023  \n",
       "59   15.587600    0.169957   11.412400  27.169957   -0.169957  \n",
       "60   15.762996    0.175395    2.237004  18.175395   -0.175395  \n",
       "61   15.925472    0.162476   -7.925472   8.162476   -0.162476  \n",
       "62   16.080611    0.155140    0.919389  17.155140   -0.155140  \n",
       "63   16.226440    0.145829    4.773560  21.145829   -0.145829  \n",
       "64   16.384876    0.158435   14.615124  31.158435   -0.158435  \n",
       "65   16.546491    0.161615   17.453509  34.161615   -0.161615  \n",
       "66   16.678851    0.132360   27.321149  44.132360   -0.132360  \n",
       "67   16.836525    0.157674   21.163475  38.157674   -0.157674  \n",
       "68   17.042324    0.205799   13.957676  31.205799   -0.205799  \n",
       "69   17.248182    0.205858   12.751818  30.205858   -0.205858  \n",
       "70   17.469446    0.221264    8.530554  26.221264   -0.221264  \n",
       "71   17.713440    0.243993   14.286560  32.243993   -0.243993  \n",
       "72   17.713440    0.243993    2.237004  20.194437         NaN  \n",
       "73   17.713440    0.243993   -7.925472  10.275955         NaN  \n",
       "74   17.713440    0.243993    0.919389  19.364808         NaN  \n",
       "75   17.713440    0.243993    4.773560  23.462973         NaN  \n",
       "76   17.713440    0.243993   14.615124  33.548531         NaN  \n",
       "77   17.713440    0.243993   17.453509  36.630909         NaN  \n",
       "78   17.713440    0.243993   27.321149  46.742542         NaN  \n",
       "79   17.713440    0.243993   21.163475  40.828861         NaN  \n",
       "80   17.713440    0.243993   13.957676  33.867055         NaN  \n",
       "81   17.713440    0.243993   12.751818  32.905191         NaN  \n",
       "82   17.713440    0.243993    8.530554  28.927920         NaN  \n",
       "83   17.713440    0.243993   14.286560  34.927920         NaN  \n",
       "84   17.713440    0.243993    2.237004  23.122357         NaN  \n",
       "85   17.713440    0.243993   -7.925472  13.203875         NaN  \n",
       "86   17.713440    0.243993    0.919389  22.292728         NaN  \n",
       "87   17.713440    0.243993    4.773560  26.390892         NaN  \n",
       "88   17.713440    0.243993   14.615124  36.476450         NaN  \n",
       "89   17.713440    0.243993   17.453509  39.558829         NaN  \n",
       "90   17.713440    0.243993   27.321149  49.670462         NaN  \n",
       "91   17.713440    0.243993   21.163475  43.756781         NaN  \n",
       "92   17.713440    0.243993   13.957676  36.794975         NaN  \n",
       "93   17.713440    0.243993   12.751818  35.833111         NaN  \n",
       "94   17.713440    0.243993    8.530554  31.855840         NaN  \n",
       "95   17.713440    0.243993   14.286560  37.855840         NaN  "
      ]
     },
     "metadata": {},
     "output_type": "display_data"
    }
   ],
   "source": [
    "# join them all together\n",
    "results = single.join(double.drop(columns=['Data']), how='outer').join(triple.drop(columns='Data'), how='outer')\n",
    "display(results)"
   ]
  },
  {
   "cell_type": "code",
   "execution_count": 12,
   "metadata": {},
   "outputs": [
    {
     "data": {
      "text/html": [
       "<div>\n",
       "<style scoped>\n",
       "    .dataframe tbody tr th:only-of-type {\n",
       "        vertical-align: middle;\n",
       "    }\n",
       "\n",
       "    .dataframe tbody tr th {\n",
       "        vertical-align: top;\n",
       "    }\n",
       "\n",
       "    .dataframe thead th {\n",
       "        text-align: right;\n",
       "    }\n",
       "</style>\n",
       "<table border=\"1\" class=\"dataframe\">\n",
       "  <thead>\n",
       "    <tr style=\"text-align: right;\">\n",
       "      <th></th>\n",
       "      <th>ME</th>\n",
       "      <th>MAE</th>\n",
       "      <th>MDE</th>\n",
       "      <th>MDAE</th>\n",
       "      <th>MAPE</th>\n",
       "      <th>MSE</th>\n",
       "      <th>SSE</th>\n",
       "    </tr>\n",
       "  </thead>\n",
       "  <tbody>\n",
       "    <tr>\n",
       "      <th>ES_Sing</th>\n",
       "      <td>0.000000</td>\n",
       "      <td>0.00000</td>\n",
       "      <td>0.000000</td>\n",
       "      <td>0.000000</td>\n",
       "      <td>0.000000</td>\n",
       "      <td>0.000000</td>\n",
       "      <td>0.000000</td>\n",
       "    </tr>\n",
       "    <tr>\n",
       "      <th>ES_Doub</th>\n",
       "      <td>0.000000</td>\n",
       "      <td>0.00000</td>\n",
       "      <td>0.000000</td>\n",
       "      <td>0.000000</td>\n",
       "      <td>0.000000</td>\n",
       "      <td>0.000000</td>\n",
       "      <td>0.000000</td>\n",
       "    </tr>\n",
       "    <tr>\n",
       "      <th>ES_Trip</th>\n",
       "      <td>0.170647</td>\n",
       "      <td>0.24752</td>\n",
       "      <td>0.202718</td>\n",
       "      <td>0.219121</td>\n",
       "      <td>1.016735</td>\n",
       "      <td>0.088417</td>\n",
       "      <td>6.366015</td>\n",
       "    </tr>\n",
       "  </tbody>\n",
       "</table>\n",
       "</div>"
      ],
      "text/plain": [
       "               ME      MAE       MDE      MDAE      MAPE       MSE       SSE\n",
       "ES_Sing  0.000000  0.00000  0.000000  0.000000  0.000000  0.000000  0.000000\n",
       "ES_Doub  0.000000  0.00000  0.000000  0.000000  0.000000  0.000000  0.000000\n",
       "ES_Trip  0.170647  0.24752  0.202718  0.219121  1.016735  0.088417  6.366015"
      ]
     },
     "metadata": {},
     "output_type": "display_data"
    }
   ],
   "source": [
    "# error metrics\n",
    "models = ['ES_Sing', 'ES_Doub', 'ES_Trip']\n",
    "metrics = ['ME', 'MAE', 'MDE', 'MDAE', 'MAPE', 'MSE', 'SSE']\n",
    "mets = np.zeros(shape=(len(models), len(metrics)), dtype=float)\n",
    "for i, mod in enumerate(models):\n",
    "    for j, met in enumerate(metrics):\n",
    "        mets[i, j] = globals()[met](**{'actl':results['Data'].values[:n], 'pred':results[mod].values[:n]})\n",
    "display(pd.DataFrame(data=mets, index=models, columns=metrics))"
   ]
  },
  {
   "cell_type": "code",
   "execution_count": 13,
   "metadata": {},
   "outputs": [
    {
     "data": {
      "application/vnd.plotly.v1+json": {
       "config": {
        "linkText": "Export to plot.ly",
        "plotlyServerURL": "https://plot.ly",
        "showLink": false
       },
       "data": [
        {
         "line": {
          "color": "black"
         },
         "marker": {
          "color": "black",
          "symbol": "star"
         },
         "mode": "markers+lines",
         "name": "Data",
         "type": "scatter",
         "x": [
          0,
          1,
          2,
          3,
          4,
          5,
          6,
          7,
          8,
          9,
          10,
          11,
          12,
          13,
          14,
          15,
          16,
          17,
          18,
          19,
          20,
          21,
          22,
          23,
          24,
          25,
          26,
          27,
          28,
          29,
          30,
          31,
          32,
          33,
          34,
          35,
          36,
          37,
          38,
          39,
          40,
          41,
          42,
          43,
          44,
          45,
          46,
          47,
          48,
          49,
          50,
          51,
          52,
          53,
          54,
          55,
          56,
          57,
          58,
          59,
          60,
          61,
          62,
          63,
          64,
          65,
          66,
          67,
          68,
          69,
          70,
          71,
          72,
          73,
          74,
          75,
          76,
          77,
          78,
          79,
          80,
          81,
          82,
          83,
          84,
          85,
          86,
          87,
          88,
          89,
          90,
          91,
          92,
          93,
          94,
          95
         ],
         "xaxis": "x",
         "y": [
          30,
          21,
          29,
          31,
          40,
          48,
          53,
          47,
          37,
          39,
          31,
          29,
          17,
          9,
          20,
          24,
          27,
          35,
          41,
          38,
          27,
          31,
          27,
          26,
          21,
          13,
          21,
          18,
          33,
          35,
          40,
          36,
          22,
          24,
          21,
          20,
          17,
          14,
          17,
          19,
          26,
          29,
          40,
          31,
          20,
          24,
          18,
          26,
          17,
          9,
          17,
          21,
          28,
          32,
          46,
          33,
          23,
          28,
          22,
          27,
          18,
          8,
          17,
          21,
          31,
          34,
          44,
          38,
          31,
          30,
          26,
          32,
          null,
          null,
          null,
          null,
          null,
          null,
          null,
          null,
          null,
          null,
          null,
          null,
          null,
          null,
          null,
          null,
          null,
          null,
          null,
          null,
          null,
          null,
          null,
          null
         ],
         "yaxis": "y"
        },
        {
         "legendgroup": "Single",
         "line": {
          "color": "red"
         },
         "marker": {
          "color": "red",
          "symbol": "triangle-up-open"
         },
         "mode": "markers+lines",
         "name": "Single",
         "type": "scatter",
         "x": [
          0,
          1,
          2,
          3,
          4,
          5,
          6,
          7,
          8,
          9,
          10,
          11,
          12,
          13,
          14,
          15,
          16,
          17,
          18,
          19,
          20,
          21,
          22,
          23,
          24,
          25,
          26,
          27,
          28,
          29,
          30,
          31,
          32,
          33,
          34,
          35,
          36,
          37,
          38,
          39,
          40,
          41,
          42,
          43,
          44,
          45,
          46,
          47,
          48,
          49,
          50,
          51,
          52,
          53,
          54,
          55,
          56,
          57,
          58,
          59,
          60,
          61,
          62,
          63,
          64,
          65,
          66,
          67,
          68,
          69,
          70,
          71,
          72,
          73,
          74,
          75,
          76,
          77,
          78,
          79,
          80,
          81,
          82,
          83,
          84,
          85,
          86,
          87,
          88,
          89,
          90,
          91,
          92,
          93,
          94,
          95
         ],
         "xaxis": "x",
         "y": [
          30,
          21,
          29,
          31,
          40,
          48,
          53,
          47,
          37,
          39,
          31,
          29,
          17,
          9,
          20,
          24,
          27,
          35,
          41,
          38,
          27,
          31,
          27,
          26,
          21,
          13,
          21,
          18,
          33,
          35,
          40,
          36,
          22,
          24,
          21,
          20,
          17,
          14,
          17,
          19,
          26,
          29,
          40,
          31,
          20,
          24,
          18,
          26,
          17,
          9,
          17,
          21,
          28,
          32,
          46,
          33,
          23,
          28,
          22,
          27,
          18,
          8,
          17,
          21,
          31,
          34,
          44,
          38,
          31,
          30,
          26,
          32,
          32,
          null,
          null,
          null,
          null,
          null,
          null,
          null,
          null,
          null,
          null,
          null,
          null,
          null,
          null,
          null,
          null,
          null,
          null,
          null,
          null,
          null,
          null,
          null
         ],
         "yaxis": "y"
        },
        {
         "legendgroup": "Double",
         "line": {
          "color": "blue"
         },
         "marker": {
          "color": "blue",
          "symbol": "circle-open"
         },
         "mode": "markers+lines",
         "name": "Double",
         "type": "scatter",
         "x": [
          0,
          1,
          2,
          3,
          4,
          5,
          6,
          7,
          8,
          9,
          10,
          11,
          12,
          13,
          14,
          15,
          16,
          17,
          18,
          19,
          20,
          21,
          22,
          23,
          24,
          25,
          26,
          27,
          28,
          29,
          30,
          31,
          32,
          33,
          34,
          35,
          36,
          37,
          38,
          39,
          40,
          41,
          42,
          43,
          44,
          45,
          46,
          47,
          48,
          49,
          50,
          51,
          52,
          53,
          54,
          55,
          56,
          57,
          58,
          59,
          60,
          61,
          62,
          63,
          64,
          65,
          66,
          67,
          68,
          69,
          70,
          71,
          72,
          73,
          74,
          75,
          76,
          77,
          78,
          79,
          80,
          81,
          82,
          83,
          84,
          85,
          86,
          87,
          88,
          89,
          90,
          91,
          92,
          93,
          94,
          95
         ],
         "xaxis": "x",
         "y": [
          30,
          21,
          29,
          31,
          40,
          48,
          53,
          47,
          37,
          39,
          31,
          29,
          17,
          9,
          20,
          24,
          27,
          35,
          41,
          38,
          27,
          31,
          27,
          26,
          21,
          13,
          21,
          18,
          33,
          35,
          40,
          36,
          22,
          24,
          21,
          20,
          17,
          14,
          17,
          19,
          26,
          29,
          40,
          31,
          20,
          24,
          18,
          26,
          17,
          9,
          17,
          21,
          28,
          32,
          46,
          33,
          23,
          28,
          22,
          27,
          18,
          8,
          17,
          21,
          31,
          34,
          44,
          38,
          31,
          30,
          26,
          32,
          32,
          32,
          null,
          null,
          null,
          null,
          null,
          null,
          null,
          null,
          null,
          null,
          null,
          null,
          null,
          null,
          null,
          null,
          null,
          null,
          null,
          null,
          null,
          null
         ],
         "yaxis": "y"
        },
        {
         "legendgroup": "Triple",
         "line": {
          "color": "green"
         },
         "marker": {
          "color": "green",
          "symbol": "square-open"
         },
         "mode": "markers+lines",
         "name": "Triple",
         "type": "scatter",
         "x": [
          0,
          1,
          2,
          3,
          4,
          5,
          6,
          7,
          8,
          9,
          10,
          11,
          12,
          13,
          14,
          15,
          16,
          17,
          18,
          19,
          20,
          21,
          22,
          23,
          24,
          25,
          26,
          27,
          28,
          29,
          30,
          31,
          32,
          33,
          34,
          35,
          36,
          37,
          38,
          39,
          40,
          41,
          42,
          43,
          44,
          45,
          46,
          47,
          48,
          49,
          50,
          51,
          52,
          53,
          54,
          55,
          56,
          57,
          58,
          59,
          60,
          61,
          62,
          63,
          64,
          65,
          66,
          67,
          68,
          69,
          70,
          71,
          72,
          73,
          74,
          75,
          76,
          77,
          78,
          79,
          80,
          81,
          82,
          83,
          84,
          85,
          86,
          87,
          88,
          89,
          90,
          91,
          92,
          93,
          94,
          95
         ],
         "xaxis": "x",
         "y": [
          30,
          20.269273643431696,
          28.329886819059745,
          30.393974473398515,
          39.466237191896056,
          47.56827424486232,
          52.645436975709224,
          46.7313145434998,
          36.82254943483808,
          38.909230096760346,
          30.973712456280165,
          29.002588053850157,
          16.98937135329311,
          8.920154191096092,
          19.870386915615374,
          23.83296421177261,
          26.7458816671261,
          34.6580888625858,
          40.578731633923496,
          37.524732268422476,
          26.465647243229746,
          30.426198197322638,
          26.422738551848553,
          25.431701579749102,
          20.499891902869628,
          12.570844589255628,
          20.62005273778901,
          17.61562317393032,
          32.706402600985506,
          34.749014587504846,
          39.78211017749313,
          35.805080688116476,
          21.801669714012423,
          23.77964750824058,
          20.76284379354318,
          19.74357377306489,
          16.738235050636643,
          13.77085496133206,
          16.762805644391698,
          18.79289478022771,
          25.75930106628253,
          28.733736240166778,
          39.75582765192224,
          30.738902080176448,
          19.74613983929249,
          23.769275750262718,
          17.76864161471575,
          25.83842994126295,
          16.859808463347058,
          8.841091224175358,
          16.86113670479981,
          20.896181518428357,
          27.92987740318539,
          31.969616000962795,
          46.03090347801392,
          33.05803496860819,
          23.090352468784538,
          28.127743250092408,
          22.162023144435572,
          27.169957103248443,
          18.175395380004346,
          8.162475993591874,
          17.15513967801981,
          21.14582913272315,
          31.158435333275936,
          34.16161512648273,
          44.132360329623516,
          38.15767404003458,
          31.205798988752733,
          30.20585780848108,
          26.221264276756663,
          32.243993327366596,
          20.19443736247527,
          10.275954696249991,
          19.364808345596774,
          23.46297254024022,
          33.54853053433088,
          36.630908735214746,
          46.742541732957825,
          40.828861020289835,
          33.8670553589037,
          32.90519087778922,
          28.92791992839915,
          34.92791992839915,
          23.12235729087442,
          13.20387462464914,
          22.292728273995923,
          26.390892468639368,
          36.47645046273003,
          39.558828663613895,
          49.670461661356974,
          43.756780948688984,
          36.79497528730285,
          35.833110806188365,
          31.855839856798298,
          37.8558398567983
         ],
         "yaxis": "y"
        },
        {
         "line": {
          "color": "black"
         },
         "marker": {
          "color": "black",
          "symbol": "star"
         },
         "mode": "markers+lines",
         "name": "Data",
         "showlegend": true,
         "type": "scatter",
         "x": [
          0,
          1,
          2,
          3,
          4,
          5,
          6,
          7,
          8,
          9,
          10,
          11,
          12,
          13,
          14,
          15,
          16,
          17,
          18,
          19,
          20,
          21,
          22,
          23,
          24,
          25,
          26,
          27,
          28,
          29,
          30,
          31,
          32,
          33,
          34,
          35,
          36,
          37,
          38,
          39,
          40,
          41,
          42,
          43,
          44,
          45,
          46,
          47,
          48,
          49,
          50,
          51,
          52,
          53,
          54,
          55,
          56,
          57,
          58,
          59,
          60,
          61,
          62,
          63,
          64,
          65,
          66,
          67,
          68,
          69,
          70,
          71,
          72,
          73,
          74,
          75,
          76,
          77,
          78,
          79,
          80,
          81,
          82,
          83,
          84,
          85,
          86,
          87,
          88,
          89,
          90,
          91,
          92,
          93,
          94,
          95
         ],
         "xaxis": "x2",
         "y": [
          30,
          21,
          29,
          31,
          40,
          48,
          53,
          47,
          37,
          39,
          31,
          29,
          17,
          9,
          20,
          24,
          27,
          35,
          41,
          38,
          27,
          31,
          27,
          26,
          21,
          13,
          21,
          18,
          33,
          35,
          40,
          36,
          22,
          24,
          21,
          20,
          17,
          14,
          17,
          19,
          26,
          29,
          40,
          31,
          20,
          24,
          18,
          26,
          17,
          9,
          17,
          21,
          28,
          32,
          46,
          33,
          23,
          28,
          22,
          27,
          18,
          8,
          17,
          21,
          31,
          34,
          44,
          38,
          31,
          30,
          26,
          32,
          null,
          null,
          null,
          null,
          null,
          null,
          null,
          null,
          null,
          null,
          null,
          null,
          null,
          null,
          null,
          null,
          null,
          null,
          null,
          null,
          null,
          null,
          null,
          null
         ],
         "yaxis": "y2"
        },
        {
         "legendgroup": "Single",
         "line": {
          "color": "red"
         },
         "marker": {
          "color": "red",
          "symbol": "triangle-up-open"
         },
         "mode": "markers+lines",
         "name": "Single Error",
         "type": "scatter",
         "x": [
          0,
          1,
          2,
          3,
          4,
          5,
          6,
          7,
          8,
          9,
          10,
          11,
          12,
          13,
          14,
          15,
          16,
          17,
          18,
          19,
          20,
          21,
          22,
          23,
          24,
          25,
          26,
          27,
          28,
          29,
          30,
          31,
          32,
          33,
          34,
          35,
          36,
          37,
          38,
          39,
          40,
          41,
          42,
          43,
          44,
          45,
          46,
          47,
          48,
          49,
          50,
          51,
          52,
          53,
          54,
          55,
          56,
          57,
          58,
          59,
          60,
          61,
          62,
          63,
          64,
          65,
          66,
          67,
          68,
          69,
          70,
          71,
          72,
          73,
          74,
          75,
          76,
          77,
          78,
          79,
          80,
          81,
          82,
          83,
          84,
          85,
          86,
          87,
          88,
          89,
          90,
          91,
          92,
          93,
          94,
          95
         ],
         "xaxis": "x2",
         "y": [
          0,
          0,
          0,
          0,
          0,
          0,
          0,
          0,
          0,
          0,
          0,
          0,
          0,
          0,
          0,
          0,
          0,
          0,
          0,
          0,
          0,
          0,
          0,
          0,
          0,
          0,
          0,
          0,
          0,
          0,
          0,
          0,
          0,
          0,
          0,
          0,
          0,
          0,
          0,
          0,
          0,
          0,
          0,
          0,
          0,
          0,
          0,
          0,
          0,
          0,
          0,
          0,
          0,
          0,
          0,
          0,
          0,
          0,
          0,
          0,
          0,
          0,
          0,
          0,
          0,
          0,
          0,
          0,
          0,
          0,
          0,
          0,
          null,
          null,
          null,
          null,
          null,
          null,
          null,
          null,
          null,
          null,
          null,
          null,
          null,
          null,
          null,
          null,
          null,
          null,
          null,
          null,
          null,
          null,
          null,
          null
         ],
         "yaxis": "y2"
        },
        {
         "legendgroup": "Double",
         "line": {
          "color": "blue"
         },
         "marker": {
          "color": "blue",
          "symbol": "circle-open"
         },
         "mode": "markers+lines",
         "name": "Double Error",
         "type": "scatter",
         "x": [
          0,
          1,
          2,
          3,
          4,
          5,
          6,
          7,
          8,
          9,
          10,
          11,
          12,
          13,
          14,
          15,
          16,
          17,
          18,
          19,
          20,
          21,
          22,
          23,
          24,
          25,
          26,
          27,
          28,
          29,
          30,
          31,
          32,
          33,
          34,
          35,
          36,
          37,
          38,
          39,
          40,
          41,
          42,
          43,
          44,
          45,
          46,
          47,
          48,
          49,
          50,
          51,
          52,
          53,
          54,
          55,
          56,
          57,
          58,
          59,
          60,
          61,
          62,
          63,
          64,
          65,
          66,
          67,
          68,
          69,
          70,
          71,
          72,
          73,
          74,
          75,
          76,
          77,
          78,
          79,
          80,
          81,
          82,
          83,
          84,
          85,
          86,
          87,
          88,
          89,
          90,
          91,
          92,
          93,
          94,
          95
         ],
         "xaxis": "x2",
         "y": [
          0,
          0,
          0,
          0,
          0,
          0,
          0,
          0,
          0,
          0,
          0,
          0,
          0,
          0,
          0,
          0,
          0,
          0,
          0,
          0,
          0,
          0,
          0,
          0,
          0,
          0,
          0,
          0,
          0,
          0,
          0,
          0,
          0,
          0,
          0,
          0,
          0,
          0,
          0,
          0,
          0,
          0,
          0,
          0,
          0,
          0,
          0,
          0,
          0,
          0,
          0,
          0,
          0,
          0,
          0,
          0,
          0,
          0,
          0,
          0,
          0,
          0,
          0,
          0,
          0,
          0,
          0,
          0,
          0,
          0,
          0,
          0,
          null,
          null,
          null,
          null,
          null,
          null,
          null,
          null,
          null,
          null,
          null,
          null,
          null,
          null,
          null,
          null,
          null,
          null,
          null,
          null,
          null,
          null,
          null,
          null
         ],
         "yaxis": "y2"
        },
        {
         "legendgroup": "Triple",
         "line": {
          "color": "green"
         },
         "marker": {
          "color": "green",
          "symbol": "square-open"
         },
         "mode": "markers+lines",
         "name": "Triple Error",
         "type": "scatter",
         "x": [
          0,
          1,
          2,
          3,
          4,
          5,
          6,
          7,
          8,
          9,
          10,
          11,
          12,
          13,
          14,
          15,
          16,
          17,
          18,
          19,
          20,
          21,
          22,
          23,
          24,
          25,
          26,
          27,
          28,
          29,
          30,
          31,
          32,
          33,
          34,
          35,
          36,
          37,
          38,
          39,
          40,
          41,
          42,
          43,
          44,
          45,
          46,
          47,
          48,
          49,
          50,
          51,
          52,
          53,
          54,
          55,
          56,
          57,
          58,
          59,
          60,
          61,
          62,
          63,
          64,
          65,
          66,
          67,
          68,
          69,
          70,
          71,
          72,
          73,
          74,
          75,
          76,
          77,
          78,
          79,
          80,
          81,
          82,
          83,
          84,
          85,
          86,
          87,
          88,
          89,
          90,
          91,
          92,
          93,
          94,
          95
         ],
         "xaxis": "x2",
         "y": [
          0,
          0.7307263565683044,
          0.6701131809402554,
          0.6060255266014849,
          0.533762808103944,
          0.43172575513767697,
          0.35456302429077624,
          0.2686854565002008,
          0.17745056516191937,
          0.09076990323965362,
          0.026287543719835327,
          0.002588053850157479,
          0.010628646706891232,
          0.07984580890390802,
          0.12961308438462638,
          0.16703578822739118,
          0.25411833287390095,
          0.34191113741420054,
          0.42126836607650375,
          0.47526773157752444,
          0.5343527567702537,
          0.5738018026773624,
          0.5772614481514466,
          0.5682984202508976,
          0.5001080971303722,
          0.4291554107443716,
          0.3799472622109903,
          0.3843768260696798,
          0.29359739901449444,
          0.2509854124951545,
          0.21788982250686928,
          0.19491931188352396,
          0.19833028598757707,
          0.22035249175942084,
          0.23715620645682023,
          0.2564262269351083,
          0.26176494936335715,
          0.22914503866794078,
          0.2371943556083025,
          0.20710521977229135,
          0.24069893371747142,
          0.2662637598332225,
          0.24417234807776111,
          0.2610979198235519,
          0.25386016070751083,
          0.2307242497372819,
          0.23135838528424912,
          0.16157005873704833,
          0.14019153665294226,
          0.15890877582464213,
          0.13886329520018847,
          0.10381848157164342,
          0.07012259681460975,
          0.030383999037205456,
          0.030903478013918573,
          0.05803496860819024,
          0.09035246878453762,
          0.12774325009240783,
          0.16202314443557242,
          0.16995710324844282,
          0.17539538000434618,
          0.16247599359187426,
          0.1551396780198111,
          0.14582913272315068,
          0.15843533327593562,
          0.16161512648272947,
          0.1323603296235163,
          0.1576740400345784,
          0.20579898875273273,
          0.20585780848108115,
          0.2212642767566635,
          0.24399332736659574,
          null,
          null,
          null,
          null,
          null,
          null,
          null,
          null,
          null,
          null,
          null,
          null,
          null,
          null,
          null,
          null,
          null,
          null,
          null,
          null,
          null,
          null,
          null,
          null
         ],
         "yaxis": "y2"
        }
       ],
       "layout": {
        "annotations": [
         {
          "font": {
           "size": 16
          },
          "showarrow": false,
          "text": "Predictions / Forecasts",
          "x": 0.5,
          "xanchor": "center",
          "xref": "paper",
          "y": 1,
          "yanchor": "bottom",
          "yref": "paper"
         },
         {
          "font": {
           "size": 16
          },
          "showarrow": false,
          "text": "Errors",
          "x": 0.5,
          "xanchor": "center",
          "xref": "paper",
          "y": 0.375,
          "yanchor": "bottom",
          "yref": "paper"
         }
        ],
        "autosize": true,
        "template": {
         "data": {
          "bar": [
           {
            "error_x": {
             "color": "#2a3f5f"
            },
            "error_y": {
             "color": "#2a3f5f"
            },
            "marker": {
             "line": {
              "color": "#E5ECF6",
              "width": 0.5
             }
            },
            "type": "bar"
           }
          ],
          "barpolar": [
           {
            "marker": {
             "line": {
              "color": "#E5ECF6",
              "width": 0.5
             }
            },
            "type": "barpolar"
           }
          ],
          "carpet": [
           {
            "aaxis": {
             "endlinecolor": "#2a3f5f",
             "gridcolor": "white",
             "linecolor": "white",
             "minorgridcolor": "white",
             "startlinecolor": "#2a3f5f"
            },
            "baxis": {
             "endlinecolor": "#2a3f5f",
             "gridcolor": "white",
             "linecolor": "white",
             "minorgridcolor": "white",
             "startlinecolor": "#2a3f5f"
            },
            "type": "carpet"
           }
          ],
          "choropleth": [
           {
            "colorbar": {
             "outlinewidth": 0,
             "ticks": ""
            },
            "type": "choropleth"
           }
          ],
          "contour": [
           {
            "colorbar": {
             "outlinewidth": 0,
             "ticks": ""
            },
            "colorscale": [
             [
              0,
              "#0d0887"
             ],
             [
              0.1111111111111111,
              "#46039f"
             ],
             [
              0.2222222222222222,
              "#7201a8"
             ],
             [
              0.3333333333333333,
              "#9c179e"
             ],
             [
              0.4444444444444444,
              "#bd3786"
             ],
             [
              0.5555555555555556,
              "#d8576b"
             ],
             [
              0.6666666666666666,
              "#ed7953"
             ],
             [
              0.7777777777777778,
              "#fb9f3a"
             ],
             [
              0.8888888888888888,
              "#fdca26"
             ],
             [
              1,
              "#f0f921"
             ]
            ],
            "type": "contour"
           }
          ],
          "contourcarpet": [
           {
            "colorbar": {
             "outlinewidth": 0,
             "ticks": ""
            },
            "type": "contourcarpet"
           }
          ],
          "heatmap": [
           {
            "colorbar": {
             "outlinewidth": 0,
             "ticks": ""
            },
            "colorscale": [
             [
              0,
              "#0d0887"
             ],
             [
              0.1111111111111111,
              "#46039f"
             ],
             [
              0.2222222222222222,
              "#7201a8"
             ],
             [
              0.3333333333333333,
              "#9c179e"
             ],
             [
              0.4444444444444444,
              "#bd3786"
             ],
             [
              0.5555555555555556,
              "#d8576b"
             ],
             [
              0.6666666666666666,
              "#ed7953"
             ],
             [
              0.7777777777777778,
              "#fb9f3a"
             ],
             [
              0.8888888888888888,
              "#fdca26"
             ],
             [
              1,
              "#f0f921"
             ]
            ],
            "type": "heatmap"
           }
          ],
          "heatmapgl": [
           {
            "colorbar": {
             "outlinewidth": 0,
             "ticks": ""
            },
            "colorscale": [
             [
              0,
              "#0d0887"
             ],
             [
              0.1111111111111111,
              "#46039f"
             ],
             [
              0.2222222222222222,
              "#7201a8"
             ],
             [
              0.3333333333333333,
              "#9c179e"
             ],
             [
              0.4444444444444444,
              "#bd3786"
             ],
             [
              0.5555555555555556,
              "#d8576b"
             ],
             [
              0.6666666666666666,
              "#ed7953"
             ],
             [
              0.7777777777777778,
              "#fb9f3a"
             ],
             [
              0.8888888888888888,
              "#fdca26"
             ],
             [
              1,
              "#f0f921"
             ]
            ],
            "type": "heatmapgl"
           }
          ],
          "histogram": [
           {
            "marker": {
             "colorbar": {
              "outlinewidth": 0,
              "ticks": ""
             }
            },
            "type": "histogram"
           }
          ],
          "histogram2d": [
           {
            "colorbar": {
             "outlinewidth": 0,
             "ticks": ""
            },
            "colorscale": [
             [
              0,
              "#0d0887"
             ],
             [
              0.1111111111111111,
              "#46039f"
             ],
             [
              0.2222222222222222,
              "#7201a8"
             ],
             [
              0.3333333333333333,
              "#9c179e"
             ],
             [
              0.4444444444444444,
              "#bd3786"
             ],
             [
              0.5555555555555556,
              "#d8576b"
             ],
             [
              0.6666666666666666,
              "#ed7953"
             ],
             [
              0.7777777777777778,
              "#fb9f3a"
             ],
             [
              0.8888888888888888,
              "#fdca26"
             ],
             [
              1,
              "#f0f921"
             ]
            ],
            "type": "histogram2d"
           }
          ],
          "histogram2dcontour": [
           {
            "colorbar": {
             "outlinewidth": 0,
             "ticks": ""
            },
            "colorscale": [
             [
              0,
              "#0d0887"
             ],
             [
              0.1111111111111111,
              "#46039f"
             ],
             [
              0.2222222222222222,
              "#7201a8"
             ],
             [
              0.3333333333333333,
              "#9c179e"
             ],
             [
              0.4444444444444444,
              "#bd3786"
             ],
             [
              0.5555555555555556,
              "#d8576b"
             ],
             [
              0.6666666666666666,
              "#ed7953"
             ],
             [
              0.7777777777777778,
              "#fb9f3a"
             ],
             [
              0.8888888888888888,
              "#fdca26"
             ],
             [
              1,
              "#f0f921"
             ]
            ],
            "type": "histogram2dcontour"
           }
          ],
          "mesh3d": [
           {
            "colorbar": {
             "outlinewidth": 0,
             "ticks": ""
            },
            "type": "mesh3d"
           }
          ],
          "parcoords": [
           {
            "line": {
             "colorbar": {
              "outlinewidth": 0,
              "ticks": ""
             }
            },
            "type": "parcoords"
           }
          ],
          "pie": [
           {
            "automargin": true,
            "type": "pie"
           }
          ],
          "scatter": [
           {
            "marker": {
             "colorbar": {
              "outlinewidth": 0,
              "ticks": ""
             }
            },
            "type": "scatter"
           }
          ],
          "scatter3d": [
           {
            "line": {
             "colorbar": {
              "outlinewidth": 0,
              "ticks": ""
             }
            },
            "marker": {
             "colorbar": {
              "outlinewidth": 0,
              "ticks": ""
             }
            },
            "type": "scatter3d"
           }
          ],
          "scattercarpet": [
           {
            "marker": {
             "colorbar": {
              "outlinewidth": 0,
              "ticks": ""
             }
            },
            "type": "scattercarpet"
           }
          ],
          "scattergeo": [
           {
            "marker": {
             "colorbar": {
              "outlinewidth": 0,
              "ticks": ""
             }
            },
            "type": "scattergeo"
           }
          ],
          "scattergl": [
           {
            "marker": {
             "colorbar": {
              "outlinewidth": 0,
              "ticks": ""
             }
            },
            "type": "scattergl"
           }
          ],
          "scattermapbox": [
           {
            "marker": {
             "colorbar": {
              "outlinewidth": 0,
              "ticks": ""
             }
            },
            "type": "scattermapbox"
           }
          ],
          "scatterpolar": [
           {
            "marker": {
             "colorbar": {
              "outlinewidth": 0,
              "ticks": ""
             }
            },
            "type": "scatterpolar"
           }
          ],
          "scatterpolargl": [
           {
            "marker": {
             "colorbar": {
              "outlinewidth": 0,
              "ticks": ""
             }
            },
            "type": "scatterpolargl"
           }
          ],
          "scatterternary": [
           {
            "marker": {
             "colorbar": {
              "outlinewidth": 0,
              "ticks": ""
             }
            },
            "type": "scatterternary"
           }
          ],
          "surface": [
           {
            "colorbar": {
             "outlinewidth": 0,
             "ticks": ""
            },
            "colorscale": [
             [
              0,
              "#0d0887"
             ],
             [
              0.1111111111111111,
              "#46039f"
             ],
             [
              0.2222222222222222,
              "#7201a8"
             ],
             [
              0.3333333333333333,
              "#9c179e"
             ],
             [
              0.4444444444444444,
              "#bd3786"
             ],
             [
              0.5555555555555556,
              "#d8576b"
             ],
             [
              0.6666666666666666,
              "#ed7953"
             ],
             [
              0.7777777777777778,
              "#fb9f3a"
             ],
             [
              0.8888888888888888,
              "#fdca26"
             ],
             [
              1,
              "#f0f921"
             ]
            ],
            "type": "surface"
           }
          ],
          "table": [
           {
            "cells": {
             "fill": {
              "color": "#EBF0F8"
             },
             "line": {
              "color": "white"
             }
            },
            "header": {
             "fill": {
              "color": "#C8D4E3"
             },
             "line": {
              "color": "white"
             }
            },
            "type": "table"
           }
          ]
         },
         "layout": {
          "annotationdefaults": {
           "arrowcolor": "#2a3f5f",
           "arrowhead": 0,
           "arrowwidth": 1
          },
          "coloraxis": {
           "colorbar": {
            "outlinewidth": 0,
            "ticks": ""
           }
          },
          "colorscale": {
           "diverging": [
            [
             0,
             "#8e0152"
            ],
            [
             0.1,
             "#c51b7d"
            ],
            [
             0.2,
             "#de77ae"
            ],
            [
             0.3,
             "#f1b6da"
            ],
            [
             0.4,
             "#fde0ef"
            ],
            [
             0.5,
             "#f7f7f7"
            ],
            [
             0.6,
             "#e6f5d0"
            ],
            [
             0.7,
             "#b8e186"
            ],
            [
             0.8,
             "#7fbc41"
            ],
            [
             0.9,
             "#4d9221"
            ],
            [
             1,
             "#276419"
            ]
           ],
           "sequential": [
            [
             0,
             "#0d0887"
            ],
            [
             0.1111111111111111,
             "#46039f"
            ],
            [
             0.2222222222222222,
             "#7201a8"
            ],
            [
             0.3333333333333333,
             "#9c179e"
            ],
            [
             0.4444444444444444,
             "#bd3786"
            ],
            [
             0.5555555555555556,
             "#d8576b"
            ],
            [
             0.6666666666666666,
             "#ed7953"
            ],
            [
             0.7777777777777778,
             "#fb9f3a"
            ],
            [
             0.8888888888888888,
             "#fdca26"
            ],
            [
             1,
             "#f0f921"
            ]
           ],
           "sequentialminus": [
            [
             0,
             "#0d0887"
            ],
            [
             0.1111111111111111,
             "#46039f"
            ],
            [
             0.2222222222222222,
             "#7201a8"
            ],
            [
             0.3333333333333333,
             "#9c179e"
            ],
            [
             0.4444444444444444,
             "#bd3786"
            ],
            [
             0.5555555555555556,
             "#d8576b"
            ],
            [
             0.6666666666666666,
             "#ed7953"
            ],
            [
             0.7777777777777778,
             "#fb9f3a"
            ],
            [
             0.8888888888888888,
             "#fdca26"
            ],
            [
             1,
             "#f0f921"
            ]
           ]
          },
          "colorway": [
           "#636efa",
           "#EF553B",
           "#00cc96",
           "#ab63fa",
           "#FFA15A",
           "#19d3f3",
           "#FF6692",
           "#B6E880",
           "#FF97FF",
           "#FECB52"
          ],
          "font": {
           "color": "#2a3f5f"
          },
          "geo": {
           "bgcolor": "white",
           "lakecolor": "white",
           "landcolor": "#E5ECF6",
           "showlakes": true,
           "showland": true,
           "subunitcolor": "white"
          },
          "hoverlabel": {
           "align": "left"
          },
          "hovermode": "closest",
          "mapbox": {
           "style": "light"
          },
          "paper_bgcolor": "white",
          "plot_bgcolor": "#E5ECF6",
          "polar": {
           "angularaxis": {
            "gridcolor": "white",
            "linecolor": "white",
            "ticks": ""
           },
           "bgcolor": "#E5ECF6",
           "radialaxis": {
            "gridcolor": "white",
            "linecolor": "white",
            "ticks": ""
           }
          },
          "scene": {
           "xaxis": {
            "backgroundcolor": "#E5ECF6",
            "gridcolor": "white",
            "gridwidth": 2,
            "linecolor": "white",
            "showbackground": true,
            "ticks": "",
            "zerolinecolor": "white"
           },
           "yaxis": {
            "backgroundcolor": "#E5ECF6",
            "gridcolor": "white",
            "gridwidth": 2,
            "linecolor": "white",
            "showbackground": true,
            "ticks": "",
            "zerolinecolor": "white"
           },
           "zaxis": {
            "backgroundcolor": "#E5ECF6",
            "gridcolor": "white",
            "gridwidth": 2,
            "linecolor": "white",
            "showbackground": true,
            "ticks": "",
            "zerolinecolor": "white"
           }
          },
          "shapedefaults": {
           "line": {
            "color": "#2a3f5f"
           }
          },
          "ternary": {
           "aaxis": {
            "gridcolor": "white",
            "linecolor": "white",
            "ticks": ""
           },
           "baxis": {
            "gridcolor": "white",
            "linecolor": "white",
            "ticks": ""
           },
           "bgcolor": "#E5ECF6",
           "caxis": {
            "gridcolor": "white",
            "linecolor": "white",
            "ticks": ""
           }
          },
          "title": {
           "x": 0.05
          },
          "xaxis": {
           "automargin": true,
           "gridcolor": "white",
           "linecolor": "white",
           "ticks": "",
           "title": {
            "standoff": 15
           },
           "zerolinecolor": "white",
           "zerolinewidth": 2
          },
          "yaxis": {
           "automargin": true,
           "gridcolor": "white",
           "linecolor": "white",
           "ticks": "",
           "title": {
            "standoff": 15
           },
           "zerolinecolor": "white",
           "zerolinewidth": 2
          }
         }
        },
        "title": {
         "text": "Data, Predictions, Forecasts, and Absolute Errors"
        },
        "xaxis": {
         "anchor": "y",
         "autorange": true,
         "domain": [
          0,
          1
         ],
         "range": [
          -5.941482226693493,
          100.9414822266935
         ],
         "type": "linear"
        },
        "xaxis2": {
         "anchor": "y2",
         "autorange": true,
         "domain": [
          0,
          1
         ],
         "range": [
          -5.941482226693493,
          100.9414822266935
         ],
         "type": "linear"
        },
        "yaxis": {
         "anchor": "x",
         "autorange": true,
         "domain": [
          0.625,
          1
         ],
         "range": [
          3.2578475336322867,
          57.74215246636771
         ],
         "type": "linear"
        },
        "yaxis2": {
         "anchor": "x2",
         "autorange": true,
         "domain": [
          0,
          0.375
         ],
         "range": [
          -5.585201793721973,
          58.58520179372197
         ],
         "type": "linear"
        }
       }
      },
      "image/png": "[encoded data removed]",
      "text/html": [
       "<div>\n",
       "        \n",
       "        \n",
       "            <div id=\"2243379b-df5c-4417-908b-ba814dfb33a8\" class=\"plotly-graph-div\" style=\"height:800px; width:100%;\"></div>\n",
       "            <script type=\"text/javascript\">\n",
       "                require([\"plotly\"], function(Plotly) {\n",
       "                    window.PLOTLYENV=window.PLOTLYENV || {};\n",
       "                    \n",
       "                if (document.getElementById(\"2243379b-df5c-4417-908b-ba814dfb33a8\")) {\n",
       "                    Plotly.newPlot(\n",
       "                        '2243379b-df5c-4417-908b-ba814dfb33a8',\n",
       "                        [{\"line\": {\"color\": \"black\"}, \"marker\": {\"color\": \"black\", \"symbol\": \"star\"}, \"mode\": \"markers+lines\", \"name\": \"Data\", \"type\": \"scatter\", \"x\": [0, 1, 2, 3, 4, 5, 6, 7, 8, 9, 10, 11, 12, 13, 14, 15, 16, 17, 18, 19, 20, 21, 22, 23, 24, 25, 26, 27, 28, 29, 30, 31, 32, 33, 34, 35, 36, 37, 38, 39, 40, 41, 42, 43, 44, 45, 46, 47, 48, 49, 50, 51, 52, 53, 54, 55, 56, 57, 58, 59, 60, 61, 62, 63, 64, 65, 66, 67, 68, 69, 70, 71, 72, 73, 74, 75, 76, 77, 78, 79, 80, 81, 82, 83, 84, 85, 86, 87, 88, 89, 90, 91, 92, 93, 94, 95], \"xaxis\": \"x\", \"y\": [30.0, 21.0, 29.0, 31.0, 40.0, 48.0, 53.0, 47.0, 37.0, 39.0, 31.0, 29.0, 17.0, 9.0, 20.0, 24.0, 27.0, 35.0, 41.0, 38.0, 27.0, 31.0, 27.0, 26.0, 21.0, 13.0, 21.0, 18.0, 33.0, 35.0, 40.0, 36.0, 22.0, 24.0, 21.0, 20.0, 17.0, 14.0, 17.0, 19.0, 26.0, 29.0, 40.0, 31.0, 20.0, 24.0, 18.0, 26.0, 17.0, 9.0, 17.0, 21.0, 28.0, 32.0, 46.0, 33.0, 23.0, 28.0, 22.0, 27.0, 18.0, 8.0, 17.0, 21.0, 31.0, 34.0, 44.0, 38.0, 31.0, 30.0, 26.0, 32.0, null, null, null, null, null, null, null, null, null, null, null, null, null, null, null, null, null, null, null, null, null, null, null, null], \"yaxis\": \"y\"}, {\"legendgroup\": \"Single\", \"line\": {\"color\": \"red\"}, \"marker\": {\"color\": \"red\", \"symbol\": \"triangle-up-open\"}, \"mode\": \"markers+lines\", \"name\": \"Single\", \"type\": \"scatter\", \"x\": [0, 1, 2, 3, 4, 5, 6, 7, 8, 9, 10, 11, 12, 13, 14, 15, 16, 17, 18, 19, 20, 21, 22, 23, 24, 25, 26, 27, 28, 29, 30, 31, 32, 33, 34, 35, 36, 37, 38, 39, 40, 41, 42, 43, 44, 45, 46, 47, 48, 49, 50, 51, 52, 53, 54, 55, 56, 57, 58, 59, 60, 61, 62, 63, 64, 65, 66, 67, 68, 69, 70, 71, 72, 73, 74, 75, 76, 77, 78, 79, 80, 81, 82, 83, 84, 85, 86, 87, 88, 89, 90, 91, 92, 93, 94, 95], \"xaxis\": \"x\", \"y\": [30.0, 21.0, 29.0, 31.0, 40.0, 48.0, 53.0, 47.0, 37.0, 39.0, 31.0, 29.0, 17.0, 9.0, 20.0, 24.0, 27.0, 35.0, 41.0, 38.0, 27.0, 31.0, 27.0, 26.0, 21.0, 13.0, 21.0, 18.0, 33.0, 35.0, 40.0, 36.0, 22.0, 24.0, 21.0, 20.0, 17.0, 14.0, 17.0, 19.0, 26.0, 29.0, 40.0, 31.0, 20.0, 24.0, 18.0, 26.0, 17.0, 9.0, 17.0, 21.0, 28.0, 32.0, 46.0, 33.0, 23.0, 28.0, 22.0, 27.0, 18.0, 8.0, 17.0, 21.0, 31.0, 34.0, 44.0, 38.0, 31.0, 30.0, 26.0, 32.0, 32.0, null, null, null, null, null, null, null, null, null, null, null, null, null, null, null, null, null, null, null, null, null, null, null], \"yaxis\": \"y\"}, {\"legendgroup\": \"Double\", \"line\": {\"color\": \"blue\"}, \"marker\": {\"color\": \"blue\", \"symbol\": \"circle-open\"}, \"mode\": \"markers+lines\", \"name\": \"Double\", \"type\": \"scatter\", \"x\": [0, 1, 2, 3, 4, 5, 6, 7, 8, 9, 10, 11, 12, 13, 14, 15, 16, 17, 18, 19, 20, 21, 22, 23, 24, 25, 26, 27, 28, 29, 30, 31, 32, 33, 34, 35, 36, 37, 38, 39, 40, 41, 42, 43, 44, 45, 46, 47, 48, 49, 50, 51, 52, 53, 54, 55, 56, 57, 58, 59, 60, 61, 62, 63, 64, 65, 66, 67, 68, 69, 70, 71, 72, 73, 74, 75, 76, 77, 78, 79, 80, 81, 82, 83, 84, 85, 86, 87, 88, 89, 90, 91, 92, 93, 94, 95], \"xaxis\": \"x\", \"y\": [30.0, 21.0, 29.0, 31.0, 40.0, 48.0, 53.0, 47.0, 37.0, 39.0, 31.0, 29.0, 17.0, 9.0, 20.0, 24.0, 27.0, 35.0, 41.0, 38.0, 27.0, 31.0, 27.0, 26.0, 21.0, 13.0, 21.0, 18.0, 33.0, 35.0, 40.0, 36.0, 22.0, 24.0, 21.0, 20.0, 17.0, 14.0, 17.0, 19.0, 26.0, 29.0, 40.0, 31.0, 20.0, 24.0, 18.0, 26.0, 17.0, 9.0, 17.0, 21.0, 28.0, 32.0, 46.0, 33.0, 23.0, 28.0, 22.0, 27.0, 18.0, 8.0, 17.0, 21.0, 31.0, 34.0, 44.0, 38.0, 31.0, 30.0, 26.0, 32.0, 32.0, 32.0, null, null, null, null, null, null, null, null, null, null, null, null, null, null, null, null, null, null, null, null, null, null], \"yaxis\": \"y\"}, {\"legendgroup\": \"Triple\", \"line\": {\"color\": \"green\"}, \"marker\": {\"color\": \"green\", \"symbol\": \"square-open\"}, \"mode\": \"markers+lines\", \"name\": \"Triple\", \"type\": \"scatter\", \"x\": [0, 1, 2, 3, 4, 5, 6, 7, 8, 9, 10, 11, 12, 13, 14, 15, 16, 17, 18, 19, 20, 21, 22, 23, 24, 25, 26, 27, 28, 29, 30, 31, 32, 33, 34, 35, 36, 37, 38, 39, 40, 41, 42, 43, 44, 45, 46, 47, 48, 49, 50, 51, 52, 53, 54, 55, 56, 57, 58, 59, 60, 61, 62, 63, 64, 65, 66, 67, 68, 69, 70, 71, 72, 73, 74, 75, 76, 77, 78, 79, 80, 81, 82, 83, 84, 85, 86, 87, 88, 89, 90, 91, 92, 93, 94, 95], \"xaxis\": \"x\", \"y\": [30.0, 20.269273643431696, 28.329886819059745, 30.393974473398515, 39.466237191896056, 47.56827424486232, 52.645436975709224, 46.7313145434998, 36.82254943483808, 38.909230096760346, 30.973712456280165, 29.002588053850157, 16.98937135329311, 8.920154191096092, 19.870386915615374, 23.83296421177261, 26.7458816671261, 34.6580888625858, 40.578731633923496, 37.524732268422476, 26.465647243229746, 30.426198197322638, 26.422738551848553, 25.431701579749102, 20.499891902869628, 12.570844589255628, 20.62005273778901, 17.61562317393032, 32.706402600985506, 34.749014587504846, 39.78211017749313, 35.805080688116476, 21.801669714012423, 23.77964750824058, 20.76284379354318, 19.74357377306489, 16.738235050636643, 13.77085496133206, 16.762805644391698, 18.79289478022771, 25.75930106628253, 28.733736240166778, 39.75582765192224, 30.738902080176448, 19.74613983929249, 23.769275750262718, 17.76864161471575, 25.83842994126295, 16.859808463347058, 8.841091224175358, 16.86113670479981, 20.896181518428357, 27.92987740318539, 31.969616000962795, 46.03090347801392, 33.05803496860819, 23.090352468784538, 28.127743250092408, 22.162023144435572, 27.169957103248443, 18.175395380004346, 8.162475993591874, 17.15513967801981, 21.14582913272315, 31.158435333275936, 34.16161512648273, 44.132360329623516, 38.15767404003458, 31.205798988752733, 30.20585780848108, 26.221264276756663, 32.243993327366596, 20.19443736247527, 10.275954696249991, 19.364808345596774, 23.46297254024022, 33.54853053433088, 36.630908735214746, 46.742541732957825, 40.828861020289835, 33.8670553589037, 32.90519087778922, 28.92791992839915, 34.92791992839915, 23.12235729087442, 13.20387462464914, 22.292728273995923, 26.390892468639368, 36.47645046273003, 39.558828663613895, 49.670461661356974, 43.756780948688984, 36.79497528730285, 35.833110806188365, 31.855839856798298, 37.8558398567983], \"yaxis\": \"y\"}, {\"line\": {\"color\": \"black\"}, \"marker\": {\"color\": \"black\", \"symbol\": \"star\"}, \"mode\": \"markers+lines\", \"name\": \"Data\", \"showlegend\": true, \"type\": \"scatter\", \"x\": [0, 1, 2, 3, 4, 5, 6, 7, 8, 9, 10, 11, 12, 13, 14, 15, 16, 17, 18, 19, 20, 21, 22, 23, 24, 25, 26, 27, 28, 29, 30, 31, 32, 33, 34, 35, 36, 37, 38, 39, 40, 41, 42, 43, 44, 45, 46, 47, 48, 49, 50, 51, 52, 53, 54, 55, 56, 57, 58, 59, 60, 61, 62, 63, 64, 65, 66, 67, 68, 69, 70, 71, 72, 73, 74, 75, 76, 77, 78, 79, 80, 81, 82, 83, 84, 85, 86, 87, 88, 89, 90, 91, 92, 93, 94, 95], \"xaxis\": \"x2\", \"y\": [30.0, 21.0, 29.0, 31.0, 40.0, 48.0, 53.0, 47.0, 37.0, 39.0, 31.0, 29.0, 17.0, 9.0, 20.0, 24.0, 27.0, 35.0, 41.0, 38.0, 27.0, 31.0, 27.0, 26.0, 21.0, 13.0, 21.0, 18.0, 33.0, 35.0, 40.0, 36.0, 22.0, 24.0, 21.0, 20.0, 17.0, 14.0, 17.0, 19.0, 26.0, 29.0, 40.0, 31.0, 20.0, 24.0, 18.0, 26.0, 17.0, 9.0, 17.0, 21.0, 28.0, 32.0, 46.0, 33.0, 23.0, 28.0, 22.0, 27.0, 18.0, 8.0, 17.0, 21.0, 31.0, 34.0, 44.0, 38.0, 31.0, 30.0, 26.0, 32.0, null, null, null, null, null, null, null, null, null, null, null, null, null, null, null, null, null, null, null, null, null, null, null, null], \"yaxis\": \"y2\"}, {\"legendgroup\": \"Single\", \"line\": {\"color\": \"red\"}, \"marker\": {\"color\": \"red\", \"symbol\": \"triangle-up-open\"}, \"mode\": \"markers+lines\", \"name\": \"Single Error\", \"type\": \"scatter\", \"x\": [0, 1, 2, 3, 4, 5, 6, 7, 8, 9, 10, 11, 12, 13, 14, 15, 16, 17, 18, 19, 20, 21, 22, 23, 24, 25, 26, 27, 28, 29, 30, 31, 32, 33, 34, 35, 36, 37, 38, 39, 40, 41, 42, 43, 44, 45, 46, 47, 48, 49, 50, 51, 52, 53, 54, 55, 56, 57, 58, 59, 60, 61, 62, 63, 64, 65, 66, 67, 68, 69, 70, 71, 72, 73, 74, 75, 76, 77, 78, 79, 80, 81, 82, 83, 84, 85, 86, 87, 88, 89, 90, 91, 92, 93, 94, 95], \"xaxis\": \"x2\", \"y\": [0.0, 0.0, 0.0, 0.0, 0.0, 0.0, 0.0, 0.0, 0.0, 0.0, 0.0, 0.0, 0.0, 0.0, 0.0, 0.0, 0.0, 0.0, 0.0, 0.0, 0.0, 0.0, 0.0, 0.0, 0.0, 0.0, 0.0, 0.0, 0.0, 0.0, 0.0, 0.0, 0.0, 0.0, 0.0, 0.0, 0.0, 0.0, 0.0, 0.0, 0.0, 0.0, 0.0, 0.0, 0.0, 0.0, 0.0, 0.0, 0.0, 0.0, 0.0, 0.0, 0.0, 0.0, 0.0, 0.0, 0.0, 0.0, 0.0, 0.0, 0.0, 0.0, 0.0, 0.0, 0.0, 0.0, 0.0, 0.0, 0.0, 0.0, 0.0, 0.0, null, null, null, null, null, null, null, null, null, null, null, null, null, null, null, null, null, null, null, null, null, null, null, null], \"yaxis\": \"y2\"}, {\"legendgroup\": \"Double\", \"line\": {\"color\": \"blue\"}, \"marker\": {\"color\": \"blue\", \"symbol\": \"circle-open\"}, \"mode\": \"markers+lines\", \"name\": \"Double Error\", \"type\": \"scatter\", \"x\": [0, 1, 2, 3, 4, 5, 6, 7, 8, 9, 10, 11, 12, 13, 14, 15, 16, 17, 18, 19, 20, 21, 22, 23, 24, 25, 26, 27, 28, 29, 30, 31, 32, 33, 34, 35, 36, 37, 38, 39, 40, 41, 42, 43, 44, 45, 46, 47, 48, 49, 50, 51, 52, 53, 54, 55, 56, 57, 58, 59, 60, 61, 62, 63, 64, 65, 66, 67, 68, 69, 70, 71, 72, 73, 74, 75, 76, 77, 78, 79, 80, 81, 82, 83, 84, 85, 86, 87, 88, 89, 90, 91, 92, 93, 94, 95], \"xaxis\": \"x2\", \"y\": [0.0, 0.0, 0.0, 0.0, 0.0, 0.0, 0.0, 0.0, 0.0, 0.0, 0.0, 0.0, 0.0, 0.0, 0.0, 0.0, 0.0, 0.0, 0.0, 0.0, 0.0, 0.0, 0.0, 0.0, 0.0, 0.0, 0.0, 0.0, 0.0, 0.0, 0.0, 0.0, 0.0, 0.0, 0.0, 0.0, 0.0, 0.0, 0.0, 0.0, 0.0, 0.0, 0.0, 0.0, 0.0, 0.0, 0.0, 0.0, 0.0, 0.0, 0.0, 0.0, 0.0, 0.0, 0.0, 0.0, 0.0, 0.0, 0.0, 0.0, 0.0, 0.0, 0.0, 0.0, 0.0, 0.0, 0.0, 0.0, 0.0, 0.0, 0.0, 0.0, null, null, null, null, null, null, null, null, null, null, null, null, null, null, null, null, null, null, null, null, null, null, null, null], \"yaxis\": \"y2\"}, {\"legendgroup\": \"Triple\", \"line\": {\"color\": \"green\"}, \"marker\": {\"color\": \"green\", \"symbol\": \"square-open\"}, \"mode\": \"markers+lines\", \"name\": \"Triple Error\", \"type\": \"scatter\", \"x\": [0, 1, 2, 3, 4, 5, 6, 7, 8, 9, 10, 11, 12, 13, 14, 15, 16, 17, 18, 19, 20, 21, 22, 23, 24, 25, 26, 27, 28, 29, 30, 31, 32, 33, 34, 35, 36, 37, 38, 39, 40, 41, 42, 43, 44, 45, 46, 47, 48, 49, 50, 51, 52, 53, 54, 55, 56, 57, 58, 59, 60, 61, 62, 63, 64, 65, 66, 67, 68, 69, 70, 71, 72, 73, 74, 75, 76, 77, 78, 79, 80, 81, 82, 83, 84, 85, 86, 87, 88, 89, 90, 91, 92, 93, 94, 95], \"xaxis\": \"x2\", \"y\": [0.0, 0.7307263565683044, 0.6701131809402554, 0.6060255266014849, 0.533762808103944, 0.43172575513767697, 0.35456302429077624, 0.2686854565002008, 0.17745056516191937, 0.09076990323965362, 0.026287543719835327, 0.002588053850157479, 0.010628646706891232, 0.07984580890390802, 0.12961308438462638, 0.16703578822739118, 0.25411833287390095, 0.34191113741420054, 0.42126836607650375, 0.47526773157752444, 0.5343527567702537, 0.5738018026773624, 0.5772614481514466, 0.5682984202508976, 0.5001080971303722, 0.4291554107443716, 0.3799472622109903, 0.3843768260696798, 0.29359739901449444, 0.2509854124951545, 0.21788982250686928, 0.19491931188352396, 0.19833028598757707, 0.22035249175942084, 0.23715620645682023, 0.2564262269351083, 0.26176494936335715, 0.22914503866794078, 0.2371943556083025, 0.20710521977229135, 0.24069893371747142, 0.2662637598332225, 0.24417234807776111, 0.2610979198235519, 0.25386016070751083, 0.2307242497372819, 0.23135838528424912, 0.16157005873704833, 0.14019153665294226, 0.15890877582464213, 0.13886329520018847, 0.10381848157164342, 0.07012259681460975, 0.030383999037205456, 0.030903478013918573, 0.05803496860819024, 0.09035246878453762, 0.12774325009240783, 0.16202314443557242, 0.16995710324844282, 0.17539538000434618, 0.16247599359187426, 0.1551396780198111, 0.14582913272315068, 0.15843533327593562, 0.16161512648272947, 0.1323603296235163, 0.1576740400345784, 0.20579898875273273, 0.20585780848108115, 0.2212642767566635, 0.24399332736659574, null, null, null, null, null, null, null, null, null, null, null, null, null, null, null, null, null, null, null, null, null, null, null, null], \"yaxis\": \"y2\"}],\n",
       "                        {\"annotations\": [{\"font\": {\"size\": 16}, \"showarrow\": false, \"text\": \"Predictions / Forecasts\", \"x\": 0.5, \"xanchor\": \"center\", \"xref\": \"paper\", \"y\": 1.0, \"yanchor\": \"bottom\", \"yref\": \"paper\"}, {\"font\": {\"size\": 16}, \"showarrow\": false, \"text\": \"Errors\", \"x\": 0.5, \"xanchor\": \"center\", \"xref\": \"paper\", \"y\": 0.375, \"yanchor\": \"bottom\", \"yref\": \"paper\"}], \"height\": 800, \"template\": {\"data\": {\"bar\": [{\"error_x\": {\"color\": \"#2a3f5f\"}, \"error_y\": {\"color\": \"#2a3f5f\"}, \"marker\": {\"line\": {\"color\": \"#E5ECF6\", \"width\": 0.5}}, \"type\": \"bar\"}], \"barpolar\": [{\"marker\": {\"line\": {\"color\": \"#E5ECF6\", \"width\": 0.5}}, \"type\": \"barpolar\"}], \"carpet\": [{\"aaxis\": {\"endlinecolor\": \"#2a3f5f\", \"gridcolor\": \"white\", \"linecolor\": \"white\", \"minorgridcolor\": \"white\", \"startlinecolor\": \"#2a3f5f\"}, \"baxis\": {\"endlinecolor\": \"#2a3f5f\", \"gridcolor\": \"white\", \"linecolor\": \"white\", \"minorgridcolor\": \"white\", \"startlinecolor\": \"#2a3f5f\"}, \"type\": \"carpet\"}], \"choropleth\": [{\"colorbar\": {\"outlinewidth\": 0, \"ticks\": \"\"}, \"type\": \"choropleth\"}], \"contour\": [{\"colorbar\": {\"outlinewidth\": 0, \"ticks\": \"\"}, \"colorscale\": [[0.0, \"#0d0887\"], [0.1111111111111111, \"#46039f\"], [0.2222222222222222, \"#7201a8\"], [0.3333333333333333, \"#9c179e\"], [0.4444444444444444, \"#bd3786\"], [0.5555555555555556, \"#d8576b\"], [0.6666666666666666, \"#ed7953\"], [0.7777777777777778, \"#fb9f3a\"], [0.8888888888888888, \"#fdca26\"], [1.0, \"#f0f921\"]], \"type\": \"contour\"}], \"contourcarpet\": [{\"colorbar\": {\"outlinewidth\": 0, \"ticks\": \"\"}, \"type\": \"contourcarpet\"}], \"heatmap\": [{\"colorbar\": {\"outlinewidth\": 0, \"ticks\": \"\"}, \"colorscale\": [[0.0, \"#0d0887\"], [0.1111111111111111, \"#46039f\"], [0.2222222222222222, \"#7201a8\"], [0.3333333333333333, \"#9c179e\"], [0.4444444444444444, \"#bd3786\"], [0.5555555555555556, \"#d8576b\"], [0.6666666666666666, \"#ed7953\"], [0.7777777777777778, \"#fb9f3a\"], [0.8888888888888888, \"#fdca26\"], [1.0, \"#f0f921\"]], \"type\": \"heatmap\"}], \"heatmapgl\": [{\"colorbar\": {\"outlinewidth\": 0, \"ticks\": \"\"}, \"colorscale\": [[0.0, \"#0d0887\"], [0.1111111111111111, \"#46039f\"], [0.2222222222222222, \"#7201a8\"], [0.3333333333333333, \"#9c179e\"], [0.4444444444444444, \"#bd3786\"], [0.5555555555555556, \"#d8576b\"], [0.6666666666666666, \"#ed7953\"], [0.7777777777777778, \"#fb9f3a\"], [0.8888888888888888, \"#fdca26\"], [1.0, \"#f0f921\"]], \"type\": \"heatmapgl\"}], \"histogram\": [{\"marker\": {\"colorbar\": {\"outlinewidth\": 0, \"ticks\": \"\"}}, \"type\": \"histogram\"}], \"histogram2d\": [{\"colorbar\": {\"outlinewidth\": 0, \"ticks\": \"\"}, \"colorscale\": [[0.0, \"#0d0887\"], [0.1111111111111111, \"#46039f\"], [0.2222222222222222, \"#7201a8\"], [0.3333333333333333, \"#9c179e\"], [0.4444444444444444, \"#bd3786\"], [0.5555555555555556, \"#d8576b\"], [0.6666666666666666, \"#ed7953\"], [0.7777777777777778, \"#fb9f3a\"], [0.8888888888888888, \"#fdca26\"], [1.0, \"#f0f921\"]], \"type\": \"histogram2d\"}], \"histogram2dcontour\": [{\"colorbar\": {\"outlinewidth\": 0, \"ticks\": \"\"}, \"colorscale\": [[0.0, \"#0d0887\"], [0.1111111111111111, \"#46039f\"], [0.2222222222222222, \"#7201a8\"], [0.3333333333333333, \"#9c179e\"], [0.4444444444444444, \"#bd3786\"], [0.5555555555555556, \"#d8576b\"], [0.6666666666666666, \"#ed7953\"], [0.7777777777777778, \"#fb9f3a\"], [0.8888888888888888, \"#fdca26\"], [1.0, \"#f0f921\"]], \"type\": \"histogram2dcontour\"}], \"mesh3d\": [{\"colorbar\": {\"outlinewidth\": 0, \"ticks\": \"\"}, \"type\": \"mesh3d\"}], \"parcoords\": [{\"line\": {\"colorbar\": {\"outlinewidth\": 0, \"ticks\": \"\"}}, \"type\": \"parcoords\"}], \"pie\": [{\"automargin\": true, \"type\": \"pie\"}], \"scatter\": [{\"marker\": {\"colorbar\": {\"outlinewidth\": 0, \"ticks\": \"\"}}, \"type\": \"scatter\"}], \"scatter3d\": [{\"line\": {\"colorbar\": {\"outlinewidth\": 0, \"ticks\": \"\"}}, \"marker\": {\"colorbar\": {\"outlinewidth\": 0, \"ticks\": \"\"}}, \"type\": \"scatter3d\"}], \"scattercarpet\": [{\"marker\": {\"colorbar\": {\"outlinewidth\": 0, \"ticks\": \"\"}}, \"type\": \"scattercarpet\"}], \"scattergeo\": [{\"marker\": {\"colorbar\": {\"outlinewidth\": 0, \"ticks\": \"\"}}, \"type\": \"scattergeo\"}], \"scattergl\": [{\"marker\": {\"colorbar\": {\"outlinewidth\": 0, \"ticks\": \"\"}}, \"type\": \"scattergl\"}], \"scattermapbox\": [{\"marker\": {\"colorbar\": {\"outlinewidth\": 0, \"ticks\": \"\"}}, \"type\": \"scattermapbox\"}], \"scatterpolar\": [{\"marker\": {\"colorbar\": {\"outlinewidth\": 0, \"ticks\": \"\"}}, \"type\": \"scatterpolar\"}], \"scatterpolargl\": [{\"marker\": {\"colorbar\": {\"outlinewidth\": 0, \"ticks\": \"\"}}, \"type\": \"scatterpolargl\"}], \"scatterternary\": [{\"marker\": {\"colorbar\": {\"outlinewidth\": 0, \"ticks\": \"\"}}, \"type\": \"scatterternary\"}], \"surface\": [{\"colorbar\": {\"outlinewidth\": 0, \"ticks\": \"\"}, \"colorscale\": [[0.0, \"#0d0887\"], [0.1111111111111111, \"#46039f\"], [0.2222222222222222, \"#7201a8\"], [0.3333333333333333, \"#9c179e\"], [0.4444444444444444, \"#bd3786\"], [0.5555555555555556, \"#d8576b\"], [0.6666666666666666, \"#ed7953\"], [0.7777777777777778, \"#fb9f3a\"], [0.8888888888888888, \"#fdca26\"], [1.0, \"#f0f921\"]], \"type\": \"surface\"}], \"table\": [{\"cells\": {\"fill\": {\"color\": \"#EBF0F8\"}, \"line\": {\"color\": \"white\"}}, \"header\": {\"fill\": {\"color\": \"#C8D4E3\"}, \"line\": {\"color\": \"white\"}}, \"type\": \"table\"}]}, \"layout\": {\"annotationdefaults\": {\"arrowcolor\": \"#2a3f5f\", \"arrowhead\": 0, \"arrowwidth\": 1}, \"coloraxis\": {\"colorbar\": {\"outlinewidth\": 0, \"ticks\": \"\"}}, \"colorscale\": {\"diverging\": [[0, \"#8e0152\"], [0.1, \"#c51b7d\"], [0.2, \"#de77ae\"], [0.3, \"#f1b6da\"], [0.4, \"#fde0ef\"], [0.5, \"#f7f7f7\"], [0.6, \"#e6f5d0\"], [0.7, \"#b8e186\"], [0.8, \"#7fbc41\"], [0.9, \"#4d9221\"], [1, \"#276419\"]], \"sequential\": [[0.0, \"#0d0887\"], [0.1111111111111111, \"#46039f\"], [0.2222222222222222, \"#7201a8\"], [0.3333333333333333, \"#9c179e\"], [0.4444444444444444, \"#bd3786\"], [0.5555555555555556, \"#d8576b\"], [0.6666666666666666, \"#ed7953\"], [0.7777777777777778, \"#fb9f3a\"], [0.8888888888888888, \"#fdca26\"], [1.0, \"#f0f921\"]], \"sequentialminus\": [[0.0, \"#0d0887\"], [0.1111111111111111, \"#46039f\"], [0.2222222222222222, \"#7201a8\"], [0.3333333333333333, \"#9c179e\"], [0.4444444444444444, \"#bd3786\"], [0.5555555555555556, \"#d8576b\"], [0.6666666666666666, \"#ed7953\"], [0.7777777777777778, \"#fb9f3a\"], [0.8888888888888888, \"#fdca26\"], [1.0, \"#f0f921\"]]}, \"colorway\": [\"#636efa\", \"#EF553B\", \"#00cc96\", \"#ab63fa\", \"#FFA15A\", \"#19d3f3\", \"#FF6692\", \"#B6E880\", \"#FF97FF\", \"#FECB52\"], \"font\": {\"color\": \"#2a3f5f\"}, \"geo\": {\"bgcolor\": \"white\", \"lakecolor\": \"white\", \"landcolor\": \"#E5ECF6\", \"showlakes\": true, \"showland\": true, \"subunitcolor\": \"white\"}, \"hoverlabel\": {\"align\": \"left\"}, \"hovermode\": \"closest\", \"mapbox\": {\"style\": \"light\"}, \"paper_bgcolor\": \"white\", \"plot_bgcolor\": \"#E5ECF6\", \"polar\": {\"angularaxis\": {\"gridcolor\": \"white\", \"linecolor\": \"white\", \"ticks\": \"\"}, \"bgcolor\": \"#E5ECF6\", \"radialaxis\": {\"gridcolor\": \"white\", \"linecolor\": \"white\", \"ticks\": \"\"}}, \"scene\": {\"xaxis\": {\"backgroundcolor\": \"#E5ECF6\", \"gridcolor\": \"white\", \"gridwidth\": 2, \"linecolor\": \"white\", \"showbackground\": true, \"ticks\": \"\", \"zerolinecolor\": \"white\"}, \"yaxis\": {\"backgroundcolor\": \"#E5ECF6\", \"gridcolor\": \"white\", \"gridwidth\": 2, \"linecolor\": \"white\", \"showbackground\": true, \"ticks\": \"\", \"zerolinecolor\": \"white\"}, \"zaxis\": {\"backgroundcolor\": \"#E5ECF6\", \"gridcolor\": \"white\", \"gridwidth\": 2, \"linecolor\": \"white\", \"showbackground\": true, \"ticks\": \"\", \"zerolinecolor\": \"white\"}}, \"shapedefaults\": {\"line\": {\"color\": \"#2a3f5f\"}}, \"ternary\": {\"aaxis\": {\"gridcolor\": \"white\", \"linecolor\": \"white\", \"ticks\": \"\"}, \"baxis\": {\"gridcolor\": \"white\", \"linecolor\": \"white\", \"ticks\": \"\"}, \"bgcolor\": \"#E5ECF6\", \"caxis\": {\"gridcolor\": \"white\", \"linecolor\": \"white\", \"ticks\": \"\"}}, \"title\": {\"x\": 0.05}, \"xaxis\": {\"automargin\": true, \"gridcolor\": \"white\", \"linecolor\": \"white\", \"ticks\": \"\", \"title\": {\"standoff\": 15}, \"zerolinecolor\": \"white\", \"zerolinewidth\": 2}, \"yaxis\": {\"automargin\": true, \"gridcolor\": \"white\", \"linecolor\": \"white\", \"ticks\": \"\", \"title\": {\"standoff\": 15}, \"zerolinecolor\": \"white\", \"zerolinewidth\": 2}}}, \"title\": {\"text\": \"Data, Predictions, Forecasts, and Absolute Errors\"}, \"xaxis\": {\"anchor\": \"y\", \"domain\": [0.0, 1.0]}, \"xaxis2\": {\"anchor\": \"y2\", \"domain\": [0.0, 1.0]}, \"yaxis\": {\"anchor\": \"x\", \"domain\": [0.625, 1.0]}, \"yaxis2\": {\"anchor\": \"x2\", \"domain\": [0.0, 0.375]}},\n",
       "                        {\"responsive\": true}\n",
       "                    ).then(function(){\n",
       "                            \n",
       "var gd = document.getElementById('2243379b-df5c-4417-908b-ba814dfb33a8');\n",
       "var x = new MutationObserver(function (mutations, observer) {{\n",
       "        var display = window.getComputedStyle(gd).display;\n",
       "        if (!display || display === 'none') {{\n",
       "            console.log([gd, 'removed!']);\n",
       "            Plotly.purge(gd);\n",
       "            observer.disconnect();\n",
       "        }}\n",
       "}});\n",
       "\n",
       "// Listen for the removal of the full notebook cells\n",
       "var notebookContainer = gd.closest('#notebook-container');\n",
       "if (notebookContainer) {{\n",
       "    x.observe(notebookContainer, {childList: true});\n",
       "}}\n",
       "\n",
       "// Listen for the clearing of the current output cell\n",
       "var outputEl = gd.closest('.output');\n",
       "if (outputEl) {{\n",
       "    x.observe(outputEl, {childList: true});\n",
       "}}\n",
       "\n",
       "                        })\n",
       "                };\n",
       "                });\n",
       "            </script>\n",
       "        </div>"
      ]
     },
     "metadata": {},
     "output_type": "display_data"
    }
   ],
   "source": [
    "# plot the data & forecasts & error\n",
    "fig = plysub.make_subplots(rows=2, cols=1, print_grid=False, subplot_titles=('Predictions / Forecasts', 'Errors'))\n",
    "fig['layout'].update(title='Data, Predictions, Forecasts, and Absolute Errors', height=800)\n",
    "# forecasts + data\n",
    "fig.append_trace(go.Scatter(x=results.index, y=results['Data'], mode='markers+lines', name='Data',\n",
    "                            marker={'color':'black', 'symbol':'star'}, line={'color':'black'}), 1, 1)\n",
    "fig.append_trace(go.Scatter(x=results.index, y=results['ES_Sing'], mode='markers+lines', name='Single',\n",
    "                            marker={'color':'red', 'symbol':'triangle-up-open'}, line={'color':'red'},\n",
    "                            legendgroup='Single'), 1, 1)\n",
    "fig.append_trace(go.Scatter(x=results.index, y=results['ES_Doub'], mode='markers+lines', name='Double',\n",
    "                            marker={'color':'blue', 'symbol':'circle-open'}, line={'color':'blue'},\n",
    "                            legendgroup='Double'), 1, 1)\n",
    "fig.append_trace(go.Scatter(x=results.index, y=results['ES_Trip'], mode='markers+lines', name='Triple',\n",
    "                  marker={'color':'green', 'symbol':'square-open'}, line={'color':'green'},\n",
    "                            legendgroup='Triple'), 1, 1)\n",
    "# errors + data\n",
    "fig.append_trace(go.Scatter(x=results.index, y=results['Data'], mode='markers+lines', name='Data',\n",
    "                            marker={'color':'black', 'symbol':'star'}, line={'color':'black'},\n",
    "                            showlegend=True), 2, 1)\n",
    "fig.append_trace(go.Scatter(x=results.index, y=results['ESErr_Sing'].abs(), mode='markers+lines', legendgroup='Single',\n",
    "                            marker={'color':'red', 'symbol':'triangle-up-open'}, line={'color':'red'},\n",
    "                            name='Single Error'), 2, 1)\n",
    "fig.append_trace(go.Scatter(x=results.index, y=results['ESErr_Doub'].abs(), mode='markers+lines', legendgroup='Double',\n",
    "                            marker={'color':'blue', 'symbol':'circle-open'}, line={'color':'blue'},\n",
    "                            name='Double Error'), 2, 1)\n",
    "fig.append_trace(go.Scatter(x=results.index, y=results['ESErr_Trip'].abs(), mode='markers+lines', legendgroup='Triple',\n",
    "                            marker={'color':'green', 'symbol':'square-open'}, line={'color':'green'},\n",
    "                            name='Triple Error'), 2, 1)\n",
    "\n",
    "plyoff.iplot(fig)"
   ]
  },
  {
   "cell_type": "code",
   "execution_count": null,
   "metadata": {},
   "outputs": [],
   "source": []
  }
 ],
 "metadata": {
  "kernelspec": {
   "display_name": "Python 3",
   "language": "python",
   "name": "python3"
  },
  "language_info": {
   "codemirror_mode": {
    "name": "ipython",
    "version": 3
   },
   "file_extension": ".py",
   "mimetype": "text/x-python",
   "name": "python",
   "nbconvert_exporter": "python",
   "pygments_lexer": "ipython3",
   "version": "3.7.7"
  }
 },
 "nbformat": 4,
 "nbformat_minor": 4
}
